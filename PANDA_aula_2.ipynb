{
  "nbformat": 4,
  "nbformat_minor": 0,
  "metadata": {
    "colab": {
      "name": "PANDA aula 2.ipynb",
      "provenance": [],
      "collapsed_sections": []
    },
    "kernelspec": {
      "name": "python3",
      "display_name": "Python 3"
    }
  },
  "cells": [
    {
      "cell_type": "markdown",
      "metadata": {
        "id": "FDjTwdBDUIzT",
        "colab_type": "text"
      },
      "source": [
        "# Bem vindos à segunda aula do PANDA!!\n",
        "\n",
        "Você pode pegar todos os códigos e slides dessa aula no Github: https://github.com/vccolombo/PANDA-aula2 <br />\n",
        "Você pode entrar em contato comigo por email: victorcora98@gmail.com <br />\n",
        "Ou diretamente pelo Telegram: @vccolombo"
      ]
    },
    {
      "cell_type": "markdown",
      "metadata": {
        "id": "tJltu8xzVF0R",
        "colab_type": "text"
      },
      "source": [
        "É ideal que sua primeira célula do notebook seja sempre seus imports! <br />\n",
        "Evite dar imports no meio do código, prefira voltar na primeira célula e adicionar o novo import aqui. **Não esqueça de rodar novamente** <br /> <br />\n",
        "Dicas: \n",
        "- Você pode rodar a célula atual pressionando **Ctrl + enter**\n",
        "- Você pode rodar a célula atual **e ir para a próxima célula** apertando **Shift + enter**\n",
        "- Você pode rodar novamente todo o seu código apertando **Ctrl + F9**\n",
        "- Você pode ativar a correção automática de bugs apertando **F13**"
      ]
    },
    {
      "cell_type": "code",
      "metadata": {
        "id": "AwLKNaWTOwLO",
        "colab_type": "code",
        "colab": {}
      },
      "source": [
        "import pandas as pd\n",
        "import numpy as np\n",
        "import matplotlib.pyplot as plt\n",
        "import seaborn as sns\n",
        "from sklearn.model_selection import train_test_split\n",
        "from sklearn.tree import DecisionTreeClassifier, export_graphviz\n",
        "from sklearn.preprocessing import LabelEncoder\n",
        "from sklearn.metrics import accuracy_score\n",
        "from sklearn.model_selection import GridSearchCV\n",
        "import graphviz\n",
        "from IPython.display import display, Image\n",
        "import pydotplus"
      ],
      "execution_count": 0,
      "outputs": []
    },
    {
      "cell_type": "markdown",
      "metadata": {
        "id": "K1FHzCUSbwn-",
        "colab_type": "text"
      },
      "source": [
        "# Como ler arquivos no Pandas?\n",
        "\n",
        "No Google Colab:\n",
        "https://towardsdatascience.com/3-ways-to-load-csv-files-into-colab-7c14fcbdcb92"
      ]
    },
    {
      "cell_type": "code",
      "metadata": {
        "id": "P3azew9POzhX",
        "colab_type": "code",
        "colab": {}
      },
      "source": [
        "url = \"https://raw.githubusercontent.com/vccolombo/PANDA-aula2/master/data/train.csv\"\n",
        "df_raw = pd.read_csv(url)"
      ],
      "execution_count": 0,
      "outputs": []
    },
    {
      "cell_type": "markdown",
      "metadata": {
        "id": "yg5aUXa4C07v",
        "colab_type": "text"
      },
      "source": [
        "# Primeiro de tudo\n",
        "\n",
        "O primeiro passo sempre deve ser ter uma visão básica dos seus dados!\n",
        "\n",
        "1. Visão geral dos seus dados: quantas colunas, o que elas contêm, tipos de dados\n",
        "2. Dados faltando ou inconsistentes: NaN e outliers\n",
        "3. Seu objetivo: o que você está tentando prever?\n",
        "\n",
        "Pela primeira vez veremos dados não numéricos, então prepare-se."
      ]
    },
    {
      "cell_type": "code",
      "metadata": {
        "id": "oXM2kg0ATebj",
        "colab_type": "code",
        "outputId": "28ccaa13-a85c-42e8-e246-3a03cf7209ac",
        "colab": {
          "base_uri": "https://localhost:8080/",
          "height": 206
        }
      },
      "source": [
        "df_raw.head() # Mostra os primeiros elementos do DF"
      ],
      "execution_count": 3,
      "outputs": [
        {
          "output_type": "execute_result",
          "data": {
            "text/html": [
              "<div>\n",
              "<style scoped>\n",
              "    .dataframe tbody tr th:only-of-type {\n",
              "        vertical-align: middle;\n",
              "    }\n",
              "\n",
              "    .dataframe tbody tr th {\n",
              "        vertical-align: top;\n",
              "    }\n",
              "\n",
              "    .dataframe thead th {\n",
              "        text-align: right;\n",
              "    }\n",
              "</style>\n",
              "<table border=\"1\" class=\"dataframe\">\n",
              "  <thead>\n",
              "    <tr style=\"text-align: right;\">\n",
              "      <th></th>\n",
              "      <th>PassengerId</th>\n",
              "      <th>Survived</th>\n",
              "      <th>Pclass</th>\n",
              "      <th>Name</th>\n",
              "      <th>Sex</th>\n",
              "      <th>Age</th>\n",
              "      <th>SibSp</th>\n",
              "      <th>Parch</th>\n",
              "      <th>Ticket</th>\n",
              "      <th>Fare</th>\n",
              "      <th>Cabin</th>\n",
              "      <th>Embarked</th>\n",
              "    </tr>\n",
              "  </thead>\n",
              "  <tbody>\n",
              "    <tr>\n",
              "      <th>0</th>\n",
              "      <td>1</td>\n",
              "      <td>0</td>\n",
              "      <td>3</td>\n",
              "      <td>Braund, Mr. Owen Harris</td>\n",
              "      <td>male</td>\n",
              "      <td>22.0</td>\n",
              "      <td>1</td>\n",
              "      <td>0</td>\n",
              "      <td>A/5 21171</td>\n",
              "      <td>7.2500</td>\n",
              "      <td>NaN</td>\n",
              "      <td>S</td>\n",
              "    </tr>\n",
              "    <tr>\n",
              "      <th>1</th>\n",
              "      <td>2</td>\n",
              "      <td>1</td>\n",
              "      <td>1</td>\n",
              "      <td>Cumings, Mrs. John Bradley (Florence Briggs Th...</td>\n",
              "      <td>female</td>\n",
              "      <td>38.0</td>\n",
              "      <td>1</td>\n",
              "      <td>0</td>\n",
              "      <td>PC 17599</td>\n",
              "      <td>71.2833</td>\n",
              "      <td>C85</td>\n",
              "      <td>C</td>\n",
              "    </tr>\n",
              "    <tr>\n",
              "      <th>2</th>\n",
              "      <td>3</td>\n",
              "      <td>1</td>\n",
              "      <td>3</td>\n",
              "      <td>Heikkinen, Miss. Laina</td>\n",
              "      <td>female</td>\n",
              "      <td>26.0</td>\n",
              "      <td>0</td>\n",
              "      <td>0</td>\n",
              "      <td>STON/O2. 3101282</td>\n",
              "      <td>7.9250</td>\n",
              "      <td>NaN</td>\n",
              "      <td>S</td>\n",
              "    </tr>\n",
              "    <tr>\n",
              "      <th>3</th>\n",
              "      <td>4</td>\n",
              "      <td>1</td>\n",
              "      <td>1</td>\n",
              "      <td>Futrelle, Mrs. Jacques Heath (Lily May Peel)</td>\n",
              "      <td>female</td>\n",
              "      <td>35.0</td>\n",
              "      <td>1</td>\n",
              "      <td>0</td>\n",
              "      <td>113803</td>\n",
              "      <td>53.1000</td>\n",
              "      <td>C123</td>\n",
              "      <td>S</td>\n",
              "    </tr>\n",
              "    <tr>\n",
              "      <th>4</th>\n",
              "      <td>5</td>\n",
              "      <td>0</td>\n",
              "      <td>3</td>\n",
              "      <td>Allen, Mr. William Henry</td>\n",
              "      <td>male</td>\n",
              "      <td>35.0</td>\n",
              "      <td>0</td>\n",
              "      <td>0</td>\n",
              "      <td>373450</td>\n",
              "      <td>8.0500</td>\n",
              "      <td>NaN</td>\n",
              "      <td>S</td>\n",
              "    </tr>\n",
              "  </tbody>\n",
              "</table>\n",
              "</div>"
            ],
            "text/plain": [
              "   PassengerId  Survived  Pclass  ...     Fare Cabin  Embarked\n",
              "0            1         0       3  ...   7.2500   NaN         S\n",
              "1            2         1       1  ...  71.2833   C85         C\n",
              "2            3         1       3  ...   7.9250   NaN         S\n",
              "3            4         1       1  ...  53.1000  C123         S\n",
              "4            5         0       3  ...   8.0500   NaN         S\n",
              "\n",
              "[5 rows x 12 columns]"
            ]
          },
          "metadata": {
            "tags": []
          },
          "execution_count": 3
        }
      ]
    },
    {
      "cell_type": "code",
      "metadata": {
        "id": "0cQSM8FMXs7X",
        "colab_type": "code",
        "outputId": "9d9aad26-fea2-404b-8e51-855ccb5df6b4",
        "colab": {
          "base_uri": "https://localhost:8080/",
          "height": 363
        }
      },
      "source": [
        "df_raw.tail(10) # Você pode aumentar o número de elementos retornados passando a quantidade como parâmetro"
      ],
      "execution_count": 4,
      "outputs": [
        {
          "output_type": "execute_result",
          "data": {
            "text/html": [
              "<div>\n",
              "<style scoped>\n",
              "    .dataframe tbody tr th:only-of-type {\n",
              "        vertical-align: middle;\n",
              "    }\n",
              "\n",
              "    .dataframe tbody tr th {\n",
              "        vertical-align: top;\n",
              "    }\n",
              "\n",
              "    .dataframe thead th {\n",
              "        text-align: right;\n",
              "    }\n",
              "</style>\n",
              "<table border=\"1\" class=\"dataframe\">\n",
              "  <thead>\n",
              "    <tr style=\"text-align: right;\">\n",
              "      <th></th>\n",
              "      <th>PassengerId</th>\n",
              "      <th>Survived</th>\n",
              "      <th>Pclass</th>\n",
              "      <th>Name</th>\n",
              "      <th>Sex</th>\n",
              "      <th>Age</th>\n",
              "      <th>SibSp</th>\n",
              "      <th>Parch</th>\n",
              "      <th>Ticket</th>\n",
              "      <th>Fare</th>\n",
              "      <th>Cabin</th>\n",
              "      <th>Embarked</th>\n",
              "    </tr>\n",
              "  </thead>\n",
              "  <tbody>\n",
              "    <tr>\n",
              "      <th>881</th>\n",
              "      <td>882</td>\n",
              "      <td>0</td>\n",
              "      <td>3</td>\n",
              "      <td>Markun, Mr. Johann</td>\n",
              "      <td>male</td>\n",
              "      <td>33.0</td>\n",
              "      <td>0</td>\n",
              "      <td>0</td>\n",
              "      <td>349257</td>\n",
              "      <td>7.8958</td>\n",
              "      <td>NaN</td>\n",
              "      <td>S</td>\n",
              "    </tr>\n",
              "    <tr>\n",
              "      <th>882</th>\n",
              "      <td>883</td>\n",
              "      <td>0</td>\n",
              "      <td>3</td>\n",
              "      <td>Dahlberg, Miss. Gerda Ulrika</td>\n",
              "      <td>female</td>\n",
              "      <td>22.0</td>\n",
              "      <td>0</td>\n",
              "      <td>0</td>\n",
              "      <td>7552</td>\n",
              "      <td>10.5167</td>\n",
              "      <td>NaN</td>\n",
              "      <td>S</td>\n",
              "    </tr>\n",
              "    <tr>\n",
              "      <th>883</th>\n",
              "      <td>884</td>\n",
              "      <td>0</td>\n",
              "      <td>2</td>\n",
              "      <td>Banfield, Mr. Frederick James</td>\n",
              "      <td>male</td>\n",
              "      <td>28.0</td>\n",
              "      <td>0</td>\n",
              "      <td>0</td>\n",
              "      <td>C.A./SOTON 34068</td>\n",
              "      <td>10.5000</td>\n",
              "      <td>NaN</td>\n",
              "      <td>S</td>\n",
              "    </tr>\n",
              "    <tr>\n",
              "      <th>884</th>\n",
              "      <td>885</td>\n",
              "      <td>0</td>\n",
              "      <td>3</td>\n",
              "      <td>Sutehall, Mr. Henry Jr</td>\n",
              "      <td>male</td>\n",
              "      <td>25.0</td>\n",
              "      <td>0</td>\n",
              "      <td>0</td>\n",
              "      <td>SOTON/OQ 392076</td>\n",
              "      <td>7.0500</td>\n",
              "      <td>NaN</td>\n",
              "      <td>S</td>\n",
              "    </tr>\n",
              "    <tr>\n",
              "      <th>885</th>\n",
              "      <td>886</td>\n",
              "      <td>0</td>\n",
              "      <td>3</td>\n",
              "      <td>Rice, Mrs. William (Margaret Norton)</td>\n",
              "      <td>female</td>\n",
              "      <td>39.0</td>\n",
              "      <td>0</td>\n",
              "      <td>5</td>\n",
              "      <td>382652</td>\n",
              "      <td>29.1250</td>\n",
              "      <td>NaN</td>\n",
              "      <td>Q</td>\n",
              "    </tr>\n",
              "    <tr>\n",
              "      <th>886</th>\n",
              "      <td>887</td>\n",
              "      <td>0</td>\n",
              "      <td>2</td>\n",
              "      <td>Montvila, Rev. Juozas</td>\n",
              "      <td>male</td>\n",
              "      <td>27.0</td>\n",
              "      <td>0</td>\n",
              "      <td>0</td>\n",
              "      <td>211536</td>\n",
              "      <td>13.0000</td>\n",
              "      <td>NaN</td>\n",
              "      <td>S</td>\n",
              "    </tr>\n",
              "    <tr>\n",
              "      <th>887</th>\n",
              "      <td>888</td>\n",
              "      <td>1</td>\n",
              "      <td>1</td>\n",
              "      <td>Graham, Miss. Margaret Edith</td>\n",
              "      <td>female</td>\n",
              "      <td>19.0</td>\n",
              "      <td>0</td>\n",
              "      <td>0</td>\n",
              "      <td>112053</td>\n",
              "      <td>30.0000</td>\n",
              "      <td>B42</td>\n",
              "      <td>S</td>\n",
              "    </tr>\n",
              "    <tr>\n",
              "      <th>888</th>\n",
              "      <td>889</td>\n",
              "      <td>0</td>\n",
              "      <td>3</td>\n",
              "      <td>Johnston, Miss. Catherine Helen \"Carrie\"</td>\n",
              "      <td>female</td>\n",
              "      <td>NaN</td>\n",
              "      <td>1</td>\n",
              "      <td>2</td>\n",
              "      <td>W./C. 6607</td>\n",
              "      <td>23.4500</td>\n",
              "      <td>NaN</td>\n",
              "      <td>S</td>\n",
              "    </tr>\n",
              "    <tr>\n",
              "      <th>889</th>\n",
              "      <td>890</td>\n",
              "      <td>1</td>\n",
              "      <td>1</td>\n",
              "      <td>Behr, Mr. Karl Howell</td>\n",
              "      <td>male</td>\n",
              "      <td>26.0</td>\n",
              "      <td>0</td>\n",
              "      <td>0</td>\n",
              "      <td>111369</td>\n",
              "      <td>30.0000</td>\n",
              "      <td>C148</td>\n",
              "      <td>C</td>\n",
              "    </tr>\n",
              "    <tr>\n",
              "      <th>890</th>\n",
              "      <td>891</td>\n",
              "      <td>0</td>\n",
              "      <td>3</td>\n",
              "      <td>Dooley, Mr. Patrick</td>\n",
              "      <td>male</td>\n",
              "      <td>32.0</td>\n",
              "      <td>0</td>\n",
              "      <td>0</td>\n",
              "      <td>370376</td>\n",
              "      <td>7.7500</td>\n",
              "      <td>NaN</td>\n",
              "      <td>Q</td>\n",
              "    </tr>\n",
              "  </tbody>\n",
              "</table>\n",
              "</div>"
            ],
            "text/plain": [
              "     PassengerId  Survived  Pclass  ...     Fare Cabin  Embarked\n",
              "881          882         0       3  ...   7.8958   NaN         S\n",
              "882          883         0       3  ...  10.5167   NaN         S\n",
              "883          884         0       2  ...  10.5000   NaN         S\n",
              "884          885         0       3  ...   7.0500   NaN         S\n",
              "885          886         0       3  ...  29.1250   NaN         Q\n",
              "886          887         0       2  ...  13.0000   NaN         S\n",
              "887          888         1       1  ...  30.0000   B42         S\n",
              "888          889         0       3  ...  23.4500   NaN         S\n",
              "889          890         1       1  ...  30.0000  C148         C\n",
              "890          891         0       3  ...   7.7500   NaN         Q\n",
              "\n",
              "[10 rows x 12 columns]"
            ]
          },
          "metadata": {
            "tags": []
          },
          "execution_count": 4
        }
      ]
    },
    {
      "cell_type": "code",
      "metadata": {
        "id": "bfC6mXEUXo5y",
        "colab_type": "code",
        "outputId": "bfc950fa-ffbc-4e73-fe8e-ef95678851e0",
        "colab": {
          "base_uri": "https://localhost:8080/",
          "height": 269
        }
      },
      "source": [
        "df_raw.sample(7) # Você pode pegar uma amostra dos seus dados em uma distribuição uniforme"
      ],
      "execution_count": 5,
      "outputs": [
        {
          "output_type": "execute_result",
          "data": {
            "text/html": [
              "<div>\n",
              "<style scoped>\n",
              "    .dataframe tbody tr th:only-of-type {\n",
              "        vertical-align: middle;\n",
              "    }\n",
              "\n",
              "    .dataframe tbody tr th {\n",
              "        vertical-align: top;\n",
              "    }\n",
              "\n",
              "    .dataframe thead th {\n",
              "        text-align: right;\n",
              "    }\n",
              "</style>\n",
              "<table border=\"1\" class=\"dataframe\">\n",
              "  <thead>\n",
              "    <tr style=\"text-align: right;\">\n",
              "      <th></th>\n",
              "      <th>PassengerId</th>\n",
              "      <th>Survived</th>\n",
              "      <th>Pclass</th>\n",
              "      <th>Name</th>\n",
              "      <th>Sex</th>\n",
              "      <th>Age</th>\n",
              "      <th>SibSp</th>\n",
              "      <th>Parch</th>\n",
              "      <th>Ticket</th>\n",
              "      <th>Fare</th>\n",
              "      <th>Cabin</th>\n",
              "      <th>Embarked</th>\n",
              "    </tr>\n",
              "  </thead>\n",
              "  <tbody>\n",
              "    <tr>\n",
              "      <th>330</th>\n",
              "      <td>331</td>\n",
              "      <td>1</td>\n",
              "      <td>3</td>\n",
              "      <td>McCoy, Miss. Agnes</td>\n",
              "      <td>female</td>\n",
              "      <td>NaN</td>\n",
              "      <td>2</td>\n",
              "      <td>0</td>\n",
              "      <td>367226</td>\n",
              "      <td>23.2500</td>\n",
              "      <td>NaN</td>\n",
              "      <td>Q</td>\n",
              "    </tr>\n",
              "    <tr>\n",
              "      <th>93</th>\n",
              "      <td>94</td>\n",
              "      <td>0</td>\n",
              "      <td>3</td>\n",
              "      <td>Dean, Mr. Bertram Frank</td>\n",
              "      <td>male</td>\n",
              "      <td>26.0</td>\n",
              "      <td>1</td>\n",
              "      <td>2</td>\n",
              "      <td>C.A. 2315</td>\n",
              "      <td>20.5750</td>\n",
              "      <td>NaN</td>\n",
              "      <td>S</td>\n",
              "    </tr>\n",
              "    <tr>\n",
              "      <th>425</th>\n",
              "      <td>426</td>\n",
              "      <td>0</td>\n",
              "      <td>3</td>\n",
              "      <td>Wiseman, Mr. Phillippe</td>\n",
              "      <td>male</td>\n",
              "      <td>NaN</td>\n",
              "      <td>0</td>\n",
              "      <td>0</td>\n",
              "      <td>A/4. 34244</td>\n",
              "      <td>7.2500</td>\n",
              "      <td>NaN</td>\n",
              "      <td>S</td>\n",
              "    </tr>\n",
              "    <tr>\n",
              "      <th>426</th>\n",
              "      <td>427</td>\n",
              "      <td>1</td>\n",
              "      <td>2</td>\n",
              "      <td>Clarke, Mrs. Charles V (Ada Maria Winfield)</td>\n",
              "      <td>female</td>\n",
              "      <td>28.0</td>\n",
              "      <td>1</td>\n",
              "      <td>0</td>\n",
              "      <td>2003</td>\n",
              "      <td>26.0000</td>\n",
              "      <td>NaN</td>\n",
              "      <td>S</td>\n",
              "    </tr>\n",
              "    <tr>\n",
              "      <th>156</th>\n",
              "      <td>157</td>\n",
              "      <td>1</td>\n",
              "      <td>3</td>\n",
              "      <td>Gilnagh, Miss. Katherine \"Katie\"</td>\n",
              "      <td>female</td>\n",
              "      <td>16.0</td>\n",
              "      <td>0</td>\n",
              "      <td>0</td>\n",
              "      <td>35851</td>\n",
              "      <td>7.7333</td>\n",
              "      <td>NaN</td>\n",
              "      <td>Q</td>\n",
              "    </tr>\n",
              "    <tr>\n",
              "      <th>657</th>\n",
              "      <td>658</td>\n",
              "      <td>0</td>\n",
              "      <td>3</td>\n",
              "      <td>Bourke, Mrs. John (Catherine)</td>\n",
              "      <td>female</td>\n",
              "      <td>32.0</td>\n",
              "      <td>1</td>\n",
              "      <td>1</td>\n",
              "      <td>364849</td>\n",
              "      <td>15.5000</td>\n",
              "      <td>NaN</td>\n",
              "      <td>Q</td>\n",
              "    </tr>\n",
              "    <tr>\n",
              "      <th>730</th>\n",
              "      <td>731</td>\n",
              "      <td>1</td>\n",
              "      <td>1</td>\n",
              "      <td>Allen, Miss. Elisabeth Walton</td>\n",
              "      <td>female</td>\n",
              "      <td>29.0</td>\n",
              "      <td>0</td>\n",
              "      <td>0</td>\n",
              "      <td>24160</td>\n",
              "      <td>211.3375</td>\n",
              "      <td>B5</td>\n",
              "      <td>S</td>\n",
              "    </tr>\n",
              "  </tbody>\n",
              "</table>\n",
              "</div>"
            ],
            "text/plain": [
              "     PassengerId  Survived  Pclass  ...      Fare Cabin  Embarked\n",
              "330          331         1       3  ...   23.2500   NaN         Q\n",
              "93            94         0       3  ...   20.5750   NaN         S\n",
              "425          426         0       3  ...    7.2500   NaN         S\n",
              "426          427         1       2  ...   26.0000   NaN         S\n",
              "156          157         1       3  ...    7.7333   NaN         Q\n",
              "657          658         0       3  ...   15.5000   NaN         Q\n",
              "730          731         1       1  ...  211.3375    B5         S\n",
              "\n",
              "[7 rows x 12 columns]"
            ]
          },
          "metadata": {
            "tags": []
          },
          "execution_count": 5
        }
      ]
    },
    {
      "cell_type": "code",
      "metadata": {
        "id": "b_IXkrv2T3gR",
        "colab_type": "code",
        "outputId": "38ce39d7-3418-4559-a706-e5ec06e14fa7",
        "colab": {
          "base_uri": "https://localhost:8080/",
          "height": 312
        }
      },
      "source": [
        "df_raw.info() # informações básicas sobre cada coluna\n",
        "# primeira coluna: nome da coluna\n",
        "# segunda coluna: número de dados não nulos\n",
        "# terceira coluna non-null\n",
        "# quarta coluna: tipo dos dados: int (inteiro), object (string) ou float (real)"
      ],
      "execution_count": 6,
      "outputs": [
        {
          "output_type": "stream",
          "text": [
            "<class 'pandas.core.frame.DataFrame'>\n",
            "RangeIndex: 891 entries, 0 to 890\n",
            "Data columns (total 12 columns):\n",
            "PassengerId    891 non-null int64\n",
            "Survived       891 non-null int64\n",
            "Pclass         891 non-null int64\n",
            "Name           891 non-null object\n",
            "Sex            891 non-null object\n",
            "Age            714 non-null float64\n",
            "SibSp          891 non-null int64\n",
            "Parch          891 non-null int64\n",
            "Ticket         891 non-null object\n",
            "Fare           891 non-null float64\n",
            "Cabin          204 non-null object\n",
            "Embarked       889 non-null object\n",
            "dtypes: float64(2), int64(5), object(5)\n",
            "memory usage: 83.7+ KB\n"
          ],
          "name": "stdout"
        }
      ]
    },
    {
      "cell_type": "code",
      "metadata": {
        "id": "ZiMG-T-QFA0G",
        "colab_type": "code",
        "outputId": "114fc7f3-3837-4bed-901b-dc77d9f7bbe9",
        "colab": {
          "base_uri": "https://localhost:8080/",
          "height": 300
        }
      },
      "source": [
        "# o método describe() mostra diversas informações sobre todas as colunas numéricas do seu dataframe\n",
        "df_raw.describe()\n",
        "\n",
        "# veja que colunas não numéricas (object) não aparecem"
      ],
      "execution_count": 7,
      "outputs": [
        {
          "output_type": "execute_result",
          "data": {
            "text/html": [
              "<div>\n",
              "<style scoped>\n",
              "    .dataframe tbody tr th:only-of-type {\n",
              "        vertical-align: middle;\n",
              "    }\n",
              "\n",
              "    .dataframe tbody tr th {\n",
              "        vertical-align: top;\n",
              "    }\n",
              "\n",
              "    .dataframe thead th {\n",
              "        text-align: right;\n",
              "    }\n",
              "</style>\n",
              "<table border=\"1\" class=\"dataframe\">\n",
              "  <thead>\n",
              "    <tr style=\"text-align: right;\">\n",
              "      <th></th>\n",
              "      <th>PassengerId</th>\n",
              "      <th>Survived</th>\n",
              "      <th>Pclass</th>\n",
              "      <th>Age</th>\n",
              "      <th>SibSp</th>\n",
              "      <th>Parch</th>\n",
              "      <th>Fare</th>\n",
              "    </tr>\n",
              "  </thead>\n",
              "  <tbody>\n",
              "    <tr>\n",
              "      <th>count</th>\n",
              "      <td>891.000000</td>\n",
              "      <td>891.000000</td>\n",
              "      <td>891.000000</td>\n",
              "      <td>714.000000</td>\n",
              "      <td>891.000000</td>\n",
              "      <td>891.000000</td>\n",
              "      <td>891.000000</td>\n",
              "    </tr>\n",
              "    <tr>\n",
              "      <th>mean</th>\n",
              "      <td>446.000000</td>\n",
              "      <td>0.383838</td>\n",
              "      <td>2.308642</td>\n",
              "      <td>29.699118</td>\n",
              "      <td>0.523008</td>\n",
              "      <td>0.381594</td>\n",
              "      <td>32.204208</td>\n",
              "    </tr>\n",
              "    <tr>\n",
              "      <th>std</th>\n",
              "      <td>257.353842</td>\n",
              "      <td>0.486592</td>\n",
              "      <td>0.836071</td>\n",
              "      <td>14.526497</td>\n",
              "      <td>1.102743</td>\n",
              "      <td>0.806057</td>\n",
              "      <td>49.693429</td>\n",
              "    </tr>\n",
              "    <tr>\n",
              "      <th>min</th>\n",
              "      <td>1.000000</td>\n",
              "      <td>0.000000</td>\n",
              "      <td>1.000000</td>\n",
              "      <td>0.420000</td>\n",
              "      <td>0.000000</td>\n",
              "      <td>0.000000</td>\n",
              "      <td>0.000000</td>\n",
              "    </tr>\n",
              "    <tr>\n",
              "      <th>25%</th>\n",
              "      <td>223.500000</td>\n",
              "      <td>0.000000</td>\n",
              "      <td>2.000000</td>\n",
              "      <td>20.125000</td>\n",
              "      <td>0.000000</td>\n",
              "      <td>0.000000</td>\n",
              "      <td>7.910400</td>\n",
              "    </tr>\n",
              "    <tr>\n",
              "      <th>50%</th>\n",
              "      <td>446.000000</td>\n",
              "      <td>0.000000</td>\n",
              "      <td>3.000000</td>\n",
              "      <td>28.000000</td>\n",
              "      <td>0.000000</td>\n",
              "      <td>0.000000</td>\n",
              "      <td>14.454200</td>\n",
              "    </tr>\n",
              "    <tr>\n",
              "      <th>75%</th>\n",
              "      <td>668.500000</td>\n",
              "      <td>1.000000</td>\n",
              "      <td>3.000000</td>\n",
              "      <td>38.000000</td>\n",
              "      <td>1.000000</td>\n",
              "      <td>0.000000</td>\n",
              "      <td>31.000000</td>\n",
              "    </tr>\n",
              "    <tr>\n",
              "      <th>max</th>\n",
              "      <td>891.000000</td>\n",
              "      <td>1.000000</td>\n",
              "      <td>3.000000</td>\n",
              "      <td>80.000000</td>\n",
              "      <td>8.000000</td>\n",
              "      <td>6.000000</td>\n",
              "      <td>512.329200</td>\n",
              "    </tr>\n",
              "  </tbody>\n",
              "</table>\n",
              "</div>"
            ],
            "text/plain": [
              "       PassengerId    Survived      Pclass  ...       SibSp       Parch        Fare\n",
              "count   891.000000  891.000000  891.000000  ...  891.000000  891.000000  891.000000\n",
              "mean    446.000000    0.383838    2.308642  ...    0.523008    0.381594   32.204208\n",
              "std     257.353842    0.486592    0.836071  ...    1.102743    0.806057   49.693429\n",
              "min       1.000000    0.000000    1.000000  ...    0.000000    0.000000    0.000000\n",
              "25%     223.500000    0.000000    2.000000  ...    0.000000    0.000000    7.910400\n",
              "50%     446.000000    0.000000    3.000000  ...    0.000000    0.000000   14.454200\n",
              "75%     668.500000    1.000000    3.000000  ...    1.000000    0.000000   31.000000\n",
              "max     891.000000    1.000000    3.000000  ...    8.000000    6.000000  512.329200\n",
              "\n",
              "[8 rows x 7 columns]"
            ]
          },
          "metadata": {
            "tags": []
          },
          "execution_count": 7
        }
      ]
    },
    {
      "cell_type": "markdown",
      "metadata": {
        "id": "KZKhUoKJYZ2Y",
        "colab_type": "text"
      },
      "source": [
        "# Como acessar linhas específicas\n",
        "\n",
        "Na última aula vimos como acessar dados no Numpy. No Pandas será um pouco diferente. Raramente queremos pegar uma linha específica, e sim conjuntos de linhas que seguem alguma lógica. Veremos isso logo mais.\n",
        "\n",
        "Primeiramente: Não podemos acessar mais uma linha com df[0] por exemplo. Agora precisamos usar o .iloc[0]"
      ]
    },
    {
      "cell_type": "code",
      "metadata": {
        "id": "xZKzK9kPWe5P",
        "colab_type": "code",
        "colab": {}
      },
      "source": [
        "# df_raw[0] # erro"
      ],
      "execution_count": 0,
      "outputs": []
    },
    {
      "cell_type": "code",
      "metadata": {
        "id": "Qq0MY4_hYecb",
        "colab_type": "code",
        "outputId": "dd577726-116a-4f5a-c804-40505dc3a1d8",
        "colab": {
          "base_uri": "https://localhost:8080/",
          "height": 243
        }
      },
      "source": [
        "df_raw.iloc[0] # primeira linha"
      ],
      "execution_count": 9,
      "outputs": [
        {
          "output_type": "execute_result",
          "data": {
            "text/plain": [
              "PassengerId                          1\n",
              "Survived                             0\n",
              "Pclass                               3\n",
              "Name           Braund, Mr. Owen Harris\n",
              "Sex                               male\n",
              "Age                                 22\n",
              "SibSp                                1\n",
              "Parch                                0\n",
              "Ticket                       A/5 21171\n",
              "Fare                              7.25\n",
              "Cabin                              NaN\n",
              "Embarked                             S\n",
              "Name: 0, dtype: object"
            ]
          },
          "metadata": {
            "tags": []
          },
          "execution_count": 9
        }
      ]
    },
    {
      "cell_type": "markdown",
      "metadata": {
        "id": "R4ZQ6k7ZZRze",
        "colab_type": "text"
      },
      "source": [
        "# E colunas específicas?"
      ]
    },
    {
      "cell_type": "code",
      "metadata": {
        "id": "fK80XSdHZUVN",
        "colab_type": "code",
        "outputId": "e07772c9-c52f-4d47-c295-07a32e1138c6",
        "colab": {
          "base_uri": "https://localhost:8080/",
          "height": 225
        }
      },
      "source": [
        "df_raw.iloc[:, 0] # Primeira coluna: PassengerId"
      ],
      "execution_count": 10,
      "outputs": [
        {
          "output_type": "execute_result",
          "data": {
            "text/plain": [
              "0        1\n",
              "1        2\n",
              "2        3\n",
              "3        4\n",
              "4        5\n",
              "      ... \n",
              "886    887\n",
              "887    888\n",
              "888    889\n",
              "889    890\n",
              "890    891\n",
              "Name: PassengerId, Length: 891, dtype: int64"
            ]
          },
          "metadata": {
            "tags": []
          },
          "execution_count": 10
        }
      ]
    },
    {
      "cell_type": "code",
      "metadata": {
        "id": "3fPuBD-EZYI-",
        "colab_type": "code",
        "outputId": "4036c02e-6b9f-4eaa-bcef-55096e454578",
        "colab": {
          "base_uri": "https://localhost:8080/",
          "height": 225
        }
      },
      "source": [
        "df_raw[\"PassengerId\"]"
      ],
      "execution_count": 11,
      "outputs": [
        {
          "output_type": "execute_result",
          "data": {
            "text/plain": [
              "0        1\n",
              "1        2\n",
              "2        3\n",
              "3        4\n",
              "4        5\n",
              "      ... \n",
              "886    887\n",
              "887    888\n",
              "888    889\n",
              "889    890\n",
              "890    891\n",
              "Name: PassengerId, Length: 891, dtype: int64"
            ]
          },
          "metadata": {
            "tags": []
          },
          "execution_count": 11
        }
      ]
    },
    {
      "cell_type": "code",
      "metadata": {
        "id": "dErJdAWRZgDe",
        "colab_type": "code",
        "outputId": "25a43020-391e-456c-e56c-76c2a0ac8d10",
        "colab": {
          "base_uri": "https://localhost:8080/",
          "height": 225
        }
      },
      "source": [
        "df_raw.PassengerId"
      ],
      "execution_count": 12,
      "outputs": [
        {
          "output_type": "execute_result",
          "data": {
            "text/plain": [
              "0        1\n",
              "1        2\n",
              "2        3\n",
              "3        4\n",
              "4        5\n",
              "      ... \n",
              "886    887\n",
              "887    888\n",
              "888    889\n",
              "889    890\n",
              "890    891\n",
              "Name: PassengerId, Length: 891, dtype: int64"
            ]
          },
          "metadata": {
            "tags": []
          },
          "execution_count": 12
        }
      ]
    },
    {
      "cell_type": "markdown",
      "metadata": {
        "id": "vKdtdC3jZpF5",
        "colab_type": "text"
      },
      "source": [
        "# E se a coluna tiver espaços?\n",
        "\n",
        "Vamos mostrar primeiro como inserir uma nova coluna"
      ]
    },
    {
      "cell_type": "code",
      "metadata": {
        "id": "CcppRGTFZ-Hf",
        "colab_type": "code",
        "outputId": "36755c94-9156-4b5d-b3a9-77b4a67b04ab",
        "colab": {
          "base_uri": "https://localhost:8080/",
          "height": 313
        }
      },
      "source": [
        "# Primeiro vamos usar um novo DF para não mexermos no DF original\n",
        "df_raw_add_coluna = df_raw\n",
        "\n",
        "# agora adicionamos uma nova coluna. Vamos usar o PassengerId multiplicado por 2, por simplicidade\n",
        "df_raw_add_coluna[\"nova coluna inutil\"] = df_raw_add_coluna[\"PassengerId\"] * 2 # veja como é simples no pandas multiplicar a coluna inteira por um valor\n",
        "\n",
        "# Você também pode somar duas colunas\n",
        "df_raw_add_coluna[\"coluna soma\"] = df_raw_add_coluna[\"SibSp\"] + df_raw_add_coluna[\"Parch\"]\n",
        "\n",
        "# Veja que usar a notação df.coluna não funciona na hora de criar novas colunas\n",
        "df_raw_add_coluna.algumacoluna = df_raw_add_coluna.Sex\n",
        "\n",
        "df_raw_add_coluna.sample(5)"
      ],
      "execution_count": 13,
      "outputs": [
        {
          "output_type": "stream",
          "text": [
            "/usr/local/lib/python3.6/dist-packages/ipykernel_launcher.py:10: UserWarning: Pandas doesn't allow columns to be created via a new attribute name - see https://pandas.pydata.org/pandas-docs/stable/indexing.html#attribute-access\n",
            "  # Remove the CWD from sys.path while we load stuff.\n"
          ],
          "name": "stderr"
        },
        {
          "output_type": "execute_result",
          "data": {
            "text/html": [
              "<div>\n",
              "<style scoped>\n",
              "    .dataframe tbody tr th:only-of-type {\n",
              "        vertical-align: middle;\n",
              "    }\n",
              "\n",
              "    .dataframe tbody tr th {\n",
              "        vertical-align: top;\n",
              "    }\n",
              "\n",
              "    .dataframe thead th {\n",
              "        text-align: right;\n",
              "    }\n",
              "</style>\n",
              "<table border=\"1\" class=\"dataframe\">\n",
              "  <thead>\n",
              "    <tr style=\"text-align: right;\">\n",
              "      <th></th>\n",
              "      <th>PassengerId</th>\n",
              "      <th>Survived</th>\n",
              "      <th>Pclass</th>\n",
              "      <th>Name</th>\n",
              "      <th>Sex</th>\n",
              "      <th>Age</th>\n",
              "      <th>SibSp</th>\n",
              "      <th>Parch</th>\n",
              "      <th>Ticket</th>\n",
              "      <th>Fare</th>\n",
              "      <th>Cabin</th>\n",
              "      <th>Embarked</th>\n",
              "      <th>nova coluna inutil</th>\n",
              "      <th>coluna soma</th>\n",
              "    </tr>\n",
              "  </thead>\n",
              "  <tbody>\n",
              "    <tr>\n",
              "      <th>782</th>\n",
              "      <td>783</td>\n",
              "      <td>0</td>\n",
              "      <td>1</td>\n",
              "      <td>Long, Mr. Milton Clyde</td>\n",
              "      <td>male</td>\n",
              "      <td>29.0</td>\n",
              "      <td>0</td>\n",
              "      <td>0</td>\n",
              "      <td>113501</td>\n",
              "      <td>30.0000</td>\n",
              "      <td>D6</td>\n",
              "      <td>S</td>\n",
              "      <td>1566</td>\n",
              "      <td>0</td>\n",
              "    </tr>\n",
              "    <tr>\n",
              "      <th>853</th>\n",
              "      <td>854</td>\n",
              "      <td>1</td>\n",
              "      <td>1</td>\n",
              "      <td>Lines, Miss. Mary Conover</td>\n",
              "      <td>female</td>\n",
              "      <td>16.0</td>\n",
              "      <td>0</td>\n",
              "      <td>1</td>\n",
              "      <td>PC 17592</td>\n",
              "      <td>39.4000</td>\n",
              "      <td>D28</td>\n",
              "      <td>S</td>\n",
              "      <td>1708</td>\n",
              "      <td>1</td>\n",
              "    </tr>\n",
              "    <tr>\n",
              "      <th>118</th>\n",
              "      <td>119</td>\n",
              "      <td>0</td>\n",
              "      <td>1</td>\n",
              "      <td>Baxter, Mr. Quigg Edmond</td>\n",
              "      <td>male</td>\n",
              "      <td>24.0</td>\n",
              "      <td>0</td>\n",
              "      <td>1</td>\n",
              "      <td>PC 17558</td>\n",
              "      <td>247.5208</td>\n",
              "      <td>B58 B60</td>\n",
              "      <td>C</td>\n",
              "      <td>238</td>\n",
              "      <td>1</td>\n",
              "    </tr>\n",
              "    <tr>\n",
              "      <th>116</th>\n",
              "      <td>117</td>\n",
              "      <td>0</td>\n",
              "      <td>3</td>\n",
              "      <td>Connors, Mr. Patrick</td>\n",
              "      <td>male</td>\n",
              "      <td>70.5</td>\n",
              "      <td>0</td>\n",
              "      <td>0</td>\n",
              "      <td>370369</td>\n",
              "      <td>7.7500</td>\n",
              "      <td>NaN</td>\n",
              "      <td>Q</td>\n",
              "      <td>234</td>\n",
              "      <td>0</td>\n",
              "    </tr>\n",
              "    <tr>\n",
              "      <th>257</th>\n",
              "      <td>258</td>\n",
              "      <td>1</td>\n",
              "      <td>1</td>\n",
              "      <td>Cherry, Miss. Gladys</td>\n",
              "      <td>female</td>\n",
              "      <td>30.0</td>\n",
              "      <td>0</td>\n",
              "      <td>0</td>\n",
              "      <td>110152</td>\n",
              "      <td>86.5000</td>\n",
              "      <td>B77</td>\n",
              "      <td>S</td>\n",
              "      <td>516</td>\n",
              "      <td>0</td>\n",
              "    </tr>\n",
              "  </tbody>\n",
              "</table>\n",
              "</div>"
            ],
            "text/plain": [
              "     PassengerId  Survived  Pclass  ... Embarked nova coluna inutil  coluna soma\n",
              "782          783         0       1  ...        S               1566            0\n",
              "853          854         1       1  ...        S               1708            1\n",
              "118          119         0       1  ...        C                238            1\n",
              "116          117         0       3  ...        Q                234            0\n",
              "257          258         1       1  ...        S                516            0\n",
              "\n",
              "[5 rows x 14 columns]"
            ]
          },
          "metadata": {
            "tags": []
          },
          "execution_count": 13
        }
      ]
    },
    {
      "cell_type": "code",
      "metadata": {
        "id": "7hOmKaDDao_w",
        "colab_type": "code",
        "outputId": "4756e39e-bec1-4913-f25b-28f482293381",
        "colab": {
          "base_uri": "https://localhost:8080/",
          "height": 225
        }
      },
      "source": [
        "# agora vamos tentar recuperar a nova coluna\n",
        "# df_raw_add_coluna.nova coluna inutil # erro, pois não pode haver espaços!!\n",
        "\n",
        "# Devido ao uso de espaços, podemos usar apenas a notação []\n",
        "df_raw_add_coluna[\"nova coluna inutil\"]\n",
        "\n",
        "# Portanto prefira usar camelCase ou under_scored quando criar seus nomes de colunas\n",
        "# under_scored é a convenção do Python para nomear variáveis"
      ],
      "execution_count": 14,
      "outputs": [
        {
          "output_type": "execute_result",
          "data": {
            "text/plain": [
              "0         2\n",
              "1         4\n",
              "2         6\n",
              "3         8\n",
              "4        10\n",
              "       ... \n",
              "886    1774\n",
              "887    1776\n",
              "888    1778\n",
              "889    1780\n",
              "890    1782\n",
              "Name: nova coluna inutil, Length: 891, dtype: int64"
            ]
          },
          "metadata": {
            "tags": []
          },
          "execution_count": 14
        }
      ]
    },
    {
      "cell_type": "markdown",
      "metadata": {
        "id": "9VFU24DVc-QO",
        "colab_type": "text"
      },
      "source": [
        "# Vamos finalmente voltar ao nosso DF antigo então"
      ]
    },
    {
      "cell_type": "code",
      "metadata": {
        "id": "rnlH-Bf3bLZd",
        "colab_type": "code",
        "outputId": "2811c351-1901-4ead-84c9-9a5aadc876f3",
        "colab": {
          "base_uri": "https://localhost:8080/",
          "height": 276
        }
      },
      "source": [
        "df_raw.head()"
      ],
      "execution_count": 15,
      "outputs": [
        {
          "output_type": "execute_result",
          "data": {
            "text/html": [
              "<div>\n",
              "<style scoped>\n",
              "    .dataframe tbody tr th:only-of-type {\n",
              "        vertical-align: middle;\n",
              "    }\n",
              "\n",
              "    .dataframe tbody tr th {\n",
              "        vertical-align: top;\n",
              "    }\n",
              "\n",
              "    .dataframe thead th {\n",
              "        text-align: right;\n",
              "    }\n",
              "</style>\n",
              "<table border=\"1\" class=\"dataframe\">\n",
              "  <thead>\n",
              "    <tr style=\"text-align: right;\">\n",
              "      <th></th>\n",
              "      <th>PassengerId</th>\n",
              "      <th>Survived</th>\n",
              "      <th>Pclass</th>\n",
              "      <th>Name</th>\n",
              "      <th>Sex</th>\n",
              "      <th>Age</th>\n",
              "      <th>SibSp</th>\n",
              "      <th>Parch</th>\n",
              "      <th>Ticket</th>\n",
              "      <th>Fare</th>\n",
              "      <th>Cabin</th>\n",
              "      <th>Embarked</th>\n",
              "      <th>nova coluna inutil</th>\n",
              "      <th>coluna soma</th>\n",
              "    </tr>\n",
              "  </thead>\n",
              "  <tbody>\n",
              "    <tr>\n",
              "      <th>0</th>\n",
              "      <td>1</td>\n",
              "      <td>0</td>\n",
              "      <td>3</td>\n",
              "      <td>Braund, Mr. Owen Harris</td>\n",
              "      <td>male</td>\n",
              "      <td>22.0</td>\n",
              "      <td>1</td>\n",
              "      <td>0</td>\n",
              "      <td>A/5 21171</td>\n",
              "      <td>7.2500</td>\n",
              "      <td>NaN</td>\n",
              "      <td>S</td>\n",
              "      <td>2</td>\n",
              "      <td>1</td>\n",
              "    </tr>\n",
              "    <tr>\n",
              "      <th>1</th>\n",
              "      <td>2</td>\n",
              "      <td>1</td>\n",
              "      <td>1</td>\n",
              "      <td>Cumings, Mrs. John Bradley (Florence Briggs Th...</td>\n",
              "      <td>female</td>\n",
              "      <td>38.0</td>\n",
              "      <td>1</td>\n",
              "      <td>0</td>\n",
              "      <td>PC 17599</td>\n",
              "      <td>71.2833</td>\n",
              "      <td>C85</td>\n",
              "      <td>C</td>\n",
              "      <td>4</td>\n",
              "      <td>1</td>\n",
              "    </tr>\n",
              "    <tr>\n",
              "      <th>2</th>\n",
              "      <td>3</td>\n",
              "      <td>1</td>\n",
              "      <td>3</td>\n",
              "      <td>Heikkinen, Miss. Laina</td>\n",
              "      <td>female</td>\n",
              "      <td>26.0</td>\n",
              "      <td>0</td>\n",
              "      <td>0</td>\n",
              "      <td>STON/O2. 3101282</td>\n",
              "      <td>7.9250</td>\n",
              "      <td>NaN</td>\n",
              "      <td>S</td>\n",
              "      <td>6</td>\n",
              "      <td>0</td>\n",
              "    </tr>\n",
              "    <tr>\n",
              "      <th>3</th>\n",
              "      <td>4</td>\n",
              "      <td>1</td>\n",
              "      <td>1</td>\n",
              "      <td>Futrelle, Mrs. Jacques Heath (Lily May Peel)</td>\n",
              "      <td>female</td>\n",
              "      <td>35.0</td>\n",
              "      <td>1</td>\n",
              "      <td>0</td>\n",
              "      <td>113803</td>\n",
              "      <td>53.1000</td>\n",
              "      <td>C123</td>\n",
              "      <td>S</td>\n",
              "      <td>8</td>\n",
              "      <td>1</td>\n",
              "    </tr>\n",
              "    <tr>\n",
              "      <th>4</th>\n",
              "      <td>5</td>\n",
              "      <td>0</td>\n",
              "      <td>3</td>\n",
              "      <td>Allen, Mr. William Henry</td>\n",
              "      <td>male</td>\n",
              "      <td>35.0</td>\n",
              "      <td>0</td>\n",
              "      <td>0</td>\n",
              "      <td>373450</td>\n",
              "      <td>8.0500</td>\n",
              "      <td>NaN</td>\n",
              "      <td>S</td>\n",
              "      <td>10</td>\n",
              "      <td>0</td>\n",
              "    </tr>\n",
              "  </tbody>\n",
              "</table>\n",
              "</div>"
            ],
            "text/plain": [
              "   PassengerId  Survived  Pclass  ... Embarked nova coluna inutil  coluna soma\n",
              "0            1         0       3  ...        S                  2            1\n",
              "1            2         1       1  ...        C                  4            1\n",
              "2            3         1       3  ...        S                  6            0\n",
              "3            4         1       1  ...        S                  8            1\n",
              "4            5         0       3  ...        S                 10            0\n",
              "\n",
              "[5 rows x 14 columns]"
            ]
          },
          "metadata": {
            "tags": []
          },
          "execution_count": 15
        }
      ]
    },
    {
      "cell_type": "markdown",
      "metadata": {
        "id": "KsHo1FmSdE1i",
        "colab_type": "text"
      },
      "source": [
        "Opa!!! Por que nosso df_raw está com as colunas novas??? Eu mexi apenas na cópia!\n",
        "\n",
        "Na verdade, quando fazemos `df_novo = df_antigo` no Pandas estamos passando uma referência para o df_antigo, e não uma cópia. Isso se deve ao fato de que cópias do seu DF podem consumir muita memória e travar seu PC quando estiver mexendo com dados reais.\n",
        "\n",
        "Isso também acontece com listas em Python, veja o que acontece se você rodar o seguinte código Python:\n",
        "\n",
        "```\n",
        "lista1 = [1, 2, 3]\n",
        "lista2 = lista1\n",
        "lista2.append(4)\n",
        "print(lista1, lista2)\n",
        "\n",
        "# [1, 2, 3, 4] [1, 2, 3, 4]\n",
        "```\n",
        "\n",
        "Para solucionarmos esse problema, o Pandas oferece uma função para copiar seu DF para outra variável.\n"
      ]
    },
    {
      "cell_type": "code",
      "metadata": {
        "id": "dzYAsu4PdCv-",
        "colab_type": "code",
        "outputId": "51f80195-835c-4ae1-b4a5-0a3811777ba6",
        "colab": {
          "base_uri": "https://localhost:8080/",
          "height": 206
        }
      },
      "source": [
        "# Vamos pegar nosso DF original primeiramente\n",
        "url = \"https://raw.githubusercontent.com/vccolombo/PANDA-aula2/master/data/train.csv\"\n",
        "df_raw = pd.read_csv(url)\n",
        "\n",
        "# E fazer uma cópia \n",
        "df_raw_copy = df_raw.copy()\n",
        "\n",
        "df_raw_copy.head()"
      ],
      "execution_count": 16,
      "outputs": [
        {
          "output_type": "execute_result",
          "data": {
            "text/html": [
              "<div>\n",
              "<style scoped>\n",
              "    .dataframe tbody tr th:only-of-type {\n",
              "        vertical-align: middle;\n",
              "    }\n",
              "\n",
              "    .dataframe tbody tr th {\n",
              "        vertical-align: top;\n",
              "    }\n",
              "\n",
              "    .dataframe thead th {\n",
              "        text-align: right;\n",
              "    }\n",
              "</style>\n",
              "<table border=\"1\" class=\"dataframe\">\n",
              "  <thead>\n",
              "    <tr style=\"text-align: right;\">\n",
              "      <th></th>\n",
              "      <th>PassengerId</th>\n",
              "      <th>Survived</th>\n",
              "      <th>Pclass</th>\n",
              "      <th>Name</th>\n",
              "      <th>Sex</th>\n",
              "      <th>Age</th>\n",
              "      <th>SibSp</th>\n",
              "      <th>Parch</th>\n",
              "      <th>Ticket</th>\n",
              "      <th>Fare</th>\n",
              "      <th>Cabin</th>\n",
              "      <th>Embarked</th>\n",
              "    </tr>\n",
              "  </thead>\n",
              "  <tbody>\n",
              "    <tr>\n",
              "      <th>0</th>\n",
              "      <td>1</td>\n",
              "      <td>0</td>\n",
              "      <td>3</td>\n",
              "      <td>Braund, Mr. Owen Harris</td>\n",
              "      <td>male</td>\n",
              "      <td>22.0</td>\n",
              "      <td>1</td>\n",
              "      <td>0</td>\n",
              "      <td>A/5 21171</td>\n",
              "      <td>7.2500</td>\n",
              "      <td>NaN</td>\n",
              "      <td>S</td>\n",
              "    </tr>\n",
              "    <tr>\n",
              "      <th>1</th>\n",
              "      <td>2</td>\n",
              "      <td>1</td>\n",
              "      <td>1</td>\n",
              "      <td>Cumings, Mrs. John Bradley (Florence Briggs Th...</td>\n",
              "      <td>female</td>\n",
              "      <td>38.0</td>\n",
              "      <td>1</td>\n",
              "      <td>0</td>\n",
              "      <td>PC 17599</td>\n",
              "      <td>71.2833</td>\n",
              "      <td>C85</td>\n",
              "      <td>C</td>\n",
              "    </tr>\n",
              "    <tr>\n",
              "      <th>2</th>\n",
              "      <td>3</td>\n",
              "      <td>1</td>\n",
              "      <td>3</td>\n",
              "      <td>Heikkinen, Miss. Laina</td>\n",
              "      <td>female</td>\n",
              "      <td>26.0</td>\n",
              "      <td>0</td>\n",
              "      <td>0</td>\n",
              "      <td>STON/O2. 3101282</td>\n",
              "      <td>7.9250</td>\n",
              "      <td>NaN</td>\n",
              "      <td>S</td>\n",
              "    </tr>\n",
              "    <tr>\n",
              "      <th>3</th>\n",
              "      <td>4</td>\n",
              "      <td>1</td>\n",
              "      <td>1</td>\n",
              "      <td>Futrelle, Mrs. Jacques Heath (Lily May Peel)</td>\n",
              "      <td>female</td>\n",
              "      <td>35.0</td>\n",
              "      <td>1</td>\n",
              "      <td>0</td>\n",
              "      <td>113803</td>\n",
              "      <td>53.1000</td>\n",
              "      <td>C123</td>\n",
              "      <td>S</td>\n",
              "    </tr>\n",
              "    <tr>\n",
              "      <th>4</th>\n",
              "      <td>5</td>\n",
              "      <td>0</td>\n",
              "      <td>3</td>\n",
              "      <td>Allen, Mr. William Henry</td>\n",
              "      <td>male</td>\n",
              "      <td>35.0</td>\n",
              "      <td>0</td>\n",
              "      <td>0</td>\n",
              "      <td>373450</td>\n",
              "      <td>8.0500</td>\n",
              "      <td>NaN</td>\n",
              "      <td>S</td>\n",
              "    </tr>\n",
              "  </tbody>\n",
              "</table>\n",
              "</div>"
            ],
            "text/plain": [
              "   PassengerId  Survived  Pclass  ...     Fare Cabin  Embarked\n",
              "0            1         0       3  ...   7.2500   NaN         S\n",
              "1            2         1       1  ...  71.2833   C85         C\n",
              "2            3         1       3  ...   7.9250   NaN         S\n",
              "3            4         1       1  ...  53.1000  C123         S\n",
              "4            5         0       3  ...   8.0500   NaN         S\n",
              "\n",
              "[5 rows x 12 columns]"
            ]
          },
          "metadata": {
            "tags": []
          },
          "execution_count": 16
        }
      ]
    },
    {
      "cell_type": "code",
      "metadata": {
        "id": "caO0JUGnfBLs",
        "colab_type": "code",
        "outputId": "31914d5d-8a03-4903-81cc-6d15b788a003",
        "colab": {
          "base_uri": "https://localhost:8080/",
          "height": 258
        }
      },
      "source": [
        "# Vamos agora modificar nossa cópia e ver o que acontece com o DF antigo\n",
        "df_raw_copy[\"nova_coluna\"] = \"sou lindo\" # você pode criar uma coluna de valor único também\n",
        "\n",
        "df_raw_copy.head()"
      ],
      "execution_count": 17,
      "outputs": [
        {
          "output_type": "execute_result",
          "data": {
            "text/html": [
              "<div>\n",
              "<style scoped>\n",
              "    .dataframe tbody tr th:only-of-type {\n",
              "        vertical-align: middle;\n",
              "    }\n",
              "\n",
              "    .dataframe tbody tr th {\n",
              "        vertical-align: top;\n",
              "    }\n",
              "\n",
              "    .dataframe thead th {\n",
              "        text-align: right;\n",
              "    }\n",
              "</style>\n",
              "<table border=\"1\" class=\"dataframe\">\n",
              "  <thead>\n",
              "    <tr style=\"text-align: right;\">\n",
              "      <th></th>\n",
              "      <th>PassengerId</th>\n",
              "      <th>Survived</th>\n",
              "      <th>Pclass</th>\n",
              "      <th>Name</th>\n",
              "      <th>Sex</th>\n",
              "      <th>Age</th>\n",
              "      <th>SibSp</th>\n",
              "      <th>Parch</th>\n",
              "      <th>Ticket</th>\n",
              "      <th>Fare</th>\n",
              "      <th>Cabin</th>\n",
              "      <th>Embarked</th>\n",
              "      <th>nova_coluna</th>\n",
              "    </tr>\n",
              "  </thead>\n",
              "  <tbody>\n",
              "    <tr>\n",
              "      <th>0</th>\n",
              "      <td>1</td>\n",
              "      <td>0</td>\n",
              "      <td>3</td>\n",
              "      <td>Braund, Mr. Owen Harris</td>\n",
              "      <td>male</td>\n",
              "      <td>22.0</td>\n",
              "      <td>1</td>\n",
              "      <td>0</td>\n",
              "      <td>A/5 21171</td>\n",
              "      <td>7.2500</td>\n",
              "      <td>NaN</td>\n",
              "      <td>S</td>\n",
              "      <td>sou lindo</td>\n",
              "    </tr>\n",
              "    <tr>\n",
              "      <th>1</th>\n",
              "      <td>2</td>\n",
              "      <td>1</td>\n",
              "      <td>1</td>\n",
              "      <td>Cumings, Mrs. John Bradley (Florence Briggs Th...</td>\n",
              "      <td>female</td>\n",
              "      <td>38.0</td>\n",
              "      <td>1</td>\n",
              "      <td>0</td>\n",
              "      <td>PC 17599</td>\n",
              "      <td>71.2833</td>\n",
              "      <td>C85</td>\n",
              "      <td>C</td>\n",
              "      <td>sou lindo</td>\n",
              "    </tr>\n",
              "    <tr>\n",
              "      <th>2</th>\n",
              "      <td>3</td>\n",
              "      <td>1</td>\n",
              "      <td>3</td>\n",
              "      <td>Heikkinen, Miss. Laina</td>\n",
              "      <td>female</td>\n",
              "      <td>26.0</td>\n",
              "      <td>0</td>\n",
              "      <td>0</td>\n",
              "      <td>STON/O2. 3101282</td>\n",
              "      <td>7.9250</td>\n",
              "      <td>NaN</td>\n",
              "      <td>S</td>\n",
              "      <td>sou lindo</td>\n",
              "    </tr>\n",
              "    <tr>\n",
              "      <th>3</th>\n",
              "      <td>4</td>\n",
              "      <td>1</td>\n",
              "      <td>1</td>\n",
              "      <td>Futrelle, Mrs. Jacques Heath (Lily May Peel)</td>\n",
              "      <td>female</td>\n",
              "      <td>35.0</td>\n",
              "      <td>1</td>\n",
              "      <td>0</td>\n",
              "      <td>113803</td>\n",
              "      <td>53.1000</td>\n",
              "      <td>C123</td>\n",
              "      <td>S</td>\n",
              "      <td>sou lindo</td>\n",
              "    </tr>\n",
              "    <tr>\n",
              "      <th>4</th>\n",
              "      <td>5</td>\n",
              "      <td>0</td>\n",
              "      <td>3</td>\n",
              "      <td>Allen, Mr. William Henry</td>\n",
              "      <td>male</td>\n",
              "      <td>35.0</td>\n",
              "      <td>0</td>\n",
              "      <td>0</td>\n",
              "      <td>373450</td>\n",
              "      <td>8.0500</td>\n",
              "      <td>NaN</td>\n",
              "      <td>S</td>\n",
              "      <td>sou lindo</td>\n",
              "    </tr>\n",
              "  </tbody>\n",
              "</table>\n",
              "</div>"
            ],
            "text/plain": [
              "   PassengerId  Survived  Pclass  ... Cabin Embarked  nova_coluna\n",
              "0            1         0       3  ...   NaN        S    sou lindo\n",
              "1            2         1       1  ...   C85        C    sou lindo\n",
              "2            3         1       3  ...   NaN        S    sou lindo\n",
              "3            4         1       1  ...  C123        S    sou lindo\n",
              "4            5         0       3  ...   NaN        S    sou lindo\n",
              "\n",
              "[5 rows x 13 columns]"
            ]
          },
          "metadata": {
            "tags": []
          },
          "execution_count": 17
        }
      ]
    },
    {
      "cell_type": "code",
      "metadata": {
        "id": "feuIOjhMfMj-",
        "colab_type": "code",
        "outputId": "1c4179f5-2a69-47f8-fc9b-b3baa8b8a1b9",
        "colab": {
          "base_uri": "https://localhost:8080/",
          "height": 206
        }
      },
      "source": [
        "# E o que aconteceu com o DF antigo?\n",
        "df_raw.head()"
      ],
      "execution_count": 18,
      "outputs": [
        {
          "output_type": "execute_result",
          "data": {
            "text/html": [
              "<div>\n",
              "<style scoped>\n",
              "    .dataframe tbody tr th:only-of-type {\n",
              "        vertical-align: middle;\n",
              "    }\n",
              "\n",
              "    .dataframe tbody tr th {\n",
              "        vertical-align: top;\n",
              "    }\n",
              "\n",
              "    .dataframe thead th {\n",
              "        text-align: right;\n",
              "    }\n",
              "</style>\n",
              "<table border=\"1\" class=\"dataframe\">\n",
              "  <thead>\n",
              "    <tr style=\"text-align: right;\">\n",
              "      <th></th>\n",
              "      <th>PassengerId</th>\n",
              "      <th>Survived</th>\n",
              "      <th>Pclass</th>\n",
              "      <th>Name</th>\n",
              "      <th>Sex</th>\n",
              "      <th>Age</th>\n",
              "      <th>SibSp</th>\n",
              "      <th>Parch</th>\n",
              "      <th>Ticket</th>\n",
              "      <th>Fare</th>\n",
              "      <th>Cabin</th>\n",
              "      <th>Embarked</th>\n",
              "    </tr>\n",
              "  </thead>\n",
              "  <tbody>\n",
              "    <tr>\n",
              "      <th>0</th>\n",
              "      <td>1</td>\n",
              "      <td>0</td>\n",
              "      <td>3</td>\n",
              "      <td>Braund, Mr. Owen Harris</td>\n",
              "      <td>male</td>\n",
              "      <td>22.0</td>\n",
              "      <td>1</td>\n",
              "      <td>0</td>\n",
              "      <td>A/5 21171</td>\n",
              "      <td>7.2500</td>\n",
              "      <td>NaN</td>\n",
              "      <td>S</td>\n",
              "    </tr>\n",
              "    <tr>\n",
              "      <th>1</th>\n",
              "      <td>2</td>\n",
              "      <td>1</td>\n",
              "      <td>1</td>\n",
              "      <td>Cumings, Mrs. John Bradley (Florence Briggs Th...</td>\n",
              "      <td>female</td>\n",
              "      <td>38.0</td>\n",
              "      <td>1</td>\n",
              "      <td>0</td>\n",
              "      <td>PC 17599</td>\n",
              "      <td>71.2833</td>\n",
              "      <td>C85</td>\n",
              "      <td>C</td>\n",
              "    </tr>\n",
              "    <tr>\n",
              "      <th>2</th>\n",
              "      <td>3</td>\n",
              "      <td>1</td>\n",
              "      <td>3</td>\n",
              "      <td>Heikkinen, Miss. Laina</td>\n",
              "      <td>female</td>\n",
              "      <td>26.0</td>\n",
              "      <td>0</td>\n",
              "      <td>0</td>\n",
              "      <td>STON/O2. 3101282</td>\n",
              "      <td>7.9250</td>\n",
              "      <td>NaN</td>\n",
              "      <td>S</td>\n",
              "    </tr>\n",
              "    <tr>\n",
              "      <th>3</th>\n",
              "      <td>4</td>\n",
              "      <td>1</td>\n",
              "      <td>1</td>\n",
              "      <td>Futrelle, Mrs. Jacques Heath (Lily May Peel)</td>\n",
              "      <td>female</td>\n",
              "      <td>35.0</td>\n",
              "      <td>1</td>\n",
              "      <td>0</td>\n",
              "      <td>113803</td>\n",
              "      <td>53.1000</td>\n",
              "      <td>C123</td>\n",
              "      <td>S</td>\n",
              "    </tr>\n",
              "    <tr>\n",
              "      <th>4</th>\n",
              "      <td>5</td>\n",
              "      <td>0</td>\n",
              "      <td>3</td>\n",
              "      <td>Allen, Mr. William Henry</td>\n",
              "      <td>male</td>\n",
              "      <td>35.0</td>\n",
              "      <td>0</td>\n",
              "      <td>0</td>\n",
              "      <td>373450</td>\n",
              "      <td>8.0500</td>\n",
              "      <td>NaN</td>\n",
              "      <td>S</td>\n",
              "    </tr>\n",
              "  </tbody>\n",
              "</table>\n",
              "</div>"
            ],
            "text/plain": [
              "   PassengerId  Survived  Pclass  ...     Fare Cabin  Embarked\n",
              "0            1         0       3  ...   7.2500   NaN         S\n",
              "1            2         1       1  ...  71.2833   C85         C\n",
              "2            3         1       3  ...   7.9250   NaN         S\n",
              "3            4         1       1  ...  53.1000  C123         S\n",
              "4            5         0       3  ...   8.0500   NaN         S\n",
              "\n",
              "[5 rows x 12 columns]"
            ]
          },
          "metadata": {
            "tags": []
          },
          "execution_count": 18
        }
      ]
    },
    {
      "cell_type": "markdown",
      "metadata": {
        "id": "2sYjuTquH68o",
        "colab_type": "text"
      },
      "source": [
        "# Vamos voltar aos nossos dados\n",
        "\n",
        "## Quais dados estão incompletos? \n",
        "\n",
        "Vimos anteriormente que temos algumas colunas com dados incompletos, vamos relembrar quais são:"
      ]
    },
    {
      "cell_type": "code",
      "metadata": {
        "id": "OeLiVm1ugwNR",
        "colab_type": "code",
        "outputId": "1cd7193a-6d33-4869-b24b-b19f97f621a7",
        "colab": {
          "base_uri": "https://localhost:8080/",
          "height": 312
        }
      },
      "source": [
        "df_raw.info()"
      ],
      "execution_count": 19,
      "outputs": [
        {
          "output_type": "stream",
          "text": [
            "<class 'pandas.core.frame.DataFrame'>\n",
            "RangeIndex: 891 entries, 0 to 890\n",
            "Data columns (total 12 columns):\n",
            "PassengerId    891 non-null int64\n",
            "Survived       891 non-null int64\n",
            "Pclass         891 non-null int64\n",
            "Name           891 non-null object\n",
            "Sex            891 non-null object\n",
            "Age            714 non-null float64\n",
            "SibSp          891 non-null int64\n",
            "Parch          891 non-null int64\n",
            "Ticket         891 non-null object\n",
            "Fare           891 non-null float64\n",
            "Cabin          204 non-null object\n",
            "Embarked       889 non-null object\n",
            "dtypes: float64(2), int64(5), object(5)\n",
            "memory usage: 83.7+ KB\n"
          ],
          "name": "stdout"
        }
      ]
    },
    {
      "cell_type": "markdown",
      "metadata": {
        "id": "w9Y66qPHITM3",
        "colab_type": "text"
      },
      "source": [
        "Vários algoritmos que veremos não aceitam dados faltantes (pense no caso do KNN, qual a distância entre um valor nulo e um ponto no espaço?). Temos as colunas Age, Cabin e Embarked com dados faltantes. Quando isso acontece, temos algumas opções:\n",
        "\n",
        "A mais trivial é simplesmente descartar a coluna. Porém isso raramente é usado, pois há uma perda muito grande de informações que podem ser muito importantes para o seu modelo. \n",
        "\n",
        "Outra ideia é substituir os dados faltantes com dados que façam sentido. Normalmente usamos a média para dados numéricos, e a moda para dados categóricos. Trabalhos mais avançados podem fazer uma análise profunda dos dados antes de substituir esses dados."
      ]
    },
    {
      "cell_type": "markdown",
      "metadata": {
        "id": "ew9VsNYKKIKH",
        "colab_type": "text"
      },
      "source": [
        "Vamos pensar no que fazer com a coluna Cabin primeiramente. Apesar de ser uma coluna com dados interessantes, pois algumas cabines eram mais próximas de botes salva-vidas e essas pessoas tiveram maior taxa de sobrevivência, esse é um caso que não vale a pena tentar completar os dados. Muitos dados estão faltando! Vamos simplesmente apagar a coluna inteira"
      ]
    },
    {
      "cell_type": "code",
      "metadata": {
        "id": "xqd9lwHKIOxe",
        "colab_type": "code",
        "outputId": "03604d97-4099-4aec-9349-72681c77a5d6",
        "colab": {
          "base_uri": "https://localhost:8080/",
          "height": 206
        }
      },
      "source": [
        "df = df_raw.drop([\"Cabin\"], axis=1) # axis = 1 significa dropar uma coluna, axis = 0 uma linha\n",
        "\n",
        "df.head()"
      ],
      "execution_count": 20,
      "outputs": [
        {
          "output_type": "execute_result",
          "data": {
            "text/html": [
              "<div>\n",
              "<style scoped>\n",
              "    .dataframe tbody tr th:only-of-type {\n",
              "        vertical-align: middle;\n",
              "    }\n",
              "\n",
              "    .dataframe tbody tr th {\n",
              "        vertical-align: top;\n",
              "    }\n",
              "\n",
              "    .dataframe thead th {\n",
              "        text-align: right;\n",
              "    }\n",
              "</style>\n",
              "<table border=\"1\" class=\"dataframe\">\n",
              "  <thead>\n",
              "    <tr style=\"text-align: right;\">\n",
              "      <th></th>\n",
              "      <th>PassengerId</th>\n",
              "      <th>Survived</th>\n",
              "      <th>Pclass</th>\n",
              "      <th>Name</th>\n",
              "      <th>Sex</th>\n",
              "      <th>Age</th>\n",
              "      <th>SibSp</th>\n",
              "      <th>Parch</th>\n",
              "      <th>Ticket</th>\n",
              "      <th>Fare</th>\n",
              "      <th>Embarked</th>\n",
              "    </tr>\n",
              "  </thead>\n",
              "  <tbody>\n",
              "    <tr>\n",
              "      <th>0</th>\n",
              "      <td>1</td>\n",
              "      <td>0</td>\n",
              "      <td>3</td>\n",
              "      <td>Braund, Mr. Owen Harris</td>\n",
              "      <td>male</td>\n",
              "      <td>22.0</td>\n",
              "      <td>1</td>\n",
              "      <td>0</td>\n",
              "      <td>A/5 21171</td>\n",
              "      <td>7.2500</td>\n",
              "      <td>S</td>\n",
              "    </tr>\n",
              "    <tr>\n",
              "      <th>1</th>\n",
              "      <td>2</td>\n",
              "      <td>1</td>\n",
              "      <td>1</td>\n",
              "      <td>Cumings, Mrs. John Bradley (Florence Briggs Th...</td>\n",
              "      <td>female</td>\n",
              "      <td>38.0</td>\n",
              "      <td>1</td>\n",
              "      <td>0</td>\n",
              "      <td>PC 17599</td>\n",
              "      <td>71.2833</td>\n",
              "      <td>C</td>\n",
              "    </tr>\n",
              "    <tr>\n",
              "      <th>2</th>\n",
              "      <td>3</td>\n",
              "      <td>1</td>\n",
              "      <td>3</td>\n",
              "      <td>Heikkinen, Miss. Laina</td>\n",
              "      <td>female</td>\n",
              "      <td>26.0</td>\n",
              "      <td>0</td>\n",
              "      <td>0</td>\n",
              "      <td>STON/O2. 3101282</td>\n",
              "      <td>7.9250</td>\n",
              "      <td>S</td>\n",
              "    </tr>\n",
              "    <tr>\n",
              "      <th>3</th>\n",
              "      <td>4</td>\n",
              "      <td>1</td>\n",
              "      <td>1</td>\n",
              "      <td>Futrelle, Mrs. Jacques Heath (Lily May Peel)</td>\n",
              "      <td>female</td>\n",
              "      <td>35.0</td>\n",
              "      <td>1</td>\n",
              "      <td>0</td>\n",
              "      <td>113803</td>\n",
              "      <td>53.1000</td>\n",
              "      <td>S</td>\n",
              "    </tr>\n",
              "    <tr>\n",
              "      <th>4</th>\n",
              "      <td>5</td>\n",
              "      <td>0</td>\n",
              "      <td>3</td>\n",
              "      <td>Allen, Mr. William Henry</td>\n",
              "      <td>male</td>\n",
              "      <td>35.0</td>\n",
              "      <td>0</td>\n",
              "      <td>0</td>\n",
              "      <td>373450</td>\n",
              "      <td>8.0500</td>\n",
              "      <td>S</td>\n",
              "    </tr>\n",
              "  </tbody>\n",
              "</table>\n",
              "</div>"
            ],
            "text/plain": [
              "   PassengerId  Survived  Pclass  ...            Ticket     Fare  Embarked\n",
              "0            1         0       3  ...         A/5 21171   7.2500         S\n",
              "1            2         1       1  ...          PC 17599  71.2833         C\n",
              "2            3         1       3  ...  STON/O2. 3101282   7.9250         S\n",
              "3            4         1       1  ...            113803  53.1000         S\n",
              "4            5         0       3  ...            373450   8.0500         S\n",
              "\n",
              "[5 rows x 11 columns]"
            ]
          },
          "metadata": {
            "tags": []
          },
          "execution_count": 20
        }
      ]
    },
    {
      "cell_type": "code",
      "metadata": {
        "id": "_CWnqyZGLOoN",
        "colab_type": "code",
        "outputId": "4621d5a9-e64a-4d67-b592-d775f2bd5c8d",
        "colab": {
          "base_uri": "https://localhost:8080/",
          "height": 206
        }
      },
      "source": [
        "# vamos aproveitar para mostrar como apagar uma coluna sem criar uma cópia e gastar memória extra usando o inplace:\n",
        "\n",
        "df.drop([\"PassengerId\"], axis=1, inplace=True)\n",
        "\n",
        "df.head()"
      ],
      "execution_count": 21,
      "outputs": [
        {
          "output_type": "execute_result",
          "data": {
            "text/html": [
              "<div>\n",
              "<style scoped>\n",
              "    .dataframe tbody tr th:only-of-type {\n",
              "        vertical-align: middle;\n",
              "    }\n",
              "\n",
              "    .dataframe tbody tr th {\n",
              "        vertical-align: top;\n",
              "    }\n",
              "\n",
              "    .dataframe thead th {\n",
              "        text-align: right;\n",
              "    }\n",
              "</style>\n",
              "<table border=\"1\" class=\"dataframe\">\n",
              "  <thead>\n",
              "    <tr style=\"text-align: right;\">\n",
              "      <th></th>\n",
              "      <th>Survived</th>\n",
              "      <th>Pclass</th>\n",
              "      <th>Name</th>\n",
              "      <th>Sex</th>\n",
              "      <th>Age</th>\n",
              "      <th>SibSp</th>\n",
              "      <th>Parch</th>\n",
              "      <th>Ticket</th>\n",
              "      <th>Fare</th>\n",
              "      <th>Embarked</th>\n",
              "    </tr>\n",
              "  </thead>\n",
              "  <tbody>\n",
              "    <tr>\n",
              "      <th>0</th>\n",
              "      <td>0</td>\n",
              "      <td>3</td>\n",
              "      <td>Braund, Mr. Owen Harris</td>\n",
              "      <td>male</td>\n",
              "      <td>22.0</td>\n",
              "      <td>1</td>\n",
              "      <td>0</td>\n",
              "      <td>A/5 21171</td>\n",
              "      <td>7.2500</td>\n",
              "      <td>S</td>\n",
              "    </tr>\n",
              "    <tr>\n",
              "      <th>1</th>\n",
              "      <td>1</td>\n",
              "      <td>1</td>\n",
              "      <td>Cumings, Mrs. John Bradley (Florence Briggs Th...</td>\n",
              "      <td>female</td>\n",
              "      <td>38.0</td>\n",
              "      <td>1</td>\n",
              "      <td>0</td>\n",
              "      <td>PC 17599</td>\n",
              "      <td>71.2833</td>\n",
              "      <td>C</td>\n",
              "    </tr>\n",
              "    <tr>\n",
              "      <th>2</th>\n",
              "      <td>1</td>\n",
              "      <td>3</td>\n",
              "      <td>Heikkinen, Miss. Laina</td>\n",
              "      <td>female</td>\n",
              "      <td>26.0</td>\n",
              "      <td>0</td>\n",
              "      <td>0</td>\n",
              "      <td>STON/O2. 3101282</td>\n",
              "      <td>7.9250</td>\n",
              "      <td>S</td>\n",
              "    </tr>\n",
              "    <tr>\n",
              "      <th>3</th>\n",
              "      <td>1</td>\n",
              "      <td>1</td>\n",
              "      <td>Futrelle, Mrs. Jacques Heath (Lily May Peel)</td>\n",
              "      <td>female</td>\n",
              "      <td>35.0</td>\n",
              "      <td>1</td>\n",
              "      <td>0</td>\n",
              "      <td>113803</td>\n",
              "      <td>53.1000</td>\n",
              "      <td>S</td>\n",
              "    </tr>\n",
              "    <tr>\n",
              "      <th>4</th>\n",
              "      <td>0</td>\n",
              "      <td>3</td>\n",
              "      <td>Allen, Mr. William Henry</td>\n",
              "      <td>male</td>\n",
              "      <td>35.0</td>\n",
              "      <td>0</td>\n",
              "      <td>0</td>\n",
              "      <td>373450</td>\n",
              "      <td>8.0500</td>\n",
              "      <td>S</td>\n",
              "    </tr>\n",
              "  </tbody>\n",
              "</table>\n",
              "</div>"
            ],
            "text/plain": [
              "   Survived  Pclass  ...     Fare Embarked\n",
              "0         0       3  ...   7.2500        S\n",
              "1         1       1  ...  71.2833        C\n",
              "2         1       3  ...   7.9250        S\n",
              "3         1       1  ...  53.1000        S\n",
              "4         0       3  ...   8.0500        S\n",
              "\n",
              "[5 rows x 10 columns]"
            ]
          },
          "metadata": {
            "tags": []
          },
          "execution_count": 21
        }
      ]
    },
    {
      "cell_type": "markdown",
      "metadata": {
        "id": "P5ccyAJuMk7c",
        "colab_type": "text"
      },
      "source": [
        "No caso do Embarked, temos apenas 2 dados faltantes. Por ser uma feature categórica, vamos usar a moda para escolher o que colocar nos dados faltantes:"
      ]
    },
    {
      "cell_type": "code",
      "metadata": {
        "id": "zBikIONaMM8B",
        "colab_type": "code",
        "outputId": "d9052b67-10d9-418f-9451-3d8f5b6748d1",
        "colab": {
          "base_uri": "https://localhost:8080/",
          "height": 86
        }
      },
      "source": [
        "# value_counts() mostra a quantidade de cada valor único em uma coluna. Use em variáveis categóricas que tem poucos valores únicos:\n",
        "df['Embarked'].value_counts() "
      ],
      "execution_count": 22,
      "outputs": [
        {
          "output_type": "execute_result",
          "data": {
            "text/plain": [
              "S    644\n",
              "C    168\n",
              "Q     77\n",
              "Name: Embarked, dtype: int64"
            ]
          },
          "metadata": {
            "tags": []
          },
          "execution_count": 22
        }
      ]
    },
    {
      "cell_type": "code",
      "metadata": {
        "id": "uHq72cIOM1ar",
        "colab_type": "code",
        "outputId": "f317e979-ee1b-4e8f-9ee7-de6ca181f52a",
        "colab": {
          "base_uri": "https://localhost:8080/",
          "height": 278
        }
      },
      "source": [
        "# 'S' é o valor mais comum, então vamos ver como substituir os valores faltantes por 'S'\n",
        "df['Embarked'] = df['Embarked'].fillna('S')\n",
        "\n",
        "df.info()"
      ],
      "execution_count": 23,
      "outputs": [
        {
          "output_type": "stream",
          "text": [
            "<class 'pandas.core.frame.DataFrame'>\n",
            "RangeIndex: 891 entries, 0 to 890\n",
            "Data columns (total 10 columns):\n",
            "Survived    891 non-null int64\n",
            "Pclass      891 non-null int64\n",
            "Name        891 non-null object\n",
            "Sex         891 non-null object\n",
            "Age         714 non-null float64\n",
            "SibSp       891 non-null int64\n",
            "Parch       891 non-null int64\n",
            "Ticket      891 non-null object\n",
            "Fare        891 non-null float64\n",
            "Embarked    891 non-null object\n",
            "dtypes: float64(2), int64(4), object(4)\n",
            "memory usage: 69.7+ KB\n"
          ],
          "name": "stdout"
        }
      ]
    },
    {
      "cell_type": "markdown",
      "metadata": {
        "id": "XETe_e1x6COw",
        "colab_type": "text"
      },
      "source": [
        "Por fim, precisamos olhar a idade. Poderiamos simplesmente pegar a média de todas as idades. Mas vamos aproveitar para aprender algumas maneiras melhores de completar nossos dados.\n",
        "\n",
        "Normalmente, a média é uma generalização muito básica dos nossos dados. É comum que haja muitas variáveis que influenciem no comportamento dos dados. No caso do Titanic, sabemos que a classe que o passageiro está tem influência em sua idade.\n",
        "\n",
        "Nem sempre temos essas informações previamente. O Titanic é um caso famoso, mas pode não ser o caso em dados reais. Dessa forma você precisa analisar seus dados mais profundamente: plotar dezenas de gráficos é algo normal no mundo da ciência de dados. \n"
      ]
    },
    {
      "cell_type": "code",
      "metadata": {
        "id": "Sh6-CwwtOf4V",
        "colab_type": "code",
        "outputId": "d8140e16-419b-4203-ddf7-5f3e4cad6602",
        "colab": {
          "base_uri": "https://localhost:8080/",
          "height": 369
        }
      },
      "source": [
        "g = sns.catplot(\"Pclass\", \"Age\", \"Survived\", data=df, kind=\"bar\")\n",
        "plt.show()"
      ],
      "execution_count": 24,
      "outputs": [
        {
          "output_type": "display_data",
          "data": {
            "image/png": "[encoded data removed]",
            "text/plain": [
              "<Figure size 411.875x360 with 1 Axes>"
            ]
          },
          "metadata": {
            "tags": []
          }
        }
      ]
    },
    {
      "cell_type": "code",
      "metadata": {
        "id": "t4oDSVJDBbC2",
        "colab_type": "code",
        "outputId": "71e389a8-b70f-4aff-fef5-9d975efe4845",
        "colab": {
          "base_uri": "https://localhost:8080/",
          "height": 206
        }
      },
      "source": [
        "# Primeiro precisamos separar nossos dados em nulos e não nulos\n",
        "df_age_null = df[df['Age'].isnull() == True]\n",
        "df_age_not_null = df[df['Age'].isnull() == False]\n",
        "\n",
        "df_age_null.head()"
      ],
      "execution_count": 25,
      "outputs": [
        {
          "output_type": "execute_result",
          "data": {
            "text/html": [
              "<div>\n",
              "<style scoped>\n",
              "    .dataframe tbody tr th:only-of-type {\n",
              "        vertical-align: middle;\n",
              "    }\n",
              "\n",
              "    .dataframe tbody tr th {\n",
              "        vertical-align: top;\n",
              "    }\n",
              "\n",
              "    .dataframe thead th {\n",
              "        text-align: right;\n",
              "    }\n",
              "</style>\n",
              "<table border=\"1\" class=\"dataframe\">\n",
              "  <thead>\n",
              "    <tr style=\"text-align: right;\">\n",
              "      <th></th>\n",
              "      <th>Survived</th>\n",
              "      <th>Pclass</th>\n",
              "      <th>Name</th>\n",
              "      <th>Sex</th>\n",
              "      <th>Age</th>\n",
              "      <th>SibSp</th>\n",
              "      <th>Parch</th>\n",
              "      <th>Ticket</th>\n",
              "      <th>Fare</th>\n",
              "      <th>Embarked</th>\n",
              "    </tr>\n",
              "  </thead>\n",
              "  <tbody>\n",
              "    <tr>\n",
              "      <th>5</th>\n",
              "      <td>0</td>\n",
              "      <td>3</td>\n",
              "      <td>Moran, Mr. James</td>\n",
              "      <td>male</td>\n",
              "      <td>NaN</td>\n",
              "      <td>0</td>\n",
              "      <td>0</td>\n",
              "      <td>330877</td>\n",
              "      <td>8.4583</td>\n",
              "      <td>Q</td>\n",
              "    </tr>\n",
              "    <tr>\n",
              "      <th>17</th>\n",
              "      <td>1</td>\n",
              "      <td>2</td>\n",
              "      <td>Williams, Mr. Charles Eugene</td>\n",
              "      <td>male</td>\n",
              "      <td>NaN</td>\n",
              "      <td>0</td>\n",
              "      <td>0</td>\n",
              "      <td>244373</td>\n",
              "      <td>13.0000</td>\n",
              "      <td>S</td>\n",
              "    </tr>\n",
              "    <tr>\n",
              "      <th>19</th>\n",
              "      <td>1</td>\n",
              "      <td>3</td>\n",
              "      <td>Masselmani, Mrs. Fatima</td>\n",
              "      <td>female</td>\n",
              "      <td>NaN</td>\n",
              "      <td>0</td>\n",
              "      <td>0</td>\n",
              "      <td>2649</td>\n",
              "      <td>7.2250</td>\n",
              "      <td>C</td>\n",
              "    </tr>\n",
              "    <tr>\n",
              "      <th>26</th>\n",
              "      <td>0</td>\n",
              "      <td>3</td>\n",
              "      <td>Emir, Mr. Farred Chehab</td>\n",
              "      <td>male</td>\n",
              "      <td>NaN</td>\n",
              "      <td>0</td>\n",
              "      <td>0</td>\n",
              "      <td>2631</td>\n",
              "      <td>7.2250</td>\n",
              "      <td>C</td>\n",
              "    </tr>\n",
              "    <tr>\n",
              "      <th>28</th>\n",
              "      <td>1</td>\n",
              "      <td>3</td>\n",
              "      <td>O'Dwyer, Miss. Ellen \"Nellie\"</td>\n",
              "      <td>female</td>\n",
              "      <td>NaN</td>\n",
              "      <td>0</td>\n",
              "      <td>0</td>\n",
              "      <td>330959</td>\n",
              "      <td>7.8792</td>\n",
              "      <td>Q</td>\n",
              "    </tr>\n",
              "  </tbody>\n",
              "</table>\n",
              "</div>"
            ],
            "text/plain": [
              "    Survived  Pclass                           Name  ...  Ticket     Fare  Embarked\n",
              "5          0       3               Moran, Mr. James  ...  330877   8.4583         Q\n",
              "17         1       2   Williams, Mr. Charles Eugene  ...  244373  13.0000         S\n",
              "19         1       3        Masselmani, Mrs. Fatima  ...    2649   7.2250         C\n",
              "26         0       3        Emir, Mr. Farred Chehab  ...    2631   7.2250         C\n",
              "28         1       3  O'Dwyer, Miss. Ellen \"Nellie\"  ...  330959   7.8792         Q\n",
              "\n",
              "[5 rows x 10 columns]"
            ]
          },
          "metadata": {
            "tags": []
          },
          "execution_count": 25
        }
      ]
    },
    {
      "cell_type": "code",
      "metadata": {
        "id": "ChO_8yS9DHhK",
        "colab_type": "code",
        "outputId": "11d19dfe-b1d9-43b3-d3e0-b345a36fd79c",
        "colab": {
          "base_uri": "https://localhost:8080/",
          "height": 121
        }
      },
      "source": [
        "# vamos agora achar as médias de idade em relação a classe e ao sexo do passageiro\n",
        "df_age_not_null_grouped = df_age_not_null.groupby(['Pclass', 'Sex'])\n",
        "age_mean = df_age_not_null_grouped['Age'].mean().to_dict()\n",
        "age_mean"
      ],
      "execution_count": 26,
      "outputs": [
        {
          "output_type": "execute_result",
          "data": {
            "text/plain": [
              "{(1, 'female'): 34.61176470588235,\n",
              " (1, 'male'): 41.28138613861386,\n",
              " (2, 'female'): 28.722972972972972,\n",
              " (2, 'male'): 30.74070707070707,\n",
              " (3, 'female'): 21.75,\n",
              " (3, 'male'): 26.507588932806325}"
            ]
          },
          "metadata": {
            "tags": []
          },
          "execution_count": 26
        }
      ]
    },
    {
      "cell_type": "code",
      "metadata": {
        "id": "k-guW-0LDI6q",
        "colab_type": "code",
        "outputId": "b11660b9-7470-411a-893d-74c560552a6d",
        "colab": {
          "base_uri": "https://localhost:8080/",
          "height": 467
        }
      },
      "source": [
        "# Tome um tempo para tentar entender o que está acontecendo aqui\n",
        "df_age_null.loc[::, 'Age'] = df_age_null.apply(lambda x: age_mean[(x['Pclass'], x['Sex'])], axis=1)\n",
        "df_age_null.tail(10)"
      ],
      "execution_count": 27,
      "outputs": [
        {
          "output_type": "stream",
          "text": [
            "/usr/local/lib/python3.6/dist-packages/pandas/core/indexing.py:494: SettingWithCopyWarning: \n",
            "A value is trying to be set on a copy of a slice from a DataFrame.\n",
            "Try using .loc[row_indexer,col_indexer] = value instead\n",
            "\n",
            "See the caveats in the documentation: http://pandas.pydata.org/pandas-docs/stable/user_guide/indexing.html#returning-a-view-versus-a-copy\n",
            "  self.obj[item] = s\n"
          ],
          "name": "stderr"
        },
        {
          "output_type": "execute_result",
          "data": {
            "text/html": [
              "<div>\n",
              "<style scoped>\n",
              "    .dataframe tbody tr th:only-of-type {\n",
              "        vertical-align: middle;\n",
              "    }\n",
              "\n",
              "    .dataframe tbody tr th {\n",
              "        vertical-align: top;\n",
              "    }\n",
              "\n",
              "    .dataframe thead th {\n",
              "        text-align: right;\n",
              "    }\n",
              "</style>\n",
              "<table border=\"1\" class=\"dataframe\">\n",
              "  <thead>\n",
              "    <tr style=\"text-align: right;\">\n",
              "      <th></th>\n",
              "      <th>Survived</th>\n",
              "      <th>Pclass</th>\n",
              "      <th>Name</th>\n",
              "      <th>Sex</th>\n",
              "      <th>Age</th>\n",
              "      <th>SibSp</th>\n",
              "      <th>Parch</th>\n",
              "      <th>Ticket</th>\n",
              "      <th>Fare</th>\n",
              "      <th>Embarked</th>\n",
              "    </tr>\n",
              "  </thead>\n",
              "  <tbody>\n",
              "    <tr>\n",
              "      <th>832</th>\n",
              "      <td>0</td>\n",
              "      <td>3</td>\n",
              "      <td>Saad, Mr. Amin</td>\n",
              "      <td>male</td>\n",
              "      <td>26.507589</td>\n",
              "      <td>0</td>\n",
              "      <td>0</td>\n",
              "      <td>2671</td>\n",
              "      <td>7.2292</td>\n",
              "      <td>C</td>\n",
              "    </tr>\n",
              "    <tr>\n",
              "      <th>837</th>\n",
              "      <td>0</td>\n",
              "      <td>3</td>\n",
              "      <td>Sirota, Mr. Maurice</td>\n",
              "      <td>male</td>\n",
              "      <td>26.507589</td>\n",
              "      <td>0</td>\n",
              "      <td>0</td>\n",
              "      <td>392092</td>\n",
              "      <td>8.0500</td>\n",
              "      <td>S</td>\n",
              "    </tr>\n",
              "    <tr>\n",
              "      <th>839</th>\n",
              "      <td>1</td>\n",
              "      <td>1</td>\n",
              "      <td>Marechal, Mr. Pierre</td>\n",
              "      <td>male</td>\n",
              "      <td>41.281386</td>\n",
              "      <td>0</td>\n",
              "      <td>0</td>\n",
              "      <td>11774</td>\n",
              "      <td>29.7000</td>\n",
              "      <td>C</td>\n",
              "    </tr>\n",
              "    <tr>\n",
              "      <th>846</th>\n",
              "      <td>0</td>\n",
              "      <td>3</td>\n",
              "      <td>Sage, Mr. Douglas Bullen</td>\n",
              "      <td>male</td>\n",
              "      <td>26.507589</td>\n",
              "      <td>8</td>\n",
              "      <td>2</td>\n",
              "      <td>CA. 2343</td>\n",
              "      <td>69.5500</td>\n",
              "      <td>S</td>\n",
              "    </tr>\n",
              "    <tr>\n",
              "      <th>849</th>\n",
              "      <td>1</td>\n",
              "      <td>1</td>\n",
              "      <td>Goldenberg, Mrs. Samuel L (Edwiga Grabowska)</td>\n",
              "      <td>female</td>\n",
              "      <td>34.611765</td>\n",
              "      <td>1</td>\n",
              "      <td>0</td>\n",
              "      <td>17453</td>\n",
              "      <td>89.1042</td>\n",
              "      <td>C</td>\n",
              "    </tr>\n",
              "    <tr>\n",
              "      <th>859</th>\n",
              "      <td>0</td>\n",
              "      <td>3</td>\n",
              "      <td>Razi, Mr. Raihed</td>\n",
              "      <td>male</td>\n",
              "      <td>26.507589</td>\n",
              "      <td>0</td>\n",
              "      <td>0</td>\n",
              "      <td>2629</td>\n",
              "      <td>7.2292</td>\n",
              "      <td>C</td>\n",
              "    </tr>\n",
              "    <tr>\n",
              "      <th>863</th>\n",
              "      <td>0</td>\n",
              "      <td>3</td>\n",
              "      <td>Sage, Miss. Dorothy Edith \"Dolly\"</td>\n",
              "      <td>female</td>\n",
              "      <td>21.750000</td>\n",
              "      <td>8</td>\n",
              "      <td>2</td>\n",
              "      <td>CA. 2343</td>\n",
              "      <td>69.5500</td>\n",
              "      <td>S</td>\n",
              "    </tr>\n",
              "    <tr>\n",
              "      <th>868</th>\n",
              "      <td>0</td>\n",
              "      <td>3</td>\n",
              "      <td>van Melkebeke, Mr. Philemon</td>\n",
              "      <td>male</td>\n",
              "      <td>26.507589</td>\n",
              "      <td>0</td>\n",
              "      <td>0</td>\n",
              "      <td>345777</td>\n",
              "      <td>9.5000</td>\n",
              "      <td>S</td>\n",
              "    </tr>\n",
              "    <tr>\n",
              "      <th>878</th>\n",
              "      <td>0</td>\n",
              "      <td>3</td>\n",
              "      <td>Laleff, Mr. Kristo</td>\n",
              "      <td>male</td>\n",
              "      <td>26.507589</td>\n",
              "      <td>0</td>\n",
              "      <td>0</td>\n",
              "      <td>349217</td>\n",
              "      <td>7.8958</td>\n",
              "      <td>S</td>\n",
              "    </tr>\n",
              "    <tr>\n",
              "      <th>888</th>\n",
              "      <td>0</td>\n",
              "      <td>3</td>\n",
              "      <td>Johnston, Miss. Catherine Helen \"Carrie\"</td>\n",
              "      <td>female</td>\n",
              "      <td>21.750000</td>\n",
              "      <td>1</td>\n",
              "      <td>2</td>\n",
              "      <td>W./C. 6607</td>\n",
              "      <td>23.4500</td>\n",
              "      <td>S</td>\n",
              "    </tr>\n",
              "  </tbody>\n",
              "</table>\n",
              "</div>"
            ],
            "text/plain": [
              "     Survived  Pclass  ...     Fare Embarked\n",
              "832         0       3  ...   7.2292        C\n",
              "837         0       3  ...   8.0500        S\n",
              "839         1       1  ...  29.7000        C\n",
              "846         0       3  ...  69.5500        S\n",
              "849         1       1  ...  89.1042        C\n",
              "859         0       3  ...   7.2292        C\n",
              "863         0       3  ...  69.5500        S\n",
              "868         0       3  ...   9.5000        S\n",
              "878         0       3  ...   7.8958        S\n",
              "888         0       3  ...  23.4500        S\n",
              "\n",
              "[10 rows x 10 columns]"
            ]
          },
          "metadata": {
            "tags": []
          },
          "execution_count": 27
        }
      ]
    },
    {
      "cell_type": "code",
      "metadata": {
        "id": "rs0l4Y2KDczQ",
        "colab_type": "code",
        "outputId": "0eff5485-c6fb-4600-c7f7-c1b92c72eb6e",
        "colab": {
          "base_uri": "https://localhost:8080/",
          "height": 278
        }
      },
      "source": [
        "# concatenamos os valores substituidos com os valores antigos\n",
        "df = pd.concat([df_age_null, df_age_not_null])\n",
        "df.info()\n",
        "# temos agora todos os dados completos"
      ],
      "execution_count": 28,
      "outputs": [
        {
          "output_type": "stream",
          "text": [
            "<class 'pandas.core.frame.DataFrame'>\n",
            "Int64Index: 891 entries, 5 to 890\n",
            "Data columns (total 10 columns):\n",
            "Survived    891 non-null int64\n",
            "Pclass      891 non-null int64\n",
            "Name        891 non-null object\n",
            "Sex         891 non-null object\n",
            "Age         891 non-null float64\n",
            "SibSp       891 non-null int64\n",
            "Parch       891 non-null int64\n",
            "Ticket      891 non-null object\n",
            "Fare        891 non-null float64\n",
            "Embarked    891 non-null object\n",
            "dtypes: float64(2), int64(4), object(4)\n",
            "memory usage: 76.6+ KB\n"
          ],
          "name": "stdout"
        }
      ]
    },
    {
      "cell_type": "markdown",
      "metadata": {
        "id": "akkSaBM3PD4D",
        "colab_type": "text"
      },
      "source": [
        "Precisamos agora transformar todos os nossos dados categóricos para dados numéricos, pois o algoritmo de ML que iremos usar não aceita Strings. \n",
        "\n",
        "Vamos começar retirando duas variáveis que nossa intuição sugere que não agregam muito ao que estamos tentando prever: nome do passageiro e número do ticket de embarque. \n",
        "\n",
        "Spoiler: a feature Name na verdade esconde uma informação importante, você consegue descobrir qual? (mesmo assim vamos desconsiderar ela por questão de simplicidade)"
      ]
    },
    {
      "cell_type": "code",
      "metadata": {
        "id": "ioKcqPOdHabh",
        "colab_type": "code",
        "outputId": "17a4c170-f083-4e8a-fdf5-da5655b64038",
        "colab": {
          "base_uri": "https://localhost:8080/",
          "height": 206
        }
      },
      "source": [
        "df.drop(['Name', 'Ticket'], axis=1, inplace=True)\n",
        "df.head()"
      ],
      "execution_count": 29,
      "outputs": [
        {
          "output_type": "execute_result",
          "data": {
            "text/html": [
              "<div>\n",
              "<style scoped>\n",
              "    .dataframe tbody tr th:only-of-type {\n",
              "        vertical-align: middle;\n",
              "    }\n",
              "\n",
              "    .dataframe tbody tr th {\n",
              "        vertical-align: top;\n",
              "    }\n",
              "\n",
              "    .dataframe thead th {\n",
              "        text-align: right;\n",
              "    }\n",
              "</style>\n",
              "<table border=\"1\" class=\"dataframe\">\n",
              "  <thead>\n",
              "    <tr style=\"text-align: right;\">\n",
              "      <th></th>\n",
              "      <th>Survived</th>\n",
              "      <th>Pclass</th>\n",
              "      <th>Sex</th>\n",
              "      <th>Age</th>\n",
              "      <th>SibSp</th>\n",
              "      <th>Parch</th>\n",
              "      <th>Fare</th>\n",
              "      <th>Embarked</th>\n",
              "    </tr>\n",
              "  </thead>\n",
              "  <tbody>\n",
              "    <tr>\n",
              "      <th>5</th>\n",
              "      <td>0</td>\n",
              "      <td>3</td>\n",
              "      <td>male</td>\n",
              "      <td>26.507589</td>\n",
              "      <td>0</td>\n",
              "      <td>0</td>\n",
              "      <td>8.4583</td>\n",
              "      <td>Q</td>\n",
              "    </tr>\n",
              "    <tr>\n",
              "      <th>17</th>\n",
              "      <td>1</td>\n",
              "      <td>2</td>\n",
              "      <td>male</td>\n",
              "      <td>30.740707</td>\n",
              "      <td>0</td>\n",
              "      <td>0</td>\n",
              "      <td>13.0000</td>\n",
              "      <td>S</td>\n",
              "    </tr>\n",
              "    <tr>\n",
              "      <th>19</th>\n",
              "      <td>1</td>\n",
              "      <td>3</td>\n",
              "      <td>female</td>\n",
              "      <td>21.750000</td>\n",
              "      <td>0</td>\n",
              "      <td>0</td>\n",
              "      <td>7.2250</td>\n",
              "      <td>C</td>\n",
              "    </tr>\n",
              "    <tr>\n",
              "      <th>26</th>\n",
              "      <td>0</td>\n",
              "      <td>3</td>\n",
              "      <td>male</td>\n",
              "      <td>26.507589</td>\n",
              "      <td>0</td>\n",
              "      <td>0</td>\n",
              "      <td>7.2250</td>\n",
              "      <td>C</td>\n",
              "    </tr>\n",
              "    <tr>\n",
              "      <th>28</th>\n",
              "      <td>1</td>\n",
              "      <td>3</td>\n",
              "      <td>female</td>\n",
              "      <td>21.750000</td>\n",
              "      <td>0</td>\n",
              "      <td>0</td>\n",
              "      <td>7.8792</td>\n",
              "      <td>Q</td>\n",
              "    </tr>\n",
              "  </tbody>\n",
              "</table>\n",
              "</div>"
            ],
            "text/plain": [
              "    Survived  Pclass     Sex        Age  SibSp  Parch     Fare Embarked\n",
              "5          0       3    male  26.507589      0      0   8.4583        Q\n",
              "17         1       2    male  30.740707      0      0  13.0000        S\n",
              "19         1       3  female  21.750000      0      0   7.2250        C\n",
              "26         0       3    male  26.507589      0      0   7.2250        C\n",
              "28         1       3  female  21.750000      0      0   7.8792        Q"
            ]
          },
          "metadata": {
            "tags": []
          },
          "execution_count": 29
        }
      ]
    },
    {
      "cell_type": "markdown",
      "metadata": {
        "id": "z5ax9qvUQDE_",
        "colab_type": "text"
      },
      "source": [
        "Contudo, não podemos nos desfazer das features Sex e Embarked. Se você já assistiu o filme Titanic, você com certeza deve saber que 'mulheres e crianças primeiro'. Dessa forma, imaginamos que mulheres têm maior chance de sobreviver ao acidente \n",
        "\n",
        "## Desafio \n",
        "Prove isso por meio de um gráfico"
      ]
    },
    {
      "cell_type": "code",
      "metadata": {
        "id": "OMdiJlLdHlnh",
        "colab_type": "code",
        "outputId": "c4eb3bb5-8ed4-4cdd-dfa3-8437d21eb663",
        "colab": {
          "base_uri": "https://localhost:8080/",
          "height": 206
        }
      },
      "source": [
        "# Vamos usar o método apply para substituir Sex por um valor binário 0 (mulher) ou 1 (homem)\n",
        "df['Sex'] = df['Sex'].apply(lambda x: 1 if x == 'male' else 0)\n",
        "df.head()"
      ],
      "execution_count": 30,
      "outputs": [
        {
          "output_type": "execute_result",
          "data": {
            "text/html": [
              "<div>\n",
              "<style scoped>\n",
              "    .dataframe tbody tr th:only-of-type {\n",
              "        vertical-align: middle;\n",
              "    }\n",
              "\n",
              "    .dataframe tbody tr th {\n",
              "        vertical-align: top;\n",
              "    }\n",
              "\n",
              "    .dataframe thead th {\n",
              "        text-align: right;\n",
              "    }\n",
              "</style>\n",
              "<table border=\"1\" class=\"dataframe\">\n",
              "  <thead>\n",
              "    <tr style=\"text-align: right;\">\n",
              "      <th></th>\n",
              "      <th>Survived</th>\n",
              "      <th>Pclass</th>\n",
              "      <th>Sex</th>\n",
              "      <th>Age</th>\n",
              "      <th>SibSp</th>\n",
              "      <th>Parch</th>\n",
              "      <th>Fare</th>\n",
              "      <th>Embarked</th>\n",
              "    </tr>\n",
              "  </thead>\n",
              "  <tbody>\n",
              "    <tr>\n",
              "      <th>5</th>\n",
              "      <td>0</td>\n",
              "      <td>3</td>\n",
              "      <td>1</td>\n",
              "      <td>26.507589</td>\n",
              "      <td>0</td>\n",
              "      <td>0</td>\n",
              "      <td>8.4583</td>\n",
              "      <td>Q</td>\n",
              "    </tr>\n",
              "    <tr>\n",
              "      <th>17</th>\n",
              "      <td>1</td>\n",
              "      <td>2</td>\n",
              "      <td>1</td>\n",
              "      <td>30.740707</td>\n",
              "      <td>0</td>\n",
              "      <td>0</td>\n",
              "      <td>13.0000</td>\n",
              "      <td>S</td>\n",
              "    </tr>\n",
              "    <tr>\n",
              "      <th>19</th>\n",
              "      <td>1</td>\n",
              "      <td>3</td>\n",
              "      <td>0</td>\n",
              "      <td>21.750000</td>\n",
              "      <td>0</td>\n",
              "      <td>0</td>\n",
              "      <td>7.2250</td>\n",
              "      <td>C</td>\n",
              "    </tr>\n",
              "    <tr>\n",
              "      <th>26</th>\n",
              "      <td>0</td>\n",
              "      <td>3</td>\n",
              "      <td>1</td>\n",
              "      <td>26.507589</td>\n",
              "      <td>0</td>\n",
              "      <td>0</td>\n",
              "      <td>7.2250</td>\n",
              "      <td>C</td>\n",
              "    </tr>\n",
              "    <tr>\n",
              "      <th>28</th>\n",
              "      <td>1</td>\n",
              "      <td>3</td>\n",
              "      <td>0</td>\n",
              "      <td>21.750000</td>\n",
              "      <td>0</td>\n",
              "      <td>0</td>\n",
              "      <td>7.8792</td>\n",
              "      <td>Q</td>\n",
              "    </tr>\n",
              "  </tbody>\n",
              "</table>\n",
              "</div>"
            ],
            "text/plain": [
              "    Survived  Pclass  Sex        Age  SibSp  Parch     Fare Embarked\n",
              "5          0       3    1  26.507589      0      0   8.4583        Q\n",
              "17         1       2    1  30.740707      0      0  13.0000        S\n",
              "19         1       3    0  21.750000      0      0   7.2250        C\n",
              "26         0       3    1  26.507589      0      0   7.2250        C\n",
              "28         1       3    0  21.750000      0      0   7.8792        Q"
            ]
          },
          "metadata": {
            "tags": []
          },
          "execution_count": 30
        }
      ]
    },
    {
      "cell_type": "code",
      "metadata": {
        "id": "An1lAKTRMm9f",
        "colab_type": "code",
        "outputId": "d90bcee9-f913-49a9-9525-e55f77a6d761",
        "colab": {
          "base_uri": "https://localhost:8080/",
          "height": 206
        }
      },
      "source": [
        "# Aqui, vamos usar uma função presente no Sklearn para nos ajudar a substituir valores categóricos por numéricos\n",
        "le = LabelEncoder()\n",
        "df['Embarked'] = le.fit_transform(df['Embarked'])\n",
        "df.head()"
      ],
      "execution_count": 31,
      "outputs": [
        {
          "output_type": "execute_result",
          "data": {
            "text/html": [
              "<div>\n",
              "<style scoped>\n",
              "    .dataframe tbody tr th:only-of-type {\n",
              "        vertical-align: middle;\n",
              "    }\n",
              "\n",
              "    .dataframe tbody tr th {\n",
              "        vertical-align: top;\n",
              "    }\n",
              "\n",
              "    .dataframe thead th {\n",
              "        text-align: right;\n",
              "    }\n",
              "</style>\n",
              "<table border=\"1\" class=\"dataframe\">\n",
              "  <thead>\n",
              "    <tr style=\"text-align: right;\">\n",
              "      <th></th>\n",
              "      <th>Survived</th>\n",
              "      <th>Pclass</th>\n",
              "      <th>Sex</th>\n",
              "      <th>Age</th>\n",
              "      <th>SibSp</th>\n",
              "      <th>Parch</th>\n",
              "      <th>Fare</th>\n",
              "      <th>Embarked</th>\n",
              "    </tr>\n",
              "  </thead>\n",
              "  <tbody>\n",
              "    <tr>\n",
              "      <th>5</th>\n",
              "      <td>0</td>\n",
              "      <td>3</td>\n",
              "      <td>1</td>\n",
              "      <td>26.507589</td>\n",
              "      <td>0</td>\n",
              "      <td>0</td>\n",
              "      <td>8.4583</td>\n",
              "      <td>1</td>\n",
              "    </tr>\n",
              "    <tr>\n",
              "      <th>17</th>\n",
              "      <td>1</td>\n",
              "      <td>2</td>\n",
              "      <td>1</td>\n",
              "      <td>30.740707</td>\n",
              "      <td>0</td>\n",
              "      <td>0</td>\n",
              "      <td>13.0000</td>\n",
              "      <td>2</td>\n",
              "    </tr>\n",
              "    <tr>\n",
              "      <th>19</th>\n",
              "      <td>1</td>\n",
              "      <td>3</td>\n",
              "      <td>0</td>\n",
              "      <td>21.750000</td>\n",
              "      <td>0</td>\n",
              "      <td>0</td>\n",
              "      <td>7.2250</td>\n",
              "      <td>0</td>\n",
              "    </tr>\n",
              "    <tr>\n",
              "      <th>26</th>\n",
              "      <td>0</td>\n",
              "      <td>3</td>\n",
              "      <td>1</td>\n",
              "      <td>26.507589</td>\n",
              "      <td>0</td>\n",
              "      <td>0</td>\n",
              "      <td>7.2250</td>\n",
              "      <td>0</td>\n",
              "    </tr>\n",
              "    <tr>\n",
              "      <th>28</th>\n",
              "      <td>1</td>\n",
              "      <td>3</td>\n",
              "      <td>0</td>\n",
              "      <td>21.750000</td>\n",
              "      <td>0</td>\n",
              "      <td>0</td>\n",
              "      <td>7.8792</td>\n",
              "      <td>1</td>\n",
              "    </tr>\n",
              "  </tbody>\n",
              "</table>\n",
              "</div>"
            ],
            "text/plain": [
              "    Survived  Pclass  Sex        Age  SibSp  Parch     Fare  Embarked\n",
              "5          0       3    1  26.507589      0      0   8.4583         1\n",
              "17         1       2    1  30.740707      0      0  13.0000         2\n",
              "19         1       3    0  21.750000      0      0   7.2250         0\n",
              "26         0       3    1  26.507589      0      0   7.2250         0\n",
              "28         1       3    0  21.750000      0      0   7.8792         1"
            ]
          },
          "metadata": {
            "tags": []
          },
          "execution_count": 31
        }
      ]
    },
    {
      "cell_type": "markdown",
      "metadata": {
        "id": "6TTri-f9GKtE",
        "colab_type": "text"
      },
      "source": [
        "# Finalmente: Árvores de decisão\n",
        "\n",
        "Você pode já ter ouvido que IA é nada mais que um monte de if-else. Isso é especialmente verdade para árvores de decisão! \n",
        "\n",
        "### Vantagens\n",
        "\n",
        "- Fácil de entender: Muitos algoritmos de Machine Learning são complexos de entender. Árvores de decisão são simples, facilmente interpretáveis e de fácil visualização (vamos mostrar como visualizar a árvore resultante)\n",
        "- Não precisa de tanta manipulação e limpeza dos dados: O algoritmo não é tão influenciavel por outliers. Além disso, não é necessário normalizar os dados.\n",
        "- Aceita ambos dados numéricos ou categóricos.\n",
        "\n",
        " \n",
        "### Desvantagens\n",
        "\n",
        "- Over fitting: Over fitting is one of the most practical difficulty for decision tree models. This problem gets solved by setting constraints on model parameters and pruning (discussed in detailed below).\n",
        "- Not fit for continuous variables: While working with continuous numerical variables, decision tree looses information when it categorizes variables in different categories.\n",
        "\n",
        "\n",
        "### Sabendo mais sobre o algoritmo:\n",
        "\n",
        "- Básico de árvores de decisão: https://medium.com/@chiragsehra42/decision-trees-explained-easily-28f23241248\n",
        "- Termos, explicações e vantagens/desvantagens: https://clearpredictions.com/Home/DecisionTree\n",
        "- Como a divisão é feita: https://towardsdatascience.com/entropy-how-decision-trees-make-decisions-2946b9c18c8"
      ]
    },
    {
      "cell_type": "code",
      "metadata": {
        "id": "BmHUh1vAGlhx",
        "colab_type": "code",
        "outputId": "3a1c756a-1048-4ab3-e621-c2b846b74440",
        "colab": {
          "base_uri": "https://localhost:8080/",
          "height": 312
        }
      },
      "source": [
        "X = df.drop(['Survived'], axis=1)\n",
        "y = df['Survived']\n",
        "\n",
        "print(X.head(), y)"
      ],
      "execution_count": 32,
      "outputs": [
        {
          "output_type": "stream",
          "text": [
            "    Pclass  Sex        Age  SibSp  Parch     Fare  Embarked\n",
            "5        3    1  26.507589      0      0   8.4583         1\n",
            "17       2    1  30.740707      0      0  13.0000         2\n",
            "19       3    0  21.750000      0      0   7.2250         0\n",
            "26       3    1  26.507589      0      0   7.2250         0\n",
            "28       3    0  21.750000      0      0   7.8792         1 5      0\n",
            "17     1\n",
            "19     1\n",
            "26     0\n",
            "28     1\n",
            "      ..\n",
            "885    0\n",
            "886    0\n",
            "887    1\n",
            "889    1\n",
            "890    0\n",
            "Name: Survived, Length: 891, dtype: int64\n"
          ],
          "name": "stdout"
        }
      ]
    },
    {
      "cell_type": "code",
      "metadata": {
        "id": "DKO1xXiIGVTN",
        "colab_type": "code",
        "colab": {}
      },
      "source": [
        "X_train, X_test, y_train, y_test = train_test_split(X, y, test_size=0.2, random_state=42)"
      ],
      "execution_count": 0,
      "outputs": []
    },
    {
      "cell_type": "code",
      "metadata": {
        "id": "jsMmt53JF8PE",
        "colab_type": "code",
        "outputId": "968ab3a6-5c24-4ce6-f5eb-1f2fdd6c74cd",
        "colab": {
          "base_uri": "https://localhost:8080/",
          "height": 121
        }
      },
      "source": [
        "tree = DecisionTreeClassifier(random_state=42)\n",
        "tree.fit(X_train, y_train)"
      ],
      "execution_count": 34,
      "outputs": [
        {
          "output_type": "execute_result",
          "data": {
            "text/plain": [
              "DecisionTreeClassifier(class_weight=None, criterion='gini', max_depth=None,\n",
              "                       max_features=None, max_leaf_nodes=None,\n",
              "                       min_impurity_decrease=0.0, min_impurity_split=None,\n",
              "                       min_samples_leaf=1, min_samples_split=2,\n",
              "                       min_weight_fraction_leaf=0.0, presort=False,\n",
              "                       random_state=42, splitter='best')"
            ]
          },
          "metadata": {
            "tags": []
          },
          "execution_count": 34
        }
      ]
    },
    {
      "cell_type": "code",
      "metadata": {
        "id": "fsK70J4NGPvh",
        "colab_type": "code",
        "outputId": "6c499bda-fc7d-44ab-e2ab-d7c9a33896d3",
        "colab": {
          "base_uri": "https://localhost:8080/",
          "height": 34
        }
      },
      "source": [
        "y_predict = tree.predict(X_test)\n",
        "accuracy_score(y_test, y_predict)"
      ],
      "execution_count": 35,
      "outputs": [
        {
          "output_type": "execute_result",
          "data": {
            "text/plain": [
              "0.770949720670391"
            ]
          },
          "metadata": {
            "tags": []
          },
          "execution_count": 35
        }
      ]
    },
    {
      "cell_type": "code",
      "metadata": {
        "id": "qpi9AyP95GDO",
        "colab_type": "code",
        "outputId": "32723b52-7fe4-4305-aca9-8ff229120719",
        "colab": {
          "base_uri": "https://localhost:8080/",
          "height": 1000
        }
      },
      "source": [
        "# Visite https://medium.com/@rnbrown/creating-and-visualizing-decision-trees-with-python-f8e8fa394176 para saber mais sobre como plotar essa árvore\n",
        "display(graphviz.Source(export_graphviz(\n",
        "    tree, \n",
        "    feature_names=X_train.columns,\n",
        "    class_names=True,\n",
        "    filled=True, \n",
        "    rounded=True,\n",
        "    special_characters=True)))"
      ],
      "execution_count": 36,
      "outputs": [
        {
          "output_type": "display_data",
          "data": {
            "text/plain": [
              "<graphviz.files.Source at 0x7f31413142e8>"
            ],
            "image/svg+xml": "<?xml version=\"1.0\" encoding=\"UTF-8\" standalone=\"no\"?>\n<!DOCTYPE svg PUBLIC \"-//W3C//DTD SVG 1.1//EN\"\n \"http://www.w3.org/Graphics/SVG/1.1/DTD/svg11.dtd\">\n<!-- Generated by graphviz version 2.40.1 (20161225.0304)\n -->\n<!-- Title: Tree Pages: 1 -->\n<svg width=\"6087pt\" height=\"1896pt\"\n viewBox=\"0.00 0.00 6087.00 1896.00\" xmlns=\"http://www.w3.org/2000/svg\" xmlns:xlink=\"http://www.w3.org/1999/xlink\">\n<g id=\"graph0\" class=\"graph\" transform=\"scale(1 1) rotate(0) translate(4 1892)\">\n<title>Tree</title>\n<polygon fill=\"#ffffff\" stroke=\"transparent\" points=\"-4,4 -4,-1892 6083,-1892 6083,4 -4,4\"/>\n<!-- 0 -->\n<g id=\"node1\" class=\"node\">\n<title>0</title>\n<path fill=\"#f5d0b5\" stroke=\"#000000\" d=\"M2366.5,-1888C2366.5,-1888 2258.5,-1888 2258.5,-1888 2252.5,-1888 2246.5,-1882 2246.5,-1876 2246.5,-1876 2246.5,-1822 2246.5,-1822 2246.5,-1816 2252.5,-1810 2258.5,-1810 2258.5,-1810 2366.5,-1810 2366.5,-1810 2372.5,-1810 2378.5,-1816 2378.5,-1822 2378.5,-1822 2378.5,-1876 2378.5,-1876 2378.5,-1882 2372.5,-1888 2366.5,-1888\"/>\n<text text-anchor=\"start\" x=\"2282\" y=\"-1873.8\" font-family=\"Helvetica,sans-Serif\" font-size=\"14.00\" fill=\"#000000\">Sex ≤ 0.5</text>\n<text text-anchor=\"start\" x=\"2274.5\" y=\"-1859.8\" font-family=\"Helvetica,sans-Serif\" font-size=\"14.00\" fill=\"#000000\">gini = 0.473</text>\n<text text-anchor=\"start\" x=\"2264.5\" y=\"-1845.8\" font-family=\"Helvetica,sans-Serif\" font-size=\"14.00\" fill=\"#000000\">samples = 712</text>\n<text text-anchor=\"start\" x=\"2254.5\" y=\"-1831.8\" font-family=\"Helvetica,sans-Serif\" font-size=\"14.00\" fill=\"#000000\">value = [438, 274]</text>\n<text text-anchor=\"start\" x=\"2280\" y=\"-1817.8\" font-family=\"Helvetica,sans-Serif\" font-size=\"14.00\" fill=\"#000000\">class = y</text>\n<text text-anchor=\"start\" x=\"2338\" y=\"-1817.8\" font-family=\"Helvetica,sans-Serif\" baseline-shift=\"sub\" font-size=\"14.00\" fill=\"#000000\">0</text>\n</g>\n<!-- 1 -->\n<g id=\"node2\" class=\"node\">\n<title>1</title>\n<path fill=\"#7bbeee\" stroke=\"#000000\" d=\"M1800.5,-1774C1800.5,-1774 1700.5,-1774 1700.5,-1774 1694.5,-1774 1688.5,-1768 1688.5,-1762 1688.5,-1762 1688.5,-1708 1688.5,-1708 1688.5,-1702 1694.5,-1696 1700.5,-1696 1700.5,-1696 1800.5,-1696 1800.5,-1696 1806.5,-1696 1812.5,-1702 1812.5,-1708 1812.5,-1708 1812.5,-1762 1812.5,-1762 1812.5,-1768 1806.5,-1774 1800.5,-1774\"/>\n<text text-anchor=\"start\" x=\"1711\" y=\"-1759.8\" font-family=\"Helvetica,sans-Serif\" font-size=\"14.00\" fill=\"#000000\">Pclass ≤ 2.5</text>\n<text text-anchor=\"start\" x=\"1712.5\" y=\"-1745.8\" font-family=\"Helvetica,sans-Serif\" font-size=\"14.00\" fill=\"#000000\">gini = 0.376</text>\n<text text-anchor=\"start\" x=\"1702.5\" y=\"-1731.8\" font-family=\"Helvetica,sans-Serif\" font-size=\"14.00\" fill=\"#000000\">samples = 247</text>\n<text text-anchor=\"start\" x=\"1696.5\" y=\"-1717.8\" font-family=\"Helvetica,sans-Serif\" font-size=\"14.00\" fill=\"#000000\">value = [62, 185]</text>\n<text text-anchor=\"start\" x=\"1718\" y=\"-1703.8\" font-family=\"Helvetica,sans-Serif\" font-size=\"14.00\" fill=\"#000000\">class = y</text>\n<text text-anchor=\"start\" x=\"1776\" y=\"-1703.8\" font-family=\"Helvetica,sans-Serif\" baseline-shift=\"sub\" font-size=\"14.00\" fill=\"#000000\">1</text>\n</g>\n<!-- 0&#45;&gt;1 -->\n<g id=\"edge1\" class=\"edge\">\n<title>0&#45;&gt;1</title>\n<path fill=\"none\" stroke=\"#000000\" d=\"M2246.3788,-1835.5875C2140.1607,-1814.0415 1932.3368,-1771.8851 1822.4991,-1749.6048\"/>\n<polygon fill=\"#000000\" stroke=\"#000000\" points=\"1823.0009,-1746.1354 1812.5047,-1747.5775 1821.6093,-1752.9957 1823.0009,-1746.1354\"/>\n<text text-anchor=\"middle\" x=\"1826.3153\" y=\"-1764.7166\" font-family=\"Helvetica,sans-Serif\" font-size=\"14.00\" fill=\"#000000\">True</text>\n</g>\n<!-- 110 -->\n<g id=\"node111\" class=\"node\">\n<title>110</title>\n<path fill=\"#eb9f68\" stroke=\"#000000\" d=\"M2960.5,-1774C2960.5,-1774 2860.5,-1774 2860.5,-1774 2854.5,-1774 2848.5,-1768 2848.5,-1762 2848.5,-1762 2848.5,-1708 2848.5,-1708 2848.5,-1702 2854.5,-1696 2860.5,-1696 2860.5,-1696 2960.5,-1696 2960.5,-1696 2966.5,-1696 2972.5,-1702 2972.5,-1708 2972.5,-1708 2972.5,-1762 2972.5,-1762 2972.5,-1768 2966.5,-1774 2960.5,-1774\"/>\n<text text-anchor=\"start\" x=\"2875.5\" y=\"-1759.8\" font-family=\"Helvetica,sans-Serif\" font-size=\"14.00\" fill=\"#000000\">Age ≤ 13.0</text>\n<text text-anchor=\"start\" x=\"2877\" y=\"-1745.8\" font-family=\"Helvetica,sans-Serif\" font-size=\"14.00\" fill=\"#000000\">gini = 0.31</text>\n<text text-anchor=\"start\" x=\"2862.5\" y=\"-1731.8\" font-family=\"Helvetica,sans-Serif\" font-size=\"14.00\" fill=\"#000000\">samples = 465</text>\n<text text-anchor=\"start\" x=\"2856.5\" y=\"-1717.8\" font-family=\"Helvetica,sans-Serif\" font-size=\"14.00\" fill=\"#000000\">value = [376, 89]</text>\n<text text-anchor=\"start\" x=\"2878\" y=\"-1703.8\" font-family=\"Helvetica,sans-Serif\" font-size=\"14.00\" fill=\"#000000\">class = y</text>\n<text text-anchor=\"start\" x=\"2936\" y=\"-1703.8\" font-family=\"Helvetica,sans-Serif\" baseline-shift=\"sub\" font-size=\"14.00\" fill=\"#000000\">0</text>\n</g>\n<!-- 0&#45;&gt;110 -->\n<g id=\"edge110\" class=\"edge\">\n<title>0&#45;&gt;110</title>\n<path fill=\"none\" stroke=\"#000000\" d=\"M2378.7813,-1836.3644C2491.9513,-1814.7902 2721.5254,-1771.0253 2838.4933,-1748.727\"/>\n<polygon fill=\"#000000\" stroke=\"#000000\" points=\"2839.2603,-1752.1439 2848.428,-1746.8331 2837.9494,-1745.2678 2839.2603,-1752.1439\"/>\n<text text-anchor=\"middle\" x=\"2834.3734\" y=\"-1763.8085\" font-family=\"Helvetica,sans-Serif\" font-size=\"14.00\" fill=\"#000000\">False</text>\n</g>\n<!-- 2 -->\n<g id=\"node3\" class=\"node\">\n<title>2</title>\n<path fill=\"#3fa0e6\" stroke=\"#000000\" d=\"M764.5,-1660C764.5,-1660 672.5,-1660 672.5,-1660 666.5,-1660 660.5,-1654 660.5,-1648 660.5,-1648 660.5,-1594 660.5,-1594 660.5,-1588 666.5,-1582 672.5,-1582 672.5,-1582 764.5,-1582 764.5,-1582 770.5,-1582 776.5,-1588 776.5,-1594 776.5,-1594 776.5,-1648 776.5,-1648 776.5,-1654 770.5,-1660 764.5,-1660\"/>\n<text text-anchor=\"start\" x=\"677.5\" y=\"-1645.8\" font-family=\"Helvetica,sans-Serif\" font-size=\"14.00\" fill=\"#000000\">Fare ≤ 13.25</text>\n<text text-anchor=\"start\" x=\"680.5\" y=\"-1631.8\" font-family=\"Helvetica,sans-Serif\" font-size=\"14.00\" fill=\"#000000\">gini = 0.058</text>\n<text text-anchor=\"start\" x=\"670.5\" y=\"-1617.8\" font-family=\"Helvetica,sans-Serif\" font-size=\"14.00\" fill=\"#000000\">samples = 133</text>\n<text text-anchor=\"start\" x=\"668.5\" y=\"-1603.8\" font-family=\"Helvetica,sans-Serif\" font-size=\"14.00\" fill=\"#000000\">value = [4, 129]</text>\n<text text-anchor=\"start\" x=\"686\" y=\"-1589.8\" font-family=\"Helvetica,sans-Serif\" font-size=\"14.00\" fill=\"#000000\">class = y</text>\n<text text-anchor=\"start\" x=\"744\" y=\"-1589.8\" font-family=\"Helvetica,sans-Serif\" baseline-shift=\"sub\" font-size=\"14.00\" fill=\"#000000\">1</text>\n</g>\n<!-- 1&#45;&gt;2 -->\n<g id=\"edge2\" class=\"edge\">\n<title>1&#45;&gt;2</title>\n<path fill=\"none\" stroke=\"#000000\" d=\"M1688.2678,-1728.1255C1506.3003,-1708.0244 976.1128,-1649.4572 786.7285,-1628.5369\"/>\n<polygon fill=\"#000000\" stroke=\"#000000\" points=\"786.9494,-1625.0401 776.6256,-1627.4208 786.1808,-1631.9977 786.9494,-1625.0401\"/>\n</g>\n<!-- 27 -->\n<g id=\"node28\" class=\"node\">\n<title>27</title>\n<path fill=\"#fefbf8\" stroke=\"#000000\" d=\"M1798,-1660C1798,-1660 1703,-1660 1703,-1660 1697,-1660 1691,-1654 1691,-1648 1691,-1648 1691,-1594 1691,-1594 1691,-1588 1697,-1582 1703,-1582 1703,-1582 1798,-1582 1798,-1582 1804,-1582 1810,-1588 1810,-1594 1810,-1594 1810,-1648 1810,-1648 1810,-1654 1804,-1660 1798,-1660\"/>\n<text text-anchor=\"start\" x=\"1699\" y=\"-1645.8\" font-family=\"Helvetica,sans-Serif\" font-size=\"14.00\" fill=\"#000000\">Embarked ≤ 1.5</text>\n<text text-anchor=\"start\" x=\"1721\" y=\"-1631.8\" font-family=\"Helvetica,sans-Serif\" font-size=\"14.00\" fill=\"#000000\">gini = 0.5</text>\n<text text-anchor=\"start\" x=\"1702.5\" y=\"-1617.8\" font-family=\"Helvetica,sans-Serif\" font-size=\"14.00\" fill=\"#000000\">samples = 114</text>\n<text text-anchor=\"start\" x=\"1700.5\" y=\"-1603.8\" font-family=\"Helvetica,sans-Serif\" font-size=\"14.00\" fill=\"#000000\">value = [58, 56]</text>\n<text text-anchor=\"start\" x=\"1718\" y=\"-1589.8\" font-family=\"Helvetica,sans-Serif\" font-size=\"14.00\" fill=\"#000000\">class = y</text>\n<text text-anchor=\"start\" x=\"1776\" y=\"-1589.8\" font-family=\"Helvetica,sans-Serif\" baseline-shift=\"sub\" font-size=\"14.00\" fill=\"#000000\">0</text>\n</g>\n<!-- 1&#45;&gt;27 -->\n<g id=\"edge27\" class=\"edge\">\n<title>1&#45;&gt;27</title>\n<path fill=\"none\" stroke=\"#000000\" d=\"M1750.5,-1695.7677C1750.5,-1687.6172 1750.5,-1678.9283 1750.5,-1670.4649\"/>\n<polygon fill=\"#000000\" stroke=\"#000000\" points=\"1754.0001,-1670.3046 1750.5,-1660.3046 1747.0001,-1670.3047 1754.0001,-1670.3046\"/>\n</g>\n<!-- 3 -->\n<g id=\"node4\" class=\"node\">\n<title>3</title>\n<path fill=\"#4ba6e7\" stroke=\"#000000\" d=\"M386,-1546C386,-1546 303,-1546 303,-1546 297,-1546 291,-1540 291,-1534 291,-1534 291,-1480 291,-1480 291,-1474 297,-1468 303,-1468 303,-1468 386,-1468 386,-1468 392,-1468 398,-1474 398,-1480 398,-1480 398,-1534 398,-1534 398,-1540 392,-1546 386,-1546\"/>\n<text text-anchor=\"start\" x=\"299\" y=\"-1531.8\" font-family=\"Helvetica,sans-Serif\" font-size=\"14.00\" fill=\"#000000\">Fare ≤ 12.825</text>\n<text text-anchor=\"start\" x=\"306.5\" y=\"-1517.8\" font-family=\"Helvetica,sans-Serif\" font-size=\"14.00\" fill=\"#000000\">gini = 0.153</text>\n<text text-anchor=\"start\" x=\"300.5\" y=\"-1503.8\" font-family=\"Helvetica,sans-Serif\" font-size=\"14.00\" fill=\"#000000\">samples = 24</text>\n<text text-anchor=\"start\" x=\"299\" y=\"-1489.8\" font-family=\"Helvetica,sans-Serif\" font-size=\"14.00\" fill=\"#000000\">value = [2, 22]</text>\n<text text-anchor=\"start\" x=\"312\" y=\"-1475.8\" font-family=\"Helvetica,sans-Serif\" font-size=\"14.00\" fill=\"#000000\">class = y</text>\n<text text-anchor=\"start\" x=\"370\" y=\"-1475.8\" font-family=\"Helvetica,sans-Serif\" baseline-shift=\"sub\" font-size=\"14.00\" fill=\"#000000\">1</text>\n</g>\n<!-- 2&#45;&gt;3 -->\n<g id=\"edge3\" class=\"edge\">\n<title>2&#45;&gt;3</title>\n<path fill=\"none\" stroke=\"#000000\" d=\"M660.4729,-1603.3126C591.9854,-1582.4367 478.4973,-1547.8441 407.7952,-1526.2932\"/>\n<polygon fill=\"#000000\" stroke=\"#000000\" points=\"408.6979,-1522.9094 398.1119,-1523.3416 406.6569,-1529.6053 408.6979,-1522.9094\"/>\n</g>\n<!-- 14 -->\n<g id=\"node15\" class=\"node\">\n<title>14</title>\n<path fill=\"#3d9fe5\" stroke=\"#000000\" d=\"M764.5,-1546C764.5,-1546 672.5,-1546 672.5,-1546 666.5,-1546 660.5,-1540 660.5,-1534 660.5,-1534 660.5,-1480 660.5,-1480 660.5,-1474 666.5,-1468 672.5,-1468 672.5,-1468 764.5,-1468 764.5,-1468 770.5,-1468 776.5,-1474 776.5,-1480 776.5,-1480 776.5,-1534 776.5,-1534 776.5,-1540 770.5,-1546 764.5,-1546\"/>\n<text text-anchor=\"start\" x=\"669\" y=\"-1531.8\" font-family=\"Helvetica,sans-Serif\" font-size=\"14.00\" fill=\"#000000\">Fare ≤ 149.035</text>\n<text text-anchor=\"start\" x=\"680.5\" y=\"-1517.8\" font-family=\"Helvetica,sans-Serif\" font-size=\"14.00\" fill=\"#000000\">gini = 0.036</text>\n<text text-anchor=\"start\" x=\"670.5\" y=\"-1503.8\" font-family=\"Helvetica,sans-Serif\" font-size=\"14.00\" fill=\"#000000\">samples = 109</text>\n<text text-anchor=\"start\" x=\"668.5\" y=\"-1489.8\" font-family=\"Helvetica,sans-Serif\" font-size=\"14.00\" fill=\"#000000\">value = [2, 107]</text>\n<text text-anchor=\"start\" x=\"686\" y=\"-1475.8\" font-family=\"Helvetica,sans-Serif\" font-size=\"14.00\" fill=\"#000000\">class = y</text>\n<text text-anchor=\"start\" x=\"744\" y=\"-1475.8\" font-family=\"Helvetica,sans-Serif\" baseline-shift=\"sub\" font-size=\"14.00\" fill=\"#000000\">1</text>\n</g>\n<!-- 2&#45;&gt;14 -->\n<g id=\"edge14\" class=\"edge\">\n<title>2&#45;&gt;14</title>\n<path fill=\"none\" stroke=\"#000000\" d=\"M718.5,-1581.7677C718.5,-1573.6172 718.5,-1564.9283 718.5,-1556.4649\"/>\n<polygon fill=\"#000000\" stroke=\"#000000\" points=\"722.0001,-1556.3046 718.5,-1546.3046 715.0001,-1556.3047 722.0001,-1556.3046\"/>\n</g>\n<!-- 4 -->\n<g id=\"node5\" class=\"node\">\n<title>4</title>\n<path fill=\"#399de5\" stroke=\"#000000\" d=\"M261,-1425C261,-1425 178,-1425 178,-1425 172,-1425 166,-1419 166,-1413 166,-1413 166,-1373 166,-1373 166,-1367 172,-1361 178,-1361 178,-1361 261,-1361 261,-1361 267,-1361 273,-1367 273,-1373 273,-1373 273,-1413 273,-1413 273,-1419 267,-1425 261,-1425\"/>\n<text text-anchor=\"start\" x=\"190\" y=\"-1410.8\" font-family=\"Helvetica,sans-Serif\" font-size=\"14.00\" fill=\"#000000\">gini = 0.0</text>\n<text text-anchor=\"start\" x=\"175.5\" y=\"-1396.8\" font-family=\"Helvetica,sans-Serif\" font-size=\"14.00\" fill=\"#000000\">samples = 10</text>\n<text text-anchor=\"start\" x=\"174\" y=\"-1382.8\" font-family=\"Helvetica,sans-Serif\" font-size=\"14.00\" fill=\"#000000\">value = [0, 10]</text>\n<text text-anchor=\"start\" x=\"187\" y=\"-1368.8\" font-family=\"Helvetica,sans-Serif\" font-size=\"14.00\" fill=\"#000000\">class = y</text>\n<text text-anchor=\"start\" x=\"245\" y=\"-1368.8\" font-family=\"Helvetica,sans-Serif\" baseline-shift=\"sub\" font-size=\"14.00\" fill=\"#000000\">1</text>\n</g>\n<!-- 3&#45;&gt;4 -->\n<g id=\"edge4\" class=\"edge\">\n<title>3&#45;&gt;4</title>\n<path fill=\"none\" stroke=\"#000000\" d=\"M301.4821,-1467.7677C288.8497,-1456.247 275.0376,-1443.6503 262.4118,-1432.1356\"/>\n<polygon fill=\"#000000\" stroke=\"#000000\" points=\"264.4722,-1429.2777 254.725,-1425.1252 259.7552,-1434.4498 264.4722,-1429.2777\"/>\n</g>\n<!-- 5 -->\n<g id=\"node6\" class=\"node\">\n<title>5</title>\n<path fill=\"#5aade9\" stroke=\"#000000\" d=\"M386,-1432C386,-1432 303,-1432 303,-1432 297,-1432 291,-1426 291,-1420 291,-1420 291,-1366 291,-1366 291,-1360 297,-1354 303,-1354 303,-1354 386,-1354 386,-1354 392,-1354 398,-1360 398,-1366 398,-1366 398,-1420 398,-1420 398,-1426 392,-1432 386,-1432\"/>\n<text text-anchor=\"start\" x=\"309.5\" y=\"-1417.8\" font-family=\"Helvetica,sans-Serif\" font-size=\"14.00\" fill=\"#000000\">Age ≤ 26.0</text>\n<text text-anchor=\"start\" x=\"306.5\" y=\"-1403.8\" font-family=\"Helvetica,sans-Serif\" font-size=\"14.00\" fill=\"#000000\">gini = 0.245</text>\n<text text-anchor=\"start\" x=\"300.5\" y=\"-1389.8\" font-family=\"Helvetica,sans-Serif\" font-size=\"14.00\" fill=\"#000000\">samples = 14</text>\n<text text-anchor=\"start\" x=\"299\" y=\"-1375.8\" font-family=\"Helvetica,sans-Serif\" font-size=\"14.00\" fill=\"#000000\">value = [2, 12]</text>\n<text text-anchor=\"start\" x=\"312\" y=\"-1361.8\" font-family=\"Helvetica,sans-Serif\" font-size=\"14.00\" fill=\"#000000\">class = y</text>\n<text text-anchor=\"start\" x=\"370\" y=\"-1361.8\" font-family=\"Helvetica,sans-Serif\" baseline-shift=\"sub\" font-size=\"14.00\" fill=\"#000000\">1</text>\n</g>\n<!-- 3&#45;&gt;5 -->\n<g id=\"edge5\" class=\"edge\">\n<title>3&#45;&gt;5</title>\n<path fill=\"none\" stroke=\"#000000\" d=\"M344.5,-1467.7677C344.5,-1459.6172 344.5,-1450.9283 344.5,-1442.4649\"/>\n<polygon fill=\"#000000\" stroke=\"#000000\" points=\"348.0001,-1442.3046 344.5,-1432.3046 341.0001,-1442.3047 348.0001,-1442.3046\"/>\n</g>\n<!-- 6 -->\n<g id=\"node7\" class=\"node\">\n<title>6</title>\n<path fill=\"#9ccef2\" stroke=\"#000000\" d=\"M204,-1318C204,-1318 129,-1318 129,-1318 123,-1318 117,-1312 117,-1306 117,-1306 117,-1252 117,-1252 117,-1246 123,-1240 129,-1240 129,-1240 204,-1240 204,-1240 210,-1240 216,-1246 216,-1252 216,-1252 216,-1306 216,-1306 216,-1312 210,-1318 204,-1318\"/>\n<text text-anchor=\"start\" x=\"129.5\" y=\"-1303.8\" font-family=\"Helvetica,sans-Serif\" font-size=\"14.00\" fill=\"#000000\">Parch ≤ 1.0</text>\n<text text-anchor=\"start\" x=\"128.5\" y=\"-1289.8\" font-family=\"Helvetica,sans-Serif\" font-size=\"14.00\" fill=\"#000000\">gini = 0.444</text>\n<text text-anchor=\"start\" x=\"127\" y=\"-1275.8\" font-family=\"Helvetica,sans-Serif\" font-size=\"14.00\" fill=\"#000000\">samples = 3</text>\n<text text-anchor=\"start\" x=\"125\" y=\"-1261.8\" font-family=\"Helvetica,sans-Serif\" font-size=\"14.00\" fill=\"#000000\">value = [1, 2]</text>\n<text text-anchor=\"start\" x=\"134\" y=\"-1247.8\" font-family=\"Helvetica,sans-Serif\" font-size=\"14.00\" fill=\"#000000\">class = y</text>\n<text text-anchor=\"start\" x=\"192\" y=\"-1247.8\" font-family=\"Helvetica,sans-Serif\" baseline-shift=\"sub\" font-size=\"14.00\" fill=\"#000000\">1</text>\n</g>\n<!-- 5&#45;&gt;6 -->\n<g id=\"edge6\" class=\"edge\">\n<title>5&#45;&gt;6</title>\n<path fill=\"none\" stroke=\"#000000\" d=\"M290.6111,-1358.4869C269.8365,-1345.1818 246.0222,-1329.9299 224.8456,-1316.3674\"/>\n<polygon fill=\"#000000\" stroke=\"#000000\" points=\"226.5663,-1313.3132 216.2576,-1310.8673 222.791,-1319.2079 226.5663,-1313.3132\"/>\n</g>\n<!-- 9 -->\n<g id=\"node10\" class=\"node\">\n<title>9</title>\n<path fill=\"#4da7e8\" stroke=\"#000000\" d=\"M386,-1318C386,-1318 303,-1318 303,-1318 297,-1318 291,-1312 291,-1306 291,-1306 291,-1252 291,-1252 291,-1246 297,-1240 303,-1240 303,-1240 386,-1240 386,-1240 392,-1240 398,-1246 398,-1252 398,-1252 398,-1306 398,-1306 398,-1312 392,-1318 386,-1318\"/>\n<text text-anchor=\"start\" x=\"309.5\" y=\"-1303.8\" font-family=\"Helvetica,sans-Serif\" font-size=\"14.00\" fill=\"#000000\">Age ≤ 37.0</text>\n<text text-anchor=\"start\" x=\"306.5\" y=\"-1289.8\" font-family=\"Helvetica,sans-Serif\" font-size=\"14.00\" fill=\"#000000\">gini = 0.165</text>\n<text text-anchor=\"start\" x=\"300.5\" y=\"-1275.8\" font-family=\"Helvetica,sans-Serif\" font-size=\"14.00\" fill=\"#000000\">samples = 11</text>\n<text text-anchor=\"start\" x=\"299\" y=\"-1261.8\" font-family=\"Helvetica,sans-Serif\" font-size=\"14.00\" fill=\"#000000\">value = [1, 10]</text>\n<text text-anchor=\"start\" x=\"312\" y=\"-1247.8\" font-family=\"Helvetica,sans-Serif\" font-size=\"14.00\" fill=\"#000000\">class = y</text>\n<text text-anchor=\"start\" x=\"370\" y=\"-1247.8\" font-family=\"Helvetica,sans-Serif\" baseline-shift=\"sub\" font-size=\"14.00\" fill=\"#000000\">1</text>\n</g>\n<!-- 5&#45;&gt;9 -->\n<g id=\"edge9\" class=\"edge\">\n<title>5&#45;&gt;9</title>\n<path fill=\"none\" stroke=\"#000000\" d=\"M344.5,-1353.7677C344.5,-1345.6172 344.5,-1336.9283 344.5,-1328.4649\"/>\n<polygon fill=\"#000000\" stroke=\"#000000\" points=\"348.0001,-1328.3046 344.5,-1318.3046 341.0001,-1328.3047 348.0001,-1328.3046\"/>\n</g>\n<!-- 7 -->\n<g id=\"node8\" class=\"node\">\n<title>7</title>\n<path fill=\"#ffffff\" stroke=\"#000000\" d=\"M87,-1197C87,-1197 12,-1197 12,-1197 6,-1197 0,-1191 0,-1185 0,-1185 0,-1145 0,-1145 0,-1139 6,-1133 12,-1133 12,-1133 87,-1133 87,-1133 93,-1133 99,-1139 99,-1145 99,-1145 99,-1185 99,-1185 99,-1191 93,-1197 87,-1197\"/>\n<text text-anchor=\"start\" x=\"20\" y=\"-1182.8\" font-family=\"Helvetica,sans-Serif\" font-size=\"14.00\" fill=\"#000000\">gini = 0.5</text>\n<text text-anchor=\"start\" x=\"10\" y=\"-1168.8\" font-family=\"Helvetica,sans-Serif\" font-size=\"14.00\" fill=\"#000000\">samples = 2</text>\n<text text-anchor=\"start\" x=\"8\" y=\"-1154.8\" font-family=\"Helvetica,sans-Serif\" font-size=\"14.00\" fill=\"#000000\">value = [1, 1]</text>\n<text text-anchor=\"start\" x=\"17\" y=\"-1140.8\" font-family=\"Helvetica,sans-Serif\" font-size=\"14.00\" fill=\"#000000\">class = y</text>\n<text text-anchor=\"start\" x=\"75\" y=\"-1140.8\" font-family=\"Helvetica,sans-Serif\" baseline-shift=\"sub\" font-size=\"14.00\" fill=\"#000000\">0</text>\n</g>\n<!-- 6&#45;&gt;7 -->\n<g id=\"edge7\" class=\"edge\">\n<title>6&#45;&gt;7</title>\n<path fill=\"none\" stroke=\"#000000\" d=\"M126.2352,-1239.7677C114.4113,-1228.247 101.4832,-1215.6503 89.6655,-1204.1356\"/>\n<polygon fill=\"#000000\" stroke=\"#000000\" points=\"92.0755,-1201.5971 82.4706,-1197.1252 87.1904,-1206.6107 92.0755,-1201.5971\"/>\n</g>\n<!-- 8 -->\n<g id=\"node9\" class=\"node\">\n<title>8</title>\n<path fill=\"#399de5\" stroke=\"#000000\" d=\"M204,-1197C204,-1197 129,-1197 129,-1197 123,-1197 117,-1191 117,-1185 117,-1185 117,-1145 117,-1145 117,-1139 123,-1133 129,-1133 129,-1133 204,-1133 204,-1133 210,-1133 216,-1139 216,-1145 216,-1145 216,-1185 216,-1185 216,-1191 210,-1197 204,-1197\"/>\n<text text-anchor=\"start\" x=\"137\" y=\"-1182.8\" font-family=\"Helvetica,sans-Serif\" font-size=\"14.00\" fill=\"#000000\">gini = 0.0</text>\n<text text-anchor=\"start\" x=\"127\" y=\"-1168.8\" font-family=\"Helvetica,sans-Serif\" font-size=\"14.00\" fill=\"#000000\">samples = 1</text>\n<text text-anchor=\"start\" x=\"125\" y=\"-1154.8\" font-family=\"Helvetica,sans-Serif\" font-size=\"14.00\" fill=\"#000000\">value = [0, 1]</text>\n<text text-anchor=\"start\" x=\"134\" y=\"-1140.8\" font-family=\"Helvetica,sans-Serif\" font-size=\"14.00\" fill=\"#000000\">class = y</text>\n<text text-anchor=\"start\" x=\"192\" y=\"-1140.8\" font-family=\"Helvetica,sans-Serif\" baseline-shift=\"sub\" font-size=\"14.00\" fill=\"#000000\">1</text>\n</g>\n<!-- 6&#45;&gt;8 -->\n<g id=\"edge8\" class=\"edge\">\n<title>6&#45;&gt;8</title>\n<path fill=\"none\" stroke=\"#000000\" d=\"M166.5,-1239.7677C166.5,-1229.3338 166.5,-1218.0174 166.5,-1207.4215\"/>\n<polygon fill=\"#000000\" stroke=\"#000000\" points=\"170.0001,-1207.1252 166.5,-1197.1252 163.0001,-1207.1252 170.0001,-1207.1252\"/>\n</g>\n<!-- 10 -->\n<g id=\"node11\" class=\"node\">\n<title>10</title>\n<path fill=\"#399de5\" stroke=\"#000000\" d=\"M321,-1197C321,-1197 246,-1197 246,-1197 240,-1197 234,-1191 234,-1185 234,-1185 234,-1145 234,-1145 234,-1139 240,-1133 246,-1133 246,-1133 321,-1133 321,-1133 327,-1133 333,-1139 333,-1145 333,-1145 333,-1185 333,-1185 333,-1191 327,-1197 321,-1197\"/>\n<text text-anchor=\"start\" x=\"254\" y=\"-1182.8\" font-family=\"Helvetica,sans-Serif\" font-size=\"14.00\" fill=\"#000000\">gini = 0.0</text>\n<text text-anchor=\"start\" x=\"244\" y=\"-1168.8\" font-family=\"Helvetica,sans-Serif\" font-size=\"14.00\" fill=\"#000000\">samples = 8</text>\n<text text-anchor=\"start\" x=\"242\" y=\"-1154.8\" font-family=\"Helvetica,sans-Serif\" font-size=\"14.00\" fill=\"#000000\">value = [0, 8]</text>\n<text text-anchor=\"start\" x=\"251\" y=\"-1140.8\" font-family=\"Helvetica,sans-Serif\" font-size=\"14.00\" fill=\"#000000\">class = y</text>\n<text text-anchor=\"start\" x=\"309\" y=\"-1140.8\" font-family=\"Helvetica,sans-Serif\" baseline-shift=\"sub\" font-size=\"14.00\" fill=\"#000000\">1</text>\n</g>\n<!-- 9&#45;&gt;10 -->\n<g id=\"edge10\" class=\"edge\">\n<title>9&#45;&gt;10</title>\n<path fill=\"none\" stroke=\"#000000\" d=\"M323.5073,-1239.7677C317.6916,-1228.8991 311.3635,-1217.0729 305.4926,-1206.1009\"/>\n<polygon fill=\"#000000\" stroke=\"#000000\" points=\"308.4938,-1204.291 300.6898,-1197.1252 302.3218,-1207.5936 308.4938,-1204.291\"/>\n</g>\n<!-- 11 -->\n<g id=\"node12\" class=\"node\">\n<title>11</title>\n<path fill=\"#9ccef2\" stroke=\"#000000\" d=\"M438,-1204C438,-1204 363,-1204 363,-1204 357,-1204 351,-1198 351,-1192 351,-1192 351,-1138 351,-1138 351,-1132 357,-1126 363,-1126 363,-1126 438,-1126 438,-1126 444,-1126 450,-1132 450,-1138 450,-1138 450,-1192 450,-1192 450,-1198 444,-1204 438,-1204\"/>\n<text text-anchor=\"start\" x=\"365.5\" y=\"-1189.8\" font-family=\"Helvetica,sans-Serif\" font-size=\"14.00\" fill=\"#000000\">Age ≤ 39.0</text>\n<text text-anchor=\"start\" x=\"362.5\" y=\"-1175.8\" font-family=\"Helvetica,sans-Serif\" font-size=\"14.00\" fill=\"#000000\">gini = 0.444</text>\n<text text-anchor=\"start\" x=\"361\" y=\"-1161.8\" font-family=\"Helvetica,sans-Serif\" font-size=\"14.00\" fill=\"#000000\">samples = 3</text>\n<text text-anchor=\"start\" x=\"359\" y=\"-1147.8\" font-family=\"Helvetica,sans-Serif\" font-size=\"14.00\" fill=\"#000000\">value = [1, 2]</text>\n<text text-anchor=\"start\" x=\"368\" y=\"-1133.8\" font-family=\"Helvetica,sans-Serif\" font-size=\"14.00\" fill=\"#000000\">class = y</text>\n<text text-anchor=\"start\" x=\"426\" y=\"-1133.8\" font-family=\"Helvetica,sans-Serif\" baseline-shift=\"sub\" font-size=\"14.00\" fill=\"#000000\">1</text>\n</g>\n<!-- 9&#45;&gt;11 -->\n<g id=\"edge11\" class=\"edge\">\n<title>9&#45;&gt;11</title>\n<path fill=\"none\" stroke=\"#000000\" d=\"M363.772,-1239.7677C367.9517,-1231.259 372.4198,-1222.1634 376.749,-1213.3502\"/>\n<polygon fill=\"#000000\" stroke=\"#000000\" points=\"379.9248,-1214.8234 381.1925,-1204.3046 373.6419,-1211.737 379.9248,-1214.8234\"/>\n</g>\n<!-- 12 -->\n<g id=\"node13\" class=\"node\">\n<title>12</title>\n<path fill=\"#e58139\" stroke=\"#000000\" d=\"M324,-1083C324,-1083 249,-1083 249,-1083 243,-1083 237,-1077 237,-1071 237,-1071 237,-1031 237,-1031 237,-1025 243,-1019 249,-1019 249,-1019 324,-1019 324,-1019 330,-1019 336,-1025 336,-1031 336,-1031 336,-1071 336,-1071 336,-1077 330,-1083 324,-1083\"/>\n<text text-anchor=\"start\" x=\"257\" y=\"-1068.8\" font-family=\"Helvetica,sans-Serif\" font-size=\"14.00\" fill=\"#000000\">gini = 0.0</text>\n<text text-anchor=\"start\" x=\"247\" y=\"-1054.8\" font-family=\"Helvetica,sans-Serif\" font-size=\"14.00\" fill=\"#000000\">samples = 1</text>\n<text text-anchor=\"start\" x=\"245\" y=\"-1040.8\" font-family=\"Helvetica,sans-Serif\" font-size=\"14.00\" fill=\"#000000\">value = [1, 0]</text>\n<text text-anchor=\"start\" x=\"254\" y=\"-1026.8\" font-family=\"Helvetica,sans-Serif\" font-size=\"14.00\" fill=\"#000000\">class = y</text>\n<text text-anchor=\"start\" x=\"312\" y=\"-1026.8\" font-family=\"Helvetica,sans-Serif\" baseline-shift=\"sub\" font-size=\"14.00\" fill=\"#000000\">0</text>\n</g>\n<!-- 11&#45;&gt;12 -->\n<g id=\"edge12\" class=\"edge\">\n<title>11&#45;&gt;12</title>\n<path fill=\"none\" stroke=\"#000000\" d=\"M361.2677,-1125.7677C349.8556,-1114.3556 337.3878,-1101.8878 325.9618,-1090.4618\"/>\n<polygon fill=\"#000000\" stroke=\"#000000\" points=\"328.1712,-1087.7214 318.6252,-1083.1252 323.2214,-1092.6712 328.1712,-1087.7214\"/>\n</g>\n<!-- 13 -->\n<g id=\"node14\" class=\"node\">\n<title>13</title>\n<path fill=\"#399de5\" stroke=\"#000000\" d=\"M441,-1083C441,-1083 366,-1083 366,-1083 360,-1083 354,-1077 354,-1071 354,-1071 354,-1031 354,-1031 354,-1025 360,-1019 366,-1019 366,-1019 441,-1019 441,-1019 447,-1019 453,-1025 453,-1031 453,-1031 453,-1071 453,-1071 453,-1077 447,-1083 441,-1083\"/>\n<text text-anchor=\"start\" x=\"374\" y=\"-1068.8\" font-family=\"Helvetica,sans-Serif\" font-size=\"14.00\" fill=\"#000000\">gini = 0.0</text>\n<text text-anchor=\"start\" x=\"364\" y=\"-1054.8\" font-family=\"Helvetica,sans-Serif\" font-size=\"14.00\" fill=\"#000000\">samples = 2</text>\n<text text-anchor=\"start\" x=\"362\" y=\"-1040.8\" font-family=\"Helvetica,sans-Serif\" font-size=\"14.00\" fill=\"#000000\">value = [0, 2]</text>\n<text text-anchor=\"start\" x=\"371\" y=\"-1026.8\" font-family=\"Helvetica,sans-Serif\" font-size=\"14.00\" fill=\"#000000\">class = y</text>\n<text text-anchor=\"start\" x=\"429\" y=\"-1026.8\" font-family=\"Helvetica,sans-Serif\" baseline-shift=\"sub\" font-size=\"14.00\" fill=\"#000000\">1</text>\n</g>\n<!-- 11&#45;&gt;13 -->\n<g id=\"edge13\" class=\"edge\">\n<title>11&#45;&gt;13</title>\n<path fill=\"none\" stroke=\"#000000\" d=\"M401.5324,-1125.7677C401.807,-1115.3338 402.1048,-1104.0174 402.3836,-1093.4215\"/>\n<polygon fill=\"#000000\" stroke=\"#000000\" points=\"405.8902,-1093.2138 402.6546,-1083.1252 398.8926,-1093.0296 405.8902,-1093.2138\"/>\n</g>\n<!-- 15 -->\n<g id=\"node16\" class=\"node\">\n<title>15</title>\n<path fill=\"#3b9ee5\" stroke=\"#000000\" d=\"M696,-1432C696,-1432 613,-1432 613,-1432 607,-1432 601,-1426 601,-1420 601,-1420 601,-1366 601,-1366 601,-1360 607,-1354 613,-1354 613,-1354 696,-1354 696,-1354 702,-1354 708,-1360 708,-1366 708,-1366 708,-1420 708,-1420 708,-1426 702,-1432 696,-1432\"/>\n<text text-anchor=\"start\" x=\"619.5\" y=\"-1417.8\" font-family=\"Helvetica,sans-Serif\" font-size=\"14.00\" fill=\"#000000\">Age ≤ 43.0</text>\n<text text-anchor=\"start\" x=\"616.5\" y=\"-1403.8\" font-family=\"Helvetica,sans-Serif\" font-size=\"14.00\" fill=\"#000000\">gini = 0.021</text>\n<text text-anchor=\"start\" x=\"610.5\" y=\"-1389.8\" font-family=\"Helvetica,sans-Serif\" font-size=\"14.00\" fill=\"#000000\">samples = 93</text>\n<text text-anchor=\"start\" x=\"609\" y=\"-1375.8\" font-family=\"Helvetica,sans-Serif\" font-size=\"14.00\" fill=\"#000000\">value = [1, 92]</text>\n<text text-anchor=\"start\" x=\"622\" y=\"-1361.8\" font-family=\"Helvetica,sans-Serif\" font-size=\"14.00\" fill=\"#000000\">class = y</text>\n<text text-anchor=\"start\" x=\"680\" y=\"-1361.8\" font-family=\"Helvetica,sans-Serif\" baseline-shift=\"sub\" font-size=\"14.00\" fill=\"#000000\">1</text>\n</g>\n<!-- 14&#45;&gt;15 -->\n<g id=\"edge15\" class=\"edge\">\n<title>14&#45;&gt;15</title>\n<path fill=\"none\" stroke=\"#000000\" d=\"M696.4748,-1467.7677C691.6477,-1459.1694 686.4842,-1449.9718 681.4878,-1441.072\"/>\n<polygon fill=\"#000000\" stroke=\"#000000\" points=\"684.5131,-1439.3111 676.5658,-1432.3046 678.4092,-1442.7379 684.5131,-1439.3111\"/>\n</g>\n<!-- 22 -->\n<g id=\"node23\" class=\"node\">\n<title>22</title>\n<path fill=\"#46a4e7\" stroke=\"#000000\" d=\"M829,-1432C829,-1432 738,-1432 738,-1432 732,-1432 726,-1426 726,-1420 726,-1420 726,-1366 726,-1366 726,-1360 732,-1354 738,-1354 738,-1354 829,-1354 829,-1354 835,-1354 841,-1360 841,-1366 841,-1366 841,-1420 841,-1420 841,-1426 835,-1432 829,-1432\"/>\n<text text-anchor=\"start\" x=\"734\" y=\"-1417.8\" font-family=\"Helvetica,sans-Serif\" font-size=\"14.00\" fill=\"#000000\">Fare ≤ 152.506</text>\n<text text-anchor=\"start\" x=\"745.5\" y=\"-1403.8\" font-family=\"Helvetica,sans-Serif\" font-size=\"14.00\" fill=\"#000000\">gini = 0.117</text>\n<text text-anchor=\"start\" x=\"739.5\" y=\"-1389.8\" font-family=\"Helvetica,sans-Serif\" font-size=\"14.00\" fill=\"#000000\">samples = 16</text>\n<text text-anchor=\"start\" x=\"738\" y=\"-1375.8\" font-family=\"Helvetica,sans-Serif\" font-size=\"14.00\" fill=\"#000000\">value = [1, 15]</text>\n<text text-anchor=\"start\" x=\"751\" y=\"-1361.8\" font-family=\"Helvetica,sans-Serif\" font-size=\"14.00\" fill=\"#000000\">class = y</text>\n<text text-anchor=\"start\" x=\"809\" y=\"-1361.8\" font-family=\"Helvetica,sans-Serif\" baseline-shift=\"sub\" font-size=\"14.00\" fill=\"#000000\">1</text>\n</g>\n<!-- 14&#45;&gt;22 -->\n<g id=\"edge22\" class=\"edge\">\n<title>14&#45;&gt;22</title>\n<path fill=\"none\" stroke=\"#000000\" d=\"M740.8693,-1467.7677C745.7718,-1459.1694 751.0161,-1449.9718 756.0905,-1441.072\"/>\n<polygon fill=\"#000000\" stroke=\"#000000\" points=\"759.1767,-1442.7254 761.0895,-1432.3046 753.0957,-1439.2581 759.1767,-1442.7254\"/>\n</g>\n<!-- 16 -->\n<g id=\"node17\" class=\"node\">\n<title>16</title>\n<path fill=\"#399de5\" stroke=\"#000000\" d=\"M573,-1311C573,-1311 490,-1311 490,-1311 484,-1311 478,-1305 478,-1299 478,-1299 478,-1259 478,-1259 478,-1253 484,-1247 490,-1247 490,-1247 573,-1247 573,-1247 579,-1247 585,-1253 585,-1259 585,-1259 585,-1299 585,-1299 585,-1305 579,-1311 573,-1311\"/>\n<text text-anchor=\"start\" x=\"502\" y=\"-1296.8\" font-family=\"Helvetica,sans-Serif\" font-size=\"14.00\" fill=\"#000000\">gini = 0.0</text>\n<text text-anchor=\"start\" x=\"487.5\" y=\"-1282.8\" font-family=\"Helvetica,sans-Serif\" font-size=\"14.00\" fill=\"#000000\">samples = 74</text>\n<text text-anchor=\"start\" x=\"486\" y=\"-1268.8\" font-family=\"Helvetica,sans-Serif\" font-size=\"14.00\" fill=\"#000000\">value = [0, 74]</text>\n<text text-anchor=\"start\" x=\"499\" y=\"-1254.8\" font-family=\"Helvetica,sans-Serif\" font-size=\"14.00\" fill=\"#000000\">class = y</text>\n<text text-anchor=\"start\" x=\"557\" y=\"-1254.8\" font-family=\"Helvetica,sans-Serif\" baseline-shift=\"sub\" font-size=\"14.00\" fill=\"#000000\">1</text>\n</g>\n<!-- 15&#45;&gt;16 -->\n<g id=\"edge16\" class=\"edge\">\n<title>15&#45;&gt;16</title>\n<path fill=\"none\" stroke=\"#000000\" d=\"M612.1704,-1353.7677C599.7401,-1342.247 586.149,-1329.6503 573.7252,-1318.1356\"/>\n<polygon fill=\"#000000\" stroke=\"#000000\" points=\"575.8749,-1315.3559 566.1614,-1311.1252 571.1165,-1320.4899 575.8749,-1315.3559\"/>\n</g>\n<!-- 17 -->\n<g id=\"node18\" class=\"node\">\n<title>17</title>\n<path fill=\"#44a2e6\" stroke=\"#000000\" d=\"M698,-1318C698,-1318 615,-1318 615,-1318 609,-1318 603,-1312 603,-1306 603,-1306 603,-1252 603,-1252 603,-1246 609,-1240 615,-1240 615,-1240 698,-1240 698,-1240 704,-1240 710,-1246 710,-1252 710,-1252 710,-1306 710,-1306 710,-1312 704,-1318 698,-1318\"/>\n<text text-anchor=\"start\" x=\"621.5\" y=\"-1303.8\" font-family=\"Helvetica,sans-Serif\" font-size=\"14.00\" fill=\"#000000\">Age ≤ 44.5</text>\n<text text-anchor=\"start\" x=\"627\" y=\"-1289.8\" font-family=\"Helvetica,sans-Serif\" font-size=\"14.00\" fill=\"#000000\">gini = 0.1</text>\n<text text-anchor=\"start\" x=\"612.5\" y=\"-1275.8\" font-family=\"Helvetica,sans-Serif\" font-size=\"14.00\" fill=\"#000000\">samples = 19</text>\n<text text-anchor=\"start\" x=\"611\" y=\"-1261.8\" font-family=\"Helvetica,sans-Serif\" font-size=\"14.00\" fill=\"#000000\">value = [1, 18]</text>\n<text text-anchor=\"start\" x=\"624\" y=\"-1247.8\" font-family=\"Helvetica,sans-Serif\" font-size=\"14.00\" fill=\"#000000\">class = y</text>\n<text text-anchor=\"start\" x=\"682\" y=\"-1247.8\" font-family=\"Helvetica,sans-Serif\" baseline-shift=\"sub\" font-size=\"14.00\" fill=\"#000000\">1</text>\n</g>\n<!-- 15&#45;&gt;17 -->\n<g id=\"edge17\" class=\"edge\">\n<title>15&#45;&gt;17</title>\n<path fill=\"none\" stroke=\"#000000\" d=\"M655.1883,-1353.7677C655.3313,-1345.6172 655.4837,-1336.9283 655.6322,-1328.4649\"/>\n<polygon fill=\"#000000\" stroke=\"#000000\" points=\"659.1344,-1328.3645 655.8104,-1318.3046 652.1355,-1328.2417 659.1344,-1328.3645\"/>\n</g>\n<!-- 18 -->\n<g id=\"node19\" class=\"node\">\n<title>18</title>\n<path fill=\"#9ccef2\" stroke=\"#000000\" d=\"M575,-1204C575,-1204 480,-1204 480,-1204 474,-1204 468,-1198 468,-1192 468,-1192 468,-1138 468,-1138 468,-1132 474,-1126 480,-1126 480,-1126 575,-1126 575,-1126 581,-1126 587,-1132 587,-1138 587,-1138 587,-1192 587,-1192 587,-1198 581,-1204 575,-1204\"/>\n<text text-anchor=\"start\" x=\"476\" y=\"-1189.8\" font-family=\"Helvetica,sans-Serif\" font-size=\"14.00\" fill=\"#000000\">Embarked ≤ 1.0</text>\n<text text-anchor=\"start\" x=\"489.5\" y=\"-1175.8\" font-family=\"Helvetica,sans-Serif\" font-size=\"14.00\" fill=\"#000000\">gini = 0.444</text>\n<text text-anchor=\"start\" x=\"488\" y=\"-1161.8\" font-family=\"Helvetica,sans-Serif\" font-size=\"14.00\" fill=\"#000000\">samples = 3</text>\n<text text-anchor=\"start\" x=\"486\" y=\"-1147.8\" font-family=\"Helvetica,sans-Serif\" font-size=\"14.00\" fill=\"#000000\">value = [1, 2]</text>\n<text text-anchor=\"start\" x=\"495\" y=\"-1133.8\" font-family=\"Helvetica,sans-Serif\" font-size=\"14.00\" fill=\"#000000\">class = y</text>\n<text text-anchor=\"start\" x=\"553\" y=\"-1133.8\" font-family=\"Helvetica,sans-Serif\" baseline-shift=\"sub\" font-size=\"14.00\" fill=\"#000000\">1</text>\n</g>\n<!-- 17&#45;&gt;18 -->\n<g id=\"edge18\" class=\"edge\">\n<title>17&#45;&gt;18</title>\n<path fill=\"none\" stroke=\"#000000\" d=\"M612.1055,-1239.7677C601.6664,-1230.5424 590.4467,-1220.6273 579.7,-1211.1302\"/>\n<polygon fill=\"#000000\" stroke=\"#000000\" points=\"581.7873,-1208.304 571.9763,-1204.3046 577.1519,-1213.5493 581.7873,-1208.304\"/>\n</g>\n<!-- 21 -->\n<g id=\"node22\" class=\"node\">\n<title>21</title>\n<path fill=\"#399de5\" stroke=\"#000000\" d=\"M700,-1197C700,-1197 617,-1197 617,-1197 611,-1197 605,-1191 605,-1185 605,-1185 605,-1145 605,-1145 605,-1139 611,-1133 617,-1133 617,-1133 700,-1133 700,-1133 706,-1133 712,-1139 712,-1145 712,-1145 712,-1185 712,-1185 712,-1191 706,-1197 700,-1197\"/>\n<text text-anchor=\"start\" x=\"629\" y=\"-1182.8\" font-family=\"Helvetica,sans-Serif\" font-size=\"14.00\" fill=\"#000000\">gini = 0.0</text>\n<text text-anchor=\"start\" x=\"614.5\" y=\"-1168.8\" font-family=\"Helvetica,sans-Serif\" font-size=\"14.00\" fill=\"#000000\">samples = 16</text>\n<text text-anchor=\"start\" x=\"613\" y=\"-1154.8\" font-family=\"Helvetica,sans-Serif\" font-size=\"14.00\" fill=\"#000000\">value = [0, 16]</text>\n<text text-anchor=\"start\" x=\"626\" y=\"-1140.8\" font-family=\"Helvetica,sans-Serif\" font-size=\"14.00\" fill=\"#000000\">class = y</text>\n<text text-anchor=\"start\" x=\"684\" y=\"-1140.8\" font-family=\"Helvetica,sans-Serif\" baseline-shift=\"sub\" font-size=\"14.00\" fill=\"#000000\">1</text>\n</g>\n<!-- 17&#45;&gt;21 -->\n<g id=\"edge21\" class=\"edge\">\n<title>17&#45;&gt;21</title>\n<path fill=\"none\" stroke=\"#000000\" d=\"M657.1883,-1239.7677C657.3713,-1229.3338 657.5699,-1218.0174 657.7558,-1207.4215\"/>\n<polygon fill=\"#000000\" stroke=\"#000000\" points=\"661.2604,-1207.1851 657.9364,-1197.1252 654.2614,-1207.0622 661.2604,-1207.1851\"/>\n</g>\n<!-- 19 -->\n<g id=\"node20\" class=\"node\">\n<title>19</title>\n<path fill=\"#399de5\" stroke=\"#000000\" d=\"M563,-1083C563,-1083 488,-1083 488,-1083 482,-1083 476,-1077 476,-1071 476,-1071 476,-1031 476,-1031 476,-1025 482,-1019 488,-1019 488,-1019 563,-1019 563,-1019 569,-1019 575,-1025 575,-1031 575,-1031 575,-1071 575,-1071 575,-1077 569,-1083 563,-1083\"/>\n<text text-anchor=\"start\" x=\"496\" y=\"-1068.8\" font-family=\"Helvetica,sans-Serif\" font-size=\"14.00\" fill=\"#000000\">gini = 0.0</text>\n<text text-anchor=\"start\" x=\"486\" y=\"-1054.8\" font-family=\"Helvetica,sans-Serif\" font-size=\"14.00\" fill=\"#000000\">samples = 2</text>\n<text text-anchor=\"start\" x=\"484\" y=\"-1040.8\" font-family=\"Helvetica,sans-Serif\" font-size=\"14.00\" fill=\"#000000\">value = [0, 2]</text>\n<text text-anchor=\"start\" x=\"493\" y=\"-1026.8\" font-family=\"Helvetica,sans-Serif\" font-size=\"14.00\" fill=\"#000000\">class = y</text>\n<text text-anchor=\"start\" x=\"551\" y=\"-1026.8\" font-family=\"Helvetica,sans-Serif\" baseline-shift=\"sub\" font-size=\"14.00\" fill=\"#000000\">1</text>\n</g>\n<!-- 18&#45;&gt;19 -->\n<g id=\"edge19\" class=\"edge\">\n<title>18&#45;&gt;19</title>\n<path fill=\"none\" stroke=\"#000000\" d=\"M526.8117,-1125.7677C526.6287,-1115.3338 526.4301,-1104.0174 526.2442,-1093.4215\"/>\n<polygon fill=\"#000000\" stroke=\"#000000\" points=\"529.7386,-1093.0622 526.0636,-1083.1252 522.7396,-1093.1851 529.7386,-1093.0622\"/>\n</g>\n<!-- 20 -->\n<g id=\"node21\" class=\"node\">\n<title>20</title>\n<path fill=\"#e58139\" stroke=\"#000000\" d=\"M680,-1083C680,-1083 605,-1083 605,-1083 599,-1083 593,-1077 593,-1071 593,-1071 593,-1031 593,-1031 593,-1025 599,-1019 605,-1019 605,-1019 680,-1019 680,-1019 686,-1019 692,-1025 692,-1031 692,-1031 692,-1071 692,-1071 692,-1077 686,-1083 680,-1083\"/>\n<text text-anchor=\"start\" x=\"613\" y=\"-1068.8\" font-family=\"Helvetica,sans-Serif\" font-size=\"14.00\" fill=\"#000000\">gini = 0.0</text>\n<text text-anchor=\"start\" x=\"603\" y=\"-1054.8\" font-family=\"Helvetica,sans-Serif\" font-size=\"14.00\" fill=\"#000000\">samples = 1</text>\n<text text-anchor=\"start\" x=\"601\" y=\"-1040.8\" font-family=\"Helvetica,sans-Serif\" font-size=\"14.00\" fill=\"#000000\">value = [1, 0]</text>\n<text text-anchor=\"start\" x=\"610\" y=\"-1026.8\" font-family=\"Helvetica,sans-Serif\" font-size=\"14.00\" fill=\"#000000\">class = y</text>\n<text text-anchor=\"start\" x=\"668\" y=\"-1026.8\" font-family=\"Helvetica,sans-Serif\" baseline-shift=\"sub\" font-size=\"14.00\" fill=\"#000000\">0</text>\n</g>\n<!-- 18&#45;&gt;20 -->\n<g id=\"edge20\" class=\"edge\">\n<title>18&#45;&gt;20</title>\n<path fill=\"none\" stroke=\"#000000\" d=\"M567.0765,-1125.7677C578.5886,-1114.3556 591.1658,-1101.8878 602.6921,-1090.4618\"/>\n<polygon fill=\"#000000\" stroke=\"#000000\" points=\"605.4551,-1092.651 610.093,-1083.1252 600.527,-1087.6797 605.4551,-1092.651\"/>\n</g>\n<!-- 23 -->\n<g id=\"node24\" class=\"node\">\n<title>23</title>\n<path fill=\"#ffffff\" stroke=\"#000000\" d=\"M819,-1318C819,-1318 744,-1318 744,-1318 738,-1318 732,-1312 732,-1306 732,-1306 732,-1252 732,-1252 732,-1246 738,-1240 744,-1240 744,-1240 819,-1240 819,-1240 825,-1240 831,-1246 831,-1252 831,-1252 831,-1306 831,-1306 831,-1312 825,-1318 819,-1318\"/>\n<text text-anchor=\"start\" x=\"744\" y=\"-1303.8\" font-family=\"Helvetica,sans-Serif\" font-size=\"14.00\" fill=\"#000000\">SibSp ≤ 0.5</text>\n<text text-anchor=\"start\" x=\"752\" y=\"-1289.8\" font-family=\"Helvetica,sans-Serif\" font-size=\"14.00\" fill=\"#000000\">gini = 0.5</text>\n<text text-anchor=\"start\" x=\"742\" y=\"-1275.8\" font-family=\"Helvetica,sans-Serif\" font-size=\"14.00\" fill=\"#000000\">samples = 2</text>\n<text text-anchor=\"start\" x=\"740\" y=\"-1261.8\" font-family=\"Helvetica,sans-Serif\" font-size=\"14.00\" fill=\"#000000\">value = [1, 1]</text>\n<text text-anchor=\"start\" x=\"749\" y=\"-1247.8\" font-family=\"Helvetica,sans-Serif\" font-size=\"14.00\" fill=\"#000000\">class = y</text>\n<text text-anchor=\"start\" x=\"807\" y=\"-1247.8\" font-family=\"Helvetica,sans-Serif\" baseline-shift=\"sub\" font-size=\"14.00\" fill=\"#000000\">0</text>\n</g>\n<!-- 22&#45;&gt;23 -->\n<g id=\"edge23\" class=\"edge\">\n<title>22&#45;&gt;23</title>\n<path fill=\"none\" stroke=\"#000000\" d=\"M782.8117,-1353.7677C782.6687,-1345.6172 782.5163,-1336.9283 782.3678,-1328.4649\"/>\n<polygon fill=\"#000000\" stroke=\"#000000\" points=\"785.8645,-1328.2417 782.1896,-1318.3046 778.8656,-1328.3645 785.8645,-1328.2417\"/>\n</g>\n<!-- 26 -->\n<g id=\"node27\" class=\"node\">\n<title>26</title>\n<path fill=\"#399de5\" stroke=\"#000000\" d=\"M944,-1311C944,-1311 861,-1311 861,-1311 855,-1311 849,-1305 849,-1299 849,-1299 849,-1259 849,-1259 849,-1253 855,-1247 861,-1247 861,-1247 944,-1247 944,-1247 950,-1247 956,-1253 956,-1259 956,-1259 956,-1299 956,-1299 956,-1305 950,-1311 944,-1311\"/>\n<text text-anchor=\"start\" x=\"873\" y=\"-1296.8\" font-family=\"Helvetica,sans-Serif\" font-size=\"14.00\" fill=\"#000000\">gini = 0.0</text>\n<text text-anchor=\"start\" x=\"858.5\" y=\"-1282.8\" font-family=\"Helvetica,sans-Serif\" font-size=\"14.00\" fill=\"#000000\">samples = 14</text>\n<text text-anchor=\"start\" x=\"857\" y=\"-1268.8\" font-family=\"Helvetica,sans-Serif\" font-size=\"14.00\" fill=\"#000000\">value = [0, 14]</text>\n<text text-anchor=\"start\" x=\"870\" y=\"-1254.8\" font-family=\"Helvetica,sans-Serif\" font-size=\"14.00\" fill=\"#000000\">class = y</text>\n<text text-anchor=\"start\" x=\"928\" y=\"-1254.8\" font-family=\"Helvetica,sans-Serif\" baseline-shift=\"sub\" font-size=\"14.00\" fill=\"#000000\">1</text>\n</g>\n<!-- 22&#45;&gt;26 -->\n<g id=\"edge26\" class=\"edge\">\n<title>22&#45;&gt;26</title>\n<path fill=\"none\" stroke=\"#000000\" d=\"M824.453,-1353.7677C836.4791,-1342.247 849.6282,-1329.6503 861.6479,-1318.1356\"/>\n<polygon fill=\"#000000\" stroke=\"#000000\" points=\"864.1658,-1320.5704 868.9658,-1311.1252 859.3234,-1315.5156 864.1658,-1320.5704\"/>\n</g>\n<!-- 24 -->\n<g id=\"node25\" class=\"node\">\n<title>24</title>\n<path fill=\"#399de5\" stroke=\"#000000\" d=\"M817,-1197C817,-1197 742,-1197 742,-1197 736,-1197 730,-1191 730,-1185 730,-1185 730,-1145 730,-1145 730,-1139 736,-1133 742,-1133 742,-1133 817,-1133 817,-1133 823,-1133 829,-1139 829,-1145 829,-1145 829,-1185 829,-1185 829,-1191 823,-1197 817,-1197\"/>\n<text text-anchor=\"start\" x=\"750\" y=\"-1182.8\" font-family=\"Helvetica,sans-Serif\" font-size=\"14.00\" fill=\"#000000\">gini = 0.0</text>\n<text text-anchor=\"start\" x=\"740\" y=\"-1168.8\" font-family=\"Helvetica,sans-Serif\" font-size=\"14.00\" fill=\"#000000\">samples = 1</text>\n<text text-anchor=\"start\" x=\"738\" y=\"-1154.8\" font-family=\"Helvetica,sans-Serif\" font-size=\"14.00\" fill=\"#000000\">value = [0, 1]</text>\n<text text-anchor=\"start\" x=\"747\" y=\"-1140.8\" font-family=\"Helvetica,sans-Serif\" font-size=\"14.00\" fill=\"#000000\">class = y</text>\n<text text-anchor=\"start\" x=\"805\" y=\"-1140.8\" font-family=\"Helvetica,sans-Serif\" baseline-shift=\"sub\" font-size=\"14.00\" fill=\"#000000\">1</text>\n</g>\n<!-- 23&#45;&gt;24 -->\n<g id=\"edge24\" class=\"edge\">\n<title>23&#45;&gt;24</title>\n<path fill=\"none\" stroke=\"#000000\" d=\"M780.8117,-1239.7677C780.6287,-1229.3338 780.4301,-1218.0174 780.2442,-1207.4215\"/>\n<polygon fill=\"#000000\" stroke=\"#000000\" points=\"783.7386,-1207.0622 780.0636,-1197.1252 776.7396,-1207.1851 783.7386,-1207.0622\"/>\n</g>\n<!-- 25 -->\n<g id=\"node26\" class=\"node\">\n<title>25</title>\n<path fill=\"#e58139\" stroke=\"#000000\" d=\"M934,-1197C934,-1197 859,-1197 859,-1197 853,-1197 847,-1191 847,-1185 847,-1185 847,-1145 847,-1145 847,-1139 853,-1133 859,-1133 859,-1133 934,-1133 934,-1133 940,-1133 946,-1139 946,-1145 946,-1145 946,-1185 946,-1185 946,-1191 940,-1197 934,-1197\"/>\n<text text-anchor=\"start\" x=\"867\" y=\"-1182.8\" font-family=\"Helvetica,sans-Serif\" font-size=\"14.00\" fill=\"#000000\">gini = 0.0</text>\n<text text-anchor=\"start\" x=\"857\" y=\"-1168.8\" font-family=\"Helvetica,sans-Serif\" font-size=\"14.00\" fill=\"#000000\">samples = 1</text>\n<text text-anchor=\"start\" x=\"855\" y=\"-1154.8\" font-family=\"Helvetica,sans-Serif\" font-size=\"14.00\" fill=\"#000000\">value = [1, 0]</text>\n<text text-anchor=\"start\" x=\"864\" y=\"-1140.8\" font-family=\"Helvetica,sans-Serif\" font-size=\"14.00\" fill=\"#000000\">class = y</text>\n<text text-anchor=\"start\" x=\"922\" y=\"-1140.8\" font-family=\"Helvetica,sans-Serif\" baseline-shift=\"sub\" font-size=\"14.00\" fill=\"#000000\">0</text>\n</g>\n<!-- 23&#45;&gt;25 -->\n<g id=\"edge25\" class=\"edge\">\n<title>23&#45;&gt;25</title>\n<path fill=\"none\" stroke=\"#000000\" d=\"M821.0765,-1239.7677C832.5886,-1228.3556 845.1658,-1215.8878 856.6921,-1204.4618\"/>\n<polygon fill=\"#000000\" stroke=\"#000000\" points=\"859.4551,-1206.651 864.093,-1197.1252 854.527,-1201.6797 859.4551,-1206.651\"/>\n</g>\n<!-- 28 -->\n<g id=\"node29\" class=\"node\">\n<title>28</title>\n<path fill=\"#90c8f0\" stroke=\"#000000\" d=\"M1718.5,-1546C1718.5,-1546 1626.5,-1546 1626.5,-1546 1620.5,-1546 1614.5,-1540 1614.5,-1534 1614.5,-1534 1614.5,-1480 1614.5,-1480 1614.5,-1474 1620.5,-1468 1626.5,-1468 1626.5,-1468 1718.5,-1468 1718.5,-1468 1724.5,-1468 1730.5,-1474 1730.5,-1480 1730.5,-1480 1730.5,-1534 1730.5,-1534 1730.5,-1540 1724.5,-1546 1718.5,-1546\"/>\n<text text-anchor=\"start\" x=\"1633\" y=\"-1531.8\" font-family=\"Helvetica,sans-Serif\" font-size=\"14.00\" fill=\"#000000\">Age ≤ 29.75</text>\n<text text-anchor=\"start\" x=\"1634.5\" y=\"-1517.8\" font-family=\"Helvetica,sans-Serif\" font-size=\"14.00\" fill=\"#000000\">gini = 0.423</text>\n<text text-anchor=\"start\" x=\"1628.5\" y=\"-1503.8\" font-family=\"Helvetica,sans-Serif\" font-size=\"14.00\" fill=\"#000000\">samples = 46</text>\n<text text-anchor=\"start\" x=\"1622.5\" y=\"-1489.8\" font-family=\"Helvetica,sans-Serif\" font-size=\"14.00\" fill=\"#000000\">value = [14, 32]</text>\n<text text-anchor=\"start\" x=\"1640\" y=\"-1475.8\" font-family=\"Helvetica,sans-Serif\" font-size=\"14.00\" fill=\"#000000\">class = y</text>\n<text text-anchor=\"start\" x=\"1698\" y=\"-1475.8\" font-family=\"Helvetica,sans-Serif\" baseline-shift=\"sub\" font-size=\"14.00\" fill=\"#000000\">1</text>\n</g>\n<!-- 27&#45;&gt;28 -->\n<g id=\"edge28\" class=\"edge\">\n<title>27&#45;&gt;28</title>\n<path fill=\"none\" stroke=\"#000000\" d=\"M1723.6568,-1581.7677C1717.7125,-1573.0798 1711.3496,-1563.7801 1705.2011,-1554.794\"/>\n<polygon fill=\"#000000\" stroke=\"#000000\" points=\"1707.9281,-1552.5813 1699.3927,-1546.3046 1702.151,-1556.5341 1707.9281,-1552.5813\"/>\n</g>\n<!-- 57 -->\n<g id=\"node58\" class=\"node\">\n<title>57</title>\n<path fill=\"#f3c6a5\" stroke=\"#000000\" d=\"M1873.5,-1546C1873.5,-1546 1781.5,-1546 1781.5,-1546 1775.5,-1546 1769.5,-1540 1769.5,-1534 1769.5,-1534 1769.5,-1480 1769.5,-1480 1769.5,-1474 1775.5,-1468 1781.5,-1468 1781.5,-1468 1873.5,-1468 1873.5,-1468 1879.5,-1468 1885.5,-1474 1885.5,-1480 1885.5,-1480 1885.5,-1534 1885.5,-1534 1885.5,-1540 1879.5,-1546 1873.5,-1546\"/>\n<text text-anchor=\"start\" x=\"1782\" y=\"-1531.8\" font-family=\"Helvetica,sans-Serif\" font-size=\"14.00\" fill=\"#000000\">Fare ≤ 22.738</text>\n<text text-anchor=\"start\" x=\"1789.5\" y=\"-1517.8\" font-family=\"Helvetica,sans-Serif\" font-size=\"14.00\" fill=\"#000000\">gini = 0.457</text>\n<text text-anchor=\"start\" x=\"1783.5\" y=\"-1503.8\" font-family=\"Helvetica,sans-Serif\" font-size=\"14.00\" fill=\"#000000\">samples = 68</text>\n<text text-anchor=\"start\" x=\"1777.5\" y=\"-1489.8\" font-family=\"Helvetica,sans-Serif\" font-size=\"14.00\" fill=\"#000000\">value = [44, 24]</text>\n<text text-anchor=\"start\" x=\"1795\" y=\"-1475.8\" font-family=\"Helvetica,sans-Serif\" font-size=\"14.00\" fill=\"#000000\">class = y</text>\n<text text-anchor=\"start\" x=\"1853\" y=\"-1475.8\" font-family=\"Helvetica,sans-Serif\" baseline-shift=\"sub\" font-size=\"14.00\" fill=\"#000000\">0</text>\n</g>\n<!-- 27&#45;&gt;57 -->\n<g id=\"edge57\" class=\"edge\">\n<title>27&#45;&gt;57</title>\n<path fill=\"none\" stroke=\"#000000\" d=\"M1776.999,-1581.7677C1782.8671,-1573.0798 1789.1485,-1563.7801 1795.2181,-1554.794\"/>\n<polygon fill=\"#000000\" stroke=\"#000000\" points=\"1798.2552,-1556.5505 1800.9521,-1546.3046 1792.4545,-1552.6324 1798.2552,-1556.5505\"/>\n</g>\n<!-- 29 -->\n<g id=\"node30\" class=\"node\">\n<title>29</title>\n<path fill=\"#7dbfee\" stroke=\"#000000\" d=\"M1550.5,-1432C1550.5,-1432 1458.5,-1432 1458.5,-1432 1452.5,-1432 1446.5,-1426 1446.5,-1420 1446.5,-1420 1446.5,-1366 1446.5,-1366 1446.5,-1360 1452.5,-1354 1458.5,-1354 1458.5,-1354 1550.5,-1354 1550.5,-1354 1556.5,-1354 1562.5,-1360 1562.5,-1366 1562.5,-1366 1562.5,-1420 1562.5,-1420 1562.5,-1426 1556.5,-1432 1550.5,-1432\"/>\n<text text-anchor=\"start\" x=\"1459\" y=\"-1417.8\" font-family=\"Helvetica,sans-Serif\" font-size=\"14.00\" fill=\"#000000\">Fare ≤ 15.373</text>\n<text text-anchor=\"start\" x=\"1466.5\" y=\"-1403.8\" font-family=\"Helvetica,sans-Serif\" font-size=\"14.00\" fill=\"#000000\">gini = 0.381</text>\n<text text-anchor=\"start\" x=\"1460.5\" y=\"-1389.8\" font-family=\"Helvetica,sans-Serif\" font-size=\"14.00\" fill=\"#000000\">samples = 43</text>\n<text text-anchor=\"start\" x=\"1454.5\" y=\"-1375.8\" font-family=\"Helvetica,sans-Serif\" font-size=\"14.00\" fill=\"#000000\">value = [11, 32]</text>\n<text text-anchor=\"start\" x=\"1472\" y=\"-1361.8\" font-family=\"Helvetica,sans-Serif\" font-size=\"14.00\" fill=\"#000000\">class = y</text>\n<text text-anchor=\"start\" x=\"1530\" y=\"-1361.8\" font-family=\"Helvetica,sans-Serif\" baseline-shift=\"sub\" font-size=\"14.00\" fill=\"#000000\">1</text>\n</g>\n<!-- 28&#45;&gt;29 -->\n<g id=\"edge29\" class=\"edge\">\n<title>28&#45;&gt;29</title>\n<path fill=\"none\" stroke=\"#000000\" d=\"M1614.6839,-1467.7677C1600.4816,-1458.1303 1585.1696,-1447.7401 1570.6096,-1437.8601\"/>\n<polygon fill=\"#000000\" stroke=\"#000000\" points=\"1572.378,-1434.8303 1562.1379,-1432.1115 1568.4474,-1440.6227 1572.378,-1434.8303\"/>\n</g>\n<!-- 56 -->\n<g id=\"node57\" class=\"node\">\n<title>56</title>\n<path fill=\"#e58139\" stroke=\"#000000\" d=\"M1710,-1425C1710,-1425 1635,-1425 1635,-1425 1629,-1425 1623,-1419 1623,-1413 1623,-1413 1623,-1373 1623,-1373 1623,-1367 1629,-1361 1635,-1361 1635,-1361 1710,-1361 1710,-1361 1716,-1361 1722,-1367 1722,-1373 1722,-1373 1722,-1413 1722,-1413 1722,-1419 1716,-1425 1710,-1425\"/>\n<text text-anchor=\"start\" x=\"1643\" y=\"-1410.8\" font-family=\"Helvetica,sans-Serif\" font-size=\"14.00\" fill=\"#000000\">gini = 0.0</text>\n<text text-anchor=\"start\" x=\"1633\" y=\"-1396.8\" font-family=\"Helvetica,sans-Serif\" font-size=\"14.00\" fill=\"#000000\">samples = 3</text>\n<text text-anchor=\"start\" x=\"1631\" y=\"-1382.8\" font-family=\"Helvetica,sans-Serif\" font-size=\"14.00\" fill=\"#000000\">value = [3, 0]</text>\n<text text-anchor=\"start\" x=\"1640\" y=\"-1368.8\" font-family=\"Helvetica,sans-Serif\" font-size=\"14.00\" fill=\"#000000\">class = y</text>\n<text text-anchor=\"start\" x=\"1698\" y=\"-1368.8\" font-family=\"Helvetica,sans-Serif\" baseline-shift=\"sub\" font-size=\"14.00\" fill=\"#000000\">0</text>\n</g>\n<!-- 28&#45;&gt;56 -->\n<g id=\"edge56\" class=\"edge\">\n<title>28&#45;&gt;56</title>\n<path fill=\"none\" stroke=\"#000000\" d=\"M1672.5,-1467.7677C1672.5,-1457.3338 1672.5,-1446.0174 1672.5,-1435.4215\"/>\n<polygon fill=\"#000000\" stroke=\"#000000\" points=\"1676.0001,-1435.1252 1672.5,-1425.1252 1669.0001,-1435.1252 1676.0001,-1435.1252\"/>\n</g>\n<!-- 30 -->\n<g id=\"node31\" class=\"node\">\n<title>30</title>\n<path fill=\"#a1d0f3\" stroke=\"#000000\" d=\"M1243.5,-1318C1243.5,-1318 1151.5,-1318 1151.5,-1318 1145.5,-1318 1139.5,-1312 1139.5,-1306 1139.5,-1306 1139.5,-1252 1139.5,-1252 1139.5,-1246 1145.5,-1240 1151.5,-1240 1151.5,-1240 1243.5,-1240 1243.5,-1240 1249.5,-1240 1255.5,-1246 1255.5,-1252 1255.5,-1252 1255.5,-1306 1255.5,-1306 1255.5,-1312 1249.5,-1318 1243.5,-1318\"/>\n<text text-anchor=\"start\" x=\"1152\" y=\"-1303.8\" font-family=\"Helvetica,sans-Serif\" font-size=\"14.00\" fill=\"#000000\">Fare ≤ 13.935</text>\n<text text-anchor=\"start\" x=\"1159.5\" y=\"-1289.8\" font-family=\"Helvetica,sans-Serif\" font-size=\"14.00\" fill=\"#000000\">gini = 0.451</text>\n<text text-anchor=\"start\" x=\"1153.5\" y=\"-1275.8\" font-family=\"Helvetica,sans-Serif\" font-size=\"14.00\" fill=\"#000000\">samples = 32</text>\n<text text-anchor=\"start\" x=\"1147.5\" y=\"-1261.8\" font-family=\"Helvetica,sans-Serif\" font-size=\"14.00\" fill=\"#000000\">value = [11, 21]</text>\n<text text-anchor=\"start\" x=\"1165\" y=\"-1247.8\" font-family=\"Helvetica,sans-Serif\" font-size=\"14.00\" fill=\"#000000\">class = y</text>\n<text text-anchor=\"start\" x=\"1223\" y=\"-1247.8\" font-family=\"Helvetica,sans-Serif\" baseline-shift=\"sub\" font-size=\"14.00\" fill=\"#000000\">1</text>\n</g>\n<!-- 29&#45;&gt;30 -->\n<g id=\"edge30\" class=\"edge\">\n<title>29&#45;&gt;30</title>\n<path fill=\"none\" stroke=\"#000000\" d=\"M1446.3947,-1371.4234C1394.8208,-1352.2722 1319.4435,-1324.282 1265.1668,-1304.1271\"/>\n<polygon fill=\"#000000\" stroke=\"#000000\" points=\"1266.2212,-1300.7851 1255.6282,-1300.5851 1263.7843,-1307.3473 1266.2212,-1300.7851\"/>\n</g>\n<!-- 55 -->\n<g id=\"node56\" class=\"node\">\n<title>55</title>\n<path fill=\"#399de5\" stroke=\"#000000\" d=\"M1546,-1311C1546,-1311 1463,-1311 1463,-1311 1457,-1311 1451,-1305 1451,-1299 1451,-1299 1451,-1259 1451,-1259 1451,-1253 1457,-1247 1463,-1247 1463,-1247 1546,-1247 1546,-1247 1552,-1247 1558,-1253 1558,-1259 1558,-1259 1558,-1299 1558,-1299 1558,-1305 1552,-1311 1546,-1311\"/>\n<text text-anchor=\"start\" x=\"1475\" y=\"-1296.8\" font-family=\"Helvetica,sans-Serif\" font-size=\"14.00\" fill=\"#000000\">gini = 0.0</text>\n<text text-anchor=\"start\" x=\"1460.5\" y=\"-1282.8\" font-family=\"Helvetica,sans-Serif\" font-size=\"14.00\" fill=\"#000000\">samples = 11</text>\n<text text-anchor=\"start\" x=\"1459\" y=\"-1268.8\" font-family=\"Helvetica,sans-Serif\" font-size=\"14.00\" fill=\"#000000\">value = [0, 11]</text>\n<text text-anchor=\"start\" x=\"1472\" y=\"-1254.8\" font-family=\"Helvetica,sans-Serif\" font-size=\"14.00\" fill=\"#000000\">class = y</text>\n<text text-anchor=\"start\" x=\"1530\" y=\"-1254.8\" font-family=\"Helvetica,sans-Serif\" baseline-shift=\"sub\" font-size=\"14.00\" fill=\"#000000\">1</text>\n</g>\n<!-- 29&#45;&gt;55 -->\n<g id=\"edge55\" class=\"edge\">\n<title>29&#45;&gt;55</title>\n<path fill=\"none\" stroke=\"#000000\" d=\"M1504.5,-1353.7677C1504.5,-1343.3338 1504.5,-1332.0174 1504.5,-1321.4215\"/>\n<polygon fill=\"#000000\" stroke=\"#000000\" points=\"1508.0001,-1321.1252 1504.5,-1311.1252 1501.0001,-1321.1252 1508.0001,-1321.1252\"/>\n</g>\n<!-- 31 -->\n<g id=\"node32\" class=\"node\">\n<title>31</title>\n<path fill=\"#74baed\" stroke=\"#000000\" d=\"M1059,-1204C1059,-1204 976,-1204 976,-1204 970,-1204 964,-1198 964,-1192 964,-1192 964,-1138 964,-1138 964,-1132 970,-1126 976,-1126 976,-1126 1059,-1126 1059,-1126 1065,-1126 1071,-1132 1071,-1138 1071,-1138 1071,-1192 1071,-1192 1071,-1198 1065,-1204 1059,-1204\"/>\n<text text-anchor=\"start\" x=\"976.5\" y=\"-1189.8\" font-family=\"Helvetica,sans-Serif\" font-size=\"14.00\" fill=\"#000000\">Fare ≤ 6.987</text>\n<text text-anchor=\"start\" x=\"979.5\" y=\"-1175.8\" font-family=\"Helvetica,sans-Serif\" font-size=\"14.00\" fill=\"#000000\">gini = 0.355</text>\n<text text-anchor=\"start\" x=\"973.5\" y=\"-1161.8\" font-family=\"Helvetica,sans-Serif\" font-size=\"14.00\" fill=\"#000000\">samples = 26</text>\n<text text-anchor=\"start\" x=\"972\" y=\"-1147.8\" font-family=\"Helvetica,sans-Serif\" font-size=\"14.00\" fill=\"#000000\">value = [6, 20]</text>\n<text text-anchor=\"start\" x=\"985\" y=\"-1133.8\" font-family=\"Helvetica,sans-Serif\" font-size=\"14.00\" fill=\"#000000\">class = y</text>\n<text text-anchor=\"start\" x=\"1043\" y=\"-1133.8\" font-family=\"Helvetica,sans-Serif\" baseline-shift=\"sub\" font-size=\"14.00\" fill=\"#000000\">1</text>\n</g>\n<!-- 30&#45;&gt;31 -->\n<g id=\"edge31\" class=\"edge\">\n<title>30&#45;&gt;31</title>\n<path fill=\"none\" stroke=\"#000000\" d=\"M1139.0592,-1241.9875C1120.0978,-1229.9786 1098.9967,-1216.6146 1079.7674,-1204.436\"/>\n<polygon fill=\"#000000\" stroke=\"#000000\" points=\"1081.3994,-1201.3267 1071.0785,-1198.933 1077.654,-1207.2405 1081.3994,-1201.3267\"/>\n</g>\n<!-- 52 -->\n<g id=\"node53\" class=\"node\">\n<title>52</title>\n<path fill=\"#ea9a61\" stroke=\"#000000\" d=\"M1237,-1204C1237,-1204 1158,-1204 1158,-1204 1152,-1204 1146,-1198 1146,-1192 1146,-1192 1146,-1138 1146,-1138 1146,-1132 1152,-1126 1158,-1126 1158,-1126 1237,-1126 1237,-1126 1243,-1126 1249,-1132 1249,-1138 1249,-1138 1249,-1192 1249,-1192 1249,-1198 1243,-1204 1237,-1204\"/>\n<text text-anchor=\"start\" x=\"1154\" y=\"-1189.8\" font-family=\"Helvetica,sans-Serif\" font-size=\"14.00\" fill=\"#000000\">Age ≤ 25.375</text>\n<text text-anchor=\"start\" x=\"1159.5\" y=\"-1175.8\" font-family=\"Helvetica,sans-Serif\" font-size=\"14.00\" fill=\"#000000\">gini = 0.278</text>\n<text text-anchor=\"start\" x=\"1158\" y=\"-1161.8\" font-family=\"Helvetica,sans-Serif\" font-size=\"14.00\" fill=\"#000000\">samples = 6</text>\n<text text-anchor=\"start\" x=\"1156\" y=\"-1147.8\" font-family=\"Helvetica,sans-Serif\" font-size=\"14.00\" fill=\"#000000\">value = [5, 1]</text>\n<text text-anchor=\"start\" x=\"1165\" y=\"-1133.8\" font-family=\"Helvetica,sans-Serif\" font-size=\"14.00\" fill=\"#000000\">class = y</text>\n<text text-anchor=\"start\" x=\"1223\" y=\"-1133.8\" font-family=\"Helvetica,sans-Serif\" baseline-shift=\"sub\" font-size=\"14.00\" fill=\"#000000\">0</text>\n</g>\n<!-- 30&#45;&gt;52 -->\n<g id=\"edge52\" class=\"edge\">\n<title>30&#45;&gt;52</title>\n<path fill=\"none\" stroke=\"#000000\" d=\"M1197.5,-1239.7677C1197.5,-1231.6172 1197.5,-1222.9283 1197.5,-1214.4649\"/>\n<polygon fill=\"#000000\" stroke=\"#000000\" points=\"1201.0001,-1214.3046 1197.5,-1204.3046 1194.0001,-1214.3047 1201.0001,-1214.3046\"/>\n</g>\n<!-- 32 -->\n<g id=\"node33\" class=\"node\">\n<title>32</title>\n<path fill=\"#e58139\" stroke=\"#000000\" d=\"M905,-1083C905,-1083 830,-1083 830,-1083 824,-1083 818,-1077 818,-1071 818,-1071 818,-1031 818,-1031 818,-1025 824,-1019 830,-1019 830,-1019 905,-1019 905,-1019 911,-1019 917,-1025 917,-1031 917,-1031 917,-1071 917,-1071 917,-1077 911,-1083 905,-1083\"/>\n<text text-anchor=\"start\" x=\"838\" y=\"-1068.8\" font-family=\"Helvetica,sans-Serif\" font-size=\"14.00\" fill=\"#000000\">gini = 0.0</text>\n<text text-anchor=\"start\" x=\"828\" y=\"-1054.8\" font-family=\"Helvetica,sans-Serif\" font-size=\"14.00\" fill=\"#000000\">samples = 1</text>\n<text text-anchor=\"start\" x=\"826\" y=\"-1040.8\" font-family=\"Helvetica,sans-Serif\" font-size=\"14.00\" fill=\"#000000\">value = [1, 0]</text>\n<text text-anchor=\"start\" x=\"835\" y=\"-1026.8\" font-family=\"Helvetica,sans-Serif\" font-size=\"14.00\" fill=\"#000000\">class = y</text>\n<text text-anchor=\"start\" x=\"893\" y=\"-1026.8\" font-family=\"Helvetica,sans-Serif\" baseline-shift=\"sub\" font-size=\"14.00\" fill=\"#000000\">0</text>\n</g>\n<!-- 31&#45;&gt;32 -->\n<g id=\"edge32\" class=\"edge\">\n<title>31&#45;&gt;32</title>\n<path fill=\"none\" stroke=\"#000000\" d=\"M965.8785,-1125.7677C950.4337,-1114.0296 933.5191,-1101.1745 918.1381,-1089.485\"/>\n<polygon fill=\"#000000\" stroke=\"#000000\" points=\"919.8494,-1086.3895 909.77,-1083.1252 915.6138,-1091.9626 919.8494,-1086.3895\"/>\n</g>\n<!-- 33 -->\n<g id=\"node34\" class=\"node\">\n<title>33</title>\n<path fill=\"#6ab6ec\" stroke=\"#000000\" d=\"M1030,-1090C1030,-1090 947,-1090 947,-1090 941,-1090 935,-1084 935,-1078 935,-1078 935,-1024 935,-1024 935,-1018 941,-1012 947,-1012 947,-1012 1030,-1012 1030,-1012 1036,-1012 1042,-1018 1042,-1024 1042,-1024 1042,-1078 1042,-1078 1042,-1084 1036,-1090 1030,-1090\"/>\n<text text-anchor=\"start\" x=\"951.5\" y=\"-1075.8\" font-family=\"Helvetica,sans-Serif\" font-size=\"14.00\" fill=\"#000000\">Parch ≤ 1.5</text>\n<text text-anchor=\"start\" x=\"955\" y=\"-1061.8\" font-family=\"Helvetica,sans-Serif\" font-size=\"14.00\" fill=\"#000000\">gini = 0.32</text>\n<text text-anchor=\"start\" x=\"944.5\" y=\"-1047.8\" font-family=\"Helvetica,sans-Serif\" font-size=\"14.00\" fill=\"#000000\">samples = 25</text>\n<text text-anchor=\"start\" x=\"943\" y=\"-1033.8\" font-family=\"Helvetica,sans-Serif\" font-size=\"14.00\" fill=\"#000000\">value = [5, 20]</text>\n<text text-anchor=\"start\" x=\"956\" y=\"-1019.8\" font-family=\"Helvetica,sans-Serif\" font-size=\"14.00\" fill=\"#000000\">class = y</text>\n<text text-anchor=\"start\" x=\"1014\" y=\"-1019.8\" font-family=\"Helvetica,sans-Serif\" baseline-shift=\"sub\" font-size=\"14.00\" fill=\"#000000\">1</text>\n</g>\n<!-- 31&#45;&gt;33 -->\n<g id=\"edge33\" class=\"edge\">\n<title>31&#45;&gt;33</title>\n<path fill=\"none\" stroke=\"#000000\" d=\"M1007.5198,-1125.7677C1005.4237,-1117.5277 1003.1875,-1108.7372 1001.0122,-1100.1859\"/>\n<polygon fill=\"#000000\" stroke=\"#000000\" points=\"1004.3559,-1099.1331 998.4986,-1090.3046 997.572,-1100.8589 1004.3559,-1099.1331\"/>\n</g>\n<!-- 34 -->\n<g id=\"node35\" class=\"node\">\n<title>34</title>\n<path fill=\"#61b1ea\" stroke=\"#000000\" d=\"M941,-976C941,-976 858,-976 858,-976 852,-976 846,-970 846,-964 846,-964 846,-910 846,-910 846,-904 852,-898 858,-898 858,-898 941,-898 941,-898 947,-898 953,-904 953,-910 953,-910 953,-964 953,-964 953,-970 947,-976 941,-976\"/>\n<text text-anchor=\"start\" x=\"864.5\" y=\"-961.8\" font-family=\"Helvetica,sans-Serif\" font-size=\"14.00\" fill=\"#000000\">Age ≤ 18.5</text>\n<text text-anchor=\"start\" x=\"861.5\" y=\"-947.8\" font-family=\"Helvetica,sans-Serif\" font-size=\"14.00\" fill=\"#000000\">gini = 0.278</text>\n<text text-anchor=\"start\" x=\"855.5\" y=\"-933.8\" font-family=\"Helvetica,sans-Serif\" font-size=\"14.00\" fill=\"#000000\">samples = 24</text>\n<text text-anchor=\"start\" x=\"854\" y=\"-919.8\" font-family=\"Helvetica,sans-Serif\" font-size=\"14.00\" fill=\"#000000\">value = [4, 20]</text>\n<text text-anchor=\"start\" x=\"867\" y=\"-905.8\" font-family=\"Helvetica,sans-Serif\" font-size=\"14.00\" fill=\"#000000\">class = y</text>\n<text text-anchor=\"start\" x=\"925\" y=\"-905.8\" font-family=\"Helvetica,sans-Serif\" baseline-shift=\"sub\" font-size=\"14.00\" fill=\"#000000\">1</text>\n</g>\n<!-- 33&#45;&gt;34 -->\n<g id=\"edge34\" class=\"edge\">\n<title>33&#45;&gt;34</title>\n<path fill=\"none\" stroke=\"#000000\" d=\"M957.8712,-1011.7677C950.9488,-1002.9007 943.5287,-993.3964 936.3792,-984.2385\"/>\n<polygon fill=\"#000000\" stroke=\"#000000\" points=\"939.0978,-982.0332 930.1852,-976.3046 933.5802,-986.3408 939.0978,-982.0332\"/>\n</g>\n<!-- 51 -->\n<g id=\"node52\" class=\"node\">\n<title>51</title>\n<path fill=\"#e58139\" stroke=\"#000000\" d=\"M1058,-969C1058,-969 983,-969 983,-969 977,-969 971,-963 971,-957 971,-957 971,-917 971,-917 971,-911 977,-905 983,-905 983,-905 1058,-905 1058,-905 1064,-905 1070,-911 1070,-917 1070,-917 1070,-957 1070,-957 1070,-963 1064,-969 1058,-969\"/>\n<text text-anchor=\"start\" x=\"991\" y=\"-954.8\" font-family=\"Helvetica,sans-Serif\" font-size=\"14.00\" fill=\"#000000\">gini = 0.0</text>\n<text text-anchor=\"start\" x=\"981\" y=\"-940.8\" font-family=\"Helvetica,sans-Serif\" font-size=\"14.00\" fill=\"#000000\">samples = 1</text>\n<text text-anchor=\"start\" x=\"979\" y=\"-926.8\" font-family=\"Helvetica,sans-Serif\" font-size=\"14.00\" fill=\"#000000\">value = [1, 0]</text>\n<text text-anchor=\"start\" x=\"988\" y=\"-912.8\" font-family=\"Helvetica,sans-Serif\" font-size=\"14.00\" fill=\"#000000\">class = y</text>\n<text text-anchor=\"start\" x=\"1046\" y=\"-912.8\" font-family=\"Helvetica,sans-Serif\" baseline-shift=\"sub\" font-size=\"14.00\" fill=\"#000000\">0</text>\n</g>\n<!-- 33&#45;&gt;51 -->\n<g id=\"edge51\" class=\"edge\">\n<title>33&#45;&gt;51</title>\n<path fill=\"none\" stroke=\"#000000\" d=\"M999.5126,-1011.7677C1002.5024,-1001.1164 1005.7504,-989.5455 1008.7778,-978.7603\"/>\n<polygon fill=\"#000000\" stroke=\"#000000\" points=\"1012.1495,-979.699 1011.4824,-969.1252 1005.41,-977.8072 1012.1495,-979.699\"/>\n</g>\n<!-- 35 -->\n<g id=\"node36\" class=\"node\">\n<title>35</title>\n<path fill=\"#399de5\" stroke=\"#000000\" d=\"M883,-855C883,-855 808,-855 808,-855 802,-855 796,-849 796,-843 796,-843 796,-803 796,-803 796,-797 802,-791 808,-791 808,-791 883,-791 883,-791 889,-791 895,-797 895,-803 895,-803 895,-843 895,-843 895,-849 889,-855 883,-855\"/>\n<text text-anchor=\"start\" x=\"816\" y=\"-840.8\" font-family=\"Helvetica,sans-Serif\" font-size=\"14.00\" fill=\"#000000\">gini = 0.0</text>\n<text text-anchor=\"start\" x=\"806\" y=\"-826.8\" font-family=\"Helvetica,sans-Serif\" font-size=\"14.00\" fill=\"#000000\">samples = 5</text>\n<text text-anchor=\"start\" x=\"804\" y=\"-812.8\" font-family=\"Helvetica,sans-Serif\" font-size=\"14.00\" fill=\"#000000\">value = [0, 5]</text>\n<text text-anchor=\"start\" x=\"813\" y=\"-798.8\" font-family=\"Helvetica,sans-Serif\" font-size=\"14.00\" fill=\"#000000\">class = y</text>\n<text text-anchor=\"start\" x=\"871\" y=\"-798.8\" font-family=\"Helvetica,sans-Serif\" baseline-shift=\"sub\" font-size=\"14.00\" fill=\"#000000\">1</text>\n</g>\n<!-- 34&#45;&gt;35 -->\n<g id=\"edge35\" class=\"edge\">\n<title>34&#45;&gt;35</title>\n<path fill=\"none\" stroke=\"#000000\" d=\"M880.9163,-897.7677C875.8195,-887.0078 870.2781,-875.3093 865.1249,-864.4303\"/>\n<polygon fill=\"#000000\" stroke=\"#000000\" points=\"868.1612,-862.6643 860.7172,-855.1252 861.835,-865.6609 868.1612,-862.6643\"/>\n</g>\n<!-- 36 -->\n<g id=\"node37\" class=\"node\">\n<title>36</title>\n<path fill=\"#6eb7ec\" stroke=\"#000000\" d=\"M1008,-862C1008,-862 925,-862 925,-862 919,-862 913,-856 913,-850 913,-850 913,-796 913,-796 913,-790 919,-784 925,-784 925,-784 1008,-784 1008,-784 1014,-784 1020,-790 1020,-796 1020,-796 1020,-850 1020,-850 1020,-856 1014,-862 1008,-862\"/>\n<text text-anchor=\"start\" x=\"925.5\" y=\"-847.8\" font-family=\"Helvetica,sans-Serif\" font-size=\"14.00\" fill=\"#000000\">Fare ≤ 8.008</text>\n<text text-anchor=\"start\" x=\"928.5\" y=\"-833.8\" font-family=\"Helvetica,sans-Serif\" font-size=\"14.00\" fill=\"#000000\">gini = 0.332</text>\n<text text-anchor=\"start\" x=\"922.5\" y=\"-819.8\" font-family=\"Helvetica,sans-Serif\" font-size=\"14.00\" fill=\"#000000\">samples = 19</text>\n<text text-anchor=\"start\" x=\"921\" y=\"-805.8\" font-family=\"Helvetica,sans-Serif\" font-size=\"14.00\" fill=\"#000000\">value = [4, 15]</text>\n<text text-anchor=\"start\" x=\"934\" y=\"-791.8\" font-family=\"Helvetica,sans-Serif\" font-size=\"14.00\" fill=\"#000000\">class = y</text>\n<text text-anchor=\"start\" x=\"992\" y=\"-791.8\" font-family=\"Helvetica,sans-Serif\" baseline-shift=\"sub\" font-size=\"14.00\" fill=\"#000000\">1</text>\n</g>\n<!-- 34&#45;&gt;36 -->\n<g id=\"edge36\" class=\"edge\">\n<title>34&#45;&gt;36</title>\n<path fill=\"none\" stroke=\"#000000\" d=\"M922.5576,-897.7677C927.611,-889.1694 933.0166,-879.9718 938.2472,-871.072\"/>\n<polygon fill=\"#000000\" stroke=\"#000000\" points=\"941.3504,-872.6994 943.3999,-862.3046 935.3155,-869.1525 941.3504,-872.6994\"/>\n</g>\n<!-- 37 -->\n<g id=\"node38\" class=\"node\">\n<title>37</title>\n<path fill=\"#61b1ea\" stroke=\"#000000\" d=\"M922,-748C922,-748 839,-748 839,-748 833,-748 827,-742 827,-736 827,-736 827,-682 827,-682 827,-676 833,-670 839,-670 839,-670 922,-670 922,-670 928,-670 934,-676 934,-682 934,-682 934,-736 934,-736 934,-742 928,-748 922,-748\"/>\n<text text-anchor=\"start\" x=\"837\" y=\"-733.8\" font-family=\"Helvetica,sans-Serif\" font-size=\"14.00\" fill=\"#000000\">Age ≤ 21.375</text>\n<text text-anchor=\"start\" x=\"842.5\" y=\"-719.8\" font-family=\"Helvetica,sans-Serif\" font-size=\"14.00\" fill=\"#000000\">gini = 0.278</text>\n<text text-anchor=\"start\" x=\"836.5\" y=\"-705.8\" font-family=\"Helvetica,sans-Serif\" font-size=\"14.00\" fill=\"#000000\">samples = 18</text>\n<text text-anchor=\"start\" x=\"835\" y=\"-691.8\" font-family=\"Helvetica,sans-Serif\" font-size=\"14.00\" fill=\"#000000\">value = [3, 15]</text>\n<text text-anchor=\"start\" x=\"848\" y=\"-677.8\" font-family=\"Helvetica,sans-Serif\" font-size=\"14.00\" fill=\"#000000\">class = y</text>\n<text text-anchor=\"start\" x=\"906\" y=\"-677.8\" font-family=\"Helvetica,sans-Serif\" baseline-shift=\"sub\" font-size=\"14.00\" fill=\"#000000\">1</text>\n</g>\n<!-- 36&#45;&gt;37 -->\n<g id=\"edge37\" class=\"edge\">\n<title>36&#45;&gt;37</title>\n<path fill=\"none\" stroke=\"#000000\" d=\"M936.9037,-783.7677C930.2821,-774.9903 923.1894,-765.5883 916.3455,-756.5161\"/>\n<polygon fill=\"#000000\" stroke=\"#000000\" points=\"918.9674,-754.18 910.1509,-748.3046 913.3792,-758.3957 918.9674,-754.18\"/>\n</g>\n<!-- 50 -->\n<g id=\"node51\" class=\"node\">\n<title>50</title>\n<path fill=\"#e58139\" stroke=\"#000000\" d=\"M1039,-741C1039,-741 964,-741 964,-741 958,-741 952,-735 952,-729 952,-729 952,-689 952,-689 952,-683 958,-677 964,-677 964,-677 1039,-677 1039,-677 1045,-677 1051,-683 1051,-689 1051,-689 1051,-729 1051,-729 1051,-735 1045,-741 1039,-741\"/>\n<text text-anchor=\"start\" x=\"972\" y=\"-726.8\" font-family=\"Helvetica,sans-Serif\" font-size=\"14.00\" fill=\"#000000\">gini = 0.0</text>\n<text text-anchor=\"start\" x=\"962\" y=\"-712.8\" font-family=\"Helvetica,sans-Serif\" font-size=\"14.00\" fill=\"#000000\">samples = 1</text>\n<text text-anchor=\"start\" x=\"960\" y=\"-698.8\" font-family=\"Helvetica,sans-Serif\" font-size=\"14.00\" fill=\"#000000\">value = [1, 0]</text>\n<text text-anchor=\"start\" x=\"969\" y=\"-684.8\" font-family=\"Helvetica,sans-Serif\" font-size=\"14.00\" fill=\"#000000\">class = y</text>\n<text text-anchor=\"start\" x=\"1027\" y=\"-684.8\" font-family=\"Helvetica,sans-Serif\" baseline-shift=\"sub\" font-size=\"14.00\" fill=\"#000000\">0</text>\n</g>\n<!-- 36&#45;&gt;50 -->\n<g id=\"edge50\" class=\"edge\">\n<title>36&#45;&gt;50</title>\n<path fill=\"none\" stroke=\"#000000\" d=\"M978.545,-783.7677C981.8151,-773.1164 985.3676,-761.5455 988.6789,-750.7603\"/>\n<polygon fill=\"#000000\" stroke=\"#000000\" points=\"992.0478,-751.7121 991.637,-741.1252 985.3561,-749.6575 992.0478,-751.7121\"/>\n</g>\n<!-- 38 -->\n<g id=\"node39\" class=\"node\">\n<title>38</title>\n<path fill=\"#e58139\" stroke=\"#000000\" d=\"M916,-627C916,-627 841,-627 841,-627 835,-627 829,-621 829,-615 829,-615 829,-575 829,-575 829,-569 835,-563 841,-563 841,-563 916,-563 916,-563 922,-563 928,-569 928,-575 928,-575 928,-615 928,-615 928,-621 922,-627 916,-627\"/>\n<text text-anchor=\"start\" x=\"849\" y=\"-612.8\" font-family=\"Helvetica,sans-Serif\" font-size=\"14.00\" fill=\"#000000\">gini = 0.0</text>\n<text text-anchor=\"start\" x=\"839\" y=\"-598.8\" font-family=\"Helvetica,sans-Serif\" font-size=\"14.00\" fill=\"#000000\">samples = 1</text>\n<text text-anchor=\"start\" x=\"837\" y=\"-584.8\" font-family=\"Helvetica,sans-Serif\" font-size=\"14.00\" fill=\"#000000\">value = [1, 0]</text>\n<text text-anchor=\"start\" x=\"846\" y=\"-570.8\" font-family=\"Helvetica,sans-Serif\" font-size=\"14.00\" fill=\"#000000\">class = y</text>\n<text text-anchor=\"start\" x=\"904\" y=\"-570.8\" font-family=\"Helvetica,sans-Serif\" baseline-shift=\"sub\" font-size=\"14.00\" fill=\"#000000\">0</text>\n</g>\n<!-- 37&#45;&gt;38 -->\n<g id=\"edge38\" class=\"edge\">\n<title>37&#45;&gt;38</title>\n<path fill=\"none\" stroke=\"#000000\" d=\"M879.8117,-669.7677C879.6287,-659.3338 879.4301,-648.0174 879.2442,-637.4215\"/>\n<polygon fill=\"#000000\" stroke=\"#000000\" points=\"882.7386,-637.0622 879.0636,-627.1252 875.7396,-637.1851 882.7386,-637.0622\"/>\n</g>\n<!-- 39 -->\n<g id=\"node40\" class=\"node\">\n<title>39</title>\n<path fill=\"#53aae8\" stroke=\"#000000\" d=\"M1041,-634C1041,-634 958,-634 958,-634 952,-634 946,-628 946,-622 946,-622 946,-568 946,-568 946,-562 952,-556 958,-556 958,-556 1041,-556 1041,-556 1047,-556 1053,-562 1053,-568 1053,-568 1053,-622 1053,-622 1053,-628 1047,-634 1041,-634\"/>\n<text text-anchor=\"start\" x=\"958.5\" y=\"-619.8\" font-family=\"Helvetica,sans-Serif\" font-size=\"14.00\" fill=\"#000000\">Fare ≤ 7.681</text>\n<text text-anchor=\"start\" x=\"961.5\" y=\"-605.8\" font-family=\"Helvetica,sans-Serif\" font-size=\"14.00\" fill=\"#000000\">gini = 0.208</text>\n<text text-anchor=\"start\" x=\"955.5\" y=\"-591.8\" font-family=\"Helvetica,sans-Serif\" font-size=\"14.00\" fill=\"#000000\">samples = 17</text>\n<text text-anchor=\"start\" x=\"954\" y=\"-577.8\" font-family=\"Helvetica,sans-Serif\" font-size=\"14.00\" fill=\"#000000\">value = [2, 15]</text>\n<text text-anchor=\"start\" x=\"967\" y=\"-563.8\" font-family=\"Helvetica,sans-Serif\" font-size=\"14.00\" fill=\"#000000\">class = y</text>\n<text text-anchor=\"start\" x=\"1025\" y=\"-563.8\" font-family=\"Helvetica,sans-Serif\" baseline-shift=\"sub\" font-size=\"14.00\" fill=\"#000000\">1</text>\n</g>\n<!-- 37&#45;&gt;39 -->\n<g id=\"edge39\" class=\"edge\">\n<title>37&#45;&gt;39</title>\n<path fill=\"none\" stroke=\"#000000\" d=\"M921.453,-669.7677C930.9894,-660.632 941.232,-650.8198 951.0576,-641.407\"/>\n<polygon fill=\"#000000\" stroke=\"#000000\" points=\"953.6715,-643.7498 958.4715,-634.3046 948.8291,-638.695 953.6715,-643.7498\"/>\n</g>\n<!-- 40 -->\n<g id=\"node41\" class=\"node\">\n<title>40</title>\n<path fill=\"#9ccef2\" stroke=\"#000000\" d=\"M980,-520C980,-520 905,-520 905,-520 899,-520 893,-514 893,-508 893,-508 893,-454 893,-454 893,-448 899,-442 905,-442 905,-442 980,-442 980,-442 986,-442 992,-448 992,-454 992,-454 992,-508 992,-508 992,-514 986,-520 980,-520\"/>\n<text text-anchor=\"start\" x=\"901.5\" y=\"-505.8\" font-family=\"Helvetica,sans-Serif\" font-size=\"14.00\" fill=\"#000000\">Fare ≤ 7.429</text>\n<text text-anchor=\"start\" x=\"904.5\" y=\"-491.8\" font-family=\"Helvetica,sans-Serif\" font-size=\"14.00\" fill=\"#000000\">gini = 0.444</text>\n<text text-anchor=\"start\" x=\"903\" y=\"-477.8\" font-family=\"Helvetica,sans-Serif\" font-size=\"14.00\" fill=\"#000000\">samples = 3</text>\n<text text-anchor=\"start\" x=\"901\" y=\"-463.8\" font-family=\"Helvetica,sans-Serif\" font-size=\"14.00\" fill=\"#000000\">value = [1, 2]</text>\n<text text-anchor=\"start\" x=\"910\" y=\"-449.8\" font-family=\"Helvetica,sans-Serif\" font-size=\"14.00\" fill=\"#000000\">class = y</text>\n<text text-anchor=\"start\" x=\"968\" y=\"-449.8\" font-family=\"Helvetica,sans-Serif\" baseline-shift=\"sub\" font-size=\"14.00\" fill=\"#000000\">1</text>\n</g>\n<!-- 39&#45;&gt;40 -->\n<g id=\"edge40\" class=\"edge\">\n<title>39&#45;&gt;40</title>\n<path fill=\"none\" stroke=\"#000000\" d=\"M979.8838,-555.7677C975.6295,-547.259 971.0817,-538.1634 966.6751,-529.3502\"/>\n<polygon fill=\"#000000\" stroke=\"#000000\" points=\"969.755,-527.6837 962.1523,-520.3046 963.494,-530.8142 969.755,-527.6837\"/>\n</g>\n<!-- 43 -->\n<g id=\"node44\" class=\"node\">\n<title>43</title>\n<path fill=\"#48a5e7\" stroke=\"#000000\" d=\"M1105,-520C1105,-520 1022,-520 1022,-520 1016,-520 1010,-514 1010,-508 1010,-508 1010,-454 1010,-454 1010,-448 1016,-442 1022,-442 1022,-442 1105,-442 1105,-442 1111,-442 1117,-448 1117,-454 1117,-454 1117,-508 1117,-508 1117,-514 1111,-520 1105,-520\"/>\n<text text-anchor=\"start\" x=\"1022.5\" y=\"-505.8\" font-family=\"Helvetica,sans-Serif\" font-size=\"14.00\" fill=\"#000000\">Fare ≤ 7.769</text>\n<text text-anchor=\"start\" x=\"1025.5\" y=\"-491.8\" font-family=\"Helvetica,sans-Serif\" font-size=\"14.00\" fill=\"#000000\">gini = 0.133</text>\n<text text-anchor=\"start\" x=\"1019.5\" y=\"-477.8\" font-family=\"Helvetica,sans-Serif\" font-size=\"14.00\" fill=\"#000000\">samples = 14</text>\n<text text-anchor=\"start\" x=\"1018\" y=\"-463.8\" font-family=\"Helvetica,sans-Serif\" font-size=\"14.00\" fill=\"#000000\">value = [1, 13]</text>\n<text text-anchor=\"start\" x=\"1031\" y=\"-449.8\" font-family=\"Helvetica,sans-Serif\" font-size=\"14.00\" fill=\"#000000\">class = y</text>\n<text text-anchor=\"start\" x=\"1089\" y=\"-449.8\" font-family=\"Helvetica,sans-Serif\" baseline-shift=\"sub\" font-size=\"14.00\" fill=\"#000000\">1</text>\n</g>\n<!-- 39&#45;&gt;43 -->\n<g id=\"edge43\" class=\"edge\">\n<title>39&#45;&gt;43</title>\n<path fill=\"none\" stroke=\"#000000\" d=\"M1021.5252,-555.7677C1026.3523,-547.1694 1031.5158,-537.9718 1036.5122,-529.072\"/>\n<polygon fill=\"#000000\" stroke=\"#000000\" points=\"1039.5908,-530.7379 1041.4342,-520.3046 1033.4869,-527.3111 1039.5908,-530.7379\"/>\n</g>\n<!-- 41 -->\n<g id=\"node42\" class=\"node\">\n<title>41</title>\n<path fill=\"#399de5\" stroke=\"#000000\" d=\"M863,-399C863,-399 788,-399 788,-399 782,-399 776,-393 776,-387 776,-387 776,-347 776,-347 776,-341 782,-335 788,-335 788,-335 863,-335 863,-335 869,-335 875,-341 875,-347 875,-347 875,-387 875,-387 875,-393 869,-399 863,-399\"/>\n<text text-anchor=\"start\" x=\"796\" y=\"-384.8\" font-family=\"Helvetica,sans-Serif\" font-size=\"14.00\" fill=\"#000000\">gini = 0.0</text>\n<text text-anchor=\"start\" x=\"786\" y=\"-370.8\" font-family=\"Helvetica,sans-Serif\" font-size=\"14.00\" fill=\"#000000\">samples = 2</text>\n<text text-anchor=\"start\" x=\"784\" y=\"-356.8\" font-family=\"Helvetica,sans-Serif\" font-size=\"14.00\" fill=\"#000000\">value = [0, 2]</text>\n<text text-anchor=\"start\" x=\"793\" y=\"-342.8\" font-family=\"Helvetica,sans-Serif\" font-size=\"14.00\" fill=\"#000000\">class = y</text>\n<text text-anchor=\"start\" x=\"851\" y=\"-342.8\" font-family=\"Helvetica,sans-Serif\" baseline-shift=\"sub\" font-size=\"14.00\" fill=\"#000000\">1</text>\n</g>\n<!-- 40&#45;&gt;41 -->\n<g id=\"edge41\" class=\"edge\">\n<title>40&#45;&gt;41</title>\n<path fill=\"none\" stroke=\"#000000\" d=\"M902.2352,-441.7677C890.4113,-430.247 877.4832,-417.6503 865.6655,-406.1356\"/>\n<polygon fill=\"#000000\" stroke=\"#000000\" points=\"868.0755,-403.5971 858.4706,-399.1252 863.1904,-408.6107 868.0755,-403.5971\"/>\n</g>\n<!-- 42 -->\n<g id=\"node43\" class=\"node\">\n<title>42</title>\n<path fill=\"#e58139\" stroke=\"#000000\" d=\"M980,-399C980,-399 905,-399 905,-399 899,-399 893,-393 893,-387 893,-387 893,-347 893,-347 893,-341 899,-335 905,-335 905,-335 980,-335 980,-335 986,-335 992,-341 992,-347 992,-347 992,-387 992,-387 992,-393 986,-399 980,-399\"/>\n<text text-anchor=\"start\" x=\"913\" y=\"-384.8\" font-family=\"Helvetica,sans-Serif\" font-size=\"14.00\" fill=\"#000000\">gini = 0.0</text>\n<text text-anchor=\"start\" x=\"903\" y=\"-370.8\" font-family=\"Helvetica,sans-Serif\" font-size=\"14.00\" fill=\"#000000\">samples = 1</text>\n<text text-anchor=\"start\" x=\"901\" y=\"-356.8\" font-family=\"Helvetica,sans-Serif\" font-size=\"14.00\" fill=\"#000000\">value = [1, 0]</text>\n<text text-anchor=\"start\" x=\"910\" y=\"-342.8\" font-family=\"Helvetica,sans-Serif\" font-size=\"14.00\" fill=\"#000000\">class = y</text>\n<text text-anchor=\"start\" x=\"968\" y=\"-342.8\" font-family=\"Helvetica,sans-Serif\" baseline-shift=\"sub\" font-size=\"14.00\" fill=\"#000000\">0</text>\n</g>\n<!-- 40&#45;&gt;42 -->\n<g id=\"edge42\" class=\"edge\">\n<title>40&#45;&gt;42</title>\n<path fill=\"none\" stroke=\"#000000\" d=\"M942.5,-441.7677C942.5,-431.3338 942.5,-420.0174 942.5,-409.4215\"/>\n<polygon fill=\"#000000\" stroke=\"#000000\" points=\"946.0001,-409.1252 942.5,-399.1252 939.0001,-409.1252 946.0001,-409.1252\"/>\n</g>\n<!-- 44 -->\n<g id=\"node45\" class=\"node\">\n<title>44</title>\n<path fill=\"#4da7e8\" stroke=\"#000000\" d=\"M1105,-406C1105,-406 1022,-406 1022,-406 1016,-406 1010,-400 1010,-394 1010,-394 1010,-340 1010,-340 1010,-334 1016,-328 1022,-328 1022,-328 1105,-328 1105,-328 1111,-328 1117,-334 1117,-340 1117,-340 1117,-394 1117,-394 1117,-400 1111,-406 1105,-406\"/>\n<text text-anchor=\"start\" x=\"1022.5\" y=\"-391.8\" font-family=\"Helvetica,sans-Serif\" font-size=\"14.00\" fill=\"#000000\">Fare ≤ 7.744</text>\n<text text-anchor=\"start\" x=\"1025.5\" y=\"-377.8\" font-family=\"Helvetica,sans-Serif\" font-size=\"14.00\" fill=\"#000000\">gini = 0.165</text>\n<text text-anchor=\"start\" x=\"1019.5\" y=\"-363.8\" font-family=\"Helvetica,sans-Serif\" font-size=\"14.00\" fill=\"#000000\">samples = 11</text>\n<text text-anchor=\"start\" x=\"1018\" y=\"-349.8\" font-family=\"Helvetica,sans-Serif\" font-size=\"14.00\" fill=\"#000000\">value = [1, 10]</text>\n<text text-anchor=\"start\" x=\"1031\" y=\"-335.8\" font-family=\"Helvetica,sans-Serif\" font-size=\"14.00\" fill=\"#000000\">class = y</text>\n<text text-anchor=\"start\" x=\"1089\" y=\"-335.8\" font-family=\"Helvetica,sans-Serif\" baseline-shift=\"sub\" font-size=\"14.00\" fill=\"#000000\">1</text>\n</g>\n<!-- 43&#45;&gt;44 -->\n<g id=\"edge44\" class=\"edge\">\n<title>43&#45;&gt;44</title>\n<path fill=\"none\" stroke=\"#000000\" d=\"M1063.5,-441.7677C1063.5,-433.6172 1063.5,-424.9283 1063.5,-416.4649\"/>\n<polygon fill=\"#000000\" stroke=\"#000000\" points=\"1067.0001,-416.3046 1063.5,-406.3046 1060.0001,-416.3047 1067.0001,-416.3046\"/>\n</g>\n<!-- 49 -->\n<g id=\"node50\" class=\"node\">\n<title>49</title>\n<path fill=\"#399de5\" stroke=\"#000000\" d=\"M1222,-399C1222,-399 1147,-399 1147,-399 1141,-399 1135,-393 1135,-387 1135,-387 1135,-347 1135,-347 1135,-341 1141,-335 1147,-335 1147,-335 1222,-335 1222,-335 1228,-335 1234,-341 1234,-347 1234,-347 1234,-387 1234,-387 1234,-393 1228,-399 1222,-399\"/>\n<text text-anchor=\"start\" x=\"1155\" y=\"-384.8\" font-family=\"Helvetica,sans-Serif\" font-size=\"14.00\" fill=\"#000000\">gini = 0.0</text>\n<text text-anchor=\"start\" x=\"1145\" y=\"-370.8\" font-family=\"Helvetica,sans-Serif\" font-size=\"14.00\" fill=\"#000000\">samples = 3</text>\n<text text-anchor=\"start\" x=\"1143\" y=\"-356.8\" font-family=\"Helvetica,sans-Serif\" font-size=\"14.00\" fill=\"#000000\">value = [0, 3]</text>\n<text text-anchor=\"start\" x=\"1152\" y=\"-342.8\" font-family=\"Helvetica,sans-Serif\" font-size=\"14.00\" fill=\"#000000\">class = y</text>\n<text text-anchor=\"start\" x=\"1210\" y=\"-342.8\" font-family=\"Helvetica,sans-Serif\" baseline-shift=\"sub\" font-size=\"14.00\" fill=\"#000000\">1</text>\n</g>\n<!-- 43&#45;&gt;49 -->\n<g id=\"edge49\" class=\"edge\">\n<title>43&#45;&gt;49</title>\n<path fill=\"none\" stroke=\"#000000\" d=\"M1105.1413,-441.7677C1117.3695,-430.247 1130.7396,-417.6503 1142.9613,-406.1356\"/>\n<polygon fill=\"#000000\" stroke=\"#000000\" points=\"1145.5238,-408.5301 1150.4022,-399.1252 1140.7236,-403.4352 1145.5238,-408.5301\"/>\n</g>\n<!-- 45 -->\n<g id=\"node46\" class=\"node\">\n<title>45</title>\n<path fill=\"#399de5\" stroke=\"#000000\" d=\"M1042,-285C1042,-285 967,-285 967,-285 961,-285 955,-279 955,-273 955,-273 955,-233 955,-233 955,-227 961,-221 967,-221 967,-221 1042,-221 1042,-221 1048,-221 1054,-227 1054,-233 1054,-233 1054,-273 1054,-273 1054,-279 1048,-285 1042,-285\"/>\n<text text-anchor=\"start\" x=\"975\" y=\"-270.8\" font-family=\"Helvetica,sans-Serif\" font-size=\"14.00\" fill=\"#000000\">gini = 0.0</text>\n<text text-anchor=\"start\" x=\"965\" y=\"-256.8\" font-family=\"Helvetica,sans-Serif\" font-size=\"14.00\" fill=\"#000000\">samples = 2</text>\n<text text-anchor=\"start\" x=\"963\" y=\"-242.8\" font-family=\"Helvetica,sans-Serif\" font-size=\"14.00\" fill=\"#000000\">value = [0, 2]</text>\n<text text-anchor=\"start\" x=\"972\" y=\"-228.8\" font-family=\"Helvetica,sans-Serif\" font-size=\"14.00\" fill=\"#000000\">class = y</text>\n<text text-anchor=\"start\" x=\"1030\" y=\"-228.8\" font-family=\"Helvetica,sans-Serif\" baseline-shift=\"sub\" font-size=\"14.00\" fill=\"#000000\">1</text>\n</g>\n<!-- 44&#45;&gt;45 -->\n<g id=\"edge45\" class=\"edge\">\n<title>44&#45;&gt;45</title>\n<path fill=\"none\" stroke=\"#000000\" d=\"M1043.1955,-327.7677C1037.5706,-316.8991 1031.45,-305.0729 1025.7715,-294.1009\"/>\n<polygon fill=\"#000000\" stroke=\"#000000\" points=\"1028.831,-292.3975 1021.1262,-285.1252 1022.6142,-295.615 1028.831,-292.3975\"/>\n</g>\n<!-- 46 -->\n<g id=\"node47\" class=\"node\">\n<title>46</title>\n<path fill=\"#52a9e8\" stroke=\"#000000\" d=\"M1163,-292C1163,-292 1084,-292 1084,-292 1078,-292 1072,-286 1072,-280 1072,-280 1072,-226 1072,-226 1072,-220 1078,-214 1084,-214 1084,-214 1163,-214 1163,-214 1169,-214 1175,-220 1175,-226 1175,-226 1175,-280 1175,-280 1175,-286 1169,-292 1163,-292\"/>\n<text text-anchor=\"start\" x=\"1080\" y=\"-277.8\" font-family=\"Helvetica,sans-Serif\" font-size=\"14.00\" fill=\"#000000\">Age ≤ 21.875</text>\n<text text-anchor=\"start\" x=\"1085.5\" y=\"-263.8\" font-family=\"Helvetica,sans-Serif\" font-size=\"14.00\" fill=\"#000000\">gini = 0.198</text>\n<text text-anchor=\"start\" x=\"1084\" y=\"-249.8\" font-family=\"Helvetica,sans-Serif\" font-size=\"14.00\" fill=\"#000000\">samples = 9</text>\n<text text-anchor=\"start\" x=\"1082\" y=\"-235.8\" font-family=\"Helvetica,sans-Serif\" font-size=\"14.00\" fill=\"#000000\">value = [1, 8]</text>\n<text text-anchor=\"start\" x=\"1091\" y=\"-221.8\" font-family=\"Helvetica,sans-Serif\" font-size=\"14.00\" fill=\"#000000\">class = y</text>\n<text text-anchor=\"start\" x=\"1149\" y=\"-221.8\" font-family=\"Helvetica,sans-Serif\" baseline-shift=\"sub\" font-size=\"14.00\" fill=\"#000000\">1</text>\n</g>\n<!-- 44&#45;&gt;46 -->\n<g id=\"edge46\" class=\"edge\">\n<title>44&#45;&gt;46</title>\n<path fill=\"none\" stroke=\"#000000\" d=\"M1084.1486,-327.7677C1088.6269,-319.259 1093.414,-310.1634 1098.0525,-301.3502\"/>\n<polygon fill=\"#000000\" stroke=\"#000000\" points=\"1101.253,-302.784 1102.8133,-292.3046 1095.0586,-299.5237 1101.253,-302.784\"/>\n</g>\n<!-- 47 -->\n<g id=\"node48\" class=\"node\">\n<title>47</title>\n<path fill=\"#55abe9\" stroke=\"#000000\" d=\"M1103,-171C1103,-171 1028,-171 1028,-171 1022,-171 1016,-165 1016,-159 1016,-159 1016,-119 1016,-119 1016,-113 1022,-107 1028,-107 1028,-107 1103,-107 1103,-107 1109,-107 1115,-113 1115,-119 1115,-119 1115,-159 1115,-159 1115,-165 1109,-171 1103,-171\"/>\n<text text-anchor=\"start\" x=\"1027.5\" y=\"-156.8\" font-family=\"Helvetica,sans-Serif\" font-size=\"14.00\" fill=\"#000000\">gini = 0.219</text>\n<text text-anchor=\"start\" x=\"1026\" y=\"-142.8\" font-family=\"Helvetica,sans-Serif\" font-size=\"14.00\" fill=\"#000000\">samples = 8</text>\n<text text-anchor=\"start\" x=\"1024\" y=\"-128.8\" font-family=\"Helvetica,sans-Serif\" font-size=\"14.00\" fill=\"#000000\">value = [1, 7]</text>\n<text text-anchor=\"start\" x=\"1033\" y=\"-114.8\" font-family=\"Helvetica,sans-Serif\" font-size=\"14.00\" fill=\"#000000\">class = y</text>\n<text text-anchor=\"start\" x=\"1091\" y=\"-114.8\" font-family=\"Helvetica,sans-Serif\" baseline-shift=\"sub\" font-size=\"14.00\" fill=\"#000000\">1</text>\n</g>\n<!-- 46&#45;&gt;47 -->\n<g id=\"edge47\" class=\"edge\">\n<title>46&#45;&gt;47</title>\n<path fill=\"none\" stroke=\"#000000\" d=\"M1103.5397,-213.7677C1098.0101,-202.8991 1091.9932,-191.0729 1086.411,-180.1009\"/>\n<polygon fill=\"#000000\" stroke=\"#000000\" points=\"1089.4985,-178.4509 1081.8444,-171.1252 1083.2595,-181.6251 1089.4985,-178.4509\"/>\n</g>\n<!-- 48 -->\n<g id=\"node49\" class=\"node\">\n<title>48</title>\n<path fill=\"#399de5\" stroke=\"#000000\" d=\"M1220,-171C1220,-171 1145,-171 1145,-171 1139,-171 1133,-165 1133,-159 1133,-159 1133,-119 1133,-119 1133,-113 1139,-107 1145,-107 1145,-107 1220,-107 1220,-107 1226,-107 1232,-113 1232,-119 1232,-119 1232,-159 1232,-159 1232,-165 1226,-171 1220,-171\"/>\n<text text-anchor=\"start\" x=\"1153\" y=\"-156.8\" font-family=\"Helvetica,sans-Serif\" font-size=\"14.00\" fill=\"#000000\">gini = 0.0</text>\n<text text-anchor=\"start\" x=\"1143\" y=\"-142.8\" font-family=\"Helvetica,sans-Serif\" font-size=\"14.00\" fill=\"#000000\">samples = 1</text>\n<text text-anchor=\"start\" x=\"1141\" y=\"-128.8\" font-family=\"Helvetica,sans-Serif\" font-size=\"14.00\" fill=\"#000000\">value = [0, 1]</text>\n<text text-anchor=\"start\" x=\"1150\" y=\"-114.8\" font-family=\"Helvetica,sans-Serif\" font-size=\"14.00\" fill=\"#000000\">class = y</text>\n<text text-anchor=\"start\" x=\"1208\" y=\"-114.8\" font-family=\"Helvetica,sans-Serif\" baseline-shift=\"sub\" font-size=\"14.00\" fill=\"#000000\">1</text>\n</g>\n<!-- 46&#45;&gt;48 -->\n<g id=\"edge48\" class=\"edge\">\n<title>46&#45;&gt;48</title>\n<path fill=\"none\" stroke=\"#000000\" d=\"M1143.8045,-213.7677C1149.4294,-202.8991 1155.55,-191.0729 1161.2285,-180.1009\"/>\n<polygon fill=\"#000000\" stroke=\"#000000\" points=\"1164.3858,-181.615 1165.8738,-171.1252 1158.169,-178.3975 1164.3858,-181.615\"/>\n</g>\n<!-- 53 -->\n<g id=\"node54\" class=\"node\">\n<title>53</title>\n<path fill=\"#e58139\" stroke=\"#000000\" d=\"M1147,-1083C1147,-1083 1072,-1083 1072,-1083 1066,-1083 1060,-1077 1060,-1071 1060,-1071 1060,-1031 1060,-1031 1060,-1025 1066,-1019 1072,-1019 1072,-1019 1147,-1019 1147,-1019 1153,-1019 1159,-1025 1159,-1031 1159,-1031 1159,-1071 1159,-1071 1159,-1077 1153,-1083 1147,-1083\"/>\n<text text-anchor=\"start\" x=\"1080\" y=\"-1068.8\" font-family=\"Helvetica,sans-Serif\" font-size=\"14.00\" fill=\"#000000\">gini = 0.0</text>\n<text text-anchor=\"start\" x=\"1070\" y=\"-1054.8\" font-family=\"Helvetica,sans-Serif\" font-size=\"14.00\" fill=\"#000000\">samples = 5</text>\n<text text-anchor=\"start\" x=\"1068\" y=\"-1040.8\" font-family=\"Helvetica,sans-Serif\" font-size=\"14.00\" fill=\"#000000\">value = [5, 0]</text>\n<text text-anchor=\"start\" x=\"1077\" y=\"-1026.8\" font-family=\"Helvetica,sans-Serif\" font-size=\"14.00\" fill=\"#000000\">class = y</text>\n<text text-anchor=\"start\" x=\"1135\" y=\"-1026.8\" font-family=\"Helvetica,sans-Serif\" baseline-shift=\"sub\" font-size=\"14.00\" fill=\"#000000\">0</text>\n</g>\n<!-- 52&#45;&gt;53 -->\n<g id=\"edge53\" class=\"edge\">\n<title>52&#45;&gt;53</title>\n<path fill=\"none\" stroke=\"#000000\" d=\"M1167.2154,-1125.7677C1158.5739,-1114.573 1149.1482,-1102.3624 1140.4666,-1091.1158\"/>\n<polygon fill=\"#000000\" stroke=\"#000000\" points=\"1143.1795,-1088.9024 1134.2984,-1083.1252 1137.6384,-1093.1798 1143.1795,-1088.9024\"/>\n</g>\n<!-- 54 -->\n<g id=\"node55\" class=\"node\">\n<title>54</title>\n<path fill=\"#399de5\" stroke=\"#000000\" d=\"M1264,-1083C1264,-1083 1189,-1083 1189,-1083 1183,-1083 1177,-1077 1177,-1071 1177,-1071 1177,-1031 1177,-1031 1177,-1025 1183,-1019 1189,-1019 1189,-1019 1264,-1019 1264,-1019 1270,-1019 1276,-1025 1276,-1031 1276,-1031 1276,-1071 1276,-1071 1276,-1077 1270,-1083 1264,-1083\"/>\n<text text-anchor=\"start\" x=\"1197\" y=\"-1068.8\" font-family=\"Helvetica,sans-Serif\" font-size=\"14.00\" fill=\"#000000\">gini = 0.0</text>\n<text text-anchor=\"start\" x=\"1187\" y=\"-1054.8\" font-family=\"Helvetica,sans-Serif\" font-size=\"14.00\" fill=\"#000000\">samples = 1</text>\n<text text-anchor=\"start\" x=\"1185\" y=\"-1040.8\" font-family=\"Helvetica,sans-Serif\" font-size=\"14.00\" fill=\"#000000\">value = [0, 1]</text>\n<text text-anchor=\"start\" x=\"1194\" y=\"-1026.8\" font-family=\"Helvetica,sans-Serif\" font-size=\"14.00\" fill=\"#000000\">class = y</text>\n<text text-anchor=\"start\" x=\"1252\" y=\"-1026.8\" font-family=\"Helvetica,sans-Serif\" baseline-shift=\"sub\" font-size=\"14.00\" fill=\"#000000\">1</text>\n</g>\n<!-- 52&#45;&gt;54 -->\n<g id=\"edge54\" class=\"edge\">\n<title>52&#45;&gt;54</title>\n<path fill=\"none\" stroke=\"#000000\" d=\"M1207.4802,-1125.7677C1210.162,-1115.2251 1213.0731,-1103.7816 1215.7927,-1093.0907\"/>\n<polygon fill=\"#000000\" stroke=\"#000000\" points=\"1219.2544,-1093.6794 1218.3278,-1083.1252 1212.4704,-1091.9536 1219.2544,-1093.6794\"/>\n</g>\n<!-- 58 -->\n<g id=\"node59\" class=\"node\">\n<title>58</title>\n<path fill=\"#fae8da\" stroke=\"#000000\" d=\"M1873.5,-1432C1873.5,-1432 1781.5,-1432 1781.5,-1432 1775.5,-1432 1769.5,-1426 1769.5,-1420 1769.5,-1420 1769.5,-1366 1769.5,-1366 1769.5,-1360 1775.5,-1354 1781.5,-1354 1781.5,-1354 1873.5,-1354 1873.5,-1354 1879.5,-1354 1885.5,-1360 1885.5,-1366 1885.5,-1366 1885.5,-1420 1885.5,-1420 1885.5,-1426 1879.5,-1432 1873.5,-1432\"/>\n<text text-anchor=\"start\" x=\"1790.5\" y=\"-1417.8\" font-family=\"Helvetica,sans-Serif\" font-size=\"14.00\" fill=\"#000000\">Parch ≤ 0.5</text>\n<text text-anchor=\"start\" x=\"1789.5\" y=\"-1403.8\" font-family=\"Helvetica,sans-Serif\" font-size=\"14.00\" fill=\"#000000\">gini = 0.495</text>\n<text text-anchor=\"start\" x=\"1783.5\" y=\"-1389.8\" font-family=\"Helvetica,sans-Serif\" font-size=\"14.00\" fill=\"#000000\">samples = 49</text>\n<text text-anchor=\"start\" x=\"1777.5\" y=\"-1375.8\" font-family=\"Helvetica,sans-Serif\" font-size=\"14.00\" fill=\"#000000\">value = [27, 22]</text>\n<text text-anchor=\"start\" x=\"1795\" y=\"-1361.8\" font-family=\"Helvetica,sans-Serif\" font-size=\"14.00\" fill=\"#000000\">class = y</text>\n<text text-anchor=\"start\" x=\"1853\" y=\"-1361.8\" font-family=\"Helvetica,sans-Serif\" baseline-shift=\"sub\" font-size=\"14.00\" fill=\"#000000\">0</text>\n</g>\n<!-- 57&#45;&gt;58 -->\n<g id=\"edge58\" class=\"edge\">\n<title>57&#45;&gt;58</title>\n<path fill=\"none\" stroke=\"#000000\" d=\"M1827.5,-1467.7677C1827.5,-1459.6172 1827.5,-1450.9283 1827.5,-1442.4649\"/>\n<polygon fill=\"#000000\" stroke=\"#000000\" points=\"1831.0001,-1442.3046 1827.5,-1432.3046 1824.0001,-1442.3047 1831.0001,-1442.3046\"/>\n</g>\n<!-- 101 -->\n<g id=\"node102\" class=\"node\">\n<title>101</title>\n<path fill=\"#e89050\" stroke=\"#000000\" d=\"M2404,-1432C2404,-1432 2321,-1432 2321,-1432 2315,-1432 2309,-1426 2309,-1420 2309,-1420 2309,-1366 2309,-1366 2309,-1360 2315,-1354 2321,-1354 2321,-1354 2404,-1354 2404,-1354 2410,-1354 2416,-1360 2416,-1366 2416,-1366 2416,-1420 2416,-1420 2416,-1426 2410,-1432 2404,-1432\"/>\n<text text-anchor=\"start\" x=\"2325.5\" y=\"-1417.8\" font-family=\"Helvetica,sans-Serif\" font-size=\"14.00\" fill=\"#000000\">Parch ≤ 4.0</text>\n<text text-anchor=\"start\" x=\"2324.5\" y=\"-1403.8\" font-family=\"Helvetica,sans-Serif\" font-size=\"14.00\" fill=\"#000000\">gini = 0.188</text>\n<text text-anchor=\"start\" x=\"2318.5\" y=\"-1389.8\" font-family=\"Helvetica,sans-Serif\" font-size=\"14.00\" fill=\"#000000\">samples = 19</text>\n<text text-anchor=\"start\" x=\"2317\" y=\"-1375.8\" font-family=\"Helvetica,sans-Serif\" font-size=\"14.00\" fill=\"#000000\">value = [17, 2]</text>\n<text text-anchor=\"start\" x=\"2330\" y=\"-1361.8\" font-family=\"Helvetica,sans-Serif\" font-size=\"14.00\" fill=\"#000000\">class = y</text>\n<text text-anchor=\"start\" x=\"2388\" y=\"-1361.8\" font-family=\"Helvetica,sans-Serif\" baseline-shift=\"sub\" font-size=\"14.00\" fill=\"#000000\">0</text>\n</g>\n<!-- 57&#45;&gt;101 -->\n<g id=\"edge101\" class=\"edge\">\n<title>57&#45;&gt;101</title>\n<path fill=\"none\" stroke=\"#000000\" d=\"M1885.5175,-1494.6374C1986.5396,-1473.1112 2193.9573,-1428.9138 2298.8142,-1406.5704\"/>\n<polygon fill=\"#000000\" stroke=\"#000000\" points=\"2299.5835,-1409.9852 2308.6345,-1404.4779 2298.1246,-1403.1389 2299.5835,-1409.9852\"/>\n</g>\n<!-- 59 -->\n<g id=\"node60\" class=\"node\">\n<title>59</title>\n<path fill=\"#f4c9aa\" stroke=\"#000000\" d=\"M1708.5,-1318C1708.5,-1318 1616.5,-1318 1616.5,-1318 1610.5,-1318 1604.5,-1312 1604.5,-1306 1604.5,-1306 1604.5,-1252 1604.5,-1252 1604.5,-1246 1610.5,-1240 1616.5,-1240 1616.5,-1240 1708.5,-1240 1708.5,-1240 1714.5,-1240 1720.5,-1246 1720.5,-1252 1720.5,-1252 1720.5,-1306 1720.5,-1306 1720.5,-1312 1714.5,-1318 1708.5,-1318\"/>\n<text text-anchor=\"start\" x=\"1621.5\" y=\"-1303.8\" font-family=\"Helvetica,sans-Serif\" font-size=\"14.00\" fill=\"#000000\">Fare ≤ 7.875</text>\n<text text-anchor=\"start\" x=\"1624.5\" y=\"-1289.8\" font-family=\"Helvetica,sans-Serif\" font-size=\"14.00\" fill=\"#000000\">gini = 0.463</text>\n<text text-anchor=\"start\" x=\"1618.5\" y=\"-1275.8\" font-family=\"Helvetica,sans-Serif\" font-size=\"14.00\" fill=\"#000000\">samples = 33</text>\n<text text-anchor=\"start\" x=\"1612.5\" y=\"-1261.8\" font-family=\"Helvetica,sans-Serif\" font-size=\"14.00\" fill=\"#000000\">value = [21, 12]</text>\n<text text-anchor=\"start\" x=\"1630\" y=\"-1247.8\" font-family=\"Helvetica,sans-Serif\" font-size=\"14.00\" fill=\"#000000\">class = y</text>\n<text text-anchor=\"start\" x=\"1688\" y=\"-1247.8\" font-family=\"Helvetica,sans-Serif\" baseline-shift=\"sub\" font-size=\"14.00\" fill=\"#000000\">0</text>\n</g>\n<!-- 58&#45;&gt;59 -->\n<g id=\"edge59\" class=\"edge\">\n<title>58&#45;&gt;59</title>\n<path fill=\"none\" stroke=\"#000000\" d=\"M1770.7164,-1353.7677C1756.7676,-1344.1303 1741.7291,-1333.7401 1727.4291,-1323.8601\"/>\n<polygon fill=\"#000000\" stroke=\"#000000\" points=\"1729.3255,-1320.9163 1719.1087,-1318.1115 1725.3465,-1326.6754 1729.3255,-1320.9163\"/>\n</g>\n<!-- 88 -->\n<g id=\"node89\" class=\"node\">\n<title>88</title>\n<path fill=\"#b0d8f5\" stroke=\"#000000\" d=\"M1925,-1318C1925,-1318 1842,-1318 1842,-1318 1836,-1318 1830,-1312 1830,-1306 1830,-1306 1830,-1252 1830,-1252 1830,-1246 1836,-1240 1842,-1240 1842,-1240 1925,-1240 1925,-1240 1931,-1240 1937,-1246 1937,-1252 1937,-1252 1937,-1306 1937,-1306 1937,-1312 1931,-1318 1925,-1318\"/>\n<text text-anchor=\"start\" x=\"1848.5\" y=\"-1303.8\" font-family=\"Helvetica,sans-Serif\" font-size=\"14.00\" fill=\"#000000\">Age ≤ 27.5</text>\n<text text-anchor=\"start\" x=\"1845.5\" y=\"-1289.8\" font-family=\"Helvetica,sans-Serif\" font-size=\"14.00\" fill=\"#000000\">gini = 0.469</text>\n<text text-anchor=\"start\" x=\"1839.5\" y=\"-1275.8\" font-family=\"Helvetica,sans-Serif\" font-size=\"14.00\" fill=\"#000000\">samples = 16</text>\n<text text-anchor=\"start\" x=\"1838\" y=\"-1261.8\" font-family=\"Helvetica,sans-Serif\" font-size=\"14.00\" fill=\"#000000\">value = [6, 10]</text>\n<text text-anchor=\"start\" x=\"1851\" y=\"-1247.8\" font-family=\"Helvetica,sans-Serif\" font-size=\"14.00\" fill=\"#000000\">class = y</text>\n<text text-anchor=\"start\" x=\"1909\" y=\"-1247.8\" font-family=\"Helvetica,sans-Serif\" baseline-shift=\"sub\" font-size=\"14.00\" fill=\"#000000\">1</text>\n</g>\n<!-- 58&#45;&gt;88 -->\n<g id=\"edge88\" class=\"edge\">\n<title>58&#45;&gt;88</title>\n<path fill=\"none\" stroke=\"#000000\" d=\"M1846.772,-1353.7677C1850.9517,-1345.259 1855.4198,-1336.1634 1859.749,-1327.3502\"/>\n<polygon fill=\"#000000\" stroke=\"#000000\" points=\"1862.9248,-1328.8234 1864.1925,-1318.3046 1856.6419,-1325.737 1862.9248,-1328.8234\"/>\n</g>\n<!-- 60 -->\n<g id=\"node61\" class=\"node\">\n<title>60</title>\n<path fill=\"#c6e3f8\" stroke=\"#000000\" d=\"M1506.5,-1204C1506.5,-1204 1426.5,-1204 1426.5,-1204 1420.5,-1204 1414.5,-1198 1414.5,-1192 1414.5,-1192 1414.5,-1138 1414.5,-1138 1414.5,-1132 1420.5,-1126 1426.5,-1126 1426.5,-1126 1506.5,-1126 1506.5,-1126 1512.5,-1126 1518.5,-1132 1518.5,-1138 1518.5,-1138 1518.5,-1192 1518.5,-1192 1518.5,-1198 1512.5,-1204 1506.5,-1204\"/>\n<text text-anchor=\"start\" x=\"1431.5\" y=\"-1189.8\" font-family=\"Helvetica,sans-Serif\" font-size=\"14.00\" fill=\"#000000\">Age ≤ 28.5</text>\n<text text-anchor=\"start\" x=\"1428.5\" y=\"-1175.8\" font-family=\"Helvetica,sans-Serif\" font-size=\"14.00\" fill=\"#000000\">gini = 0.486</text>\n<text text-anchor=\"start\" x=\"1422.5\" y=\"-1161.8\" font-family=\"Helvetica,sans-Serif\" font-size=\"14.00\" fill=\"#000000\">samples = 12</text>\n<text text-anchor=\"start\" x=\"1425\" y=\"-1147.8\" font-family=\"Helvetica,sans-Serif\" font-size=\"14.00\" fill=\"#000000\">value = [5, 7]</text>\n<text text-anchor=\"start\" x=\"1434\" y=\"-1133.8\" font-family=\"Helvetica,sans-Serif\" font-size=\"14.00\" fill=\"#000000\">class = y</text>\n<text text-anchor=\"start\" x=\"1492\" y=\"-1133.8\" font-family=\"Helvetica,sans-Serif\" baseline-shift=\"sub\" font-size=\"14.00\" fill=\"#000000\">1</text>\n</g>\n<!-- 59&#45;&gt;60 -->\n<g id=\"edge60\" class=\"edge\">\n<title>59&#45;&gt;60</title>\n<path fill=\"none\" stroke=\"#000000\" d=\"M1604.4891,-1245.259C1580.26,-1231.1665 1552.0946,-1214.7846 1527.5514,-1200.5095\"/>\n<polygon fill=\"#000000\" stroke=\"#000000\" points=\"1529.091,-1197.356 1518.687,-1195.3537 1525.5715,-1203.4069 1529.091,-1197.356\"/>\n</g>\n<!-- 71 -->\n<g id=\"node72\" class=\"node\">\n<title>71</title>\n<path fill=\"#eda877\" stroke=\"#000000\" d=\"M1704,-1204C1704,-1204 1621,-1204 1621,-1204 1615,-1204 1609,-1198 1609,-1192 1609,-1192 1609,-1138 1609,-1138 1609,-1132 1615,-1126 1621,-1126 1621,-1126 1704,-1126 1704,-1126 1710,-1126 1716,-1132 1716,-1138 1716,-1138 1716,-1192 1716,-1192 1716,-1198 1710,-1204 1704,-1204\"/>\n<text text-anchor=\"start\" x=\"1627.5\" y=\"-1189.8\" font-family=\"Helvetica,sans-Serif\" font-size=\"14.00\" fill=\"#000000\">Age ≤ 25.5</text>\n<text text-anchor=\"start\" x=\"1624.5\" y=\"-1175.8\" font-family=\"Helvetica,sans-Serif\" font-size=\"14.00\" fill=\"#000000\">gini = 0.363</text>\n<text text-anchor=\"start\" x=\"1618.5\" y=\"-1161.8\" font-family=\"Helvetica,sans-Serif\" font-size=\"14.00\" fill=\"#000000\">samples = 21</text>\n<text text-anchor=\"start\" x=\"1617\" y=\"-1147.8\" font-family=\"Helvetica,sans-Serif\" font-size=\"14.00\" fill=\"#000000\">value = [16, 5]</text>\n<text text-anchor=\"start\" x=\"1630\" y=\"-1133.8\" font-family=\"Helvetica,sans-Serif\" font-size=\"14.00\" fill=\"#000000\">class = y</text>\n<text text-anchor=\"start\" x=\"1688\" y=\"-1133.8\" font-family=\"Helvetica,sans-Serif\" baseline-shift=\"sub\" font-size=\"14.00\" fill=\"#000000\">0</text>\n</g>\n<!-- 59&#45;&gt;71 -->\n<g id=\"edge71\" class=\"edge\">\n<title>59&#45;&gt;71</title>\n<path fill=\"none\" stroke=\"#000000\" d=\"M1662.5,-1239.7677C1662.5,-1231.6172 1662.5,-1222.9283 1662.5,-1214.4649\"/>\n<polygon fill=\"#000000\" stroke=\"#000000\" points=\"1666.0001,-1214.3046 1662.5,-1204.3046 1659.0001,-1214.3047 1666.0001,-1214.3046\"/>\n</g>\n<!-- 61 -->\n<g id=\"node62\" class=\"node\">\n<title>61</title>\n<path fill=\"#8ec7f0\" stroke=\"#000000\" d=\"M1386.5,-1090C1386.5,-1090 1306.5,-1090 1306.5,-1090 1300.5,-1090 1294.5,-1084 1294.5,-1078 1294.5,-1078 1294.5,-1024 1294.5,-1024 1294.5,-1018 1300.5,-1012 1306.5,-1012 1306.5,-1012 1386.5,-1012 1386.5,-1012 1392.5,-1012 1398.5,-1018 1398.5,-1024 1398.5,-1024 1398.5,-1078 1398.5,-1078 1398.5,-1084 1392.5,-1090 1386.5,-1090\"/>\n<text text-anchor=\"start\" x=\"1303\" y=\"-1075.8\" font-family=\"Helvetica,sans-Serif\" font-size=\"14.00\" fill=\"#000000\">Age ≤ 21.875</text>\n<text text-anchor=\"start\" x=\"1313\" y=\"-1061.8\" font-family=\"Helvetica,sans-Serif\" font-size=\"14.00\" fill=\"#000000\">gini = 0.42</text>\n<text text-anchor=\"start\" x=\"1302.5\" y=\"-1047.8\" font-family=\"Helvetica,sans-Serif\" font-size=\"14.00\" fill=\"#000000\">samples = 10</text>\n<text text-anchor=\"start\" x=\"1305\" y=\"-1033.8\" font-family=\"Helvetica,sans-Serif\" font-size=\"14.00\" fill=\"#000000\">value = [3, 7]</text>\n<text text-anchor=\"start\" x=\"1314\" y=\"-1019.8\" font-family=\"Helvetica,sans-Serif\" font-size=\"14.00\" fill=\"#000000\">class = y</text>\n<text text-anchor=\"start\" x=\"1372\" y=\"-1019.8\" font-family=\"Helvetica,sans-Serif\" baseline-shift=\"sub\" font-size=\"14.00\" fill=\"#000000\">1</text>\n</g>\n<!-- 60&#45;&gt;61 -->\n<g id=\"edge61\" class=\"edge\">\n<title>60&#45;&gt;61</title>\n<path fill=\"none\" stroke=\"#000000\" d=\"M1425.2028,-1125.7677C1415.5863,-1116.632 1405.2576,-1106.8198 1395.3494,-1097.407\"/>\n<polygon fill=\"#000000\" stroke=\"#000000\" points=\"1397.534,-1094.6547 1387.8733,-1090.3046 1392.7127,-1099.7297 1397.534,-1094.6547\"/>\n</g>\n<!-- 70 -->\n<g id=\"node71\" class=\"node\">\n<title>70</title>\n<path fill=\"#e58139\" stroke=\"#000000\" d=\"M1504,-1083C1504,-1083 1429,-1083 1429,-1083 1423,-1083 1417,-1077 1417,-1071 1417,-1071 1417,-1031 1417,-1031 1417,-1025 1423,-1019 1429,-1019 1429,-1019 1504,-1019 1504,-1019 1510,-1019 1516,-1025 1516,-1031 1516,-1031 1516,-1071 1516,-1071 1516,-1077 1510,-1083 1504,-1083\"/>\n<text text-anchor=\"start\" x=\"1437\" y=\"-1068.8\" font-family=\"Helvetica,sans-Serif\" font-size=\"14.00\" fill=\"#000000\">gini = 0.0</text>\n<text text-anchor=\"start\" x=\"1427\" y=\"-1054.8\" font-family=\"Helvetica,sans-Serif\" font-size=\"14.00\" fill=\"#000000\">samples = 2</text>\n<text text-anchor=\"start\" x=\"1425\" y=\"-1040.8\" font-family=\"Helvetica,sans-Serif\" font-size=\"14.00\" fill=\"#000000\">value = [2, 0]</text>\n<text text-anchor=\"start\" x=\"1434\" y=\"-1026.8\" font-family=\"Helvetica,sans-Serif\" font-size=\"14.00\" fill=\"#000000\">class = y</text>\n<text text-anchor=\"start\" x=\"1492\" y=\"-1026.8\" font-family=\"Helvetica,sans-Serif\" baseline-shift=\"sub\" font-size=\"14.00\" fill=\"#000000\">0</text>\n</g>\n<!-- 60&#45;&gt;70 -->\n<g id=\"edge70\" class=\"edge\">\n<title>60&#45;&gt;70</title>\n<path fill=\"none\" stroke=\"#000000\" d=\"M1466.5,-1125.7677C1466.5,-1115.3338 1466.5,-1104.0174 1466.5,-1093.4215\"/>\n<polygon fill=\"#000000\" stroke=\"#000000\" points=\"1470.0001,-1093.1252 1466.5,-1083.1252 1463.0001,-1093.1252 1470.0001,-1093.1252\"/>\n</g>\n<!-- 62 -->\n<g id=\"node63\" class=\"node\">\n<title>62</title>\n<path fill=\"#ffffff\" stroke=\"#000000\" d=\"M1268,-976C1268,-976 1193,-976 1193,-976 1187,-976 1181,-970 1181,-964 1181,-964 1181,-910 1181,-910 1181,-904 1187,-898 1193,-898 1193,-898 1268,-898 1268,-898 1274,-898 1280,-904 1280,-910 1280,-910 1280,-964 1280,-964 1280,-970 1274,-976 1268,-976\"/>\n<text text-anchor=\"start\" x=\"1189.5\" y=\"-961.8\" font-family=\"Helvetica,sans-Serif\" font-size=\"14.00\" fill=\"#000000\">Fare ≤ 7.523</text>\n<text text-anchor=\"start\" x=\"1201\" y=\"-947.8\" font-family=\"Helvetica,sans-Serif\" font-size=\"14.00\" fill=\"#000000\">gini = 0.5</text>\n<text text-anchor=\"start\" x=\"1191\" y=\"-933.8\" font-family=\"Helvetica,sans-Serif\" font-size=\"14.00\" fill=\"#000000\">samples = 6</text>\n<text text-anchor=\"start\" x=\"1189\" y=\"-919.8\" font-family=\"Helvetica,sans-Serif\" font-size=\"14.00\" fill=\"#000000\">value = [3, 3]</text>\n<text text-anchor=\"start\" x=\"1198\" y=\"-905.8\" font-family=\"Helvetica,sans-Serif\" font-size=\"14.00\" fill=\"#000000\">class = y</text>\n<text text-anchor=\"start\" x=\"1256\" y=\"-905.8\" font-family=\"Helvetica,sans-Serif\" baseline-shift=\"sub\" font-size=\"14.00\" fill=\"#000000\">0</text>\n</g>\n<!-- 61&#45;&gt;62 -->\n<g id=\"edge62\" class=\"edge\">\n<title>61&#45;&gt;62</title>\n<path fill=\"none\" stroke=\"#000000\" d=\"M1306.5794,-1011.7677C1297.2834,-1002.632 1287.2991,-992.8198 1277.7211,-983.407\"/>\n<polygon fill=\"#000000\" stroke=\"#000000\" points=\"1280.0798,-980.8177 1270.4942,-976.3046 1275.1732,-985.8103 1280.0798,-980.8177\"/>\n</g>\n<!-- 69 -->\n<g id=\"node70\" class=\"node\">\n<title>69</title>\n<path fill=\"#399de5\" stroke=\"#000000\" d=\"M1385,-969C1385,-969 1310,-969 1310,-969 1304,-969 1298,-963 1298,-957 1298,-957 1298,-917 1298,-917 1298,-911 1304,-905 1310,-905 1310,-905 1385,-905 1385,-905 1391,-905 1397,-911 1397,-917 1397,-917 1397,-957 1397,-957 1397,-963 1391,-969 1385,-969\"/>\n<text text-anchor=\"start\" x=\"1318\" y=\"-954.8\" font-family=\"Helvetica,sans-Serif\" font-size=\"14.00\" fill=\"#000000\">gini = 0.0</text>\n<text text-anchor=\"start\" x=\"1308\" y=\"-940.8\" font-family=\"Helvetica,sans-Serif\" font-size=\"14.00\" fill=\"#000000\">samples = 4</text>\n<text text-anchor=\"start\" x=\"1306\" y=\"-926.8\" font-family=\"Helvetica,sans-Serif\" font-size=\"14.00\" fill=\"#000000\">value = [0, 4]</text>\n<text text-anchor=\"start\" x=\"1315\" y=\"-912.8\" font-family=\"Helvetica,sans-Serif\" font-size=\"14.00\" fill=\"#000000\">class = y</text>\n<text text-anchor=\"start\" x=\"1373\" y=\"-912.8\" font-family=\"Helvetica,sans-Serif\" baseline-shift=\"sub\" font-size=\"14.00\" fill=\"#000000\">1</text>\n</g>\n<!-- 61&#45;&gt;69 -->\n<g id=\"edge69\" class=\"edge\">\n<title>61&#45;&gt;69</title>\n<path fill=\"none\" stroke=\"#000000\" d=\"M1346.8441,-1011.7677C1346.9357,-1001.3338 1347.0349,-990.0174 1347.1279,-979.4215\"/>\n<polygon fill=\"#000000\" stroke=\"#000000\" points=\"1350.6303,-979.1555 1347.2182,-969.1252 1343.6305,-979.0941 1350.6303,-979.1555\"/>\n</g>\n<!-- 63 -->\n<g id=\"node64\" class=\"node\">\n<title>63</title>\n<path fill=\"#399de5\" stroke=\"#000000\" d=\"M1158,-855C1158,-855 1083,-855 1083,-855 1077,-855 1071,-849 1071,-843 1071,-843 1071,-803 1071,-803 1071,-797 1077,-791 1083,-791 1083,-791 1158,-791 1158,-791 1164,-791 1170,-797 1170,-803 1170,-803 1170,-843 1170,-843 1170,-849 1164,-855 1158,-855\"/>\n<text text-anchor=\"start\" x=\"1091\" y=\"-840.8\" font-family=\"Helvetica,sans-Serif\" font-size=\"14.00\" fill=\"#000000\">gini = 0.0</text>\n<text text-anchor=\"start\" x=\"1081\" y=\"-826.8\" font-family=\"Helvetica,sans-Serif\" font-size=\"14.00\" fill=\"#000000\">samples = 1</text>\n<text text-anchor=\"start\" x=\"1079\" y=\"-812.8\" font-family=\"Helvetica,sans-Serif\" font-size=\"14.00\" fill=\"#000000\">value = [0, 1]</text>\n<text text-anchor=\"start\" x=\"1088\" y=\"-798.8\" font-family=\"Helvetica,sans-Serif\" font-size=\"14.00\" fill=\"#000000\">class = y</text>\n<text text-anchor=\"start\" x=\"1146\" y=\"-798.8\" font-family=\"Helvetica,sans-Serif\" baseline-shift=\"sub\" font-size=\"14.00\" fill=\"#000000\">1</text>\n</g>\n<!-- 62&#45;&gt;63 -->\n<g id=\"edge63\" class=\"edge\">\n<title>62&#45;&gt;63</title>\n<path fill=\"none\" stroke=\"#000000\" d=\"M1192.6442,-897.7677C1181.6326,-886.3556 1169.6023,-873.8878 1158.5771,-862.4618\"/>\n<polygon fill=\"#000000\" stroke=\"#000000\" points=\"1160.9604,-859.8911 1151.498,-855.1252 1155.923,-864.7517 1160.9604,-859.8911\"/>\n</g>\n<!-- 64 -->\n<g id=\"node65\" class=\"node\">\n<title>64</title>\n<path fill=\"#f6d5bd\" stroke=\"#000000\" d=\"M1275,-862C1275,-862 1200,-862 1200,-862 1194,-862 1188,-856 1188,-850 1188,-850 1188,-796 1188,-796 1188,-790 1194,-784 1200,-784 1200,-784 1275,-784 1275,-784 1281,-784 1287,-790 1287,-796 1287,-796 1287,-850 1287,-850 1287,-856 1281,-862 1275,-862\"/>\n<text text-anchor=\"start\" x=\"1202.5\" y=\"-847.8\" font-family=\"Helvetica,sans-Serif\" font-size=\"14.00\" fill=\"#000000\">Age ≤ 18.5</text>\n<text text-anchor=\"start\" x=\"1204\" y=\"-833.8\" font-family=\"Helvetica,sans-Serif\" font-size=\"14.00\" fill=\"#000000\">gini = 0.48</text>\n<text text-anchor=\"start\" x=\"1198\" y=\"-819.8\" font-family=\"Helvetica,sans-Serif\" font-size=\"14.00\" fill=\"#000000\">samples = 5</text>\n<text text-anchor=\"start\" x=\"1196\" y=\"-805.8\" font-family=\"Helvetica,sans-Serif\" font-size=\"14.00\" fill=\"#000000\">value = [3, 2]</text>\n<text text-anchor=\"start\" x=\"1205\" y=\"-791.8\" font-family=\"Helvetica,sans-Serif\" font-size=\"14.00\" fill=\"#000000\">class = y</text>\n<text text-anchor=\"start\" x=\"1263\" y=\"-791.8\" font-family=\"Helvetica,sans-Serif\" baseline-shift=\"sub\" font-size=\"14.00\" fill=\"#000000\">0</text>\n</g>\n<!-- 62&#45;&gt;64 -->\n<g id=\"edge64\" class=\"edge\">\n<title>62&#45;&gt;64</title>\n<path fill=\"none\" stroke=\"#000000\" d=\"M1232.909,-897.7677C1233.4095,-889.6172 1233.943,-880.9283 1234.4627,-872.4649\"/>\n<polygon fill=\"#000000\" stroke=\"#000000\" points=\"1237.967,-872.5004 1235.0866,-862.3046 1230.9802,-872.0713 1237.967,-872.5004\"/>\n</g>\n<!-- 65 -->\n<g id=\"node66\" class=\"node\">\n<title>65</title>\n<path fill=\"#e58139\" stroke=\"#000000\" d=\"M1157,-741C1157,-741 1082,-741 1082,-741 1076,-741 1070,-735 1070,-729 1070,-729 1070,-689 1070,-689 1070,-683 1076,-677 1082,-677 1082,-677 1157,-677 1157,-677 1163,-677 1169,-683 1169,-689 1169,-689 1169,-729 1169,-729 1169,-735 1163,-741 1157,-741\"/>\n<text text-anchor=\"start\" x=\"1090\" y=\"-726.8\" font-family=\"Helvetica,sans-Serif\" font-size=\"14.00\" fill=\"#000000\">gini = 0.0</text>\n<text text-anchor=\"start\" x=\"1080\" y=\"-712.8\" font-family=\"Helvetica,sans-Serif\" font-size=\"14.00\" fill=\"#000000\">samples = 2</text>\n<text text-anchor=\"start\" x=\"1078\" y=\"-698.8\" font-family=\"Helvetica,sans-Serif\" font-size=\"14.00\" fill=\"#000000\">value = [2, 0]</text>\n<text text-anchor=\"start\" x=\"1087\" y=\"-684.8\" font-family=\"Helvetica,sans-Serif\" font-size=\"14.00\" fill=\"#000000\">class = y</text>\n<text text-anchor=\"start\" x=\"1145\" y=\"-684.8\" font-family=\"Helvetica,sans-Serif\" baseline-shift=\"sub\" font-size=\"14.00\" fill=\"#000000\">0</text>\n</g>\n<!-- 64&#45;&gt;65 -->\n<g id=\"edge65\" class=\"edge\">\n<title>64&#45;&gt;65</title>\n<path fill=\"none\" stroke=\"#000000\" d=\"M1196.8911,-783.7677C1184.9661,-772.247 1171.9275,-759.6503 1160.0088,-748.1356\"/>\n<polygon fill=\"#000000\" stroke=\"#000000\" points=\"1162.3762,-745.5562 1152.7524,-741.1252 1157.5125,-750.5905 1162.3762,-745.5562\"/>\n</g>\n<!-- 66 -->\n<g id=\"node67\" class=\"node\">\n<title>66</title>\n<path fill=\"#9ccef2\" stroke=\"#000000\" d=\"M1278,-748C1278,-748 1199,-748 1199,-748 1193,-748 1187,-742 1187,-736 1187,-736 1187,-682 1187,-682 1187,-676 1193,-670 1199,-670 1199,-670 1278,-670 1278,-670 1284,-670 1290,-676 1290,-682 1290,-682 1290,-736 1290,-736 1290,-742 1284,-748 1278,-748\"/>\n<text text-anchor=\"start\" x=\"1195\" y=\"-733.8\" font-family=\"Helvetica,sans-Serif\" font-size=\"14.00\" fill=\"#000000\">Age ≤ 21.375</text>\n<text text-anchor=\"start\" x=\"1200.5\" y=\"-719.8\" font-family=\"Helvetica,sans-Serif\" font-size=\"14.00\" fill=\"#000000\">gini = 0.444</text>\n<text text-anchor=\"start\" x=\"1199\" y=\"-705.8\" font-family=\"Helvetica,sans-Serif\" font-size=\"14.00\" fill=\"#000000\">samples = 3</text>\n<text text-anchor=\"start\" x=\"1197\" y=\"-691.8\" font-family=\"Helvetica,sans-Serif\" font-size=\"14.00\" fill=\"#000000\">value = [1, 2]</text>\n<text text-anchor=\"start\" x=\"1206\" y=\"-677.8\" font-family=\"Helvetica,sans-Serif\" font-size=\"14.00\" fill=\"#000000\">class = y</text>\n<text text-anchor=\"start\" x=\"1264\" y=\"-677.8\" font-family=\"Helvetica,sans-Serif\" baseline-shift=\"sub\" font-size=\"14.00\" fill=\"#000000\">1</text>\n</g>\n<!-- 64&#45;&gt;66 -->\n<g id=\"edge66\" class=\"edge\">\n<title>64&#45;&gt;66</title>\n<path fill=\"none\" stroke=\"#000000\" d=\"M1237.8441,-783.7677C1237.9156,-775.6172 1237.9919,-766.9283 1238.0661,-758.4649\"/>\n<polygon fill=\"#000000\" stroke=\"#000000\" points=\"1241.5673,-758.335 1238.1552,-748.3046 1234.5675,-758.2735 1241.5673,-758.335\"/>\n</g>\n<!-- 67 -->\n<g id=\"node68\" class=\"node\">\n<title>67</title>\n<path fill=\"#399de5\" stroke=\"#000000\" d=\"M1160,-627C1160,-627 1085,-627 1085,-627 1079,-627 1073,-621 1073,-615 1073,-615 1073,-575 1073,-575 1073,-569 1079,-563 1085,-563 1085,-563 1160,-563 1160,-563 1166,-563 1172,-569 1172,-575 1172,-575 1172,-615 1172,-615 1172,-621 1166,-627 1160,-627\"/>\n<text text-anchor=\"start\" x=\"1093\" y=\"-612.8\" font-family=\"Helvetica,sans-Serif\" font-size=\"14.00\" fill=\"#000000\">gini = 0.0</text>\n<text text-anchor=\"start\" x=\"1083\" y=\"-598.8\" font-family=\"Helvetica,sans-Serif\" font-size=\"14.00\" fill=\"#000000\">samples = 2</text>\n<text text-anchor=\"start\" x=\"1081\" y=\"-584.8\" font-family=\"Helvetica,sans-Serif\" font-size=\"14.00\" fill=\"#000000\">value = [0, 2]</text>\n<text text-anchor=\"start\" x=\"1090\" y=\"-570.8\" font-family=\"Helvetica,sans-Serif\" font-size=\"14.00\" fill=\"#000000\">class = y</text>\n<text text-anchor=\"start\" x=\"1148\" y=\"-570.8\" font-family=\"Helvetica,sans-Serif\" baseline-shift=\"sub\" font-size=\"14.00\" fill=\"#000000\">1</text>\n</g>\n<!-- 66&#45;&gt;67 -->\n<g id=\"edge67\" class=\"edge\">\n<title>66&#45;&gt;67</title>\n<path fill=\"none\" stroke=\"#000000\" d=\"M1198.5794,-669.7677C1186.8565,-658.247 1174.0389,-645.6503 1162.3222,-634.1356\"/>\n<polygon fill=\"#000000\" stroke=\"#000000\" points=\"1164.7744,-631.6382 1155.1888,-627.1252 1159.8678,-636.6309 1164.7744,-631.6382\"/>\n</g>\n<!-- 68 -->\n<g id=\"node69\" class=\"node\">\n<title>68</title>\n<path fill=\"#e58139\" stroke=\"#000000\" d=\"M1277,-627C1277,-627 1202,-627 1202,-627 1196,-627 1190,-621 1190,-615 1190,-615 1190,-575 1190,-575 1190,-569 1196,-563 1202,-563 1202,-563 1277,-563 1277,-563 1283,-563 1289,-569 1289,-575 1289,-575 1289,-615 1289,-615 1289,-621 1283,-627 1277,-627\"/>\n<text text-anchor=\"start\" x=\"1210\" y=\"-612.8\" font-family=\"Helvetica,sans-Serif\" font-size=\"14.00\" fill=\"#000000\">gini = 0.0</text>\n<text text-anchor=\"start\" x=\"1200\" y=\"-598.8\" font-family=\"Helvetica,sans-Serif\" font-size=\"14.00\" fill=\"#000000\">samples = 1</text>\n<text text-anchor=\"start\" x=\"1198\" y=\"-584.8\" font-family=\"Helvetica,sans-Serif\" font-size=\"14.00\" fill=\"#000000\">value = [1, 0]</text>\n<text text-anchor=\"start\" x=\"1207\" y=\"-570.8\" font-family=\"Helvetica,sans-Serif\" font-size=\"14.00\" fill=\"#000000\">class = y</text>\n<text text-anchor=\"start\" x=\"1265\" y=\"-570.8\" font-family=\"Helvetica,sans-Serif\" baseline-shift=\"sub\" font-size=\"14.00\" fill=\"#000000\">0</text>\n</g>\n<!-- 66&#45;&gt;68 -->\n<g id=\"edge68\" class=\"edge\">\n<title>66&#45;&gt;68</title>\n<path fill=\"none\" stroke=\"#000000\" d=\"M1238.8441,-669.7677C1238.9357,-659.3338 1239.0349,-648.0174 1239.1279,-637.4215\"/>\n<polygon fill=\"#000000\" stroke=\"#000000\" points=\"1242.6303,-637.1555 1239.2182,-627.1252 1235.6305,-637.0941 1242.6303,-637.1555\"/>\n</g>\n<!-- 72 -->\n<g id=\"node73\" class=\"node\">\n<title>72</title>\n<path fill=\"#e58139\" stroke=\"#000000\" d=\"M1629,-1083C1629,-1083 1546,-1083 1546,-1083 1540,-1083 1534,-1077 1534,-1071 1534,-1071 1534,-1031 1534,-1031 1534,-1025 1540,-1019 1546,-1019 1546,-1019 1629,-1019 1629,-1019 1635,-1019 1641,-1025 1641,-1031 1641,-1031 1641,-1071 1641,-1071 1641,-1077 1635,-1083 1629,-1083\"/>\n<text text-anchor=\"start\" x=\"1558\" y=\"-1068.8\" font-family=\"Helvetica,sans-Serif\" font-size=\"14.00\" fill=\"#000000\">gini = 0.0</text>\n<text text-anchor=\"start\" x=\"1543.5\" y=\"-1054.8\" font-family=\"Helvetica,sans-Serif\" font-size=\"14.00\" fill=\"#000000\">samples = 11</text>\n<text text-anchor=\"start\" x=\"1542\" y=\"-1040.8\" font-family=\"Helvetica,sans-Serif\" font-size=\"14.00\" fill=\"#000000\">value = [11, 0]</text>\n<text text-anchor=\"start\" x=\"1555\" y=\"-1026.8\" font-family=\"Helvetica,sans-Serif\" font-size=\"14.00\" fill=\"#000000\">class = y</text>\n<text text-anchor=\"start\" x=\"1613\" y=\"-1026.8\" font-family=\"Helvetica,sans-Serif\" baseline-shift=\"sub\" font-size=\"14.00\" fill=\"#000000\">0</text>\n</g>\n<!-- 71&#45;&gt;72 -->\n<g id=\"edge72\" class=\"edge\">\n<title>71&#45;&gt;72</title>\n<path fill=\"none\" stroke=\"#000000\" d=\"M1636.6893,-1125.7677C1629.4674,-1114.7904 1621.6028,-1102.8362 1614.3237,-1091.772\"/>\n<polygon fill=\"#000000\" stroke=\"#000000\" points=\"1617.0552,-1089.5557 1608.635,-1083.1252 1611.2072,-1093.4031 1617.0552,-1089.5557\"/>\n</g>\n<!-- 73 -->\n<g id=\"node74\" class=\"node\">\n<title>73</title>\n<path fill=\"#ffffff\" stroke=\"#000000\" d=\"M1754,-1090C1754,-1090 1671,-1090 1671,-1090 1665,-1090 1659,-1084 1659,-1078 1659,-1078 1659,-1024 1659,-1024 1659,-1018 1665,-1012 1671,-1012 1671,-1012 1754,-1012 1754,-1012 1760,-1012 1766,-1018 1766,-1024 1766,-1024 1766,-1078 1766,-1078 1766,-1084 1760,-1090 1754,-1090\"/>\n<text text-anchor=\"start\" x=\"1667\" y=\"-1075.8\" font-family=\"Helvetica,sans-Serif\" font-size=\"14.00\" fill=\"#000000\">Fare ≤ 15.975</text>\n<text text-anchor=\"start\" x=\"1683\" y=\"-1061.8\" font-family=\"Helvetica,sans-Serif\" font-size=\"14.00\" fill=\"#000000\">gini = 0.5</text>\n<text text-anchor=\"start\" x=\"1668.5\" y=\"-1047.8\" font-family=\"Helvetica,sans-Serif\" font-size=\"14.00\" fill=\"#000000\">samples = 10</text>\n<text text-anchor=\"start\" x=\"1671\" y=\"-1033.8\" font-family=\"Helvetica,sans-Serif\" font-size=\"14.00\" fill=\"#000000\">value = [5, 5]</text>\n<text text-anchor=\"start\" x=\"1680\" y=\"-1019.8\" font-family=\"Helvetica,sans-Serif\" font-size=\"14.00\" fill=\"#000000\">class = y</text>\n<text text-anchor=\"start\" x=\"1738\" y=\"-1019.8\" font-family=\"Helvetica,sans-Serif\" baseline-shift=\"sub\" font-size=\"14.00\" fill=\"#000000\">0</text>\n</g>\n<!-- 71&#45;&gt;73 -->\n<g id=\"edge73\" class=\"edge\">\n<title>71&#45;&gt;73</title>\n<path fill=\"none\" stroke=\"#000000\" d=\"M1679.7072,-1125.7677C1683.3998,-1117.3485 1687.3444,-1108.3548 1691.1717,-1099.6286\"/>\n<polygon fill=\"#000000\" stroke=\"#000000\" points=\"1694.4497,-1100.8684 1695.2611,-1090.3046 1688.0392,-1098.0567 1694.4497,-1100.8684\"/>\n</g>\n<!-- 74 -->\n<g id=\"node75\" class=\"node\">\n<title>74</title>\n<path fill=\"#b0d8f5\" stroke=\"#000000\" d=\"M1633,-976C1633,-976 1558,-976 1558,-976 1552,-976 1546,-970 1546,-964 1546,-964 1546,-910 1546,-910 1546,-904 1552,-898 1558,-898 1558,-898 1633,-898 1633,-898 1639,-898 1645,-904 1645,-910 1645,-910 1645,-964 1645,-964 1645,-970 1639,-976 1633,-976\"/>\n<text text-anchor=\"start\" x=\"1558.5\" y=\"-961.8\" font-family=\"Helvetica,sans-Serif\" font-size=\"14.00\" fill=\"#000000\">Fare ≤ 7.91</text>\n<text text-anchor=\"start\" x=\"1557.5\" y=\"-947.8\" font-family=\"Helvetica,sans-Serif\" font-size=\"14.00\" fill=\"#000000\">gini = 0.469</text>\n<text text-anchor=\"start\" x=\"1556\" y=\"-933.8\" font-family=\"Helvetica,sans-Serif\" font-size=\"14.00\" fill=\"#000000\">samples = 8</text>\n<text text-anchor=\"start\" x=\"1554\" y=\"-919.8\" font-family=\"Helvetica,sans-Serif\" font-size=\"14.00\" fill=\"#000000\">value = [3, 5]</text>\n<text text-anchor=\"start\" x=\"1563\" y=\"-905.8\" font-family=\"Helvetica,sans-Serif\" font-size=\"14.00\" fill=\"#000000\">class = y</text>\n<text text-anchor=\"start\" x=\"1621\" y=\"-905.8\" font-family=\"Helvetica,sans-Serif\" baseline-shift=\"sub\" font-size=\"14.00\" fill=\"#000000\">1</text>\n</g>\n<!-- 73&#45;&gt;74 -->\n<g id=\"edge74\" class=\"edge\">\n<title>73&#45;&gt;74</title>\n<path fill=\"none\" stroke=\"#000000\" d=\"M1672.2352,-1011.7677C1662.8592,-1002.632 1652.7887,-992.8198 1643.1282,-983.407\"/>\n<polygon fill=\"#000000\" stroke=\"#000000\" points=\"1645.4438,-980.7765 1635.839,-976.3046 1640.5588,-985.7901 1645.4438,-980.7765\"/>\n</g>\n<!-- 87 -->\n<g id=\"node88\" class=\"node\">\n<title>87</title>\n<path fill=\"#e58139\" stroke=\"#000000\" d=\"M1750,-969C1750,-969 1675,-969 1675,-969 1669,-969 1663,-963 1663,-957 1663,-957 1663,-917 1663,-917 1663,-911 1669,-905 1675,-905 1675,-905 1750,-905 1750,-905 1756,-905 1762,-911 1762,-917 1762,-917 1762,-957 1762,-957 1762,-963 1756,-969 1750,-969\"/>\n<text text-anchor=\"start\" x=\"1683\" y=\"-954.8\" font-family=\"Helvetica,sans-Serif\" font-size=\"14.00\" fill=\"#000000\">gini = 0.0</text>\n<text text-anchor=\"start\" x=\"1673\" y=\"-940.8\" font-family=\"Helvetica,sans-Serif\" font-size=\"14.00\" fill=\"#000000\">samples = 2</text>\n<text text-anchor=\"start\" x=\"1671\" y=\"-926.8\" font-family=\"Helvetica,sans-Serif\" font-size=\"14.00\" fill=\"#000000\">value = [2, 0]</text>\n<text text-anchor=\"start\" x=\"1680\" y=\"-912.8\" font-family=\"Helvetica,sans-Serif\" font-size=\"14.00\" fill=\"#000000\">class = y</text>\n<text text-anchor=\"start\" x=\"1738\" y=\"-912.8\" font-family=\"Helvetica,sans-Serif\" baseline-shift=\"sub\" font-size=\"14.00\" fill=\"#000000\">0</text>\n</g>\n<!-- 73&#45;&gt;87 -->\n<g id=\"edge87\" class=\"edge\">\n<title>73&#45;&gt;87</title>\n<path fill=\"none\" stroke=\"#000000\" d=\"M1712.5,-1011.7677C1712.5,-1001.3338 1712.5,-990.0174 1712.5,-979.4215\"/>\n<polygon fill=\"#000000\" stroke=\"#000000\" points=\"1716.0001,-979.1252 1712.5,-969.1252 1709.0001,-979.1252 1716.0001,-979.1252\"/>\n</g>\n<!-- 75 -->\n<g id=\"node76\" class=\"node\">\n<title>75</title>\n<path fill=\"#e58139\" stroke=\"#000000\" d=\"M1512,-855C1512,-855 1437,-855 1437,-855 1431,-855 1425,-849 1425,-843 1425,-843 1425,-803 1425,-803 1425,-797 1431,-791 1437,-791 1437,-791 1512,-791 1512,-791 1518,-791 1524,-797 1524,-803 1524,-803 1524,-843 1524,-843 1524,-849 1518,-855 1512,-855\"/>\n<text text-anchor=\"start\" x=\"1445\" y=\"-840.8\" font-family=\"Helvetica,sans-Serif\" font-size=\"14.00\" fill=\"#000000\">gini = 0.0</text>\n<text text-anchor=\"start\" x=\"1435\" y=\"-826.8\" font-family=\"Helvetica,sans-Serif\" font-size=\"14.00\" fill=\"#000000\">samples = 1</text>\n<text text-anchor=\"start\" x=\"1433\" y=\"-812.8\" font-family=\"Helvetica,sans-Serif\" font-size=\"14.00\" fill=\"#000000\">value = [1, 0]</text>\n<text text-anchor=\"start\" x=\"1442\" y=\"-798.8\" font-family=\"Helvetica,sans-Serif\" font-size=\"14.00\" fill=\"#000000\">class = y</text>\n<text text-anchor=\"start\" x=\"1500\" y=\"-798.8\" font-family=\"Helvetica,sans-Serif\" baseline-shift=\"sub\" font-size=\"14.00\" fill=\"#000000\">0</text>\n</g>\n<!-- 74&#45;&gt;75 -->\n<g id=\"edge75\" class=\"edge\">\n<title>74&#45;&gt;75</title>\n<path fill=\"none\" stroke=\"#000000\" d=\"M1553.8587,-897.7677C1541.6305,-886.247 1528.2604,-873.6503 1516.0387,-862.1356\"/>\n<polygon fill=\"#000000\" stroke=\"#000000\" points=\"1518.2764,-859.4352 1508.5978,-855.1252 1513.4762,-864.5301 1518.2764,-859.4352\"/>\n</g>\n<!-- 76 -->\n<g id=\"node77\" class=\"node\">\n<title>76</title>\n<path fill=\"#88c4ef\" stroke=\"#000000\" d=\"M1637,-862C1637,-862 1554,-862 1554,-862 1548,-862 1542,-856 1542,-850 1542,-850 1542,-796 1542,-796 1542,-790 1548,-784 1554,-784 1554,-784 1637,-784 1637,-784 1643,-784 1649,-790 1649,-796 1649,-796 1649,-850 1649,-850 1649,-856 1643,-862 1637,-862\"/>\n<text text-anchor=\"start\" x=\"1550\" y=\"-847.8\" font-family=\"Helvetica,sans-Serif\" font-size=\"14.00\" fill=\"#000000\">Fare ≤ 11.031</text>\n<text text-anchor=\"start\" x=\"1557.5\" y=\"-833.8\" font-family=\"Helvetica,sans-Serif\" font-size=\"14.00\" fill=\"#000000\">gini = 0.408</text>\n<text text-anchor=\"start\" x=\"1556\" y=\"-819.8\" font-family=\"Helvetica,sans-Serif\" font-size=\"14.00\" fill=\"#000000\">samples = 7</text>\n<text text-anchor=\"start\" x=\"1554\" y=\"-805.8\" font-family=\"Helvetica,sans-Serif\" font-size=\"14.00\" fill=\"#000000\">value = [2, 5]</text>\n<text text-anchor=\"start\" x=\"1563\" y=\"-791.8\" font-family=\"Helvetica,sans-Serif\" font-size=\"14.00\" fill=\"#000000\">class = y</text>\n<text text-anchor=\"start\" x=\"1621\" y=\"-791.8\" font-family=\"Helvetica,sans-Serif\" baseline-shift=\"sub\" font-size=\"14.00\" fill=\"#000000\">1</text>\n</g>\n<!-- 74&#45;&gt;76 -->\n<g id=\"edge76\" class=\"edge\">\n<title>74&#45;&gt;76</title>\n<path fill=\"none\" stroke=\"#000000\" d=\"M1595.5,-897.7677C1595.5,-889.6172 1595.5,-880.9283 1595.5,-872.4649\"/>\n<polygon fill=\"#000000\" stroke=\"#000000\" points=\"1599.0001,-872.3046 1595.5,-862.3046 1592.0001,-872.3047 1599.0001,-872.3046\"/>\n</g>\n<!-- 77 -->\n<g id=\"node78\" class=\"node\">\n<title>77</title>\n<path fill=\"#bddef6\" stroke=\"#000000\" d=\"M1515,-748C1515,-748 1440,-748 1440,-748 1434,-748 1428,-742 1428,-736 1428,-736 1428,-682 1428,-682 1428,-676 1434,-670 1440,-670 1440,-670 1515,-670 1515,-670 1521,-670 1527,-676 1527,-682 1527,-682 1527,-736 1527,-736 1527,-742 1521,-748 1515,-748\"/>\n<text text-anchor=\"start\" x=\"1442.5\" y=\"-733.8\" font-family=\"Helvetica,sans-Serif\" font-size=\"14.00\" fill=\"#000000\">Age ≤ 28.0</text>\n<text text-anchor=\"start\" x=\"1444\" y=\"-719.8\" font-family=\"Helvetica,sans-Serif\" font-size=\"14.00\" fill=\"#000000\">gini = 0.48</text>\n<text text-anchor=\"start\" x=\"1438\" y=\"-705.8\" font-family=\"Helvetica,sans-Serif\" font-size=\"14.00\" fill=\"#000000\">samples = 5</text>\n<text text-anchor=\"start\" x=\"1436\" y=\"-691.8\" font-family=\"Helvetica,sans-Serif\" font-size=\"14.00\" fill=\"#000000\">value = [2, 3]</text>\n<text text-anchor=\"start\" x=\"1445\" y=\"-677.8\" font-family=\"Helvetica,sans-Serif\" font-size=\"14.00\" fill=\"#000000\">class = y</text>\n<text text-anchor=\"start\" x=\"1503\" y=\"-677.8\" font-family=\"Helvetica,sans-Serif\" baseline-shift=\"sub\" font-size=\"14.00\" fill=\"#000000\">1</text>\n</g>\n<!-- 76&#45;&gt;77 -->\n<g id=\"edge77\" class=\"edge\">\n<title>76&#45;&gt;77</title>\n<path fill=\"none\" stroke=\"#000000\" d=\"M1554.8911,-783.7677C1545.4349,-774.632 1535.2783,-764.8198 1525.5353,-755.407\"/>\n<polygon fill=\"#000000\" stroke=\"#000000\" points=\"1527.8076,-752.7356 1518.1838,-748.3046 1522.9438,-757.77 1527.8076,-752.7356\"/>\n</g>\n<!-- 86 -->\n<g id=\"node87\" class=\"node\">\n<title>86</title>\n<path fill=\"#399de5\" stroke=\"#000000\" d=\"M1633,-741C1633,-741 1558,-741 1558,-741 1552,-741 1546,-735 1546,-729 1546,-729 1546,-689 1546,-689 1546,-683 1552,-677 1558,-677 1558,-677 1633,-677 1633,-677 1639,-677 1645,-683 1645,-689 1645,-689 1645,-729 1645,-729 1645,-735 1639,-741 1633,-741\"/>\n<text text-anchor=\"start\" x=\"1566\" y=\"-726.8\" font-family=\"Helvetica,sans-Serif\" font-size=\"14.00\" fill=\"#000000\">gini = 0.0</text>\n<text text-anchor=\"start\" x=\"1556\" y=\"-712.8\" font-family=\"Helvetica,sans-Serif\" font-size=\"14.00\" fill=\"#000000\">samples = 2</text>\n<text text-anchor=\"start\" x=\"1554\" y=\"-698.8\" font-family=\"Helvetica,sans-Serif\" font-size=\"14.00\" fill=\"#000000\">value = [0, 2]</text>\n<text text-anchor=\"start\" x=\"1563\" y=\"-684.8\" font-family=\"Helvetica,sans-Serif\" font-size=\"14.00\" fill=\"#000000\">class = y</text>\n<text text-anchor=\"start\" x=\"1621\" y=\"-684.8\" font-family=\"Helvetica,sans-Serif\" baseline-shift=\"sub\" font-size=\"14.00\" fill=\"#000000\">1</text>\n</g>\n<!-- 76&#45;&gt;86 -->\n<g id=\"edge86\" class=\"edge\">\n<title>76&#45;&gt;86</title>\n<path fill=\"none\" stroke=\"#000000\" d=\"M1595.5,-783.7677C1595.5,-773.3338 1595.5,-762.0174 1595.5,-751.4215\"/>\n<polygon fill=\"#000000\" stroke=\"#000000\" points=\"1599.0001,-751.1252 1595.5,-741.1252 1592.0001,-751.1252 1599.0001,-751.1252\"/>\n</g>\n<!-- 78 -->\n<g id=\"node79\" class=\"node\">\n<title>78</title>\n<path fill=\"#399de5\" stroke=\"#000000\" d=\"M1398,-627C1398,-627 1323,-627 1323,-627 1317,-627 1311,-621 1311,-615 1311,-615 1311,-575 1311,-575 1311,-569 1317,-563 1323,-563 1323,-563 1398,-563 1398,-563 1404,-563 1410,-569 1410,-575 1410,-575 1410,-615 1410,-615 1410,-621 1404,-627 1398,-627\"/>\n<text text-anchor=\"start\" x=\"1331\" y=\"-612.8\" font-family=\"Helvetica,sans-Serif\" font-size=\"14.00\" fill=\"#000000\">gini = 0.0</text>\n<text text-anchor=\"start\" x=\"1321\" y=\"-598.8\" font-family=\"Helvetica,sans-Serif\" font-size=\"14.00\" fill=\"#000000\">samples = 1</text>\n<text text-anchor=\"start\" x=\"1319\" y=\"-584.8\" font-family=\"Helvetica,sans-Serif\" font-size=\"14.00\" fill=\"#000000\">value = [0, 1]</text>\n<text text-anchor=\"start\" x=\"1328\" y=\"-570.8\" font-family=\"Helvetica,sans-Serif\" font-size=\"14.00\" fill=\"#000000\">class = y</text>\n<text text-anchor=\"start\" x=\"1386\" y=\"-570.8\" font-family=\"Helvetica,sans-Serif\" baseline-shift=\"sub\" font-size=\"14.00\" fill=\"#000000\">1</text>\n</g>\n<!-- 77&#45;&gt;78 -->\n<g id=\"edge78\" class=\"edge\">\n<title>77&#45;&gt;78</title>\n<path fill=\"none\" stroke=\"#000000\" d=\"M1437.2352,-669.7677C1425.4113,-658.247 1412.4832,-645.6503 1400.6655,-634.1356\"/>\n<polygon fill=\"#000000\" stroke=\"#000000\" points=\"1403.0755,-631.5971 1393.4706,-627.1252 1398.1904,-636.6107 1403.0755,-631.5971\"/>\n</g>\n<!-- 79 -->\n<g id=\"node80\" class=\"node\">\n<title>79</title>\n<path fill=\"#ffffff\" stroke=\"#000000\" d=\"M1515,-634C1515,-634 1440,-634 1440,-634 1434,-634 1428,-628 1428,-622 1428,-622 1428,-568 1428,-568 1428,-562 1434,-556 1440,-556 1440,-556 1515,-556 1515,-556 1521,-556 1527,-562 1527,-568 1527,-568 1527,-622 1527,-622 1527,-628 1521,-634 1515,-634\"/>\n<text text-anchor=\"start\" x=\"1436.5\" y=\"-619.8\" font-family=\"Helvetica,sans-Serif\" font-size=\"14.00\" fill=\"#000000\">Fare ≤ 8.673</text>\n<text text-anchor=\"start\" x=\"1448\" y=\"-605.8\" font-family=\"Helvetica,sans-Serif\" font-size=\"14.00\" fill=\"#000000\">gini = 0.5</text>\n<text text-anchor=\"start\" x=\"1438\" y=\"-591.8\" font-family=\"Helvetica,sans-Serif\" font-size=\"14.00\" fill=\"#000000\">samples = 4</text>\n<text text-anchor=\"start\" x=\"1436\" y=\"-577.8\" font-family=\"Helvetica,sans-Serif\" font-size=\"14.00\" fill=\"#000000\">value = [2, 2]</text>\n<text text-anchor=\"start\" x=\"1445\" y=\"-563.8\" font-family=\"Helvetica,sans-Serif\" font-size=\"14.00\" fill=\"#000000\">class = y</text>\n<text text-anchor=\"start\" x=\"1503\" y=\"-563.8\" font-family=\"Helvetica,sans-Serif\" baseline-shift=\"sub\" font-size=\"14.00\" fill=\"#000000\">0</text>\n</g>\n<!-- 77&#45;&gt;79 -->\n<g id=\"edge79\" class=\"edge\">\n<title>77&#45;&gt;79</title>\n<path fill=\"none\" stroke=\"#000000\" d=\"M1477.5,-669.7677C1477.5,-661.6172 1477.5,-652.9283 1477.5,-644.4649\"/>\n<polygon fill=\"#000000\" stroke=\"#000000\" points=\"1481.0001,-644.3046 1477.5,-634.3046 1474.0001,-644.3047 1481.0001,-644.3046\"/>\n</g>\n<!-- 80 -->\n<g id=\"node81\" class=\"node\">\n<title>80</title>\n<path fill=\"#e58139\" stroke=\"#000000\" d=\"M1398,-513C1398,-513 1323,-513 1323,-513 1317,-513 1311,-507 1311,-501 1311,-501 1311,-461 1311,-461 1311,-455 1317,-449 1323,-449 1323,-449 1398,-449 1398,-449 1404,-449 1410,-455 1410,-461 1410,-461 1410,-501 1410,-501 1410,-507 1404,-513 1398,-513\"/>\n<text text-anchor=\"start\" x=\"1331\" y=\"-498.8\" font-family=\"Helvetica,sans-Serif\" font-size=\"14.00\" fill=\"#000000\">gini = 0.0</text>\n<text text-anchor=\"start\" x=\"1321\" y=\"-484.8\" font-family=\"Helvetica,sans-Serif\" font-size=\"14.00\" fill=\"#000000\">samples = 1</text>\n<text text-anchor=\"start\" x=\"1319\" y=\"-470.8\" font-family=\"Helvetica,sans-Serif\" font-size=\"14.00\" fill=\"#000000\">value = [1, 0]</text>\n<text text-anchor=\"start\" x=\"1328\" y=\"-456.8\" font-family=\"Helvetica,sans-Serif\" font-size=\"14.00\" fill=\"#000000\">class = y</text>\n<text text-anchor=\"start\" x=\"1386\" y=\"-456.8\" font-family=\"Helvetica,sans-Serif\" baseline-shift=\"sub\" font-size=\"14.00\" fill=\"#000000\">0</text>\n</g>\n<!-- 79&#45;&gt;80 -->\n<g id=\"edge80\" class=\"edge\">\n<title>79&#45;&gt;80</title>\n<path fill=\"none\" stroke=\"#000000\" d=\"M1437.2352,-555.7677C1425.4113,-544.247 1412.4832,-531.6503 1400.6655,-520.1356\"/>\n<polygon fill=\"#000000\" stroke=\"#000000\" points=\"1403.0755,-517.5971 1393.4706,-513.1252 1398.1904,-522.6107 1403.0755,-517.5971\"/>\n</g>\n<!-- 81 -->\n<g id=\"node82\" class=\"node\">\n<title>81</title>\n<path fill=\"#9ccef2\" stroke=\"#000000\" d=\"M1515,-520C1515,-520 1440,-520 1440,-520 1434,-520 1428,-514 1428,-508 1428,-508 1428,-454 1428,-454 1428,-448 1434,-442 1440,-442 1440,-442 1515,-442 1515,-442 1521,-442 1527,-448 1527,-454 1527,-454 1527,-508 1527,-508 1527,-514 1521,-520 1515,-520\"/>\n<text text-anchor=\"start\" x=\"1442.5\" y=\"-505.8\" font-family=\"Helvetica,sans-Serif\" font-size=\"14.00\" fill=\"#000000\">Age ≤ 34.0</text>\n<text text-anchor=\"start\" x=\"1439.5\" y=\"-491.8\" font-family=\"Helvetica,sans-Serif\" font-size=\"14.00\" fill=\"#000000\">gini = 0.444</text>\n<text text-anchor=\"start\" x=\"1438\" y=\"-477.8\" font-family=\"Helvetica,sans-Serif\" font-size=\"14.00\" fill=\"#000000\">samples = 3</text>\n<text text-anchor=\"start\" x=\"1436\" y=\"-463.8\" font-family=\"Helvetica,sans-Serif\" font-size=\"14.00\" fill=\"#000000\">value = [1, 2]</text>\n<text text-anchor=\"start\" x=\"1445\" y=\"-449.8\" font-family=\"Helvetica,sans-Serif\" font-size=\"14.00\" fill=\"#000000\">class = y</text>\n<text text-anchor=\"start\" x=\"1503\" y=\"-449.8\" font-family=\"Helvetica,sans-Serif\" baseline-shift=\"sub\" font-size=\"14.00\" fill=\"#000000\">1</text>\n</g>\n<!-- 79&#45;&gt;81 -->\n<g id=\"edge81\" class=\"edge\">\n<title>79&#45;&gt;81</title>\n<path fill=\"none\" stroke=\"#000000\" d=\"M1477.5,-555.7677C1477.5,-547.6172 1477.5,-538.9283 1477.5,-530.4649\"/>\n<polygon fill=\"#000000\" stroke=\"#000000\" points=\"1481.0001,-530.3046 1477.5,-520.3046 1474.0001,-530.3047 1481.0001,-530.3046\"/>\n</g>\n<!-- 82 -->\n<g id=\"node83\" class=\"node\">\n<title>82</title>\n<path fill=\"#399de5\" stroke=\"#000000\" d=\"M1398,-399C1398,-399 1323,-399 1323,-399 1317,-399 1311,-393 1311,-387 1311,-387 1311,-347 1311,-347 1311,-341 1317,-335 1323,-335 1323,-335 1398,-335 1398,-335 1404,-335 1410,-341 1410,-347 1410,-347 1410,-387 1410,-387 1410,-393 1404,-399 1398,-399\"/>\n<text text-anchor=\"start\" x=\"1331\" y=\"-384.8\" font-family=\"Helvetica,sans-Serif\" font-size=\"14.00\" fill=\"#000000\">gini = 0.0</text>\n<text text-anchor=\"start\" x=\"1321\" y=\"-370.8\" font-family=\"Helvetica,sans-Serif\" font-size=\"14.00\" fill=\"#000000\">samples = 1</text>\n<text text-anchor=\"start\" x=\"1319\" y=\"-356.8\" font-family=\"Helvetica,sans-Serif\" font-size=\"14.00\" fill=\"#000000\">value = [0, 1]</text>\n<text text-anchor=\"start\" x=\"1328\" y=\"-342.8\" font-family=\"Helvetica,sans-Serif\" font-size=\"14.00\" fill=\"#000000\">class = y</text>\n<text text-anchor=\"start\" x=\"1386\" y=\"-342.8\" font-family=\"Helvetica,sans-Serif\" baseline-shift=\"sub\" font-size=\"14.00\" fill=\"#000000\">1</text>\n</g>\n<!-- 81&#45;&gt;82 -->\n<g id=\"edge82\" class=\"edge\">\n<title>81&#45;&gt;82</title>\n<path fill=\"none\" stroke=\"#000000\" d=\"M1437.2352,-441.7677C1425.4113,-430.247 1412.4832,-417.6503 1400.6655,-406.1356\"/>\n<polygon fill=\"#000000\" stroke=\"#000000\" points=\"1403.0755,-403.5971 1393.4706,-399.1252 1398.1904,-408.6107 1403.0755,-403.5971\"/>\n</g>\n<!-- 83 -->\n<g id=\"node84\" class=\"node\">\n<title>83</title>\n<path fill=\"#ffffff\" stroke=\"#000000\" d=\"M1515,-406C1515,-406 1440,-406 1440,-406 1434,-406 1428,-400 1428,-394 1428,-394 1428,-340 1428,-340 1428,-334 1434,-328 1440,-328 1440,-328 1515,-328 1515,-328 1521,-328 1527,-334 1527,-340 1527,-340 1527,-394 1527,-394 1527,-400 1521,-406 1515,-406\"/>\n<text text-anchor=\"start\" x=\"1442.5\" y=\"-391.8\" font-family=\"Helvetica,sans-Serif\" font-size=\"14.00\" fill=\"#000000\">Age ≤ 50.0</text>\n<text text-anchor=\"start\" x=\"1448\" y=\"-377.8\" font-family=\"Helvetica,sans-Serif\" font-size=\"14.00\" fill=\"#000000\">gini = 0.5</text>\n<text text-anchor=\"start\" x=\"1438\" y=\"-363.8\" font-family=\"Helvetica,sans-Serif\" font-size=\"14.00\" fill=\"#000000\">samples = 2</text>\n<text text-anchor=\"start\" x=\"1436\" y=\"-349.8\" font-family=\"Helvetica,sans-Serif\" font-size=\"14.00\" fill=\"#000000\">value = [1, 1]</text>\n<text text-anchor=\"start\" x=\"1445\" y=\"-335.8\" font-family=\"Helvetica,sans-Serif\" font-size=\"14.00\" fill=\"#000000\">class = y</text>\n<text text-anchor=\"start\" x=\"1503\" y=\"-335.8\" font-family=\"Helvetica,sans-Serif\" baseline-shift=\"sub\" font-size=\"14.00\" fill=\"#000000\">0</text>\n</g>\n<!-- 81&#45;&gt;83 -->\n<g id=\"edge83\" class=\"edge\">\n<title>81&#45;&gt;83</title>\n<path fill=\"none\" stroke=\"#000000\" d=\"M1477.5,-441.7677C1477.5,-433.6172 1477.5,-424.9283 1477.5,-416.4649\"/>\n<polygon fill=\"#000000\" stroke=\"#000000\" points=\"1481.0001,-416.3046 1477.5,-406.3046 1474.0001,-416.3047 1481.0001,-416.3046\"/>\n</g>\n<!-- 84 -->\n<g id=\"node85\" class=\"node\">\n<title>84</title>\n<path fill=\"#e58139\" stroke=\"#000000\" d=\"M1398,-285C1398,-285 1323,-285 1323,-285 1317,-285 1311,-279 1311,-273 1311,-273 1311,-233 1311,-233 1311,-227 1317,-221 1323,-221 1323,-221 1398,-221 1398,-221 1404,-221 1410,-227 1410,-233 1410,-233 1410,-273 1410,-273 1410,-279 1404,-285 1398,-285\"/>\n<text text-anchor=\"start\" x=\"1331\" y=\"-270.8\" font-family=\"Helvetica,sans-Serif\" font-size=\"14.00\" fill=\"#000000\">gini = 0.0</text>\n<text text-anchor=\"start\" x=\"1321\" y=\"-256.8\" font-family=\"Helvetica,sans-Serif\" font-size=\"14.00\" fill=\"#000000\">samples = 1</text>\n<text text-anchor=\"start\" x=\"1319\" y=\"-242.8\" font-family=\"Helvetica,sans-Serif\" font-size=\"14.00\" fill=\"#000000\">value = [1, 0]</text>\n<text text-anchor=\"start\" x=\"1328\" y=\"-228.8\" font-family=\"Helvetica,sans-Serif\" font-size=\"14.00\" fill=\"#000000\">class = y</text>\n<text text-anchor=\"start\" x=\"1386\" y=\"-228.8\" font-family=\"Helvetica,sans-Serif\" baseline-shift=\"sub\" font-size=\"14.00\" fill=\"#000000\">0</text>\n</g>\n<!-- 83&#45;&gt;84 -->\n<g id=\"edge84\" class=\"edge\">\n<title>83&#45;&gt;84</title>\n<path fill=\"none\" stroke=\"#000000\" d=\"M1437.2352,-327.7677C1425.4113,-316.247 1412.4832,-303.6503 1400.6655,-292.1356\"/>\n<polygon fill=\"#000000\" stroke=\"#000000\" points=\"1403.0755,-289.5971 1393.4706,-285.1252 1398.1904,-294.6107 1403.0755,-289.5971\"/>\n</g>\n<!-- 85 -->\n<g id=\"node86\" class=\"node\">\n<title>85</title>\n<path fill=\"#399de5\" stroke=\"#000000\" d=\"M1515,-285C1515,-285 1440,-285 1440,-285 1434,-285 1428,-279 1428,-273 1428,-273 1428,-233 1428,-233 1428,-227 1434,-221 1440,-221 1440,-221 1515,-221 1515,-221 1521,-221 1527,-227 1527,-233 1527,-233 1527,-273 1527,-273 1527,-279 1521,-285 1515,-285\"/>\n<text text-anchor=\"start\" x=\"1448\" y=\"-270.8\" font-family=\"Helvetica,sans-Serif\" font-size=\"14.00\" fill=\"#000000\">gini = 0.0</text>\n<text text-anchor=\"start\" x=\"1438\" y=\"-256.8\" font-family=\"Helvetica,sans-Serif\" font-size=\"14.00\" fill=\"#000000\">samples = 1</text>\n<text text-anchor=\"start\" x=\"1436\" y=\"-242.8\" font-family=\"Helvetica,sans-Serif\" font-size=\"14.00\" fill=\"#000000\">value = [0, 1]</text>\n<text text-anchor=\"start\" x=\"1445\" y=\"-228.8\" font-family=\"Helvetica,sans-Serif\" font-size=\"14.00\" fill=\"#000000\">class = y</text>\n<text text-anchor=\"start\" x=\"1503\" y=\"-228.8\" font-family=\"Helvetica,sans-Serif\" baseline-shift=\"sub\" font-size=\"14.00\" fill=\"#000000\">1</text>\n</g>\n<!-- 83&#45;&gt;85 -->\n<g id=\"edge85\" class=\"edge\">\n<title>83&#45;&gt;85</title>\n<path fill=\"none\" stroke=\"#000000\" d=\"M1477.5,-327.7677C1477.5,-317.3338 1477.5,-306.0174 1477.5,-295.4215\"/>\n<polygon fill=\"#000000\" stroke=\"#000000\" points=\"1481.0001,-295.1252 1477.5,-285.1252 1474.0001,-295.1252 1481.0001,-295.1252\"/>\n</g>\n<!-- 89 -->\n<g id=\"node90\" class=\"node\">\n<title>89</title>\n<path fill=\"#6ab6ec\" stroke=\"#000000\" d=\"M1923.5,-1204C1923.5,-1204 1843.5,-1204 1843.5,-1204 1837.5,-1204 1831.5,-1198 1831.5,-1192 1831.5,-1192 1831.5,-1138 1831.5,-1138 1831.5,-1132 1837.5,-1126 1843.5,-1126 1843.5,-1126 1923.5,-1126 1923.5,-1126 1929.5,-1126 1935.5,-1132 1935.5,-1138 1935.5,-1138 1935.5,-1192 1935.5,-1192 1935.5,-1198 1929.5,-1204 1923.5,-1204\"/>\n<text text-anchor=\"start\" x=\"1852.5\" y=\"-1189.8\" font-family=\"Helvetica,sans-Serif\" font-size=\"14.00\" fill=\"#000000\">Age ≤ 3.5</text>\n<text text-anchor=\"start\" x=\"1850\" y=\"-1175.8\" font-family=\"Helvetica,sans-Serif\" font-size=\"14.00\" fill=\"#000000\">gini = 0.32</text>\n<text text-anchor=\"start\" x=\"1839.5\" y=\"-1161.8\" font-family=\"Helvetica,sans-Serif\" font-size=\"14.00\" fill=\"#000000\">samples = 10</text>\n<text text-anchor=\"start\" x=\"1842\" y=\"-1147.8\" font-family=\"Helvetica,sans-Serif\" font-size=\"14.00\" fill=\"#000000\">value = [2, 8]</text>\n<text text-anchor=\"start\" x=\"1851\" y=\"-1133.8\" font-family=\"Helvetica,sans-Serif\" font-size=\"14.00\" fill=\"#000000\">class = y</text>\n<text text-anchor=\"start\" x=\"1909\" y=\"-1133.8\" font-family=\"Helvetica,sans-Serif\" baseline-shift=\"sub\" font-size=\"14.00\" fill=\"#000000\">1</text>\n</g>\n<!-- 88&#45;&gt;89 -->\n<g id=\"edge89\" class=\"edge\">\n<title>88&#45;&gt;89</title>\n<path fill=\"none\" stroke=\"#000000\" d=\"M1883.5,-1239.7677C1883.5,-1231.6172 1883.5,-1222.9283 1883.5,-1214.4649\"/>\n<polygon fill=\"#000000\" stroke=\"#000000\" points=\"1887.0001,-1214.3046 1883.5,-1204.3046 1880.0001,-1214.3047 1887.0001,-1214.3046\"/>\n</g>\n<!-- 96 -->\n<g id=\"node97\" class=\"node\">\n<title>96</title>\n<path fill=\"#f2c09c\" stroke=\"#000000\" d=\"M2105,-1204C2105,-1204 2030,-1204 2030,-1204 2024,-1204 2018,-1198 2018,-1192 2018,-1192 2018,-1138 2018,-1138 2018,-1132 2024,-1126 2030,-1126 2030,-1126 2105,-1126 2105,-1126 2111,-1126 2117,-1132 2117,-1138 2117,-1138 2117,-1192 2117,-1192 2117,-1198 2111,-1204 2105,-1204\"/>\n<text text-anchor=\"start\" x=\"2032.5\" y=\"-1189.8\" font-family=\"Helvetica,sans-Serif\" font-size=\"14.00\" fill=\"#000000\">Age ≤ 30.0</text>\n<text text-anchor=\"start\" x=\"2029.5\" y=\"-1175.8\" font-family=\"Helvetica,sans-Serif\" font-size=\"14.00\" fill=\"#000000\">gini = 0.444</text>\n<text text-anchor=\"start\" x=\"2028\" y=\"-1161.8\" font-family=\"Helvetica,sans-Serif\" font-size=\"14.00\" fill=\"#000000\">samples = 6</text>\n<text text-anchor=\"start\" x=\"2026\" y=\"-1147.8\" font-family=\"Helvetica,sans-Serif\" font-size=\"14.00\" fill=\"#000000\">value = [4, 2]</text>\n<text text-anchor=\"start\" x=\"2035\" y=\"-1133.8\" font-family=\"Helvetica,sans-Serif\" font-size=\"14.00\" fill=\"#000000\">class = y</text>\n<text text-anchor=\"start\" x=\"2093\" y=\"-1133.8\" font-family=\"Helvetica,sans-Serif\" baseline-shift=\"sub\" font-size=\"14.00\" fill=\"#000000\">0</text>\n</g>\n<!-- 88&#45;&gt;96 -->\n<g id=\"edge96\" class=\"edge\">\n<title>88&#45;&gt;96</title>\n<path fill=\"none\" stroke=\"#000000\" d=\"M1937.215,-1245.72C1959.789,-1231.734 1986.1059,-1215.429 2009.1542,-1201.149\"/>\n<polygon fill=\"#000000\" stroke=\"#000000\" points=\"2011.1557,-1204.0263 2017.813,-1195.7843 2007.469,-1198.0758 2011.1557,-1204.0263\"/>\n</g>\n<!-- 90 -->\n<g id=\"node91\" class=\"node\">\n<title>90</title>\n<path fill=\"#ffffff\" stroke=\"#000000\" d=\"M1871,-1090C1871,-1090 1796,-1090 1796,-1090 1790,-1090 1784,-1084 1784,-1078 1784,-1078 1784,-1024 1784,-1024 1784,-1018 1790,-1012 1796,-1012 1796,-1012 1871,-1012 1871,-1012 1877,-1012 1883,-1018 1883,-1024 1883,-1024 1883,-1078 1883,-1078 1883,-1084 1877,-1090 1871,-1090\"/>\n<text text-anchor=\"start\" x=\"1796\" y=\"-1075.8\" font-family=\"Helvetica,sans-Serif\" font-size=\"14.00\" fill=\"#000000\">SibSp ≤ 2.0</text>\n<text text-anchor=\"start\" x=\"1804\" y=\"-1061.8\" font-family=\"Helvetica,sans-Serif\" font-size=\"14.00\" fill=\"#000000\">gini = 0.5</text>\n<text text-anchor=\"start\" x=\"1794\" y=\"-1047.8\" font-family=\"Helvetica,sans-Serif\" font-size=\"14.00\" fill=\"#000000\">samples = 4</text>\n<text text-anchor=\"start\" x=\"1792\" y=\"-1033.8\" font-family=\"Helvetica,sans-Serif\" font-size=\"14.00\" fill=\"#000000\">value = [2, 2]</text>\n<text text-anchor=\"start\" x=\"1801\" y=\"-1019.8\" font-family=\"Helvetica,sans-Serif\" font-size=\"14.00\" fill=\"#000000\">class = y</text>\n<text text-anchor=\"start\" x=\"1859\" y=\"-1019.8\" font-family=\"Helvetica,sans-Serif\" baseline-shift=\"sub\" font-size=\"14.00\" fill=\"#000000\">0</text>\n</g>\n<!-- 89&#45;&gt;90 -->\n<g id=\"edge90\" class=\"edge\">\n<title>89&#45;&gt;90</title>\n<path fill=\"none\" stroke=\"#000000\" d=\"M1866.2928,-1125.7677C1862.6002,-1117.3485 1858.6556,-1108.3548 1854.8283,-1099.6286\"/>\n<polygon fill=\"#000000\" stroke=\"#000000\" points=\"1857.9608,-1098.0567 1850.7389,-1090.3046 1851.5503,-1100.8684 1857.9608,-1098.0567\"/>\n</g>\n<!-- 95 -->\n<g id=\"node96\" class=\"node\">\n<title>95</title>\n<path fill=\"#399de5\" stroke=\"#000000\" d=\"M1988,-1083C1988,-1083 1913,-1083 1913,-1083 1907,-1083 1901,-1077 1901,-1071 1901,-1071 1901,-1031 1901,-1031 1901,-1025 1907,-1019 1913,-1019 1913,-1019 1988,-1019 1988,-1019 1994,-1019 2000,-1025 2000,-1031 2000,-1031 2000,-1071 2000,-1071 2000,-1077 1994,-1083 1988,-1083\"/>\n<text text-anchor=\"start\" x=\"1921\" y=\"-1068.8\" font-family=\"Helvetica,sans-Serif\" font-size=\"14.00\" fill=\"#000000\">gini = 0.0</text>\n<text text-anchor=\"start\" x=\"1911\" y=\"-1054.8\" font-family=\"Helvetica,sans-Serif\" font-size=\"14.00\" fill=\"#000000\">samples = 6</text>\n<text text-anchor=\"start\" x=\"1909\" y=\"-1040.8\" font-family=\"Helvetica,sans-Serif\" font-size=\"14.00\" fill=\"#000000\">value = [0, 6]</text>\n<text text-anchor=\"start\" x=\"1918\" y=\"-1026.8\" font-family=\"Helvetica,sans-Serif\" font-size=\"14.00\" fill=\"#000000\">class = y</text>\n<text text-anchor=\"start\" x=\"1976\" y=\"-1026.8\" font-family=\"Helvetica,sans-Serif\" baseline-shift=\"sub\" font-size=\"14.00\" fill=\"#000000\">1</text>\n</g>\n<!-- 89&#45;&gt;95 -->\n<g id=\"edge95\" class=\"edge\">\n<title>89&#45;&gt;95</title>\n<path fill=\"none\" stroke=\"#000000\" d=\"M1906.5576,-1125.7677C1913.0092,-1114.7904 1920.0348,-1102.8362 1926.5375,-1091.772\"/>\n<polygon fill=\"#000000\" stroke=\"#000000\" points=\"1929.5699,-1093.5199 1931.6194,-1083.1252 1923.535,-1089.9731 1929.5699,-1093.5199\"/>\n</g>\n<!-- 91 -->\n<g id=\"node92\" class=\"node\">\n<title>91</title>\n<path fill=\"#9ccef2\" stroke=\"#000000\" d=\"M1875,-976C1875,-976 1792,-976 1792,-976 1786,-976 1780,-970 1780,-964 1780,-964 1780,-910 1780,-910 1780,-904 1786,-898 1792,-898 1792,-898 1875,-898 1875,-898 1881,-898 1887,-904 1887,-910 1887,-910 1887,-964 1887,-964 1887,-970 1881,-976 1875,-976\"/>\n<text text-anchor=\"start\" x=\"1788\" y=\"-961.8\" font-family=\"Helvetica,sans-Serif\" font-size=\"14.00\" fill=\"#000000\">Fare ≤ 10.798</text>\n<text text-anchor=\"start\" x=\"1795.5\" y=\"-947.8\" font-family=\"Helvetica,sans-Serif\" font-size=\"14.00\" fill=\"#000000\">gini = 0.444</text>\n<text text-anchor=\"start\" x=\"1794\" y=\"-933.8\" font-family=\"Helvetica,sans-Serif\" font-size=\"14.00\" fill=\"#000000\">samples = 3</text>\n<text text-anchor=\"start\" x=\"1792\" y=\"-919.8\" font-family=\"Helvetica,sans-Serif\" font-size=\"14.00\" fill=\"#000000\">value = [1, 2]</text>\n<text text-anchor=\"start\" x=\"1801\" y=\"-905.8\" font-family=\"Helvetica,sans-Serif\" font-size=\"14.00\" fill=\"#000000\">class = y</text>\n<text text-anchor=\"start\" x=\"1859\" y=\"-905.8\" font-family=\"Helvetica,sans-Serif\" baseline-shift=\"sub\" font-size=\"14.00\" fill=\"#000000\">1</text>\n</g>\n<!-- 90&#45;&gt;91 -->\n<g id=\"edge91\" class=\"edge\">\n<title>90&#45;&gt;91</title>\n<path fill=\"none\" stroke=\"#000000\" d=\"M1833.5,-1011.7677C1833.5,-1003.6172 1833.5,-994.9283 1833.5,-986.4649\"/>\n<polygon fill=\"#000000\" stroke=\"#000000\" points=\"1837.0001,-986.3046 1833.5,-976.3046 1830.0001,-986.3047 1837.0001,-986.3046\"/>\n</g>\n<!-- 94 -->\n<g id=\"node95\" class=\"node\">\n<title>94</title>\n<path fill=\"#e58139\" stroke=\"#000000\" d=\"M1992,-969C1992,-969 1917,-969 1917,-969 1911,-969 1905,-963 1905,-957 1905,-957 1905,-917 1905,-917 1905,-911 1911,-905 1917,-905 1917,-905 1992,-905 1992,-905 1998,-905 2004,-911 2004,-917 2004,-917 2004,-957 2004,-957 2004,-963 1998,-969 1992,-969\"/>\n<text text-anchor=\"start\" x=\"1925\" y=\"-954.8\" font-family=\"Helvetica,sans-Serif\" font-size=\"14.00\" fill=\"#000000\">gini = 0.0</text>\n<text text-anchor=\"start\" x=\"1915\" y=\"-940.8\" font-family=\"Helvetica,sans-Serif\" font-size=\"14.00\" fill=\"#000000\">samples = 1</text>\n<text text-anchor=\"start\" x=\"1913\" y=\"-926.8\" font-family=\"Helvetica,sans-Serif\" font-size=\"14.00\" fill=\"#000000\">value = [1, 0]</text>\n<text text-anchor=\"start\" x=\"1922\" y=\"-912.8\" font-family=\"Helvetica,sans-Serif\" font-size=\"14.00\" fill=\"#000000\">class = y</text>\n<text text-anchor=\"start\" x=\"1980\" y=\"-912.8\" font-family=\"Helvetica,sans-Serif\" baseline-shift=\"sub\" font-size=\"14.00\" fill=\"#000000\">0</text>\n</g>\n<!-- 90&#45;&gt;94 -->\n<g id=\"edge94\" class=\"edge\">\n<title>90&#45;&gt;94</title>\n<path fill=\"none\" stroke=\"#000000\" d=\"M1875.1413,-1011.7677C1887.3695,-1000.247 1900.7396,-987.6503 1912.9613,-976.1356\"/>\n<polygon fill=\"#000000\" stroke=\"#000000\" points=\"1915.5238,-978.5301 1920.4022,-969.1252 1910.7236,-973.4352 1915.5238,-978.5301\"/>\n</g>\n<!-- 92 -->\n<g id=\"node93\" class=\"node\">\n<title>92</title>\n<path fill=\"#e58139\" stroke=\"#000000\" d=\"M1812,-855C1812,-855 1737,-855 1737,-855 1731,-855 1725,-849 1725,-843 1725,-843 1725,-803 1725,-803 1725,-797 1731,-791 1737,-791 1737,-791 1812,-791 1812,-791 1818,-791 1824,-797 1824,-803 1824,-803 1824,-843 1824,-843 1824,-849 1818,-855 1812,-855\"/>\n<text text-anchor=\"start\" x=\"1745\" y=\"-840.8\" font-family=\"Helvetica,sans-Serif\" font-size=\"14.00\" fill=\"#000000\">gini = 0.0</text>\n<text text-anchor=\"start\" x=\"1735\" y=\"-826.8\" font-family=\"Helvetica,sans-Serif\" font-size=\"14.00\" fill=\"#000000\">samples = 1</text>\n<text text-anchor=\"start\" x=\"1733\" y=\"-812.8\" font-family=\"Helvetica,sans-Serif\" font-size=\"14.00\" fill=\"#000000\">value = [1, 0]</text>\n<text text-anchor=\"start\" x=\"1742\" y=\"-798.8\" font-family=\"Helvetica,sans-Serif\" font-size=\"14.00\" fill=\"#000000\">class = y</text>\n<text text-anchor=\"start\" x=\"1800\" y=\"-798.8\" font-family=\"Helvetica,sans-Serif\" baseline-shift=\"sub\" font-size=\"14.00\" fill=\"#000000\">0</text>\n</g>\n<!-- 91&#45;&gt;92 -->\n<g id=\"edge92\" class=\"edge\">\n<title>91&#45;&gt;92</title>\n<path fill=\"none\" stroke=\"#000000\" d=\"M1813.1955,-897.7677C1807.5706,-886.8991 1801.45,-875.0729 1795.7715,-864.1009\"/>\n<polygon fill=\"#000000\" stroke=\"#000000\" points=\"1798.831,-862.3975 1791.1262,-855.1252 1792.6142,-865.615 1798.831,-862.3975\"/>\n</g>\n<!-- 93 -->\n<g id=\"node94\" class=\"node\">\n<title>93</title>\n<path fill=\"#399de5\" stroke=\"#000000\" d=\"M1929,-855C1929,-855 1854,-855 1854,-855 1848,-855 1842,-849 1842,-843 1842,-843 1842,-803 1842,-803 1842,-797 1848,-791 1854,-791 1854,-791 1929,-791 1929,-791 1935,-791 1941,-797 1941,-803 1941,-803 1941,-843 1941,-843 1941,-849 1935,-855 1929,-855\"/>\n<text text-anchor=\"start\" x=\"1862\" y=\"-840.8\" font-family=\"Helvetica,sans-Serif\" font-size=\"14.00\" fill=\"#000000\">gini = 0.0</text>\n<text text-anchor=\"start\" x=\"1852\" y=\"-826.8\" font-family=\"Helvetica,sans-Serif\" font-size=\"14.00\" fill=\"#000000\">samples = 2</text>\n<text text-anchor=\"start\" x=\"1850\" y=\"-812.8\" font-family=\"Helvetica,sans-Serif\" font-size=\"14.00\" fill=\"#000000\">value = [0, 2]</text>\n<text text-anchor=\"start\" x=\"1859\" y=\"-798.8\" font-family=\"Helvetica,sans-Serif\" font-size=\"14.00\" fill=\"#000000\">class = y</text>\n<text text-anchor=\"start\" x=\"1917\" y=\"-798.8\" font-family=\"Helvetica,sans-Serif\" baseline-shift=\"sub\" font-size=\"14.00\" fill=\"#000000\">1</text>\n</g>\n<!-- 91&#45;&gt;93 -->\n<g id=\"edge93\" class=\"edge\">\n<title>91&#45;&gt;93</title>\n<path fill=\"none\" stroke=\"#000000\" d=\"M1853.4603,-897.7677C1858.9899,-886.8991 1865.0068,-875.0729 1870.589,-864.1009\"/>\n<polygon fill=\"#000000\" stroke=\"#000000\" points=\"1873.7405,-865.6251 1875.1556,-855.1252 1867.5015,-862.4509 1873.7405,-865.6251\"/>\n</g>\n<!-- 97 -->\n<g id=\"node98\" class=\"node\">\n<title>97</title>\n<path fill=\"#e58139\" stroke=\"#000000\" d=\"M2105,-1083C2105,-1083 2030,-1083 2030,-1083 2024,-1083 2018,-1077 2018,-1071 2018,-1071 2018,-1031 2018,-1031 2018,-1025 2024,-1019 2030,-1019 2030,-1019 2105,-1019 2105,-1019 2111,-1019 2117,-1025 2117,-1031 2117,-1031 2117,-1071 2117,-1071 2117,-1077 2111,-1083 2105,-1083\"/>\n<text text-anchor=\"start\" x=\"2038\" y=\"-1068.8\" font-family=\"Helvetica,sans-Serif\" font-size=\"14.00\" fill=\"#000000\">gini = 0.0</text>\n<text text-anchor=\"start\" x=\"2028\" y=\"-1054.8\" font-family=\"Helvetica,sans-Serif\" font-size=\"14.00\" fill=\"#000000\">samples = 3</text>\n<text text-anchor=\"start\" x=\"2026\" y=\"-1040.8\" font-family=\"Helvetica,sans-Serif\" font-size=\"14.00\" fill=\"#000000\">value = [3, 0]</text>\n<text text-anchor=\"start\" x=\"2035\" y=\"-1026.8\" font-family=\"Helvetica,sans-Serif\" font-size=\"14.00\" fill=\"#000000\">class = y</text>\n<text text-anchor=\"start\" x=\"2093\" y=\"-1026.8\" font-family=\"Helvetica,sans-Serif\" baseline-shift=\"sub\" font-size=\"14.00\" fill=\"#000000\">0</text>\n</g>\n<!-- 96&#45;&gt;97 -->\n<g id=\"edge97\" class=\"edge\">\n<title>96&#45;&gt;97</title>\n<path fill=\"none\" stroke=\"#000000\" d=\"M2067.5,-1125.7677C2067.5,-1115.3338 2067.5,-1104.0174 2067.5,-1093.4215\"/>\n<polygon fill=\"#000000\" stroke=\"#000000\" points=\"2071.0001,-1093.1252 2067.5,-1083.1252 2064.0001,-1093.1252 2071.0001,-1093.1252\"/>\n</g>\n<!-- 98 -->\n<g id=\"node99\" class=\"node\">\n<title>98</title>\n<path fill=\"#9ccef2\" stroke=\"#000000\" d=\"M2222,-1090C2222,-1090 2147,-1090 2147,-1090 2141,-1090 2135,-1084 2135,-1078 2135,-1078 2135,-1024 2135,-1024 2135,-1018 2141,-1012 2147,-1012 2147,-1012 2222,-1012 2222,-1012 2228,-1012 2234,-1018 2234,-1024 2234,-1024 2234,-1078 2234,-1078 2234,-1084 2228,-1090 2222,-1090\"/>\n<text text-anchor=\"start\" x=\"2147\" y=\"-1075.8\" font-family=\"Helvetica,sans-Serif\" font-size=\"14.00\" fill=\"#000000\">SibSp ≤ 0.5</text>\n<text text-anchor=\"start\" x=\"2146.5\" y=\"-1061.8\" font-family=\"Helvetica,sans-Serif\" font-size=\"14.00\" fill=\"#000000\">gini = 0.444</text>\n<text text-anchor=\"start\" x=\"2145\" y=\"-1047.8\" font-family=\"Helvetica,sans-Serif\" font-size=\"14.00\" fill=\"#000000\">samples = 3</text>\n<text text-anchor=\"start\" x=\"2143\" y=\"-1033.8\" font-family=\"Helvetica,sans-Serif\" font-size=\"14.00\" fill=\"#000000\">value = [1, 2]</text>\n<text text-anchor=\"start\" x=\"2152\" y=\"-1019.8\" font-family=\"Helvetica,sans-Serif\" font-size=\"14.00\" fill=\"#000000\">class = y</text>\n<text text-anchor=\"start\" x=\"2210\" y=\"-1019.8\" font-family=\"Helvetica,sans-Serif\" baseline-shift=\"sub\" font-size=\"14.00\" fill=\"#000000\">1</text>\n</g>\n<!-- 96&#45;&gt;98 -->\n<g id=\"edge98\" class=\"edge\">\n<title>96&#45;&gt;98</title>\n<path fill=\"none\" stroke=\"#000000\" d=\"M2107.7648,-1125.7677C2117.1408,-1116.632 2127.2113,-1106.8198 2136.8718,-1097.407\"/>\n<polygon fill=\"#000000\" stroke=\"#000000\" points=\"2139.4412,-1099.7901 2144.161,-1090.3046 2134.5562,-1094.7765 2139.4412,-1099.7901\"/>\n</g>\n<!-- 99 -->\n<g id=\"node100\" class=\"node\">\n<title>99</title>\n<path fill=\"#e58139\" stroke=\"#000000\" d=\"M2133,-969C2133,-969 2058,-969 2058,-969 2052,-969 2046,-963 2046,-957 2046,-957 2046,-917 2046,-917 2046,-911 2052,-905 2058,-905 2058,-905 2133,-905 2133,-905 2139,-905 2145,-911 2145,-917 2145,-917 2145,-957 2145,-957 2145,-963 2139,-969 2133,-969\"/>\n<text text-anchor=\"start\" x=\"2066\" y=\"-954.8\" font-family=\"Helvetica,sans-Serif\" font-size=\"14.00\" fill=\"#000000\">gini = 0.0</text>\n<text text-anchor=\"start\" x=\"2056\" y=\"-940.8\" font-family=\"Helvetica,sans-Serif\" font-size=\"14.00\" fill=\"#000000\">samples = 1</text>\n<text text-anchor=\"start\" x=\"2054\" y=\"-926.8\" font-family=\"Helvetica,sans-Serif\" font-size=\"14.00\" fill=\"#000000\">value = [1, 0]</text>\n<text text-anchor=\"start\" x=\"2063\" y=\"-912.8\" font-family=\"Helvetica,sans-Serif\" font-size=\"14.00\" fill=\"#000000\">class = y</text>\n<text text-anchor=\"start\" x=\"2121\" y=\"-912.8\" font-family=\"Helvetica,sans-Serif\" baseline-shift=\"sub\" font-size=\"14.00\" fill=\"#000000\">0</text>\n</g>\n<!-- 98&#45;&gt;99 -->\n<g id=\"edge99\" class=\"edge\">\n<title>98&#45;&gt;99</title>\n<path fill=\"none\" stroke=\"#000000\" d=\"M2153.8712,-1011.7677C2145.1316,-1000.573 2135.5987,-988.3624 2126.8185,-977.1158\"/>\n<polygon fill=\"#000000\" stroke=\"#000000\" points=\"2129.4928,-974.8537 2120.5802,-969.1252 2123.9752,-979.1614 2129.4928,-974.8537\"/>\n</g>\n<!-- 100 -->\n<g id=\"node101\" class=\"node\">\n<title>100</title>\n<path fill=\"#399de5\" stroke=\"#000000\" d=\"M2250,-969C2250,-969 2175,-969 2175,-969 2169,-969 2163,-963 2163,-957 2163,-957 2163,-917 2163,-917 2163,-911 2169,-905 2175,-905 2175,-905 2250,-905 2250,-905 2256,-905 2262,-911 2262,-917 2262,-917 2262,-957 2262,-957 2262,-963 2256,-969 2250,-969\"/>\n<text text-anchor=\"start\" x=\"2183\" y=\"-954.8\" font-family=\"Helvetica,sans-Serif\" font-size=\"14.00\" fill=\"#000000\">gini = 0.0</text>\n<text text-anchor=\"start\" x=\"2173\" y=\"-940.8\" font-family=\"Helvetica,sans-Serif\" font-size=\"14.00\" fill=\"#000000\">samples = 2</text>\n<text text-anchor=\"start\" x=\"2171\" y=\"-926.8\" font-family=\"Helvetica,sans-Serif\" font-size=\"14.00\" fill=\"#000000\">value = [0, 2]</text>\n<text text-anchor=\"start\" x=\"2180\" y=\"-912.8\" font-family=\"Helvetica,sans-Serif\" font-size=\"14.00\" fill=\"#000000\">class = y</text>\n<text text-anchor=\"start\" x=\"2238\" y=\"-912.8\" font-family=\"Helvetica,sans-Serif\" baseline-shift=\"sub\" font-size=\"14.00\" fill=\"#000000\">1</text>\n</g>\n<!-- 98&#45;&gt;100 -->\n<g id=\"edge100\" class=\"edge\">\n<title>98&#45;&gt;100</title>\n<path fill=\"none\" stroke=\"#000000\" d=\"M2194.136,-1011.7677C2196.7254,-1001.2251 2199.5361,-989.7816 2202.1619,-979.0907\"/>\n<polygon fill=\"#000000\" stroke=\"#000000\" points=\"2205.6233,-979.6714 2204.6096,-969.1252 2198.8253,-978.0017 2205.6233,-979.6714\"/>\n</g>\n<!-- 102 -->\n<g id=\"node103\" class=\"node\">\n<title>102</title>\n<path fill=\"#e78945\" stroke=\"#000000\" d=\"M2404,-1318C2404,-1318 2321,-1318 2321,-1318 2315,-1318 2309,-1312 2309,-1306 2309,-1306 2309,-1252 2309,-1252 2309,-1246 2315,-1240 2321,-1240 2321,-1240 2404,-1240 2404,-1240 2410,-1240 2416,-1246 2416,-1252 2416,-1252 2416,-1306 2416,-1306 2416,-1312 2410,-1318 2404,-1318\"/>\n<text text-anchor=\"start\" x=\"2331.5\" y=\"-1303.8\" font-family=\"Helvetica,sans-Serif\" font-size=\"14.00\" fill=\"#000000\">Age ≤ 5.5</text>\n<text text-anchor=\"start\" x=\"2324.5\" y=\"-1289.8\" font-family=\"Helvetica,sans-Serif\" font-size=\"14.00\" fill=\"#000000\">gini = 0.111</text>\n<text text-anchor=\"start\" x=\"2318.5\" y=\"-1275.8\" font-family=\"Helvetica,sans-Serif\" font-size=\"14.00\" fill=\"#000000\">samples = 17</text>\n<text text-anchor=\"start\" x=\"2317\" y=\"-1261.8\" font-family=\"Helvetica,sans-Serif\" font-size=\"14.00\" fill=\"#000000\">value = [16, 1]</text>\n<text text-anchor=\"start\" x=\"2330\" y=\"-1247.8\" font-family=\"Helvetica,sans-Serif\" font-size=\"14.00\" fill=\"#000000\">class = y</text>\n<text text-anchor=\"start\" x=\"2388\" y=\"-1247.8\" font-family=\"Helvetica,sans-Serif\" baseline-shift=\"sub\" font-size=\"14.00\" fill=\"#000000\">0</text>\n</g>\n<!-- 101&#45;&gt;102 -->\n<g id=\"edge102\" class=\"edge\">\n<title>101&#45;&gt;102</title>\n<path fill=\"none\" stroke=\"#000000\" d=\"M2362.5,-1353.7677C2362.5,-1345.6172 2362.5,-1336.9283 2362.5,-1328.4649\"/>\n<polygon fill=\"#000000\" stroke=\"#000000\" points=\"2366.0001,-1328.3046 2362.5,-1318.3046 2359.0001,-1328.3047 2366.0001,-1328.3046\"/>\n</g>\n<!-- 107 -->\n<g id=\"node108\" class=\"node\">\n<title>107</title>\n<path fill=\"#ffffff\" stroke=\"#000000\" d=\"M2589,-1318C2589,-1318 2506,-1318 2506,-1318 2500,-1318 2494,-1312 2494,-1306 2494,-1306 2494,-1252 2494,-1252 2494,-1246 2500,-1240 2506,-1240 2506,-1240 2589,-1240 2589,-1240 2595,-1240 2601,-1246 2601,-1252 2601,-1252 2601,-1306 2601,-1306 2601,-1312 2595,-1318 2589,-1318\"/>\n<text text-anchor=\"start\" x=\"2502\" y=\"-1303.8\" font-family=\"Helvetica,sans-Serif\" font-size=\"14.00\" fill=\"#000000\">Fare ≤ 39.144</text>\n<text text-anchor=\"start\" x=\"2518\" y=\"-1289.8\" font-family=\"Helvetica,sans-Serif\" font-size=\"14.00\" fill=\"#000000\">gini = 0.5</text>\n<text text-anchor=\"start\" x=\"2508\" y=\"-1275.8\" font-family=\"Helvetica,sans-Serif\" font-size=\"14.00\" fill=\"#000000\">samples = 2</text>\n<text text-anchor=\"start\" x=\"2506\" y=\"-1261.8\" font-family=\"Helvetica,sans-Serif\" font-size=\"14.00\" fill=\"#000000\">value = [1, 1]</text>\n<text text-anchor=\"start\" x=\"2515\" y=\"-1247.8\" font-family=\"Helvetica,sans-Serif\" font-size=\"14.00\" fill=\"#000000\">class = y</text>\n<text text-anchor=\"start\" x=\"2573\" y=\"-1247.8\" font-family=\"Helvetica,sans-Serif\" baseline-shift=\"sub\" font-size=\"14.00\" fill=\"#000000\">0</text>\n</g>\n<!-- 101&#45;&gt;107 -->\n<g id=\"edge107\" class=\"edge\">\n<title>101&#45;&gt;107</title>\n<path fill=\"none\" stroke=\"#000000\" d=\"M2416.0097,-1360.0265C2437.5834,-1346.7324 2462.6206,-1331.304 2485.0228,-1317.4995\"/>\n<polygon fill=\"#000000\" stroke=\"#000000\" points=\"2487.1131,-1320.3226 2493.7904,-1312.0967 2483.4408,-1314.3632 2487.1131,-1320.3226\"/>\n</g>\n<!-- 103 -->\n<g id=\"node104\" class=\"node\">\n<title>103</title>\n<path fill=\"#f2c09c\" stroke=\"#000000\" d=\"M2343,-1204C2343,-1204 2260,-1204 2260,-1204 2254,-1204 2248,-1198 2248,-1192 2248,-1192 2248,-1138 2248,-1138 2248,-1132 2254,-1126 2260,-1126 2260,-1126 2343,-1126 2343,-1126 2349,-1126 2355,-1132 2355,-1138 2355,-1138 2355,-1192 2355,-1192 2355,-1198 2349,-1204 2343,-1204\"/>\n<text text-anchor=\"start\" x=\"2256\" y=\"-1189.8\" font-family=\"Helvetica,sans-Serif\" font-size=\"14.00\" fill=\"#000000\">Fare ≤ 31.331</text>\n<text text-anchor=\"start\" x=\"2263.5\" y=\"-1175.8\" font-family=\"Helvetica,sans-Serif\" font-size=\"14.00\" fill=\"#000000\">gini = 0.444</text>\n<text text-anchor=\"start\" x=\"2262\" y=\"-1161.8\" font-family=\"Helvetica,sans-Serif\" font-size=\"14.00\" fill=\"#000000\">samples = 3</text>\n<text text-anchor=\"start\" x=\"2260\" y=\"-1147.8\" font-family=\"Helvetica,sans-Serif\" font-size=\"14.00\" fill=\"#000000\">value = [2, 1]</text>\n<text text-anchor=\"start\" x=\"2269\" y=\"-1133.8\" font-family=\"Helvetica,sans-Serif\" font-size=\"14.00\" fill=\"#000000\">class = y</text>\n<text text-anchor=\"start\" x=\"2327\" y=\"-1133.8\" font-family=\"Helvetica,sans-Serif\" baseline-shift=\"sub\" font-size=\"14.00\" fill=\"#000000\">0</text>\n</g>\n<!-- 102&#45;&gt;103 -->\n<g id=\"edge103\" class=\"edge\">\n<title>102&#45;&gt;103</title>\n<path fill=\"none\" stroke=\"#000000\" d=\"M2341.5073,-1239.7677C2336.9544,-1231.259 2332.0874,-1222.1634 2327.3716,-1213.3502\"/>\n<polygon fill=\"#000000\" stroke=\"#000000\" points=\"2330.3354,-1211.4705 2322.5314,-1204.3046 2324.1634,-1214.773 2330.3354,-1211.4705\"/>\n</g>\n<!-- 106 -->\n<g id=\"node107\" class=\"node\">\n<title>106</title>\n<path fill=\"#e58139\" stroke=\"#000000\" d=\"M2468,-1197C2468,-1197 2385,-1197 2385,-1197 2379,-1197 2373,-1191 2373,-1185 2373,-1185 2373,-1145 2373,-1145 2373,-1139 2379,-1133 2385,-1133 2385,-1133 2468,-1133 2468,-1133 2474,-1133 2480,-1139 2480,-1145 2480,-1145 2480,-1185 2480,-1185 2480,-1191 2474,-1197 2468,-1197\"/>\n<text text-anchor=\"start\" x=\"2397\" y=\"-1182.8\" font-family=\"Helvetica,sans-Serif\" font-size=\"14.00\" fill=\"#000000\">gini = 0.0</text>\n<text text-anchor=\"start\" x=\"2382.5\" y=\"-1168.8\" font-family=\"Helvetica,sans-Serif\" font-size=\"14.00\" fill=\"#000000\">samples = 14</text>\n<text text-anchor=\"start\" x=\"2381\" y=\"-1154.8\" font-family=\"Helvetica,sans-Serif\" font-size=\"14.00\" fill=\"#000000\">value = [14, 0]</text>\n<text text-anchor=\"start\" x=\"2394\" y=\"-1140.8\" font-family=\"Helvetica,sans-Serif\" font-size=\"14.00\" fill=\"#000000\">class = y</text>\n<text text-anchor=\"start\" x=\"2452\" y=\"-1140.8\" font-family=\"Helvetica,sans-Serif\" baseline-shift=\"sub\" font-size=\"14.00\" fill=\"#000000\">0</text>\n</g>\n<!-- 102&#45;&gt;106 -->\n<g id=\"edge106\" class=\"edge\">\n<title>102&#45;&gt;106</title>\n<path fill=\"none\" stroke=\"#000000\" d=\"M2384.5252,-1239.7677C2390.6268,-1228.8991 2397.2661,-1217.0729 2403.4258,-1206.1009\"/>\n<polygon fill=\"#000000\" stroke=\"#000000\" points=\"2406.6214,-1207.5584 2408.4648,-1197.1252 2400.5175,-1204.1317 2406.6214,-1207.5584\"/>\n</g>\n<!-- 104 -->\n<g id=\"node105\" class=\"node\">\n<title>104</title>\n<path fill=\"#e58139\" stroke=\"#000000\" d=\"M2339,-1083C2339,-1083 2264,-1083 2264,-1083 2258,-1083 2252,-1077 2252,-1071 2252,-1071 2252,-1031 2252,-1031 2252,-1025 2258,-1019 2264,-1019 2264,-1019 2339,-1019 2339,-1019 2345,-1019 2351,-1025 2351,-1031 2351,-1031 2351,-1071 2351,-1071 2351,-1077 2345,-1083 2339,-1083\"/>\n<text text-anchor=\"start\" x=\"2272\" y=\"-1068.8\" font-family=\"Helvetica,sans-Serif\" font-size=\"14.00\" fill=\"#000000\">gini = 0.0</text>\n<text text-anchor=\"start\" x=\"2262\" y=\"-1054.8\" font-family=\"Helvetica,sans-Serif\" font-size=\"14.00\" fill=\"#000000\">samples = 2</text>\n<text text-anchor=\"start\" x=\"2260\" y=\"-1040.8\" font-family=\"Helvetica,sans-Serif\" font-size=\"14.00\" fill=\"#000000\">value = [2, 0]</text>\n<text text-anchor=\"start\" x=\"2269\" y=\"-1026.8\" font-family=\"Helvetica,sans-Serif\" font-size=\"14.00\" fill=\"#000000\">class = y</text>\n<text text-anchor=\"start\" x=\"2327\" y=\"-1026.8\" font-family=\"Helvetica,sans-Serif\" baseline-shift=\"sub\" font-size=\"14.00\" fill=\"#000000\">0</text>\n</g>\n<!-- 103&#45;&gt;104 -->\n<g id=\"edge104\" class=\"edge\">\n<title>103&#45;&gt;104</title>\n<path fill=\"none\" stroke=\"#000000\" d=\"M2301.5,-1125.7677C2301.5,-1115.3338 2301.5,-1104.0174 2301.5,-1093.4215\"/>\n<polygon fill=\"#000000\" stroke=\"#000000\" points=\"2305.0001,-1093.1252 2301.5,-1083.1252 2298.0001,-1093.1252 2305.0001,-1093.1252\"/>\n</g>\n<!-- 105 -->\n<g id=\"node106\" class=\"node\">\n<title>105</title>\n<path fill=\"#399de5\" stroke=\"#000000\" d=\"M2456,-1083C2456,-1083 2381,-1083 2381,-1083 2375,-1083 2369,-1077 2369,-1071 2369,-1071 2369,-1031 2369,-1031 2369,-1025 2375,-1019 2381,-1019 2381,-1019 2456,-1019 2456,-1019 2462,-1019 2468,-1025 2468,-1031 2468,-1031 2468,-1071 2468,-1071 2468,-1077 2462,-1083 2456,-1083\"/>\n<text text-anchor=\"start\" x=\"2389\" y=\"-1068.8\" font-family=\"Helvetica,sans-Serif\" font-size=\"14.00\" fill=\"#000000\">gini = 0.0</text>\n<text text-anchor=\"start\" x=\"2379\" y=\"-1054.8\" font-family=\"Helvetica,sans-Serif\" font-size=\"14.00\" fill=\"#000000\">samples = 1</text>\n<text text-anchor=\"start\" x=\"2377\" y=\"-1040.8\" font-family=\"Helvetica,sans-Serif\" font-size=\"14.00\" fill=\"#000000\">value = [0, 1]</text>\n<text text-anchor=\"start\" x=\"2386\" y=\"-1026.8\" font-family=\"Helvetica,sans-Serif\" font-size=\"14.00\" fill=\"#000000\">class = y</text>\n<text text-anchor=\"start\" x=\"2444\" y=\"-1026.8\" font-family=\"Helvetica,sans-Serif\" baseline-shift=\"sub\" font-size=\"14.00\" fill=\"#000000\">1</text>\n</g>\n<!-- 103&#45;&gt;105 -->\n<g id=\"edge105\" class=\"edge\">\n<title>103&#45;&gt;105</title>\n<path fill=\"none\" stroke=\"#000000\" d=\"M2341.7648,-1125.7677C2353.5887,-1114.247 2366.5168,-1101.6503 2378.3345,-1090.1356\"/>\n<polygon fill=\"#000000\" stroke=\"#000000\" points=\"2380.8096,-1092.6107 2385.5294,-1083.1252 2375.9245,-1087.5971 2380.8096,-1092.6107\"/>\n</g>\n<!-- 108 -->\n<g id=\"node109\" class=\"node\">\n<title>108</title>\n<path fill=\"#399de5\" stroke=\"#000000\" d=\"M2585,-1197C2585,-1197 2510,-1197 2510,-1197 2504,-1197 2498,-1191 2498,-1185 2498,-1185 2498,-1145 2498,-1145 2498,-1139 2504,-1133 2510,-1133 2510,-1133 2585,-1133 2585,-1133 2591,-1133 2597,-1139 2597,-1145 2597,-1145 2597,-1185 2597,-1185 2597,-1191 2591,-1197 2585,-1197\"/>\n<text text-anchor=\"start\" x=\"2518\" y=\"-1182.8\" font-family=\"Helvetica,sans-Serif\" font-size=\"14.00\" fill=\"#000000\">gini = 0.0</text>\n<text text-anchor=\"start\" x=\"2508\" y=\"-1168.8\" font-family=\"Helvetica,sans-Serif\" font-size=\"14.00\" fill=\"#000000\">samples = 1</text>\n<text text-anchor=\"start\" x=\"2506\" y=\"-1154.8\" font-family=\"Helvetica,sans-Serif\" font-size=\"14.00\" fill=\"#000000\">value = [0, 1]</text>\n<text text-anchor=\"start\" x=\"2515\" y=\"-1140.8\" font-family=\"Helvetica,sans-Serif\" font-size=\"14.00\" fill=\"#000000\">class = y</text>\n<text text-anchor=\"start\" x=\"2573\" y=\"-1140.8\" font-family=\"Helvetica,sans-Serif\" baseline-shift=\"sub\" font-size=\"14.00\" fill=\"#000000\">1</text>\n</g>\n<!-- 107&#45;&gt;108 -->\n<g id=\"edge108\" class=\"edge\">\n<title>107&#45;&gt;108</title>\n<path fill=\"none\" stroke=\"#000000\" d=\"M2547.5,-1239.7677C2547.5,-1229.3338 2547.5,-1218.0174 2547.5,-1207.4215\"/>\n<polygon fill=\"#000000\" stroke=\"#000000\" points=\"2551.0001,-1207.1252 2547.5,-1197.1252 2544.0001,-1207.1252 2551.0001,-1207.1252\"/>\n</g>\n<!-- 109 -->\n<g id=\"node110\" class=\"node\">\n<title>109</title>\n<path fill=\"#e58139\" stroke=\"#000000\" d=\"M2702,-1197C2702,-1197 2627,-1197 2627,-1197 2621,-1197 2615,-1191 2615,-1185 2615,-1185 2615,-1145 2615,-1145 2615,-1139 2621,-1133 2627,-1133 2627,-1133 2702,-1133 2702,-1133 2708,-1133 2714,-1139 2714,-1145 2714,-1145 2714,-1185 2714,-1185 2714,-1191 2708,-1197 2702,-1197\"/>\n<text text-anchor=\"start\" x=\"2635\" y=\"-1182.8\" font-family=\"Helvetica,sans-Serif\" font-size=\"14.00\" fill=\"#000000\">gini = 0.0</text>\n<text text-anchor=\"start\" x=\"2625\" y=\"-1168.8\" font-family=\"Helvetica,sans-Serif\" font-size=\"14.00\" fill=\"#000000\">samples = 1</text>\n<text text-anchor=\"start\" x=\"2623\" y=\"-1154.8\" font-family=\"Helvetica,sans-Serif\" font-size=\"14.00\" fill=\"#000000\">value = [1, 0]</text>\n<text text-anchor=\"start\" x=\"2632\" y=\"-1140.8\" font-family=\"Helvetica,sans-Serif\" font-size=\"14.00\" fill=\"#000000\">class = y</text>\n<text text-anchor=\"start\" x=\"2690\" y=\"-1140.8\" font-family=\"Helvetica,sans-Serif\" baseline-shift=\"sub\" font-size=\"14.00\" fill=\"#000000\">0</text>\n</g>\n<!-- 107&#45;&gt;109 -->\n<g id=\"edge109\" class=\"edge\">\n<title>107&#45;&gt;109</title>\n<path fill=\"none\" stroke=\"#000000\" d=\"M2587.7648,-1239.7677C2599.5887,-1228.247 2612.5168,-1215.6503 2624.3345,-1204.1356\"/>\n<polygon fill=\"#000000\" stroke=\"#000000\" points=\"2626.8096,-1206.6107 2631.5294,-1197.1252 2621.9245,-1201.5971 2626.8096,-1206.6107\"/>\n</g>\n<!-- 111 -->\n<g id=\"node112\" class=\"node\">\n<title>111</title>\n<path fill=\"#b6dbf5\" stroke=\"#000000\" d=\"M2956.5,-1660C2956.5,-1660 2864.5,-1660 2864.5,-1660 2858.5,-1660 2852.5,-1654 2852.5,-1648 2852.5,-1648 2852.5,-1594 2852.5,-1594 2852.5,-1588 2858.5,-1582 2864.5,-1582 2864.5,-1582 2956.5,-1582 2956.5,-1582 2962.5,-1582 2968.5,-1588 2968.5,-1594 2968.5,-1594 2968.5,-1648 2968.5,-1648 2968.5,-1654 2962.5,-1660 2956.5,-1660\"/>\n<text text-anchor=\"start\" x=\"2873\" y=\"-1645.8\" font-family=\"Helvetica,sans-Serif\" font-size=\"14.00\" fill=\"#000000\">SibSp ≤ 2.0</text>\n<text text-anchor=\"start\" x=\"2872.5\" y=\"-1631.8\" font-family=\"Helvetica,sans-Serif\" font-size=\"14.00\" fill=\"#000000\">gini = 0.475</text>\n<text text-anchor=\"start\" x=\"2866.5\" y=\"-1617.8\" font-family=\"Helvetica,sans-Serif\" font-size=\"14.00\" fill=\"#000000\">samples = 31</text>\n<text text-anchor=\"start\" x=\"2860.5\" y=\"-1603.8\" font-family=\"Helvetica,sans-Serif\" font-size=\"14.00\" fill=\"#000000\">value = [12, 19]</text>\n<text text-anchor=\"start\" x=\"2878\" y=\"-1589.8\" font-family=\"Helvetica,sans-Serif\" font-size=\"14.00\" fill=\"#000000\">class = y</text>\n<text text-anchor=\"start\" x=\"2936\" y=\"-1589.8\" font-family=\"Helvetica,sans-Serif\" baseline-shift=\"sub\" font-size=\"14.00\" fill=\"#000000\">1</text>\n</g>\n<!-- 110&#45;&gt;111 -->\n<g id=\"edge111\" class=\"edge\">\n<title>110&#45;&gt;111</title>\n<path fill=\"none\" stroke=\"#000000\" d=\"M2910.5,-1695.7677C2910.5,-1687.6172 2910.5,-1678.9283 2910.5,-1670.4649\"/>\n<polygon fill=\"#000000\" stroke=\"#000000\" points=\"2914.0001,-1670.3046 2910.5,-1660.3046 2907.0001,-1670.3047 2914.0001,-1670.3046\"/>\n</g>\n<!-- 122 -->\n<g id=\"node123\" class=\"node\">\n<title>122</title>\n<path fill=\"#ea995f\" stroke=\"#000000\" d=\"M3612.5,-1660C3612.5,-1660 3512.5,-1660 3512.5,-1660 3506.5,-1660 3500.5,-1654 3500.5,-1648 3500.5,-1648 3500.5,-1594 3500.5,-1594 3500.5,-1588 3506.5,-1582 3512.5,-1582 3512.5,-1582 3612.5,-1582 3612.5,-1582 3618.5,-1582 3624.5,-1588 3624.5,-1594 3624.5,-1594 3624.5,-1648 3624.5,-1648 3624.5,-1654 3618.5,-1660 3612.5,-1660\"/>\n<text text-anchor=\"start\" x=\"3517\" y=\"-1645.8\" font-family=\"Helvetica,sans-Serif\" font-size=\"14.00\" fill=\"#000000\">Fare ≤ 26.269</text>\n<text text-anchor=\"start\" x=\"3524.5\" y=\"-1631.8\" font-family=\"Helvetica,sans-Serif\" font-size=\"14.00\" fill=\"#000000\">gini = 0.271</text>\n<text text-anchor=\"start\" x=\"3514.5\" y=\"-1617.8\" font-family=\"Helvetica,sans-Serif\" font-size=\"14.00\" fill=\"#000000\">samples = 434</text>\n<text text-anchor=\"start\" x=\"3508.5\" y=\"-1603.8\" font-family=\"Helvetica,sans-Serif\" font-size=\"14.00\" fill=\"#000000\">value = [364, 70]</text>\n<text text-anchor=\"start\" x=\"3530\" y=\"-1589.8\" font-family=\"Helvetica,sans-Serif\" font-size=\"14.00\" fill=\"#000000\">class = y</text>\n<text text-anchor=\"start\" x=\"3588\" y=\"-1589.8\" font-family=\"Helvetica,sans-Serif\" baseline-shift=\"sub\" font-size=\"14.00\" fill=\"#000000\">0</text>\n</g>\n<!-- 110&#45;&gt;122 -->\n<g id=\"edge122\" class=\"edge\">\n<title>110&#45;&gt;122</title>\n<path fill=\"none\" stroke=\"#000000\" d=\"M2972.7212,-1724.1208C3093.8957,-1702.9339 3360.9317,-1656.2435 3489.9319,-1633.6883\"/>\n<polygon fill=\"#000000\" stroke=\"#000000\" points=\"3490.8553,-1637.08 3500.103,-1631.9099 3489.6496,-1630.1846 3490.8553,-1637.08\"/>\n</g>\n<!-- 112 -->\n<g id=\"node113\" class=\"node\">\n<title>112</title>\n<path fill=\"#44a2e6\" stroke=\"#000000\" d=\"M2890,-1546C2890,-1546 2807,-1546 2807,-1546 2801,-1546 2795,-1540 2795,-1534 2795,-1534 2795,-1480 2795,-1480 2795,-1474 2801,-1468 2807,-1468 2807,-1468 2890,-1468 2890,-1468 2896,-1468 2902,-1474 2902,-1480 2902,-1480 2902,-1534 2902,-1534 2902,-1540 2896,-1546 2890,-1546\"/>\n<text text-anchor=\"start\" x=\"2811.5\" y=\"-1531.8\" font-family=\"Helvetica,sans-Serif\" font-size=\"14.00\" fill=\"#000000\">Parch ≤ 0.5</text>\n<text text-anchor=\"start\" x=\"2819\" y=\"-1517.8\" font-family=\"Helvetica,sans-Serif\" font-size=\"14.00\" fill=\"#000000\">gini = 0.1</text>\n<text text-anchor=\"start\" x=\"2804.5\" y=\"-1503.8\" font-family=\"Helvetica,sans-Serif\" font-size=\"14.00\" fill=\"#000000\">samples = 19</text>\n<text text-anchor=\"start\" x=\"2803\" y=\"-1489.8\" font-family=\"Helvetica,sans-Serif\" font-size=\"14.00\" fill=\"#000000\">value = [1, 18]</text>\n<text text-anchor=\"start\" x=\"2816\" y=\"-1475.8\" font-family=\"Helvetica,sans-Serif\" font-size=\"14.00\" fill=\"#000000\">class = y</text>\n<text text-anchor=\"start\" x=\"2874\" y=\"-1475.8\" font-family=\"Helvetica,sans-Serif\" baseline-shift=\"sub\" font-size=\"14.00\" fill=\"#000000\">1</text>\n</g>\n<!-- 111&#45;&gt;112 -->\n<g id=\"edge112\" class=\"edge\">\n<title>111&#45;&gt;112</title>\n<path fill=\"none\" stroke=\"#000000\" d=\"M2889.1631,-1581.7677C2884.5356,-1573.259 2879.5888,-1564.1634 2874.7957,-1555.3502\"/>\n<polygon fill=\"#000000\" stroke=\"#000000\" points=\"2877.7287,-1553.4173 2869.8762,-1546.3046 2871.5793,-1556.7617 2877.7287,-1553.4173\"/>\n</g>\n<!-- 117 -->\n<g id=\"node118\" class=\"node\">\n<title>117</title>\n<path fill=\"#e78c4b\" stroke=\"#000000\" d=\"M3015,-1546C3015,-1546 2932,-1546 2932,-1546 2926,-1546 2920,-1540 2920,-1534 2920,-1534 2920,-1480 2920,-1480 2920,-1474 2926,-1468 2932,-1468 2932,-1468 3015,-1468 3015,-1468 3021,-1468 3027,-1474 3027,-1480 3027,-1480 3027,-1534 3027,-1534 3027,-1540 3021,-1546 3015,-1546\"/>\n<text text-anchor=\"start\" x=\"2942.5\" y=\"-1531.8\" font-family=\"Helvetica,sans-Serif\" font-size=\"14.00\" fill=\"#000000\">Age ≤ 3.5</text>\n<text text-anchor=\"start\" x=\"2935.5\" y=\"-1517.8\" font-family=\"Helvetica,sans-Serif\" font-size=\"14.00\" fill=\"#000000\">gini = 0.153</text>\n<text text-anchor=\"start\" x=\"2929.5\" y=\"-1503.8\" font-family=\"Helvetica,sans-Serif\" font-size=\"14.00\" fill=\"#000000\">samples = 12</text>\n<text text-anchor=\"start\" x=\"2928\" y=\"-1489.8\" font-family=\"Helvetica,sans-Serif\" font-size=\"14.00\" fill=\"#000000\">value = [11, 1]</text>\n<text text-anchor=\"start\" x=\"2941\" y=\"-1475.8\" font-family=\"Helvetica,sans-Serif\" font-size=\"14.00\" fill=\"#000000\">class = y</text>\n<text text-anchor=\"start\" x=\"2999\" y=\"-1475.8\" font-family=\"Helvetica,sans-Serif\" baseline-shift=\"sub\" font-size=\"14.00\" fill=\"#000000\">0</text>\n</g>\n<!-- 111&#45;&gt;117 -->\n<g id=\"edge117\" class=\"edge\">\n<title>111&#45;&gt;117</title>\n<path fill=\"none\" stroke=\"#000000\" d=\"M2932.181,-1581.7677C2936.9327,-1573.1694 2942.0156,-1563.9718 2946.9339,-1555.072\"/>\n<polygon fill=\"#000000\" stroke=\"#000000\" points=\"2950.0054,-1556.75 2951.779,-1546.3046 2943.8787,-1553.3642 2950.0054,-1556.75\"/>\n</g>\n<!-- 113 -->\n<g id=\"node114\" class=\"node\">\n<title>113</title>\n<path fill=\"#ffffff\" stroke=\"#000000\" d=\"M2767,-1432C2767,-1432 2692,-1432 2692,-1432 2686,-1432 2680,-1426 2680,-1420 2680,-1420 2680,-1366 2680,-1366 2680,-1360 2686,-1354 2692,-1354 2692,-1354 2767,-1354 2767,-1354 2773,-1354 2779,-1360 2779,-1366 2779,-1366 2779,-1420 2779,-1420 2779,-1426 2773,-1432 2767,-1432\"/>\n<text text-anchor=\"start\" x=\"2692\" y=\"-1417.8\" font-family=\"Helvetica,sans-Serif\" font-size=\"14.00\" fill=\"#000000\">SibSp ≤ 0.5</text>\n<text text-anchor=\"start\" x=\"2700\" y=\"-1403.8\" font-family=\"Helvetica,sans-Serif\" font-size=\"14.00\" fill=\"#000000\">gini = 0.5</text>\n<text text-anchor=\"start\" x=\"2690\" y=\"-1389.8\" font-family=\"Helvetica,sans-Serif\" font-size=\"14.00\" fill=\"#000000\">samples = 2</text>\n<text text-anchor=\"start\" x=\"2688\" y=\"-1375.8\" font-family=\"Helvetica,sans-Serif\" font-size=\"14.00\" fill=\"#000000\">value = [1, 1]</text>\n<text text-anchor=\"start\" x=\"2697\" y=\"-1361.8\" font-family=\"Helvetica,sans-Serif\" font-size=\"14.00\" fill=\"#000000\">class = y</text>\n<text text-anchor=\"start\" x=\"2755\" y=\"-1361.8\" font-family=\"Helvetica,sans-Serif\" baseline-shift=\"sub\" font-size=\"14.00\" fill=\"#000000\">0</text>\n</g>\n<!-- 112&#45;&gt;113 -->\n<g id=\"edge113\" class=\"edge\">\n<title>112&#45;&gt;113</title>\n<path fill=\"none\" stroke=\"#000000\" d=\"M2807.547,-1467.7677C2798.0106,-1458.632 2787.768,-1448.8198 2777.9424,-1439.407\"/>\n<polygon fill=\"#000000\" stroke=\"#000000\" points=\"2780.1709,-1436.695 2770.5285,-1432.3046 2775.3285,-1441.7498 2780.1709,-1436.695\"/>\n</g>\n<!-- 116 -->\n<g id=\"node117\" class=\"node\">\n<title>116</title>\n<path fill=\"#399de5\" stroke=\"#000000\" d=\"M2892,-1425C2892,-1425 2809,-1425 2809,-1425 2803,-1425 2797,-1419 2797,-1413 2797,-1413 2797,-1373 2797,-1373 2797,-1367 2803,-1361 2809,-1361 2809,-1361 2892,-1361 2892,-1361 2898,-1361 2904,-1367 2904,-1373 2904,-1373 2904,-1413 2904,-1413 2904,-1419 2898,-1425 2892,-1425\"/>\n<text text-anchor=\"start\" x=\"2821\" y=\"-1410.8\" font-family=\"Helvetica,sans-Serif\" font-size=\"14.00\" fill=\"#000000\">gini = 0.0</text>\n<text text-anchor=\"start\" x=\"2806.5\" y=\"-1396.8\" font-family=\"Helvetica,sans-Serif\" font-size=\"14.00\" fill=\"#000000\">samples = 17</text>\n<text text-anchor=\"start\" x=\"2805\" y=\"-1382.8\" font-family=\"Helvetica,sans-Serif\" font-size=\"14.00\" fill=\"#000000\">value = [0, 17]</text>\n<text text-anchor=\"start\" x=\"2818\" y=\"-1368.8\" font-family=\"Helvetica,sans-Serif\" font-size=\"14.00\" fill=\"#000000\">class = y</text>\n<text text-anchor=\"start\" x=\"2876\" y=\"-1368.8\" font-family=\"Helvetica,sans-Serif\" baseline-shift=\"sub\" font-size=\"14.00\" fill=\"#000000\">1</text>\n</g>\n<!-- 112&#45;&gt;116 -->\n<g id=\"edge116\" class=\"edge\">\n<title>112&#45;&gt;116</title>\n<path fill=\"none\" stroke=\"#000000\" d=\"M2849.1883,-1467.7677C2849.3713,-1457.3338 2849.5699,-1446.0174 2849.7558,-1435.4215\"/>\n<polygon fill=\"#000000\" stroke=\"#000000\" points=\"2853.2604,-1435.1851 2849.9364,-1425.1252 2846.2614,-1435.0622 2853.2604,-1435.1851\"/>\n</g>\n<!-- 114 -->\n<g id=\"node115\" class=\"node\">\n<title>114</title>\n<path fill=\"#e58139\" stroke=\"#000000\" d=\"M2711,-1311C2711,-1311 2636,-1311 2636,-1311 2630,-1311 2624,-1305 2624,-1299 2624,-1299 2624,-1259 2624,-1259 2624,-1253 2630,-1247 2636,-1247 2636,-1247 2711,-1247 2711,-1247 2717,-1247 2723,-1253 2723,-1259 2723,-1259 2723,-1299 2723,-1299 2723,-1305 2717,-1311 2711,-1311\"/>\n<text text-anchor=\"start\" x=\"2644\" y=\"-1296.8\" font-family=\"Helvetica,sans-Serif\" font-size=\"14.00\" fill=\"#000000\">gini = 0.0</text>\n<text text-anchor=\"start\" x=\"2634\" y=\"-1282.8\" font-family=\"Helvetica,sans-Serif\" font-size=\"14.00\" fill=\"#000000\">samples = 1</text>\n<text text-anchor=\"start\" x=\"2632\" y=\"-1268.8\" font-family=\"Helvetica,sans-Serif\" font-size=\"14.00\" fill=\"#000000\">value = [1, 0]</text>\n<text text-anchor=\"start\" x=\"2641\" y=\"-1254.8\" font-family=\"Helvetica,sans-Serif\" font-size=\"14.00\" fill=\"#000000\">class = y</text>\n<text text-anchor=\"start\" x=\"2699\" y=\"-1254.8\" font-family=\"Helvetica,sans-Serif\" baseline-shift=\"sub\" font-size=\"14.00\" fill=\"#000000\">0</text>\n</g>\n<!-- 113&#45;&gt;114 -->\n<g id=\"edge114\" class=\"edge\">\n<title>113&#45;&gt;114</title>\n<path fill=\"none\" stroke=\"#000000\" d=\"M2710.228,-1353.7677C2704.889,-1342.8991 2699.0796,-1331.0729 2693.6899,-1320.1009\"/>\n<polygon fill=\"#000000\" stroke=\"#000000\" points=\"2696.8313,-1318.5576 2689.2808,-1311.1252 2690.5485,-1321.6439 2696.8313,-1318.5576\"/>\n</g>\n<!-- 115 -->\n<g id=\"node116\" class=\"node\">\n<title>115</title>\n<path fill=\"#399de5\" stroke=\"#000000\" d=\"M2828,-1311C2828,-1311 2753,-1311 2753,-1311 2747,-1311 2741,-1305 2741,-1299 2741,-1299 2741,-1259 2741,-1259 2741,-1253 2747,-1247 2753,-1247 2753,-1247 2828,-1247 2828,-1247 2834,-1247 2840,-1253 2840,-1259 2840,-1259 2840,-1299 2840,-1299 2840,-1305 2834,-1311 2828,-1311\"/>\n<text text-anchor=\"start\" x=\"2761\" y=\"-1296.8\" font-family=\"Helvetica,sans-Serif\" font-size=\"14.00\" fill=\"#000000\">gini = 0.0</text>\n<text text-anchor=\"start\" x=\"2751\" y=\"-1282.8\" font-family=\"Helvetica,sans-Serif\" font-size=\"14.00\" fill=\"#000000\">samples = 1</text>\n<text text-anchor=\"start\" x=\"2749\" y=\"-1268.8\" font-family=\"Helvetica,sans-Serif\" font-size=\"14.00\" fill=\"#000000\">value = [0, 1]</text>\n<text text-anchor=\"start\" x=\"2758\" y=\"-1254.8\" font-family=\"Helvetica,sans-Serif\" font-size=\"14.00\" fill=\"#000000\">class = y</text>\n<text text-anchor=\"start\" x=\"2816\" y=\"-1254.8\" font-family=\"Helvetica,sans-Serif\" baseline-shift=\"sub\" font-size=\"14.00\" fill=\"#000000\">1</text>\n</g>\n<!-- 113&#45;&gt;115 -->\n<g id=\"edge115\" class=\"edge\">\n<title>113&#45;&gt;115</title>\n<path fill=\"none\" stroke=\"#000000\" d=\"M2750.4927,-1353.7677C2756.3084,-1342.8991 2762.6365,-1331.0729 2768.5074,-1320.1009\"/>\n<polygon fill=\"#000000\" stroke=\"#000000\" points=\"2771.6782,-1321.5936 2773.3102,-1311.1252 2765.5062,-1318.291 2771.6782,-1321.5936\"/>\n</g>\n<!-- 118 -->\n<g id=\"node119\" class=\"node\">\n<title>118</title>\n<path fill=\"#f2c09c\" stroke=\"#000000\" d=\"M3010,-1432C3010,-1432 2935,-1432 2935,-1432 2929,-1432 2923,-1426 2923,-1420 2923,-1420 2923,-1366 2923,-1366 2923,-1360 2929,-1354 2935,-1354 2935,-1354 3010,-1354 3010,-1354 3016,-1354 3022,-1360 3022,-1366 3022,-1366 3022,-1420 3022,-1420 3022,-1426 3016,-1432 3010,-1432\"/>\n<text text-anchor=\"start\" x=\"2941.5\" y=\"-1417.8\" font-family=\"Helvetica,sans-Serif\" font-size=\"14.00\" fill=\"#000000\">Age ≤ 2.5</text>\n<text text-anchor=\"start\" x=\"2934.5\" y=\"-1403.8\" font-family=\"Helvetica,sans-Serif\" font-size=\"14.00\" fill=\"#000000\">gini = 0.444</text>\n<text text-anchor=\"start\" x=\"2933\" y=\"-1389.8\" font-family=\"Helvetica,sans-Serif\" font-size=\"14.00\" fill=\"#000000\">samples = 3</text>\n<text text-anchor=\"start\" x=\"2931\" y=\"-1375.8\" font-family=\"Helvetica,sans-Serif\" font-size=\"14.00\" fill=\"#000000\">value = [2, 1]</text>\n<text text-anchor=\"start\" x=\"2940\" y=\"-1361.8\" font-family=\"Helvetica,sans-Serif\" font-size=\"14.00\" fill=\"#000000\">class = y</text>\n<text text-anchor=\"start\" x=\"2998\" y=\"-1361.8\" font-family=\"Helvetica,sans-Serif\" baseline-shift=\"sub\" font-size=\"14.00\" fill=\"#000000\">0</text>\n</g>\n<!-- 117&#45;&gt;118 -->\n<g id=\"edge118\" class=\"edge\">\n<title>117&#45;&gt;118</title>\n<path fill=\"none\" stroke=\"#000000\" d=\"M2973.1559,-1467.7677C2973.0844,-1459.6172 2973.0081,-1450.9283 2972.9339,-1442.4649\"/>\n<polygon fill=\"#000000\" stroke=\"#000000\" points=\"2976.4325,-1442.2735 2972.8448,-1432.3046 2969.4327,-1442.335 2976.4325,-1442.2735\"/>\n</g>\n<!-- 121 -->\n<g id=\"node122\" class=\"node\">\n<title>121</title>\n<path fill=\"#e58139\" stroke=\"#000000\" d=\"M3127,-1425C3127,-1425 3052,-1425 3052,-1425 3046,-1425 3040,-1419 3040,-1413 3040,-1413 3040,-1373 3040,-1373 3040,-1367 3046,-1361 3052,-1361 3052,-1361 3127,-1361 3127,-1361 3133,-1361 3139,-1367 3139,-1373 3139,-1373 3139,-1413 3139,-1413 3139,-1419 3133,-1425 3127,-1425\"/>\n<text text-anchor=\"start\" x=\"3060\" y=\"-1410.8\" font-family=\"Helvetica,sans-Serif\" font-size=\"14.00\" fill=\"#000000\">gini = 0.0</text>\n<text text-anchor=\"start\" x=\"3050\" y=\"-1396.8\" font-family=\"Helvetica,sans-Serif\" font-size=\"14.00\" fill=\"#000000\">samples = 9</text>\n<text text-anchor=\"start\" x=\"3048\" y=\"-1382.8\" font-family=\"Helvetica,sans-Serif\" font-size=\"14.00\" fill=\"#000000\">value = [9, 0]</text>\n<text text-anchor=\"start\" x=\"3057\" y=\"-1368.8\" font-family=\"Helvetica,sans-Serif\" font-size=\"14.00\" fill=\"#000000\">class = y</text>\n<text text-anchor=\"start\" x=\"3115\" y=\"-1368.8\" font-family=\"Helvetica,sans-Serif\" baseline-shift=\"sub\" font-size=\"14.00\" fill=\"#000000\">0</text>\n</g>\n<!-- 117&#45;&gt;121 -->\n<g id=\"edge121\" class=\"edge\">\n<title>117&#45;&gt;121</title>\n<path fill=\"none\" stroke=\"#000000\" d=\"M3013.4206,-1467.7677C3025.1435,-1456.247 3037.9611,-1443.6503 3049.6778,-1432.1356\"/>\n<polygon fill=\"#000000\" stroke=\"#000000\" points=\"3052.1322,-1434.6309 3056.8112,-1425.1252 3047.2256,-1429.6382 3052.1322,-1434.6309\"/>\n</g>\n<!-- 119 -->\n<g id=\"node120\" class=\"node\">\n<title>119</title>\n<path fill=\"#e58139\" stroke=\"#000000\" d=\"M2947,-1311C2947,-1311 2872,-1311 2872,-1311 2866,-1311 2860,-1305 2860,-1299 2860,-1299 2860,-1259 2860,-1259 2860,-1253 2866,-1247 2872,-1247 2872,-1247 2947,-1247 2947,-1247 2953,-1247 2959,-1253 2959,-1259 2959,-1259 2959,-1299 2959,-1299 2959,-1305 2953,-1311 2947,-1311\"/>\n<text text-anchor=\"start\" x=\"2880\" y=\"-1296.8\" font-family=\"Helvetica,sans-Serif\" font-size=\"14.00\" fill=\"#000000\">gini = 0.0</text>\n<text text-anchor=\"start\" x=\"2870\" y=\"-1282.8\" font-family=\"Helvetica,sans-Serif\" font-size=\"14.00\" fill=\"#000000\">samples = 2</text>\n<text text-anchor=\"start\" x=\"2868\" y=\"-1268.8\" font-family=\"Helvetica,sans-Serif\" font-size=\"14.00\" fill=\"#000000\">value = [2, 0]</text>\n<text text-anchor=\"start\" x=\"2877\" y=\"-1254.8\" font-family=\"Helvetica,sans-Serif\" font-size=\"14.00\" fill=\"#000000\">class = y</text>\n<text text-anchor=\"start\" x=\"2935\" y=\"-1254.8\" font-family=\"Helvetica,sans-Serif\" baseline-shift=\"sub\" font-size=\"14.00\" fill=\"#000000\">0</text>\n</g>\n<!-- 118&#45;&gt;119 -->\n<g id=\"edge119\" class=\"edge\">\n<title>118&#45;&gt;119</title>\n<path fill=\"none\" stroke=\"#000000\" d=\"M2950.819,-1353.7677C2944.8126,-1342.8991 2938.2771,-1331.0729 2932.2137,-1320.1009\"/>\n<polygon fill=\"#000000\" stroke=\"#000000\" points=\"2935.1537,-1318.1847 2927.2534,-1311.1252 2929.027,-1321.5705 2935.1537,-1318.1847\"/>\n</g>\n<!-- 120 -->\n<g id=\"node121\" class=\"node\">\n<title>120</title>\n<path fill=\"#399de5\" stroke=\"#000000\" d=\"M3064,-1311C3064,-1311 2989,-1311 2989,-1311 2983,-1311 2977,-1305 2977,-1299 2977,-1299 2977,-1259 2977,-1259 2977,-1253 2983,-1247 2989,-1247 2989,-1247 3064,-1247 3064,-1247 3070,-1247 3076,-1253 3076,-1259 3076,-1259 3076,-1299 3076,-1299 3076,-1305 3070,-1311 3064,-1311\"/>\n<text text-anchor=\"start\" x=\"2997\" y=\"-1296.8\" font-family=\"Helvetica,sans-Serif\" font-size=\"14.00\" fill=\"#000000\">gini = 0.0</text>\n<text text-anchor=\"start\" x=\"2987\" y=\"-1282.8\" font-family=\"Helvetica,sans-Serif\" font-size=\"14.00\" fill=\"#000000\">samples = 1</text>\n<text text-anchor=\"start\" x=\"2985\" y=\"-1268.8\" font-family=\"Helvetica,sans-Serif\" font-size=\"14.00\" fill=\"#000000\">value = [0, 1]</text>\n<text text-anchor=\"start\" x=\"2994\" y=\"-1254.8\" font-family=\"Helvetica,sans-Serif\" font-size=\"14.00\" fill=\"#000000\">class = y</text>\n<text text-anchor=\"start\" x=\"3052\" y=\"-1254.8\" font-family=\"Helvetica,sans-Serif\" baseline-shift=\"sub\" font-size=\"14.00\" fill=\"#000000\">1</text>\n</g>\n<!-- 118&#45;&gt;120 -->\n<g id=\"edge120\" class=\"edge\">\n<title>118&#45;&gt;120</title>\n<path fill=\"none\" stroke=\"#000000\" d=\"M2991.0837,-1353.7677C2996.1805,-1343.0078 3001.7219,-1331.3093 3006.8751,-1320.4303\"/>\n<polygon fill=\"#000000\" stroke=\"#000000\" points=\"3010.165,-1321.6609 3011.2828,-1311.1252 3003.8388,-1318.6643 3010.165,-1321.6609\"/>\n</g>\n<!-- 123 -->\n<g id=\"node124\" class=\"node\">\n<title>123</title>\n<path fill=\"#e88f50\" stroke=\"#000000\" d=\"M3612.5,-1546C3612.5,-1546 3512.5,-1546 3512.5,-1546 3506.5,-1546 3500.5,-1540 3500.5,-1534 3500.5,-1534 3500.5,-1480 3500.5,-1480 3500.5,-1474 3506.5,-1468 3512.5,-1468 3512.5,-1468 3612.5,-1468 3612.5,-1468 3618.5,-1468 3624.5,-1474 3624.5,-1480 3624.5,-1480 3624.5,-1534 3624.5,-1534 3624.5,-1540 3618.5,-1546 3612.5,-1546\"/>\n<text text-anchor=\"start\" x=\"3527.5\" y=\"-1531.8\" font-family=\"Helvetica,sans-Serif\" font-size=\"14.00\" fill=\"#000000\">Age ≤ 32.5</text>\n<text text-anchor=\"start\" x=\"3524.5\" y=\"-1517.8\" font-family=\"Helvetica,sans-Serif\" font-size=\"14.00\" fill=\"#000000\">gini = 0.184</text>\n<text text-anchor=\"start\" x=\"3514.5\" y=\"-1503.8\" font-family=\"Helvetica,sans-Serif\" font-size=\"14.00\" fill=\"#000000\">samples = 321</text>\n<text text-anchor=\"start\" x=\"3508.5\" y=\"-1489.8\" font-family=\"Helvetica,sans-Serif\" font-size=\"14.00\" fill=\"#000000\">value = [288, 33]</text>\n<text text-anchor=\"start\" x=\"3530\" y=\"-1475.8\" font-family=\"Helvetica,sans-Serif\" font-size=\"14.00\" fill=\"#000000\">class = y</text>\n<text text-anchor=\"start\" x=\"3588\" y=\"-1475.8\" font-family=\"Helvetica,sans-Serif\" baseline-shift=\"sub\" font-size=\"14.00\" fill=\"#000000\">0</text>\n</g>\n<!-- 122&#45;&gt;123 -->\n<g id=\"edge123\" class=\"edge\">\n<title>122&#45;&gt;123</title>\n<path fill=\"none\" stroke=\"#000000\" d=\"M3562.5,-1581.7677C3562.5,-1573.6172 3562.5,-1564.9283 3562.5,-1556.4649\"/>\n<polygon fill=\"#000000\" stroke=\"#000000\" points=\"3566.0001,-1556.3046 3562.5,-1546.3046 3559.0001,-1556.3047 3566.0001,-1556.3046\"/>\n</g>\n<!-- 242 -->\n<g id=\"node243\" class=\"node\">\n<title>242</title>\n<path fill=\"#f2be99\" stroke=\"#000000\" d=\"M4804.5,-1546C4804.5,-1546 4712.5,-1546 4712.5,-1546 4706.5,-1546 4700.5,-1540 4700.5,-1534 4700.5,-1534 4700.5,-1480 4700.5,-1480 4700.5,-1474 4706.5,-1468 4712.5,-1468 4712.5,-1468 4804.5,-1468 4804.5,-1468 4810.5,-1468 4816.5,-1474 4816.5,-1480 4816.5,-1480 4816.5,-1534 4816.5,-1534 4816.5,-1540 4810.5,-1546 4804.5,-1546\"/>\n<text text-anchor=\"start\" x=\"4723.5\" y=\"-1531.8\" font-family=\"Helvetica,sans-Serif\" font-size=\"14.00\" fill=\"#000000\">Age ≤ 37.5</text>\n<text text-anchor=\"start\" x=\"4725\" y=\"-1517.8\" font-family=\"Helvetica,sans-Serif\" font-size=\"14.00\" fill=\"#000000\">gini = 0.44</text>\n<text text-anchor=\"start\" x=\"4710.5\" y=\"-1503.8\" font-family=\"Helvetica,sans-Serif\" font-size=\"14.00\" fill=\"#000000\">samples = 113</text>\n<text text-anchor=\"start\" x=\"4708.5\" y=\"-1489.8\" font-family=\"Helvetica,sans-Serif\" font-size=\"14.00\" fill=\"#000000\">value = [76, 37]</text>\n<text text-anchor=\"start\" x=\"4726\" y=\"-1475.8\" font-family=\"Helvetica,sans-Serif\" font-size=\"14.00\" fill=\"#000000\">class = y</text>\n<text text-anchor=\"start\" x=\"4784\" y=\"-1475.8\" font-family=\"Helvetica,sans-Serif\" baseline-shift=\"sub\" font-size=\"14.00\" fill=\"#000000\">0</text>\n</g>\n<!-- 122&#45;&gt;242 -->\n<g id=\"edge242\" class=\"edge\">\n<title>122&#45;&gt;242</title>\n<path fill=\"none\" stroke=\"#000000\" d=\"M3624.7003,-1615.0712C3828.855,-1595.6116 4477.5421,-1533.7803 4690.2357,-1513.5068\"/>\n<polygon fill=\"#000000\" stroke=\"#000000\" points=\"4690.7082,-1516.9777 4700.331,-1512.5445 4690.0439,-1510.0093 4690.7082,-1516.9777\"/>\n</g>\n<!-- 124 -->\n<g id=\"node125\" class=\"node\">\n<title>124</title>\n<path fill=\"#e99254\" stroke=\"#000000\" d=\"M3449.5,-1432C3449.5,-1432 3349.5,-1432 3349.5,-1432 3343.5,-1432 3337.5,-1426 3337.5,-1420 3337.5,-1420 3337.5,-1366 3337.5,-1366 3337.5,-1360 3343.5,-1354 3349.5,-1354 3349.5,-1354 3449.5,-1354 3449.5,-1354 3455.5,-1354 3461.5,-1360 3461.5,-1366 3461.5,-1366 3461.5,-1420 3461.5,-1420 3461.5,-1426 3455.5,-1432 3449.5,-1432\"/>\n<text text-anchor=\"start\" x=\"3360\" y=\"-1417.8\" font-family=\"Helvetica,sans-Serif\" font-size=\"14.00\" fill=\"#000000\">Age ≤ 30.62</text>\n<text text-anchor=\"start\" x=\"3361.5\" y=\"-1403.8\" font-family=\"Helvetica,sans-Serif\" font-size=\"14.00\" fill=\"#000000\">gini = 0.214</text>\n<text text-anchor=\"start\" x=\"3351.5\" y=\"-1389.8\" font-family=\"Helvetica,sans-Serif\" font-size=\"14.00\" fill=\"#000000\">samples = 230</text>\n<text text-anchor=\"start\" x=\"3345.5\" y=\"-1375.8\" font-family=\"Helvetica,sans-Serif\" font-size=\"14.00\" fill=\"#000000\">value = [202, 28]</text>\n<text text-anchor=\"start\" x=\"3367\" y=\"-1361.8\" font-family=\"Helvetica,sans-Serif\" font-size=\"14.00\" fill=\"#000000\">class = y</text>\n<text text-anchor=\"start\" x=\"3425\" y=\"-1361.8\" font-family=\"Helvetica,sans-Serif\" baseline-shift=\"sub\" font-size=\"14.00\" fill=\"#000000\">0</text>\n</g>\n<!-- 123&#45;&gt;124 -->\n<g id=\"edge124\" class=\"edge\">\n<title>123&#45;&gt;124</title>\n<path fill=\"none\" stroke=\"#000000\" d=\"M3506.4046,-1467.7677C3492.625,-1458.1303 3477.7687,-1447.7401 3463.6421,-1437.8601\"/>\n<polygon fill=\"#000000\" stroke=\"#000000\" points=\"3465.6232,-1434.9746 3455.4225,-1432.1115 3461.6113,-1440.7109 3465.6232,-1434.9746\"/>\n</g>\n<!-- 219 -->\n<g id=\"node220\" class=\"node\">\n<title>219</title>\n<path fill=\"#e78845\" stroke=\"#000000\" d=\"M3768,-1432C3768,-1432 3685,-1432 3685,-1432 3679,-1432 3673,-1426 3673,-1420 3673,-1420 3673,-1366 3673,-1366 3673,-1360 3679,-1354 3685,-1354 3685,-1354 3768,-1354 3768,-1354 3774,-1354 3780,-1360 3780,-1366 3780,-1366 3780,-1420 3780,-1420 3780,-1426 3774,-1432 3768,-1432\"/>\n<text text-anchor=\"start\" x=\"3689.5\" y=\"-1417.8\" font-family=\"Helvetica,sans-Serif\" font-size=\"14.00\" fill=\"#000000\">Fare ≤ 7.91</text>\n<text text-anchor=\"start\" x=\"3688.5\" y=\"-1403.8\" font-family=\"Helvetica,sans-Serif\" font-size=\"14.00\" fill=\"#000000\">gini = 0.104</text>\n<text text-anchor=\"start\" x=\"3682.5\" y=\"-1389.8\" font-family=\"Helvetica,sans-Serif\" font-size=\"14.00\" fill=\"#000000\">samples = 91</text>\n<text text-anchor=\"start\" x=\"3681\" y=\"-1375.8\" font-family=\"Helvetica,sans-Serif\" font-size=\"14.00\" fill=\"#000000\">value = [86, 5]</text>\n<text text-anchor=\"start\" x=\"3694\" y=\"-1361.8\" font-family=\"Helvetica,sans-Serif\" font-size=\"14.00\" fill=\"#000000\">class = y</text>\n<text text-anchor=\"start\" x=\"3752\" y=\"-1361.8\" font-family=\"Helvetica,sans-Serif\" baseline-shift=\"sub\" font-size=\"14.00\" fill=\"#000000\">0</text>\n</g>\n<!-- 123&#45;&gt;219 -->\n<g id=\"edge219\" class=\"edge\">\n<title>123&#45;&gt;219</title>\n<path fill=\"none\" stroke=\"#000000\" d=\"M3618.9395,-1467.7677C3633.7151,-1457.4968 3649.7209,-1446.3708 3664.7572,-1435.9187\"/>\n<polygon fill=\"#000000\" stroke=\"#000000\" points=\"3666.7837,-1438.7727 3672.9971,-1430.1911 3662.7882,-1433.0249 3666.7837,-1438.7727\"/>\n</g>\n<!-- 125 -->\n<g id=\"node126\" class=\"node\">\n<title>125</title>\n<path fill=\"#e88f4f\" stroke=\"#000000\" d=\"M3207.5,-1318C3207.5,-1318 3107.5,-1318 3107.5,-1318 3101.5,-1318 3095.5,-1312 3095.5,-1306 3095.5,-1306 3095.5,-1252 3095.5,-1252 3095.5,-1246 3101.5,-1240 3107.5,-1240 3107.5,-1240 3207.5,-1240 3207.5,-1240 3213.5,-1240 3219.5,-1246 3219.5,-1252 3219.5,-1252 3219.5,-1306 3219.5,-1306 3219.5,-1312 3213.5,-1318 3207.5,-1318\"/>\n<text text-anchor=\"start\" x=\"3118\" y=\"-1303.8\" font-family=\"Helvetica,sans-Serif\" font-size=\"14.00\" fill=\"#000000\">Pclass ≤ 2.5</text>\n<text text-anchor=\"start\" x=\"3119.5\" y=\"-1289.8\" font-family=\"Helvetica,sans-Serif\" font-size=\"14.00\" fill=\"#000000\">gini = 0.178</text>\n<text text-anchor=\"start\" x=\"3109.5\" y=\"-1275.8\" font-family=\"Helvetica,sans-Serif\" font-size=\"14.00\" fill=\"#000000\">samples = 213</text>\n<text text-anchor=\"start\" x=\"3103.5\" y=\"-1261.8\" font-family=\"Helvetica,sans-Serif\" font-size=\"14.00\" fill=\"#000000\">value = [192, 21]</text>\n<text text-anchor=\"start\" x=\"3125\" y=\"-1247.8\" font-family=\"Helvetica,sans-Serif\" font-size=\"14.00\" fill=\"#000000\">class = y</text>\n<text text-anchor=\"start\" x=\"3183\" y=\"-1247.8\" font-family=\"Helvetica,sans-Serif\" baseline-shift=\"sub\" font-size=\"14.00\" fill=\"#000000\">0</text>\n</g>\n<!-- 124&#45;&gt;125 -->\n<g id=\"edge125\" class=\"edge\">\n<title>124&#45;&gt;125</title>\n<path fill=\"none\" stroke=\"#000000\" d=\"M3337.4932,-1363.7902C3304.3264,-1348.1662 3263.3302,-1328.8539 3228.8446,-1312.6086\"/>\n<polygon fill=\"#000000\" stroke=\"#000000\" points=\"3230.3038,-1309.4271 3219.7657,-1308.3318 3227.3207,-1315.7597 3230.3038,-1309.4271\"/>\n</g>\n<!-- 202 -->\n<g id=\"node203\" class=\"node\">\n<title>202</title>\n<path fill=\"#f7d9c4\" stroke=\"#000000\" d=\"M3441,-1318C3441,-1318 3358,-1318 3358,-1318 3352,-1318 3346,-1312 3346,-1306 3346,-1306 3346,-1252 3346,-1252 3346,-1246 3352,-1240 3358,-1240 3358,-1240 3441,-1240 3441,-1240 3447,-1240 3453,-1246 3453,-1252 3453,-1252 3453,-1306 3453,-1306 3453,-1312 3447,-1318 3441,-1318\"/>\n<text text-anchor=\"start\" x=\"3358.5\" y=\"-1303.8\" font-family=\"Helvetica,sans-Serif\" font-size=\"14.00\" fill=\"#000000\">Fare ≤ 7.802</text>\n<text text-anchor=\"start\" x=\"3361.5\" y=\"-1289.8\" font-family=\"Helvetica,sans-Serif\" font-size=\"14.00\" fill=\"#000000\">gini = 0.484</text>\n<text text-anchor=\"start\" x=\"3355.5\" y=\"-1275.8\" font-family=\"Helvetica,sans-Serif\" font-size=\"14.00\" fill=\"#000000\">samples = 17</text>\n<text text-anchor=\"start\" x=\"3354\" y=\"-1261.8\" font-family=\"Helvetica,sans-Serif\" font-size=\"14.00\" fill=\"#000000\">value = [10, 7]</text>\n<text text-anchor=\"start\" x=\"3367\" y=\"-1247.8\" font-family=\"Helvetica,sans-Serif\" font-size=\"14.00\" fill=\"#000000\">class = y</text>\n<text text-anchor=\"start\" x=\"3425\" y=\"-1247.8\" font-family=\"Helvetica,sans-Serif\" baseline-shift=\"sub\" font-size=\"14.00\" fill=\"#000000\">0</text>\n</g>\n<!-- 124&#45;&gt;202 -->\n<g id=\"edge202\" class=\"edge\">\n<title>124&#45;&gt;202</title>\n<path fill=\"none\" stroke=\"#000000\" d=\"M3399.5,-1353.7677C3399.5,-1345.6172 3399.5,-1336.9283 3399.5,-1328.4649\"/>\n<polygon fill=\"#000000\" stroke=\"#000000\" points=\"3403.0001,-1328.3046 3399.5,-1318.3046 3396.0001,-1328.3047 3403.0001,-1328.3046\"/>\n</g>\n<!-- 126 -->\n<g id=\"node127\" class=\"node\">\n<title>126</title>\n<path fill=\"#e58139\" stroke=\"#000000\" d=\"M3065,-1197C3065,-1197 2982,-1197 2982,-1197 2976,-1197 2970,-1191 2970,-1185 2970,-1185 2970,-1145 2970,-1145 2970,-1139 2976,-1133 2982,-1133 2982,-1133 3065,-1133 3065,-1133 3071,-1133 3077,-1139 3077,-1145 3077,-1145 3077,-1185 3077,-1185 3077,-1191 3071,-1197 3065,-1197\"/>\n<text text-anchor=\"start\" x=\"2994\" y=\"-1182.8\" font-family=\"Helvetica,sans-Serif\" font-size=\"14.00\" fill=\"#000000\">gini = 0.0</text>\n<text text-anchor=\"start\" x=\"2979.5\" y=\"-1168.8\" font-family=\"Helvetica,sans-Serif\" font-size=\"14.00\" fill=\"#000000\">samples = 30</text>\n<text text-anchor=\"start\" x=\"2978\" y=\"-1154.8\" font-family=\"Helvetica,sans-Serif\" font-size=\"14.00\" fill=\"#000000\">value = [30, 0]</text>\n<text text-anchor=\"start\" x=\"2991\" y=\"-1140.8\" font-family=\"Helvetica,sans-Serif\" font-size=\"14.00\" fill=\"#000000\">class = y</text>\n<text text-anchor=\"start\" x=\"3049\" y=\"-1140.8\" font-family=\"Helvetica,sans-Serif\" baseline-shift=\"sub\" font-size=\"14.00\" fill=\"#000000\">0</text>\n</g>\n<!-- 125&#45;&gt;126 -->\n<g id=\"edge126\" class=\"edge\">\n<title>125&#45;&gt;126</title>\n<path fill=\"none\" stroke=\"#000000\" d=\"M3111.3848,-1239.7677C3097.7152,-1228.1383 3082.7568,-1215.4125 3069.1188,-1203.81\"/>\n<polygon fill=\"#000000\" stroke=\"#000000\" points=\"3071.1457,-1200.9392 3061.2612,-1197.1252 3066.6099,-1206.2708 3071.1457,-1200.9392\"/>\n</g>\n<!-- 127 -->\n<g id=\"node128\" class=\"node\">\n<title>127</title>\n<path fill=\"#e89153\" stroke=\"#000000\" d=\"M3207.5,-1204C3207.5,-1204 3107.5,-1204 3107.5,-1204 3101.5,-1204 3095.5,-1198 3095.5,-1192 3095.5,-1192 3095.5,-1138 3095.5,-1138 3095.5,-1132 3101.5,-1126 3107.5,-1126 3107.5,-1126 3207.5,-1126 3207.5,-1126 3213.5,-1126 3219.5,-1132 3219.5,-1138 3219.5,-1138 3219.5,-1192 3219.5,-1192 3219.5,-1198 3213.5,-1204 3207.5,-1204\"/>\n<text text-anchor=\"start\" x=\"3118\" y=\"-1189.8\" font-family=\"Helvetica,sans-Serif\" font-size=\"14.00\" fill=\"#000000\">Age ≤ 28.75</text>\n<text text-anchor=\"start\" x=\"3119.5\" y=\"-1175.8\" font-family=\"Helvetica,sans-Serif\" font-size=\"14.00\" fill=\"#000000\">gini = 0.203</text>\n<text text-anchor=\"start\" x=\"3109.5\" y=\"-1161.8\" font-family=\"Helvetica,sans-Serif\" font-size=\"14.00\" fill=\"#000000\">samples = 183</text>\n<text text-anchor=\"start\" x=\"3103.5\" y=\"-1147.8\" font-family=\"Helvetica,sans-Serif\" font-size=\"14.00\" fill=\"#000000\">value = [162, 21]</text>\n<text text-anchor=\"start\" x=\"3125\" y=\"-1133.8\" font-family=\"Helvetica,sans-Serif\" font-size=\"14.00\" fill=\"#000000\">class = y</text>\n<text text-anchor=\"start\" x=\"3183\" y=\"-1133.8\" font-family=\"Helvetica,sans-Serif\" baseline-shift=\"sub\" font-size=\"14.00\" fill=\"#000000\">0</text>\n</g>\n<!-- 125&#45;&gt;127 -->\n<g id=\"edge127\" class=\"edge\">\n<title>125&#45;&gt;127</title>\n<path fill=\"none\" stroke=\"#000000\" d=\"M3157.5,-1239.7677C3157.5,-1231.6172 3157.5,-1222.9283 3157.5,-1214.4649\"/>\n<polygon fill=\"#000000\" stroke=\"#000000\" points=\"3161.0001,-1214.3046 3157.5,-1204.3046 3154.0001,-1214.3047 3161.0001,-1214.3046\"/>\n</g>\n<!-- 128 -->\n<g id=\"node129\" class=\"node\">\n<title>128</title>\n<path fill=\"#e88f4f\" stroke=\"#000000\" d=\"M2657.5,-1090C2657.5,-1090 2557.5,-1090 2557.5,-1090 2551.5,-1090 2545.5,-1084 2545.5,-1078 2545.5,-1078 2545.5,-1024 2545.5,-1024 2545.5,-1018 2551.5,-1012 2557.5,-1012 2557.5,-1012 2657.5,-1012 2657.5,-1012 2663.5,-1012 2669.5,-1018 2669.5,-1024 2669.5,-1024 2669.5,-1078 2669.5,-1078 2669.5,-1084 2663.5,-1090 2657.5,-1090\"/>\n<text text-anchor=\"start\" x=\"2566.5\" y=\"-1075.8\" font-family=\"Helvetica,sans-Serif\" font-size=\"14.00\" fill=\"#000000\">Fare ≤ 2.006</text>\n<text text-anchor=\"start\" x=\"2569.5\" y=\"-1061.8\" font-family=\"Helvetica,sans-Serif\" font-size=\"14.00\" fill=\"#000000\">gini = 0.183</text>\n<text text-anchor=\"start\" x=\"2559.5\" y=\"-1047.8\" font-family=\"Helvetica,sans-Serif\" font-size=\"14.00\" fill=\"#000000\">samples = 167</text>\n<text text-anchor=\"start\" x=\"2553.5\" y=\"-1033.8\" font-family=\"Helvetica,sans-Serif\" font-size=\"14.00\" fill=\"#000000\">value = [150, 17]</text>\n<text text-anchor=\"start\" x=\"2575\" y=\"-1019.8\" font-family=\"Helvetica,sans-Serif\" font-size=\"14.00\" fill=\"#000000\">class = y</text>\n<text text-anchor=\"start\" x=\"2633\" y=\"-1019.8\" font-family=\"Helvetica,sans-Serif\" baseline-shift=\"sub\" font-size=\"14.00\" fill=\"#000000\">0</text>\n</g>\n<!-- 127&#45;&gt;128 -->\n<g id=\"edge128\" class=\"edge\">\n<title>127&#45;&gt;128</title>\n<path fill=\"none\" stroke=\"#000000\" d=\"M3095.2433,-1129.6565C3091.991,-1128.3234 3088.7321,-1127.0928 3085.5,-1126 2946.7224,-1079.0802 2775.1953,-1061.2811 2679.9423,-1054.7013\"/>\n<polygon fill=\"#000000\" stroke=\"#000000\" points=\"2680.0503,-1051.2008 2669.8391,-1054.0258 2679.5833,-1058.1852 2680.0503,-1051.2008\"/>\n</g>\n<!-- 193 -->\n<g id=\"node194\" class=\"node\">\n<title>193</title>\n<path fill=\"#eeab7b\" stroke=\"#000000\" d=\"M3199,-1090C3199,-1090 3116,-1090 3116,-1090 3110,-1090 3104,-1084 3104,-1078 3104,-1078 3104,-1024 3104,-1024 3104,-1018 3110,-1012 3116,-1012 3116,-1012 3199,-1012 3199,-1012 3205,-1012 3211,-1018 3211,-1024 3211,-1024 3211,-1078 3211,-1078 3211,-1084 3205,-1090 3199,-1090\"/>\n<text text-anchor=\"start\" x=\"3116.5\" y=\"-1075.8\" font-family=\"Helvetica,sans-Serif\" font-size=\"14.00\" fill=\"#000000\">Fare ≤ 9.492</text>\n<text text-anchor=\"start\" x=\"3119.5\" y=\"-1061.8\" font-family=\"Helvetica,sans-Serif\" font-size=\"14.00\" fill=\"#000000\">gini = 0.375</text>\n<text text-anchor=\"start\" x=\"3113.5\" y=\"-1047.8\" font-family=\"Helvetica,sans-Serif\" font-size=\"14.00\" fill=\"#000000\">samples = 16</text>\n<text text-anchor=\"start\" x=\"3112\" y=\"-1033.8\" font-family=\"Helvetica,sans-Serif\" font-size=\"14.00\" fill=\"#000000\">value = [12, 4]</text>\n<text text-anchor=\"start\" x=\"3125\" y=\"-1019.8\" font-family=\"Helvetica,sans-Serif\" font-size=\"14.00\" fill=\"#000000\">class = y</text>\n<text text-anchor=\"start\" x=\"3183\" y=\"-1019.8\" font-family=\"Helvetica,sans-Serif\" baseline-shift=\"sub\" font-size=\"14.00\" fill=\"#000000\">0</text>\n</g>\n<!-- 127&#45;&gt;193 -->\n<g id=\"edge193\" class=\"edge\">\n<title>127&#45;&gt;193</title>\n<path fill=\"none\" stroke=\"#000000\" d=\"M3157.5,-1125.7677C3157.5,-1117.6172 3157.5,-1108.9283 3157.5,-1100.4649\"/>\n<polygon fill=\"#000000\" stroke=\"#000000\" points=\"3161.0001,-1100.3046 3157.5,-1090.3046 3154.0001,-1100.3047 3161.0001,-1100.3046\"/>\n</g>\n<!-- 129 -->\n<g id=\"node130\" class=\"node\">\n<title>129</title>\n<path fill=\"#ffffff\" stroke=\"#000000\" d=\"M2416,-976C2416,-976 2341,-976 2341,-976 2335,-976 2329,-970 2329,-964 2329,-964 2329,-910 2329,-910 2329,-904 2335,-898 2341,-898 2341,-898 2416,-898 2416,-898 2422,-898 2428,-904 2428,-910 2428,-910 2428,-964 2428,-964 2428,-970 2422,-976 2416,-976\"/>\n<text text-anchor=\"start\" x=\"2343.5\" y=\"-961.8\" font-family=\"Helvetica,sans-Serif\" font-size=\"14.00\" fill=\"#000000\">Age ≤ 22.0</text>\n<text text-anchor=\"start\" x=\"2349\" y=\"-947.8\" font-family=\"Helvetica,sans-Serif\" font-size=\"14.00\" fill=\"#000000\">gini = 0.5</text>\n<text text-anchor=\"start\" x=\"2339\" y=\"-933.8\" font-family=\"Helvetica,sans-Serif\" font-size=\"14.00\" fill=\"#000000\">samples = 2</text>\n<text text-anchor=\"start\" x=\"2337\" y=\"-919.8\" font-family=\"Helvetica,sans-Serif\" font-size=\"14.00\" fill=\"#000000\">value = [1, 1]</text>\n<text text-anchor=\"start\" x=\"2346\" y=\"-905.8\" font-family=\"Helvetica,sans-Serif\" font-size=\"14.00\" fill=\"#000000\">class = y</text>\n<text text-anchor=\"start\" x=\"2404\" y=\"-905.8\" font-family=\"Helvetica,sans-Serif\" baseline-shift=\"sub\" font-size=\"14.00\" fill=\"#000000\">0</text>\n</g>\n<!-- 128&#45;&gt;129 -->\n<g id=\"edge129\" class=\"edge\">\n<title>128&#45;&gt;129</title>\n<path fill=\"none\" stroke=\"#000000\" d=\"M2545.2272,-1019.9996C2511.5719,-1003.2454 2470.2549,-982.6771 2437.1714,-966.2076\"/>\n<polygon fill=\"#000000\" stroke=\"#000000\" points=\"2438.5836,-963.0009 2428.0717,-961.6776 2435.464,-969.2674 2438.5836,-963.0009\"/>\n</g>\n<!-- 132 -->\n<g id=\"node133\" class=\"node\">\n<title>132</title>\n<path fill=\"#e88f4e\" stroke=\"#000000\" d=\"M2657.5,-976C2657.5,-976 2557.5,-976 2557.5,-976 2551.5,-976 2545.5,-970 2545.5,-964 2545.5,-964 2545.5,-910 2545.5,-910 2545.5,-904 2551.5,-898 2557.5,-898 2557.5,-898 2657.5,-898 2657.5,-898 2663.5,-898 2669.5,-904 2669.5,-910 2669.5,-910 2669.5,-964 2669.5,-964 2669.5,-970 2663.5,-976 2657.5,-976\"/>\n<text text-anchor=\"start\" x=\"2570\" y=\"-961.8\" font-family=\"Helvetica,sans-Serif\" font-size=\"14.00\" fill=\"#000000\">SibSp ≤ 0.5</text>\n<text text-anchor=\"start\" x=\"2569.5\" y=\"-947.8\" font-family=\"Helvetica,sans-Serif\" font-size=\"14.00\" fill=\"#000000\">gini = 0.175</text>\n<text text-anchor=\"start\" x=\"2559.5\" y=\"-933.8\" font-family=\"Helvetica,sans-Serif\" font-size=\"14.00\" fill=\"#000000\">samples = 165</text>\n<text text-anchor=\"start\" x=\"2553.5\" y=\"-919.8\" font-family=\"Helvetica,sans-Serif\" font-size=\"14.00\" fill=\"#000000\">value = [149, 16]</text>\n<text text-anchor=\"start\" x=\"2575\" y=\"-905.8\" font-family=\"Helvetica,sans-Serif\" font-size=\"14.00\" fill=\"#000000\">class = y</text>\n<text text-anchor=\"start\" x=\"2633\" y=\"-905.8\" font-family=\"Helvetica,sans-Serif\" baseline-shift=\"sub\" font-size=\"14.00\" fill=\"#000000\">0</text>\n</g>\n<!-- 128&#45;&gt;132 -->\n<g id=\"edge132\" class=\"edge\">\n<title>128&#45;&gt;132</title>\n<path fill=\"none\" stroke=\"#000000\" d=\"M2607.5,-1011.7677C2607.5,-1003.6172 2607.5,-994.9283 2607.5,-986.4649\"/>\n<polygon fill=\"#000000\" stroke=\"#000000\" points=\"2611.0001,-986.3046 2607.5,-976.3046 2604.0001,-986.3047 2611.0001,-986.3046\"/>\n</g>\n<!-- 130 -->\n<g id=\"node131\" class=\"node\">\n<title>130</title>\n<path fill=\"#e58139\" stroke=\"#000000\" d=\"M2299,-855C2299,-855 2224,-855 2224,-855 2218,-855 2212,-849 2212,-843 2212,-843 2212,-803 2212,-803 2212,-797 2218,-791 2224,-791 2224,-791 2299,-791 2299,-791 2305,-791 2311,-797 2311,-803 2311,-803 2311,-843 2311,-843 2311,-849 2305,-855 2299,-855\"/>\n<text text-anchor=\"start\" x=\"2232\" y=\"-840.8\" font-family=\"Helvetica,sans-Serif\" font-size=\"14.00\" fill=\"#000000\">gini = 0.0</text>\n<text text-anchor=\"start\" x=\"2222\" y=\"-826.8\" font-family=\"Helvetica,sans-Serif\" font-size=\"14.00\" fill=\"#000000\">samples = 1</text>\n<text text-anchor=\"start\" x=\"2220\" y=\"-812.8\" font-family=\"Helvetica,sans-Serif\" font-size=\"14.00\" fill=\"#000000\">value = [1, 0]</text>\n<text text-anchor=\"start\" x=\"2229\" y=\"-798.8\" font-family=\"Helvetica,sans-Serif\" font-size=\"14.00\" fill=\"#000000\">class = y</text>\n<text text-anchor=\"start\" x=\"2287\" y=\"-798.8\" font-family=\"Helvetica,sans-Serif\" baseline-shift=\"sub\" font-size=\"14.00\" fill=\"#000000\">0</text>\n</g>\n<!-- 129&#45;&gt;130 -->\n<g id=\"edge130\" class=\"edge\">\n<title>129&#45;&gt;130</title>\n<path fill=\"none\" stroke=\"#000000\" d=\"M2338.2352,-897.7677C2326.4113,-886.247 2313.4832,-873.6503 2301.6655,-862.1356\"/>\n<polygon fill=\"#000000\" stroke=\"#000000\" points=\"2304.0755,-859.5971 2294.4706,-855.1252 2299.1904,-864.6107 2304.0755,-859.5971\"/>\n</g>\n<!-- 131 -->\n<g id=\"node132\" class=\"node\">\n<title>131</title>\n<path fill=\"#399de5\" stroke=\"#000000\" d=\"M2416,-855C2416,-855 2341,-855 2341,-855 2335,-855 2329,-849 2329,-843 2329,-843 2329,-803 2329,-803 2329,-797 2335,-791 2341,-791 2341,-791 2416,-791 2416,-791 2422,-791 2428,-797 2428,-803 2428,-803 2428,-843 2428,-843 2428,-849 2422,-855 2416,-855\"/>\n<text text-anchor=\"start\" x=\"2349\" y=\"-840.8\" font-family=\"Helvetica,sans-Serif\" font-size=\"14.00\" fill=\"#000000\">gini = 0.0</text>\n<text text-anchor=\"start\" x=\"2339\" y=\"-826.8\" font-family=\"Helvetica,sans-Serif\" font-size=\"14.00\" fill=\"#000000\">samples = 1</text>\n<text text-anchor=\"start\" x=\"2337\" y=\"-812.8\" font-family=\"Helvetica,sans-Serif\" font-size=\"14.00\" fill=\"#000000\">value = [0, 1]</text>\n<text text-anchor=\"start\" x=\"2346\" y=\"-798.8\" font-family=\"Helvetica,sans-Serif\" font-size=\"14.00\" fill=\"#000000\">class = y</text>\n<text text-anchor=\"start\" x=\"2404\" y=\"-798.8\" font-family=\"Helvetica,sans-Serif\" baseline-shift=\"sub\" font-size=\"14.00\" fill=\"#000000\">1</text>\n</g>\n<!-- 129&#45;&gt;131 -->\n<g id=\"edge131\" class=\"edge\">\n<title>129&#45;&gt;131</title>\n<path fill=\"none\" stroke=\"#000000\" d=\"M2378.5,-897.7677C2378.5,-887.3338 2378.5,-876.0174 2378.5,-865.4215\"/>\n<polygon fill=\"#000000\" stroke=\"#000000\" points=\"2382.0001,-865.1252 2378.5,-855.1252 2375.0001,-865.1252 2382.0001,-865.1252\"/>\n</g>\n<!-- 133 -->\n<g id=\"node134\" class=\"node\">\n<title>133</title>\n<path fill=\"#e78c4b\" stroke=\"#000000\" d=\"M2558.5,-862C2558.5,-862 2458.5,-862 2458.5,-862 2452.5,-862 2446.5,-856 2446.5,-850 2446.5,-850 2446.5,-796 2446.5,-796 2446.5,-790 2452.5,-784 2458.5,-784 2458.5,-784 2558.5,-784 2558.5,-784 2564.5,-784 2570.5,-790 2570.5,-796 2570.5,-796 2570.5,-850 2570.5,-850 2570.5,-856 2564.5,-862 2558.5,-862\"/>\n<text text-anchor=\"start\" x=\"2471.5\" y=\"-847.8\" font-family=\"Helvetica,sans-Serif\" font-size=\"14.00\" fill=\"#000000\">Fare ≤ 7.24</text>\n<text text-anchor=\"start\" x=\"2475\" y=\"-833.8\" font-family=\"Helvetica,sans-Serif\" font-size=\"14.00\" fill=\"#000000\">gini = 0.15</text>\n<text text-anchor=\"start\" x=\"2460.5\" y=\"-819.8\" font-family=\"Helvetica,sans-Serif\" font-size=\"14.00\" fill=\"#000000\">samples = 135</text>\n<text text-anchor=\"start\" x=\"2454.5\" y=\"-805.8\" font-family=\"Helvetica,sans-Serif\" font-size=\"14.00\" fill=\"#000000\">value = [124, 11]</text>\n<text text-anchor=\"start\" x=\"2476\" y=\"-791.8\" font-family=\"Helvetica,sans-Serif\" font-size=\"14.00\" fill=\"#000000\">class = y</text>\n<text text-anchor=\"start\" x=\"2534\" y=\"-791.8\" font-family=\"Helvetica,sans-Serif\" baseline-shift=\"sub\" font-size=\"14.00\" fill=\"#000000\">0</text>\n</g>\n<!-- 132&#45;&gt;133 -->\n<g id=\"edge133\" class=\"edge\">\n<title>132&#45;&gt;133</title>\n<path fill=\"none\" stroke=\"#000000\" d=\"M2573.4298,-897.7677C2565.6518,-888.8111 2557.309,-879.2043 2549.282,-869.9611\"/>\n<polygon fill=\"#000000\" stroke=\"#000000\" points=\"2551.8325,-867.5601 2542.633,-862.3046 2546.5473,-872.1499 2551.8325,-867.5601\"/>\n</g>\n<!-- 176 -->\n<g id=\"node177\" class=\"node\">\n<title>176</title>\n<path fill=\"#ea9a61\" stroke=\"#000000\" d=\"M2708,-862C2708,-862 2625,-862 2625,-862 2619,-862 2613,-856 2613,-850 2613,-850 2613,-796 2613,-796 2613,-790 2619,-784 2625,-784 2625,-784 2708,-784 2708,-784 2714,-784 2720,-790 2720,-796 2720,-796 2720,-850 2720,-850 2720,-856 2714,-862 2708,-862\"/>\n<text text-anchor=\"start\" x=\"2621\" y=\"-847.8\" font-family=\"Helvetica,sans-Serif\" font-size=\"14.00\" fill=\"#000000\">Fare ≤ 15.373</text>\n<text text-anchor=\"start\" x=\"2628.5\" y=\"-833.8\" font-family=\"Helvetica,sans-Serif\" font-size=\"14.00\" fill=\"#000000\">gini = 0.278</text>\n<text text-anchor=\"start\" x=\"2622.5\" y=\"-819.8\" font-family=\"Helvetica,sans-Serif\" font-size=\"14.00\" fill=\"#000000\">samples = 30</text>\n<text text-anchor=\"start\" x=\"2621\" y=\"-805.8\" font-family=\"Helvetica,sans-Serif\" font-size=\"14.00\" fill=\"#000000\">value = [25, 5]</text>\n<text text-anchor=\"start\" x=\"2634\" y=\"-791.8\" font-family=\"Helvetica,sans-Serif\" font-size=\"14.00\" fill=\"#000000\">class = y</text>\n<text text-anchor=\"start\" x=\"2692\" y=\"-791.8\" font-family=\"Helvetica,sans-Serif\" baseline-shift=\"sub\" font-size=\"14.00\" fill=\"#000000\">0</text>\n</g>\n<!-- 132&#45;&gt;176 -->\n<g id=\"edge176\" class=\"edge\">\n<title>132&#45;&gt;176</title>\n<path fill=\"none\" stroke=\"#000000\" d=\"M2627.8045,-897.7677C2632.2081,-889.259 2636.9155,-880.1634 2641.4767,-871.3502\"/>\n<polygon fill=\"#000000\" stroke=\"#000000\" points=\"2644.6701,-872.7945 2646.1581,-862.3046 2638.4533,-869.577 2644.6701,-872.7945\"/>\n</g>\n<!-- 134 -->\n<g id=\"node135\" class=\"node\">\n<title>134</title>\n<path fill=\"#ea9a61\" stroke=\"#000000\" d=\"M2049,-748C2049,-748 1966,-748 1966,-748 1960,-748 1954,-742 1954,-736 1954,-736 1954,-682 1954,-682 1954,-676 1960,-670 1966,-670 1966,-670 2049,-670 2049,-670 2055,-670 2061,-676 2061,-682 2061,-682 2061,-736 2061,-736 2061,-742 2055,-748 2049,-748\"/>\n<text text-anchor=\"start\" x=\"1964\" y=\"-733.8\" font-family=\"Helvetica,sans-Serif\" font-size=\"14.00\" fill=\"#000000\">Age ≤ 26.754</text>\n<text text-anchor=\"start\" x=\"1969.5\" y=\"-719.8\" font-family=\"Helvetica,sans-Serif\" font-size=\"14.00\" fill=\"#000000\">gini = 0.278</text>\n<text text-anchor=\"start\" x=\"1963.5\" y=\"-705.8\" font-family=\"Helvetica,sans-Serif\" font-size=\"14.00\" fill=\"#000000\">samples = 24</text>\n<text text-anchor=\"start\" x=\"1962\" y=\"-691.8\" font-family=\"Helvetica,sans-Serif\" font-size=\"14.00\" fill=\"#000000\">value = [20, 4]</text>\n<text text-anchor=\"start\" x=\"1975\" y=\"-677.8\" font-family=\"Helvetica,sans-Serif\" font-size=\"14.00\" fill=\"#000000\">class = y</text>\n<text text-anchor=\"start\" x=\"2033\" y=\"-677.8\" font-family=\"Helvetica,sans-Serif\" baseline-shift=\"sub\" font-size=\"14.00\" fill=\"#000000\">0</text>\n</g>\n<!-- 133&#45;&gt;134 -->\n<g id=\"edge134\" class=\"edge\">\n<title>133&#45;&gt;134</title>\n<path fill=\"none\" stroke=\"#000000\" d=\"M2446.2195,-787.7258C2442.9735,-786.3744 2439.7225,-785.1209 2436.5,-784 2311.2641,-740.4379 2156.2892,-721.3633 2071.0916,-713.6693\"/>\n<polygon fill=\"#000000\" stroke=\"#000000\" points=\"2071.3225,-710.1761 2061.0543,-712.7865 2070.7092,-717.1492 2071.3225,-710.1761\"/>\n</g>\n<!-- 147 -->\n<g id=\"node148\" class=\"node\">\n<title>147</title>\n<path fill=\"#e78946\" stroke=\"#000000\" d=\"M2476.5,-748C2476.5,-748 2384.5,-748 2384.5,-748 2378.5,-748 2372.5,-742 2372.5,-736 2372.5,-736 2372.5,-682 2372.5,-682 2372.5,-676 2378.5,-670 2384.5,-670 2384.5,-670 2476.5,-670 2476.5,-670 2482.5,-670 2488.5,-676 2488.5,-682 2488.5,-682 2488.5,-736 2488.5,-736 2488.5,-742 2482.5,-748 2476.5,-748\"/>\n<text text-anchor=\"start\" x=\"2395.5\" y=\"-733.8\" font-family=\"Helvetica,sans-Serif\" font-size=\"14.00\" fill=\"#000000\">Age ≤ 19.5</text>\n<text text-anchor=\"start\" x=\"2392.5\" y=\"-719.8\" font-family=\"Helvetica,sans-Serif\" font-size=\"14.00\" fill=\"#000000\">gini = 0.118</text>\n<text text-anchor=\"start\" x=\"2382.5\" y=\"-705.8\" font-family=\"Helvetica,sans-Serif\" font-size=\"14.00\" fill=\"#000000\">samples = 111</text>\n<text text-anchor=\"start\" x=\"2380.5\" y=\"-691.8\" font-family=\"Helvetica,sans-Serif\" font-size=\"14.00\" fill=\"#000000\">value = [104, 7]</text>\n<text text-anchor=\"start\" x=\"2398\" y=\"-677.8\" font-family=\"Helvetica,sans-Serif\" font-size=\"14.00\" fill=\"#000000\">class = y</text>\n<text text-anchor=\"start\" x=\"2456\" y=\"-677.8\" font-family=\"Helvetica,sans-Serif\" baseline-shift=\"sub\" font-size=\"14.00\" fill=\"#000000\">0</text>\n</g>\n<!-- 133&#45;&gt;147 -->\n<g id=\"edge147\" class=\"edge\">\n<title>133&#45;&gt;147</title>\n<path fill=\"none\" stroke=\"#000000\" d=\"M2481.6568,-783.7677C2475.7125,-775.0798 2469.3496,-765.7801 2463.2011,-756.794\"/>\n<polygon fill=\"#000000\" stroke=\"#000000\" points=\"2465.9281,-754.5813 2457.3927,-748.3046 2460.151,-758.5341 2465.9281,-754.5813\"/>\n</g>\n<!-- 135 -->\n<g id=\"node136\" class=\"node\">\n<title>135</title>\n<path fill=\"#e99558\" stroke=\"#000000\" d=\"M1864,-634C1864,-634 1781,-634 1781,-634 1775,-634 1769,-628 1769,-622 1769,-622 1769,-568 1769,-568 1769,-562 1775,-556 1781,-556 1781,-556 1864,-556 1864,-556 1870,-556 1876,-562 1876,-568 1876,-568 1876,-622 1876,-622 1876,-628 1870,-634 1864,-634\"/>\n<text text-anchor=\"start\" x=\"1781.5\" y=\"-619.8\" font-family=\"Helvetica,sans-Serif\" font-size=\"14.00\" fill=\"#000000\">Fare ≤ 7.133</text>\n<text text-anchor=\"start\" x=\"1784.5\" y=\"-605.8\" font-family=\"Helvetica,sans-Serif\" font-size=\"14.00\" fill=\"#000000\">gini = 0.236</text>\n<text text-anchor=\"start\" x=\"1778.5\" y=\"-591.8\" font-family=\"Helvetica,sans-Serif\" font-size=\"14.00\" fill=\"#000000\">samples = 22</text>\n<text text-anchor=\"start\" x=\"1777\" y=\"-577.8\" font-family=\"Helvetica,sans-Serif\" font-size=\"14.00\" fill=\"#000000\">value = [19, 3]</text>\n<text text-anchor=\"start\" x=\"1790\" y=\"-563.8\" font-family=\"Helvetica,sans-Serif\" font-size=\"14.00\" fill=\"#000000\">class = y</text>\n<text text-anchor=\"start\" x=\"1848\" y=\"-563.8\" font-family=\"Helvetica,sans-Serif\" baseline-shift=\"sub\" font-size=\"14.00\" fill=\"#000000\">0</text>\n</g>\n<!-- 134&#45;&gt;135 -->\n<g id=\"edge135\" class=\"edge\">\n<title>134&#45;&gt;135</title>\n<path fill=\"none\" stroke=\"#000000\" d=\"M1953.9903,-676.0265C1932.4166,-662.7324 1907.3794,-647.304 1884.9772,-633.4995\"/>\n<polygon fill=\"#000000\" stroke=\"#000000\" points=\"1886.5592,-630.3632 1876.2096,-628.0967 1882.8869,-636.3226 1886.5592,-630.3632\"/>\n</g>\n<!-- 144 -->\n<g id=\"node145\" class=\"node\">\n<title>144</title>\n<path fill=\"#ffffff\" stroke=\"#000000\" d=\"M2055,-634C2055,-634 1960,-634 1960,-634 1954,-634 1948,-628 1948,-622 1948,-622 1948,-568 1948,-568 1948,-562 1954,-556 1960,-556 1960,-556 2055,-556 2055,-556 2061,-556 2067,-562 2067,-568 2067,-568 2067,-622 2067,-622 2067,-628 2061,-634 2055,-634\"/>\n<text text-anchor=\"start\" x=\"1956\" y=\"-619.8\" font-family=\"Helvetica,sans-Serif\" font-size=\"14.00\" fill=\"#000000\">Embarked ≤ 1.0</text>\n<text text-anchor=\"start\" x=\"1978\" y=\"-605.8\" font-family=\"Helvetica,sans-Serif\" font-size=\"14.00\" fill=\"#000000\">gini = 0.5</text>\n<text text-anchor=\"start\" x=\"1968\" y=\"-591.8\" font-family=\"Helvetica,sans-Serif\" font-size=\"14.00\" fill=\"#000000\">samples = 2</text>\n<text text-anchor=\"start\" x=\"1966\" y=\"-577.8\" font-family=\"Helvetica,sans-Serif\" font-size=\"14.00\" fill=\"#000000\">value = [1, 1]</text>\n<text text-anchor=\"start\" x=\"1975\" y=\"-563.8\" font-family=\"Helvetica,sans-Serif\" font-size=\"14.00\" fill=\"#000000\">class = y</text>\n<text text-anchor=\"start\" x=\"2033\" y=\"-563.8\" font-family=\"Helvetica,sans-Serif\" baseline-shift=\"sub\" font-size=\"14.00\" fill=\"#000000\">0</text>\n</g>\n<!-- 134&#45;&gt;144 -->\n<g id=\"edge144\" class=\"edge\">\n<title>134&#45;&gt;144</title>\n<path fill=\"none\" stroke=\"#000000\" d=\"M2007.5,-669.7677C2007.5,-661.6172 2007.5,-652.9283 2007.5,-644.4649\"/>\n<polygon fill=\"#000000\" stroke=\"#000000\" points=\"2011.0001,-644.3046 2007.5,-634.3046 2004.0001,-644.3047 2011.0001,-644.3046\"/>\n</g>\n<!-- 136 -->\n<g id=\"node137\" class=\"node\">\n<title>136</title>\n<path fill=\"#e58139\" stroke=\"#000000\" d=\"M1739,-513C1739,-513 1664,-513 1664,-513 1658,-513 1652,-507 1652,-501 1652,-501 1652,-461 1652,-461 1652,-455 1658,-449 1664,-449 1664,-449 1739,-449 1739,-449 1745,-449 1751,-455 1751,-461 1751,-461 1751,-501 1751,-501 1751,-507 1745,-513 1739,-513\"/>\n<text text-anchor=\"start\" x=\"1672\" y=\"-498.8\" font-family=\"Helvetica,sans-Serif\" font-size=\"14.00\" fill=\"#000000\">gini = 0.0</text>\n<text text-anchor=\"start\" x=\"1662\" y=\"-484.8\" font-family=\"Helvetica,sans-Serif\" font-size=\"14.00\" fill=\"#000000\">samples = 8</text>\n<text text-anchor=\"start\" x=\"1660\" y=\"-470.8\" font-family=\"Helvetica,sans-Serif\" font-size=\"14.00\" fill=\"#000000\">value = [8, 0]</text>\n<text text-anchor=\"start\" x=\"1669\" y=\"-456.8\" font-family=\"Helvetica,sans-Serif\" font-size=\"14.00\" fill=\"#000000\">class = y</text>\n<text text-anchor=\"start\" x=\"1727\" y=\"-456.8\" font-family=\"Helvetica,sans-Serif\" baseline-shift=\"sub\" font-size=\"14.00\" fill=\"#000000\">0</text>\n</g>\n<!-- 135&#45;&gt;136 -->\n<g id=\"edge136\" class=\"edge\">\n<title>135&#45;&gt;136</title>\n<path fill=\"none\" stroke=\"#000000\" d=\"M1780.8587,-555.7677C1768.6305,-544.247 1755.2604,-531.6503 1743.0387,-520.1356\"/>\n<polygon fill=\"#000000\" stroke=\"#000000\" points=\"1745.2764,-517.4352 1735.5978,-513.1252 1740.4762,-522.5301 1745.2764,-517.4352\"/>\n</g>\n<!-- 137 -->\n<g id=\"node138\" class=\"node\">\n<title>137</title>\n<path fill=\"#eca36f\" stroke=\"#000000\" d=\"M1864,-520C1864,-520 1781,-520 1781,-520 1775,-520 1769,-514 1769,-508 1769,-508 1769,-454 1769,-454 1769,-448 1775,-442 1781,-442 1781,-442 1864,-442 1864,-442 1870,-442 1876,-448 1876,-454 1876,-454 1876,-508 1876,-508 1876,-514 1870,-520 1864,-520\"/>\n<text text-anchor=\"start\" x=\"1787.5\" y=\"-505.8\" font-family=\"Helvetica,sans-Serif\" font-size=\"14.00\" fill=\"#000000\">Age ≤ 24.5</text>\n<text text-anchor=\"start\" x=\"1784.5\" y=\"-491.8\" font-family=\"Helvetica,sans-Serif\" font-size=\"14.00\" fill=\"#000000\">gini = 0.337</text>\n<text text-anchor=\"start\" x=\"1778.5\" y=\"-477.8\" font-family=\"Helvetica,sans-Serif\" font-size=\"14.00\" fill=\"#000000\">samples = 14</text>\n<text text-anchor=\"start\" x=\"1777\" y=\"-463.8\" font-family=\"Helvetica,sans-Serif\" font-size=\"14.00\" fill=\"#000000\">value = [11, 3]</text>\n<text text-anchor=\"start\" x=\"1790\" y=\"-449.8\" font-family=\"Helvetica,sans-Serif\" font-size=\"14.00\" fill=\"#000000\">class = y</text>\n<text text-anchor=\"start\" x=\"1848\" y=\"-449.8\" font-family=\"Helvetica,sans-Serif\" baseline-shift=\"sub\" font-size=\"14.00\" fill=\"#000000\">0</text>\n</g>\n<!-- 135&#45;&gt;137 -->\n<g id=\"edge137\" class=\"edge\">\n<title>135&#45;&gt;137</title>\n<path fill=\"none\" stroke=\"#000000\" d=\"M1822.5,-555.7677C1822.5,-547.6172 1822.5,-538.9283 1822.5,-530.4649\"/>\n<polygon fill=\"#000000\" stroke=\"#000000\" points=\"1826.0001,-530.3046 1822.5,-520.3046 1819.0001,-530.3047 1826.0001,-530.3046\"/>\n</g>\n<!-- 138 -->\n<g id=\"node139\" class=\"node\">\n<title>138</title>\n<path fill=\"#9ccef2\" stroke=\"#000000\" d=\"M1747,-406C1747,-406 1672,-406 1672,-406 1666,-406 1660,-400 1660,-394 1660,-394 1660,-340 1660,-340 1660,-334 1666,-328 1672,-328 1672,-328 1747,-328 1747,-328 1753,-328 1759,-334 1759,-340 1759,-340 1759,-394 1759,-394 1759,-400 1753,-406 1747,-406\"/>\n<text text-anchor=\"start\" x=\"1668.5\" y=\"-391.8\" font-family=\"Helvetica,sans-Serif\" font-size=\"14.00\" fill=\"#000000\">Fare ≤ 7.227</text>\n<text text-anchor=\"start\" x=\"1671.5\" y=\"-377.8\" font-family=\"Helvetica,sans-Serif\" font-size=\"14.00\" fill=\"#000000\">gini = 0.444</text>\n<text text-anchor=\"start\" x=\"1670\" y=\"-363.8\" font-family=\"Helvetica,sans-Serif\" font-size=\"14.00\" fill=\"#000000\">samples = 3</text>\n<text text-anchor=\"start\" x=\"1668\" y=\"-349.8\" font-family=\"Helvetica,sans-Serif\" font-size=\"14.00\" fill=\"#000000\">value = [1, 2]</text>\n<text text-anchor=\"start\" x=\"1677\" y=\"-335.8\" font-family=\"Helvetica,sans-Serif\" font-size=\"14.00\" fill=\"#000000\">class = y</text>\n<text text-anchor=\"start\" x=\"1735\" y=\"-335.8\" font-family=\"Helvetica,sans-Serif\" baseline-shift=\"sub\" font-size=\"14.00\" fill=\"#000000\">1</text>\n</g>\n<!-- 137&#45;&gt;138 -->\n<g id=\"edge138\" class=\"edge\">\n<title>137&#45;&gt;138</title>\n<path fill=\"none\" stroke=\"#000000\" d=\"M1783.6118,-441.7677C1774.5563,-432.632 1764.8301,-422.8198 1755.4999,-413.407\"/>\n<polygon fill=\"#000000\" stroke=\"#000000\" points=\"1757.9855,-410.9429 1748.4599,-406.3046 1753.014,-415.8708 1757.9855,-410.9429\"/>\n</g>\n<!-- 141 -->\n<g id=\"node142\" class=\"node\">\n<title>141</title>\n<path fill=\"#e88e4d\" stroke=\"#000000\" d=\"M1872,-406C1872,-406 1789,-406 1789,-406 1783,-406 1777,-400 1777,-394 1777,-394 1777,-340 1777,-340 1777,-334 1783,-328 1789,-328 1789,-328 1872,-328 1872,-328 1878,-328 1884,-334 1884,-340 1884,-340 1884,-394 1884,-394 1884,-400 1878,-406 1872,-406\"/>\n<text text-anchor=\"start\" x=\"1789.5\" y=\"-391.8\" font-family=\"Helvetica,sans-Serif\" font-size=\"14.00\" fill=\"#000000\">Fare ≤ 7.227</text>\n<text text-anchor=\"start\" x=\"1792.5\" y=\"-377.8\" font-family=\"Helvetica,sans-Serif\" font-size=\"14.00\" fill=\"#000000\">gini = 0.165</text>\n<text text-anchor=\"start\" x=\"1786.5\" y=\"-363.8\" font-family=\"Helvetica,sans-Serif\" font-size=\"14.00\" fill=\"#000000\">samples = 11</text>\n<text text-anchor=\"start\" x=\"1785\" y=\"-349.8\" font-family=\"Helvetica,sans-Serif\" font-size=\"14.00\" fill=\"#000000\">value = [10, 1]</text>\n<text text-anchor=\"start\" x=\"1798\" y=\"-335.8\" font-family=\"Helvetica,sans-Serif\" font-size=\"14.00\" fill=\"#000000\">class = y</text>\n<text text-anchor=\"start\" x=\"1856\" y=\"-335.8\" font-family=\"Helvetica,sans-Serif\" baseline-shift=\"sub\" font-size=\"14.00\" fill=\"#000000\">0</text>\n</g>\n<!-- 137&#45;&gt;141 -->\n<g id=\"edge141\" class=\"edge\">\n<title>137&#45;&gt;141</title>\n<path fill=\"none\" stroke=\"#000000\" d=\"M1825.2531,-441.7677C1825.8251,-433.6172 1826.4349,-424.9283 1827.0288,-416.4649\"/>\n<polygon fill=\"#000000\" stroke=\"#000000\" points=\"1830.5331,-416.5252 1827.7418,-406.3046 1823.5502,-416.0351 1830.5331,-416.5252\"/>\n</g>\n<!-- 139 -->\n<g id=\"node140\" class=\"node\">\n<title>139</title>\n<path fill=\"#399de5\" stroke=\"#000000\" d=\"M1632,-285C1632,-285 1557,-285 1557,-285 1551,-285 1545,-279 1545,-273 1545,-273 1545,-233 1545,-233 1545,-227 1551,-221 1557,-221 1557,-221 1632,-221 1632,-221 1638,-221 1644,-227 1644,-233 1644,-233 1644,-273 1644,-273 1644,-279 1638,-285 1632,-285\"/>\n<text text-anchor=\"start\" x=\"1565\" y=\"-270.8\" font-family=\"Helvetica,sans-Serif\" font-size=\"14.00\" fill=\"#000000\">gini = 0.0</text>\n<text text-anchor=\"start\" x=\"1555\" y=\"-256.8\" font-family=\"Helvetica,sans-Serif\" font-size=\"14.00\" fill=\"#000000\">samples = 2</text>\n<text text-anchor=\"start\" x=\"1553\" y=\"-242.8\" font-family=\"Helvetica,sans-Serif\" font-size=\"14.00\" fill=\"#000000\">value = [0, 2]</text>\n<text text-anchor=\"start\" x=\"1562\" y=\"-228.8\" font-family=\"Helvetica,sans-Serif\" font-size=\"14.00\" fill=\"#000000\">class = y</text>\n<text text-anchor=\"start\" x=\"1620\" y=\"-228.8\" font-family=\"Helvetica,sans-Serif\" baseline-shift=\"sub\" font-size=\"14.00\" fill=\"#000000\">1</text>\n</g>\n<!-- 138&#45;&gt;139 -->\n<g id=\"edge139\" class=\"edge\">\n<title>138&#45;&gt;139</title>\n<path fill=\"none\" stroke=\"#000000\" d=\"M1669.9235,-327.7677C1658.4114,-316.3556 1645.8342,-303.8878 1634.3079,-292.4618\"/>\n<polygon fill=\"#000000\" stroke=\"#000000\" points=\"1636.473,-289.6797 1626.907,-285.1252 1631.5449,-294.651 1636.473,-289.6797\"/>\n</g>\n<!-- 140 -->\n<g id=\"node141\" class=\"node\">\n<title>140</title>\n<path fill=\"#e58139\" stroke=\"#000000\" d=\"M1749,-285C1749,-285 1674,-285 1674,-285 1668,-285 1662,-279 1662,-273 1662,-273 1662,-233 1662,-233 1662,-227 1668,-221 1674,-221 1674,-221 1749,-221 1749,-221 1755,-221 1761,-227 1761,-233 1761,-233 1761,-273 1761,-273 1761,-279 1755,-285 1749,-285\"/>\n<text text-anchor=\"start\" x=\"1682\" y=\"-270.8\" font-family=\"Helvetica,sans-Serif\" font-size=\"14.00\" fill=\"#000000\">gini = 0.0</text>\n<text text-anchor=\"start\" x=\"1672\" y=\"-256.8\" font-family=\"Helvetica,sans-Serif\" font-size=\"14.00\" fill=\"#000000\">samples = 1</text>\n<text text-anchor=\"start\" x=\"1670\" y=\"-242.8\" font-family=\"Helvetica,sans-Serif\" font-size=\"14.00\" fill=\"#000000\">value = [1, 0]</text>\n<text text-anchor=\"start\" x=\"1679\" y=\"-228.8\" font-family=\"Helvetica,sans-Serif\" font-size=\"14.00\" fill=\"#000000\">class = y</text>\n<text text-anchor=\"start\" x=\"1737\" y=\"-228.8\" font-family=\"Helvetica,sans-Serif\" baseline-shift=\"sub\" font-size=\"14.00\" fill=\"#000000\">0</text>\n</g>\n<!-- 138&#45;&gt;140 -->\n<g id=\"edge140\" class=\"edge\">\n<title>138&#45;&gt;140</title>\n<path fill=\"none\" stroke=\"#000000\" d=\"M1710.1883,-327.7677C1710.3713,-317.3338 1710.5699,-306.0174 1710.7558,-295.4215\"/>\n<polygon fill=\"#000000\" stroke=\"#000000\" points=\"1714.2604,-295.1851 1710.9364,-285.1252 1707.2614,-295.0622 1714.2604,-295.1851\"/>\n</g>\n<!-- 142 -->\n<g id=\"node143\" class=\"node\">\n<title>142</title>\n<path fill=\"#e58139\" stroke=\"#000000\" d=\"M1866,-285C1866,-285 1791,-285 1791,-285 1785,-285 1779,-279 1779,-273 1779,-273 1779,-233 1779,-233 1779,-227 1785,-221 1791,-221 1791,-221 1866,-221 1866,-221 1872,-221 1878,-227 1878,-233 1878,-233 1878,-273 1878,-273 1878,-279 1872,-285 1866,-285\"/>\n<text text-anchor=\"start\" x=\"1799\" y=\"-270.8\" font-family=\"Helvetica,sans-Serif\" font-size=\"14.00\" fill=\"#000000\">gini = 0.0</text>\n<text text-anchor=\"start\" x=\"1789\" y=\"-256.8\" font-family=\"Helvetica,sans-Serif\" font-size=\"14.00\" fill=\"#000000\">samples = 6</text>\n<text text-anchor=\"start\" x=\"1787\" y=\"-242.8\" font-family=\"Helvetica,sans-Serif\" font-size=\"14.00\" fill=\"#000000\">value = [6, 0]</text>\n<text text-anchor=\"start\" x=\"1796\" y=\"-228.8\" font-family=\"Helvetica,sans-Serif\" font-size=\"14.00\" fill=\"#000000\">class = y</text>\n<text text-anchor=\"start\" x=\"1854\" y=\"-228.8\" font-family=\"Helvetica,sans-Serif\" baseline-shift=\"sub\" font-size=\"14.00\" fill=\"#000000\">0</text>\n</g>\n<!-- 141&#45;&gt;142 -->\n<g id=\"edge142\" class=\"edge\">\n<title>141&#45;&gt;142</title>\n<path fill=\"none\" stroke=\"#000000\" d=\"M1829.8117,-327.7677C1829.6287,-317.3338 1829.4301,-306.0174 1829.2442,-295.4215\"/>\n<polygon fill=\"#000000\" stroke=\"#000000\" points=\"1832.7386,-295.0622 1829.0636,-285.1252 1825.7396,-295.1851 1832.7386,-295.0622\"/>\n</g>\n<!-- 143 -->\n<g id=\"node144\" class=\"node\">\n<title>143</title>\n<path fill=\"#eca06a\" stroke=\"#000000\" d=\"M1983,-285C1983,-285 1908,-285 1908,-285 1902,-285 1896,-279 1896,-273 1896,-273 1896,-233 1896,-233 1896,-227 1902,-221 1908,-221 1908,-221 1983,-221 1983,-221 1989,-221 1995,-227 1995,-233 1995,-233 1995,-273 1995,-273 1995,-279 1989,-285 1983,-285\"/>\n<text text-anchor=\"start\" x=\"1912\" y=\"-270.8\" font-family=\"Helvetica,sans-Serif\" font-size=\"14.00\" fill=\"#000000\">gini = 0.32</text>\n<text text-anchor=\"start\" x=\"1906\" y=\"-256.8\" font-family=\"Helvetica,sans-Serif\" font-size=\"14.00\" fill=\"#000000\">samples = 5</text>\n<text text-anchor=\"start\" x=\"1904\" y=\"-242.8\" font-family=\"Helvetica,sans-Serif\" font-size=\"14.00\" fill=\"#000000\">value = [4, 1]</text>\n<text text-anchor=\"start\" x=\"1913\" y=\"-228.8\" font-family=\"Helvetica,sans-Serif\" font-size=\"14.00\" fill=\"#000000\">class = y</text>\n<text text-anchor=\"start\" x=\"1971\" y=\"-228.8\" font-family=\"Helvetica,sans-Serif\" baseline-shift=\"sub\" font-size=\"14.00\" fill=\"#000000\">0</text>\n</g>\n<!-- 141&#45;&gt;143 -->\n<g id=\"edge143\" class=\"edge\">\n<title>141&#45;&gt;143</title>\n<path fill=\"none\" stroke=\"#000000\" d=\"M1870.0765,-327.7677C1881.5886,-316.3556 1894.1658,-303.8878 1905.6921,-292.4618\"/>\n<polygon fill=\"#000000\" stroke=\"#000000\" points=\"1908.4551,-294.651 1913.093,-285.1252 1903.527,-289.6797 1908.4551,-294.651\"/>\n</g>\n<!-- 145 -->\n<g id=\"node146\" class=\"node\">\n<title>145</title>\n<path fill=\"#e58139\" stroke=\"#000000\" d=\"M1981,-513C1981,-513 1906,-513 1906,-513 1900,-513 1894,-507 1894,-501 1894,-501 1894,-461 1894,-461 1894,-455 1900,-449 1906,-449 1906,-449 1981,-449 1981,-449 1987,-449 1993,-455 1993,-461 1993,-461 1993,-501 1993,-501 1993,-507 1987,-513 1981,-513\"/>\n<text text-anchor=\"start\" x=\"1914\" y=\"-498.8\" font-family=\"Helvetica,sans-Serif\" font-size=\"14.00\" fill=\"#000000\">gini = 0.0</text>\n<text text-anchor=\"start\" x=\"1904\" y=\"-484.8\" font-family=\"Helvetica,sans-Serif\" font-size=\"14.00\" fill=\"#000000\">samples = 1</text>\n<text text-anchor=\"start\" x=\"1902\" y=\"-470.8\" font-family=\"Helvetica,sans-Serif\" font-size=\"14.00\" fill=\"#000000\">value = [1, 0]</text>\n<text text-anchor=\"start\" x=\"1911\" y=\"-456.8\" font-family=\"Helvetica,sans-Serif\" font-size=\"14.00\" fill=\"#000000\">class = y</text>\n<text text-anchor=\"start\" x=\"1969\" y=\"-456.8\" font-family=\"Helvetica,sans-Serif\" baseline-shift=\"sub\" font-size=\"14.00\" fill=\"#000000\">0</text>\n</g>\n<!-- 144&#45;&gt;145 -->\n<g id=\"edge145\" class=\"edge\">\n<title>144&#45;&gt;145</title>\n<path fill=\"none\" stroke=\"#000000\" d=\"M1985.4748,-555.7677C1979.3732,-544.8991 1972.7339,-533.0729 1966.5742,-522.1009\"/>\n<polygon fill=\"#000000\" stroke=\"#000000\" points=\"1969.4825,-520.1317 1961.5352,-513.1252 1963.3786,-523.5584 1969.4825,-520.1317\"/>\n</g>\n<!-- 146 -->\n<g id=\"node147\" class=\"node\">\n<title>146</title>\n<path fill=\"#399de5\" stroke=\"#000000\" d=\"M2098,-513C2098,-513 2023,-513 2023,-513 2017,-513 2011,-507 2011,-501 2011,-501 2011,-461 2011,-461 2011,-455 2017,-449 2023,-449 2023,-449 2098,-449 2098,-449 2104,-449 2110,-455 2110,-461 2110,-461 2110,-501 2110,-501 2110,-507 2104,-513 2098,-513\"/>\n<text text-anchor=\"start\" x=\"2031\" y=\"-498.8\" font-family=\"Helvetica,sans-Serif\" font-size=\"14.00\" fill=\"#000000\">gini = 0.0</text>\n<text text-anchor=\"start\" x=\"2021\" y=\"-484.8\" font-family=\"Helvetica,sans-Serif\" font-size=\"14.00\" fill=\"#000000\">samples = 1</text>\n<text text-anchor=\"start\" x=\"2019\" y=\"-470.8\" font-family=\"Helvetica,sans-Serif\" font-size=\"14.00\" fill=\"#000000\">value = [0, 1]</text>\n<text text-anchor=\"start\" x=\"2028\" y=\"-456.8\" font-family=\"Helvetica,sans-Serif\" font-size=\"14.00\" fill=\"#000000\">class = y</text>\n<text text-anchor=\"start\" x=\"2086\" y=\"-456.8\" font-family=\"Helvetica,sans-Serif\" baseline-shift=\"sub\" font-size=\"14.00\" fill=\"#000000\">1</text>\n</g>\n<!-- 144&#45;&gt;146 -->\n<g id=\"edge146\" class=\"edge\">\n<title>144&#45;&gt;146</title>\n<path fill=\"none\" stroke=\"#000000\" d=\"M2025.7396,-555.7677C2030.742,-545.0078 2036.1808,-533.3093 2041.2385,-522.4303\"/>\n<polygon fill=\"#000000\" stroke=\"#000000\" points=\"2044.5225,-523.6687 2045.5646,-513.1252 2038.175,-520.7176 2044.5225,-523.6687\"/>\n</g>\n<!-- 148 -->\n<g id=\"node149\" class=\"node\">\n<title>148</title>\n<path fill=\"#ea975c\" stroke=\"#000000\" d=\"M2342,-634C2342,-634 2259,-634 2259,-634 2253,-634 2247,-628 2247,-622 2247,-622 2247,-568 2247,-568 2247,-562 2253,-556 2259,-556 2259,-556 2342,-556 2342,-556 2348,-556 2354,-562 2354,-568 2354,-568 2354,-622 2354,-622 2354,-628 2348,-634 2342,-634\"/>\n<text text-anchor=\"start\" x=\"2259.5\" y=\"-619.8\" font-family=\"Helvetica,sans-Serif\" font-size=\"14.00\" fill=\"#000000\">Fare ≤ 8.175</text>\n<text text-anchor=\"start\" x=\"2262.5\" y=\"-605.8\" font-family=\"Helvetica,sans-Serif\" font-size=\"14.00\" fill=\"#000000\">gini = 0.255</text>\n<text text-anchor=\"start\" x=\"2256.5\" y=\"-591.8\" font-family=\"Helvetica,sans-Serif\" font-size=\"14.00\" fill=\"#000000\">samples = 20</text>\n<text text-anchor=\"start\" x=\"2255\" y=\"-577.8\" font-family=\"Helvetica,sans-Serif\" font-size=\"14.00\" fill=\"#000000\">value = [17, 3]</text>\n<text text-anchor=\"start\" x=\"2268\" y=\"-563.8\" font-family=\"Helvetica,sans-Serif\" font-size=\"14.00\" fill=\"#000000\">class = y</text>\n<text text-anchor=\"start\" x=\"2326\" y=\"-563.8\" font-family=\"Helvetica,sans-Serif\" baseline-shift=\"sub\" font-size=\"14.00\" fill=\"#000000\">0</text>\n</g>\n<!-- 147&#45;&gt;148 -->\n<g id=\"edge148\" class=\"edge\">\n<title>147&#45;&gt;148</title>\n<path fill=\"none\" stroke=\"#000000\" d=\"M2385.7614,-669.7677C2375.2414,-660.5424 2363.9346,-650.6273 2353.1047,-641.1302\"/>\n<polygon fill=\"#000000\" stroke=\"#000000\" points=\"2355.1474,-638.2664 2345.3211,-634.3046 2350.5321,-643.5294 2355.1474,-638.2664\"/>\n</g>\n<!-- 157 -->\n<g id=\"node158\" class=\"node\">\n<title>157</title>\n<path fill=\"#e68742\" stroke=\"#000000\" d=\"M2472,-634C2472,-634 2389,-634 2389,-634 2383,-634 2377,-628 2377,-622 2377,-622 2377,-568 2377,-568 2377,-562 2383,-556 2389,-556 2389,-556 2472,-556 2472,-556 2478,-556 2484,-562 2484,-568 2484,-568 2484,-622 2484,-622 2484,-628 2478,-634 2472,-634\"/>\n<text text-anchor=\"start\" x=\"2389.5\" y=\"-619.8\" font-family=\"Helvetica,sans-Serif\" font-size=\"14.00\" fill=\"#000000\">Fare ≤ 8.081</text>\n<text text-anchor=\"start\" x=\"2392.5\" y=\"-605.8\" font-family=\"Helvetica,sans-Serif\" font-size=\"14.00\" fill=\"#000000\">gini = 0.084</text>\n<text text-anchor=\"start\" x=\"2386.5\" y=\"-591.8\" font-family=\"Helvetica,sans-Serif\" font-size=\"14.00\" fill=\"#000000\">samples = 91</text>\n<text text-anchor=\"start\" x=\"2385\" y=\"-577.8\" font-family=\"Helvetica,sans-Serif\" font-size=\"14.00\" fill=\"#000000\">value = [87, 4]</text>\n<text text-anchor=\"start\" x=\"2398\" y=\"-563.8\" font-family=\"Helvetica,sans-Serif\" font-size=\"14.00\" fill=\"#000000\">class = y</text>\n<text text-anchor=\"start\" x=\"2456\" y=\"-563.8\" font-family=\"Helvetica,sans-Serif\" baseline-shift=\"sub\" font-size=\"14.00\" fill=\"#000000\">0</text>\n</g>\n<!-- 147&#45;&gt;157 -->\n<g id=\"edge157\" class=\"edge\">\n<title>147&#45;&gt;157</title>\n<path fill=\"none\" stroke=\"#000000\" d=\"M2430.5,-669.7677C2430.5,-661.6172 2430.5,-652.9283 2430.5,-644.4649\"/>\n<polygon fill=\"#000000\" stroke=\"#000000\" points=\"2434.0001,-644.3046 2430.5,-634.3046 2427.0001,-644.3047 2434.0001,-644.3046\"/>\n</g>\n<!-- 149 -->\n<g id=\"node150\" class=\"node\">\n<title>149</title>\n<path fill=\"#eeab7b\" stroke=\"#000000\" d=\"M2220.5,-520C2220.5,-520 2140.5,-520 2140.5,-520 2134.5,-520 2128.5,-514 2128.5,-508 2128.5,-508 2128.5,-454 2128.5,-454 2128.5,-448 2134.5,-442 2140.5,-442 2140.5,-442 2220.5,-442 2220.5,-442 2226.5,-442 2232.5,-448 2232.5,-454 2232.5,-454 2232.5,-508 2232.5,-508 2232.5,-514 2226.5,-520 2220.5,-520\"/>\n<text text-anchor=\"start\" x=\"2139.5\" y=\"-505.8\" font-family=\"Helvetica,sans-Serif\" font-size=\"14.00\" fill=\"#000000\">Fare ≤ 7.973</text>\n<text text-anchor=\"start\" x=\"2142.5\" y=\"-491.8\" font-family=\"Helvetica,sans-Serif\" font-size=\"14.00\" fill=\"#000000\">gini = 0.375</text>\n<text text-anchor=\"start\" x=\"2136.5\" y=\"-477.8\" font-family=\"Helvetica,sans-Serif\" font-size=\"14.00\" fill=\"#000000\">samples = 12</text>\n<text text-anchor=\"start\" x=\"2139\" y=\"-463.8\" font-family=\"Helvetica,sans-Serif\" font-size=\"14.00\" fill=\"#000000\">value = [9, 3]</text>\n<text text-anchor=\"start\" x=\"2148\" y=\"-449.8\" font-family=\"Helvetica,sans-Serif\" font-size=\"14.00\" fill=\"#000000\">class = y</text>\n<text text-anchor=\"start\" x=\"2206\" y=\"-449.8\" font-family=\"Helvetica,sans-Serif\" baseline-shift=\"sub\" font-size=\"14.00\" fill=\"#000000\">0</text>\n</g>\n<!-- 148&#45;&gt;149 -->\n<g id=\"edge149\" class=\"edge\">\n<title>148&#45;&gt;149</title>\n<path fill=\"none\" stroke=\"#000000\" d=\"M2259.2028,-555.7677C2249.5863,-546.632 2239.2576,-536.8198 2229.3494,-527.407\"/>\n<polygon fill=\"#000000\" stroke=\"#000000\" points=\"2231.534,-524.6547 2221.8733,-520.3046 2226.7127,-529.7297 2231.534,-524.6547\"/>\n</g>\n<!-- 156 -->\n<g id=\"node157\" class=\"node\">\n<title>156</title>\n<path fill=\"#e58139\" stroke=\"#000000\" d=\"M2338,-513C2338,-513 2263,-513 2263,-513 2257,-513 2251,-507 2251,-501 2251,-501 2251,-461 2251,-461 2251,-455 2257,-449 2263,-449 2263,-449 2338,-449 2338,-449 2344,-449 2350,-455 2350,-461 2350,-461 2350,-501 2350,-501 2350,-507 2344,-513 2338,-513\"/>\n<text text-anchor=\"start\" x=\"2271\" y=\"-498.8\" font-family=\"Helvetica,sans-Serif\" font-size=\"14.00\" fill=\"#000000\">gini = 0.0</text>\n<text text-anchor=\"start\" x=\"2261\" y=\"-484.8\" font-family=\"Helvetica,sans-Serif\" font-size=\"14.00\" fill=\"#000000\">samples = 8</text>\n<text text-anchor=\"start\" x=\"2259\" y=\"-470.8\" font-family=\"Helvetica,sans-Serif\" font-size=\"14.00\" fill=\"#000000\">value = [8, 0]</text>\n<text text-anchor=\"start\" x=\"2268\" y=\"-456.8\" font-family=\"Helvetica,sans-Serif\" font-size=\"14.00\" fill=\"#000000\">class = y</text>\n<text text-anchor=\"start\" x=\"2326\" y=\"-456.8\" font-family=\"Helvetica,sans-Serif\" baseline-shift=\"sub\" font-size=\"14.00\" fill=\"#000000\">0</text>\n</g>\n<!-- 148&#45;&gt;156 -->\n<g id=\"edge156\" class=\"edge\">\n<title>148&#45;&gt;156</title>\n<path fill=\"none\" stroke=\"#000000\" d=\"M2300.5,-555.7677C2300.5,-545.3338 2300.5,-534.0174 2300.5,-523.4215\"/>\n<polygon fill=\"#000000\" stroke=\"#000000\" points=\"2304.0001,-523.1252 2300.5,-513.1252 2297.0001,-523.1252 2304.0001,-523.1252\"/>\n</g>\n<!-- 150 -->\n<g id=\"node151\" class=\"node\">\n<title>150</title>\n<path fill=\"#e58139\" stroke=\"#000000\" d=\"M2100,-399C2100,-399 2025,-399 2025,-399 2019,-399 2013,-393 2013,-387 2013,-387 2013,-347 2013,-347 2013,-341 2019,-335 2025,-335 2025,-335 2100,-335 2100,-335 2106,-335 2112,-341 2112,-347 2112,-347 2112,-387 2112,-387 2112,-393 2106,-399 2100,-399\"/>\n<text text-anchor=\"start\" x=\"2033\" y=\"-384.8\" font-family=\"Helvetica,sans-Serif\" font-size=\"14.00\" fill=\"#000000\">gini = 0.0</text>\n<text text-anchor=\"start\" x=\"2023\" y=\"-370.8\" font-family=\"Helvetica,sans-Serif\" font-size=\"14.00\" fill=\"#000000\">samples = 7</text>\n<text text-anchor=\"start\" x=\"2021\" y=\"-356.8\" font-family=\"Helvetica,sans-Serif\" font-size=\"14.00\" fill=\"#000000\">value = [7, 0]</text>\n<text text-anchor=\"start\" x=\"2030\" y=\"-342.8\" font-family=\"Helvetica,sans-Serif\" font-size=\"14.00\" fill=\"#000000\">class = y</text>\n<text text-anchor=\"start\" x=\"2088\" y=\"-342.8\" font-family=\"Helvetica,sans-Serif\" baseline-shift=\"sub\" font-size=\"14.00\" fill=\"#000000\">0</text>\n</g>\n<!-- 149&#45;&gt;150 -->\n<g id=\"edge150\" class=\"edge\">\n<title>149&#45;&gt;150</title>\n<path fill=\"none\" stroke=\"#000000\" d=\"M2139.8911,-441.7677C2127.9661,-430.247 2114.9275,-417.6503 2103.0088,-406.1356\"/>\n<polygon fill=\"#000000\" stroke=\"#000000\" points=\"2105.3762,-403.5562 2095.7524,-399.1252 2100.5125,-408.5905 2105.3762,-403.5562\"/>\n</g>\n<!-- 151 -->\n<g id=\"node152\" class=\"node\">\n<title>151</title>\n<path fill=\"#bddef6\" stroke=\"#000000\" d=\"M2217,-406C2217,-406 2142,-406 2142,-406 2136,-406 2130,-400 2130,-394 2130,-394 2130,-340 2130,-340 2130,-334 2136,-328 2142,-328 2142,-328 2217,-328 2217,-328 2223,-328 2229,-334 2229,-340 2229,-340 2229,-394 2229,-394 2229,-400 2223,-406 2217,-406\"/>\n<text text-anchor=\"start\" x=\"2144.5\" y=\"-391.8\" font-family=\"Helvetica,sans-Serif\" font-size=\"14.00\" fill=\"#000000\">Age ≤ 17.0</text>\n<text text-anchor=\"start\" x=\"2146\" y=\"-377.8\" font-family=\"Helvetica,sans-Serif\" font-size=\"14.00\" fill=\"#000000\">gini = 0.48</text>\n<text text-anchor=\"start\" x=\"2140\" y=\"-363.8\" font-family=\"Helvetica,sans-Serif\" font-size=\"14.00\" fill=\"#000000\">samples = 5</text>\n<text text-anchor=\"start\" x=\"2138\" y=\"-349.8\" font-family=\"Helvetica,sans-Serif\" font-size=\"14.00\" fill=\"#000000\">value = [2, 3]</text>\n<text text-anchor=\"start\" x=\"2147\" y=\"-335.8\" font-family=\"Helvetica,sans-Serif\" font-size=\"14.00\" fill=\"#000000\">class = y</text>\n<text text-anchor=\"start\" x=\"2205\" y=\"-335.8\" font-family=\"Helvetica,sans-Serif\" baseline-shift=\"sub\" font-size=\"14.00\" fill=\"#000000\">1</text>\n</g>\n<!-- 149&#45;&gt;151 -->\n<g id=\"edge151\" class=\"edge\">\n<title>149&#45;&gt;151</title>\n<path fill=\"none\" stroke=\"#000000\" d=\"M2180.1559,-441.7677C2180.0844,-433.6172 2180.0081,-424.9283 2179.9339,-416.4649\"/>\n<polygon fill=\"#000000\" stroke=\"#000000\" points=\"2183.4325,-416.2735 2179.8448,-406.3046 2176.4327,-416.335 2183.4325,-416.2735\"/>\n</g>\n<!-- 152 -->\n<g id=\"node153\" class=\"node\">\n<title>152</title>\n<path fill=\"#ffffff\" stroke=\"#000000\" d=\"M2100,-285C2100,-285 2025,-285 2025,-285 2019,-285 2013,-279 2013,-273 2013,-273 2013,-233 2013,-233 2013,-227 2019,-221 2025,-221 2025,-221 2100,-221 2100,-221 2106,-221 2112,-227 2112,-233 2112,-233 2112,-273 2112,-273 2112,-279 2106,-285 2100,-285\"/>\n<text text-anchor=\"start\" x=\"2033\" y=\"-270.8\" font-family=\"Helvetica,sans-Serif\" font-size=\"14.00\" fill=\"#000000\">gini = 0.5</text>\n<text text-anchor=\"start\" x=\"2023\" y=\"-256.8\" font-family=\"Helvetica,sans-Serif\" font-size=\"14.00\" fill=\"#000000\">samples = 2</text>\n<text text-anchor=\"start\" x=\"2021\" y=\"-242.8\" font-family=\"Helvetica,sans-Serif\" font-size=\"14.00\" fill=\"#000000\">value = [1, 1]</text>\n<text text-anchor=\"start\" x=\"2030\" y=\"-228.8\" font-family=\"Helvetica,sans-Serif\" font-size=\"14.00\" fill=\"#000000\">class = y</text>\n<text text-anchor=\"start\" x=\"2088\" y=\"-228.8\" font-family=\"Helvetica,sans-Serif\" baseline-shift=\"sub\" font-size=\"14.00\" fill=\"#000000\">0</text>\n</g>\n<!-- 151&#45;&gt;152 -->\n<g id=\"edge152\" class=\"edge\">\n<title>151&#45;&gt;152</title>\n<path fill=\"none\" stroke=\"#000000\" d=\"M2139.2352,-327.7677C2127.4113,-316.247 2114.4832,-303.6503 2102.6655,-292.1356\"/>\n<polygon fill=\"#000000\" stroke=\"#000000\" points=\"2105.0755,-289.5971 2095.4706,-285.1252 2100.1904,-294.6107 2105.0755,-289.5971\"/>\n</g>\n<!-- 153 -->\n<g id=\"node154\" class=\"node\">\n<title>153</title>\n<path fill=\"#9ccef2\" stroke=\"#000000\" d=\"M2217,-292C2217,-292 2142,-292 2142,-292 2136,-292 2130,-286 2130,-280 2130,-280 2130,-226 2130,-226 2130,-220 2136,-214 2142,-214 2142,-214 2217,-214 2217,-214 2223,-214 2229,-220 2229,-226 2229,-226 2229,-280 2229,-280 2229,-286 2223,-292 2217,-292\"/>\n<text text-anchor=\"start\" x=\"2144.5\" y=\"-277.8\" font-family=\"Helvetica,sans-Serif\" font-size=\"14.00\" fill=\"#000000\">Age ≤ 18.5</text>\n<text text-anchor=\"start\" x=\"2141.5\" y=\"-263.8\" font-family=\"Helvetica,sans-Serif\" font-size=\"14.00\" fill=\"#000000\">gini = 0.444</text>\n<text text-anchor=\"start\" x=\"2140\" y=\"-249.8\" font-family=\"Helvetica,sans-Serif\" font-size=\"14.00\" fill=\"#000000\">samples = 3</text>\n<text text-anchor=\"start\" x=\"2138\" y=\"-235.8\" font-family=\"Helvetica,sans-Serif\" font-size=\"14.00\" fill=\"#000000\">value = [1, 2]</text>\n<text text-anchor=\"start\" x=\"2147\" y=\"-221.8\" font-family=\"Helvetica,sans-Serif\" font-size=\"14.00\" fill=\"#000000\">class = y</text>\n<text text-anchor=\"start\" x=\"2205\" y=\"-221.8\" font-family=\"Helvetica,sans-Serif\" baseline-shift=\"sub\" font-size=\"14.00\" fill=\"#000000\">1</text>\n</g>\n<!-- 151&#45;&gt;153 -->\n<g id=\"edge153\" class=\"edge\">\n<title>151&#45;&gt;153</title>\n<path fill=\"none\" stroke=\"#000000\" d=\"M2179.5,-327.7677C2179.5,-319.6172 2179.5,-310.9283 2179.5,-302.4649\"/>\n<polygon fill=\"#000000\" stroke=\"#000000\" points=\"2183.0001,-302.3046 2179.5,-292.3046 2176.0001,-302.3047 2183.0001,-302.3046\"/>\n</g>\n<!-- 154 -->\n<g id=\"node155\" class=\"node\">\n<title>154</title>\n<path fill=\"#399de5\" stroke=\"#000000\" d=\"M1985,-171C1985,-171 1910,-171 1910,-171 1904,-171 1898,-165 1898,-159 1898,-159 1898,-119 1898,-119 1898,-113 1904,-107 1910,-107 1910,-107 1985,-107 1985,-107 1991,-107 1997,-113 1997,-119 1997,-119 1997,-159 1997,-159 1997,-165 1991,-171 1985,-171\"/>\n<text text-anchor=\"start\" x=\"1918\" y=\"-156.8\" font-family=\"Helvetica,sans-Serif\" font-size=\"14.00\" fill=\"#000000\">gini = 0.0</text>\n<text text-anchor=\"start\" x=\"1908\" y=\"-142.8\" font-family=\"Helvetica,sans-Serif\" font-size=\"14.00\" fill=\"#000000\">samples = 1</text>\n<text text-anchor=\"start\" x=\"1906\" y=\"-128.8\" font-family=\"Helvetica,sans-Serif\" font-size=\"14.00\" fill=\"#000000\">value = [0, 1]</text>\n<text text-anchor=\"start\" x=\"1915\" y=\"-114.8\" font-family=\"Helvetica,sans-Serif\" font-size=\"14.00\" fill=\"#000000\">class = y</text>\n<text text-anchor=\"start\" x=\"1973\" y=\"-114.8\" font-family=\"Helvetica,sans-Serif\" baseline-shift=\"sub\" font-size=\"14.00\" fill=\"#000000\">1</text>\n</g>\n<!-- 153&#45;&gt;154 -->\n<g id=\"edge154\" class=\"edge\">\n<title>153&#45;&gt;154</title>\n<path fill=\"none\" stroke=\"#000000\" d=\"M2129.852,-218.8099C2126.7367,-217.0956 2123.6051,-215.476 2120.5,-214 2072.1297,-191.0074 2053.7792,-201.1833 2005.5,-178 2004.1669,-177.3598 2002.8292,-176.6923 2001.4905,-176.0013\"/>\n<polygon fill=\"#000000\" stroke=\"#000000\" points=\"2003.1238,-172.9051 1992.6762,-171.1447 1999.7457,-179.0361 2003.1238,-172.9051\"/>\n</g>\n<!-- 155 -->\n<g id=\"node156\" class=\"node\">\n<title>155</title>\n<path fill=\"#ffffff\" stroke=\"#000000\" d=\"M2102,-171C2102,-171 2027,-171 2027,-171 2021,-171 2015,-165 2015,-159 2015,-159 2015,-119 2015,-119 2015,-113 2021,-107 2027,-107 2027,-107 2102,-107 2102,-107 2108,-107 2114,-113 2114,-119 2114,-119 2114,-159 2114,-159 2114,-165 2108,-171 2102,-171\"/>\n<text text-anchor=\"start\" x=\"2035\" y=\"-156.8\" font-family=\"Helvetica,sans-Serif\" font-size=\"14.00\" fill=\"#000000\">gini = 0.5</text>\n<text text-anchor=\"start\" x=\"2025\" y=\"-142.8\" font-family=\"Helvetica,sans-Serif\" font-size=\"14.00\" fill=\"#000000\">samples = 2</text>\n<text text-anchor=\"start\" x=\"2023\" y=\"-128.8\" font-family=\"Helvetica,sans-Serif\" font-size=\"14.00\" fill=\"#000000\">value = [1, 1]</text>\n<text text-anchor=\"start\" x=\"2032\" y=\"-114.8\" font-family=\"Helvetica,sans-Serif\" font-size=\"14.00\" fill=\"#000000\">class = y</text>\n<text text-anchor=\"start\" x=\"2090\" y=\"-114.8\" font-family=\"Helvetica,sans-Serif\" baseline-shift=\"sub\" font-size=\"14.00\" fill=\"#000000\">0</text>\n</g>\n<!-- 153&#45;&gt;155 -->\n<g id=\"edge155\" class=\"edge\">\n<title>153&#45;&gt;155</title>\n<path fill=\"none\" stroke=\"#000000\" d=\"M2139.9235,-213.7677C2128.4114,-202.3556 2115.8342,-189.8878 2104.3079,-178.4618\"/>\n<polygon fill=\"#000000\" stroke=\"#000000\" points=\"2106.473,-175.6797 2096.907,-171.1252 2101.5449,-180.651 2106.473,-175.6797\"/>\n</g>\n<!-- 158 -->\n<g id=\"node159\" class=\"node\">\n<title>158</title>\n<path fill=\"#e6853f\" stroke=\"#000000\" d=\"M2463,-520C2463,-520 2380,-520 2380,-520 2374,-520 2368,-514 2368,-508 2368,-508 2368,-454 2368,-454 2368,-448 2374,-442 2380,-442 2380,-442 2463,-442 2463,-442 2469,-442 2475,-448 2475,-454 2475,-454 2475,-508 2475,-508 2475,-514 2469,-520 2463,-520\"/>\n<text text-anchor=\"start\" x=\"2380.5\" y=\"-505.8\" font-family=\"Helvetica,sans-Serif\" font-size=\"14.00\" fill=\"#000000\">Fare ≤ 7.798</text>\n<text text-anchor=\"start\" x=\"2383.5\" y=\"-491.8\" font-family=\"Helvetica,sans-Serif\" font-size=\"14.00\" fill=\"#000000\">gini = 0.056</text>\n<text text-anchor=\"start\" x=\"2377.5\" y=\"-477.8\" font-family=\"Helvetica,sans-Serif\" font-size=\"14.00\" fill=\"#000000\">samples = 69</text>\n<text text-anchor=\"start\" x=\"2376\" y=\"-463.8\" font-family=\"Helvetica,sans-Serif\" font-size=\"14.00\" fill=\"#000000\">value = [67, 2]</text>\n<text text-anchor=\"start\" x=\"2389\" y=\"-449.8\" font-family=\"Helvetica,sans-Serif\" font-size=\"14.00\" fill=\"#000000\">class = y</text>\n<text text-anchor=\"start\" x=\"2447\" y=\"-449.8\" font-family=\"Helvetica,sans-Serif\" baseline-shift=\"sub\" font-size=\"14.00\" fill=\"#000000\">0</text>\n</g>\n<!-- 157&#45;&gt;158 -->\n<g id=\"edge158\" class=\"edge\">\n<title>157&#45;&gt;158</title>\n<path fill=\"none\" stroke=\"#000000\" d=\"M2427.4027,-555.7677C2426.7593,-547.6172 2426.0733,-538.9283 2425.4051,-530.4649\"/>\n<polygon fill=\"#000000\" stroke=\"#000000\" points=\"2428.8793,-529.9981 2424.603,-520.3046 2421.901,-530.5491 2428.8793,-529.9981\"/>\n</g>\n<!-- 169 -->\n<g id=\"node170\" class=\"node\">\n<title>169</title>\n<path fill=\"#e88e4d\" stroke=\"#000000\" d=\"M2588,-520C2588,-520 2505,-520 2505,-520 2499,-520 2493,-514 2493,-508 2493,-508 2493,-454 2493,-454 2493,-448 2499,-442 2505,-442 2505,-442 2588,-442 2588,-442 2594,-442 2600,-448 2600,-454 2600,-454 2600,-508 2600,-508 2600,-514 2594,-520 2588,-520\"/>\n<text text-anchor=\"start\" x=\"2505.5\" y=\"-505.8\" font-family=\"Helvetica,sans-Serif\" font-size=\"14.00\" fill=\"#000000\">Fare ≤ 8.273</text>\n<text text-anchor=\"start\" x=\"2508.5\" y=\"-491.8\" font-family=\"Helvetica,sans-Serif\" font-size=\"14.00\" fill=\"#000000\">gini = 0.165</text>\n<text text-anchor=\"start\" x=\"2502.5\" y=\"-477.8\" font-family=\"Helvetica,sans-Serif\" font-size=\"14.00\" fill=\"#000000\">samples = 22</text>\n<text text-anchor=\"start\" x=\"2501\" y=\"-463.8\" font-family=\"Helvetica,sans-Serif\" font-size=\"14.00\" fill=\"#000000\">value = [20, 2]</text>\n<text text-anchor=\"start\" x=\"2514\" y=\"-449.8\" font-family=\"Helvetica,sans-Serif\" font-size=\"14.00\" fill=\"#000000\">class = y</text>\n<text text-anchor=\"start\" x=\"2572\" y=\"-449.8\" font-family=\"Helvetica,sans-Serif\" baseline-shift=\"sub\" font-size=\"14.00\" fill=\"#000000\">0</text>\n</g>\n<!-- 157&#45;&gt;169 -->\n<g id=\"edge169\" class=\"edge\">\n<title>157&#45;&gt;169</title>\n<path fill=\"none\" stroke=\"#000000\" d=\"M2470.4206,-555.7677C2479.7166,-546.632 2489.7009,-536.8198 2499.2789,-527.407\"/>\n<polygon fill=\"#000000\" stroke=\"#000000\" points=\"2501.8268,-529.8103 2506.5058,-520.3046 2496.9202,-524.8177 2501.8268,-529.8103\"/>\n</g>\n<!-- 159 -->\n<g id=\"node160\" class=\"node\">\n<title>159</title>\n<path fill=\"#e78c49\" stroke=\"#000000\" d=\"M2342,-406C2342,-406 2259,-406 2259,-406 2253,-406 2247,-400 2247,-394 2247,-394 2247,-340 2247,-340 2247,-334 2253,-328 2259,-328 2259,-328 2342,-328 2342,-328 2348,-328 2354,-334 2354,-340 2354,-340 2354,-394 2354,-394 2354,-400 2348,-406 2342,-406\"/>\n<text text-anchor=\"start\" x=\"2265.5\" y=\"-391.8\" font-family=\"Helvetica,sans-Serif\" font-size=\"14.00\" fill=\"#000000\">Age ≤ 21.5</text>\n<text text-anchor=\"start\" x=\"2262.5\" y=\"-377.8\" font-family=\"Helvetica,sans-Serif\" font-size=\"14.00\" fill=\"#000000\">gini = 0.142</text>\n<text text-anchor=\"start\" x=\"2256.5\" y=\"-363.8\" font-family=\"Helvetica,sans-Serif\" font-size=\"14.00\" fill=\"#000000\">samples = 26</text>\n<text text-anchor=\"start\" x=\"2255\" y=\"-349.8\" font-family=\"Helvetica,sans-Serif\" font-size=\"14.00\" fill=\"#000000\">value = [24, 2]</text>\n<text text-anchor=\"start\" x=\"2268\" y=\"-335.8\" font-family=\"Helvetica,sans-Serif\" font-size=\"14.00\" fill=\"#000000\">class = y</text>\n<text text-anchor=\"start\" x=\"2326\" y=\"-335.8\" font-family=\"Helvetica,sans-Serif\" baseline-shift=\"sub\" font-size=\"14.00\" fill=\"#000000\">0</text>\n</g>\n<!-- 158&#45;&gt;159 -->\n<g id=\"edge159\" class=\"edge\">\n<title>158&#45;&gt;159</title>\n<path fill=\"none\" stroke=\"#000000\" d=\"M2379.8587,-441.7677C2370.162,-432.632 2359.7473,-422.8198 2349.7565,-413.407\"/>\n<polygon fill=\"#000000\" stroke=\"#000000\" points=\"2351.8967,-410.6146 2342.2181,-406.3046 2347.0965,-415.7096 2351.8967,-410.6146\"/>\n</g>\n<!-- 168 -->\n<g id=\"node169\" class=\"node\">\n<title>168</title>\n<path fill=\"#e58139\" stroke=\"#000000\" d=\"M2467,-399C2467,-399 2384,-399 2384,-399 2378,-399 2372,-393 2372,-387 2372,-387 2372,-347 2372,-347 2372,-341 2378,-335 2384,-335 2384,-335 2467,-335 2467,-335 2473,-335 2479,-341 2479,-347 2479,-347 2479,-387 2479,-387 2479,-393 2473,-399 2467,-399\"/>\n<text text-anchor=\"start\" x=\"2396\" y=\"-384.8\" font-family=\"Helvetica,sans-Serif\" font-size=\"14.00\" fill=\"#000000\">gini = 0.0</text>\n<text text-anchor=\"start\" x=\"2381.5\" y=\"-370.8\" font-family=\"Helvetica,sans-Serif\" font-size=\"14.00\" fill=\"#000000\">samples = 43</text>\n<text text-anchor=\"start\" x=\"2380\" y=\"-356.8\" font-family=\"Helvetica,sans-Serif\" font-size=\"14.00\" fill=\"#000000\">value = [43, 0]</text>\n<text text-anchor=\"start\" x=\"2393\" y=\"-342.8\" font-family=\"Helvetica,sans-Serif\" font-size=\"14.00\" fill=\"#000000\">class = y</text>\n<text text-anchor=\"start\" x=\"2451\" y=\"-342.8\" font-family=\"Helvetica,sans-Serif\" baseline-shift=\"sub\" font-size=\"14.00\" fill=\"#000000\">0</text>\n</g>\n<!-- 158&#45;&gt;168 -->\n<g id=\"edge168\" class=\"edge\">\n<title>158&#45;&gt;168</title>\n<path fill=\"none\" stroke=\"#000000\" d=\"M2422.8766,-441.7677C2423.2427,-431.3338 2423.6397,-420.0174 2424.0115,-409.4215\"/>\n<polygon fill=\"#000000\" stroke=\"#000000\" points=\"2427.5199,-409.2418 2424.3728,-399.1252 2420.5242,-408.9963 2427.5199,-409.2418\"/>\n</g>\n<!-- 160 -->\n<g id=\"node161\" class=\"node\">\n<title>160</title>\n<path fill=\"#ffffff\" stroke=\"#000000\" d=\"M2336,-292C2336,-292 2261,-292 2261,-292 2255,-292 2249,-286 2249,-280 2249,-280 2249,-226 2249,-226 2249,-220 2255,-214 2261,-214 2261,-214 2336,-214 2336,-214 2342,-214 2348,-220 2348,-226 2348,-226 2348,-280 2348,-280 2348,-286 2342,-292 2336,-292\"/>\n<text text-anchor=\"start\" x=\"2257.5\" y=\"-277.8\" font-family=\"Helvetica,sans-Serif\" font-size=\"14.00\" fill=\"#000000\">Fare ≤ 7.523</text>\n<text text-anchor=\"start\" x=\"2269\" y=\"-263.8\" font-family=\"Helvetica,sans-Serif\" font-size=\"14.00\" fill=\"#000000\">gini = 0.5</text>\n<text text-anchor=\"start\" x=\"2259\" y=\"-249.8\" font-family=\"Helvetica,sans-Serif\" font-size=\"14.00\" fill=\"#000000\">samples = 2</text>\n<text text-anchor=\"start\" x=\"2257\" y=\"-235.8\" font-family=\"Helvetica,sans-Serif\" font-size=\"14.00\" fill=\"#000000\">value = [1, 1]</text>\n<text text-anchor=\"start\" x=\"2266\" y=\"-221.8\" font-family=\"Helvetica,sans-Serif\" font-size=\"14.00\" fill=\"#000000\">class = y</text>\n<text text-anchor=\"start\" x=\"2324\" y=\"-221.8\" font-family=\"Helvetica,sans-Serif\" baseline-shift=\"sub\" font-size=\"14.00\" fill=\"#000000\">0</text>\n</g>\n<!-- 159&#45;&gt;160 -->\n<g id=\"edge160\" class=\"edge\">\n<title>159&#45;&gt;160</title>\n<path fill=\"none\" stroke=\"#000000\" d=\"M2299.8117,-327.7677C2299.6687,-319.6172 2299.5163,-310.9283 2299.3678,-302.4649\"/>\n<polygon fill=\"#000000\" stroke=\"#000000\" points=\"2302.8645,-302.2417 2299.1896,-292.3046 2295.8656,-302.3645 2302.8645,-302.2417\"/>\n</g>\n<!-- 163 -->\n<g id=\"node164\" class=\"node\">\n<title>163</title>\n<path fill=\"#e68642\" stroke=\"#000000\" d=\"M2461,-292C2461,-292 2378,-292 2378,-292 2372,-292 2366,-286 2366,-280 2366,-280 2366,-226 2366,-226 2366,-220 2372,-214 2378,-214 2378,-214 2461,-214 2461,-214 2467,-214 2473,-220 2473,-226 2473,-226 2473,-280 2473,-280 2473,-286 2467,-292 2461,-292\"/>\n<text text-anchor=\"start\" x=\"2378.5\" y=\"-277.8\" font-family=\"Helvetica,sans-Serif\" font-size=\"14.00\" fill=\"#000000\">Fare ≤ 7.746</text>\n<text text-anchor=\"start\" x=\"2386\" y=\"-263.8\" font-family=\"Helvetica,sans-Serif\" font-size=\"14.00\" fill=\"#000000\">gini = 0.08</text>\n<text text-anchor=\"start\" x=\"2375.5\" y=\"-249.8\" font-family=\"Helvetica,sans-Serif\" font-size=\"14.00\" fill=\"#000000\">samples = 24</text>\n<text text-anchor=\"start\" x=\"2374\" y=\"-235.8\" font-family=\"Helvetica,sans-Serif\" font-size=\"14.00\" fill=\"#000000\">value = [23, 1]</text>\n<text text-anchor=\"start\" x=\"2387\" y=\"-221.8\" font-family=\"Helvetica,sans-Serif\" font-size=\"14.00\" fill=\"#000000\">class = y</text>\n<text text-anchor=\"start\" x=\"2445\" y=\"-221.8\" font-family=\"Helvetica,sans-Serif\" baseline-shift=\"sub\" font-size=\"14.00\" fill=\"#000000\">0</text>\n</g>\n<!-- 159&#45;&gt;163 -->\n<g id=\"edge163\" class=\"edge\">\n<title>159&#45;&gt;163</title>\n<path fill=\"none\" stroke=\"#000000\" d=\"M2341.453,-327.7677C2350.9894,-318.632 2361.232,-308.8198 2371.0576,-299.407\"/>\n<polygon fill=\"#000000\" stroke=\"#000000\" points=\"2373.6715,-301.7498 2378.4715,-292.3046 2368.8291,-296.695 2373.6715,-301.7498\"/>\n</g>\n<!-- 161 -->\n<g id=\"node162\" class=\"node\">\n<title>161</title>\n<path fill=\"#e58139\" stroke=\"#000000\" d=\"M2219,-171C2219,-171 2144,-171 2144,-171 2138,-171 2132,-165 2132,-159 2132,-159 2132,-119 2132,-119 2132,-113 2138,-107 2144,-107 2144,-107 2219,-107 2219,-107 2225,-107 2231,-113 2231,-119 2231,-119 2231,-159 2231,-159 2231,-165 2225,-171 2219,-171\"/>\n<text text-anchor=\"start\" x=\"2152\" y=\"-156.8\" font-family=\"Helvetica,sans-Serif\" font-size=\"14.00\" fill=\"#000000\">gini = 0.0</text>\n<text text-anchor=\"start\" x=\"2142\" y=\"-142.8\" font-family=\"Helvetica,sans-Serif\" font-size=\"14.00\" fill=\"#000000\">samples = 1</text>\n<text text-anchor=\"start\" x=\"2140\" y=\"-128.8\" font-family=\"Helvetica,sans-Serif\" font-size=\"14.00\" fill=\"#000000\">value = [1, 0]</text>\n<text text-anchor=\"start\" x=\"2149\" y=\"-114.8\" font-family=\"Helvetica,sans-Serif\" font-size=\"14.00\" fill=\"#000000\">class = y</text>\n<text text-anchor=\"start\" x=\"2207\" y=\"-114.8\" font-family=\"Helvetica,sans-Serif\" baseline-shift=\"sub\" font-size=\"14.00\" fill=\"#000000\">0</text>\n</g>\n<!-- 160&#45;&gt;161 -->\n<g id=\"edge161\" class=\"edge\">\n<title>160&#45;&gt;161</title>\n<path fill=\"none\" stroke=\"#000000\" d=\"M2258.2352,-213.7677C2246.4113,-202.247 2233.4832,-189.6503 2221.6655,-178.1356\"/>\n<polygon fill=\"#000000\" stroke=\"#000000\" points=\"2224.0755,-175.5971 2214.4706,-171.1252 2219.1904,-180.6107 2224.0755,-175.5971\"/>\n</g>\n<!-- 162 -->\n<g id=\"node163\" class=\"node\">\n<title>162</title>\n<path fill=\"#399de5\" stroke=\"#000000\" d=\"M2336,-171C2336,-171 2261,-171 2261,-171 2255,-171 2249,-165 2249,-159 2249,-159 2249,-119 2249,-119 2249,-113 2255,-107 2261,-107 2261,-107 2336,-107 2336,-107 2342,-107 2348,-113 2348,-119 2348,-119 2348,-159 2348,-159 2348,-165 2342,-171 2336,-171\"/>\n<text text-anchor=\"start\" x=\"2269\" y=\"-156.8\" font-family=\"Helvetica,sans-Serif\" font-size=\"14.00\" fill=\"#000000\">gini = 0.0</text>\n<text text-anchor=\"start\" x=\"2259\" y=\"-142.8\" font-family=\"Helvetica,sans-Serif\" font-size=\"14.00\" fill=\"#000000\">samples = 1</text>\n<text text-anchor=\"start\" x=\"2257\" y=\"-128.8\" font-family=\"Helvetica,sans-Serif\" font-size=\"14.00\" fill=\"#000000\">value = [0, 1]</text>\n<text text-anchor=\"start\" x=\"2266\" y=\"-114.8\" font-family=\"Helvetica,sans-Serif\" font-size=\"14.00\" fill=\"#000000\">class = y</text>\n<text text-anchor=\"start\" x=\"2324\" y=\"-114.8\" font-family=\"Helvetica,sans-Serif\" baseline-shift=\"sub\" font-size=\"14.00\" fill=\"#000000\">1</text>\n</g>\n<!-- 160&#45;&gt;162 -->\n<g id=\"edge162\" class=\"edge\">\n<title>160&#45;&gt;162</title>\n<path fill=\"none\" stroke=\"#000000\" d=\"M2298.5,-213.7677C2298.5,-203.3338 2298.5,-192.0174 2298.5,-181.4215\"/>\n<polygon fill=\"#000000\" stroke=\"#000000\" points=\"2302.0001,-181.1252 2298.5,-171.1252 2295.0001,-181.1252 2302.0001,-181.1252\"/>\n</g>\n<!-- 164 -->\n<g id=\"node165\" class=\"node\">\n<title>164</title>\n<path fill=\"#e58139\" stroke=\"#000000\" d=\"M2461,-171C2461,-171 2378,-171 2378,-171 2372,-171 2366,-165 2366,-159 2366,-159 2366,-119 2366,-119 2366,-113 2372,-107 2378,-107 2378,-107 2461,-107 2461,-107 2467,-107 2473,-113 2473,-119 2473,-119 2473,-159 2473,-159 2473,-165 2467,-171 2461,-171\"/>\n<text text-anchor=\"start\" x=\"2390\" y=\"-156.8\" font-family=\"Helvetica,sans-Serif\" font-size=\"14.00\" fill=\"#000000\">gini = 0.0</text>\n<text text-anchor=\"start\" x=\"2375.5\" y=\"-142.8\" font-family=\"Helvetica,sans-Serif\" font-size=\"14.00\" fill=\"#000000\">samples = 12</text>\n<text text-anchor=\"start\" x=\"2374\" y=\"-128.8\" font-family=\"Helvetica,sans-Serif\" font-size=\"14.00\" fill=\"#000000\">value = [12, 0]</text>\n<text text-anchor=\"start\" x=\"2387\" y=\"-114.8\" font-family=\"Helvetica,sans-Serif\" font-size=\"14.00\" fill=\"#000000\">class = y</text>\n<text text-anchor=\"start\" x=\"2445\" y=\"-114.8\" font-family=\"Helvetica,sans-Serif\" baseline-shift=\"sub\" font-size=\"14.00\" fill=\"#000000\">0</text>\n</g>\n<!-- 163&#45;&gt;164 -->\n<g id=\"edge164\" class=\"edge\">\n<title>163&#45;&gt;164</title>\n<path fill=\"none\" stroke=\"#000000\" d=\"M2419.5,-213.7677C2419.5,-203.3338 2419.5,-192.0174 2419.5,-181.4215\"/>\n<polygon fill=\"#000000\" stroke=\"#000000\" points=\"2423.0001,-181.1252 2419.5,-171.1252 2416.0001,-181.1252 2423.0001,-181.1252\"/>\n</g>\n<!-- 165 -->\n<g id=\"node166\" class=\"node\">\n<title>165</title>\n<path fill=\"#e78c4b\" stroke=\"#000000\" d=\"M2598,-178C2598,-178 2503,-178 2503,-178 2497,-178 2491,-172 2491,-166 2491,-166 2491,-112 2491,-112 2491,-106 2497,-100 2503,-100 2503,-100 2598,-100 2598,-100 2604,-100 2610,-106 2610,-112 2610,-112 2610,-166 2610,-166 2610,-172 2604,-178 2598,-178\"/>\n<text text-anchor=\"start\" x=\"2499\" y=\"-163.8\" font-family=\"Helvetica,sans-Serif\" font-size=\"14.00\" fill=\"#000000\">Embarked ≤ 1.5</text>\n<text text-anchor=\"start\" x=\"2512.5\" y=\"-149.8\" font-family=\"Helvetica,sans-Serif\" font-size=\"14.00\" fill=\"#000000\">gini = 0.153</text>\n<text text-anchor=\"start\" x=\"2506.5\" y=\"-135.8\" font-family=\"Helvetica,sans-Serif\" font-size=\"14.00\" fill=\"#000000\">samples = 12</text>\n<text text-anchor=\"start\" x=\"2505\" y=\"-121.8\" font-family=\"Helvetica,sans-Serif\" font-size=\"14.00\" fill=\"#000000\">value = [11, 1]</text>\n<text text-anchor=\"start\" x=\"2518\" y=\"-107.8\" font-family=\"Helvetica,sans-Serif\" font-size=\"14.00\" fill=\"#000000\">class = y</text>\n<text text-anchor=\"start\" x=\"2576\" y=\"-107.8\" font-family=\"Helvetica,sans-Serif\" baseline-shift=\"sub\" font-size=\"14.00\" fill=\"#000000\">0</text>\n</g>\n<!-- 163&#45;&gt;165 -->\n<g id=\"edge165\" class=\"edge\">\n<title>163&#45;&gt;165</title>\n<path fill=\"none\" stroke=\"#000000\" d=\"M2464.5828,-213.7677C2475.1837,-204.5424 2486.5774,-194.6273 2497.4907,-185.1302\"/>\n<polygon fill=\"#000000\" stroke=\"#000000\" points=\"2500.0882,-187.5096 2505.3341,-178.3046 2495.4929,-182.2291 2500.0882,-187.5096\"/>\n</g>\n<!-- 166 -->\n<g id=\"node167\" class=\"node\">\n<title>166</title>\n<path fill=\"#e89152\" stroke=\"#000000\" d=\"M2529,-64C2529,-64 2454,-64 2454,-64 2448,-64 2442,-58 2442,-52 2442,-52 2442,-12 2442,-12 2442,-6 2448,0 2454,0 2454,0 2529,0 2529,0 2535,0 2541,-6 2541,-12 2541,-12 2541,-52 2541,-52 2541,-58 2535,-64 2529,-64\"/>\n<text text-anchor=\"start\" x=\"2453.5\" y=\"-49.8\" font-family=\"Helvetica,sans-Serif\" font-size=\"14.00\" fill=\"#000000\">gini = 0.198</text>\n<text text-anchor=\"start\" x=\"2452\" y=\"-35.8\" font-family=\"Helvetica,sans-Serif\" font-size=\"14.00\" fill=\"#000000\">samples = 9</text>\n<text text-anchor=\"start\" x=\"2450\" y=\"-21.8\" font-family=\"Helvetica,sans-Serif\" font-size=\"14.00\" fill=\"#000000\">value = [8, 1]</text>\n<text text-anchor=\"start\" x=\"2459\" y=\"-7.8\" font-family=\"Helvetica,sans-Serif\" font-size=\"14.00\" fill=\"#000000\">class = y</text>\n<text text-anchor=\"start\" x=\"2517\" y=\"-7.8\" font-family=\"Helvetica,sans-Serif\" baseline-shift=\"sub\" font-size=\"14.00\" fill=\"#000000\">0</text>\n</g>\n<!-- 165&#45;&gt;166 -->\n<g id=\"edge166\" class=\"edge\">\n<title>165&#45;&gt;166</title>\n<path fill=\"none\" stroke=\"#000000\" d=\"M2528.8656,-99.7647C2524.0814,-91.0884 2518.9995,-81.8721 2514.1753,-73.123\"/>\n<polygon fill=\"#000000\" stroke=\"#000000\" points=\"2517.158,-71.2838 2509.2644,-64.2169 2511.0282,-74.6639 2517.158,-71.2838\"/>\n</g>\n<!-- 167 -->\n<g id=\"node168\" class=\"node\">\n<title>167</title>\n<path fill=\"#e58139\" stroke=\"#000000\" d=\"M2646,-64C2646,-64 2571,-64 2571,-64 2565,-64 2559,-58 2559,-52 2559,-52 2559,-12 2559,-12 2559,-6 2565,0 2571,0 2571,0 2646,0 2646,0 2652,0 2658,-6 2658,-12 2658,-12 2658,-52 2658,-52 2658,-58 2652,-64 2646,-64\"/>\n<text text-anchor=\"start\" x=\"2579\" y=\"-49.8\" font-family=\"Helvetica,sans-Serif\" font-size=\"14.00\" fill=\"#000000\">gini = 0.0</text>\n<text text-anchor=\"start\" x=\"2569\" y=\"-35.8\" font-family=\"Helvetica,sans-Serif\" font-size=\"14.00\" fill=\"#000000\">samples = 3</text>\n<text text-anchor=\"start\" x=\"2567\" y=\"-21.8\" font-family=\"Helvetica,sans-Serif\" font-size=\"14.00\" fill=\"#000000\">value = [3, 0]</text>\n<text text-anchor=\"start\" x=\"2576\" y=\"-7.8\" font-family=\"Helvetica,sans-Serif\" font-size=\"14.00\" fill=\"#000000\">class = y</text>\n<text text-anchor=\"start\" x=\"2634\" y=\"-7.8\" font-family=\"Helvetica,sans-Serif\" baseline-shift=\"sub\" font-size=\"14.00\" fill=\"#000000\">0</text>\n</g>\n<!-- 165&#45;&gt;167 -->\n<g id=\"edge167\" class=\"edge\">\n<title>165&#45;&gt;167</title>\n<path fill=\"none\" stroke=\"#000000\" d=\"M2571.7677,-99.7647C2576.4708,-91.0884 2581.4665,-81.8721 2586.209,-73.123\"/>\n<polygon fill=\"#000000\" stroke=\"#000000\" points=\"2589.3481,-74.6763 2591.0366,-64.2169 2583.1941,-71.3404 2589.3481,-74.6763\"/>\n</g>\n<!-- 170 -->\n<g id=\"node171\" class=\"node\">\n<title>170</title>\n<path fill=\"#399de5\" stroke=\"#000000\" d=\"M2584,-399C2584,-399 2509,-399 2509,-399 2503,-399 2497,-393 2497,-387 2497,-387 2497,-347 2497,-347 2497,-341 2503,-335 2509,-335 2509,-335 2584,-335 2584,-335 2590,-335 2596,-341 2596,-347 2596,-347 2596,-387 2596,-387 2596,-393 2590,-399 2584,-399\"/>\n<text text-anchor=\"start\" x=\"2517\" y=\"-384.8\" font-family=\"Helvetica,sans-Serif\" font-size=\"14.00\" fill=\"#000000\">gini = 0.0</text>\n<text text-anchor=\"start\" x=\"2507\" y=\"-370.8\" font-family=\"Helvetica,sans-Serif\" font-size=\"14.00\" fill=\"#000000\">samples = 1</text>\n<text text-anchor=\"start\" x=\"2505\" y=\"-356.8\" font-family=\"Helvetica,sans-Serif\" font-size=\"14.00\" fill=\"#000000\">value = [0, 1]</text>\n<text text-anchor=\"start\" x=\"2514\" y=\"-342.8\" font-family=\"Helvetica,sans-Serif\" font-size=\"14.00\" fill=\"#000000\">class = y</text>\n<text text-anchor=\"start\" x=\"2572\" y=\"-342.8\" font-family=\"Helvetica,sans-Serif\" baseline-shift=\"sub\" font-size=\"14.00\" fill=\"#000000\">1</text>\n</g>\n<!-- 169&#45;&gt;170 -->\n<g id=\"edge170\" class=\"edge\">\n<title>169&#45;&gt;170</title>\n<path fill=\"none\" stroke=\"#000000\" d=\"M2546.5,-441.7677C2546.5,-431.3338 2546.5,-420.0174 2546.5,-409.4215\"/>\n<polygon fill=\"#000000\" stroke=\"#000000\" points=\"2550.0001,-409.1252 2546.5,-399.1252 2543.0001,-409.1252 2550.0001,-409.1252\"/>\n</g>\n<!-- 171 -->\n<g id=\"node172\" class=\"node\">\n<title>171</title>\n<path fill=\"#e68743\" stroke=\"#000000\" d=\"M2709,-406C2709,-406 2626,-406 2626,-406 2620,-406 2614,-400 2614,-394 2614,-394 2614,-340 2614,-340 2614,-334 2620,-328 2626,-328 2626,-328 2709,-328 2709,-328 2715,-328 2721,-334 2721,-340 2721,-340 2721,-394 2721,-394 2721,-400 2715,-406 2709,-406\"/>\n<text text-anchor=\"start\" x=\"2624\" y=\"-391.8\" font-family=\"Helvetica,sans-Serif\" font-size=\"14.00\" fill=\"#000000\">Age ≤ 26.754</text>\n<text text-anchor=\"start\" x=\"2629.5\" y=\"-377.8\" font-family=\"Helvetica,sans-Serif\" font-size=\"14.00\" fill=\"#000000\">gini = 0.091</text>\n<text text-anchor=\"start\" x=\"2623.5\" y=\"-363.8\" font-family=\"Helvetica,sans-Serif\" font-size=\"14.00\" fill=\"#000000\">samples = 21</text>\n<text text-anchor=\"start\" x=\"2622\" y=\"-349.8\" font-family=\"Helvetica,sans-Serif\" font-size=\"14.00\" fill=\"#000000\">value = [20, 1]</text>\n<text text-anchor=\"start\" x=\"2635\" y=\"-335.8\" font-family=\"Helvetica,sans-Serif\" font-size=\"14.00\" fill=\"#000000\">class = y</text>\n<text text-anchor=\"start\" x=\"2693\" y=\"-335.8\" font-family=\"Helvetica,sans-Serif\" baseline-shift=\"sub\" font-size=\"14.00\" fill=\"#000000\">0</text>\n</g>\n<!-- 169&#45;&gt;171 -->\n<g id=\"edge171\" class=\"edge\">\n<title>169&#45;&gt;171</title>\n<path fill=\"none\" stroke=\"#000000\" d=\"M2588.1413,-441.7677C2597.838,-432.632 2608.2527,-422.8198 2618.2435,-413.407\"/>\n<polygon fill=\"#000000\" stroke=\"#000000\" points=\"2620.9035,-415.7096 2625.7819,-406.3046 2616.1033,-410.6146 2620.9035,-415.7096\"/>\n</g>\n<!-- 172 -->\n<g id=\"node173\" class=\"node\">\n<title>172</title>\n<path fill=\"#e58139\" stroke=\"#000000\" d=\"M2597,-285C2597,-285 2514,-285 2514,-285 2508,-285 2502,-279 2502,-273 2502,-273 2502,-233 2502,-233 2502,-227 2508,-221 2514,-221 2514,-221 2597,-221 2597,-221 2603,-221 2609,-227 2609,-233 2609,-233 2609,-273 2609,-273 2609,-279 2603,-285 2597,-285\"/>\n<text text-anchor=\"start\" x=\"2526\" y=\"-270.8\" font-family=\"Helvetica,sans-Serif\" font-size=\"14.00\" fill=\"#000000\">gini = 0.0</text>\n<text text-anchor=\"start\" x=\"2511.5\" y=\"-256.8\" font-family=\"Helvetica,sans-Serif\" font-size=\"14.00\" fill=\"#000000\">samples = 17</text>\n<text text-anchor=\"start\" x=\"2510\" y=\"-242.8\" font-family=\"Helvetica,sans-Serif\" font-size=\"14.00\" fill=\"#000000\">value = [17, 0]</text>\n<text text-anchor=\"start\" x=\"2523\" y=\"-228.8\" font-family=\"Helvetica,sans-Serif\" font-size=\"14.00\" fill=\"#000000\">class = y</text>\n<text text-anchor=\"start\" x=\"2581\" y=\"-228.8\" font-family=\"Helvetica,sans-Serif\" baseline-shift=\"sub\" font-size=\"14.00\" fill=\"#000000\">0</text>\n</g>\n<!-- 171&#45;&gt;172 -->\n<g id=\"edge172\" class=\"edge\">\n<title>171&#45;&gt;172</title>\n<path fill=\"none\" stroke=\"#000000\" d=\"M2628.956,-327.7677C2617.7441,-316.3556 2605.4951,-303.8878 2594.2695,-292.4618\"/>\n<polygon fill=\"#000000\" stroke=\"#000000\" points=\"2596.5665,-289.8057 2587.0616,-285.1252 2591.5732,-294.7115 2596.5665,-289.8057\"/>\n</g>\n<!-- 173 -->\n<g id=\"node174\" class=\"node\">\n<title>173</title>\n<path fill=\"#eeab7b\" stroke=\"#000000\" d=\"M2714,-292C2714,-292 2639,-292 2639,-292 2633,-292 2627,-286 2627,-280 2627,-280 2627,-226 2627,-226 2627,-220 2633,-214 2639,-214 2639,-214 2714,-214 2714,-214 2720,-214 2726,-220 2726,-226 2726,-226 2726,-280 2726,-280 2726,-286 2720,-292 2714,-292\"/>\n<text text-anchor=\"start\" x=\"2635.5\" y=\"-277.8\" font-family=\"Helvetica,sans-Serif\" font-size=\"14.00\" fill=\"#000000\">Fare ≤ 9.081</text>\n<text text-anchor=\"start\" x=\"2638.5\" y=\"-263.8\" font-family=\"Helvetica,sans-Serif\" font-size=\"14.00\" fill=\"#000000\">gini = 0.375</text>\n<text text-anchor=\"start\" x=\"2637\" y=\"-249.8\" font-family=\"Helvetica,sans-Serif\" font-size=\"14.00\" fill=\"#000000\">samples = 4</text>\n<text text-anchor=\"start\" x=\"2635\" y=\"-235.8\" font-family=\"Helvetica,sans-Serif\" font-size=\"14.00\" fill=\"#000000\">value = [3, 1]</text>\n<text text-anchor=\"start\" x=\"2644\" y=\"-221.8\" font-family=\"Helvetica,sans-Serif\" font-size=\"14.00\" fill=\"#000000\">class = y</text>\n<text text-anchor=\"start\" x=\"2702\" y=\"-221.8\" font-family=\"Helvetica,sans-Serif\" baseline-shift=\"sub\" font-size=\"14.00\" fill=\"#000000\">0</text>\n</g>\n<!-- 171&#45;&gt;173 -->\n<g id=\"edge173\" class=\"edge\">\n<title>171&#45;&gt;173</title>\n<path fill=\"none\" stroke=\"#000000\" d=\"M2670.5973,-327.7677C2671.2407,-319.6172 2671.9267,-310.9283 2672.5949,-302.4649\"/>\n<polygon fill=\"#000000\" stroke=\"#000000\" points=\"2676.099,-302.5491 2673.397,-292.3046 2669.1207,-301.9981 2676.099,-302.5491\"/>\n</g>\n<!-- 174 -->\n<g id=\"node175\" class=\"node\">\n<title>174</title>\n<path fill=\"#399de5\" stroke=\"#000000\" d=\"M2715,-171C2715,-171 2640,-171 2640,-171 2634,-171 2628,-165 2628,-159 2628,-159 2628,-119 2628,-119 2628,-113 2634,-107 2640,-107 2640,-107 2715,-107 2715,-107 2721,-107 2727,-113 2727,-119 2727,-119 2727,-159 2727,-159 2727,-165 2721,-171 2715,-171\"/>\n<text text-anchor=\"start\" x=\"2648\" y=\"-156.8\" font-family=\"Helvetica,sans-Serif\" font-size=\"14.00\" fill=\"#000000\">gini = 0.0</text>\n<text text-anchor=\"start\" x=\"2638\" y=\"-142.8\" font-family=\"Helvetica,sans-Serif\" font-size=\"14.00\" fill=\"#000000\">samples = 1</text>\n<text text-anchor=\"start\" x=\"2636\" y=\"-128.8\" font-family=\"Helvetica,sans-Serif\" font-size=\"14.00\" fill=\"#000000\">value = [0, 1]</text>\n<text text-anchor=\"start\" x=\"2645\" y=\"-114.8\" font-family=\"Helvetica,sans-Serif\" font-size=\"14.00\" fill=\"#000000\">class = y</text>\n<text text-anchor=\"start\" x=\"2703\" y=\"-114.8\" font-family=\"Helvetica,sans-Serif\" baseline-shift=\"sub\" font-size=\"14.00\" fill=\"#000000\">1</text>\n</g>\n<!-- 173&#45;&gt;174 -->\n<g id=\"edge174\" class=\"edge\">\n<title>173&#45;&gt;174</title>\n<path fill=\"none\" stroke=\"#000000\" d=\"M2676.8441,-213.7677C2676.9357,-203.3338 2677.0349,-192.0174 2677.1279,-181.4215\"/>\n<polygon fill=\"#000000\" stroke=\"#000000\" points=\"2680.6303,-181.1555 2677.2182,-171.1252 2673.6305,-181.0941 2680.6303,-181.1555\"/>\n</g>\n<!-- 175 -->\n<g id=\"node176\" class=\"node\">\n<title>175</title>\n<path fill=\"#e58139\" stroke=\"#000000\" d=\"M2832,-171C2832,-171 2757,-171 2757,-171 2751,-171 2745,-165 2745,-159 2745,-159 2745,-119 2745,-119 2745,-113 2751,-107 2757,-107 2757,-107 2832,-107 2832,-107 2838,-107 2844,-113 2844,-119 2844,-119 2844,-159 2844,-159 2844,-165 2838,-171 2832,-171\"/>\n<text text-anchor=\"start\" x=\"2765\" y=\"-156.8\" font-family=\"Helvetica,sans-Serif\" font-size=\"14.00\" fill=\"#000000\">gini = 0.0</text>\n<text text-anchor=\"start\" x=\"2755\" y=\"-142.8\" font-family=\"Helvetica,sans-Serif\" font-size=\"14.00\" fill=\"#000000\">samples = 3</text>\n<text text-anchor=\"start\" x=\"2753\" y=\"-128.8\" font-family=\"Helvetica,sans-Serif\" font-size=\"14.00\" fill=\"#000000\">value = [3, 0]</text>\n<text text-anchor=\"start\" x=\"2762\" y=\"-114.8\" font-family=\"Helvetica,sans-Serif\" font-size=\"14.00\" fill=\"#000000\">class = y</text>\n<text text-anchor=\"start\" x=\"2820\" y=\"-114.8\" font-family=\"Helvetica,sans-Serif\" baseline-shift=\"sub\" font-size=\"14.00\" fill=\"#000000\">0</text>\n</g>\n<!-- 173&#45;&gt;175 -->\n<g id=\"edge175\" class=\"edge\">\n<title>173&#45;&gt;175</title>\n<path fill=\"none\" stroke=\"#000000\" d=\"M2717.1089,-213.7677C2729.0339,-202.247 2742.0725,-189.6503 2753.9912,-178.1356\"/>\n<polygon fill=\"#000000\" stroke=\"#000000\" points=\"2756.4875,-180.5905 2761.2476,-171.1252 2751.6238,-175.5562 2756.4875,-180.5905\"/>\n</g>\n<!-- 177 -->\n<g id=\"node178\" class=\"node\">\n<title>177</title>\n<path fill=\"#efb388\" stroke=\"#000000\" d=\"M2708,-748C2708,-748 2625,-748 2625,-748 2619,-748 2613,-742 2613,-736 2613,-736 2613,-682 2613,-682 2613,-676 2619,-670 2625,-670 2625,-670 2708,-670 2708,-670 2714,-670 2720,-676 2720,-682 2720,-682 2720,-736 2720,-736 2720,-742 2714,-748 2708,-748\"/>\n<text text-anchor=\"start\" x=\"2625.5\" y=\"-733.8\" font-family=\"Helvetica,sans-Serif\" font-size=\"14.00\" fill=\"#000000\">Fare ≤ 14.85</text>\n<text text-anchor=\"start\" x=\"2628.5\" y=\"-719.8\" font-family=\"Helvetica,sans-Serif\" font-size=\"14.00\" fill=\"#000000\">gini = 0.408</text>\n<text text-anchor=\"start\" x=\"2622.5\" y=\"-705.8\" font-family=\"Helvetica,sans-Serif\" font-size=\"14.00\" fill=\"#000000\">samples = 14</text>\n<text text-anchor=\"start\" x=\"2621\" y=\"-691.8\" font-family=\"Helvetica,sans-Serif\" font-size=\"14.00\" fill=\"#000000\">value = [10, 4]</text>\n<text text-anchor=\"start\" x=\"2634\" y=\"-677.8\" font-family=\"Helvetica,sans-Serif\" font-size=\"14.00\" fill=\"#000000\">class = y</text>\n<text text-anchor=\"start\" x=\"2692\" y=\"-677.8\" font-family=\"Helvetica,sans-Serif\" baseline-shift=\"sub\" font-size=\"14.00\" fill=\"#000000\">0</text>\n</g>\n<!-- 176&#45;&gt;177 -->\n<g id=\"edge177\" class=\"edge\">\n<title>176&#45;&gt;177</title>\n<path fill=\"none\" stroke=\"#000000\" d=\"M2666.5,-783.7677C2666.5,-775.6172 2666.5,-766.9283 2666.5,-758.4649\"/>\n<polygon fill=\"#000000\" stroke=\"#000000\" points=\"2670.0001,-758.3046 2666.5,-748.3046 2663.0001,-758.3047 2670.0001,-758.3046\"/>\n</g>\n<!-- 186 -->\n<g id=\"node187\" class=\"node\">\n<title>186</title>\n<path fill=\"#e78946\" stroke=\"#000000\" d=\"M2845,-748C2845,-748 2750,-748 2750,-748 2744,-748 2738,-742 2738,-736 2738,-736 2738,-682 2738,-682 2738,-676 2744,-670 2750,-670 2750,-670 2845,-670 2845,-670 2851,-670 2857,-676 2857,-682 2857,-682 2857,-736 2857,-736 2857,-742 2851,-748 2845,-748\"/>\n<text text-anchor=\"start\" x=\"2746\" y=\"-733.8\" font-family=\"Helvetica,sans-Serif\" font-size=\"14.00\" fill=\"#000000\">Embarked ≤ 1.5</text>\n<text text-anchor=\"start\" x=\"2759.5\" y=\"-719.8\" font-family=\"Helvetica,sans-Serif\" font-size=\"14.00\" fill=\"#000000\">gini = 0.117</text>\n<text text-anchor=\"start\" x=\"2753.5\" y=\"-705.8\" font-family=\"Helvetica,sans-Serif\" font-size=\"14.00\" fill=\"#000000\">samples = 16</text>\n<text text-anchor=\"start\" x=\"2752\" y=\"-691.8\" font-family=\"Helvetica,sans-Serif\" font-size=\"14.00\" fill=\"#000000\">value = [15, 1]</text>\n<text text-anchor=\"start\" x=\"2765\" y=\"-677.8\" font-family=\"Helvetica,sans-Serif\" font-size=\"14.00\" fill=\"#000000\">class = y</text>\n<text text-anchor=\"start\" x=\"2823\" y=\"-677.8\" font-family=\"Helvetica,sans-Serif\" baseline-shift=\"sub\" font-size=\"14.00\" fill=\"#000000\">0</text>\n</g>\n<!-- 176&#45;&gt;186 -->\n<g id=\"edge186\" class=\"edge\">\n<title>176&#45;&gt;186</title>\n<path fill=\"none\" stroke=\"#000000\" d=\"M2711.5828,-783.7677C2722.1837,-774.5424 2733.5774,-764.6273 2744.4907,-755.1302\"/>\n<polygon fill=\"#000000\" stroke=\"#000000\" points=\"2747.0882,-757.5096 2752.3341,-748.3046 2742.4929,-752.2291 2747.0882,-757.5096\"/>\n</g>\n<!-- 178 -->\n<g id=\"node179\" class=\"node\">\n<title>178</title>\n<path fill=\"#ea9a61\" stroke=\"#000000\" d=\"M2708,-634C2708,-634 2625,-634 2625,-634 2619,-634 2613,-628 2613,-622 2613,-622 2613,-568 2613,-568 2613,-562 2619,-556 2625,-556 2625,-556 2708,-556 2708,-556 2714,-556 2720,-562 2720,-568 2720,-568 2720,-622 2720,-622 2720,-628 2714,-634 2708,-634\"/>\n<text text-anchor=\"start\" x=\"2625.5\" y=\"-619.8\" font-family=\"Helvetica,sans-Serif\" font-size=\"14.00\" fill=\"#000000\">Fare ≤ 7.763</text>\n<text text-anchor=\"start\" x=\"2628.5\" y=\"-605.8\" font-family=\"Helvetica,sans-Serif\" font-size=\"14.00\" fill=\"#000000\">gini = 0.278</text>\n<text text-anchor=\"start\" x=\"2622.5\" y=\"-591.8\" font-family=\"Helvetica,sans-Serif\" font-size=\"14.00\" fill=\"#000000\">samples = 12</text>\n<text text-anchor=\"start\" x=\"2621\" y=\"-577.8\" font-family=\"Helvetica,sans-Serif\" font-size=\"14.00\" fill=\"#000000\">value = [10, 2]</text>\n<text text-anchor=\"start\" x=\"2634\" y=\"-563.8\" font-family=\"Helvetica,sans-Serif\" font-size=\"14.00\" fill=\"#000000\">class = y</text>\n<text text-anchor=\"start\" x=\"2692\" y=\"-563.8\" font-family=\"Helvetica,sans-Serif\" baseline-shift=\"sub\" font-size=\"14.00\" fill=\"#000000\">0</text>\n</g>\n<!-- 177&#45;&gt;178 -->\n<g id=\"edge178\" class=\"edge\">\n<title>177&#45;&gt;178</title>\n<path fill=\"none\" stroke=\"#000000\" d=\"M2666.5,-669.7677C2666.5,-661.6172 2666.5,-652.9283 2666.5,-644.4649\"/>\n<polygon fill=\"#000000\" stroke=\"#000000\" points=\"2670.0001,-644.3046 2666.5,-634.3046 2663.0001,-644.3047 2670.0001,-644.3046\"/>\n</g>\n<!-- 185 -->\n<g id=\"node186\" class=\"node\">\n<title>185</title>\n<path fill=\"#399de5\" stroke=\"#000000\" d=\"M2825,-627C2825,-627 2750,-627 2750,-627 2744,-627 2738,-621 2738,-615 2738,-615 2738,-575 2738,-575 2738,-569 2744,-563 2750,-563 2750,-563 2825,-563 2825,-563 2831,-563 2837,-569 2837,-575 2837,-575 2837,-615 2837,-615 2837,-621 2831,-627 2825,-627\"/>\n<text text-anchor=\"start\" x=\"2758\" y=\"-612.8\" font-family=\"Helvetica,sans-Serif\" font-size=\"14.00\" fill=\"#000000\">gini = 0.0</text>\n<text text-anchor=\"start\" x=\"2748\" y=\"-598.8\" font-family=\"Helvetica,sans-Serif\" font-size=\"14.00\" fill=\"#000000\">samples = 2</text>\n<text text-anchor=\"start\" x=\"2746\" y=\"-584.8\" font-family=\"Helvetica,sans-Serif\" font-size=\"14.00\" fill=\"#000000\">value = [0, 2]</text>\n<text text-anchor=\"start\" x=\"2755\" y=\"-570.8\" font-family=\"Helvetica,sans-Serif\" font-size=\"14.00\" fill=\"#000000\">class = y</text>\n<text text-anchor=\"start\" x=\"2813\" y=\"-570.8\" font-family=\"Helvetica,sans-Serif\" baseline-shift=\"sub\" font-size=\"14.00\" fill=\"#000000\">1</text>\n</g>\n<!-- 177&#45;&gt;185 -->\n<g id=\"edge185\" class=\"edge\">\n<title>177&#45;&gt;185</title>\n<path fill=\"none\" stroke=\"#000000\" d=\"M2708.1413,-669.7677C2720.3695,-658.247 2733.7396,-645.6503 2745.9613,-634.1356\"/>\n<polygon fill=\"#000000\" stroke=\"#000000\" points=\"2748.5238,-636.5301 2753.4022,-627.1252 2743.7236,-631.4352 2748.5238,-636.5301\"/>\n</g>\n<!-- 179 -->\n<g id=\"node180\" class=\"node\">\n<title>179</title>\n<path fill=\"#e58139\" stroke=\"#000000\" d=\"M2705,-513C2705,-513 2630,-513 2630,-513 2624,-513 2618,-507 2618,-501 2618,-501 2618,-461 2618,-461 2618,-455 2624,-449 2630,-449 2630,-449 2705,-449 2705,-449 2711,-449 2717,-455 2717,-461 2717,-461 2717,-501 2717,-501 2717,-507 2711,-513 2705,-513\"/>\n<text text-anchor=\"start\" x=\"2638\" y=\"-498.8\" font-family=\"Helvetica,sans-Serif\" font-size=\"14.00\" fill=\"#000000\">gini = 0.0</text>\n<text text-anchor=\"start\" x=\"2628\" y=\"-484.8\" font-family=\"Helvetica,sans-Serif\" font-size=\"14.00\" fill=\"#000000\">samples = 5</text>\n<text text-anchor=\"start\" x=\"2626\" y=\"-470.8\" font-family=\"Helvetica,sans-Serif\" font-size=\"14.00\" fill=\"#000000\">value = [5, 0]</text>\n<text text-anchor=\"start\" x=\"2635\" y=\"-456.8\" font-family=\"Helvetica,sans-Serif\" font-size=\"14.00\" fill=\"#000000\">class = y</text>\n<text text-anchor=\"start\" x=\"2693\" y=\"-456.8\" font-family=\"Helvetica,sans-Serif\" baseline-shift=\"sub\" font-size=\"14.00\" fill=\"#000000\">0</text>\n</g>\n<!-- 178&#45;&gt;179 -->\n<g id=\"edge179\" class=\"edge\">\n<title>178&#45;&gt;179</title>\n<path fill=\"none\" stroke=\"#000000\" d=\"M2666.8441,-555.7677C2666.9357,-545.3338 2667.0349,-534.0174 2667.1279,-523.4215\"/>\n<polygon fill=\"#000000\" stroke=\"#000000\" points=\"2670.6303,-523.1555 2667.2182,-513.1252 2663.6305,-523.0941 2670.6303,-523.1555\"/>\n</g>\n<!-- 180 -->\n<g id=\"node181\" class=\"node\">\n<title>180</title>\n<path fill=\"#efb388\" stroke=\"#000000\" d=\"M2829,-520C2829,-520 2754,-520 2754,-520 2748,-520 2742,-514 2742,-508 2742,-508 2742,-454 2742,-454 2742,-448 2748,-442 2754,-442 2754,-442 2829,-442 2829,-442 2835,-442 2841,-448 2841,-454 2841,-454 2841,-508 2841,-508 2841,-514 2835,-520 2829,-520\"/>\n<text text-anchor=\"start\" x=\"2756.5\" y=\"-505.8\" font-family=\"Helvetica,sans-Serif\" font-size=\"14.00\" fill=\"#000000\">Age ≤ 25.5</text>\n<text text-anchor=\"start\" x=\"2753.5\" y=\"-491.8\" font-family=\"Helvetica,sans-Serif\" font-size=\"14.00\" fill=\"#000000\">gini = 0.408</text>\n<text text-anchor=\"start\" x=\"2752\" y=\"-477.8\" font-family=\"Helvetica,sans-Serif\" font-size=\"14.00\" fill=\"#000000\">samples = 7</text>\n<text text-anchor=\"start\" x=\"2750\" y=\"-463.8\" font-family=\"Helvetica,sans-Serif\" font-size=\"14.00\" fill=\"#000000\">value = [5, 2]</text>\n<text text-anchor=\"start\" x=\"2759\" y=\"-449.8\" font-family=\"Helvetica,sans-Serif\" font-size=\"14.00\" fill=\"#000000\">class = y</text>\n<text text-anchor=\"start\" x=\"2817\" y=\"-449.8\" font-family=\"Helvetica,sans-Serif\" baseline-shift=\"sub\" font-size=\"14.00\" fill=\"#000000\">0</text>\n</g>\n<!-- 178&#45;&gt;180 -->\n<g id=\"edge180\" class=\"edge\">\n<title>178&#45;&gt;180</title>\n<path fill=\"none\" stroke=\"#000000\" d=\"M2709.5179,-555.7677C2719.6333,-546.5424 2730.5052,-536.6273 2740.9186,-527.1302\"/>\n<polygon fill=\"#000000\" stroke=\"#000000\" points=\"2743.3726,-529.6292 2748.4028,-520.3046 2738.6556,-524.4571 2743.3726,-529.6292\"/>\n</g>\n<!-- 181 -->\n<g id=\"node182\" class=\"node\">\n<title>181</title>\n<path fill=\"#9ccef2\" stroke=\"#000000\" d=\"M2829,-406C2829,-406 2754,-406 2754,-406 2748,-406 2742,-400 2742,-394 2742,-394 2742,-340 2742,-340 2742,-334 2748,-328 2754,-328 2754,-328 2829,-328 2829,-328 2835,-328 2841,-334 2841,-340 2841,-340 2841,-394 2841,-394 2841,-400 2835,-406 2829,-406\"/>\n<text text-anchor=\"start\" x=\"2756.5\" y=\"-391.8\" font-family=\"Helvetica,sans-Serif\" font-size=\"14.00\" fill=\"#000000\">Age ≤ 19.0</text>\n<text text-anchor=\"start\" x=\"2753.5\" y=\"-377.8\" font-family=\"Helvetica,sans-Serif\" font-size=\"14.00\" fill=\"#000000\">gini = 0.444</text>\n<text text-anchor=\"start\" x=\"2752\" y=\"-363.8\" font-family=\"Helvetica,sans-Serif\" font-size=\"14.00\" fill=\"#000000\">samples = 3</text>\n<text text-anchor=\"start\" x=\"2750\" y=\"-349.8\" font-family=\"Helvetica,sans-Serif\" font-size=\"14.00\" fill=\"#000000\">value = [1, 2]</text>\n<text text-anchor=\"start\" x=\"2759\" y=\"-335.8\" font-family=\"Helvetica,sans-Serif\" font-size=\"14.00\" fill=\"#000000\">class = y</text>\n<text text-anchor=\"start\" x=\"2817\" y=\"-335.8\" font-family=\"Helvetica,sans-Serif\" baseline-shift=\"sub\" font-size=\"14.00\" fill=\"#000000\">1</text>\n</g>\n<!-- 180&#45;&gt;181 -->\n<g id=\"edge181\" class=\"edge\">\n<title>180&#45;&gt;181</title>\n<path fill=\"none\" stroke=\"#000000\" d=\"M2791.5,-441.7677C2791.5,-433.6172 2791.5,-424.9283 2791.5,-416.4649\"/>\n<polygon fill=\"#000000\" stroke=\"#000000\" points=\"2795.0001,-416.3046 2791.5,-406.3046 2788.0001,-416.3047 2795.0001,-416.3046\"/>\n</g>\n<!-- 184 -->\n<g id=\"node185\" class=\"node\">\n<title>184</title>\n<path fill=\"#e58139\" stroke=\"#000000\" d=\"M2946,-399C2946,-399 2871,-399 2871,-399 2865,-399 2859,-393 2859,-387 2859,-387 2859,-347 2859,-347 2859,-341 2865,-335 2871,-335 2871,-335 2946,-335 2946,-335 2952,-335 2958,-341 2958,-347 2958,-347 2958,-387 2958,-387 2958,-393 2952,-399 2946,-399\"/>\n<text text-anchor=\"start\" x=\"2879\" y=\"-384.8\" font-family=\"Helvetica,sans-Serif\" font-size=\"14.00\" fill=\"#000000\">gini = 0.0</text>\n<text text-anchor=\"start\" x=\"2869\" y=\"-370.8\" font-family=\"Helvetica,sans-Serif\" font-size=\"14.00\" fill=\"#000000\">samples = 4</text>\n<text text-anchor=\"start\" x=\"2867\" y=\"-356.8\" font-family=\"Helvetica,sans-Serif\" font-size=\"14.00\" fill=\"#000000\">value = [4, 0]</text>\n<text text-anchor=\"start\" x=\"2876\" y=\"-342.8\" font-family=\"Helvetica,sans-Serif\" font-size=\"14.00\" fill=\"#000000\">class = y</text>\n<text text-anchor=\"start\" x=\"2934\" y=\"-342.8\" font-family=\"Helvetica,sans-Serif\" baseline-shift=\"sub\" font-size=\"14.00\" fill=\"#000000\">0</text>\n</g>\n<!-- 180&#45;&gt;184 -->\n<g id=\"edge184\" class=\"edge\">\n<title>180&#45;&gt;184</title>\n<path fill=\"none\" stroke=\"#000000\" d=\"M2831.7648,-441.7677C2843.5887,-430.247 2856.5168,-417.6503 2868.3345,-406.1356\"/>\n<polygon fill=\"#000000\" stroke=\"#000000\" points=\"2870.8096,-408.6107 2875.5294,-399.1252 2865.9245,-403.5971 2870.8096,-408.6107\"/>\n</g>\n<!-- 182 -->\n<g id=\"node183\" class=\"node\">\n<title>182</title>\n<path fill=\"#e58139\" stroke=\"#000000\" d=\"M2831,-285C2831,-285 2756,-285 2756,-285 2750,-285 2744,-279 2744,-273 2744,-273 2744,-233 2744,-233 2744,-227 2750,-221 2756,-221 2756,-221 2831,-221 2831,-221 2837,-221 2843,-227 2843,-233 2843,-233 2843,-273 2843,-273 2843,-279 2837,-285 2831,-285\"/>\n<text text-anchor=\"start\" x=\"2764\" y=\"-270.8\" font-family=\"Helvetica,sans-Serif\" font-size=\"14.00\" fill=\"#000000\">gini = 0.0</text>\n<text text-anchor=\"start\" x=\"2754\" y=\"-256.8\" font-family=\"Helvetica,sans-Serif\" font-size=\"14.00\" fill=\"#000000\">samples = 1</text>\n<text text-anchor=\"start\" x=\"2752\" y=\"-242.8\" font-family=\"Helvetica,sans-Serif\" font-size=\"14.00\" fill=\"#000000\">value = [1, 0]</text>\n<text text-anchor=\"start\" x=\"2761\" y=\"-228.8\" font-family=\"Helvetica,sans-Serif\" font-size=\"14.00\" fill=\"#000000\">class = y</text>\n<text text-anchor=\"start\" x=\"2819\" y=\"-228.8\" font-family=\"Helvetica,sans-Serif\" baseline-shift=\"sub\" font-size=\"14.00\" fill=\"#000000\">0</text>\n</g>\n<!-- 181&#45;&gt;182 -->\n<g id=\"edge182\" class=\"edge\">\n<title>181&#45;&gt;182</title>\n<path fill=\"none\" stroke=\"#000000\" d=\"M2792.1883,-327.7677C2792.3713,-317.3338 2792.5699,-306.0174 2792.7558,-295.4215\"/>\n<polygon fill=\"#000000\" stroke=\"#000000\" points=\"2796.2604,-295.1851 2792.9364,-285.1252 2789.2614,-295.0622 2796.2604,-295.1851\"/>\n</g>\n<!-- 183 -->\n<g id=\"node184\" class=\"node\">\n<title>183</title>\n<path fill=\"#399de5\" stroke=\"#000000\" d=\"M2948,-285C2948,-285 2873,-285 2873,-285 2867,-285 2861,-279 2861,-273 2861,-273 2861,-233 2861,-233 2861,-227 2867,-221 2873,-221 2873,-221 2948,-221 2948,-221 2954,-221 2960,-227 2960,-233 2960,-233 2960,-273 2960,-273 2960,-279 2954,-285 2948,-285\"/>\n<text text-anchor=\"start\" x=\"2881\" y=\"-270.8\" font-family=\"Helvetica,sans-Serif\" font-size=\"14.00\" fill=\"#000000\">gini = 0.0</text>\n<text text-anchor=\"start\" x=\"2871\" y=\"-256.8\" font-family=\"Helvetica,sans-Serif\" font-size=\"14.00\" fill=\"#000000\">samples = 2</text>\n<text text-anchor=\"start\" x=\"2869\" y=\"-242.8\" font-family=\"Helvetica,sans-Serif\" font-size=\"14.00\" fill=\"#000000\">value = [0, 2]</text>\n<text text-anchor=\"start\" x=\"2878\" y=\"-228.8\" font-family=\"Helvetica,sans-Serif\" font-size=\"14.00\" fill=\"#000000\">class = y</text>\n<text text-anchor=\"start\" x=\"2936\" y=\"-228.8\" font-family=\"Helvetica,sans-Serif\" baseline-shift=\"sub\" font-size=\"14.00\" fill=\"#000000\">1</text>\n</g>\n<!-- 181&#45;&gt;183 -->\n<g id=\"edge183\" class=\"edge\">\n<title>181&#45;&gt;183</title>\n<path fill=\"none\" stroke=\"#000000\" d=\"M2832.453,-327.7677C2844.4791,-316.247 2857.6282,-303.6503 2869.6479,-292.1356\"/>\n<polygon fill=\"#000000\" stroke=\"#000000\" points=\"2872.1658,-294.5704 2876.9658,-285.1252 2867.3234,-289.5156 2872.1658,-294.5704\"/>\n</g>\n<!-- 187 -->\n<g id=\"node188\" class=\"node\">\n<title>187</title>\n<path fill=\"#eeab7b\" stroke=\"#000000\" d=\"M2950,-634C2950,-634 2867,-634 2867,-634 2861,-634 2855,-628 2855,-622 2855,-622 2855,-568 2855,-568 2855,-562 2861,-556 2867,-556 2867,-556 2950,-556 2950,-556 2956,-556 2962,-562 2962,-568 2962,-568 2962,-622 2962,-622 2962,-628 2956,-634 2950,-634\"/>\n<text text-anchor=\"start\" x=\"2863\" y=\"-619.8\" font-family=\"Helvetica,sans-Serif\" font-size=\"14.00\" fill=\"#000000\">Fare ≤ 22.465</text>\n<text text-anchor=\"start\" x=\"2870.5\" y=\"-605.8\" font-family=\"Helvetica,sans-Serif\" font-size=\"14.00\" fill=\"#000000\">gini = 0.375</text>\n<text text-anchor=\"start\" x=\"2869\" y=\"-591.8\" font-family=\"Helvetica,sans-Serif\" font-size=\"14.00\" fill=\"#000000\">samples = 4</text>\n<text text-anchor=\"start\" x=\"2867\" y=\"-577.8\" font-family=\"Helvetica,sans-Serif\" font-size=\"14.00\" fill=\"#000000\">value = [3, 1]</text>\n<text text-anchor=\"start\" x=\"2876\" y=\"-563.8\" font-family=\"Helvetica,sans-Serif\" font-size=\"14.00\" fill=\"#000000\">class = y</text>\n<text text-anchor=\"start\" x=\"2934\" y=\"-563.8\" font-family=\"Helvetica,sans-Serif\" baseline-shift=\"sub\" font-size=\"14.00\" fill=\"#000000\">0</text>\n</g>\n<!-- 186&#45;&gt;187 -->\n<g id=\"edge187\" class=\"edge\">\n<title>186&#45;&gt;187</title>\n<path fill=\"none\" stroke=\"#000000\" d=\"M2835.6999,-669.7677C2844.5079,-660.7216 2853.9619,-651.0121 2863.0446,-641.6839\"/>\n<polygon fill=\"#000000\" stroke=\"#000000\" points=\"2865.7611,-643.9111 2870.2297,-634.3046 2860.7458,-639.0277 2865.7611,-643.9111\"/>\n</g>\n<!-- 192 -->\n<g id=\"node193\" class=\"node\">\n<title>192</title>\n<path fill=\"#e58139\" stroke=\"#000000\" d=\"M3075,-627C3075,-627 2992,-627 2992,-627 2986,-627 2980,-621 2980,-615 2980,-615 2980,-575 2980,-575 2980,-569 2986,-563 2992,-563 2992,-563 3075,-563 3075,-563 3081,-563 3087,-569 3087,-575 3087,-575 3087,-615 3087,-615 3087,-621 3081,-627 3075,-627\"/>\n<text text-anchor=\"start\" x=\"3004\" y=\"-612.8\" font-family=\"Helvetica,sans-Serif\" font-size=\"14.00\" fill=\"#000000\">gini = 0.0</text>\n<text text-anchor=\"start\" x=\"2989.5\" y=\"-598.8\" font-family=\"Helvetica,sans-Serif\" font-size=\"14.00\" fill=\"#000000\">samples = 12</text>\n<text text-anchor=\"start\" x=\"2988\" y=\"-584.8\" font-family=\"Helvetica,sans-Serif\" font-size=\"14.00\" fill=\"#000000\">value = [12, 0]</text>\n<text text-anchor=\"start\" x=\"3001\" y=\"-570.8\" font-family=\"Helvetica,sans-Serif\" font-size=\"14.00\" fill=\"#000000\">class = y</text>\n<text text-anchor=\"start\" x=\"3059\" y=\"-570.8\" font-family=\"Helvetica,sans-Serif\" baseline-shift=\"sub\" font-size=\"14.00\" fill=\"#000000\">0</text>\n</g>\n<!-- 186&#45;&gt;192 -->\n<g id=\"edge192\" class=\"edge\">\n<title>186&#45;&gt;192</title>\n<path fill=\"none\" stroke=\"#000000\" d=\"M2857.2442,-673.9124C2860.0124,-672.5474 2862.7729,-671.2359 2865.5,-670 2910.4341,-649.6358 2925.9141,-655.1157 2970.5,-634 2971.8806,-633.3462 2973.2686,-632.6691 2974.6604,-631.9723\"/>\n<polygon fill=\"#000000\" stroke=\"#000000\" points=\"2976.6462,-634.8823 2983.8631,-627.1255 2973.3842,-628.6888 2976.6462,-634.8823\"/>\n</g>\n<!-- 188 -->\n<g id=\"node189\" class=\"node\">\n<title>188</title>\n<path fill=\"#e58139\" stroke=\"#000000\" d=\"M2946,-513C2946,-513 2871,-513 2871,-513 2865,-513 2859,-507 2859,-501 2859,-501 2859,-461 2859,-461 2859,-455 2865,-449 2871,-449 2871,-449 2946,-449 2946,-449 2952,-449 2958,-455 2958,-461 2958,-461 2958,-501 2958,-501 2958,-507 2952,-513 2946,-513\"/>\n<text text-anchor=\"start\" x=\"2879\" y=\"-498.8\" font-family=\"Helvetica,sans-Serif\" font-size=\"14.00\" fill=\"#000000\">gini = 0.0</text>\n<text text-anchor=\"start\" x=\"2869\" y=\"-484.8\" font-family=\"Helvetica,sans-Serif\" font-size=\"14.00\" fill=\"#000000\">samples = 2</text>\n<text text-anchor=\"start\" x=\"2867\" y=\"-470.8\" font-family=\"Helvetica,sans-Serif\" font-size=\"14.00\" fill=\"#000000\">value = [2, 0]</text>\n<text text-anchor=\"start\" x=\"2876\" y=\"-456.8\" font-family=\"Helvetica,sans-Serif\" font-size=\"14.00\" fill=\"#000000\">class = y</text>\n<text text-anchor=\"start\" x=\"2934\" y=\"-456.8\" font-family=\"Helvetica,sans-Serif\" baseline-shift=\"sub\" font-size=\"14.00\" fill=\"#000000\">0</text>\n</g>\n<!-- 187&#45;&gt;188 -->\n<g id=\"edge188\" class=\"edge\">\n<title>187&#45;&gt;188</title>\n<path fill=\"none\" stroke=\"#000000\" d=\"M2908.5,-555.7677C2908.5,-545.3338 2908.5,-534.0174 2908.5,-523.4215\"/>\n<polygon fill=\"#000000\" stroke=\"#000000\" points=\"2912.0001,-523.1252 2908.5,-513.1252 2905.0001,-523.1252 2912.0001,-523.1252\"/>\n</g>\n<!-- 189 -->\n<g id=\"node190\" class=\"node\">\n<title>189</title>\n<path fill=\"#ffffff\" stroke=\"#000000\" d=\"M3063,-520C3063,-520 2988,-520 2988,-520 2982,-520 2976,-514 2976,-508 2976,-508 2976,-454 2976,-454 2976,-448 2982,-442 2988,-442 2988,-442 3063,-442 3063,-442 3069,-442 3075,-448 3075,-454 3075,-454 3075,-508 3075,-508 3075,-514 3069,-520 3063,-520\"/>\n<text text-anchor=\"start\" x=\"2988.5\" y=\"-505.8\" font-family=\"Helvetica,sans-Serif\" font-size=\"14.00\" fill=\"#000000\">Fare ≤ 23.7</text>\n<text text-anchor=\"start\" x=\"2996\" y=\"-491.8\" font-family=\"Helvetica,sans-Serif\" font-size=\"14.00\" fill=\"#000000\">gini = 0.5</text>\n<text text-anchor=\"start\" x=\"2986\" y=\"-477.8\" font-family=\"Helvetica,sans-Serif\" font-size=\"14.00\" fill=\"#000000\">samples = 2</text>\n<text text-anchor=\"start\" x=\"2984\" y=\"-463.8\" font-family=\"Helvetica,sans-Serif\" font-size=\"14.00\" fill=\"#000000\">value = [1, 1]</text>\n<text text-anchor=\"start\" x=\"2993\" y=\"-449.8\" font-family=\"Helvetica,sans-Serif\" font-size=\"14.00\" fill=\"#000000\">class = y</text>\n<text text-anchor=\"start\" x=\"3051\" y=\"-449.8\" font-family=\"Helvetica,sans-Serif\" baseline-shift=\"sub\" font-size=\"14.00\" fill=\"#000000\">0</text>\n</g>\n<!-- 187&#45;&gt;189 -->\n<g id=\"edge189\" class=\"edge\">\n<title>187&#45;&gt;189</title>\n<path fill=\"none\" stroke=\"#000000\" d=\"M2948.7648,-555.7677C2958.1408,-546.632 2968.2113,-536.8198 2977.8718,-527.407\"/>\n<polygon fill=\"#000000\" stroke=\"#000000\" points=\"2980.4412,-529.7901 2985.161,-520.3046 2975.5562,-524.7765 2980.4412,-529.7901\"/>\n</g>\n<!-- 190 -->\n<g id=\"node191\" class=\"node\">\n<title>190</title>\n<path fill=\"#399de5\" stroke=\"#000000\" d=\"M3063,-399C3063,-399 2988,-399 2988,-399 2982,-399 2976,-393 2976,-387 2976,-387 2976,-347 2976,-347 2976,-341 2982,-335 2988,-335 2988,-335 3063,-335 3063,-335 3069,-335 3075,-341 3075,-347 3075,-347 3075,-387 3075,-387 3075,-393 3069,-399 3063,-399\"/>\n<text text-anchor=\"start\" x=\"2996\" y=\"-384.8\" font-family=\"Helvetica,sans-Serif\" font-size=\"14.00\" fill=\"#000000\">gini = 0.0</text>\n<text text-anchor=\"start\" x=\"2986\" y=\"-370.8\" font-family=\"Helvetica,sans-Serif\" font-size=\"14.00\" fill=\"#000000\">samples = 1</text>\n<text text-anchor=\"start\" x=\"2984\" y=\"-356.8\" font-family=\"Helvetica,sans-Serif\" font-size=\"14.00\" fill=\"#000000\">value = [0, 1]</text>\n<text text-anchor=\"start\" x=\"2993\" y=\"-342.8\" font-family=\"Helvetica,sans-Serif\" font-size=\"14.00\" fill=\"#000000\">class = y</text>\n<text text-anchor=\"start\" x=\"3051\" y=\"-342.8\" font-family=\"Helvetica,sans-Serif\" baseline-shift=\"sub\" font-size=\"14.00\" fill=\"#000000\">1</text>\n</g>\n<!-- 189&#45;&gt;190 -->\n<g id=\"edge190\" class=\"edge\">\n<title>189&#45;&gt;190</title>\n<path fill=\"none\" stroke=\"#000000\" d=\"M3025.5,-441.7677C3025.5,-431.3338 3025.5,-420.0174 3025.5,-409.4215\"/>\n<polygon fill=\"#000000\" stroke=\"#000000\" points=\"3029.0001,-409.1252 3025.5,-399.1252 3022.0001,-409.1252 3029.0001,-409.1252\"/>\n</g>\n<!-- 191 -->\n<g id=\"node192\" class=\"node\">\n<title>191</title>\n<path fill=\"#e58139\" stroke=\"#000000\" d=\"M3180,-399C3180,-399 3105,-399 3105,-399 3099,-399 3093,-393 3093,-387 3093,-387 3093,-347 3093,-347 3093,-341 3099,-335 3105,-335 3105,-335 3180,-335 3180,-335 3186,-335 3192,-341 3192,-347 3192,-347 3192,-387 3192,-387 3192,-393 3186,-399 3180,-399\"/>\n<text text-anchor=\"start\" x=\"3113\" y=\"-384.8\" font-family=\"Helvetica,sans-Serif\" font-size=\"14.00\" fill=\"#000000\">gini = 0.0</text>\n<text text-anchor=\"start\" x=\"3103\" y=\"-370.8\" font-family=\"Helvetica,sans-Serif\" font-size=\"14.00\" fill=\"#000000\">samples = 1</text>\n<text text-anchor=\"start\" x=\"3101\" y=\"-356.8\" font-family=\"Helvetica,sans-Serif\" font-size=\"14.00\" fill=\"#000000\">value = [1, 0]</text>\n<text text-anchor=\"start\" x=\"3110\" y=\"-342.8\" font-family=\"Helvetica,sans-Serif\" font-size=\"14.00\" fill=\"#000000\">class = y</text>\n<text text-anchor=\"start\" x=\"3168\" y=\"-342.8\" font-family=\"Helvetica,sans-Serif\" baseline-shift=\"sub\" font-size=\"14.00\" fill=\"#000000\">0</text>\n</g>\n<!-- 189&#45;&gt;191 -->\n<g id=\"edge191\" class=\"edge\">\n<title>189&#45;&gt;191</title>\n<path fill=\"none\" stroke=\"#000000\" d=\"M3065.7648,-441.7677C3077.5887,-430.247 3090.5168,-417.6503 3102.3345,-406.1356\"/>\n<polygon fill=\"#000000\" stroke=\"#000000\" points=\"3104.8096,-408.6107 3109.5294,-399.1252 3099.9245,-403.5971 3104.8096,-408.6107\"/>\n</g>\n<!-- 194 -->\n<g id=\"node195\" class=\"node\">\n<title>194</title>\n<path fill=\"#ea985d\" stroke=\"#000000\" d=\"M3078,-976C3078,-976 2983,-976 2983,-976 2977,-976 2971,-970 2971,-964 2971,-964 2971,-910 2971,-910 2971,-904 2977,-898 2983,-898 2983,-898 3078,-898 3078,-898 3084,-898 3090,-904 3090,-910 3090,-910 3090,-964 3090,-964 3090,-970 3084,-976 3078,-976\"/>\n<text text-anchor=\"start\" x=\"2979\" y=\"-961.8\" font-family=\"Helvetica,sans-Serif\" font-size=\"14.00\" fill=\"#000000\">Embarked ≤ 1.5</text>\n<text text-anchor=\"start\" x=\"2997\" y=\"-947.8\" font-family=\"Helvetica,sans-Serif\" font-size=\"14.00\" fill=\"#000000\">gini = 0.26</text>\n<text text-anchor=\"start\" x=\"2986.5\" y=\"-933.8\" font-family=\"Helvetica,sans-Serif\" font-size=\"14.00\" fill=\"#000000\">samples = 13</text>\n<text text-anchor=\"start\" x=\"2985\" y=\"-919.8\" font-family=\"Helvetica,sans-Serif\" font-size=\"14.00\" fill=\"#000000\">value = [11, 2]</text>\n<text text-anchor=\"start\" x=\"2998\" y=\"-905.8\" font-family=\"Helvetica,sans-Serif\" font-size=\"14.00\" fill=\"#000000\">class = y</text>\n<text text-anchor=\"start\" x=\"3056\" y=\"-905.8\" font-family=\"Helvetica,sans-Serif\" baseline-shift=\"sub\" font-size=\"14.00\" fill=\"#000000\">0</text>\n</g>\n<!-- 193&#45;&gt;194 -->\n<g id=\"edge194\" class=\"edge\">\n<title>193&#45;&gt;194</title>\n<path fill=\"none\" stroke=\"#000000\" d=\"M3113.7938,-1011.7677C3103.5166,-1002.5424 3092.4708,-992.6273 3081.8907,-983.1302\"/>\n<polygon fill=\"#000000\" stroke=\"#000000\" points=\"3084.0664,-980.38 3074.2868,-976.3046 3079.3905,-985.5892 3084.0664,-980.38\"/>\n</g>\n<!-- 199 -->\n<g id=\"node200\" class=\"node\">\n<title>199</title>\n<path fill=\"#9ccef2\" stroke=\"#000000\" d=\"M3195,-976C3195,-976 3120,-976 3120,-976 3114,-976 3108,-970 3108,-964 3108,-964 3108,-910 3108,-910 3108,-904 3114,-898 3120,-898 3120,-898 3195,-898 3195,-898 3201,-898 3207,-904 3207,-910 3207,-910 3207,-964 3207,-964 3207,-970 3201,-976 3195,-976\"/>\n<text text-anchor=\"start\" x=\"3120\" y=\"-961.8\" font-family=\"Helvetica,sans-Serif\" font-size=\"14.00\" fill=\"#000000\">SibSp ≤ 0.5</text>\n<text text-anchor=\"start\" x=\"3119.5\" y=\"-947.8\" font-family=\"Helvetica,sans-Serif\" font-size=\"14.00\" fill=\"#000000\">gini = 0.444</text>\n<text text-anchor=\"start\" x=\"3118\" y=\"-933.8\" font-family=\"Helvetica,sans-Serif\" font-size=\"14.00\" fill=\"#000000\">samples = 3</text>\n<text text-anchor=\"start\" x=\"3116\" y=\"-919.8\" font-family=\"Helvetica,sans-Serif\" font-size=\"14.00\" fill=\"#000000\">value = [1, 2]</text>\n<text text-anchor=\"start\" x=\"3125\" y=\"-905.8\" font-family=\"Helvetica,sans-Serif\" font-size=\"14.00\" fill=\"#000000\">class = y</text>\n<text text-anchor=\"start\" x=\"3183\" y=\"-905.8\" font-family=\"Helvetica,sans-Serif\" baseline-shift=\"sub\" font-size=\"14.00\" fill=\"#000000\">1</text>\n</g>\n<!-- 193&#45;&gt;199 -->\n<g id=\"edge199\" class=\"edge\">\n<title>193&#45;&gt;199</title>\n<path fill=\"none\" stroke=\"#000000\" d=\"M3157.5,-1011.7677C3157.5,-1003.6172 3157.5,-994.9283 3157.5,-986.4649\"/>\n<polygon fill=\"#000000\" stroke=\"#000000\" points=\"3161.0001,-986.3046 3157.5,-976.3046 3154.0001,-986.3047 3161.0001,-986.3046\"/>\n</g>\n<!-- 195 -->\n<g id=\"node196\" class=\"node\">\n<title>195</title>\n<path fill=\"#ffffff\" stroke=\"#000000\" d=\"M2961,-862C2961,-862 2886,-862 2886,-862 2880,-862 2874,-856 2874,-850 2874,-850 2874,-796 2874,-796 2874,-790 2880,-784 2886,-784 2886,-784 2961,-784 2961,-784 2967,-784 2973,-790 2973,-796 2973,-796 2973,-850 2973,-850 2973,-856 2967,-862 2961,-862\"/>\n<text text-anchor=\"start\" x=\"2888.5\" y=\"-847.8\" font-family=\"Helvetica,sans-Serif\" font-size=\"14.00\" fill=\"#000000\">Age ≤ 29.5</text>\n<text text-anchor=\"start\" x=\"2894\" y=\"-833.8\" font-family=\"Helvetica,sans-Serif\" font-size=\"14.00\" fill=\"#000000\">gini = 0.5</text>\n<text text-anchor=\"start\" x=\"2884\" y=\"-819.8\" font-family=\"Helvetica,sans-Serif\" font-size=\"14.00\" fill=\"#000000\">samples = 4</text>\n<text text-anchor=\"start\" x=\"2882\" y=\"-805.8\" font-family=\"Helvetica,sans-Serif\" font-size=\"14.00\" fill=\"#000000\">value = [2, 2]</text>\n<text text-anchor=\"start\" x=\"2891\" y=\"-791.8\" font-family=\"Helvetica,sans-Serif\" font-size=\"14.00\" fill=\"#000000\">class = y</text>\n<text text-anchor=\"start\" x=\"2949\" y=\"-791.8\" font-family=\"Helvetica,sans-Serif\" baseline-shift=\"sub\" font-size=\"14.00\" fill=\"#000000\">0</text>\n</g>\n<!-- 194&#45;&gt;195 -->\n<g id=\"edge195\" class=\"edge\">\n<title>194&#45;&gt;195</title>\n<path fill=\"none\" stroke=\"#000000\" d=\"M2993.6767,-897.7677C2985.186,-888.7216 2976.0728,-879.0121 2967.3174,-869.6839\"/>\n<polygon fill=\"#000000\" stroke=\"#000000\" points=\"2969.7869,-867.2008 2960.3912,-862.3046 2964.6829,-871.9914 2969.7869,-867.2008\"/>\n</g>\n<!-- 198 -->\n<g id=\"node199\" class=\"node\">\n<title>198</title>\n<path fill=\"#e58139\" stroke=\"#000000\" d=\"M3078,-855C3078,-855 3003,-855 3003,-855 2997,-855 2991,-849 2991,-843 2991,-843 2991,-803 2991,-803 2991,-797 2997,-791 3003,-791 3003,-791 3078,-791 3078,-791 3084,-791 3090,-797 3090,-803 3090,-803 3090,-843 3090,-843 3090,-849 3084,-855 3078,-855\"/>\n<text text-anchor=\"start\" x=\"3011\" y=\"-840.8\" font-family=\"Helvetica,sans-Serif\" font-size=\"14.00\" fill=\"#000000\">gini = 0.0</text>\n<text text-anchor=\"start\" x=\"3001\" y=\"-826.8\" font-family=\"Helvetica,sans-Serif\" font-size=\"14.00\" fill=\"#000000\">samples = 9</text>\n<text text-anchor=\"start\" x=\"2999\" y=\"-812.8\" font-family=\"Helvetica,sans-Serif\" font-size=\"14.00\" fill=\"#000000\">value = [9, 0]</text>\n<text text-anchor=\"start\" x=\"3008\" y=\"-798.8\" font-family=\"Helvetica,sans-Serif\" font-size=\"14.00\" fill=\"#000000\">class = y</text>\n<text text-anchor=\"start\" x=\"3066\" y=\"-798.8\" font-family=\"Helvetica,sans-Serif\" baseline-shift=\"sub\" font-size=\"14.00\" fill=\"#000000\">0</text>\n</g>\n<!-- 194&#45;&gt;198 -->\n<g id=\"edge198\" class=\"edge\">\n<title>194&#45;&gt;198</title>\n<path fill=\"none\" stroke=\"#000000\" d=\"M3033.9414,-897.7677C3034.8662,-887.2251 3035.87,-875.7816 3036.8078,-865.0907\"/>\n<polygon fill=\"#000000\" stroke=\"#000000\" points=\"3040.2947,-865.3928 3037.682,-855.1252 3033.3215,-864.7811 3040.2947,-865.3928\"/>\n</g>\n<!-- 196 -->\n<g id=\"node197\" class=\"node\">\n<title>196</title>\n<path fill=\"#399de5\" stroke=\"#000000\" d=\"M2962,-741C2962,-741 2887,-741 2887,-741 2881,-741 2875,-735 2875,-729 2875,-729 2875,-689 2875,-689 2875,-683 2881,-677 2887,-677 2887,-677 2962,-677 2962,-677 2968,-677 2974,-683 2974,-689 2974,-689 2974,-729 2974,-729 2974,-735 2968,-741 2962,-741\"/>\n<text text-anchor=\"start\" x=\"2895\" y=\"-726.8\" font-family=\"Helvetica,sans-Serif\" font-size=\"14.00\" fill=\"#000000\">gini = 0.0</text>\n<text text-anchor=\"start\" x=\"2885\" y=\"-712.8\" font-family=\"Helvetica,sans-Serif\" font-size=\"14.00\" fill=\"#000000\">samples = 2</text>\n<text text-anchor=\"start\" x=\"2883\" y=\"-698.8\" font-family=\"Helvetica,sans-Serif\" font-size=\"14.00\" fill=\"#000000\">value = [0, 2]</text>\n<text text-anchor=\"start\" x=\"2892\" y=\"-684.8\" font-family=\"Helvetica,sans-Serif\" font-size=\"14.00\" fill=\"#000000\">class = y</text>\n<text text-anchor=\"start\" x=\"2950\" y=\"-684.8\" font-family=\"Helvetica,sans-Serif\" baseline-shift=\"sub\" font-size=\"14.00\" fill=\"#000000\">1</text>\n</g>\n<!-- 195&#45;&gt;196 -->\n<g id=\"edge196\" class=\"edge\">\n<title>195&#45;&gt;196</title>\n<path fill=\"none\" stroke=\"#000000\" d=\"M2923.8441,-783.7677C2923.9357,-773.3338 2924.0349,-762.0174 2924.1279,-751.4215\"/>\n<polygon fill=\"#000000\" stroke=\"#000000\" points=\"2927.6303,-751.1555 2924.2182,-741.1252 2920.6305,-751.0941 2927.6303,-751.1555\"/>\n</g>\n<!-- 197 -->\n<g id=\"node198\" class=\"node\">\n<title>197</title>\n<path fill=\"#e58139\" stroke=\"#000000\" d=\"M3079,-741C3079,-741 3004,-741 3004,-741 2998,-741 2992,-735 2992,-729 2992,-729 2992,-689 2992,-689 2992,-683 2998,-677 3004,-677 3004,-677 3079,-677 3079,-677 3085,-677 3091,-683 3091,-689 3091,-689 3091,-729 3091,-729 3091,-735 3085,-741 3079,-741\"/>\n<text text-anchor=\"start\" x=\"3012\" y=\"-726.8\" font-family=\"Helvetica,sans-Serif\" font-size=\"14.00\" fill=\"#000000\">gini = 0.0</text>\n<text text-anchor=\"start\" x=\"3002\" y=\"-712.8\" font-family=\"Helvetica,sans-Serif\" font-size=\"14.00\" fill=\"#000000\">samples = 2</text>\n<text text-anchor=\"start\" x=\"3000\" y=\"-698.8\" font-family=\"Helvetica,sans-Serif\" font-size=\"14.00\" fill=\"#000000\">value = [2, 0]</text>\n<text text-anchor=\"start\" x=\"3009\" y=\"-684.8\" font-family=\"Helvetica,sans-Serif\" font-size=\"14.00\" fill=\"#000000\">class = y</text>\n<text text-anchor=\"start\" x=\"3067\" y=\"-684.8\" font-family=\"Helvetica,sans-Serif\" baseline-shift=\"sub\" font-size=\"14.00\" fill=\"#000000\">0</text>\n</g>\n<!-- 195&#45;&gt;197 -->\n<g id=\"edge197\" class=\"edge\">\n<title>195&#45;&gt;197</title>\n<path fill=\"none\" stroke=\"#000000\" d=\"M2964.1089,-783.7677C2976.0339,-772.247 2989.0725,-759.6503 3000.9912,-748.1356\"/>\n<polygon fill=\"#000000\" stroke=\"#000000\" points=\"3003.4875,-750.5905 3008.2476,-741.1252 2998.6238,-745.5562 3003.4875,-750.5905\"/>\n</g>\n<!-- 200 -->\n<g id=\"node201\" class=\"node\">\n<title>200</title>\n<path fill=\"#399de5\" stroke=\"#000000\" d=\"M3195,-855C3195,-855 3120,-855 3120,-855 3114,-855 3108,-849 3108,-843 3108,-843 3108,-803 3108,-803 3108,-797 3114,-791 3120,-791 3120,-791 3195,-791 3195,-791 3201,-791 3207,-797 3207,-803 3207,-803 3207,-843 3207,-843 3207,-849 3201,-855 3195,-855\"/>\n<text text-anchor=\"start\" x=\"3128\" y=\"-840.8\" font-family=\"Helvetica,sans-Serif\" font-size=\"14.00\" fill=\"#000000\">gini = 0.0</text>\n<text text-anchor=\"start\" x=\"3118\" y=\"-826.8\" font-family=\"Helvetica,sans-Serif\" font-size=\"14.00\" fill=\"#000000\">samples = 2</text>\n<text text-anchor=\"start\" x=\"3116\" y=\"-812.8\" font-family=\"Helvetica,sans-Serif\" font-size=\"14.00\" fill=\"#000000\">value = [0, 2]</text>\n<text text-anchor=\"start\" x=\"3125\" y=\"-798.8\" font-family=\"Helvetica,sans-Serif\" font-size=\"14.00\" fill=\"#000000\">class = y</text>\n<text text-anchor=\"start\" x=\"3183\" y=\"-798.8\" font-family=\"Helvetica,sans-Serif\" baseline-shift=\"sub\" font-size=\"14.00\" fill=\"#000000\">1</text>\n</g>\n<!-- 199&#45;&gt;200 -->\n<g id=\"edge200\" class=\"edge\">\n<title>199&#45;&gt;200</title>\n<path fill=\"none\" stroke=\"#000000\" d=\"M3157.5,-897.7677C3157.5,-887.3338 3157.5,-876.0174 3157.5,-865.4215\"/>\n<polygon fill=\"#000000\" stroke=\"#000000\" points=\"3161.0001,-865.1252 3157.5,-855.1252 3154.0001,-865.1252 3161.0001,-865.1252\"/>\n</g>\n<!-- 201 -->\n<g id=\"node202\" class=\"node\">\n<title>201</title>\n<path fill=\"#e58139\" stroke=\"#000000\" d=\"M3312,-855C3312,-855 3237,-855 3237,-855 3231,-855 3225,-849 3225,-843 3225,-843 3225,-803 3225,-803 3225,-797 3231,-791 3237,-791 3237,-791 3312,-791 3312,-791 3318,-791 3324,-797 3324,-803 3324,-803 3324,-843 3324,-843 3324,-849 3318,-855 3312,-855\"/>\n<text text-anchor=\"start\" x=\"3245\" y=\"-840.8\" font-family=\"Helvetica,sans-Serif\" font-size=\"14.00\" fill=\"#000000\">gini = 0.0</text>\n<text text-anchor=\"start\" x=\"3235\" y=\"-826.8\" font-family=\"Helvetica,sans-Serif\" font-size=\"14.00\" fill=\"#000000\">samples = 1</text>\n<text text-anchor=\"start\" x=\"3233\" y=\"-812.8\" font-family=\"Helvetica,sans-Serif\" font-size=\"14.00\" fill=\"#000000\">value = [1, 0]</text>\n<text text-anchor=\"start\" x=\"3242\" y=\"-798.8\" font-family=\"Helvetica,sans-Serif\" font-size=\"14.00\" fill=\"#000000\">class = y</text>\n<text text-anchor=\"start\" x=\"3300\" y=\"-798.8\" font-family=\"Helvetica,sans-Serif\" baseline-shift=\"sub\" font-size=\"14.00\" fill=\"#000000\">0</text>\n</g>\n<!-- 199&#45;&gt;201 -->\n<g id=\"edge201\" class=\"edge\">\n<title>199&#45;&gt;201</title>\n<path fill=\"none\" stroke=\"#000000\" d=\"M3197.7648,-897.7677C3209.5887,-886.247 3222.5168,-873.6503 3234.3345,-862.1356\"/>\n<polygon fill=\"#000000\" stroke=\"#000000\" points=\"3236.8096,-864.6107 3241.5294,-855.1252 3231.9245,-859.5971 3236.8096,-864.6107\"/>\n</g>\n<!-- 203 -->\n<g id=\"node204\" class=\"node\">\n<title>203</title>\n<path fill=\"#e58139\" stroke=\"#000000\" d=\"M3377,-1197C3377,-1197 3302,-1197 3302,-1197 3296,-1197 3290,-1191 3290,-1185 3290,-1185 3290,-1145 3290,-1145 3290,-1139 3296,-1133 3302,-1133 3302,-1133 3377,-1133 3377,-1133 3383,-1133 3389,-1139 3389,-1145 3389,-1145 3389,-1185 3389,-1185 3389,-1191 3383,-1197 3377,-1197\"/>\n<text text-anchor=\"start\" x=\"3310\" y=\"-1182.8\" font-family=\"Helvetica,sans-Serif\" font-size=\"14.00\" fill=\"#000000\">gini = 0.0</text>\n<text text-anchor=\"start\" x=\"3300\" y=\"-1168.8\" font-family=\"Helvetica,sans-Serif\" font-size=\"14.00\" fill=\"#000000\">samples = 4</text>\n<text text-anchor=\"start\" x=\"3298\" y=\"-1154.8\" font-family=\"Helvetica,sans-Serif\" font-size=\"14.00\" fill=\"#000000\">value = [4, 0]</text>\n<text text-anchor=\"start\" x=\"3307\" y=\"-1140.8\" font-family=\"Helvetica,sans-Serif\" font-size=\"14.00\" fill=\"#000000\">class = y</text>\n<text text-anchor=\"start\" x=\"3365\" y=\"-1140.8\" font-family=\"Helvetica,sans-Serif\" baseline-shift=\"sub\" font-size=\"14.00\" fill=\"#000000\">0</text>\n</g>\n<!-- 202&#45;&gt;203 -->\n<g id=\"edge203\" class=\"edge\">\n<title>202&#45;&gt;203</title>\n<path fill=\"none\" stroke=\"#000000\" d=\"M3378.8514,-1239.7677C3373.1311,-1228.8991 3366.9068,-1217.0729 3361.1321,-1206.1009\"/>\n<polygon fill=\"#000000\" stroke=\"#000000\" points=\"3364.1627,-1204.3443 3356.408,-1197.1252 3357.9683,-1207.6045 3364.1627,-1204.3443\"/>\n</g>\n<!-- 204 -->\n<g id=\"node205\" class=\"node\">\n<title>204</title>\n<path fill=\"#e3f1fb\" stroke=\"#000000\" d=\"M3502,-1204C3502,-1204 3419,-1204 3419,-1204 3413,-1204 3407,-1198 3407,-1192 3407,-1192 3407,-1138 3407,-1138 3407,-1132 3413,-1126 3419,-1126 3419,-1126 3502,-1126 3502,-1126 3508,-1126 3514,-1132 3514,-1138 3514,-1138 3514,-1192 3514,-1192 3514,-1198 3508,-1204 3502,-1204\"/>\n<text text-anchor=\"start\" x=\"3415\" y=\"-1189.8\" font-family=\"Helvetica,sans-Serif\" font-size=\"14.00\" fill=\"#000000\">Fare ≤ 14.456</text>\n<text text-anchor=\"start\" x=\"3422.5\" y=\"-1175.8\" font-family=\"Helvetica,sans-Serif\" font-size=\"14.00\" fill=\"#000000\">gini = 0.497</text>\n<text text-anchor=\"start\" x=\"3416.5\" y=\"-1161.8\" font-family=\"Helvetica,sans-Serif\" font-size=\"14.00\" fill=\"#000000\">samples = 13</text>\n<text text-anchor=\"start\" x=\"3419\" y=\"-1147.8\" font-family=\"Helvetica,sans-Serif\" font-size=\"14.00\" fill=\"#000000\">value = [6, 7]</text>\n<text text-anchor=\"start\" x=\"3428\" y=\"-1133.8\" font-family=\"Helvetica,sans-Serif\" font-size=\"14.00\" fill=\"#000000\">class = y</text>\n<text text-anchor=\"start\" x=\"3486\" y=\"-1133.8\" font-family=\"Helvetica,sans-Serif\" baseline-shift=\"sub\" font-size=\"14.00\" fill=\"#000000\">1</text>\n</g>\n<!-- 202&#45;&gt;204 -->\n<g id=\"edge204\" class=\"edge\">\n<title>202&#45;&gt;204</title>\n<path fill=\"none\" stroke=\"#000000\" d=\"M3420.4927,-1239.7677C3425.0456,-1231.259 3429.9126,-1222.1634 3434.6284,-1213.3502\"/>\n<polygon fill=\"#000000\" stroke=\"#000000\" points=\"3437.8366,-1214.773 3439.4686,-1204.3046 3431.6646,-1211.4705 3437.8366,-1214.773\"/>\n</g>\n<!-- 205 -->\n<g id=\"node206\" class=\"node\">\n<title>205</title>\n<path fill=\"#9ccef2\" stroke=\"#000000\" d=\"M3429,-1090C3429,-1090 3354,-1090 3354,-1090 3348,-1090 3342,-1084 3342,-1078 3342,-1078 3342,-1024 3342,-1024 3342,-1018 3348,-1012 3354,-1012 3354,-1012 3429,-1012 3429,-1012 3435,-1012 3441,-1018 3441,-1024 3441,-1024 3441,-1078 3441,-1078 3441,-1084 3435,-1090 3429,-1090\"/>\n<text text-anchor=\"start\" x=\"3356.5\" y=\"-1075.8\" font-family=\"Helvetica,sans-Serif\" font-size=\"14.00\" fill=\"#000000\">Age ≤ 31.5</text>\n<text text-anchor=\"start\" x=\"3353.5\" y=\"-1061.8\" font-family=\"Helvetica,sans-Serif\" font-size=\"14.00\" fill=\"#000000\">gini = 0.444</text>\n<text text-anchor=\"start\" x=\"3352\" y=\"-1047.8\" font-family=\"Helvetica,sans-Serif\" font-size=\"14.00\" fill=\"#000000\">samples = 9</text>\n<text text-anchor=\"start\" x=\"3350\" y=\"-1033.8\" font-family=\"Helvetica,sans-Serif\" font-size=\"14.00\" fill=\"#000000\">value = [3, 6]</text>\n<text text-anchor=\"start\" x=\"3359\" y=\"-1019.8\" font-family=\"Helvetica,sans-Serif\" font-size=\"14.00\" fill=\"#000000\">class = y</text>\n<text text-anchor=\"start\" x=\"3417\" y=\"-1019.8\" font-family=\"Helvetica,sans-Serif\" baseline-shift=\"sub\" font-size=\"14.00\" fill=\"#000000\">1</text>\n</g>\n<!-- 204&#45;&gt;205 -->\n<g id=\"edge205\" class=\"edge\">\n<title>204&#45;&gt;205</title>\n<path fill=\"none\" stroke=\"#000000\" d=\"M3436.7541,-1125.7677C3431.5499,-1117.1694 3425.9829,-1107.9718 3420.5962,-1099.072\"/>\n<polygon fill=\"#000000\" stroke=\"#000000\" points=\"3423.462,-1097.0473 3415.2897,-1090.3046 3417.4735,-1100.672 3423.462,-1097.0473\"/>\n</g>\n<!-- 214 -->\n<g id=\"node215\" class=\"node\">\n<title>214</title>\n<path fill=\"#eeab7b\" stroke=\"#000000\" d=\"M3546,-1090C3546,-1090 3471,-1090 3471,-1090 3465,-1090 3459,-1084 3459,-1078 3459,-1078 3459,-1024 3459,-1024 3459,-1018 3465,-1012 3471,-1012 3471,-1012 3546,-1012 3546,-1012 3552,-1012 3558,-1018 3558,-1024 3558,-1024 3558,-1078 3558,-1078 3558,-1084 3552,-1090 3546,-1090\"/>\n<text text-anchor=\"start\" x=\"3473.5\" y=\"-1075.8\" font-family=\"Helvetica,sans-Serif\" font-size=\"14.00\" fill=\"#000000\">Age ≤ 31.5</text>\n<text text-anchor=\"start\" x=\"3470.5\" y=\"-1061.8\" font-family=\"Helvetica,sans-Serif\" font-size=\"14.00\" fill=\"#000000\">gini = 0.375</text>\n<text text-anchor=\"start\" x=\"3469\" y=\"-1047.8\" font-family=\"Helvetica,sans-Serif\" font-size=\"14.00\" fill=\"#000000\">samples = 4</text>\n<text text-anchor=\"start\" x=\"3467\" y=\"-1033.8\" font-family=\"Helvetica,sans-Serif\" font-size=\"14.00\" fill=\"#000000\">value = [3, 1]</text>\n<text text-anchor=\"start\" x=\"3476\" y=\"-1019.8\" font-family=\"Helvetica,sans-Serif\" font-size=\"14.00\" fill=\"#000000\">class = y</text>\n<text text-anchor=\"start\" x=\"3534\" y=\"-1019.8\" font-family=\"Helvetica,sans-Serif\" baseline-shift=\"sub\" font-size=\"14.00\" fill=\"#000000\">0</text>\n</g>\n<!-- 204&#45;&gt;214 -->\n<g id=\"edge214\" class=\"edge\">\n<title>204&#45;&gt;214</title>\n<path fill=\"none\" stroke=\"#000000\" d=\"M3477.0189,-1125.7677C3480.5638,-1117.3485 3484.3506,-1108.3548 3488.0248,-1099.6286\"/>\n<polygon fill=\"#000000\" stroke=\"#000000\" points=\"3491.2958,-1100.8792 3491.9507,-1090.3046 3484.8443,-1098.1628 3491.2958,-1100.8792\"/>\n</g>\n<!-- 206 -->\n<g id=\"node207\" class=\"node\">\n<title>206</title>\n<path fill=\"#399de5\" stroke=\"#000000\" d=\"M3312,-969C3312,-969 3237,-969 3237,-969 3231,-969 3225,-963 3225,-957 3225,-957 3225,-917 3225,-917 3225,-911 3231,-905 3237,-905 3237,-905 3312,-905 3312,-905 3318,-905 3324,-911 3324,-917 3324,-917 3324,-957 3324,-957 3324,-963 3318,-969 3312,-969\"/>\n<text text-anchor=\"start\" x=\"3245\" y=\"-954.8\" font-family=\"Helvetica,sans-Serif\" font-size=\"14.00\" fill=\"#000000\">gini = 0.0</text>\n<text text-anchor=\"start\" x=\"3235\" y=\"-940.8\" font-family=\"Helvetica,sans-Serif\" font-size=\"14.00\" fill=\"#000000\">samples = 3</text>\n<text text-anchor=\"start\" x=\"3233\" y=\"-926.8\" font-family=\"Helvetica,sans-Serif\" font-size=\"14.00\" fill=\"#000000\">value = [0, 3]</text>\n<text text-anchor=\"start\" x=\"3242\" y=\"-912.8\" font-family=\"Helvetica,sans-Serif\" font-size=\"14.00\" fill=\"#000000\">class = y</text>\n<text text-anchor=\"start\" x=\"3300\" y=\"-912.8\" font-family=\"Helvetica,sans-Serif\" baseline-shift=\"sub\" font-size=\"14.00\" fill=\"#000000\">1</text>\n</g>\n<!-- 205&#45;&gt;206 -->\n<g id=\"edge206\" class=\"edge\">\n<title>205&#45;&gt;206</title>\n<path fill=\"none\" stroke=\"#000000\" d=\"M3351.2352,-1011.7677C3339.4113,-1000.247 3326.4832,-987.6503 3314.6655,-976.1356\"/>\n<polygon fill=\"#000000\" stroke=\"#000000\" points=\"3317.0755,-973.5971 3307.4706,-969.1252 3312.1904,-978.6107 3317.0755,-973.5971\"/>\n</g>\n<!-- 207 -->\n<g id=\"node208\" class=\"node\">\n<title>207</title>\n<path fill=\"#ffffff\" stroke=\"#000000\" d=\"M3429,-976C3429,-976 3354,-976 3354,-976 3348,-976 3342,-970 3342,-964 3342,-964 3342,-910 3342,-910 3342,-904 3348,-898 3354,-898 3354,-898 3429,-898 3429,-898 3435,-898 3441,-904 3441,-910 3441,-910 3441,-964 3441,-964 3441,-970 3435,-976 3429,-976\"/>\n<text text-anchor=\"start\" x=\"3352\" y=\"-961.8\" font-family=\"Helvetica,sans-Serif\" font-size=\"14.00\" fill=\"#000000\">Pclass ≤ 2.5</text>\n<text text-anchor=\"start\" x=\"3362\" y=\"-947.8\" font-family=\"Helvetica,sans-Serif\" font-size=\"14.00\" fill=\"#000000\">gini = 0.5</text>\n<text text-anchor=\"start\" x=\"3352\" y=\"-933.8\" font-family=\"Helvetica,sans-Serif\" font-size=\"14.00\" fill=\"#000000\">samples = 6</text>\n<text text-anchor=\"start\" x=\"3350\" y=\"-919.8\" font-family=\"Helvetica,sans-Serif\" font-size=\"14.00\" fill=\"#000000\">value = [3, 3]</text>\n<text text-anchor=\"start\" x=\"3359\" y=\"-905.8\" font-family=\"Helvetica,sans-Serif\" font-size=\"14.00\" fill=\"#000000\">class = y</text>\n<text text-anchor=\"start\" x=\"3417\" y=\"-905.8\" font-family=\"Helvetica,sans-Serif\" baseline-shift=\"sub\" font-size=\"14.00\" fill=\"#000000\">0</text>\n</g>\n<!-- 205&#45;&gt;207 -->\n<g id=\"edge207\" class=\"edge\">\n<title>205&#45;&gt;207</title>\n<path fill=\"none\" stroke=\"#000000\" d=\"M3391.5,-1011.7677C3391.5,-1003.6172 3391.5,-994.9283 3391.5,-986.4649\"/>\n<polygon fill=\"#000000\" stroke=\"#000000\" points=\"3395.0001,-986.3046 3391.5,-976.3046 3388.0001,-986.3047 3395.0001,-986.3046\"/>\n</g>\n<!-- 208 -->\n<g id=\"node209\" class=\"node\">\n<title>208</title>\n<path fill=\"#e58139\" stroke=\"#000000\" d=\"M3429,-855C3429,-855 3354,-855 3354,-855 3348,-855 3342,-849 3342,-843 3342,-843 3342,-803 3342,-803 3342,-797 3348,-791 3354,-791 3354,-791 3429,-791 3429,-791 3435,-791 3441,-797 3441,-803 3441,-803 3441,-843 3441,-843 3441,-849 3435,-855 3429,-855\"/>\n<text text-anchor=\"start\" x=\"3362\" y=\"-840.8\" font-family=\"Helvetica,sans-Serif\" font-size=\"14.00\" fill=\"#000000\">gini = 0.0</text>\n<text text-anchor=\"start\" x=\"3352\" y=\"-826.8\" font-family=\"Helvetica,sans-Serif\" font-size=\"14.00\" fill=\"#000000\">samples = 1</text>\n<text text-anchor=\"start\" x=\"3350\" y=\"-812.8\" font-family=\"Helvetica,sans-Serif\" font-size=\"14.00\" fill=\"#000000\">value = [1, 0]</text>\n<text text-anchor=\"start\" x=\"3359\" y=\"-798.8\" font-family=\"Helvetica,sans-Serif\" font-size=\"14.00\" fill=\"#000000\">class = y</text>\n<text text-anchor=\"start\" x=\"3417\" y=\"-798.8\" font-family=\"Helvetica,sans-Serif\" baseline-shift=\"sub\" font-size=\"14.00\" fill=\"#000000\">0</text>\n</g>\n<!-- 207&#45;&gt;208 -->\n<g id=\"edge208\" class=\"edge\">\n<title>207&#45;&gt;208</title>\n<path fill=\"none\" stroke=\"#000000\" d=\"M3391.5,-897.7677C3391.5,-887.3338 3391.5,-876.0174 3391.5,-865.4215\"/>\n<polygon fill=\"#000000\" stroke=\"#000000\" points=\"3395.0001,-865.1252 3391.5,-855.1252 3388.0001,-865.1252 3395.0001,-865.1252\"/>\n</g>\n<!-- 209 -->\n<g id=\"node210\" class=\"node\">\n<title>209</title>\n<path fill=\"#bddef6\" stroke=\"#000000\" d=\"M3546,-862C3546,-862 3471,-862 3471,-862 3465,-862 3459,-856 3459,-850 3459,-850 3459,-796 3459,-796 3459,-790 3465,-784 3471,-784 3471,-784 3546,-784 3546,-784 3552,-784 3558,-790 3558,-796 3558,-796 3558,-850 3558,-850 3558,-856 3552,-862 3546,-862\"/>\n<text text-anchor=\"start\" x=\"3471.5\" y=\"-847.8\" font-family=\"Helvetica,sans-Serif\" font-size=\"14.00\" fill=\"#000000\">Fare ≤ 7.89</text>\n<text text-anchor=\"start\" x=\"3475\" y=\"-833.8\" font-family=\"Helvetica,sans-Serif\" font-size=\"14.00\" fill=\"#000000\">gini = 0.48</text>\n<text text-anchor=\"start\" x=\"3469\" y=\"-819.8\" font-family=\"Helvetica,sans-Serif\" font-size=\"14.00\" fill=\"#000000\">samples = 5</text>\n<text text-anchor=\"start\" x=\"3467\" y=\"-805.8\" font-family=\"Helvetica,sans-Serif\" font-size=\"14.00\" fill=\"#000000\">value = [2, 3]</text>\n<text text-anchor=\"start\" x=\"3476\" y=\"-791.8\" font-family=\"Helvetica,sans-Serif\" font-size=\"14.00\" fill=\"#000000\">class = y</text>\n<text text-anchor=\"start\" x=\"3534\" y=\"-791.8\" font-family=\"Helvetica,sans-Serif\" baseline-shift=\"sub\" font-size=\"14.00\" fill=\"#000000\">1</text>\n</g>\n<!-- 207&#45;&gt;209 -->\n<g id=\"edge209\" class=\"edge\">\n<title>207&#45;&gt;209</title>\n<path fill=\"none\" stroke=\"#000000\" d=\"M3431.7648,-897.7677C3441.1408,-888.632 3451.2113,-878.8198 3460.8718,-869.407\"/>\n<polygon fill=\"#000000\" stroke=\"#000000\" points=\"3463.4412,-871.7901 3468.161,-862.3046 3458.5562,-866.7765 3463.4412,-871.7901\"/>\n</g>\n<!-- 210 -->\n<g id=\"node211\" class=\"node\">\n<title>210</title>\n<path fill=\"#399de5\" stroke=\"#000000\" d=\"M3487,-741C3487,-741 3412,-741 3412,-741 3406,-741 3400,-735 3400,-729 3400,-729 3400,-689 3400,-689 3400,-683 3406,-677 3412,-677 3412,-677 3487,-677 3487,-677 3493,-677 3499,-683 3499,-689 3499,-689 3499,-729 3499,-729 3499,-735 3493,-741 3487,-741\"/>\n<text text-anchor=\"start\" x=\"3420\" y=\"-726.8\" font-family=\"Helvetica,sans-Serif\" font-size=\"14.00\" fill=\"#000000\">gini = 0.0</text>\n<text text-anchor=\"start\" x=\"3410\" y=\"-712.8\" font-family=\"Helvetica,sans-Serif\" font-size=\"14.00\" fill=\"#000000\">samples = 1</text>\n<text text-anchor=\"start\" x=\"3408\" y=\"-698.8\" font-family=\"Helvetica,sans-Serif\" font-size=\"14.00\" fill=\"#000000\">value = [0, 1]</text>\n<text text-anchor=\"start\" x=\"3417\" y=\"-684.8\" font-family=\"Helvetica,sans-Serif\" font-size=\"14.00\" fill=\"#000000\">class = y</text>\n<text text-anchor=\"start\" x=\"3475\" y=\"-684.8\" font-family=\"Helvetica,sans-Serif\" baseline-shift=\"sub\" font-size=\"14.00\" fill=\"#000000\">1</text>\n</g>\n<!-- 209&#45;&gt;210 -->\n<g id=\"edge210\" class=\"edge\">\n<title>209&#45;&gt;210</title>\n<path fill=\"none\" stroke=\"#000000\" d=\"M3488.1955,-783.7677C3482.5706,-772.8991 3476.45,-761.0729 3470.7715,-750.1009\"/>\n<polygon fill=\"#000000\" stroke=\"#000000\" points=\"3473.831,-748.3975 3466.1262,-741.1252 3467.6142,-751.615 3473.831,-748.3975\"/>\n</g>\n<!-- 211 -->\n<g id=\"node212\" class=\"node\">\n<title>211</title>\n<path fill=\"#ffffff\" stroke=\"#000000\" d=\"M3604,-748C3604,-748 3529,-748 3529,-748 3523,-748 3517,-742 3517,-736 3517,-736 3517,-682 3517,-682 3517,-676 3523,-670 3529,-670 3529,-670 3604,-670 3604,-670 3610,-670 3616,-676 3616,-682 3616,-682 3616,-736 3616,-736 3616,-742 3610,-748 3604,-748\"/>\n<text text-anchor=\"start\" x=\"3525.5\" y=\"-733.8\" font-family=\"Helvetica,sans-Serif\" font-size=\"14.00\" fill=\"#000000\">Fare ≤ 7.988</text>\n<text text-anchor=\"start\" x=\"3537\" y=\"-719.8\" font-family=\"Helvetica,sans-Serif\" font-size=\"14.00\" fill=\"#000000\">gini = 0.5</text>\n<text text-anchor=\"start\" x=\"3527\" y=\"-705.8\" font-family=\"Helvetica,sans-Serif\" font-size=\"14.00\" fill=\"#000000\">samples = 4</text>\n<text text-anchor=\"start\" x=\"3525\" y=\"-691.8\" font-family=\"Helvetica,sans-Serif\" font-size=\"14.00\" fill=\"#000000\">value = [2, 2]</text>\n<text text-anchor=\"start\" x=\"3534\" y=\"-677.8\" font-family=\"Helvetica,sans-Serif\" font-size=\"14.00\" fill=\"#000000\">class = y</text>\n<text text-anchor=\"start\" x=\"3592\" y=\"-677.8\" font-family=\"Helvetica,sans-Serif\" baseline-shift=\"sub\" font-size=\"14.00\" fill=\"#000000\">0</text>\n</g>\n<!-- 209&#45;&gt;211 -->\n<g id=\"edge211\" class=\"edge\">\n<title>209&#45;&gt;211</title>\n<path fill=\"none\" stroke=\"#000000\" d=\"M3528.4603,-783.7677C3532.7893,-775.259 3537.4169,-766.1634 3541.9008,-757.3502\"/>\n<polygon fill=\"#000000\" stroke=\"#000000\" points=\"3545.0877,-758.8046 3546.5029,-748.3046 3538.8488,-755.6303 3545.0877,-758.8046\"/>\n</g>\n<!-- 212 -->\n<g id=\"node213\" class=\"node\">\n<title>212</title>\n<path fill=\"#f2c09c\" stroke=\"#000000\" d=\"M3545,-627C3545,-627 3470,-627 3470,-627 3464,-627 3458,-621 3458,-615 3458,-615 3458,-575 3458,-575 3458,-569 3464,-563 3470,-563 3470,-563 3545,-563 3545,-563 3551,-563 3557,-569 3557,-575 3557,-575 3557,-615 3557,-615 3557,-621 3551,-627 3545,-627\"/>\n<text text-anchor=\"start\" x=\"3469.5\" y=\"-612.8\" font-family=\"Helvetica,sans-Serif\" font-size=\"14.00\" fill=\"#000000\">gini = 0.444</text>\n<text text-anchor=\"start\" x=\"3468\" y=\"-598.8\" font-family=\"Helvetica,sans-Serif\" font-size=\"14.00\" fill=\"#000000\">samples = 3</text>\n<text text-anchor=\"start\" x=\"3466\" y=\"-584.8\" font-family=\"Helvetica,sans-Serif\" font-size=\"14.00\" fill=\"#000000\">value = [2, 1]</text>\n<text text-anchor=\"start\" x=\"3475\" y=\"-570.8\" font-family=\"Helvetica,sans-Serif\" font-size=\"14.00\" fill=\"#000000\">class = y</text>\n<text text-anchor=\"start\" x=\"3533\" y=\"-570.8\" font-family=\"Helvetica,sans-Serif\" baseline-shift=\"sub\" font-size=\"14.00\" fill=\"#000000\">0</text>\n</g>\n<!-- 211&#45;&gt;212 -->\n<g id=\"edge212\" class=\"edge\">\n<title>211&#45;&gt;212</title>\n<path fill=\"none\" stroke=\"#000000\" d=\"M3546.1955,-669.7677C3540.5706,-658.8991 3534.45,-647.0729 3528.7715,-636.1009\"/>\n<polygon fill=\"#000000\" stroke=\"#000000\" points=\"3531.831,-634.3975 3524.1262,-627.1252 3525.6142,-637.615 3531.831,-634.3975\"/>\n</g>\n<!-- 213 -->\n<g id=\"node214\" class=\"node\">\n<title>213</title>\n<path fill=\"#399de5\" stroke=\"#000000\" d=\"M3662,-627C3662,-627 3587,-627 3587,-627 3581,-627 3575,-621 3575,-615 3575,-615 3575,-575 3575,-575 3575,-569 3581,-563 3587,-563 3587,-563 3662,-563 3662,-563 3668,-563 3674,-569 3674,-575 3674,-575 3674,-615 3674,-615 3674,-621 3668,-627 3662,-627\"/>\n<text text-anchor=\"start\" x=\"3595\" y=\"-612.8\" font-family=\"Helvetica,sans-Serif\" font-size=\"14.00\" fill=\"#000000\">gini = 0.0</text>\n<text text-anchor=\"start\" x=\"3585\" y=\"-598.8\" font-family=\"Helvetica,sans-Serif\" font-size=\"14.00\" fill=\"#000000\">samples = 1</text>\n<text text-anchor=\"start\" x=\"3583\" y=\"-584.8\" font-family=\"Helvetica,sans-Serif\" font-size=\"14.00\" fill=\"#000000\">value = [0, 1]</text>\n<text text-anchor=\"start\" x=\"3592\" y=\"-570.8\" font-family=\"Helvetica,sans-Serif\" font-size=\"14.00\" fill=\"#000000\">class = y</text>\n<text text-anchor=\"start\" x=\"3650\" y=\"-570.8\" font-family=\"Helvetica,sans-Serif\" baseline-shift=\"sub\" font-size=\"14.00\" fill=\"#000000\">1</text>\n</g>\n<!-- 211&#45;&gt;213 -->\n<g id=\"edge213\" class=\"edge\">\n<title>211&#45;&gt;213</title>\n<path fill=\"none\" stroke=\"#000000\" d=\"M3586.4603,-669.7677C3591.9899,-658.8991 3598.0068,-647.0729 3603.589,-636.1009\"/>\n<polygon fill=\"#000000\" stroke=\"#000000\" points=\"3606.7405,-637.6251 3608.1556,-627.1252 3600.5015,-634.4509 3606.7405,-637.6251\"/>\n</g>\n<!-- 215 -->\n<g id=\"node216\" class=\"node\">\n<title>215</title>\n<path fill=\"#e58139\" stroke=\"#000000\" d=\"M3546,-969C3546,-969 3471,-969 3471,-969 3465,-969 3459,-963 3459,-957 3459,-957 3459,-917 3459,-917 3459,-911 3465,-905 3471,-905 3471,-905 3546,-905 3546,-905 3552,-905 3558,-911 3558,-917 3558,-917 3558,-957 3558,-957 3558,-963 3552,-969 3546,-969\"/>\n<text text-anchor=\"start\" x=\"3479\" y=\"-954.8\" font-family=\"Helvetica,sans-Serif\" font-size=\"14.00\" fill=\"#000000\">gini = 0.0</text>\n<text text-anchor=\"start\" x=\"3469\" y=\"-940.8\" font-family=\"Helvetica,sans-Serif\" font-size=\"14.00\" fill=\"#000000\">samples = 2</text>\n<text text-anchor=\"start\" x=\"3467\" y=\"-926.8\" font-family=\"Helvetica,sans-Serif\" font-size=\"14.00\" fill=\"#000000\">value = [2, 0]</text>\n<text text-anchor=\"start\" x=\"3476\" y=\"-912.8\" font-family=\"Helvetica,sans-Serif\" font-size=\"14.00\" fill=\"#000000\">class = y</text>\n<text text-anchor=\"start\" x=\"3534\" y=\"-912.8\" font-family=\"Helvetica,sans-Serif\" baseline-shift=\"sub\" font-size=\"14.00\" fill=\"#000000\">0</text>\n</g>\n<!-- 214&#45;&gt;215 -->\n<g id=\"edge215\" class=\"edge\">\n<title>214&#45;&gt;215</title>\n<path fill=\"none\" stroke=\"#000000\" d=\"M3508.5,-1011.7677C3508.5,-1001.3338 3508.5,-990.0174 3508.5,-979.4215\"/>\n<polygon fill=\"#000000\" stroke=\"#000000\" points=\"3512.0001,-979.1252 3508.5,-969.1252 3505.0001,-979.1252 3512.0001,-979.1252\"/>\n</g>\n<!-- 216 -->\n<g id=\"node217\" class=\"node\">\n<title>216</title>\n<path fill=\"#ffffff\" stroke=\"#000000\" d=\"M3671,-976C3671,-976 3588,-976 3588,-976 3582,-976 3576,-970 3576,-964 3576,-964 3576,-910 3576,-910 3576,-904 3582,-898 3588,-898 3588,-898 3671,-898 3671,-898 3677,-898 3683,-904 3683,-910 3683,-910 3683,-964 3683,-964 3683,-970 3677,-976 3671,-976\"/>\n<text text-anchor=\"start\" x=\"3584\" y=\"-961.8\" font-family=\"Helvetica,sans-Serif\" font-size=\"14.00\" fill=\"#000000\">Fare ≤ 20.925</text>\n<text text-anchor=\"start\" x=\"3600\" y=\"-947.8\" font-family=\"Helvetica,sans-Serif\" font-size=\"14.00\" fill=\"#000000\">gini = 0.5</text>\n<text text-anchor=\"start\" x=\"3590\" y=\"-933.8\" font-family=\"Helvetica,sans-Serif\" font-size=\"14.00\" fill=\"#000000\">samples = 2</text>\n<text text-anchor=\"start\" x=\"3588\" y=\"-919.8\" font-family=\"Helvetica,sans-Serif\" font-size=\"14.00\" fill=\"#000000\">value = [1, 1]</text>\n<text text-anchor=\"start\" x=\"3597\" y=\"-905.8\" font-family=\"Helvetica,sans-Serif\" font-size=\"14.00\" fill=\"#000000\">class = y</text>\n<text text-anchor=\"start\" x=\"3655\" y=\"-905.8\" font-family=\"Helvetica,sans-Serif\" baseline-shift=\"sub\" font-size=\"14.00\" fill=\"#000000\">0</text>\n</g>\n<!-- 214&#45;&gt;216 -->\n<g id=\"edge216\" class=\"edge\">\n<title>214&#45;&gt;216</title>\n<path fill=\"none\" stroke=\"#000000\" d=\"M3550.1413,-1011.7677C3559.838,-1002.632 3570.2527,-992.8198 3580.2435,-983.407\"/>\n<polygon fill=\"#000000\" stroke=\"#000000\" points=\"3582.9035,-985.7096 3587.7819,-976.3046 3578.1033,-980.6146 3582.9035,-985.7096\"/>\n</g>\n<!-- 217 -->\n<g id=\"node218\" class=\"node\">\n<title>217</title>\n<path fill=\"#e58139\" stroke=\"#000000\" d=\"M3665,-855C3665,-855 3590,-855 3590,-855 3584,-855 3578,-849 3578,-843 3578,-843 3578,-803 3578,-803 3578,-797 3584,-791 3590,-791 3590,-791 3665,-791 3665,-791 3671,-791 3677,-797 3677,-803 3677,-803 3677,-843 3677,-843 3677,-849 3671,-855 3665,-855\"/>\n<text text-anchor=\"start\" x=\"3598\" y=\"-840.8\" font-family=\"Helvetica,sans-Serif\" font-size=\"14.00\" fill=\"#000000\">gini = 0.0</text>\n<text text-anchor=\"start\" x=\"3588\" y=\"-826.8\" font-family=\"Helvetica,sans-Serif\" font-size=\"14.00\" fill=\"#000000\">samples = 1</text>\n<text text-anchor=\"start\" x=\"3586\" y=\"-812.8\" font-family=\"Helvetica,sans-Serif\" font-size=\"14.00\" fill=\"#000000\">value = [1, 0]</text>\n<text text-anchor=\"start\" x=\"3595\" y=\"-798.8\" font-family=\"Helvetica,sans-Serif\" font-size=\"14.00\" fill=\"#000000\">class = y</text>\n<text text-anchor=\"start\" x=\"3653\" y=\"-798.8\" font-family=\"Helvetica,sans-Serif\" baseline-shift=\"sub\" font-size=\"14.00\" fill=\"#000000\">0</text>\n</g>\n<!-- 216&#45;&gt;217 -->\n<g id=\"edge217\" class=\"edge\">\n<title>216&#45;&gt;217</title>\n<path fill=\"none\" stroke=\"#000000\" d=\"M3628.8117,-897.7677C3628.6287,-887.3338 3628.4301,-876.0174 3628.2442,-865.4215\"/>\n<polygon fill=\"#000000\" stroke=\"#000000\" points=\"3631.7386,-865.0622 3628.0636,-855.1252 3624.7396,-865.1851 3631.7386,-865.0622\"/>\n</g>\n<!-- 218 -->\n<g id=\"node219\" class=\"node\">\n<title>218</title>\n<path fill=\"#399de5\" stroke=\"#000000\" d=\"M3782,-855C3782,-855 3707,-855 3707,-855 3701,-855 3695,-849 3695,-843 3695,-843 3695,-803 3695,-803 3695,-797 3701,-791 3707,-791 3707,-791 3782,-791 3782,-791 3788,-791 3794,-797 3794,-803 3794,-803 3794,-843 3794,-843 3794,-849 3788,-855 3782,-855\"/>\n<text text-anchor=\"start\" x=\"3715\" y=\"-840.8\" font-family=\"Helvetica,sans-Serif\" font-size=\"14.00\" fill=\"#000000\">gini = 0.0</text>\n<text text-anchor=\"start\" x=\"3705\" y=\"-826.8\" font-family=\"Helvetica,sans-Serif\" font-size=\"14.00\" fill=\"#000000\">samples = 1</text>\n<text text-anchor=\"start\" x=\"3703\" y=\"-812.8\" font-family=\"Helvetica,sans-Serif\" font-size=\"14.00\" fill=\"#000000\">value = [0, 1]</text>\n<text text-anchor=\"start\" x=\"3712\" y=\"-798.8\" font-family=\"Helvetica,sans-Serif\" font-size=\"14.00\" fill=\"#000000\">class = y</text>\n<text text-anchor=\"start\" x=\"3770\" y=\"-798.8\" font-family=\"Helvetica,sans-Serif\" baseline-shift=\"sub\" font-size=\"14.00\" fill=\"#000000\">1</text>\n</g>\n<!-- 216&#45;&gt;218 -->\n<g id=\"edge218\" class=\"edge\">\n<title>216&#45;&gt;218</title>\n<path fill=\"none\" stroke=\"#000000\" d=\"M3669.0765,-897.7677C3680.5886,-886.3556 3693.1658,-873.8878 3704.6921,-862.4618\"/>\n<polygon fill=\"#000000\" stroke=\"#000000\" points=\"3707.4551,-864.651 3712.093,-855.1252 3702.527,-859.6797 3707.4551,-864.651\"/>\n</g>\n<!-- 220 -->\n<g id=\"node221\" class=\"node\">\n<title>220</title>\n<path fill=\"#e58139\" stroke=\"#000000\" d=\"M3768,-1311C3768,-1311 3685,-1311 3685,-1311 3679,-1311 3673,-1305 3673,-1299 3673,-1299 3673,-1259 3673,-1259 3673,-1253 3679,-1247 3685,-1247 3685,-1247 3768,-1247 3768,-1247 3774,-1247 3780,-1253 3780,-1259 3780,-1259 3780,-1299 3780,-1299 3780,-1305 3774,-1311 3768,-1311\"/>\n<text text-anchor=\"start\" x=\"3697\" y=\"-1296.8\" font-family=\"Helvetica,sans-Serif\" font-size=\"14.00\" fill=\"#000000\">gini = 0.0</text>\n<text text-anchor=\"start\" x=\"3682.5\" y=\"-1282.8\" font-family=\"Helvetica,sans-Serif\" font-size=\"14.00\" fill=\"#000000\">samples = 28</text>\n<text text-anchor=\"start\" x=\"3681\" y=\"-1268.8\" font-family=\"Helvetica,sans-Serif\" font-size=\"14.00\" fill=\"#000000\">value = [28, 0]</text>\n<text text-anchor=\"start\" x=\"3694\" y=\"-1254.8\" font-family=\"Helvetica,sans-Serif\" font-size=\"14.00\" fill=\"#000000\">class = y</text>\n<text text-anchor=\"start\" x=\"3752\" y=\"-1254.8\" font-family=\"Helvetica,sans-Serif\" baseline-shift=\"sub\" font-size=\"14.00\" fill=\"#000000\">0</text>\n</g>\n<!-- 219&#45;&gt;220 -->\n<g id=\"edge220\" class=\"edge\">\n<title>219&#45;&gt;220</title>\n<path fill=\"none\" stroke=\"#000000\" d=\"M3726.5,-1353.7677C3726.5,-1343.3338 3726.5,-1332.0174 3726.5,-1321.4215\"/>\n<polygon fill=\"#000000\" stroke=\"#000000\" points=\"3730.0001,-1321.1252 3726.5,-1311.1252 3723.0001,-1321.1252 3730.0001,-1321.1252\"/>\n</g>\n<!-- 221 -->\n<g id=\"node222\" class=\"node\">\n<title>221</title>\n<path fill=\"#e78c4a\" stroke=\"#000000\" d=\"M3931,-1318C3931,-1318 3848,-1318 3848,-1318 3842,-1318 3836,-1312 3836,-1306 3836,-1306 3836,-1252 3836,-1252 3836,-1246 3842,-1240 3848,-1240 3848,-1240 3931,-1240 3931,-1240 3937,-1240 3943,-1246 3943,-1252 3943,-1252 3943,-1306 3943,-1306 3943,-1312 3937,-1318 3931,-1318\"/>\n<text text-anchor=\"start\" x=\"3848.5\" y=\"-1303.8\" font-family=\"Helvetica,sans-Serif\" font-size=\"14.00\" fill=\"#000000\">Fare ≤ 7.988</text>\n<text text-anchor=\"start\" x=\"3851.5\" y=\"-1289.8\" font-family=\"Helvetica,sans-Serif\" font-size=\"14.00\" fill=\"#000000\">gini = 0.146</text>\n<text text-anchor=\"start\" x=\"3845.5\" y=\"-1275.8\" font-family=\"Helvetica,sans-Serif\" font-size=\"14.00\" fill=\"#000000\">samples = 63</text>\n<text text-anchor=\"start\" x=\"3844\" y=\"-1261.8\" font-family=\"Helvetica,sans-Serif\" font-size=\"14.00\" fill=\"#000000\">value = [58, 5]</text>\n<text text-anchor=\"start\" x=\"3857\" y=\"-1247.8\" font-family=\"Helvetica,sans-Serif\" font-size=\"14.00\" fill=\"#000000\">class = y</text>\n<text text-anchor=\"start\" x=\"3915\" y=\"-1247.8\" font-family=\"Helvetica,sans-Serif\" baseline-shift=\"sub\" font-size=\"14.00\" fill=\"#000000\">0</text>\n</g>\n<!-- 219&#45;&gt;221 -->\n<g id=\"edge221\" class=\"edge\">\n<title>219&#45;&gt;221</title>\n<path fill=\"none\" stroke=\"#000000\" d=\"M3780.324,-1355.3562C3795.3465,-1344.8497 3811.7924,-1333.3476 3827.2572,-1322.5318\"/>\n<polygon fill=\"#000000\" stroke=\"#000000\" points=\"3829.5437,-1325.2037 3835.7325,-1316.6043 3825.5318,-1319.4674 3829.5437,-1325.2037\"/>\n</g>\n<!-- 222 -->\n<g id=\"node223\" class=\"node\">\n<title>222</title>\n<path fill=\"#ffffff\" stroke=\"#000000\" d=\"M3927,-1204C3927,-1204 3852,-1204 3852,-1204 3846,-1204 3840,-1198 3840,-1192 3840,-1192 3840,-1138 3840,-1138 3840,-1132 3846,-1126 3852,-1126 3852,-1126 3927,-1126 3927,-1126 3933,-1126 3939,-1132 3939,-1138 3939,-1138 3939,-1192 3939,-1192 3939,-1198 3933,-1204 3927,-1204\"/>\n<text text-anchor=\"start\" x=\"3852\" y=\"-1189.8\" font-family=\"Helvetica,sans-Serif\" font-size=\"14.00\" fill=\"#000000\">SibSp ≤ 1.0</text>\n<text text-anchor=\"start\" x=\"3860\" y=\"-1175.8\" font-family=\"Helvetica,sans-Serif\" font-size=\"14.00\" fill=\"#000000\">gini = 0.5</text>\n<text text-anchor=\"start\" x=\"3850\" y=\"-1161.8\" font-family=\"Helvetica,sans-Serif\" font-size=\"14.00\" fill=\"#000000\">samples = 4</text>\n<text text-anchor=\"start\" x=\"3848\" y=\"-1147.8\" font-family=\"Helvetica,sans-Serif\" font-size=\"14.00\" fill=\"#000000\">value = [2, 2]</text>\n<text text-anchor=\"start\" x=\"3857\" y=\"-1133.8\" font-family=\"Helvetica,sans-Serif\" font-size=\"14.00\" fill=\"#000000\">class = y</text>\n<text text-anchor=\"start\" x=\"3915\" y=\"-1133.8\" font-family=\"Helvetica,sans-Serif\" baseline-shift=\"sub\" font-size=\"14.00\" fill=\"#000000\">0</text>\n</g>\n<!-- 221&#45;&gt;222 -->\n<g id=\"edge222\" class=\"edge\">\n<title>221&#45;&gt;222</title>\n<path fill=\"none\" stroke=\"#000000\" d=\"M3889.5,-1239.7677C3889.5,-1231.6172 3889.5,-1222.9283 3889.5,-1214.4649\"/>\n<polygon fill=\"#000000\" stroke=\"#000000\" points=\"3893.0001,-1214.3046 3889.5,-1204.3046 3886.0001,-1214.3047 3893.0001,-1214.3046\"/>\n</g>\n<!-- 227 -->\n<g id=\"node228\" class=\"node\">\n<title>227</title>\n<path fill=\"#e68844\" stroke=\"#000000\" d=\"M4133,-1204C4133,-1204 4050,-1204 4050,-1204 4044,-1204 4038,-1198 4038,-1192 4038,-1192 4038,-1138 4038,-1138 4038,-1132 4044,-1126 4050,-1126 4050,-1126 4133,-1126 4133,-1126 4139,-1126 4145,-1132 4145,-1138 4145,-1138 4145,-1192 4145,-1192 4145,-1198 4139,-1204 4133,-1204\"/>\n<text text-anchor=\"start\" x=\"4056.5\" y=\"-1189.8\" font-family=\"Helvetica,sans-Serif\" font-size=\"14.00\" fill=\"#000000\">Age ≤ 60.5</text>\n<text text-anchor=\"start\" x=\"4053.5\" y=\"-1175.8\" font-family=\"Helvetica,sans-Serif\" font-size=\"14.00\" fill=\"#000000\">gini = 0.097</text>\n<text text-anchor=\"start\" x=\"4047.5\" y=\"-1161.8\" font-family=\"Helvetica,sans-Serif\" font-size=\"14.00\" fill=\"#000000\">samples = 59</text>\n<text text-anchor=\"start\" x=\"4046\" y=\"-1147.8\" font-family=\"Helvetica,sans-Serif\" font-size=\"14.00\" fill=\"#000000\">value = [56, 3]</text>\n<text text-anchor=\"start\" x=\"4059\" y=\"-1133.8\" font-family=\"Helvetica,sans-Serif\" font-size=\"14.00\" fill=\"#000000\">class = y</text>\n<text text-anchor=\"start\" x=\"4117\" y=\"-1133.8\" font-family=\"Helvetica,sans-Serif\" baseline-shift=\"sub\" font-size=\"14.00\" fill=\"#000000\">0</text>\n</g>\n<!-- 221&#45;&gt;227 -->\n<g id=\"edge227\" class=\"edge\">\n<title>221&#45;&gt;227</title>\n<path fill=\"none\" stroke=\"#000000\" d=\"M3943.102,-1248.7494C3969.5743,-1233.8095 4001.6649,-1215.699 4029.223,-1200.1464\"/>\n<polygon fill=\"#000000\" stroke=\"#000000\" points=\"4031.0097,-1203.157 4037.9983,-1195.194 4027.5693,-1197.0608 4031.0097,-1203.157\"/>\n</g>\n<!-- 223 -->\n<g id=\"node224\" class=\"node\">\n<title>223</title>\n<path fill=\"#9ccef2\" stroke=\"#000000\" d=\"M3868,-1090C3868,-1090 3793,-1090 3793,-1090 3787,-1090 3781,-1084 3781,-1078 3781,-1078 3781,-1024 3781,-1024 3781,-1018 3787,-1012 3793,-1012 3793,-1012 3868,-1012 3868,-1012 3874,-1012 3880,-1018 3880,-1024 3880,-1024 3880,-1078 3880,-1078 3880,-1084 3874,-1090 3868,-1090\"/>\n<text text-anchor=\"start\" x=\"3795.5\" y=\"-1075.8\" font-family=\"Helvetica,sans-Serif\" font-size=\"14.00\" fill=\"#000000\">Age ≤ 41.5</text>\n<text text-anchor=\"start\" x=\"3792.5\" y=\"-1061.8\" font-family=\"Helvetica,sans-Serif\" font-size=\"14.00\" fill=\"#000000\">gini = 0.444</text>\n<text text-anchor=\"start\" x=\"3791\" y=\"-1047.8\" font-family=\"Helvetica,sans-Serif\" font-size=\"14.00\" fill=\"#000000\">samples = 3</text>\n<text text-anchor=\"start\" x=\"3789\" y=\"-1033.8\" font-family=\"Helvetica,sans-Serif\" font-size=\"14.00\" fill=\"#000000\">value = [1, 2]</text>\n<text text-anchor=\"start\" x=\"3798\" y=\"-1019.8\" font-family=\"Helvetica,sans-Serif\" font-size=\"14.00\" fill=\"#000000\">class = y</text>\n<text text-anchor=\"start\" x=\"3856\" y=\"-1019.8\" font-family=\"Helvetica,sans-Serif\" baseline-shift=\"sub\" font-size=\"14.00\" fill=\"#000000\">1</text>\n</g>\n<!-- 222&#45;&gt;223 -->\n<g id=\"edge223\" class=\"edge\">\n<title>222&#45;&gt;223</title>\n<path fill=\"none\" stroke=\"#000000\" d=\"M3869.1955,-1125.7677C3864.7919,-1117.259 3860.0845,-1108.1634 3855.5233,-1099.3502\"/>\n<polygon fill=\"#000000\" stroke=\"#000000\" points=\"3858.5467,-1097.577 3850.8419,-1090.3046 3852.3299,-1100.7945 3858.5467,-1097.577\"/>\n</g>\n<!-- 226 -->\n<g id=\"node227\" class=\"node\">\n<title>226</title>\n<path fill=\"#e58139\" stroke=\"#000000\" d=\"M3985,-1083C3985,-1083 3910,-1083 3910,-1083 3904,-1083 3898,-1077 3898,-1071 3898,-1071 3898,-1031 3898,-1031 3898,-1025 3904,-1019 3910,-1019 3910,-1019 3985,-1019 3985,-1019 3991,-1019 3997,-1025 3997,-1031 3997,-1031 3997,-1071 3997,-1071 3997,-1077 3991,-1083 3985,-1083\"/>\n<text text-anchor=\"start\" x=\"3918\" y=\"-1068.8\" font-family=\"Helvetica,sans-Serif\" font-size=\"14.00\" fill=\"#000000\">gini = 0.0</text>\n<text text-anchor=\"start\" x=\"3908\" y=\"-1054.8\" font-family=\"Helvetica,sans-Serif\" font-size=\"14.00\" fill=\"#000000\">samples = 1</text>\n<text text-anchor=\"start\" x=\"3906\" y=\"-1040.8\" font-family=\"Helvetica,sans-Serif\" font-size=\"14.00\" fill=\"#000000\">value = [1, 0]</text>\n<text text-anchor=\"start\" x=\"3915\" y=\"-1026.8\" font-family=\"Helvetica,sans-Serif\" font-size=\"14.00\" fill=\"#000000\">class = y</text>\n<text text-anchor=\"start\" x=\"3973\" y=\"-1026.8\" font-family=\"Helvetica,sans-Serif\" baseline-shift=\"sub\" font-size=\"14.00\" fill=\"#000000\">0</text>\n</g>\n<!-- 222&#45;&gt;226 -->\n<g id=\"edge226\" class=\"edge\">\n<title>222&#45;&gt;226</title>\n<path fill=\"none\" stroke=\"#000000\" d=\"M3909.4603,-1125.7677C3914.9899,-1114.8991 3921.0068,-1103.0729 3926.589,-1092.1009\"/>\n<polygon fill=\"#000000\" stroke=\"#000000\" points=\"3929.7405,-1093.6251 3931.1556,-1083.1252 3923.5015,-1090.4509 3929.7405,-1093.6251\"/>\n</g>\n<!-- 224 -->\n<g id=\"node225\" class=\"node\">\n<title>224</title>\n<path fill=\"#ffffff\" stroke=\"#000000\" d=\"M3788,-969C3788,-969 3713,-969 3713,-969 3707,-969 3701,-963 3701,-957 3701,-957 3701,-917 3701,-917 3701,-911 3707,-905 3713,-905 3713,-905 3788,-905 3788,-905 3794,-905 3800,-911 3800,-917 3800,-917 3800,-957 3800,-957 3800,-963 3794,-969 3788,-969\"/>\n<text text-anchor=\"start\" x=\"3721\" y=\"-954.8\" font-family=\"Helvetica,sans-Serif\" font-size=\"14.00\" fill=\"#000000\">gini = 0.5</text>\n<text text-anchor=\"start\" x=\"3711\" y=\"-940.8\" font-family=\"Helvetica,sans-Serif\" font-size=\"14.00\" fill=\"#000000\">samples = 2</text>\n<text text-anchor=\"start\" x=\"3709\" y=\"-926.8\" font-family=\"Helvetica,sans-Serif\" font-size=\"14.00\" fill=\"#000000\">value = [1, 1]</text>\n<text text-anchor=\"start\" x=\"3718\" y=\"-912.8\" font-family=\"Helvetica,sans-Serif\" font-size=\"14.00\" fill=\"#000000\">class = y</text>\n<text text-anchor=\"start\" x=\"3776\" y=\"-912.8\" font-family=\"Helvetica,sans-Serif\" baseline-shift=\"sub\" font-size=\"14.00\" fill=\"#000000\">0</text>\n</g>\n<!-- 223&#45;&gt;224 -->\n<g id=\"edge224\" class=\"edge\">\n<title>223&#45;&gt;224</title>\n<path fill=\"none\" stroke=\"#000000\" d=\"M3802.9685,-1011.7677C3795.1889,-1000.6817 3786.7101,-988.5994 3778.8815,-977.4436\"/>\n<polygon fill=\"#000000\" stroke=\"#000000\" points=\"3781.6533,-975.3003 3773.044,-969.1252 3775.9233,-979.3213 3781.6533,-975.3003\"/>\n</g>\n<!-- 225 -->\n<g id=\"node226\" class=\"node\">\n<title>225</title>\n<path fill=\"#399de5\" stroke=\"#000000\" d=\"M3905,-969C3905,-969 3830,-969 3830,-969 3824,-969 3818,-963 3818,-957 3818,-957 3818,-917 3818,-917 3818,-911 3824,-905 3830,-905 3830,-905 3905,-905 3905,-905 3911,-905 3917,-911 3917,-917 3917,-917 3917,-957 3917,-957 3917,-963 3911,-969 3905,-969\"/>\n<text text-anchor=\"start\" x=\"3838\" y=\"-954.8\" font-family=\"Helvetica,sans-Serif\" font-size=\"14.00\" fill=\"#000000\">gini = 0.0</text>\n<text text-anchor=\"start\" x=\"3828\" y=\"-940.8\" font-family=\"Helvetica,sans-Serif\" font-size=\"14.00\" fill=\"#000000\">samples = 1</text>\n<text text-anchor=\"start\" x=\"3826\" y=\"-926.8\" font-family=\"Helvetica,sans-Serif\" font-size=\"14.00\" fill=\"#000000\">value = [0, 1]</text>\n<text text-anchor=\"start\" x=\"3835\" y=\"-912.8\" font-family=\"Helvetica,sans-Serif\" font-size=\"14.00\" fill=\"#000000\">class = y</text>\n<text text-anchor=\"start\" x=\"3893\" y=\"-912.8\" font-family=\"Helvetica,sans-Serif\" baseline-shift=\"sub\" font-size=\"14.00\" fill=\"#000000\">1</text>\n</g>\n<!-- 223&#45;&gt;225 -->\n<g id=\"edge225\" class=\"edge\">\n<title>223&#45;&gt;225</title>\n<path fill=\"none\" stroke=\"#000000\" d=\"M3843.2333,-1011.7677C3846.6903,-1001.1164 3850.4458,-989.5455 3853.9462,-978.7603\"/>\n<polygon fill=\"#000000\" stroke=\"#000000\" points=\"3857.3153,-979.7173 3857.0734,-969.1252 3850.6572,-977.5563 3857.3153,-979.7173\"/>\n</g>\n<!-- 228 -->\n<g id=\"node229\" class=\"node\">\n<title>228</title>\n<path fill=\"#e68640\" stroke=\"#000000\" d=\"M4133,-1090C4133,-1090 4050,-1090 4050,-1090 4044,-1090 4038,-1084 4038,-1078 4038,-1078 4038,-1024 4038,-1024 4038,-1018 4044,-1012 4050,-1012 4050,-1012 4133,-1012 4133,-1012 4139,-1012 4145,-1018 4145,-1024 4145,-1024 4145,-1078 4145,-1078 4145,-1084 4139,-1090 4133,-1090\"/>\n<text text-anchor=\"start\" x=\"4050.5\" y=\"-1075.8\" font-family=\"Helvetica,sans-Serif\" font-size=\"14.00\" fill=\"#000000\">Fare ≤ 13.25</text>\n<text text-anchor=\"start\" x=\"4058\" y=\"-1061.8\" font-family=\"Helvetica,sans-Serif\" font-size=\"14.00\" fill=\"#000000\">gini = 0.07</text>\n<text text-anchor=\"start\" x=\"4047.5\" y=\"-1047.8\" font-family=\"Helvetica,sans-Serif\" font-size=\"14.00\" fill=\"#000000\">samples = 55</text>\n<text text-anchor=\"start\" x=\"4046\" y=\"-1033.8\" font-family=\"Helvetica,sans-Serif\" font-size=\"14.00\" fill=\"#000000\">value = [53, 2]</text>\n<text text-anchor=\"start\" x=\"4059\" y=\"-1019.8\" font-family=\"Helvetica,sans-Serif\" font-size=\"14.00\" fill=\"#000000\">class = y</text>\n<text text-anchor=\"start\" x=\"4117\" y=\"-1019.8\" font-family=\"Helvetica,sans-Serif\" baseline-shift=\"sub\" font-size=\"14.00\" fill=\"#000000\">0</text>\n</g>\n<!-- 227&#45;&gt;228 -->\n<g id=\"edge228\" class=\"edge\">\n<title>227&#45;&gt;228</title>\n<path fill=\"none\" stroke=\"#000000\" d=\"M4091.5,-1125.7677C4091.5,-1117.6172 4091.5,-1108.9283 4091.5,-1100.4649\"/>\n<polygon fill=\"#000000\" stroke=\"#000000\" points=\"4095.0001,-1100.3046 4091.5,-1090.3046 4088.0001,-1100.3047 4095.0001,-1100.3046\"/>\n</g>\n<!-- 239 -->\n<g id=\"node240\" class=\"node\">\n<title>239</title>\n<path fill=\"#eeab7b\" stroke=\"#000000\" d=\"M4272,-1090C4272,-1090 4197,-1090 4197,-1090 4191,-1090 4185,-1084 4185,-1078 4185,-1078 4185,-1024 4185,-1024 4185,-1018 4191,-1012 4197,-1012 4197,-1012 4272,-1012 4272,-1012 4278,-1012 4284,-1018 4284,-1024 4284,-1024 4284,-1078 4284,-1078 4284,-1084 4278,-1090 4272,-1090\"/>\n<text text-anchor=\"start\" x=\"4199.5\" y=\"-1075.8\" font-family=\"Helvetica,sans-Serif\" font-size=\"14.00\" fill=\"#000000\">Age ≤ 63.0</text>\n<text text-anchor=\"start\" x=\"4196.5\" y=\"-1061.8\" font-family=\"Helvetica,sans-Serif\" font-size=\"14.00\" fill=\"#000000\">gini = 0.375</text>\n<text text-anchor=\"start\" x=\"4195\" y=\"-1047.8\" font-family=\"Helvetica,sans-Serif\" font-size=\"14.00\" fill=\"#000000\">samples = 4</text>\n<text text-anchor=\"start\" x=\"4193\" y=\"-1033.8\" font-family=\"Helvetica,sans-Serif\" font-size=\"14.00\" fill=\"#000000\">value = [3, 1]</text>\n<text text-anchor=\"start\" x=\"4202\" y=\"-1019.8\" font-family=\"Helvetica,sans-Serif\" font-size=\"14.00\" fill=\"#000000\">class = y</text>\n<text text-anchor=\"start\" x=\"4260\" y=\"-1019.8\" font-family=\"Helvetica,sans-Serif\" baseline-shift=\"sub\" font-size=\"14.00\" fill=\"#000000\">0</text>\n</g>\n<!-- 227&#45;&gt;239 -->\n<g id=\"edge239\" class=\"edge\">\n<title>227&#45;&gt;239</title>\n<path fill=\"none\" stroke=\"#000000\" d=\"M4140.7125,-1125.7677C4152.5092,-1116.3633 4165.2052,-1106.242 4177.3282,-1096.5775\"/>\n<polygon fill=\"#000000\" stroke=\"#000000\" points=\"4179.5592,-1099.2751 4185.1968,-1090.3046 4175.1957,-1093.8015 4179.5592,-1099.2751\"/>\n</g>\n<!-- 229 -->\n<g id=\"node230\" class=\"node\">\n<title>229</title>\n<path fill=\"#e78a47\" stroke=\"#000000\" d=\"M4030,-976C4030,-976 3947,-976 3947,-976 3941,-976 3935,-970 3935,-964 3935,-964 3935,-910 3935,-910 3935,-904 3941,-898 3947,-898 3947,-898 4030,-898 4030,-898 4036,-898 4042,-904 4042,-910 4042,-910 4042,-964 4042,-964 4042,-970 4036,-976 4030,-976\"/>\n<text text-anchor=\"start\" x=\"3943\" y=\"-961.8\" font-family=\"Helvetica,sans-Serif\" font-size=\"14.00\" fill=\"#000000\">Fare ≤ 12.938</text>\n<text text-anchor=\"start\" x=\"3950.5\" y=\"-947.8\" font-family=\"Helvetica,sans-Serif\" font-size=\"14.00\" fill=\"#000000\">gini = 0.124</text>\n<text text-anchor=\"start\" x=\"3944.5\" y=\"-933.8\" font-family=\"Helvetica,sans-Serif\" font-size=\"14.00\" fill=\"#000000\">samples = 30</text>\n<text text-anchor=\"start\" x=\"3943\" y=\"-919.8\" font-family=\"Helvetica,sans-Serif\" font-size=\"14.00\" fill=\"#000000\">value = [28, 2]</text>\n<text text-anchor=\"start\" x=\"3956\" y=\"-905.8\" font-family=\"Helvetica,sans-Serif\" font-size=\"14.00\" fill=\"#000000\">class = y</text>\n<text text-anchor=\"start\" x=\"4014\" y=\"-905.8\" font-family=\"Helvetica,sans-Serif\" baseline-shift=\"sub\" font-size=\"14.00\" fill=\"#000000\">0</text>\n</g>\n<!-- 228&#45;&gt;229 -->\n<g id=\"edge229\" class=\"edge\">\n<title>228&#45;&gt;229</title>\n<path fill=\"none\" stroke=\"#000000\" d=\"M4056.0532,-1011.7677C4047.9609,-1002.8111 4039.2811,-993.2043 4030.9298,-983.9611\"/>\n<polygon fill=\"#000000\" stroke=\"#000000\" points=\"4033.3131,-981.3782 4024.0121,-976.3046 4028.1191,-986.0711 4033.3131,-981.3782\"/>\n</g>\n<!-- 238 -->\n<g id=\"node239\" class=\"node\">\n<title>238</title>\n<path fill=\"#e58139\" stroke=\"#000000\" d=\"M4155,-969C4155,-969 4072,-969 4072,-969 4066,-969 4060,-963 4060,-957 4060,-957 4060,-917 4060,-917 4060,-911 4066,-905 4072,-905 4072,-905 4155,-905 4155,-905 4161,-905 4167,-911 4167,-917 4167,-917 4167,-957 4167,-957 4167,-963 4161,-969 4155,-969\"/>\n<text text-anchor=\"start\" x=\"4084\" y=\"-954.8\" font-family=\"Helvetica,sans-Serif\" font-size=\"14.00\" fill=\"#000000\">gini = 0.0</text>\n<text text-anchor=\"start\" x=\"4069.5\" y=\"-940.8\" font-family=\"Helvetica,sans-Serif\" font-size=\"14.00\" fill=\"#000000\">samples = 25</text>\n<text text-anchor=\"start\" x=\"4068\" y=\"-926.8\" font-family=\"Helvetica,sans-Serif\" font-size=\"14.00\" fill=\"#000000\">value = [25, 0]</text>\n<text text-anchor=\"start\" x=\"4081\" y=\"-912.8\" font-family=\"Helvetica,sans-Serif\" font-size=\"14.00\" fill=\"#000000\">class = y</text>\n<text text-anchor=\"start\" x=\"4139\" y=\"-912.8\" font-family=\"Helvetica,sans-Serif\" baseline-shift=\"sub\" font-size=\"14.00\" fill=\"#000000\">0</text>\n</g>\n<!-- 228&#45;&gt;238 -->\n<g id=\"edge238\" class=\"edge\">\n<title>228&#45;&gt;238</title>\n<path fill=\"none\" stroke=\"#000000\" d=\"M4099.0712,-1011.7677C4101.1057,-1001.2251 4103.3141,-989.7816 4105.3772,-979.0907\"/>\n<polygon fill=\"#000000\" stroke=\"#000000\" points=\"4108.8421,-979.6073 4107.3004,-969.1252 4101.9689,-978.2808 4108.8421,-979.6073\"/>\n</g>\n<!-- 230 -->\n<g id=\"node231\" class=\"node\">\n<title>230</title>\n<path fill=\"#e58139\" stroke=\"#000000\" d=\"M3967,-855C3967,-855 3884,-855 3884,-855 3878,-855 3872,-849 3872,-843 3872,-843 3872,-803 3872,-803 3872,-797 3878,-791 3884,-791 3884,-791 3967,-791 3967,-791 3973,-791 3979,-797 3979,-803 3979,-803 3979,-843 3979,-843 3979,-849 3973,-855 3967,-855\"/>\n<text text-anchor=\"start\" x=\"3896\" y=\"-840.8\" font-family=\"Helvetica,sans-Serif\" font-size=\"14.00\" fill=\"#000000\">gini = 0.0</text>\n<text text-anchor=\"start\" x=\"3881.5\" y=\"-826.8\" font-family=\"Helvetica,sans-Serif\" font-size=\"14.00\" fill=\"#000000\">samples = 21</text>\n<text text-anchor=\"start\" x=\"3880\" y=\"-812.8\" font-family=\"Helvetica,sans-Serif\" font-size=\"14.00\" fill=\"#000000\">value = [21, 0]</text>\n<text text-anchor=\"start\" x=\"3893\" y=\"-798.8\" font-family=\"Helvetica,sans-Serif\" font-size=\"14.00\" fill=\"#000000\">class = y</text>\n<text text-anchor=\"start\" x=\"3951\" y=\"-798.8\" font-family=\"Helvetica,sans-Serif\" baseline-shift=\"sub\" font-size=\"14.00\" fill=\"#000000\">0</text>\n</g>\n<!-- 229&#45;&gt;230 -->\n<g id=\"edge230\" class=\"edge\">\n<title>229&#45;&gt;230</title>\n<path fill=\"none\" stroke=\"#000000\" d=\"M3966.819,-897.7677C3960.8126,-886.8991 3954.2771,-875.0729 3948.2137,-864.1009\"/>\n<polygon fill=\"#000000\" stroke=\"#000000\" points=\"3951.1537,-862.1847 3943.2534,-855.1252 3945.027,-865.5705 3951.1537,-862.1847\"/>\n</g>\n<!-- 231 -->\n<g id=\"node232\" class=\"node\">\n<title>231</title>\n<path fill=\"#eca572\" stroke=\"#000000\" d=\"M4084,-862C4084,-862 4009,-862 4009,-862 4003,-862 3997,-856 3997,-850 3997,-850 3997,-796 3997,-796 3997,-790 4003,-784 4009,-784 4009,-784 4084,-784 4084,-784 4090,-784 4096,-790 4096,-796 4096,-796 4096,-850 4096,-850 4096,-856 4090,-862 4084,-862\"/>\n<text text-anchor=\"start\" x=\"4011.5\" y=\"-847.8\" font-family=\"Helvetica,sans-Serif\" font-size=\"14.00\" fill=\"#000000\">Age ≤ 45.0</text>\n<text text-anchor=\"start\" x=\"4008.5\" y=\"-833.8\" font-family=\"Helvetica,sans-Serif\" font-size=\"14.00\" fill=\"#000000\">gini = 0.346</text>\n<text text-anchor=\"start\" x=\"4007\" y=\"-819.8\" font-family=\"Helvetica,sans-Serif\" font-size=\"14.00\" fill=\"#000000\">samples = 9</text>\n<text text-anchor=\"start\" x=\"4005\" y=\"-805.8\" font-family=\"Helvetica,sans-Serif\" font-size=\"14.00\" fill=\"#000000\">value = [7, 2]</text>\n<text text-anchor=\"start\" x=\"4014\" y=\"-791.8\" font-family=\"Helvetica,sans-Serif\" font-size=\"14.00\" fill=\"#000000\">class = y</text>\n<text text-anchor=\"start\" x=\"4072\" y=\"-791.8\" font-family=\"Helvetica,sans-Serif\" baseline-shift=\"sub\" font-size=\"14.00\" fill=\"#000000\">0</text>\n</g>\n<!-- 229&#45;&gt;231 -->\n<g id=\"edge231\" class=\"edge\">\n<title>229&#45;&gt;231</title>\n<path fill=\"none\" stroke=\"#000000\" d=\"M4008.4603,-897.7677C4012.7893,-889.259 4017.4169,-880.1634 4021.9008,-871.3502\"/>\n<polygon fill=\"#000000\" stroke=\"#000000\" points=\"4025.0877,-872.8046 4026.5029,-862.3046 4018.8488,-869.6303 4025.0877,-872.8046\"/>\n</g>\n<!-- 232 -->\n<g id=\"node233\" class=\"node\">\n<title>232</title>\n<path fill=\"#f2c09c\" stroke=\"#000000\" d=\"M4026,-748C4026,-748 3951,-748 3951,-748 3945,-748 3939,-742 3939,-736 3939,-736 3939,-682 3939,-682 3939,-676 3945,-670 3951,-670 3951,-670 4026,-670 4026,-670 4032,-670 4038,-676 4038,-682 4038,-682 4038,-736 4038,-736 4038,-742 4032,-748 4026,-748\"/>\n<text text-anchor=\"start\" x=\"3953.5\" y=\"-733.8\" font-family=\"Helvetica,sans-Serif\" font-size=\"14.00\" fill=\"#000000\">Age ≤ 35.0</text>\n<text text-anchor=\"start\" x=\"3950.5\" y=\"-719.8\" font-family=\"Helvetica,sans-Serif\" font-size=\"14.00\" fill=\"#000000\">gini = 0.444</text>\n<text text-anchor=\"start\" x=\"3949\" y=\"-705.8\" font-family=\"Helvetica,sans-Serif\" font-size=\"14.00\" fill=\"#000000\">samples = 6</text>\n<text text-anchor=\"start\" x=\"3947\" y=\"-691.8\" font-family=\"Helvetica,sans-Serif\" font-size=\"14.00\" fill=\"#000000\">value = [4, 2]</text>\n<text text-anchor=\"start\" x=\"3956\" y=\"-677.8\" font-family=\"Helvetica,sans-Serif\" font-size=\"14.00\" fill=\"#000000\">class = y</text>\n<text text-anchor=\"start\" x=\"4014\" y=\"-677.8\" font-family=\"Helvetica,sans-Serif\" baseline-shift=\"sub\" font-size=\"14.00\" fill=\"#000000\">0</text>\n</g>\n<!-- 231&#45;&gt;232 -->\n<g id=\"edge232\" class=\"edge\">\n<title>231&#45;&gt;232</title>\n<path fill=\"none\" stroke=\"#000000\" d=\"M4026.5397,-783.7677C4022.2107,-775.259 4017.5831,-766.1634 4013.0992,-757.3502\"/>\n<polygon fill=\"#000000\" stroke=\"#000000\" points=\"4016.1512,-755.6303 4008.4971,-748.3046 4009.9123,-758.8046 4016.1512,-755.6303\"/>\n</g>\n<!-- 237 -->\n<g id=\"node238\" class=\"node\">\n<title>237</title>\n<path fill=\"#e58139\" stroke=\"#000000\" d=\"M4143,-741C4143,-741 4068,-741 4068,-741 4062,-741 4056,-735 4056,-729 4056,-729 4056,-689 4056,-689 4056,-683 4062,-677 4068,-677 4068,-677 4143,-677 4143,-677 4149,-677 4155,-683 4155,-689 4155,-689 4155,-729 4155,-729 4155,-735 4149,-741 4143,-741\"/>\n<text text-anchor=\"start\" x=\"4076\" y=\"-726.8\" font-family=\"Helvetica,sans-Serif\" font-size=\"14.00\" fill=\"#000000\">gini = 0.0</text>\n<text text-anchor=\"start\" x=\"4066\" y=\"-712.8\" font-family=\"Helvetica,sans-Serif\" font-size=\"14.00\" fill=\"#000000\">samples = 3</text>\n<text text-anchor=\"start\" x=\"4064\" y=\"-698.8\" font-family=\"Helvetica,sans-Serif\" font-size=\"14.00\" fill=\"#000000\">value = [3, 0]</text>\n<text text-anchor=\"start\" x=\"4073\" y=\"-684.8\" font-family=\"Helvetica,sans-Serif\" font-size=\"14.00\" fill=\"#000000\">class = y</text>\n<text text-anchor=\"start\" x=\"4131\" y=\"-684.8\" font-family=\"Helvetica,sans-Serif\" baseline-shift=\"sub\" font-size=\"14.00\" fill=\"#000000\">0</text>\n</g>\n<!-- 231&#45;&gt;237 -->\n<g id=\"edge237\" class=\"edge\">\n<title>231&#45;&gt;237</title>\n<path fill=\"none\" stroke=\"#000000\" d=\"M4066.8045,-783.7677C4072.4294,-772.8991 4078.55,-761.0729 4084.2285,-750.1009\"/>\n<polygon fill=\"#000000\" stroke=\"#000000\" points=\"4087.3858,-751.615 4088.8738,-741.1252 4081.169,-748.3975 4087.3858,-751.615\"/>\n</g>\n<!-- 233 -->\n<g id=\"node234\" class=\"node\">\n<title>233</title>\n<path fill=\"#ffffff\" stroke=\"#000000\" d=\"M3968,-627C3968,-627 3893,-627 3893,-627 3887,-627 3881,-621 3881,-615 3881,-615 3881,-575 3881,-575 3881,-569 3887,-563 3893,-563 3893,-563 3968,-563 3968,-563 3974,-563 3980,-569 3980,-575 3980,-575 3980,-615 3980,-615 3980,-621 3974,-627 3968,-627\"/>\n<text text-anchor=\"start\" x=\"3901\" y=\"-612.8\" font-family=\"Helvetica,sans-Serif\" font-size=\"14.00\" fill=\"#000000\">gini = 0.5</text>\n<text text-anchor=\"start\" x=\"3891\" y=\"-598.8\" font-family=\"Helvetica,sans-Serif\" font-size=\"14.00\" fill=\"#000000\">samples = 2</text>\n<text text-anchor=\"start\" x=\"3889\" y=\"-584.8\" font-family=\"Helvetica,sans-Serif\" font-size=\"14.00\" fill=\"#000000\">value = [1, 1]</text>\n<text text-anchor=\"start\" x=\"3898\" y=\"-570.8\" font-family=\"Helvetica,sans-Serif\" font-size=\"14.00\" fill=\"#000000\">class = y</text>\n<text text-anchor=\"start\" x=\"3956\" y=\"-570.8\" font-family=\"Helvetica,sans-Serif\" baseline-shift=\"sub\" font-size=\"14.00\" fill=\"#000000\">0</text>\n</g>\n<!-- 232&#45;&gt;233 -->\n<g id=\"edge233\" class=\"edge\">\n<title>232&#45;&gt;233</title>\n<path fill=\"none\" stroke=\"#000000\" d=\"M3968.5397,-669.7677C3963.0101,-658.8991 3956.9932,-647.0729 3951.411,-636.1009\"/>\n<polygon fill=\"#000000\" stroke=\"#000000\" points=\"3954.4985,-634.4509 3946.8444,-627.1252 3948.2595,-637.6251 3954.4985,-634.4509\"/>\n</g>\n<!-- 234 -->\n<g id=\"node235\" class=\"node\">\n<title>234</title>\n<path fill=\"#eeab7b\" stroke=\"#000000\" d=\"M4085,-634C4085,-634 4010,-634 4010,-634 4004,-634 3998,-628 3998,-622 3998,-622 3998,-568 3998,-568 3998,-562 4004,-556 4010,-556 4010,-556 4085,-556 4085,-556 4091,-556 4097,-562 4097,-568 4097,-568 4097,-622 4097,-622 4097,-628 4091,-634 4085,-634\"/>\n<text text-anchor=\"start\" x=\"4012.5\" y=\"-619.8\" font-family=\"Helvetica,sans-Serif\" font-size=\"14.00\" fill=\"#000000\">Age ≤ 40.5</text>\n<text text-anchor=\"start\" x=\"4009.5\" y=\"-605.8\" font-family=\"Helvetica,sans-Serif\" font-size=\"14.00\" fill=\"#000000\">gini = 0.375</text>\n<text text-anchor=\"start\" x=\"4008\" y=\"-591.8\" font-family=\"Helvetica,sans-Serif\" font-size=\"14.00\" fill=\"#000000\">samples = 4</text>\n<text text-anchor=\"start\" x=\"4006\" y=\"-577.8\" font-family=\"Helvetica,sans-Serif\" font-size=\"14.00\" fill=\"#000000\">value = [3, 1]</text>\n<text text-anchor=\"start\" x=\"4015\" y=\"-563.8\" font-family=\"Helvetica,sans-Serif\" font-size=\"14.00\" fill=\"#000000\">class = y</text>\n<text text-anchor=\"start\" x=\"4073\" y=\"-563.8\" font-family=\"Helvetica,sans-Serif\" baseline-shift=\"sub\" font-size=\"14.00\" fill=\"#000000\">0</text>\n</g>\n<!-- 232&#45;&gt;234 -->\n<g id=\"edge234\" class=\"edge\">\n<title>232&#45;&gt;234</title>\n<path fill=\"none\" stroke=\"#000000\" d=\"M4008.8045,-669.7677C4013.2081,-661.259 4017.9155,-652.1634 4022.4767,-643.3502\"/>\n<polygon fill=\"#000000\" stroke=\"#000000\" points=\"4025.6701,-644.7945 4027.1581,-634.3046 4019.4533,-641.577 4025.6701,-644.7945\"/>\n</g>\n<!-- 235 -->\n<g id=\"node236\" class=\"node\">\n<title>235</title>\n<path fill=\"#e58139\" stroke=\"#000000\" d=\"M4026,-513C4026,-513 3951,-513 3951,-513 3945,-513 3939,-507 3939,-501 3939,-501 3939,-461 3939,-461 3939,-455 3945,-449 3951,-449 3951,-449 4026,-449 4026,-449 4032,-449 4038,-455 4038,-461 4038,-461 4038,-501 4038,-501 4038,-507 4032,-513 4026,-513\"/>\n<text text-anchor=\"start\" x=\"3959\" y=\"-498.8\" font-family=\"Helvetica,sans-Serif\" font-size=\"14.00\" fill=\"#000000\">gini = 0.0</text>\n<text text-anchor=\"start\" x=\"3949\" y=\"-484.8\" font-family=\"Helvetica,sans-Serif\" font-size=\"14.00\" fill=\"#000000\">samples = 2</text>\n<text text-anchor=\"start\" x=\"3947\" y=\"-470.8\" font-family=\"Helvetica,sans-Serif\" font-size=\"14.00\" fill=\"#000000\">value = [2, 0]</text>\n<text text-anchor=\"start\" x=\"3956\" y=\"-456.8\" font-family=\"Helvetica,sans-Serif\" font-size=\"14.00\" fill=\"#000000\">class = y</text>\n<text text-anchor=\"start\" x=\"4014\" y=\"-456.8\" font-family=\"Helvetica,sans-Serif\" baseline-shift=\"sub\" font-size=\"14.00\" fill=\"#000000\">0</text>\n</g>\n<!-- 234&#45;&gt;235 -->\n<g id=\"edge235\" class=\"edge\">\n<title>234&#45;&gt;235</title>\n<path fill=\"none\" stroke=\"#000000\" d=\"M4027.1955,-555.7677C4021.5706,-544.8991 4015.45,-533.0729 4009.7715,-522.1009\"/>\n<polygon fill=\"#000000\" stroke=\"#000000\" points=\"4012.831,-520.3975 4005.1262,-513.1252 4006.6142,-523.615 4012.831,-520.3975\"/>\n</g>\n<!-- 236 -->\n<g id=\"node237\" class=\"node\">\n<title>236</title>\n<path fill=\"#ffffff\" stroke=\"#000000\" d=\"M4143,-513C4143,-513 4068,-513 4068,-513 4062,-513 4056,-507 4056,-501 4056,-501 4056,-461 4056,-461 4056,-455 4062,-449 4068,-449 4068,-449 4143,-449 4143,-449 4149,-449 4155,-455 4155,-461 4155,-461 4155,-501 4155,-501 4155,-507 4149,-513 4143,-513\"/>\n<text text-anchor=\"start\" x=\"4076\" y=\"-498.8\" font-family=\"Helvetica,sans-Serif\" font-size=\"14.00\" fill=\"#000000\">gini = 0.5</text>\n<text text-anchor=\"start\" x=\"4066\" y=\"-484.8\" font-family=\"Helvetica,sans-Serif\" font-size=\"14.00\" fill=\"#000000\">samples = 2</text>\n<text text-anchor=\"start\" x=\"4064\" y=\"-470.8\" font-family=\"Helvetica,sans-Serif\" font-size=\"14.00\" fill=\"#000000\">value = [1, 1]</text>\n<text text-anchor=\"start\" x=\"4073\" y=\"-456.8\" font-family=\"Helvetica,sans-Serif\" font-size=\"14.00\" fill=\"#000000\">class = y</text>\n<text text-anchor=\"start\" x=\"4131\" y=\"-456.8\" font-family=\"Helvetica,sans-Serif\" baseline-shift=\"sub\" font-size=\"14.00\" fill=\"#000000\">0</text>\n</g>\n<!-- 234&#45;&gt;236 -->\n<g id=\"edge236\" class=\"edge\">\n<title>234&#45;&gt;236</title>\n<path fill=\"none\" stroke=\"#000000\" d=\"M4067.4603,-555.7677C4072.9899,-544.8991 4079.0068,-533.0729 4084.589,-522.1009\"/>\n<polygon fill=\"#000000\" stroke=\"#000000\" points=\"4087.7405,-523.6251 4089.1556,-513.1252 4081.5015,-520.4509 4087.7405,-523.6251\"/>\n</g>\n<!-- 240 -->\n<g id=\"node241\" class=\"node\">\n<title>240</title>\n<path fill=\"#399de5\" stroke=\"#000000\" d=\"M4272,-969C4272,-969 4197,-969 4197,-969 4191,-969 4185,-963 4185,-957 4185,-957 4185,-917 4185,-917 4185,-911 4191,-905 4197,-905 4197,-905 4272,-905 4272,-905 4278,-905 4284,-911 4284,-917 4284,-917 4284,-957 4284,-957 4284,-963 4278,-969 4272,-969\"/>\n<text text-anchor=\"start\" x=\"4205\" y=\"-954.8\" font-family=\"Helvetica,sans-Serif\" font-size=\"14.00\" fill=\"#000000\">gini = 0.0</text>\n<text text-anchor=\"start\" x=\"4195\" y=\"-940.8\" font-family=\"Helvetica,sans-Serif\" font-size=\"14.00\" fill=\"#000000\">samples = 1</text>\n<text text-anchor=\"start\" x=\"4193\" y=\"-926.8\" font-family=\"Helvetica,sans-Serif\" font-size=\"14.00\" fill=\"#000000\">value = [0, 1]</text>\n<text text-anchor=\"start\" x=\"4202\" y=\"-912.8\" font-family=\"Helvetica,sans-Serif\" font-size=\"14.00\" fill=\"#000000\">class = y</text>\n<text text-anchor=\"start\" x=\"4260\" y=\"-912.8\" font-family=\"Helvetica,sans-Serif\" baseline-shift=\"sub\" font-size=\"14.00\" fill=\"#000000\">1</text>\n</g>\n<!-- 239&#45;&gt;240 -->\n<g id=\"edge240\" class=\"edge\">\n<title>239&#45;&gt;240</title>\n<path fill=\"none\" stroke=\"#000000\" d=\"M4234.5,-1011.7677C4234.5,-1001.3338 4234.5,-990.0174 4234.5,-979.4215\"/>\n<polygon fill=\"#000000\" stroke=\"#000000\" points=\"4238.0001,-979.1252 4234.5,-969.1252 4231.0001,-979.1252 4238.0001,-979.1252\"/>\n</g>\n<!-- 241 -->\n<g id=\"node242\" class=\"node\">\n<title>241</title>\n<path fill=\"#e58139\" stroke=\"#000000\" d=\"M4389,-969C4389,-969 4314,-969 4314,-969 4308,-969 4302,-963 4302,-957 4302,-957 4302,-917 4302,-917 4302,-911 4308,-905 4314,-905 4314,-905 4389,-905 4389,-905 4395,-905 4401,-911 4401,-917 4401,-917 4401,-957 4401,-957 4401,-963 4395,-969 4389,-969\"/>\n<text text-anchor=\"start\" x=\"4322\" y=\"-954.8\" font-family=\"Helvetica,sans-Serif\" font-size=\"14.00\" fill=\"#000000\">gini = 0.0</text>\n<text text-anchor=\"start\" x=\"4312\" y=\"-940.8\" font-family=\"Helvetica,sans-Serif\" font-size=\"14.00\" fill=\"#000000\">samples = 3</text>\n<text text-anchor=\"start\" x=\"4310\" y=\"-926.8\" font-family=\"Helvetica,sans-Serif\" font-size=\"14.00\" fill=\"#000000\">value = [3, 0]</text>\n<text text-anchor=\"start\" x=\"4319\" y=\"-912.8\" font-family=\"Helvetica,sans-Serif\" font-size=\"14.00\" fill=\"#000000\">class = y</text>\n<text text-anchor=\"start\" x=\"4377\" y=\"-912.8\" font-family=\"Helvetica,sans-Serif\" baseline-shift=\"sub\" font-size=\"14.00\" fill=\"#000000\">0</text>\n</g>\n<!-- 239&#45;&gt;241 -->\n<g id=\"edge241\" class=\"edge\">\n<title>239&#45;&gt;241</title>\n<path fill=\"none\" stroke=\"#000000\" d=\"M4274.7648,-1011.7677C4286.5887,-1000.247 4299.5168,-987.6503 4311.3345,-976.1356\"/>\n<polygon fill=\"#000000\" stroke=\"#000000\" points=\"4313.8096,-978.6107 4318.5294,-969.1252 4308.9245,-973.5971 4313.8096,-978.6107\"/>\n</g>\n<!-- 243 -->\n<g id=\"node244\" class=\"node\">\n<title>243</title>\n<path fill=\"#f9e1cf\" stroke=\"#000000\" d=\"M4804.5,-1432C4804.5,-1432 4712.5,-1432 4712.5,-1432 4706.5,-1432 4700.5,-1426 4700.5,-1420 4700.5,-1420 4700.5,-1366 4700.5,-1366 4700.5,-1360 4706.5,-1354 4712.5,-1354 4712.5,-1354 4804.5,-1354 4804.5,-1354 4810.5,-1354 4816.5,-1360 4816.5,-1366 4816.5,-1366 4816.5,-1420 4816.5,-1420 4816.5,-1426 4810.5,-1432 4804.5,-1432\"/>\n<text text-anchor=\"start\" x=\"4723.5\" y=\"-1417.8\" font-family=\"Helvetica,sans-Serif\" font-size=\"14.00\" fill=\"#000000\">Age ≤ 24.5</text>\n<text text-anchor=\"start\" x=\"4720.5\" y=\"-1403.8\" font-family=\"Helvetica,sans-Serif\" font-size=\"14.00\" fill=\"#000000\">gini = 0.491</text>\n<text text-anchor=\"start\" x=\"4714.5\" y=\"-1389.8\" font-family=\"Helvetica,sans-Serif\" font-size=\"14.00\" fill=\"#000000\">samples = 51</text>\n<text text-anchor=\"start\" x=\"4708.5\" y=\"-1375.8\" font-family=\"Helvetica,sans-Serif\" font-size=\"14.00\" fill=\"#000000\">value = [29, 22]</text>\n<text text-anchor=\"start\" x=\"4726\" y=\"-1361.8\" font-family=\"Helvetica,sans-Serif\" font-size=\"14.00\" fill=\"#000000\">class = y</text>\n<text text-anchor=\"start\" x=\"4784\" y=\"-1361.8\" font-family=\"Helvetica,sans-Serif\" baseline-shift=\"sub\" font-size=\"14.00\" fill=\"#000000\">0</text>\n</g>\n<!-- 242&#45;&gt;243 -->\n<g id=\"edge243\" class=\"edge\">\n<title>242&#45;&gt;243</title>\n<path fill=\"none\" stroke=\"#000000\" d=\"M4758.5,-1467.7677C4758.5,-1459.6172 4758.5,-1450.9283 4758.5,-1442.4649\"/>\n<polygon fill=\"#000000\" stroke=\"#000000\" points=\"4762.0001,-1442.3046 4758.5,-1432.3046 4755.0001,-1442.3047 4762.0001,-1442.3046\"/>\n</g>\n<!-- 270 -->\n<g id=\"node271\" class=\"node\">\n<title>270</title>\n<path fill=\"#eda978\" stroke=\"#000000\" d=\"M5409.5,-1432C5409.5,-1432 5317.5,-1432 5317.5,-1432 5311.5,-1432 5305.5,-1426 5305.5,-1420 5305.5,-1420 5305.5,-1366 5305.5,-1366 5305.5,-1360 5311.5,-1354 5317.5,-1354 5317.5,-1354 5409.5,-1354 5409.5,-1354 5415.5,-1354 5421.5,-1360 5421.5,-1366 5421.5,-1366 5421.5,-1420 5421.5,-1420 5421.5,-1426 5415.5,-1432 5409.5,-1432\"/>\n<text text-anchor=\"start\" x=\"5328.5\" y=\"-1417.8\" font-family=\"Helvetica,sans-Serif\" font-size=\"14.00\" fill=\"#000000\">Age ≤ 75.5</text>\n<text text-anchor=\"start\" x=\"5325.5\" y=\"-1403.8\" font-family=\"Helvetica,sans-Serif\" font-size=\"14.00\" fill=\"#000000\">gini = 0.367</text>\n<text text-anchor=\"start\" x=\"5319.5\" y=\"-1389.8\" font-family=\"Helvetica,sans-Serif\" font-size=\"14.00\" fill=\"#000000\">samples = 62</text>\n<text text-anchor=\"start\" x=\"5313.5\" y=\"-1375.8\" font-family=\"Helvetica,sans-Serif\" font-size=\"14.00\" fill=\"#000000\">value = [47, 15]</text>\n<text text-anchor=\"start\" x=\"5331\" y=\"-1361.8\" font-family=\"Helvetica,sans-Serif\" font-size=\"14.00\" fill=\"#000000\">class = y</text>\n<text text-anchor=\"start\" x=\"5389\" y=\"-1361.8\" font-family=\"Helvetica,sans-Serif\" baseline-shift=\"sub\" font-size=\"14.00\" fill=\"#000000\">0</text>\n</g>\n<!-- 242&#45;&gt;270 -->\n<g id=\"edge270\" class=\"edge\">\n<title>242&#45;&gt;270</title>\n<path fill=\"none\" stroke=\"#000000\" d=\"M4816.5099,-1496.0692C4928.7315,-1474.9233 5175.0386,-1428.5117 5295.0562,-1405.8968\"/>\n<polygon fill=\"#000000\" stroke=\"#000000\" points=\"5296.043,-1409.2726 5305.2219,-1403.9813 5294.7467,-1402.3936 5296.043,-1409.2726\"/>\n</g>\n<!-- 244 -->\n<g id=\"node245\" class=\"node\">\n<title>244</title>\n<path fill=\"#e99457\" stroke=\"#000000\" d=\"M4738,-1318C4738,-1318 4643,-1318 4643,-1318 4637,-1318 4631,-1312 4631,-1306 4631,-1306 4631,-1252 4631,-1252 4631,-1246 4637,-1240 4643,-1240 4643,-1240 4738,-1240 4738,-1240 4744,-1240 4750,-1246 4750,-1252 4750,-1252 4750,-1306 4750,-1306 4750,-1312 4744,-1318 4738,-1318\"/>\n<text text-anchor=\"start\" x=\"4639\" y=\"-1303.8\" font-family=\"Helvetica,sans-Serif\" font-size=\"14.00\" fill=\"#000000\">Embarked ≤ 1.0</text>\n<text text-anchor=\"start\" x=\"4652.5\" y=\"-1289.8\" font-family=\"Helvetica,sans-Serif\" font-size=\"14.00\" fill=\"#000000\">gini = 0.231</text>\n<text text-anchor=\"start\" x=\"4646.5\" y=\"-1275.8\" font-family=\"Helvetica,sans-Serif\" font-size=\"14.00\" fill=\"#000000\">samples = 15</text>\n<text text-anchor=\"start\" x=\"4645\" y=\"-1261.8\" font-family=\"Helvetica,sans-Serif\" font-size=\"14.00\" fill=\"#000000\">value = [13, 2]</text>\n<text text-anchor=\"start\" x=\"4658\" y=\"-1247.8\" font-family=\"Helvetica,sans-Serif\" font-size=\"14.00\" fill=\"#000000\">class = y</text>\n<text text-anchor=\"start\" x=\"4716\" y=\"-1247.8\" font-family=\"Helvetica,sans-Serif\" baseline-shift=\"sub\" font-size=\"14.00\" fill=\"#000000\">0</text>\n</g>\n<!-- 243&#45;&gt;244 -->\n<g id=\"edge244\" class=\"edge\">\n<title>243&#45;&gt;244</title>\n<path fill=\"none\" stroke=\"#000000\" d=\"M4735.0983,-1353.7677C4729.9695,-1345.1694 4724.4832,-1335.9718 4719.1745,-1327.072\"/>\n<polygon fill=\"#000000\" stroke=\"#000000\" points=\"4722.0736,-1325.0999 4713.9449,-1318.3046 4716.0618,-1328.6858 4722.0736,-1325.0999\"/>\n</g>\n<!-- 251 -->\n<g id=\"node252\" class=\"node\">\n<title>251</title>\n<path fill=\"#d7ebfa\" stroke=\"#000000\" d=\"M4872.5,-1318C4872.5,-1318 4780.5,-1318 4780.5,-1318 4774.5,-1318 4768.5,-1312 4768.5,-1306 4768.5,-1306 4768.5,-1252 4768.5,-1252 4768.5,-1246 4774.5,-1240 4780.5,-1240 4780.5,-1240 4872.5,-1240 4872.5,-1240 4878.5,-1240 4884.5,-1246 4884.5,-1252 4884.5,-1252 4884.5,-1306 4884.5,-1306 4884.5,-1312 4878.5,-1318 4872.5,-1318\"/>\n<text text-anchor=\"start\" x=\"4789\" y=\"-1303.8\" font-family=\"Helvetica,sans-Serif\" font-size=\"14.00\" fill=\"#000000\">SibSp ≤ 1.5</text>\n<text text-anchor=\"start\" x=\"4788.5\" y=\"-1289.8\" font-family=\"Helvetica,sans-Serif\" font-size=\"14.00\" fill=\"#000000\">gini = 0.494</text>\n<text text-anchor=\"start\" x=\"4782.5\" y=\"-1275.8\" font-family=\"Helvetica,sans-Serif\" font-size=\"14.00\" fill=\"#000000\">samples = 36</text>\n<text text-anchor=\"start\" x=\"4776.5\" y=\"-1261.8\" font-family=\"Helvetica,sans-Serif\" font-size=\"14.00\" fill=\"#000000\">value = [16, 20]</text>\n<text text-anchor=\"start\" x=\"4794\" y=\"-1247.8\" font-family=\"Helvetica,sans-Serif\" font-size=\"14.00\" fill=\"#000000\">class = y</text>\n<text text-anchor=\"start\" x=\"4852\" y=\"-1247.8\" font-family=\"Helvetica,sans-Serif\" baseline-shift=\"sub\" font-size=\"14.00\" fill=\"#000000\">1</text>\n</g>\n<!-- 243&#45;&gt;251 -->\n<g id=\"edge251\" class=\"edge\">\n<title>243&#45;&gt;251</title>\n<path fill=\"none\" stroke=\"#000000\" d=\"M4781.9017,-1353.7677C4787.0305,-1345.1694 4792.5168,-1335.9718 4797.8255,-1327.072\"/>\n<polygon fill=\"#000000\" stroke=\"#000000\" points=\"4800.9382,-1328.6858 4803.0551,-1318.3046 4794.9264,-1325.0999 4800.9382,-1328.6858\"/>\n</g>\n<!-- 245 -->\n<g id=\"node246\" class=\"node\">\n<title>245</title>\n<path fill=\"#f2c09c\" stroke=\"#000000\" d=\"M4616,-1204C4616,-1204 4541,-1204 4541,-1204 4535,-1204 4529,-1198 4529,-1192 4529,-1192 4529,-1138 4529,-1138 4529,-1132 4535,-1126 4541,-1126 4541,-1126 4616,-1126 4616,-1126 4622,-1126 4628,-1132 4628,-1138 4628,-1138 4628,-1192 4628,-1192 4628,-1198 4622,-1204 4616,-1204\"/>\n<text text-anchor=\"start\" x=\"4541.5\" y=\"-1189.8\" font-family=\"Helvetica,sans-Serif\" font-size=\"14.00\" fill=\"#000000\">Parch ≤ 0.5</text>\n<text text-anchor=\"start\" x=\"4540.5\" y=\"-1175.8\" font-family=\"Helvetica,sans-Serif\" font-size=\"14.00\" fill=\"#000000\">gini = 0.444</text>\n<text text-anchor=\"start\" x=\"4539\" y=\"-1161.8\" font-family=\"Helvetica,sans-Serif\" font-size=\"14.00\" fill=\"#000000\">samples = 6</text>\n<text text-anchor=\"start\" x=\"4537\" y=\"-1147.8\" font-family=\"Helvetica,sans-Serif\" font-size=\"14.00\" fill=\"#000000\">value = [4, 2]</text>\n<text text-anchor=\"start\" x=\"4546\" y=\"-1133.8\" font-family=\"Helvetica,sans-Serif\" font-size=\"14.00\" fill=\"#000000\">class = y</text>\n<text text-anchor=\"start\" x=\"4604\" y=\"-1133.8\" font-family=\"Helvetica,sans-Serif\" baseline-shift=\"sub\" font-size=\"14.00\" fill=\"#000000\">0</text>\n</g>\n<!-- 244&#45;&gt;245 -->\n<g id=\"edge245\" class=\"edge\">\n<title>244&#45;&gt;245</title>\n<path fill=\"none\" stroke=\"#000000\" d=\"M4651.956,-1239.7677C4643.0686,-1230.7216 4633.5294,-1221.0121 4624.3649,-1211.6839\"/>\n<polygon fill=\"#000000\" stroke=\"#000000\" points=\"4626.62,-1208.9852 4617.1151,-1204.3046 4621.6267,-1213.8909 4626.62,-1208.9852\"/>\n</g>\n<!-- 250 -->\n<g id=\"node251\" class=\"node\">\n<title>250</title>\n<path fill=\"#e58139\" stroke=\"#000000\" d=\"M4733,-1197C4733,-1197 4658,-1197 4658,-1197 4652,-1197 4646,-1191 4646,-1185 4646,-1185 4646,-1145 4646,-1145 4646,-1139 4652,-1133 4658,-1133 4658,-1133 4733,-1133 4733,-1133 4739,-1133 4745,-1139 4745,-1145 4745,-1145 4745,-1185 4745,-1185 4745,-1191 4739,-1197 4733,-1197\"/>\n<text text-anchor=\"start\" x=\"4666\" y=\"-1182.8\" font-family=\"Helvetica,sans-Serif\" font-size=\"14.00\" fill=\"#000000\">gini = 0.0</text>\n<text text-anchor=\"start\" x=\"4656\" y=\"-1168.8\" font-family=\"Helvetica,sans-Serif\" font-size=\"14.00\" fill=\"#000000\">samples = 9</text>\n<text text-anchor=\"start\" x=\"4654\" y=\"-1154.8\" font-family=\"Helvetica,sans-Serif\" font-size=\"14.00\" fill=\"#000000\">value = [9, 0]</text>\n<text text-anchor=\"start\" x=\"4663\" y=\"-1140.8\" font-family=\"Helvetica,sans-Serif\" font-size=\"14.00\" fill=\"#000000\">class = y</text>\n<text text-anchor=\"start\" x=\"4721\" y=\"-1140.8\" font-family=\"Helvetica,sans-Serif\" baseline-shift=\"sub\" font-size=\"14.00\" fill=\"#000000\">0</text>\n</g>\n<!-- 244&#45;&gt;250 -->\n<g id=\"edge250\" class=\"edge\">\n<title>244&#45;&gt;250</title>\n<path fill=\"none\" stroke=\"#000000\" d=\"M4692.2207,-1239.7677C4692.6783,-1229.3338 4693.1747,-1218.0174 4693.6394,-1207.4215\"/>\n<polygon fill=\"#000000\" stroke=\"#000000\" points=\"4697.1494,-1207.269 4694.091,-1197.1252 4690.1561,-1206.9622 4697.1494,-1207.269\"/>\n</g>\n<!-- 246 -->\n<g id=\"node247\" class=\"node\">\n<title>246</title>\n<path fill=\"#e58139\" stroke=\"#000000\" d=\"M4504,-1083C4504,-1083 4429,-1083 4429,-1083 4423,-1083 4417,-1077 4417,-1071 4417,-1071 4417,-1031 4417,-1031 4417,-1025 4423,-1019 4429,-1019 4429,-1019 4504,-1019 4504,-1019 4510,-1019 4516,-1025 4516,-1031 4516,-1031 4516,-1071 4516,-1071 4516,-1077 4510,-1083 4504,-1083\"/>\n<text text-anchor=\"start\" x=\"4437\" y=\"-1068.8\" font-family=\"Helvetica,sans-Serif\" font-size=\"14.00\" fill=\"#000000\">gini = 0.0</text>\n<text text-anchor=\"start\" x=\"4427\" y=\"-1054.8\" font-family=\"Helvetica,sans-Serif\" font-size=\"14.00\" fill=\"#000000\">samples = 3</text>\n<text text-anchor=\"start\" x=\"4425\" y=\"-1040.8\" font-family=\"Helvetica,sans-Serif\" font-size=\"14.00\" fill=\"#000000\">value = [3, 0]</text>\n<text text-anchor=\"start\" x=\"4434\" y=\"-1026.8\" font-family=\"Helvetica,sans-Serif\" font-size=\"14.00\" fill=\"#000000\">class = y</text>\n<text text-anchor=\"start\" x=\"4492\" y=\"-1026.8\" font-family=\"Helvetica,sans-Serif\" baseline-shift=\"sub\" font-size=\"14.00\" fill=\"#000000\">0</text>\n</g>\n<!-- 245&#45;&gt;246 -->\n<g id=\"edge246\" class=\"edge\">\n<title>245&#45;&gt;246</title>\n<path fill=\"none\" stroke=\"#000000\" d=\"M4539.956,-1125.7677C4528.7441,-1114.3556 4516.4951,-1101.8878 4505.2695,-1090.4618\"/>\n<polygon fill=\"#000000\" stroke=\"#000000\" points=\"4507.5665,-1087.8057 4498.0616,-1083.1252 4502.5732,-1092.7115 4507.5665,-1087.8057\"/>\n</g>\n<!-- 247 -->\n<g id=\"node248\" class=\"node\">\n<title>247</title>\n<path fill=\"#9ccef2\" stroke=\"#000000\" d=\"M4621,-1090C4621,-1090 4546,-1090 4546,-1090 4540,-1090 4534,-1084 4534,-1078 4534,-1078 4534,-1024 4534,-1024 4534,-1018 4540,-1012 4546,-1012 4546,-1012 4621,-1012 4621,-1012 4627,-1012 4633,-1018 4633,-1024 4633,-1024 4633,-1078 4633,-1078 4633,-1084 4627,-1090 4621,-1090\"/>\n<text text-anchor=\"start\" x=\"4548.5\" y=\"-1075.8\" font-family=\"Helvetica,sans-Serif\" font-size=\"14.00\" fill=\"#000000\">Age ≤ 23.5</text>\n<text text-anchor=\"start\" x=\"4545.5\" y=\"-1061.8\" font-family=\"Helvetica,sans-Serif\" font-size=\"14.00\" fill=\"#000000\">gini = 0.444</text>\n<text text-anchor=\"start\" x=\"4544\" y=\"-1047.8\" font-family=\"Helvetica,sans-Serif\" font-size=\"14.00\" fill=\"#000000\">samples = 3</text>\n<text text-anchor=\"start\" x=\"4542\" y=\"-1033.8\" font-family=\"Helvetica,sans-Serif\" font-size=\"14.00\" fill=\"#000000\">value = [1, 2]</text>\n<text text-anchor=\"start\" x=\"4551\" y=\"-1019.8\" font-family=\"Helvetica,sans-Serif\" font-size=\"14.00\" fill=\"#000000\">class = y</text>\n<text text-anchor=\"start\" x=\"4609\" y=\"-1019.8\" font-family=\"Helvetica,sans-Serif\" baseline-shift=\"sub\" font-size=\"14.00\" fill=\"#000000\">1</text>\n</g>\n<!-- 245&#45;&gt;247 -->\n<g id=\"edge247\" class=\"edge\">\n<title>245&#45;&gt;247</title>\n<path fill=\"none\" stroke=\"#000000\" d=\"M4580.2207,-1125.7677C4580.5782,-1117.6172 4580.9593,-1108.9283 4581.3305,-1100.4649\"/>\n<polygon fill=\"#000000\" stroke=\"#000000\" points=\"4584.8345,-1100.4484 4581.7761,-1090.3046 4577.8412,-1100.1416 4584.8345,-1100.4484\"/>\n</g>\n<!-- 248 -->\n<g id=\"node249\" class=\"node\">\n<title>248</title>\n<path fill=\"#399de5\" stroke=\"#000000\" d=\"M4506,-969C4506,-969 4431,-969 4431,-969 4425,-969 4419,-963 4419,-957 4419,-957 4419,-917 4419,-917 4419,-911 4425,-905 4431,-905 4431,-905 4506,-905 4506,-905 4512,-905 4518,-911 4518,-917 4518,-917 4518,-957 4518,-957 4518,-963 4512,-969 4506,-969\"/>\n<text text-anchor=\"start\" x=\"4439\" y=\"-954.8\" font-family=\"Helvetica,sans-Serif\" font-size=\"14.00\" fill=\"#000000\">gini = 0.0</text>\n<text text-anchor=\"start\" x=\"4429\" y=\"-940.8\" font-family=\"Helvetica,sans-Serif\" font-size=\"14.00\" fill=\"#000000\">samples = 2</text>\n<text text-anchor=\"start\" x=\"4427\" y=\"-926.8\" font-family=\"Helvetica,sans-Serif\" font-size=\"14.00\" fill=\"#000000\">value = [0, 2]</text>\n<text text-anchor=\"start\" x=\"4436\" y=\"-912.8\" font-family=\"Helvetica,sans-Serif\" font-size=\"14.00\" fill=\"#000000\">class = y</text>\n<text text-anchor=\"start\" x=\"4494\" y=\"-912.8\" font-family=\"Helvetica,sans-Serif\" baseline-shift=\"sub\" font-size=\"14.00\" fill=\"#000000\">1</text>\n</g>\n<!-- 247&#45;&gt;248 -->\n<g id=\"edge248\" class=\"edge\">\n<title>247&#45;&gt;248</title>\n<path fill=\"none\" stroke=\"#000000\" d=\"M4543.9235,-1011.7677C4532.4114,-1000.3556 4519.8342,-987.8878 4508.3079,-976.4618\"/>\n<polygon fill=\"#000000\" stroke=\"#000000\" points=\"4510.473,-973.6797 4500.907,-969.1252 4505.5449,-978.651 4510.473,-973.6797\"/>\n</g>\n<!-- 249 -->\n<g id=\"node250\" class=\"node\">\n<title>249</title>\n<path fill=\"#e58139\" stroke=\"#000000\" d=\"M4623,-969C4623,-969 4548,-969 4548,-969 4542,-969 4536,-963 4536,-957 4536,-957 4536,-917 4536,-917 4536,-911 4542,-905 4548,-905 4548,-905 4623,-905 4623,-905 4629,-905 4635,-911 4635,-917 4635,-917 4635,-957 4635,-957 4635,-963 4629,-969 4623,-969\"/>\n<text text-anchor=\"start\" x=\"4556\" y=\"-954.8\" font-family=\"Helvetica,sans-Serif\" font-size=\"14.00\" fill=\"#000000\">gini = 0.0</text>\n<text text-anchor=\"start\" x=\"4546\" y=\"-940.8\" font-family=\"Helvetica,sans-Serif\" font-size=\"14.00\" fill=\"#000000\">samples = 1</text>\n<text text-anchor=\"start\" x=\"4544\" y=\"-926.8\" font-family=\"Helvetica,sans-Serif\" font-size=\"14.00\" fill=\"#000000\">value = [1, 0]</text>\n<text text-anchor=\"start\" x=\"4553\" y=\"-912.8\" font-family=\"Helvetica,sans-Serif\" font-size=\"14.00\" fill=\"#000000\">class = y</text>\n<text text-anchor=\"start\" x=\"4611\" y=\"-912.8\" font-family=\"Helvetica,sans-Serif\" baseline-shift=\"sub\" font-size=\"14.00\" fill=\"#000000\">0</text>\n</g>\n<!-- 247&#45;&gt;249 -->\n<g id=\"edge249\" class=\"edge\">\n<title>247&#45;&gt;249</title>\n<path fill=\"none\" stroke=\"#000000\" d=\"M4584.1883,-1011.7677C4584.3713,-1001.3338 4584.5699,-990.0174 4584.7558,-979.4215\"/>\n<polygon fill=\"#000000\" stroke=\"#000000\" points=\"4588.2604,-979.1851 4584.9364,-969.1252 4581.2614,-979.0622 4588.2604,-979.1851\"/>\n</g>\n<!-- 252 -->\n<g id=\"node253\" class=\"node\">\n<title>252</title>\n<path fill=\"#baddf6\" stroke=\"#000000\" d=\"M4870.5,-1204C4870.5,-1204 4778.5,-1204 4778.5,-1204 4772.5,-1204 4766.5,-1198 4766.5,-1192 4766.5,-1192 4766.5,-1138 4766.5,-1138 4766.5,-1132 4772.5,-1126 4778.5,-1126 4778.5,-1126 4870.5,-1126 4870.5,-1126 4876.5,-1126 4882.5,-1132 4882.5,-1138 4882.5,-1138 4882.5,-1192 4882.5,-1192 4882.5,-1198 4876.5,-1204 4870.5,-1204\"/>\n<text text-anchor=\"start\" x=\"4779\" y=\"-1189.8\" font-family=\"Helvetica,sans-Serif\" font-size=\"14.00\" fill=\"#000000\">Fare ≤ 52.277</text>\n<text text-anchor=\"start\" x=\"4786.5\" y=\"-1175.8\" font-family=\"Helvetica,sans-Serif\" font-size=\"14.00\" fill=\"#000000\">gini = 0.478</text>\n<text text-anchor=\"start\" x=\"4780.5\" y=\"-1161.8\" font-family=\"Helvetica,sans-Serif\" font-size=\"14.00\" fill=\"#000000\">samples = 33</text>\n<text text-anchor=\"start\" x=\"4774.5\" y=\"-1147.8\" font-family=\"Helvetica,sans-Serif\" font-size=\"14.00\" fill=\"#000000\">value = [13, 20]</text>\n<text text-anchor=\"start\" x=\"4792\" y=\"-1133.8\" font-family=\"Helvetica,sans-Serif\" font-size=\"14.00\" fill=\"#000000\">class = y</text>\n<text text-anchor=\"start\" x=\"4850\" y=\"-1133.8\" font-family=\"Helvetica,sans-Serif\" baseline-shift=\"sub\" font-size=\"14.00\" fill=\"#000000\">1</text>\n</g>\n<!-- 251&#45;&gt;252 -->\n<g id=\"edge252\" class=\"edge\">\n<title>251&#45;&gt;252</title>\n<path fill=\"none\" stroke=\"#000000\" d=\"M4825.8117,-1239.7677C4825.6687,-1231.6172 4825.5163,-1222.9283 4825.3678,-1214.4649\"/>\n<polygon fill=\"#000000\" stroke=\"#000000\" points=\"4828.8645,-1214.2417 4825.1896,-1204.3046 4821.8656,-1214.3645 4828.8645,-1214.2417\"/>\n</g>\n<!-- 269 -->\n<g id=\"node270\" class=\"node\">\n<title>269</title>\n<path fill=\"#e58139\" stroke=\"#000000\" d=\"M4988,-1197C4988,-1197 4913,-1197 4913,-1197 4907,-1197 4901,-1191 4901,-1185 4901,-1185 4901,-1145 4901,-1145 4901,-1139 4907,-1133 4913,-1133 4913,-1133 4988,-1133 4988,-1133 4994,-1133 5000,-1139 5000,-1145 5000,-1145 5000,-1185 5000,-1185 5000,-1191 4994,-1197 4988,-1197\"/>\n<text text-anchor=\"start\" x=\"4921\" y=\"-1182.8\" font-family=\"Helvetica,sans-Serif\" font-size=\"14.00\" fill=\"#000000\">gini = 0.0</text>\n<text text-anchor=\"start\" x=\"4911\" y=\"-1168.8\" font-family=\"Helvetica,sans-Serif\" font-size=\"14.00\" fill=\"#000000\">samples = 3</text>\n<text text-anchor=\"start\" x=\"4909\" y=\"-1154.8\" font-family=\"Helvetica,sans-Serif\" font-size=\"14.00\" fill=\"#000000\">value = [3, 0]</text>\n<text text-anchor=\"start\" x=\"4918\" y=\"-1140.8\" font-family=\"Helvetica,sans-Serif\" font-size=\"14.00\" fill=\"#000000\">class = y</text>\n<text text-anchor=\"start\" x=\"4976\" y=\"-1140.8\" font-family=\"Helvetica,sans-Serif\" baseline-shift=\"sub\" font-size=\"14.00\" fill=\"#000000\">0</text>\n</g>\n<!-- 251&#45;&gt;269 -->\n<g id=\"edge269\" class=\"edge\">\n<title>251&#45;&gt;269</title>\n<path fill=\"none\" stroke=\"#000000\" d=\"M4869.1738,-1239.7677C4881.7051,-1228.247 4895.4067,-1215.6503 4907.9315,-1204.1356\"/>\n<polygon fill=\"#000000\" stroke=\"#000000\" points=\"4910.5639,-1206.4698 4915.5568,-1197.1252 4905.8263,-1201.3166 4910.5639,-1206.4698\"/>\n</g>\n<!-- 253 -->\n<g id=\"node254\" class=\"node\">\n<title>253</title>\n<path fill=\"#f5cdb0\" stroke=\"#000000\" d=\"M4865,-1090C4865,-1090 4782,-1090 4782,-1090 4776,-1090 4770,-1084 4770,-1078 4770,-1078 4770,-1024 4770,-1024 4770,-1018 4776,-1012 4782,-1012 4782,-1012 4865,-1012 4865,-1012 4871,-1012 4877,-1018 4877,-1024 4877,-1024 4877,-1078 4877,-1078 4877,-1084 4871,-1090 4865,-1090\"/>\n<text text-anchor=\"start\" x=\"4778\" y=\"-1075.8\" font-family=\"Helvetica,sans-Serif\" font-size=\"14.00\" fill=\"#000000\">Fare ≤ 27.135</text>\n<text text-anchor=\"start\" x=\"4785.5\" y=\"-1061.8\" font-family=\"Helvetica,sans-Serif\" font-size=\"14.00\" fill=\"#000000\">gini = 0.469</text>\n<text text-anchor=\"start\" x=\"4779.5\" y=\"-1047.8\" font-family=\"Helvetica,sans-Serif\" font-size=\"14.00\" fill=\"#000000\">samples = 16</text>\n<text text-anchor=\"start\" x=\"4778\" y=\"-1033.8\" font-family=\"Helvetica,sans-Serif\" font-size=\"14.00\" fill=\"#000000\">value = [10, 6]</text>\n<text text-anchor=\"start\" x=\"4791\" y=\"-1019.8\" font-family=\"Helvetica,sans-Serif\" font-size=\"14.00\" fill=\"#000000\">class = y</text>\n<text text-anchor=\"start\" x=\"4849\" y=\"-1019.8\" font-family=\"Helvetica,sans-Serif\" baseline-shift=\"sub\" font-size=\"14.00\" fill=\"#000000\">0</text>\n</g>\n<!-- 252&#45;&gt;253 -->\n<g id=\"edge253\" class=\"edge\">\n<title>252&#45;&gt;253</title>\n<path fill=\"none\" stroke=\"#000000\" d=\"M4824.1559,-1125.7677C4824.0844,-1117.6172 4824.0081,-1108.9283 4823.9339,-1100.4649\"/>\n<polygon fill=\"#000000\" stroke=\"#000000\" points=\"4827.4325,-1100.2735 4823.8448,-1090.3046 4820.4327,-1100.335 4827.4325,-1100.2735\"/>\n</g>\n<!-- 260 -->\n<g id=\"node261\" class=\"node\">\n<title>260</title>\n<path fill=\"#63b2eb\" stroke=\"#000000\" d=\"M4990,-1090C4990,-1090 4907,-1090 4907,-1090 4901,-1090 4895,-1084 4895,-1078 4895,-1078 4895,-1024 4895,-1024 4895,-1018 4901,-1012 4907,-1012 4907,-1012 4990,-1012 4990,-1012 4996,-1012 5002,-1018 5002,-1024 5002,-1024 5002,-1078 5002,-1078 5002,-1084 4996,-1090 4990,-1090\"/>\n<text text-anchor=\"start\" x=\"4907.5\" y=\"-1075.8\" font-family=\"Helvetica,sans-Serif\" font-size=\"14.00\" fill=\"#000000\">Fare ≤ 77.79</text>\n<text text-anchor=\"start\" x=\"4910.5\" y=\"-1061.8\" font-family=\"Helvetica,sans-Serif\" font-size=\"14.00\" fill=\"#000000\">gini = 0.291</text>\n<text text-anchor=\"start\" x=\"4904.5\" y=\"-1047.8\" font-family=\"Helvetica,sans-Serif\" font-size=\"14.00\" fill=\"#000000\">samples = 17</text>\n<text text-anchor=\"start\" x=\"4903\" y=\"-1033.8\" font-family=\"Helvetica,sans-Serif\" font-size=\"14.00\" fill=\"#000000\">value = [3, 14]</text>\n<text text-anchor=\"start\" x=\"4916\" y=\"-1019.8\" font-family=\"Helvetica,sans-Serif\" font-size=\"14.00\" fill=\"#000000\">class = y</text>\n<text text-anchor=\"start\" x=\"4974\" y=\"-1019.8\" font-family=\"Helvetica,sans-Serif\" baseline-shift=\"sub\" font-size=\"14.00\" fill=\"#000000\">1</text>\n</g>\n<!-- 252&#45;&gt;260 -->\n<g id=\"edge260\" class=\"edge\">\n<title>252&#45;&gt;260</title>\n<path fill=\"none\" stroke=\"#000000\" d=\"M4867.1738,-1125.7677C4877.2082,-1116.5424 4887.9931,-1106.6273 4898.3232,-1097.1302\"/>\n<polygon fill=\"#000000\" stroke=\"#000000\" points=\"4900.7547,-1099.6493 4905.7476,-1090.3046 4896.0171,-1094.4961 4900.7547,-1099.6493\"/>\n</g>\n<!-- 254 -->\n<g id=\"node255\" class=\"node\">\n<title>254</title>\n<path fill=\"#399de5\" stroke=\"#000000\" d=\"M4740,-969C4740,-969 4665,-969 4665,-969 4659,-969 4653,-963 4653,-957 4653,-957 4653,-917 4653,-917 4653,-911 4659,-905 4665,-905 4665,-905 4740,-905 4740,-905 4746,-905 4752,-911 4752,-917 4752,-917 4752,-957 4752,-957 4752,-963 4746,-969 4740,-969\"/>\n<text text-anchor=\"start\" x=\"4673\" y=\"-954.8\" font-family=\"Helvetica,sans-Serif\" font-size=\"14.00\" fill=\"#000000\">gini = 0.0</text>\n<text text-anchor=\"start\" x=\"4663\" y=\"-940.8\" font-family=\"Helvetica,sans-Serif\" font-size=\"14.00\" fill=\"#000000\">samples = 3</text>\n<text text-anchor=\"start\" x=\"4661\" y=\"-926.8\" font-family=\"Helvetica,sans-Serif\" font-size=\"14.00\" fill=\"#000000\">value = [0, 3]</text>\n<text text-anchor=\"start\" x=\"4670\" y=\"-912.8\" font-family=\"Helvetica,sans-Serif\" font-size=\"14.00\" fill=\"#000000\">class = y</text>\n<text text-anchor=\"start\" x=\"4728\" y=\"-912.8\" font-family=\"Helvetica,sans-Serif\" baseline-shift=\"sub\" font-size=\"14.00\" fill=\"#000000\">1</text>\n</g>\n<!-- 253&#45;&gt;254 -->\n<g id=\"edge254\" class=\"edge\">\n<title>253&#45;&gt;254</title>\n<path fill=\"none\" stroke=\"#000000\" d=\"M4781.8587,-1011.7677C4769.6305,-1000.247 4756.2604,-987.6503 4744.0387,-976.1356\"/>\n<polygon fill=\"#000000\" stroke=\"#000000\" points=\"4746.2764,-973.4352 4736.5978,-969.1252 4741.4762,-978.5301 4746.2764,-973.4352\"/>\n</g>\n<!-- 255 -->\n<g id=\"node256\" class=\"node\">\n<title>255</title>\n<path fill=\"#eda774\" stroke=\"#000000\" d=\"M4865,-976C4865,-976 4782,-976 4782,-976 4776,-976 4770,-970 4770,-964 4770,-964 4770,-910 4770,-910 4770,-904 4776,-898 4782,-898 4782,-898 4865,-898 4865,-898 4871,-898 4877,-904 4877,-910 4877,-910 4877,-964 4877,-964 4877,-970 4871,-976 4865,-976\"/>\n<text text-anchor=\"start\" x=\"4778\" y=\"-961.8\" font-family=\"Helvetica,sans-Serif\" font-size=\"14.00\" fill=\"#000000\">Fare ≤ 30.285</text>\n<text text-anchor=\"start\" x=\"4785.5\" y=\"-947.8\" font-family=\"Helvetica,sans-Serif\" font-size=\"14.00\" fill=\"#000000\">gini = 0.355</text>\n<text text-anchor=\"start\" x=\"4779.5\" y=\"-933.8\" font-family=\"Helvetica,sans-Serif\" font-size=\"14.00\" fill=\"#000000\">samples = 13</text>\n<text text-anchor=\"start\" x=\"4778\" y=\"-919.8\" font-family=\"Helvetica,sans-Serif\" font-size=\"14.00\" fill=\"#000000\">value = [10, 3]</text>\n<text text-anchor=\"start\" x=\"4791\" y=\"-905.8\" font-family=\"Helvetica,sans-Serif\" font-size=\"14.00\" fill=\"#000000\">class = y</text>\n<text text-anchor=\"start\" x=\"4849\" y=\"-905.8\" font-family=\"Helvetica,sans-Serif\" baseline-shift=\"sub\" font-size=\"14.00\" fill=\"#000000\">0</text>\n</g>\n<!-- 253&#45;&gt;255 -->\n<g id=\"edge255\" class=\"edge\">\n<title>253&#45;&gt;255</title>\n<path fill=\"none\" stroke=\"#000000\" d=\"M4823.5,-1011.7677C4823.5,-1003.6172 4823.5,-994.9283 4823.5,-986.4649\"/>\n<polygon fill=\"#000000\" stroke=\"#000000\" points=\"4827.0001,-986.3046 4823.5,-976.3046 4820.0001,-986.3047 4827.0001,-986.3046\"/>\n</g>\n<!-- 256 -->\n<g id=\"node257\" class=\"node\">\n<title>256</title>\n<path fill=\"#e58139\" stroke=\"#000000\" d=\"M4746,-855C4746,-855 4671,-855 4671,-855 4665,-855 4659,-849 4659,-843 4659,-843 4659,-803 4659,-803 4659,-797 4665,-791 4671,-791 4671,-791 4746,-791 4746,-791 4752,-791 4758,-797 4758,-803 4758,-803 4758,-843 4758,-843 4758,-849 4752,-855 4746,-855\"/>\n<text text-anchor=\"start\" x=\"4679\" y=\"-840.8\" font-family=\"Helvetica,sans-Serif\" font-size=\"14.00\" fill=\"#000000\">gini = 0.0</text>\n<text text-anchor=\"start\" x=\"4669\" y=\"-826.8\" font-family=\"Helvetica,sans-Serif\" font-size=\"14.00\" fill=\"#000000\">samples = 5</text>\n<text text-anchor=\"start\" x=\"4667\" y=\"-812.8\" font-family=\"Helvetica,sans-Serif\" font-size=\"14.00\" fill=\"#000000\">value = [5, 0]</text>\n<text text-anchor=\"start\" x=\"4676\" y=\"-798.8\" font-family=\"Helvetica,sans-Serif\" font-size=\"14.00\" fill=\"#000000\">class = y</text>\n<text text-anchor=\"start\" x=\"4734\" y=\"-798.8\" font-family=\"Helvetica,sans-Serif\" baseline-shift=\"sub\" font-size=\"14.00\" fill=\"#000000\">0</text>\n</g>\n<!-- 255&#45;&gt;256 -->\n<g id=\"edge256\" class=\"edge\">\n<title>255&#45;&gt;256</title>\n<path fill=\"none\" stroke=\"#000000\" d=\"M4783.9235,-897.7677C4772.4114,-886.3556 4759.8342,-873.8878 4748.3079,-862.4618\"/>\n<polygon fill=\"#000000\" stroke=\"#000000\" points=\"4750.473,-859.6797 4740.907,-855.1252 4745.5449,-864.651 4750.473,-859.6797\"/>\n</g>\n<!-- 257 -->\n<g id=\"node258\" class=\"node\">\n<title>257</title>\n<path fill=\"#f5cdb0\" stroke=\"#000000\" d=\"M4871,-862C4871,-862 4788,-862 4788,-862 4782,-862 4776,-856 4776,-850 4776,-850 4776,-796 4776,-796 4776,-790 4782,-784 4788,-784 4788,-784 4871,-784 4871,-784 4877,-784 4883,-790 4883,-796 4883,-796 4883,-850 4883,-850 4883,-856 4877,-862 4871,-862\"/>\n<text text-anchor=\"start\" x=\"4784\" y=\"-847.8\" font-family=\"Helvetica,sans-Serif\" font-size=\"14.00\" fill=\"#000000\">Fare ≤ 37.812</text>\n<text text-anchor=\"start\" x=\"4791.5\" y=\"-833.8\" font-family=\"Helvetica,sans-Serif\" font-size=\"14.00\" fill=\"#000000\">gini = 0.469</text>\n<text text-anchor=\"start\" x=\"4790\" y=\"-819.8\" font-family=\"Helvetica,sans-Serif\" font-size=\"14.00\" fill=\"#000000\">samples = 8</text>\n<text text-anchor=\"start\" x=\"4788\" y=\"-805.8\" font-family=\"Helvetica,sans-Serif\" font-size=\"14.00\" fill=\"#000000\">value = [5, 3]</text>\n<text text-anchor=\"start\" x=\"4797\" y=\"-791.8\" font-family=\"Helvetica,sans-Serif\" font-size=\"14.00\" fill=\"#000000\">class = y</text>\n<text text-anchor=\"start\" x=\"4855\" y=\"-791.8\" font-family=\"Helvetica,sans-Serif\" baseline-shift=\"sub\" font-size=\"14.00\" fill=\"#000000\">0</text>\n</g>\n<!-- 255&#45;&gt;257 -->\n<g id=\"edge257\" class=\"edge\">\n<title>255&#45;&gt;257</title>\n<path fill=\"none\" stroke=\"#000000\" d=\"M4825.5649,-897.7677C4825.9938,-889.6172 4826.4511,-880.9283 4826.8966,-872.4649\"/>\n<polygon fill=\"#000000\" stroke=\"#000000\" points=\"4830.4008,-872.4748 4827.4313,-862.3046 4823.4105,-872.1068 4830.4008,-872.4748\"/>\n</g>\n<!-- 258 -->\n<g id=\"node259\" class=\"node\">\n<title>258</title>\n<path fill=\"#399de5\" stroke=\"#000000\" d=\"M4758,-741C4758,-741 4683,-741 4683,-741 4677,-741 4671,-735 4671,-729 4671,-729 4671,-689 4671,-689 4671,-683 4677,-677 4683,-677 4683,-677 4758,-677 4758,-677 4764,-677 4770,-683 4770,-689 4770,-689 4770,-729 4770,-729 4770,-735 4764,-741 4758,-741\"/>\n<text text-anchor=\"start\" x=\"4691\" y=\"-726.8\" font-family=\"Helvetica,sans-Serif\" font-size=\"14.00\" fill=\"#000000\">gini = 0.0</text>\n<text text-anchor=\"start\" x=\"4681\" y=\"-712.8\" font-family=\"Helvetica,sans-Serif\" font-size=\"14.00\" fill=\"#000000\">samples = 3</text>\n<text text-anchor=\"start\" x=\"4679\" y=\"-698.8\" font-family=\"Helvetica,sans-Serif\" font-size=\"14.00\" fill=\"#000000\">value = [0, 3]</text>\n<text text-anchor=\"start\" x=\"4688\" y=\"-684.8\" font-family=\"Helvetica,sans-Serif\" font-size=\"14.00\" fill=\"#000000\">class = y</text>\n<text text-anchor=\"start\" x=\"4746\" y=\"-684.8\" font-family=\"Helvetica,sans-Serif\" baseline-shift=\"sub\" font-size=\"14.00\" fill=\"#000000\">1</text>\n</g>\n<!-- 257&#45;&gt;258 -->\n<g id=\"edge258\" class=\"edge\">\n<title>257&#45;&gt;258</title>\n<path fill=\"none\" stroke=\"#000000\" d=\"M4791.9884,-783.7677C4781.0769,-772.3556 4769.1559,-759.8878 4758.231,-748.4618\"/>\n<polygon fill=\"#000000\" stroke=\"#000000\" points=\"4760.6568,-745.9342 4751.2162,-741.1252 4755.5973,-750.7718 4760.6568,-745.9342\"/>\n</g>\n<!-- 259 -->\n<g id=\"node260\" class=\"node\">\n<title>259</title>\n<path fill=\"#e58139\" stroke=\"#000000\" d=\"M4875,-741C4875,-741 4800,-741 4800,-741 4794,-741 4788,-735 4788,-729 4788,-729 4788,-689 4788,-689 4788,-683 4794,-677 4800,-677 4800,-677 4875,-677 4875,-677 4881,-677 4887,-683 4887,-689 4887,-689 4887,-729 4887,-729 4887,-735 4881,-741 4875,-741\"/>\n<text text-anchor=\"start\" x=\"4808\" y=\"-726.8\" font-family=\"Helvetica,sans-Serif\" font-size=\"14.00\" fill=\"#000000\">gini = 0.0</text>\n<text text-anchor=\"start\" x=\"4798\" y=\"-712.8\" font-family=\"Helvetica,sans-Serif\" font-size=\"14.00\" fill=\"#000000\">samples = 5</text>\n<text text-anchor=\"start\" x=\"4796\" y=\"-698.8\" font-family=\"Helvetica,sans-Serif\" font-size=\"14.00\" fill=\"#000000\">value = [5, 0]</text>\n<text text-anchor=\"start\" x=\"4805\" y=\"-684.8\" font-family=\"Helvetica,sans-Serif\" font-size=\"14.00\" fill=\"#000000\">class = y</text>\n<text text-anchor=\"start\" x=\"4863\" y=\"-684.8\" font-family=\"Helvetica,sans-Serif\" baseline-shift=\"sub\" font-size=\"14.00\" fill=\"#000000\">0</text>\n</g>\n<!-- 257&#45;&gt;259 -->\n<g id=\"edge259\" class=\"edge\">\n<title>257&#45;&gt;259</title>\n<path fill=\"none\" stroke=\"#000000\" d=\"M4832.2531,-783.7677C4832.9853,-773.3338 4833.7795,-762.0174 4834.523,-751.4215\"/>\n<polygon fill=\"#000000\" stroke=\"#000000\" points=\"4838.0369,-751.3457 4835.2456,-741.1252 4831.0541,-750.8556 4838.0369,-751.3457\"/>\n</g>\n<!-- 261 -->\n<g id=\"node262\" class=\"node\">\n<title>261</title>\n<path fill=\"#399de5\" stroke=\"#000000\" d=\"M4990,-969C4990,-969 4907,-969 4907,-969 4901,-969 4895,-963 4895,-957 4895,-957 4895,-917 4895,-917 4895,-911 4901,-905 4907,-905 4907,-905 4990,-905 4990,-905 4996,-905 5002,-911 5002,-917 5002,-917 5002,-957 5002,-957 5002,-963 4996,-969 4990,-969\"/>\n<text text-anchor=\"start\" x=\"4919\" y=\"-954.8\" font-family=\"Helvetica,sans-Serif\" font-size=\"14.00\" fill=\"#000000\">gini = 0.0</text>\n<text text-anchor=\"start\" x=\"4904.5\" y=\"-940.8\" font-family=\"Helvetica,sans-Serif\" font-size=\"14.00\" fill=\"#000000\">samples = 10</text>\n<text text-anchor=\"start\" x=\"4903\" y=\"-926.8\" font-family=\"Helvetica,sans-Serif\" font-size=\"14.00\" fill=\"#000000\">value = [0, 10]</text>\n<text text-anchor=\"start\" x=\"4916\" y=\"-912.8\" font-family=\"Helvetica,sans-Serif\" font-size=\"14.00\" fill=\"#000000\">class = y</text>\n<text text-anchor=\"start\" x=\"4974\" y=\"-912.8\" font-family=\"Helvetica,sans-Serif\" baseline-shift=\"sub\" font-size=\"14.00\" fill=\"#000000\">1</text>\n</g>\n<!-- 260&#45;&gt;261 -->\n<g id=\"edge261\" class=\"edge\">\n<title>260&#45;&gt;261</title>\n<path fill=\"none\" stroke=\"#000000\" d=\"M4948.5,-1011.7677C4948.5,-1001.3338 4948.5,-990.0174 4948.5,-979.4215\"/>\n<polygon fill=\"#000000\" stroke=\"#000000\" points=\"4952.0001,-979.1252 4948.5,-969.1252 4945.0001,-979.1252 4952.0001,-979.1252\"/>\n</g>\n<!-- 262 -->\n<g id=\"node263\" class=\"node\">\n<title>262</title>\n<path fill=\"#cee6f8\" stroke=\"#000000\" d=\"M5115,-976C5115,-976 5032,-976 5032,-976 5026,-976 5020,-970 5020,-964 5020,-964 5020,-910 5020,-910 5020,-904 5026,-898 5032,-898 5032,-898 5115,-898 5115,-898 5121,-898 5127,-904 5127,-910 5127,-910 5127,-964 5127,-964 5127,-970 5121,-976 5115,-976\"/>\n<text text-anchor=\"start\" x=\"5028\" y=\"-961.8\" font-family=\"Helvetica,sans-Serif\" font-size=\"14.00\" fill=\"#000000\">Fare ≤ 86.625</text>\n<text text-anchor=\"start\" x=\"5040\" y=\"-947.8\" font-family=\"Helvetica,sans-Serif\" font-size=\"14.00\" fill=\"#000000\">gini = 0.49</text>\n<text text-anchor=\"start\" x=\"5034\" y=\"-933.8\" font-family=\"Helvetica,sans-Serif\" font-size=\"14.00\" fill=\"#000000\">samples = 7</text>\n<text text-anchor=\"start\" x=\"5032\" y=\"-919.8\" font-family=\"Helvetica,sans-Serif\" font-size=\"14.00\" fill=\"#000000\">value = [3, 4]</text>\n<text text-anchor=\"start\" x=\"5041\" y=\"-905.8\" font-family=\"Helvetica,sans-Serif\" font-size=\"14.00\" fill=\"#000000\">class = y</text>\n<text text-anchor=\"start\" x=\"5099\" y=\"-905.8\" font-family=\"Helvetica,sans-Serif\" baseline-shift=\"sub\" font-size=\"14.00\" fill=\"#000000\">1</text>\n</g>\n<!-- 260&#45;&gt;262 -->\n<g id=\"edge262\" class=\"edge\">\n<title>260&#45;&gt;262</title>\n<path fill=\"none\" stroke=\"#000000\" d=\"M4991.5179,-1011.7677C5001.6333,-1002.5424 5012.5052,-992.6273 5022.9186,-983.1302\"/>\n<polygon fill=\"#000000\" stroke=\"#000000\" points=\"5025.3726,-985.6292 5030.4028,-976.3046 5020.6556,-980.4571 5025.3726,-985.6292\"/>\n</g>\n<!-- 263 -->\n<g id=\"node264\" class=\"node\">\n<title>263</title>\n<path fill=\"#e58139\" stroke=\"#000000\" d=\"M4994,-855C4994,-855 4919,-855 4919,-855 4913,-855 4907,-849 4907,-843 4907,-843 4907,-803 4907,-803 4907,-797 4913,-791 4919,-791 4919,-791 4994,-791 4994,-791 5000,-791 5006,-797 5006,-803 5006,-803 5006,-843 5006,-843 5006,-849 5000,-855 4994,-855\"/>\n<text text-anchor=\"start\" x=\"4927\" y=\"-840.8\" font-family=\"Helvetica,sans-Serif\" font-size=\"14.00\" fill=\"#000000\">gini = 0.0</text>\n<text text-anchor=\"start\" x=\"4917\" y=\"-826.8\" font-family=\"Helvetica,sans-Serif\" font-size=\"14.00\" fill=\"#000000\">samples = 2</text>\n<text text-anchor=\"start\" x=\"4915\" y=\"-812.8\" font-family=\"Helvetica,sans-Serif\" font-size=\"14.00\" fill=\"#000000\">value = [2, 0]</text>\n<text text-anchor=\"start\" x=\"4924\" y=\"-798.8\" font-family=\"Helvetica,sans-Serif\" font-size=\"14.00\" fill=\"#000000\">class = y</text>\n<text text-anchor=\"start\" x=\"4982\" y=\"-798.8\" font-family=\"Helvetica,sans-Serif\" baseline-shift=\"sub\" font-size=\"14.00\" fill=\"#000000\">0</text>\n</g>\n<!-- 262&#45;&gt;263 -->\n<g id=\"edge263\" class=\"edge\">\n<title>262&#45;&gt;263</title>\n<path fill=\"none\" stroke=\"#000000\" d=\"M5033.2352,-897.7677C5021.4113,-886.247 5008.4832,-873.6503 4996.6655,-862.1356\"/>\n<polygon fill=\"#000000\" stroke=\"#000000\" points=\"4999.0755,-859.5971 4989.4706,-855.1252 4994.1904,-864.6107 4999.0755,-859.5971\"/>\n</g>\n<!-- 264 -->\n<g id=\"node265\" class=\"node\">\n<title>264</title>\n<path fill=\"#6ab6ec\" stroke=\"#000000\" d=\"M5111,-862C5111,-862 5036,-862 5036,-862 5030,-862 5024,-856 5024,-850 5024,-850 5024,-796 5024,-796 5024,-790 5030,-784 5036,-784 5036,-784 5111,-784 5111,-784 5117,-784 5123,-790 5123,-796 5123,-796 5123,-850 5123,-850 5123,-856 5117,-862 5111,-862\"/>\n<text text-anchor=\"start\" x=\"5038.5\" y=\"-847.8\" font-family=\"Helvetica,sans-Serif\" font-size=\"14.00\" fill=\"#000000\">Age ≤ 31.0</text>\n<text text-anchor=\"start\" x=\"5040\" y=\"-833.8\" font-family=\"Helvetica,sans-Serif\" font-size=\"14.00\" fill=\"#000000\">gini = 0.32</text>\n<text text-anchor=\"start\" x=\"5034\" y=\"-819.8\" font-family=\"Helvetica,sans-Serif\" font-size=\"14.00\" fill=\"#000000\">samples = 5</text>\n<text text-anchor=\"start\" x=\"5032\" y=\"-805.8\" font-family=\"Helvetica,sans-Serif\" font-size=\"14.00\" fill=\"#000000\">value = [1, 4]</text>\n<text text-anchor=\"start\" x=\"5041\" y=\"-791.8\" font-family=\"Helvetica,sans-Serif\" font-size=\"14.00\" fill=\"#000000\">class = y</text>\n<text text-anchor=\"start\" x=\"5099\" y=\"-791.8\" font-family=\"Helvetica,sans-Serif\" baseline-shift=\"sub\" font-size=\"14.00\" fill=\"#000000\">1</text>\n</g>\n<!-- 262&#45;&gt;264 -->\n<g id=\"edge264\" class=\"edge\">\n<title>262&#45;&gt;264</title>\n<path fill=\"none\" stroke=\"#000000\" d=\"M5073.5,-897.7677C5073.5,-889.6172 5073.5,-880.9283 5073.5,-872.4649\"/>\n<polygon fill=\"#000000\" stroke=\"#000000\" points=\"5077.0001,-872.3046 5073.5,-862.3046 5070.0001,-872.3047 5077.0001,-872.3046\"/>\n</g>\n<!-- 265 -->\n<g id=\"node266\" class=\"node\">\n<title>265</title>\n<path fill=\"#ffffff\" stroke=\"#000000\" d=\"M4994,-748C4994,-748 4919,-748 4919,-748 4913,-748 4907,-742 4907,-736 4907,-736 4907,-682 4907,-682 4907,-676 4913,-670 4919,-670 4919,-670 4994,-670 4994,-670 5000,-670 5006,-676 5006,-682 5006,-682 5006,-736 5006,-736 5006,-742 5000,-748 4994,-748\"/>\n<text text-anchor=\"start\" x=\"4919.5\" y=\"-733.8\" font-family=\"Helvetica,sans-Serif\" font-size=\"14.00\" fill=\"#000000\">Parch ≤ 1.0</text>\n<text text-anchor=\"start\" x=\"4927\" y=\"-719.8\" font-family=\"Helvetica,sans-Serif\" font-size=\"14.00\" fill=\"#000000\">gini = 0.5</text>\n<text text-anchor=\"start\" x=\"4917\" y=\"-705.8\" font-family=\"Helvetica,sans-Serif\" font-size=\"14.00\" fill=\"#000000\">samples = 2</text>\n<text text-anchor=\"start\" x=\"4915\" y=\"-691.8\" font-family=\"Helvetica,sans-Serif\" font-size=\"14.00\" fill=\"#000000\">value = [1, 1]</text>\n<text text-anchor=\"start\" x=\"4924\" y=\"-677.8\" font-family=\"Helvetica,sans-Serif\" font-size=\"14.00\" fill=\"#000000\">class = y</text>\n<text text-anchor=\"start\" x=\"4982\" y=\"-677.8\" font-family=\"Helvetica,sans-Serif\" baseline-shift=\"sub\" font-size=\"14.00\" fill=\"#000000\">0</text>\n</g>\n<!-- 264&#45;&gt;265 -->\n<g id=\"edge265\" class=\"edge\">\n<title>264&#45;&gt;265</title>\n<path fill=\"none\" stroke=\"#000000\" d=\"M5033.2352,-783.7677C5023.8592,-774.632 5013.7887,-764.8198 5004.1282,-755.407\"/>\n<polygon fill=\"#000000\" stroke=\"#000000\" points=\"5006.4438,-752.7765 4996.839,-748.3046 5001.5588,-757.7901 5006.4438,-752.7765\"/>\n</g>\n<!-- 268 -->\n<g id=\"node269\" class=\"node\">\n<title>268</title>\n<path fill=\"#399de5\" stroke=\"#000000\" d=\"M5111,-741C5111,-741 5036,-741 5036,-741 5030,-741 5024,-735 5024,-729 5024,-729 5024,-689 5024,-689 5024,-683 5030,-677 5036,-677 5036,-677 5111,-677 5111,-677 5117,-677 5123,-683 5123,-689 5123,-689 5123,-729 5123,-729 5123,-735 5117,-741 5111,-741\"/>\n<text text-anchor=\"start\" x=\"5044\" y=\"-726.8\" font-family=\"Helvetica,sans-Serif\" font-size=\"14.00\" fill=\"#000000\">gini = 0.0</text>\n<text text-anchor=\"start\" x=\"5034\" y=\"-712.8\" font-family=\"Helvetica,sans-Serif\" font-size=\"14.00\" fill=\"#000000\">samples = 3</text>\n<text text-anchor=\"start\" x=\"5032\" y=\"-698.8\" font-family=\"Helvetica,sans-Serif\" font-size=\"14.00\" fill=\"#000000\">value = [0, 3]</text>\n<text text-anchor=\"start\" x=\"5041\" y=\"-684.8\" font-family=\"Helvetica,sans-Serif\" font-size=\"14.00\" fill=\"#000000\">class = y</text>\n<text text-anchor=\"start\" x=\"5099\" y=\"-684.8\" font-family=\"Helvetica,sans-Serif\" baseline-shift=\"sub\" font-size=\"14.00\" fill=\"#000000\">1</text>\n</g>\n<!-- 264&#45;&gt;268 -->\n<g id=\"edge268\" class=\"edge\">\n<title>264&#45;&gt;268</title>\n<path fill=\"none\" stroke=\"#000000\" d=\"M5073.5,-783.7677C5073.5,-773.3338 5073.5,-762.0174 5073.5,-751.4215\"/>\n<polygon fill=\"#000000\" stroke=\"#000000\" points=\"5077.0001,-751.1252 5073.5,-741.1252 5070.0001,-751.1252 5077.0001,-751.1252\"/>\n</g>\n<!-- 266 -->\n<g id=\"node267\" class=\"node\">\n<title>266</title>\n<path fill=\"#399de5\" stroke=\"#000000\" d=\"M4906,-627C4906,-627 4831,-627 4831,-627 4825,-627 4819,-621 4819,-615 4819,-615 4819,-575 4819,-575 4819,-569 4825,-563 4831,-563 4831,-563 4906,-563 4906,-563 4912,-563 4918,-569 4918,-575 4918,-575 4918,-615 4918,-615 4918,-621 4912,-627 4906,-627\"/>\n<text text-anchor=\"start\" x=\"4839\" y=\"-612.8\" font-family=\"Helvetica,sans-Serif\" font-size=\"14.00\" fill=\"#000000\">gini = 0.0</text>\n<text text-anchor=\"start\" x=\"4829\" y=\"-598.8\" font-family=\"Helvetica,sans-Serif\" font-size=\"14.00\" fill=\"#000000\">samples = 1</text>\n<text text-anchor=\"start\" x=\"4827\" y=\"-584.8\" font-family=\"Helvetica,sans-Serif\" font-size=\"14.00\" fill=\"#000000\">value = [0, 1]</text>\n<text text-anchor=\"start\" x=\"4836\" y=\"-570.8\" font-family=\"Helvetica,sans-Serif\" font-size=\"14.00\" fill=\"#000000\">class = y</text>\n<text text-anchor=\"start\" x=\"4894\" y=\"-570.8\" font-family=\"Helvetica,sans-Serif\" baseline-shift=\"sub\" font-size=\"14.00\" fill=\"#000000\">1</text>\n</g>\n<!-- 265&#45;&gt;266 -->\n<g id=\"edge266\" class=\"edge\">\n<title>265&#45;&gt;266</title>\n<path fill=\"none\" stroke=\"#000000\" d=\"M4926.2154,-669.7677C4917.5739,-658.573 4908.1482,-646.3624 4899.4666,-635.1158\"/>\n<polygon fill=\"#000000\" stroke=\"#000000\" points=\"4902.1795,-632.9024 4893.2984,-627.1252 4896.6384,-637.1798 4902.1795,-632.9024\"/>\n</g>\n<!-- 267 -->\n<g id=\"node268\" class=\"node\">\n<title>267</title>\n<path fill=\"#e58139\" stroke=\"#000000\" d=\"M5023,-627C5023,-627 4948,-627 4948,-627 4942,-627 4936,-621 4936,-615 4936,-615 4936,-575 4936,-575 4936,-569 4942,-563 4948,-563 4948,-563 5023,-563 5023,-563 5029,-563 5035,-569 5035,-575 5035,-575 5035,-615 5035,-615 5035,-621 5029,-627 5023,-627\"/>\n<text text-anchor=\"start\" x=\"4956\" y=\"-612.8\" font-family=\"Helvetica,sans-Serif\" font-size=\"14.00\" fill=\"#000000\">gini = 0.0</text>\n<text text-anchor=\"start\" x=\"4946\" y=\"-598.8\" font-family=\"Helvetica,sans-Serif\" font-size=\"14.00\" fill=\"#000000\">samples = 1</text>\n<text text-anchor=\"start\" x=\"4944\" y=\"-584.8\" font-family=\"Helvetica,sans-Serif\" font-size=\"14.00\" fill=\"#000000\">value = [1, 0]</text>\n<text text-anchor=\"start\" x=\"4953\" y=\"-570.8\" font-family=\"Helvetica,sans-Serif\" font-size=\"14.00\" fill=\"#000000\">class = y</text>\n<text text-anchor=\"start\" x=\"5011\" y=\"-570.8\" font-family=\"Helvetica,sans-Serif\" baseline-shift=\"sub\" font-size=\"14.00\" fill=\"#000000\">0</text>\n</g>\n<!-- 265&#45;&gt;267 -->\n<g id=\"edge267\" class=\"edge\">\n<title>265&#45;&gt;267</title>\n<path fill=\"none\" stroke=\"#000000\" d=\"M4966.4802,-669.7677C4969.162,-659.2251 4972.0731,-647.7816 4974.7927,-637.0907\"/>\n<polygon fill=\"#000000\" stroke=\"#000000\" points=\"4978.2544,-637.6794 4977.3278,-627.1252 4971.4704,-635.9536 4978.2544,-637.6794\"/>\n</g>\n<!-- 271 -->\n<g id=\"node272\" class=\"node\">\n<title>271</title>\n<path fill=\"#eda774\" stroke=\"#000000\" d=\"M5409.5,-1318C5409.5,-1318 5317.5,-1318 5317.5,-1318 5311.5,-1318 5305.5,-1312 5305.5,-1306 5305.5,-1306 5305.5,-1252 5305.5,-1252 5305.5,-1246 5311.5,-1240 5317.5,-1240 5317.5,-1240 5409.5,-1240 5409.5,-1240 5415.5,-1240 5421.5,-1246 5421.5,-1252 5421.5,-1252 5421.5,-1306 5421.5,-1306 5421.5,-1312 5415.5,-1318 5409.5,-1318\"/>\n<text text-anchor=\"start\" x=\"5328.5\" y=\"-1303.8\" font-family=\"Helvetica,sans-Serif\" font-size=\"14.00\" fill=\"#000000\">Age ≤ 60.5</text>\n<text text-anchor=\"start\" x=\"5325.5\" y=\"-1289.8\" font-family=\"Helvetica,sans-Serif\" font-size=\"14.00\" fill=\"#000000\">gini = 0.354</text>\n<text text-anchor=\"start\" x=\"5319.5\" y=\"-1275.8\" font-family=\"Helvetica,sans-Serif\" font-size=\"14.00\" fill=\"#000000\">samples = 61</text>\n<text text-anchor=\"start\" x=\"5313.5\" y=\"-1261.8\" font-family=\"Helvetica,sans-Serif\" font-size=\"14.00\" fill=\"#000000\">value = [47, 14]</text>\n<text text-anchor=\"start\" x=\"5331\" y=\"-1247.8\" font-family=\"Helvetica,sans-Serif\" font-size=\"14.00\" fill=\"#000000\">class = y</text>\n<text text-anchor=\"start\" x=\"5389\" y=\"-1247.8\" font-family=\"Helvetica,sans-Serif\" baseline-shift=\"sub\" font-size=\"14.00\" fill=\"#000000\">0</text>\n</g>\n<!-- 270&#45;&gt;271 -->\n<g id=\"edge271\" class=\"edge\">\n<title>270&#45;&gt;271</title>\n<path fill=\"none\" stroke=\"#000000\" d=\"M5363.5,-1353.7677C5363.5,-1345.6172 5363.5,-1336.9283 5363.5,-1328.4649\"/>\n<polygon fill=\"#000000\" stroke=\"#000000\" points=\"5367.0001,-1328.3046 5363.5,-1318.3046 5360.0001,-1328.3047 5367.0001,-1328.3046\"/>\n</g>\n<!-- 306 -->\n<g id=\"node307\" class=\"node\">\n<title>306</title>\n<path fill=\"#399de5\" stroke=\"#000000\" d=\"M5527,-1311C5527,-1311 5452,-1311 5452,-1311 5446,-1311 5440,-1305 5440,-1299 5440,-1299 5440,-1259 5440,-1259 5440,-1253 5446,-1247 5452,-1247 5452,-1247 5527,-1247 5527,-1247 5533,-1247 5539,-1253 5539,-1259 5539,-1259 5539,-1299 5539,-1299 5539,-1305 5533,-1311 5527,-1311\"/>\n<text text-anchor=\"start\" x=\"5460\" y=\"-1296.8\" font-family=\"Helvetica,sans-Serif\" font-size=\"14.00\" fill=\"#000000\">gini = 0.0</text>\n<text text-anchor=\"start\" x=\"5450\" y=\"-1282.8\" font-family=\"Helvetica,sans-Serif\" font-size=\"14.00\" fill=\"#000000\">samples = 1</text>\n<text text-anchor=\"start\" x=\"5448\" y=\"-1268.8\" font-family=\"Helvetica,sans-Serif\" font-size=\"14.00\" fill=\"#000000\">value = [0, 1]</text>\n<text text-anchor=\"start\" x=\"5457\" y=\"-1254.8\" font-family=\"Helvetica,sans-Serif\" font-size=\"14.00\" fill=\"#000000\">class = y</text>\n<text text-anchor=\"start\" x=\"5515\" y=\"-1254.8\" font-family=\"Helvetica,sans-Serif\" baseline-shift=\"sub\" font-size=\"14.00\" fill=\"#000000\">1</text>\n</g>\n<!-- 270&#45;&gt;306 -->\n<g id=\"edge306\" class=\"edge\">\n<title>270&#45;&gt;306</title>\n<path fill=\"none\" stroke=\"#000000\" d=\"M5406.8621,-1353.7677C5419.5955,-1342.247 5433.5181,-1329.6503 5446.2449,-1318.1356\"/>\n<polygon fill=\"#000000\" stroke=\"#000000\" points=\"5448.926,-1320.4297 5453.9932,-1311.1252 5444.2296,-1315.239 5448.926,-1320.4297\"/>\n</g>\n<!-- 272 -->\n<g id=\"node273\" class=\"node\">\n<title>272</title>\n<path fill=\"#efb184\" stroke=\"#000000\" d=\"M5409.5,-1204C5409.5,-1204 5317.5,-1204 5317.5,-1204 5311.5,-1204 5305.5,-1198 5305.5,-1192 5305.5,-1192 5305.5,-1138 5305.5,-1138 5305.5,-1132 5311.5,-1126 5317.5,-1126 5317.5,-1126 5409.5,-1126 5409.5,-1126 5415.5,-1126 5421.5,-1132 5421.5,-1138 5421.5,-1138 5421.5,-1192 5421.5,-1192 5421.5,-1198 5415.5,-1204 5409.5,-1204\"/>\n<text text-anchor=\"start\" x=\"5326\" y=\"-1189.8\" font-family=\"Helvetica,sans-Serif\" font-size=\"14.00\" fill=\"#000000\">SibSp ≤ 0.5</text>\n<text text-anchor=\"start\" x=\"5325.5\" y=\"-1175.8\" font-family=\"Helvetica,sans-Serif\" font-size=\"14.00\" fill=\"#000000\">gini = 0.398</text>\n<text text-anchor=\"start\" x=\"5319.5\" y=\"-1161.8\" font-family=\"Helvetica,sans-Serif\" font-size=\"14.00\" fill=\"#000000\">samples = 51</text>\n<text text-anchor=\"start\" x=\"5313.5\" y=\"-1147.8\" font-family=\"Helvetica,sans-Serif\" font-size=\"14.00\" fill=\"#000000\">value = [37, 14]</text>\n<text text-anchor=\"start\" x=\"5331\" y=\"-1133.8\" font-family=\"Helvetica,sans-Serif\" font-size=\"14.00\" fill=\"#000000\">class = y</text>\n<text text-anchor=\"start\" x=\"5389\" y=\"-1133.8\" font-family=\"Helvetica,sans-Serif\" baseline-shift=\"sub\" font-size=\"14.00\" fill=\"#000000\">0</text>\n</g>\n<!-- 271&#45;&gt;272 -->\n<g id=\"edge272\" class=\"edge\">\n<title>271&#45;&gt;272</title>\n<path fill=\"none\" stroke=\"#000000\" d=\"M5363.5,-1239.7677C5363.5,-1231.6172 5363.5,-1222.9283 5363.5,-1214.4649\"/>\n<polygon fill=\"#000000\" stroke=\"#000000\" points=\"5367.0001,-1214.3046 5363.5,-1204.3046 5360.0001,-1214.3047 5367.0001,-1214.3046\"/>\n</g>\n<!-- 305 -->\n<g id=\"node306\" class=\"node\">\n<title>305</title>\n<path fill=\"#e58139\" stroke=\"#000000\" d=\"M5535,-1197C5535,-1197 5452,-1197 5452,-1197 5446,-1197 5440,-1191 5440,-1185 5440,-1185 5440,-1145 5440,-1145 5440,-1139 5446,-1133 5452,-1133 5452,-1133 5535,-1133 5535,-1133 5541,-1133 5547,-1139 5547,-1145 5547,-1145 5547,-1185 5547,-1185 5547,-1191 5541,-1197 5535,-1197\"/>\n<text text-anchor=\"start\" x=\"5464\" y=\"-1182.8\" font-family=\"Helvetica,sans-Serif\" font-size=\"14.00\" fill=\"#000000\">gini = 0.0</text>\n<text text-anchor=\"start\" x=\"5449.5\" y=\"-1168.8\" font-family=\"Helvetica,sans-Serif\" font-size=\"14.00\" fill=\"#000000\">samples = 10</text>\n<text text-anchor=\"start\" x=\"5448\" y=\"-1154.8\" font-family=\"Helvetica,sans-Serif\" font-size=\"14.00\" fill=\"#000000\">value = [10, 0]</text>\n<text text-anchor=\"start\" x=\"5461\" y=\"-1140.8\" font-family=\"Helvetica,sans-Serif\" font-size=\"14.00\" fill=\"#000000\">class = y</text>\n<text text-anchor=\"start\" x=\"5519\" y=\"-1140.8\" font-family=\"Helvetica,sans-Serif\" baseline-shift=\"sub\" font-size=\"14.00\" fill=\"#000000\">0</text>\n</g>\n<!-- 271&#45;&gt;305 -->\n<g id=\"edge305\" class=\"edge\">\n<title>271&#45;&gt;305</title>\n<path fill=\"none\" stroke=\"#000000\" d=\"M5408.2386,-1239.7677C5421.5002,-1228.1383 5436.0121,-1215.4125 5449.243,-1203.81\"/>\n<polygon fill=\"#000000\" stroke=\"#000000\" points=\"5451.655,-1206.35 5456.866,-1197.1252 5447.0397,-1201.0869 5451.655,-1206.35\"/>\n</g>\n<!-- 273 -->\n<g id=\"node274\" class=\"node\">\n<title>273</title>\n<path fill=\"#eca572\" stroke=\"#000000\" d=\"M5405,-1090C5405,-1090 5322,-1090 5322,-1090 5316,-1090 5310,-1084 5310,-1078 5310,-1078 5310,-1024 5310,-1024 5310,-1018 5316,-1012 5322,-1012 5322,-1012 5405,-1012 5405,-1012 5411,-1012 5417,-1018 5417,-1024 5417,-1024 5417,-1078 5417,-1078 5417,-1084 5411,-1090 5405,-1090\"/>\n<text text-anchor=\"start\" x=\"5326.5\" y=\"-1075.8\" font-family=\"Helvetica,sans-Serif\" font-size=\"14.00\" fill=\"#000000\">Fare ≤ 37.0</text>\n<text text-anchor=\"start\" x=\"5325.5\" y=\"-1061.8\" font-family=\"Helvetica,sans-Serif\" font-size=\"14.00\" fill=\"#000000\">gini = 0.346</text>\n<text text-anchor=\"start\" x=\"5319.5\" y=\"-1047.8\" font-family=\"Helvetica,sans-Serif\" font-size=\"14.00\" fill=\"#000000\">samples = 36</text>\n<text text-anchor=\"start\" x=\"5318\" y=\"-1033.8\" font-family=\"Helvetica,sans-Serif\" font-size=\"14.00\" fill=\"#000000\">value = [28, 8]</text>\n<text text-anchor=\"start\" x=\"5331\" y=\"-1019.8\" font-family=\"Helvetica,sans-Serif\" font-size=\"14.00\" fill=\"#000000\">class = y</text>\n<text text-anchor=\"start\" x=\"5389\" y=\"-1019.8\" font-family=\"Helvetica,sans-Serif\" baseline-shift=\"sub\" font-size=\"14.00\" fill=\"#000000\">0</text>\n</g>\n<!-- 272&#45;&gt;273 -->\n<g id=\"edge273\" class=\"edge\">\n<title>272&#45;&gt;273</title>\n<path fill=\"none\" stroke=\"#000000\" d=\"M5363.5,-1125.7677C5363.5,-1117.6172 5363.5,-1108.9283 5363.5,-1100.4649\"/>\n<polygon fill=\"#000000\" stroke=\"#000000\" points=\"5367.0001,-1100.3046 5363.5,-1090.3046 5360.0001,-1100.3047 5367.0001,-1100.3046\"/>\n</g>\n<!-- 294 -->\n<g id=\"node295\" class=\"node\">\n<title>294</title>\n<path fill=\"#f6d5bd\" stroke=\"#000000\" d=\"M5588.5,-1090C5588.5,-1090 5508.5,-1090 5508.5,-1090 5502.5,-1090 5496.5,-1084 5496.5,-1078 5496.5,-1078 5496.5,-1024 5496.5,-1024 5496.5,-1018 5502.5,-1012 5508.5,-1012 5508.5,-1012 5588.5,-1012 5588.5,-1012 5594.5,-1012 5600.5,-1018 5600.5,-1024 5600.5,-1024 5600.5,-1078 5600.5,-1078 5600.5,-1084 5594.5,-1090 5588.5,-1090\"/>\n<text text-anchor=\"start\" x=\"5511.5\" y=\"-1075.8\" font-family=\"Helvetica,sans-Serif\" font-size=\"14.00\" fill=\"#000000\">Fare ≤ 45.5</text>\n<text text-anchor=\"start\" x=\"5515\" y=\"-1061.8\" font-family=\"Helvetica,sans-Serif\" font-size=\"14.00\" fill=\"#000000\">gini = 0.48</text>\n<text text-anchor=\"start\" x=\"5504.5\" y=\"-1047.8\" font-family=\"Helvetica,sans-Serif\" font-size=\"14.00\" fill=\"#000000\">samples = 15</text>\n<text text-anchor=\"start\" x=\"5507\" y=\"-1033.8\" font-family=\"Helvetica,sans-Serif\" font-size=\"14.00\" fill=\"#000000\">value = [9, 6]</text>\n<text text-anchor=\"start\" x=\"5516\" y=\"-1019.8\" font-family=\"Helvetica,sans-Serif\" font-size=\"14.00\" fill=\"#000000\">class = y</text>\n<text text-anchor=\"start\" x=\"5574\" y=\"-1019.8\" font-family=\"Helvetica,sans-Serif\" baseline-shift=\"sub\" font-size=\"14.00\" fill=\"#000000\">0</text>\n</g>\n<!-- 272&#45;&gt;294 -->\n<g id=\"edge294\" class=\"edge\">\n<title>272&#45;&gt;294</title>\n<path fill=\"none\" stroke=\"#000000\" d=\"M5421.5276,-1129.2425C5442.5758,-1116.2722 5466.403,-1101.5895 5487.685,-1088.4752\"/>\n<polygon fill=\"#000000\" stroke=\"#000000\" points=\"5489.6454,-1091.3784 5496.3227,-1083.1525 5485.9731,-1085.419 5489.6454,-1091.3784\"/>\n</g>\n<!-- 274 -->\n<g id=\"node275\" class=\"node\">\n<title>274</title>\n<path fill=\"#f2c09c\" stroke=\"#000000\" d=\"M5344,-976C5344,-976 5261,-976 5261,-976 5255,-976 5249,-970 5249,-964 5249,-964 5249,-910 5249,-910 5249,-904 5255,-898 5261,-898 5261,-898 5344,-898 5344,-898 5350,-898 5356,-904 5356,-910 5356,-910 5356,-964 5356,-964 5356,-970 5350,-976 5344,-976\"/>\n<text text-anchor=\"start\" x=\"5261.5\" y=\"-961.8\" font-family=\"Helvetica,sans-Serif\" font-size=\"14.00\" fill=\"#000000\">Fare ≤ 35.25</text>\n<text text-anchor=\"start\" x=\"5264.5\" y=\"-947.8\" font-family=\"Helvetica,sans-Serif\" font-size=\"14.00\" fill=\"#000000\">gini = 0.444</text>\n<text text-anchor=\"start\" x=\"5258.5\" y=\"-933.8\" font-family=\"Helvetica,sans-Serif\" font-size=\"14.00\" fill=\"#000000\">samples = 24</text>\n<text text-anchor=\"start\" x=\"5257\" y=\"-919.8\" font-family=\"Helvetica,sans-Serif\" font-size=\"14.00\" fill=\"#000000\">value = [16, 8]</text>\n<text text-anchor=\"start\" x=\"5270\" y=\"-905.8\" font-family=\"Helvetica,sans-Serif\" font-size=\"14.00\" fill=\"#000000\">class = y</text>\n<text text-anchor=\"start\" x=\"5328\" y=\"-905.8\" font-family=\"Helvetica,sans-Serif\" baseline-shift=\"sub\" font-size=\"14.00\" fill=\"#000000\">0</text>\n</g>\n<!-- 273&#45;&gt;274 -->\n<g id=\"edge274\" class=\"edge\">\n<title>273&#45;&gt;274</title>\n<path fill=\"none\" stroke=\"#000000\" d=\"M5342.5073,-1011.7677C5337.9544,-1003.259 5333.0874,-994.1634 5328.3716,-985.3502\"/>\n<polygon fill=\"#000000\" stroke=\"#000000\" points=\"5331.3354,-983.4705 5323.5314,-976.3046 5325.1634,-986.773 5331.3354,-983.4705\"/>\n</g>\n<!-- 293 -->\n<g id=\"node294\" class=\"node\">\n<title>293</title>\n<path fill=\"#e58139\" stroke=\"#000000\" d=\"M5469,-969C5469,-969 5386,-969 5386,-969 5380,-969 5374,-963 5374,-957 5374,-957 5374,-917 5374,-917 5374,-911 5380,-905 5386,-905 5386,-905 5469,-905 5469,-905 5475,-905 5481,-911 5481,-917 5481,-917 5481,-957 5481,-957 5481,-963 5475,-969 5469,-969\"/>\n<text text-anchor=\"start\" x=\"5398\" y=\"-954.8\" font-family=\"Helvetica,sans-Serif\" font-size=\"14.00\" fill=\"#000000\">gini = 0.0</text>\n<text text-anchor=\"start\" x=\"5383.5\" y=\"-940.8\" font-family=\"Helvetica,sans-Serif\" font-size=\"14.00\" fill=\"#000000\">samples = 12</text>\n<text text-anchor=\"start\" x=\"5382\" y=\"-926.8\" font-family=\"Helvetica,sans-Serif\" font-size=\"14.00\" fill=\"#000000\">value = [12, 0]</text>\n<text text-anchor=\"start\" x=\"5395\" y=\"-912.8\" font-family=\"Helvetica,sans-Serif\" font-size=\"14.00\" fill=\"#000000\">class = y</text>\n<text text-anchor=\"start\" x=\"5453\" y=\"-912.8\" font-family=\"Helvetica,sans-Serif\" baseline-shift=\"sub\" font-size=\"14.00\" fill=\"#000000\">0</text>\n</g>\n<!-- 273&#45;&gt;293 -->\n<g id=\"edge293\" class=\"edge\">\n<title>273&#45;&gt;293</title>\n<path fill=\"none\" stroke=\"#000000\" d=\"M5385.5252,-1011.7677C5391.6268,-1000.8991 5398.2661,-989.0729 5404.4258,-978.1009\"/>\n<polygon fill=\"#000000\" stroke=\"#000000\" points=\"5407.6214,-979.5584 5409.4648,-969.1252 5401.5175,-976.1317 5407.6214,-979.5584\"/>\n</g>\n<!-- 275 -->\n<g id=\"node276\" class=\"node\">\n<title>275</title>\n<path fill=\"#efb388\" stroke=\"#000000\" d=\"M5343,-862C5343,-862 5260,-862 5260,-862 5254,-862 5248,-856 5248,-850 5248,-850 5248,-796 5248,-796 5248,-790 5254,-784 5260,-784 5260,-784 5343,-784 5343,-784 5349,-784 5355,-790 5355,-796 5355,-796 5355,-850 5355,-850 5355,-856 5349,-862 5343,-862\"/>\n<text text-anchor=\"start\" x=\"5266.5\" y=\"-847.8\" font-family=\"Helvetica,sans-Serif\" font-size=\"14.00\" fill=\"#000000\">Age ≤ 53.0</text>\n<text text-anchor=\"start\" x=\"5263.5\" y=\"-833.8\" font-family=\"Helvetica,sans-Serif\" font-size=\"14.00\" fill=\"#000000\">gini = 0.408</text>\n<text text-anchor=\"start\" x=\"5257.5\" y=\"-819.8\" font-family=\"Helvetica,sans-Serif\" font-size=\"14.00\" fill=\"#000000\">samples = 21</text>\n<text text-anchor=\"start\" x=\"5256\" y=\"-805.8\" font-family=\"Helvetica,sans-Serif\" font-size=\"14.00\" fill=\"#000000\">value = [15, 6]</text>\n<text text-anchor=\"start\" x=\"5269\" y=\"-791.8\" font-family=\"Helvetica,sans-Serif\" font-size=\"14.00\" fill=\"#000000\">class = y</text>\n<text text-anchor=\"start\" x=\"5327\" y=\"-791.8\" font-family=\"Helvetica,sans-Serif\" baseline-shift=\"sub\" font-size=\"14.00\" fill=\"#000000\">0</text>\n</g>\n<!-- 274&#45;&gt;275 -->\n<g id=\"edge275\" class=\"edge\">\n<title>274&#45;&gt;275</title>\n<path fill=\"none\" stroke=\"#000000\" d=\"M5302.1559,-897.7677C5302.0844,-889.6172 5302.0081,-880.9283 5301.9339,-872.4649\"/>\n<polygon fill=\"#000000\" stroke=\"#000000\" points=\"5305.4325,-872.2735 5301.8448,-862.3046 5298.4327,-872.335 5305.4325,-872.2735\"/>\n</g>\n<!-- 288 -->\n<g id=\"node289\" class=\"node\">\n<title>288</title>\n<path fill=\"#9ccef2\" stroke=\"#000000\" d=\"M5480,-862C5480,-862 5385,-862 5385,-862 5379,-862 5373,-856 5373,-850 5373,-850 5373,-796 5373,-796 5373,-790 5379,-784 5385,-784 5385,-784 5480,-784 5480,-784 5486,-784 5492,-790 5492,-796 5492,-796 5492,-850 5492,-850 5492,-856 5486,-862 5480,-862\"/>\n<text text-anchor=\"start\" x=\"5381\" y=\"-847.8\" font-family=\"Helvetica,sans-Serif\" font-size=\"14.00\" fill=\"#000000\">Embarked ≤ 1.0</text>\n<text text-anchor=\"start\" x=\"5394.5\" y=\"-833.8\" font-family=\"Helvetica,sans-Serif\" font-size=\"14.00\" fill=\"#000000\">gini = 0.444</text>\n<text text-anchor=\"start\" x=\"5393\" y=\"-819.8\" font-family=\"Helvetica,sans-Serif\" font-size=\"14.00\" fill=\"#000000\">samples = 3</text>\n<text text-anchor=\"start\" x=\"5391\" y=\"-805.8\" font-family=\"Helvetica,sans-Serif\" font-size=\"14.00\" fill=\"#000000\">value = [1, 2]</text>\n<text text-anchor=\"start\" x=\"5400\" y=\"-791.8\" font-family=\"Helvetica,sans-Serif\" font-size=\"14.00\" fill=\"#000000\">class = y</text>\n<text text-anchor=\"start\" x=\"5458\" y=\"-791.8\" font-family=\"Helvetica,sans-Serif\" baseline-shift=\"sub\" font-size=\"14.00\" fill=\"#000000\">1</text>\n</g>\n<!-- 274&#45;&gt;288 -->\n<g id=\"edge288\" class=\"edge\">\n<title>274&#45;&gt;288</title>\n<path fill=\"none\" stroke=\"#000000\" d=\"M5347.2386,-897.7677C5357.7586,-888.5424 5369.0654,-878.6273 5379.8953,-869.1302\"/>\n<polygon fill=\"#000000\" stroke=\"#000000\" points=\"5382.4679,-871.5294 5387.6789,-862.3046 5377.8526,-866.2664 5382.4679,-871.5294\"/>\n</g>\n<!-- 276 -->\n<g id=\"node277\" class=\"node\">\n<title>276</title>\n<path fill=\"#f5cdb0\" stroke=\"#000000\" d=\"M5236,-748C5236,-748 5153,-748 5153,-748 5147,-748 5141,-742 5141,-736 5141,-736 5141,-682 5141,-682 5141,-676 5147,-670 5153,-670 5153,-670 5236,-670 5236,-670 5242,-670 5248,-676 5248,-682 5248,-682 5248,-736 5248,-736 5248,-742 5242,-748 5236,-748\"/>\n<text text-anchor=\"start\" x=\"5149\" y=\"-733.8\" font-family=\"Helvetica,sans-Serif\" font-size=\"14.00\" fill=\"#000000\">Fare ≤ 30.598</text>\n<text text-anchor=\"start\" x=\"5156.5\" y=\"-719.8\" font-family=\"Helvetica,sans-Serif\" font-size=\"14.00\" fill=\"#000000\">gini = 0.469</text>\n<text text-anchor=\"start\" x=\"5150.5\" y=\"-705.8\" font-family=\"Helvetica,sans-Serif\" font-size=\"14.00\" fill=\"#000000\">samples = 16</text>\n<text text-anchor=\"start\" x=\"5149\" y=\"-691.8\" font-family=\"Helvetica,sans-Serif\" font-size=\"14.00\" fill=\"#000000\">value = [10, 6]</text>\n<text text-anchor=\"start\" x=\"5162\" y=\"-677.8\" font-family=\"Helvetica,sans-Serif\" font-size=\"14.00\" fill=\"#000000\">class = y</text>\n<text text-anchor=\"start\" x=\"5220\" y=\"-677.8\" font-family=\"Helvetica,sans-Serif\" baseline-shift=\"sub\" font-size=\"14.00\" fill=\"#000000\">0</text>\n</g>\n<!-- 275&#45;&gt;276 -->\n<g id=\"edge276\" class=\"edge\">\n<title>275&#45;&gt;276</title>\n<path fill=\"none\" stroke=\"#000000\" d=\"M5264.6767,-783.7677C5256.186,-774.7216 5247.0728,-765.0121 5238.3174,-755.6839\"/>\n<polygon fill=\"#000000\" stroke=\"#000000\" points=\"5240.7869,-753.2008 5231.3912,-748.3046 5235.6829,-757.9914 5240.7869,-753.2008\"/>\n</g>\n<!-- 287 -->\n<g id=\"node288\" class=\"node\">\n<title>287</title>\n<path fill=\"#e58139\" stroke=\"#000000\" d=\"M5353,-741C5353,-741 5278,-741 5278,-741 5272,-741 5266,-735 5266,-729 5266,-729 5266,-689 5266,-689 5266,-683 5272,-677 5278,-677 5278,-677 5353,-677 5353,-677 5359,-677 5365,-683 5365,-689 5365,-689 5365,-729 5365,-729 5365,-735 5359,-741 5353,-741\"/>\n<text text-anchor=\"start\" x=\"5286\" y=\"-726.8\" font-family=\"Helvetica,sans-Serif\" font-size=\"14.00\" fill=\"#000000\">gini = 0.0</text>\n<text text-anchor=\"start\" x=\"5276\" y=\"-712.8\" font-family=\"Helvetica,sans-Serif\" font-size=\"14.00\" fill=\"#000000\">samples = 5</text>\n<text text-anchor=\"start\" x=\"5274\" y=\"-698.8\" font-family=\"Helvetica,sans-Serif\" font-size=\"14.00\" fill=\"#000000\">value = [5, 0]</text>\n<text text-anchor=\"start\" x=\"5283\" y=\"-684.8\" font-family=\"Helvetica,sans-Serif\" font-size=\"14.00\" fill=\"#000000\">class = y</text>\n<text text-anchor=\"start\" x=\"5341\" y=\"-684.8\" font-family=\"Helvetica,sans-Serif\" baseline-shift=\"sub\" font-size=\"14.00\" fill=\"#000000\">0</text>\n</g>\n<!-- 275&#45;&gt;287 -->\n<g id=\"edge287\" class=\"edge\">\n<title>275&#45;&gt;287</title>\n<path fill=\"none\" stroke=\"#000000\" d=\"M5306.318,-783.7677C5307.6127,-773.2251 5309.0181,-761.7816 5310.331,-751.0907\"/>\n<polygon fill=\"#000000\" stroke=\"#000000\" points=\"5313.8097,-751.4773 5311.5548,-741.1252 5306.8619,-750.624 5313.8097,-751.4773\"/>\n</g>\n<!-- 277 -->\n<g id=\"node278\" class=\"node\">\n<title>277</title>\n<path fill=\"#ffffff\" stroke=\"#000000\" d=\"M5204.5,-634C5204.5,-634 5124.5,-634 5124.5,-634 5118.5,-634 5112.5,-628 5112.5,-622 5112.5,-622 5112.5,-568 5112.5,-568 5112.5,-562 5118.5,-556 5124.5,-556 5124.5,-556 5204.5,-556 5204.5,-556 5210.5,-556 5216.5,-562 5216.5,-568 5216.5,-568 5216.5,-622 5216.5,-622 5216.5,-628 5210.5,-634 5204.5,-634\"/>\n<text text-anchor=\"start\" x=\"5127.5\" y=\"-619.8\" font-family=\"Helvetica,sans-Serif\" font-size=\"14.00\" fill=\"#000000\">Fare ≤ 29.1</text>\n<text text-anchor=\"start\" x=\"5135\" y=\"-605.8\" font-family=\"Helvetica,sans-Serif\" font-size=\"14.00\" fill=\"#000000\">gini = 0.5</text>\n<text text-anchor=\"start\" x=\"5120.5\" y=\"-591.8\" font-family=\"Helvetica,sans-Serif\" font-size=\"14.00\" fill=\"#000000\">samples = 12</text>\n<text text-anchor=\"start\" x=\"5123\" y=\"-577.8\" font-family=\"Helvetica,sans-Serif\" font-size=\"14.00\" fill=\"#000000\">value = [6, 6]</text>\n<text text-anchor=\"start\" x=\"5132\" y=\"-563.8\" font-family=\"Helvetica,sans-Serif\" font-size=\"14.00\" fill=\"#000000\">class = y</text>\n<text text-anchor=\"start\" x=\"5190\" y=\"-563.8\" font-family=\"Helvetica,sans-Serif\" baseline-shift=\"sub\" font-size=\"14.00\" fill=\"#000000\">0</text>\n</g>\n<!-- 276&#45;&gt;277 -->\n<g id=\"edge277\" class=\"edge\">\n<title>276&#45;&gt;277</title>\n<path fill=\"none\" stroke=\"#000000\" d=\"M5184.1757,-669.7677C5182.0073,-661.5277 5179.694,-652.7372 5177.4437,-644.1859\"/>\n<polygon fill=\"#000000\" stroke=\"#000000\" points=\"5180.7731,-643.0846 5174.8433,-634.3046 5174.0036,-644.8661 5180.7731,-643.0846\"/>\n</g>\n<!-- 286 -->\n<g id=\"node287\" class=\"node\">\n<title>286</title>\n<path fill=\"#e58139\" stroke=\"#000000\" d=\"M5322,-627C5322,-627 5247,-627 5247,-627 5241,-627 5235,-621 5235,-615 5235,-615 5235,-575 5235,-575 5235,-569 5241,-563 5247,-563 5247,-563 5322,-563 5322,-563 5328,-563 5334,-569 5334,-575 5334,-575 5334,-615 5334,-615 5334,-621 5328,-627 5322,-627\"/>\n<text text-anchor=\"start\" x=\"5255\" y=\"-612.8\" font-family=\"Helvetica,sans-Serif\" font-size=\"14.00\" fill=\"#000000\">gini = 0.0</text>\n<text text-anchor=\"start\" x=\"5245\" y=\"-598.8\" font-family=\"Helvetica,sans-Serif\" font-size=\"14.00\" fill=\"#000000\">samples = 4</text>\n<text text-anchor=\"start\" x=\"5243\" y=\"-584.8\" font-family=\"Helvetica,sans-Serif\" font-size=\"14.00\" fill=\"#000000\">value = [4, 0]</text>\n<text text-anchor=\"start\" x=\"5252\" y=\"-570.8\" font-family=\"Helvetica,sans-Serif\" font-size=\"14.00\" fill=\"#000000\">class = y</text>\n<text text-anchor=\"start\" x=\"5310\" y=\"-570.8\" font-family=\"Helvetica,sans-Serif\" baseline-shift=\"sub\" font-size=\"14.00\" fill=\"#000000\">0</text>\n</g>\n<!-- 276&#45;&gt;286 -->\n<g id=\"edge286\" class=\"edge\">\n<title>276&#45;&gt;286</title>\n<path fill=\"none\" stroke=\"#000000\" d=\"M5225.4729,-669.7677C5234.3108,-658.573 5243.9507,-646.3624 5252.8296,-635.1158\"/>\n<polygon fill=\"#000000\" stroke=\"#000000\" points=\"5255.6886,-637.1428 5259.138,-627.1252 5250.1944,-632.8053 5255.6886,-637.1428\"/>\n</g>\n<!-- 278 -->\n<g id=\"node279\" class=\"node\">\n<title>278</title>\n<path fill=\"#f2c09c\" stroke=\"#000000\" d=\"M5145,-520C5145,-520 5062,-520 5062,-520 5056,-520 5050,-514 5050,-508 5050,-508 5050,-454 5050,-454 5050,-448 5056,-442 5062,-442 5062,-442 5145,-442 5145,-442 5151,-442 5157,-448 5157,-454 5157,-454 5157,-508 5157,-508 5157,-514 5151,-520 5145,-520\"/>\n<text text-anchor=\"start\" x=\"5058\" y=\"-505.8\" font-family=\"Helvetica,sans-Serif\" font-size=\"14.00\" fill=\"#000000\">Fare ≤ 27.135</text>\n<text text-anchor=\"start\" x=\"5065.5\" y=\"-491.8\" font-family=\"Helvetica,sans-Serif\" font-size=\"14.00\" fill=\"#000000\">gini = 0.444</text>\n<text text-anchor=\"start\" x=\"5064\" y=\"-477.8\" font-family=\"Helvetica,sans-Serif\" font-size=\"14.00\" fill=\"#000000\">samples = 9</text>\n<text text-anchor=\"start\" x=\"5062\" y=\"-463.8\" font-family=\"Helvetica,sans-Serif\" font-size=\"14.00\" fill=\"#000000\">value = [6, 3]</text>\n<text text-anchor=\"start\" x=\"5071\" y=\"-449.8\" font-family=\"Helvetica,sans-Serif\" font-size=\"14.00\" fill=\"#000000\">class = y</text>\n<text text-anchor=\"start\" x=\"5129\" y=\"-449.8\" font-family=\"Helvetica,sans-Serif\" baseline-shift=\"sub\" font-size=\"14.00\" fill=\"#000000\">0</text>\n</g>\n<!-- 277&#45;&gt;278 -->\n<g id=\"edge278\" class=\"edge\">\n<title>277&#45;&gt;278</title>\n<path fill=\"none\" stroke=\"#000000\" d=\"M5143.5073,-555.7677C5138.9544,-547.259 5134.0874,-538.1634 5129.3716,-529.3502\"/>\n<polygon fill=\"#000000\" stroke=\"#000000\" points=\"5132.3354,-527.4705 5124.5314,-520.3046 5126.1634,-530.773 5132.3354,-527.4705\"/>\n</g>\n<!-- 285 -->\n<g id=\"node286\" class=\"node\">\n<title>285</title>\n<path fill=\"#399de5\" stroke=\"#000000\" d=\"M5262,-513C5262,-513 5187,-513 5187,-513 5181,-513 5175,-507 5175,-501 5175,-501 5175,-461 5175,-461 5175,-455 5181,-449 5187,-449 5187,-449 5262,-449 5262,-449 5268,-449 5274,-455 5274,-461 5274,-461 5274,-501 5274,-501 5274,-507 5268,-513 5262,-513\"/>\n<text text-anchor=\"start\" x=\"5195\" y=\"-498.8\" font-family=\"Helvetica,sans-Serif\" font-size=\"14.00\" fill=\"#000000\">gini = 0.0</text>\n<text text-anchor=\"start\" x=\"5185\" y=\"-484.8\" font-family=\"Helvetica,sans-Serif\" font-size=\"14.00\" fill=\"#000000\">samples = 3</text>\n<text text-anchor=\"start\" x=\"5183\" y=\"-470.8\" font-family=\"Helvetica,sans-Serif\" font-size=\"14.00\" fill=\"#000000\">value = [0, 3]</text>\n<text text-anchor=\"start\" x=\"5192\" y=\"-456.8\" font-family=\"Helvetica,sans-Serif\" font-size=\"14.00\" fill=\"#000000\">class = y</text>\n<text text-anchor=\"start\" x=\"5250\" y=\"-456.8\" font-family=\"Helvetica,sans-Serif\" baseline-shift=\"sub\" font-size=\"14.00\" fill=\"#000000\">1</text>\n</g>\n<!-- 277&#45;&gt;285 -->\n<g id=\"edge285\" class=\"edge\">\n<title>277&#45;&gt;285</title>\n<path fill=\"none\" stroke=\"#000000\" d=\"M5185.1486,-555.7677C5190.8689,-544.8991 5197.0932,-533.0729 5202.8679,-522.1009\"/>\n<polygon fill=\"#000000\" stroke=\"#000000\" points=\"5206.0317,-523.6045 5207.592,-513.1252 5199.8373,-520.3443 5206.0317,-523.6045\"/>\n</g>\n<!-- 279 -->\n<g id=\"node280\" class=\"node\">\n<title>279</title>\n<path fill=\"#bddef6\" stroke=\"#000000\" d=\"M5082,-406C5082,-406 5007,-406 5007,-406 5001,-406 4995,-400 4995,-394 4995,-394 4995,-340 4995,-340 4995,-334 5001,-328 5007,-328 5007,-328 5082,-328 5082,-328 5088,-328 5094,-334 5094,-340 5094,-340 5094,-394 5094,-394 5094,-400 5088,-406 5082,-406\"/>\n<text text-anchor=\"start\" x=\"5009.5\" y=\"-391.8\" font-family=\"Helvetica,sans-Serif\" font-size=\"14.00\" fill=\"#000000\">Age ≤ 48.0</text>\n<text text-anchor=\"start\" x=\"5011\" y=\"-377.8\" font-family=\"Helvetica,sans-Serif\" font-size=\"14.00\" fill=\"#000000\">gini = 0.48</text>\n<text text-anchor=\"start\" x=\"5005\" y=\"-363.8\" font-family=\"Helvetica,sans-Serif\" font-size=\"14.00\" fill=\"#000000\">samples = 5</text>\n<text text-anchor=\"start\" x=\"5003\" y=\"-349.8\" font-family=\"Helvetica,sans-Serif\" font-size=\"14.00\" fill=\"#000000\">value = [2, 3]</text>\n<text text-anchor=\"start\" x=\"5012\" y=\"-335.8\" font-family=\"Helvetica,sans-Serif\" font-size=\"14.00\" fill=\"#000000\">class = y</text>\n<text text-anchor=\"start\" x=\"5070\" y=\"-335.8\" font-family=\"Helvetica,sans-Serif\" baseline-shift=\"sub\" font-size=\"14.00\" fill=\"#000000\">1</text>\n</g>\n<!-- 278&#45;&gt;279 -->\n<g id=\"edge279\" class=\"edge\">\n<title>278&#45;&gt;279</title>\n<path fill=\"none\" stroke=\"#000000\" d=\"M5083.1955,-441.7677C5078.7919,-433.259 5074.0845,-424.1634 5069.5233,-415.3502\"/>\n<polygon fill=\"#000000\" stroke=\"#000000\" points=\"5072.5467,-413.577 5064.8419,-406.3046 5066.3299,-416.7945 5072.5467,-413.577\"/>\n</g>\n<!-- 284 -->\n<g id=\"node285\" class=\"node\">\n<title>284</title>\n<path fill=\"#e58139\" stroke=\"#000000\" d=\"M5199,-399C5199,-399 5124,-399 5124,-399 5118,-399 5112,-393 5112,-387 5112,-387 5112,-347 5112,-347 5112,-341 5118,-335 5124,-335 5124,-335 5199,-335 5199,-335 5205,-335 5211,-341 5211,-347 5211,-347 5211,-387 5211,-387 5211,-393 5205,-399 5199,-399\"/>\n<text text-anchor=\"start\" x=\"5132\" y=\"-384.8\" font-family=\"Helvetica,sans-Serif\" font-size=\"14.00\" fill=\"#000000\">gini = 0.0</text>\n<text text-anchor=\"start\" x=\"5122\" y=\"-370.8\" font-family=\"Helvetica,sans-Serif\" font-size=\"14.00\" fill=\"#000000\">samples = 4</text>\n<text text-anchor=\"start\" x=\"5120\" y=\"-356.8\" font-family=\"Helvetica,sans-Serif\" font-size=\"14.00\" fill=\"#000000\">value = [4, 0]</text>\n<text text-anchor=\"start\" x=\"5129\" y=\"-342.8\" font-family=\"Helvetica,sans-Serif\" font-size=\"14.00\" fill=\"#000000\">class = y</text>\n<text text-anchor=\"start\" x=\"5187\" y=\"-342.8\" font-family=\"Helvetica,sans-Serif\" baseline-shift=\"sub\" font-size=\"14.00\" fill=\"#000000\">0</text>\n</g>\n<!-- 278&#45;&gt;284 -->\n<g id=\"edge284\" class=\"edge\">\n<title>278&#45;&gt;284</title>\n<path fill=\"none\" stroke=\"#000000\" d=\"M5123.4603,-441.7677C5128.9899,-430.8991 5135.0068,-419.0729 5140.589,-408.1009\"/>\n<polygon fill=\"#000000\" stroke=\"#000000\" points=\"5143.7405,-409.6251 5145.1556,-399.1252 5137.5015,-406.4509 5143.7405,-409.6251\"/>\n</g>\n<!-- 280 -->\n<g id=\"node281\" class=\"node\">\n<title>280</title>\n<path fill=\"#ffffff\" stroke=\"#000000\" d=\"M5024,-292C5024,-292 4945,-292 4945,-292 4939,-292 4933,-286 4933,-280 4933,-280 4933,-226 4933,-226 4933,-220 4939,-214 4945,-214 4945,-214 5024,-214 5024,-214 5030,-214 5036,-220 5036,-226 5036,-226 5036,-280 5036,-280 5036,-286 5030,-292 5024,-292\"/>\n<text text-anchor=\"start\" x=\"4941\" y=\"-277.8\" font-family=\"Helvetica,sans-Serif\" font-size=\"14.00\" fill=\"#000000\">Age ≤ 43.141</text>\n<text text-anchor=\"start\" x=\"4955\" y=\"-263.8\" font-family=\"Helvetica,sans-Serif\" font-size=\"14.00\" fill=\"#000000\">gini = 0.5</text>\n<text text-anchor=\"start\" x=\"4945\" y=\"-249.8\" font-family=\"Helvetica,sans-Serif\" font-size=\"14.00\" fill=\"#000000\">samples = 4</text>\n<text text-anchor=\"start\" x=\"4943\" y=\"-235.8\" font-family=\"Helvetica,sans-Serif\" font-size=\"14.00\" fill=\"#000000\">value = [2, 2]</text>\n<text text-anchor=\"start\" x=\"4952\" y=\"-221.8\" font-family=\"Helvetica,sans-Serif\" font-size=\"14.00\" fill=\"#000000\">class = y</text>\n<text text-anchor=\"start\" x=\"5010\" y=\"-221.8\" font-family=\"Helvetica,sans-Serif\" baseline-shift=\"sub\" font-size=\"14.00\" fill=\"#000000\">0</text>\n</g>\n<!-- 279&#45;&gt;280 -->\n<g id=\"edge280\" class=\"edge\">\n<title>279&#45;&gt;280</title>\n<path fill=\"none\" stroke=\"#000000\" d=\"M5023.8514,-327.7677C5019.3731,-319.259 5014.586,-310.1634 5009.9475,-301.3502\"/>\n<polygon fill=\"#000000\" stroke=\"#000000\" points=\"5012.9414,-299.5237 5005.1867,-292.3046 5006.747,-302.784 5012.9414,-299.5237\"/>\n</g>\n<!-- 283 -->\n<g id=\"node284\" class=\"node\">\n<title>283</title>\n<path fill=\"#399de5\" stroke=\"#000000\" d=\"M5141,-285C5141,-285 5066,-285 5066,-285 5060,-285 5054,-279 5054,-273 5054,-273 5054,-233 5054,-233 5054,-227 5060,-221 5066,-221 5066,-221 5141,-221 5141,-221 5147,-221 5153,-227 5153,-233 5153,-233 5153,-273 5153,-273 5153,-279 5147,-285 5141,-285\"/>\n<text text-anchor=\"start\" x=\"5074\" y=\"-270.8\" font-family=\"Helvetica,sans-Serif\" font-size=\"14.00\" fill=\"#000000\">gini = 0.0</text>\n<text text-anchor=\"start\" x=\"5064\" y=\"-256.8\" font-family=\"Helvetica,sans-Serif\" font-size=\"14.00\" fill=\"#000000\">samples = 1</text>\n<text text-anchor=\"start\" x=\"5062\" y=\"-242.8\" font-family=\"Helvetica,sans-Serif\" font-size=\"14.00\" fill=\"#000000\">value = [0, 1]</text>\n<text text-anchor=\"start\" x=\"5071\" y=\"-228.8\" font-family=\"Helvetica,sans-Serif\" font-size=\"14.00\" fill=\"#000000\">class = y</text>\n<text text-anchor=\"start\" x=\"5129\" y=\"-228.8\" font-family=\"Helvetica,sans-Serif\" baseline-shift=\"sub\" font-size=\"14.00\" fill=\"#000000\">1</text>\n</g>\n<!-- 279&#45;&gt;283 -->\n<g id=\"edge283\" class=\"edge\">\n<title>279&#45;&gt;283</title>\n<path fill=\"none\" stroke=\"#000000\" d=\"M5064.8045,-327.7677C5070.4294,-316.8991 5076.55,-305.0729 5082.2285,-294.1009\"/>\n<polygon fill=\"#000000\" stroke=\"#000000\" points=\"5085.3858,-295.615 5086.8738,-285.1252 5079.169,-292.3975 5085.3858,-295.615\"/>\n</g>\n<!-- 281 -->\n<g id=\"node282\" class=\"node\">\n<title>281</title>\n<path fill=\"#ffffff\" stroke=\"#000000\" d=\"M4963,-171C4963,-171 4888,-171 4888,-171 4882,-171 4876,-165 4876,-159 4876,-159 4876,-119 4876,-119 4876,-113 4882,-107 4888,-107 4888,-107 4963,-107 4963,-107 4969,-107 4975,-113 4975,-119 4975,-119 4975,-159 4975,-159 4975,-165 4969,-171 4963,-171\"/>\n<text text-anchor=\"start\" x=\"4896\" y=\"-156.8\" font-family=\"Helvetica,sans-Serif\" font-size=\"14.00\" fill=\"#000000\">gini = 0.5</text>\n<text text-anchor=\"start\" x=\"4886\" y=\"-142.8\" font-family=\"Helvetica,sans-Serif\" font-size=\"14.00\" fill=\"#000000\">samples = 2</text>\n<text text-anchor=\"start\" x=\"4884\" y=\"-128.8\" font-family=\"Helvetica,sans-Serif\" font-size=\"14.00\" fill=\"#000000\">value = [1, 1]</text>\n<text text-anchor=\"start\" x=\"4893\" y=\"-114.8\" font-family=\"Helvetica,sans-Serif\" font-size=\"14.00\" fill=\"#000000\">class = y</text>\n<text text-anchor=\"start\" x=\"4951\" y=\"-114.8\" font-family=\"Helvetica,sans-Serif\" baseline-shift=\"sub\" font-size=\"14.00\" fill=\"#000000\">0</text>\n</g>\n<!-- 280&#45;&gt;281 -->\n<g id=\"edge281\" class=\"edge\">\n<title>280&#45;&gt;281</title>\n<path fill=\"none\" stroke=\"#000000\" d=\"M4964.1955,-213.7677C4958.5706,-202.8991 4952.45,-191.0729 4946.7715,-180.1009\"/>\n<polygon fill=\"#000000\" stroke=\"#000000\" points=\"4949.831,-178.3975 4942.1262,-171.1252 4943.6142,-181.615 4949.831,-178.3975\"/>\n</g>\n<!-- 282 -->\n<g id=\"node283\" class=\"node\">\n<title>282</title>\n<path fill=\"#ffffff\" stroke=\"#000000\" d=\"M5080,-171C5080,-171 5005,-171 5005,-171 4999,-171 4993,-165 4993,-159 4993,-159 4993,-119 4993,-119 4993,-113 4999,-107 5005,-107 5005,-107 5080,-107 5080,-107 5086,-107 5092,-113 5092,-119 5092,-119 5092,-159 5092,-159 5092,-165 5086,-171 5080,-171\"/>\n<text text-anchor=\"start\" x=\"5013\" y=\"-156.8\" font-family=\"Helvetica,sans-Serif\" font-size=\"14.00\" fill=\"#000000\">gini = 0.5</text>\n<text text-anchor=\"start\" x=\"5003\" y=\"-142.8\" font-family=\"Helvetica,sans-Serif\" font-size=\"14.00\" fill=\"#000000\">samples = 2</text>\n<text text-anchor=\"start\" x=\"5001\" y=\"-128.8\" font-family=\"Helvetica,sans-Serif\" font-size=\"14.00\" fill=\"#000000\">value = [1, 1]</text>\n<text text-anchor=\"start\" x=\"5010\" y=\"-114.8\" font-family=\"Helvetica,sans-Serif\" font-size=\"14.00\" fill=\"#000000\">class = y</text>\n<text text-anchor=\"start\" x=\"5068\" y=\"-114.8\" font-family=\"Helvetica,sans-Serif\" baseline-shift=\"sub\" font-size=\"14.00\" fill=\"#000000\">0</text>\n</g>\n<!-- 280&#45;&gt;282 -->\n<g id=\"edge282\" class=\"edge\">\n<title>280&#45;&gt;282</title>\n<path fill=\"none\" stroke=\"#000000\" d=\"M5004.4603,-213.7677C5009.9899,-202.8991 5016.0068,-191.0729 5021.589,-180.1009\"/>\n<polygon fill=\"#000000\" stroke=\"#000000\" points=\"5024.7405,-181.6251 5026.1556,-171.1252 5018.5015,-178.4509 5024.7405,-181.6251\"/>\n</g>\n<!-- 289 -->\n<g id=\"node290\" class=\"node\">\n<title>289</title>\n<path fill=\"#399de5\" stroke=\"#000000\" d=\"M5470,-741C5470,-741 5395,-741 5395,-741 5389,-741 5383,-735 5383,-729 5383,-729 5383,-689 5383,-689 5383,-683 5389,-677 5395,-677 5395,-677 5470,-677 5470,-677 5476,-677 5482,-683 5482,-689 5482,-689 5482,-729 5482,-729 5482,-735 5476,-741 5470,-741\"/>\n<text text-anchor=\"start\" x=\"5403\" y=\"-726.8\" font-family=\"Helvetica,sans-Serif\" font-size=\"14.00\" fill=\"#000000\">gini = 0.0</text>\n<text text-anchor=\"start\" x=\"5393\" y=\"-712.8\" font-family=\"Helvetica,sans-Serif\" font-size=\"14.00\" fill=\"#000000\">samples = 1</text>\n<text text-anchor=\"start\" x=\"5391\" y=\"-698.8\" font-family=\"Helvetica,sans-Serif\" font-size=\"14.00\" fill=\"#000000\">value = [0, 1]</text>\n<text text-anchor=\"start\" x=\"5400\" y=\"-684.8\" font-family=\"Helvetica,sans-Serif\" font-size=\"14.00\" fill=\"#000000\">class = y</text>\n<text text-anchor=\"start\" x=\"5458\" y=\"-684.8\" font-family=\"Helvetica,sans-Serif\" baseline-shift=\"sub\" font-size=\"14.00\" fill=\"#000000\">1</text>\n</g>\n<!-- 288&#45;&gt;289 -->\n<g id=\"edge289\" class=\"edge\">\n<title>288&#45;&gt;289</title>\n<path fill=\"none\" stroke=\"#000000\" d=\"M5432.5,-783.7677C5432.5,-773.3338 5432.5,-762.0174 5432.5,-751.4215\"/>\n<polygon fill=\"#000000\" stroke=\"#000000\" points=\"5436.0001,-751.1252 5432.5,-741.1252 5429.0001,-751.1252 5436.0001,-751.1252\"/>\n</g>\n<!-- 290 -->\n<g id=\"node291\" class=\"node\">\n<title>290</title>\n<path fill=\"#ffffff\" stroke=\"#000000\" d=\"M5591,-748C5591,-748 5512,-748 5512,-748 5506,-748 5500,-742 5500,-736 5500,-736 5500,-682 5500,-682 5500,-676 5506,-670 5512,-670 5512,-670 5591,-670 5591,-670 5597,-670 5603,-676 5603,-682 5603,-682 5603,-736 5603,-736 5603,-742 5597,-748 5591,-748\"/>\n<text text-anchor=\"start\" x=\"5508\" y=\"-733.8\" font-family=\"Helvetica,sans-Serif\" font-size=\"14.00\" fill=\"#000000\">Age ≤ 43.141</text>\n<text text-anchor=\"start\" x=\"5522\" y=\"-719.8\" font-family=\"Helvetica,sans-Serif\" font-size=\"14.00\" fill=\"#000000\">gini = 0.5</text>\n<text text-anchor=\"start\" x=\"5512\" y=\"-705.8\" font-family=\"Helvetica,sans-Serif\" font-size=\"14.00\" fill=\"#000000\">samples = 2</text>\n<text text-anchor=\"start\" x=\"5510\" y=\"-691.8\" font-family=\"Helvetica,sans-Serif\" font-size=\"14.00\" fill=\"#000000\">value = [1, 1]</text>\n<text text-anchor=\"start\" x=\"5519\" y=\"-677.8\" font-family=\"Helvetica,sans-Serif\" font-size=\"14.00\" fill=\"#000000\">class = y</text>\n<text text-anchor=\"start\" x=\"5577\" y=\"-677.8\" font-family=\"Helvetica,sans-Serif\" baseline-shift=\"sub\" font-size=\"14.00\" fill=\"#000000\">0</text>\n</g>\n<!-- 288&#45;&gt;290 -->\n<g id=\"edge290\" class=\"edge\">\n<title>288&#45;&gt;290</title>\n<path fill=\"none\" stroke=\"#000000\" d=\"M5473.453,-783.7677C5482.9894,-774.632 5493.232,-764.8198 5503.0576,-755.407\"/>\n<polygon fill=\"#000000\" stroke=\"#000000\" points=\"5505.6715,-757.7498 5510.4715,-748.3046 5500.8291,-752.695 5505.6715,-757.7498\"/>\n</g>\n<!-- 291 -->\n<g id=\"node292\" class=\"node\">\n<title>291</title>\n<path fill=\"#399de5\" stroke=\"#000000\" d=\"M5504,-627C5504,-627 5429,-627 5429,-627 5423,-627 5417,-621 5417,-615 5417,-615 5417,-575 5417,-575 5417,-569 5423,-563 5429,-563 5429,-563 5504,-563 5504,-563 5510,-563 5516,-569 5516,-575 5516,-575 5516,-615 5516,-615 5516,-621 5510,-627 5504,-627\"/>\n<text text-anchor=\"start\" x=\"5437\" y=\"-612.8\" font-family=\"Helvetica,sans-Serif\" font-size=\"14.00\" fill=\"#000000\">gini = 0.0</text>\n<text text-anchor=\"start\" x=\"5427\" y=\"-598.8\" font-family=\"Helvetica,sans-Serif\" font-size=\"14.00\" fill=\"#000000\">samples = 1</text>\n<text text-anchor=\"start\" x=\"5425\" y=\"-584.8\" font-family=\"Helvetica,sans-Serif\" font-size=\"14.00\" fill=\"#000000\">value = [0, 1]</text>\n<text text-anchor=\"start\" x=\"5434\" y=\"-570.8\" font-family=\"Helvetica,sans-Serif\" font-size=\"14.00\" fill=\"#000000\">class = y</text>\n<text text-anchor=\"start\" x=\"5492\" y=\"-570.8\" font-family=\"Helvetica,sans-Serif\" baseline-shift=\"sub\" font-size=\"14.00\" fill=\"#000000\">1</text>\n</g>\n<!-- 290&#45;&gt;291 -->\n<g id=\"edge291\" class=\"edge\">\n<title>290&#45;&gt;291</title>\n<path fill=\"none\" stroke=\"#000000\" d=\"M5522.2478,-669.7677C5513.982,-658.6817 5504.9733,-646.5994 5496.6554,-635.4436\"/>\n<polygon fill=\"#000000\" stroke=\"#000000\" points=\"5499.2364,-633.0499 5490.453,-627.1252 5493.6246,-637.2342 5499.2364,-633.0499\"/>\n</g>\n<!-- 292 -->\n<g id=\"node293\" class=\"node\">\n<title>292</title>\n<path fill=\"#e58139\" stroke=\"#000000\" d=\"M5621,-627C5621,-627 5546,-627 5546,-627 5540,-627 5534,-621 5534,-615 5534,-615 5534,-575 5534,-575 5534,-569 5540,-563 5546,-563 5546,-563 5621,-563 5621,-563 5627,-563 5633,-569 5633,-575 5633,-575 5633,-615 5633,-615 5633,-621 5627,-627 5621,-627\"/>\n<text text-anchor=\"start\" x=\"5554\" y=\"-612.8\" font-family=\"Helvetica,sans-Serif\" font-size=\"14.00\" fill=\"#000000\">gini = 0.0</text>\n<text text-anchor=\"start\" x=\"5544\" y=\"-598.8\" font-family=\"Helvetica,sans-Serif\" font-size=\"14.00\" fill=\"#000000\">samples = 1</text>\n<text text-anchor=\"start\" x=\"5542\" y=\"-584.8\" font-family=\"Helvetica,sans-Serif\" font-size=\"14.00\" fill=\"#000000\">value = [1, 0]</text>\n<text text-anchor=\"start\" x=\"5551\" y=\"-570.8\" font-family=\"Helvetica,sans-Serif\" font-size=\"14.00\" fill=\"#000000\">class = y</text>\n<text text-anchor=\"start\" x=\"5609\" y=\"-570.8\" font-family=\"Helvetica,sans-Serif\" baseline-shift=\"sub\" font-size=\"14.00\" fill=\"#000000\">0</text>\n</g>\n<!-- 290&#45;&gt;292 -->\n<g id=\"edge292\" class=\"edge\">\n<title>290&#45;&gt;292</title>\n<path fill=\"none\" stroke=\"#000000\" d=\"M5562.5126,-669.7677C5565.5024,-659.1164 5568.7504,-647.5455 5571.7778,-636.7603\"/>\n<polygon fill=\"#000000\" stroke=\"#000000\" points=\"5575.1495,-637.699 5574.4824,-627.1252 5568.41,-635.8072 5575.1495,-637.699\"/>\n</g>\n<!-- 295 -->\n<g id=\"node296\" class=\"node\">\n<title>295</title>\n<path fill=\"#e58139\" stroke=\"#000000\" d=\"M5586,-969C5586,-969 5511,-969 5511,-969 5505,-969 5499,-963 5499,-957 5499,-957 5499,-917 5499,-917 5499,-911 5505,-905 5511,-905 5511,-905 5586,-905 5586,-905 5592,-905 5598,-911 5598,-917 5598,-917 5598,-957 5598,-957 5598,-963 5592,-969 5586,-969\"/>\n<text text-anchor=\"start\" x=\"5519\" y=\"-954.8\" font-family=\"Helvetica,sans-Serif\" font-size=\"14.00\" fill=\"#000000\">gini = 0.0</text>\n<text text-anchor=\"start\" x=\"5509\" y=\"-940.8\" font-family=\"Helvetica,sans-Serif\" font-size=\"14.00\" fill=\"#000000\">samples = 3</text>\n<text text-anchor=\"start\" x=\"5507\" y=\"-926.8\" font-family=\"Helvetica,sans-Serif\" font-size=\"14.00\" fill=\"#000000\">value = [3, 0]</text>\n<text text-anchor=\"start\" x=\"5516\" y=\"-912.8\" font-family=\"Helvetica,sans-Serif\" font-size=\"14.00\" fill=\"#000000\">class = y</text>\n<text text-anchor=\"start\" x=\"5574\" y=\"-912.8\" font-family=\"Helvetica,sans-Serif\" baseline-shift=\"sub\" font-size=\"14.00\" fill=\"#000000\">0</text>\n</g>\n<!-- 294&#45;&gt;295 -->\n<g id=\"edge295\" class=\"edge\">\n<title>294&#45;&gt;295</title>\n<path fill=\"none\" stroke=\"#000000\" d=\"M5548.5,-1011.7677C5548.5,-1001.3338 5548.5,-990.0174 5548.5,-979.4215\"/>\n<polygon fill=\"#000000\" stroke=\"#000000\" points=\"5552.0001,-979.1252 5548.5,-969.1252 5545.0001,-979.1252 5552.0001,-979.1252\"/>\n</g>\n<!-- 296 -->\n<g id=\"node297\" class=\"node\">\n<title>296</title>\n<path fill=\"#ffffff\" stroke=\"#000000\" d=\"M5765,-976C5765,-976 5682,-976 5682,-976 5676,-976 5670,-970 5670,-964 5670,-964 5670,-910 5670,-910 5670,-904 5676,-898 5682,-898 5682,-898 5765,-898 5765,-898 5771,-898 5777,-904 5777,-910 5777,-910 5777,-964 5777,-964 5777,-970 5771,-976 5765,-976\"/>\n<text text-anchor=\"start\" x=\"5678\" y=\"-961.8\" font-family=\"Helvetica,sans-Serif\" font-size=\"14.00\" fill=\"#000000\">Fare ≤ 81.337</text>\n<text text-anchor=\"start\" x=\"5694\" y=\"-947.8\" font-family=\"Helvetica,sans-Serif\" font-size=\"14.00\" fill=\"#000000\">gini = 0.5</text>\n<text text-anchor=\"start\" x=\"5679.5\" y=\"-933.8\" font-family=\"Helvetica,sans-Serif\" font-size=\"14.00\" fill=\"#000000\">samples = 12</text>\n<text text-anchor=\"start\" x=\"5682\" y=\"-919.8\" font-family=\"Helvetica,sans-Serif\" font-size=\"14.00\" fill=\"#000000\">value = [6, 6]</text>\n<text text-anchor=\"start\" x=\"5691\" y=\"-905.8\" font-family=\"Helvetica,sans-Serif\" font-size=\"14.00\" fill=\"#000000\">class = y</text>\n<text text-anchor=\"start\" x=\"5749\" y=\"-905.8\" font-family=\"Helvetica,sans-Serif\" baseline-shift=\"sub\" font-size=\"14.00\" fill=\"#000000\">0</text>\n</g>\n<!-- 294&#45;&gt;296 -->\n<g id=\"edge296\" class=\"edge\">\n<title>294&#45;&gt;296</title>\n<path fill=\"none\" stroke=\"#000000\" d=\"M5600.532,-1017.1049C5619.6623,-1004.6428 5641.5154,-990.4071 5661.4408,-977.4271\"/>\n<polygon fill=\"#000000\" stroke=\"#000000\" points=\"5663.3802,-980.341 5669.8487,-971.95 5659.5593,-974.4757 5663.3802,-980.341\"/>\n</g>\n<!-- 297 -->\n<g id=\"node298\" class=\"node\">\n<title>297</title>\n<path fill=\"#88c4ef\" stroke=\"#000000\" d=\"M5771,-862C5771,-862 5676,-862 5676,-862 5670,-862 5664,-856 5664,-850 5664,-850 5664,-796 5664,-796 5664,-790 5670,-784 5676,-784 5676,-784 5771,-784 5771,-784 5777,-784 5783,-790 5783,-796 5783,-796 5783,-850 5783,-850 5783,-856 5777,-862 5771,-862\"/>\n<text text-anchor=\"start\" x=\"5672\" y=\"-847.8\" font-family=\"Helvetica,sans-Serif\" font-size=\"14.00\" fill=\"#000000\">Embarked ≤ 1.0</text>\n<text text-anchor=\"start\" x=\"5685.5\" y=\"-833.8\" font-family=\"Helvetica,sans-Serif\" font-size=\"14.00\" fill=\"#000000\">gini = 0.408</text>\n<text text-anchor=\"start\" x=\"5684\" y=\"-819.8\" font-family=\"Helvetica,sans-Serif\" font-size=\"14.00\" fill=\"#000000\">samples = 7</text>\n<text text-anchor=\"start\" x=\"5682\" y=\"-805.8\" font-family=\"Helvetica,sans-Serif\" font-size=\"14.00\" fill=\"#000000\">value = [2, 5]</text>\n<text text-anchor=\"start\" x=\"5691\" y=\"-791.8\" font-family=\"Helvetica,sans-Serif\" font-size=\"14.00\" fill=\"#000000\">class = y</text>\n<text text-anchor=\"start\" x=\"5749\" y=\"-791.8\" font-family=\"Helvetica,sans-Serif\" baseline-shift=\"sub\" font-size=\"14.00\" fill=\"#000000\">1</text>\n</g>\n<!-- 296&#45;&gt;297 -->\n<g id=\"edge297\" class=\"edge\">\n<title>296&#45;&gt;297</title>\n<path fill=\"none\" stroke=\"#000000\" d=\"M5723.5,-897.7677C5723.5,-889.6172 5723.5,-880.9283 5723.5,-872.4649\"/>\n<polygon fill=\"#000000\" stroke=\"#000000\" points=\"5727.0001,-872.3046 5723.5,-862.3046 5720.0001,-872.3047 5727.0001,-872.3046\"/>\n</g>\n<!-- 302 -->\n<g id=\"node303\" class=\"node\">\n<title>302</title>\n<path fill=\"#eca06a\" stroke=\"#000000\" d=\"M5958,-862C5958,-862 5867,-862 5867,-862 5861,-862 5855,-856 5855,-850 5855,-850 5855,-796 5855,-796 5855,-790 5861,-784 5867,-784 5867,-784 5958,-784 5958,-784 5964,-784 5970,-790 5970,-796 5970,-796 5970,-850 5970,-850 5970,-856 5964,-862 5958,-862\"/>\n<text text-anchor=\"start\" x=\"5863\" y=\"-847.8\" font-family=\"Helvetica,sans-Serif\" font-size=\"14.00\" fill=\"#000000\">Fare ≤ 122.267</text>\n<text text-anchor=\"start\" x=\"5879\" y=\"-833.8\" font-family=\"Helvetica,sans-Serif\" font-size=\"14.00\" fill=\"#000000\">gini = 0.32</text>\n<text text-anchor=\"start\" x=\"5873\" y=\"-819.8\" font-family=\"Helvetica,sans-Serif\" font-size=\"14.00\" fill=\"#000000\">samples = 5</text>\n<text text-anchor=\"start\" x=\"5871\" y=\"-805.8\" font-family=\"Helvetica,sans-Serif\" font-size=\"14.00\" fill=\"#000000\">value = [4, 1]</text>\n<text text-anchor=\"start\" x=\"5880\" y=\"-791.8\" font-family=\"Helvetica,sans-Serif\" font-size=\"14.00\" fill=\"#000000\">class = y</text>\n<text text-anchor=\"start\" x=\"5938\" y=\"-791.8\" font-family=\"Helvetica,sans-Serif\" baseline-shift=\"sub\" font-size=\"14.00\" fill=\"#000000\">0</text>\n</g>\n<!-- 296&#45;&gt;302 -->\n<g id=\"edge302\" class=\"edge\">\n<title>296&#45;&gt;302</title>\n<path fill=\"none\" stroke=\"#000000\" d=\"M5777.1543,-904.6371C5798.5429,-891.7361 5823.3882,-876.7499 5845.9101,-863.1653\"/>\n<polygon fill=\"#000000\" stroke=\"#000000\" points=\"5847.9875,-865.9998 5854.7427,-857.8377 5844.372,-860.0057 5847.9875,-865.9998\"/>\n</g>\n<!-- 298 -->\n<g id=\"node299\" class=\"node\">\n<title>298</title>\n<path fill=\"#399de5\" stroke=\"#000000\" d=\"M5708,-741C5708,-741 5633,-741 5633,-741 5627,-741 5621,-735 5621,-729 5621,-729 5621,-689 5621,-689 5621,-683 5627,-677 5633,-677 5633,-677 5708,-677 5708,-677 5714,-677 5720,-683 5720,-689 5720,-689 5720,-729 5720,-729 5720,-735 5714,-741 5708,-741\"/>\n<text text-anchor=\"start\" x=\"5641\" y=\"-726.8\" font-family=\"Helvetica,sans-Serif\" font-size=\"14.00\" fill=\"#000000\">gini = 0.0</text>\n<text text-anchor=\"start\" x=\"5631\" y=\"-712.8\" font-family=\"Helvetica,sans-Serif\" font-size=\"14.00\" fill=\"#000000\">samples = 3</text>\n<text text-anchor=\"start\" x=\"5629\" y=\"-698.8\" font-family=\"Helvetica,sans-Serif\" font-size=\"14.00\" fill=\"#000000\">value = [0, 3]</text>\n<text text-anchor=\"start\" x=\"5638\" y=\"-684.8\" font-family=\"Helvetica,sans-Serif\" font-size=\"14.00\" fill=\"#000000\">class = y</text>\n<text text-anchor=\"start\" x=\"5696\" y=\"-684.8\" font-family=\"Helvetica,sans-Serif\" baseline-shift=\"sub\" font-size=\"14.00\" fill=\"#000000\">1</text>\n</g>\n<!-- 297&#45;&gt;298 -->\n<g id=\"edge298\" class=\"edge\">\n<title>297&#45;&gt;298</title>\n<path fill=\"none\" stroke=\"#000000\" d=\"M5705.2604,-783.7677C5700.258,-773.0078 5694.8192,-761.3093 5689.7615,-750.4303\"/>\n<polygon fill=\"#000000\" stroke=\"#000000\" points=\"5692.825,-748.7176 5685.4354,-741.1252 5686.4775,-751.6687 5692.825,-748.7176\"/>\n</g>\n<!-- 299 -->\n<g id=\"node300\" class=\"node\">\n<title>299</title>\n<path fill=\"#ffffff\" stroke=\"#000000\" d=\"M5833,-748C5833,-748 5750,-748 5750,-748 5744,-748 5738,-742 5738,-736 5738,-736 5738,-682 5738,-682 5738,-676 5744,-670 5750,-670 5750,-670 5833,-670 5833,-670 5839,-670 5845,-676 5845,-682 5845,-682 5845,-736 5845,-736 5845,-742 5839,-748 5833,-748\"/>\n<text text-anchor=\"start\" x=\"5746\" y=\"-733.8\" font-family=\"Helvetica,sans-Serif\" font-size=\"14.00\" fill=\"#000000\">Fare ≤ 54.227</text>\n<text text-anchor=\"start\" x=\"5762\" y=\"-719.8\" font-family=\"Helvetica,sans-Serif\" font-size=\"14.00\" fill=\"#000000\">gini = 0.5</text>\n<text text-anchor=\"start\" x=\"5752\" y=\"-705.8\" font-family=\"Helvetica,sans-Serif\" font-size=\"14.00\" fill=\"#000000\">samples = 4</text>\n<text text-anchor=\"start\" x=\"5750\" y=\"-691.8\" font-family=\"Helvetica,sans-Serif\" font-size=\"14.00\" fill=\"#000000\">value = [2, 2]</text>\n<text text-anchor=\"start\" x=\"5759\" y=\"-677.8\" font-family=\"Helvetica,sans-Serif\" font-size=\"14.00\" fill=\"#000000\">class = y</text>\n<text text-anchor=\"start\" x=\"5817\" y=\"-677.8\" font-family=\"Helvetica,sans-Serif\" baseline-shift=\"sub\" font-size=\"14.00\" fill=\"#000000\">0</text>\n</g>\n<!-- 297&#45;&gt;299 -->\n<g id=\"edge299\" class=\"edge\">\n<title>297&#45;&gt;299</title>\n<path fill=\"none\" stroke=\"#000000\" d=\"M5746.9017,-783.7677C5752.0305,-775.1694 5757.5168,-765.9718 5762.8255,-757.072\"/>\n<polygon fill=\"#000000\" stroke=\"#000000\" points=\"5765.9382,-758.6858 5768.0551,-748.3046 5759.9264,-755.0999 5765.9382,-758.6858\"/>\n</g>\n<!-- 300 -->\n<g id=\"node301\" class=\"node\">\n<title>300</title>\n<path fill=\"#399de5\" stroke=\"#000000\" d=\"M5770,-627C5770,-627 5695,-627 5695,-627 5689,-627 5683,-621 5683,-615 5683,-615 5683,-575 5683,-575 5683,-569 5689,-563 5695,-563 5695,-563 5770,-563 5770,-563 5776,-563 5782,-569 5782,-575 5782,-575 5782,-615 5782,-615 5782,-621 5776,-627 5770,-627\"/>\n<text text-anchor=\"start\" x=\"5703\" y=\"-612.8\" font-family=\"Helvetica,sans-Serif\" font-size=\"14.00\" fill=\"#000000\">gini = 0.0</text>\n<text text-anchor=\"start\" x=\"5693\" y=\"-598.8\" font-family=\"Helvetica,sans-Serif\" font-size=\"14.00\" fill=\"#000000\">samples = 2</text>\n<text text-anchor=\"start\" x=\"5691\" y=\"-584.8\" font-family=\"Helvetica,sans-Serif\" font-size=\"14.00\" fill=\"#000000\">value = [0, 2]</text>\n<text text-anchor=\"start\" x=\"5700\" y=\"-570.8\" font-family=\"Helvetica,sans-Serif\" font-size=\"14.00\" fill=\"#000000\">class = y</text>\n<text text-anchor=\"start\" x=\"5758\" y=\"-570.8\" font-family=\"Helvetica,sans-Serif\" baseline-shift=\"sub\" font-size=\"14.00\" fill=\"#000000\">1</text>\n</g>\n<!-- 299&#45;&gt;300 -->\n<g id=\"edge300\" class=\"edge\">\n<title>299&#45;&gt;300</title>\n<path fill=\"none\" stroke=\"#000000\" d=\"M5771.1955,-669.7677C5765.5706,-658.8991 5759.45,-647.0729 5753.7715,-636.1009\"/>\n<polygon fill=\"#000000\" stroke=\"#000000\" points=\"5756.831,-634.3975 5749.1262,-627.1252 5750.6142,-637.615 5756.831,-634.3975\"/>\n</g>\n<!-- 301 -->\n<g id=\"node302\" class=\"node\">\n<title>301</title>\n<path fill=\"#e58139\" stroke=\"#000000\" d=\"M5887,-627C5887,-627 5812,-627 5812,-627 5806,-627 5800,-621 5800,-615 5800,-615 5800,-575 5800,-575 5800,-569 5806,-563 5812,-563 5812,-563 5887,-563 5887,-563 5893,-563 5899,-569 5899,-575 5899,-575 5899,-615 5899,-615 5899,-621 5893,-627 5887,-627\"/>\n<text text-anchor=\"start\" x=\"5820\" y=\"-612.8\" font-family=\"Helvetica,sans-Serif\" font-size=\"14.00\" fill=\"#000000\">gini = 0.0</text>\n<text text-anchor=\"start\" x=\"5810\" y=\"-598.8\" font-family=\"Helvetica,sans-Serif\" font-size=\"14.00\" fill=\"#000000\">samples = 2</text>\n<text text-anchor=\"start\" x=\"5808\" y=\"-584.8\" font-family=\"Helvetica,sans-Serif\" font-size=\"14.00\" fill=\"#000000\">value = [2, 0]</text>\n<text text-anchor=\"start\" x=\"5817\" y=\"-570.8\" font-family=\"Helvetica,sans-Serif\" font-size=\"14.00\" fill=\"#000000\">class = y</text>\n<text text-anchor=\"start\" x=\"5875\" y=\"-570.8\" font-family=\"Helvetica,sans-Serif\" baseline-shift=\"sub\" font-size=\"14.00\" fill=\"#000000\">0</text>\n</g>\n<!-- 299&#45;&gt;301 -->\n<g id=\"edge301\" class=\"edge\">\n<title>299&#45;&gt;301</title>\n<path fill=\"none\" stroke=\"#000000\" d=\"M5811.4603,-669.7677C5816.9899,-658.8991 5823.0068,-647.0729 5828.589,-636.1009\"/>\n<polygon fill=\"#000000\" stroke=\"#000000\" points=\"5831.7405,-637.6251 5833.1556,-627.1252 5825.5015,-634.4509 5831.7405,-637.6251\"/>\n</g>\n<!-- 303 -->\n<g id=\"node304\" class=\"node\">\n<title>303</title>\n<path fill=\"#e58139\" stroke=\"#000000\" d=\"M5950,-741C5950,-741 5875,-741 5875,-741 5869,-741 5863,-735 5863,-729 5863,-729 5863,-689 5863,-689 5863,-683 5869,-677 5875,-677 5875,-677 5950,-677 5950,-677 5956,-677 5962,-683 5962,-689 5962,-689 5962,-729 5962,-729 5962,-735 5956,-741 5950,-741\"/>\n<text text-anchor=\"start\" x=\"5883\" y=\"-726.8\" font-family=\"Helvetica,sans-Serif\" font-size=\"14.00\" fill=\"#000000\">gini = 0.0</text>\n<text text-anchor=\"start\" x=\"5873\" y=\"-712.8\" font-family=\"Helvetica,sans-Serif\" font-size=\"14.00\" fill=\"#000000\">samples = 4</text>\n<text text-anchor=\"start\" x=\"5871\" y=\"-698.8\" font-family=\"Helvetica,sans-Serif\" font-size=\"14.00\" fill=\"#000000\">value = [4, 0]</text>\n<text text-anchor=\"start\" x=\"5880\" y=\"-684.8\" font-family=\"Helvetica,sans-Serif\" font-size=\"14.00\" fill=\"#000000\">class = y</text>\n<text text-anchor=\"start\" x=\"5938\" y=\"-684.8\" font-family=\"Helvetica,sans-Serif\" baseline-shift=\"sub\" font-size=\"14.00\" fill=\"#000000\">0</text>\n</g>\n<!-- 302&#45;&gt;303 -->\n<g id=\"edge303\" class=\"edge\">\n<title>302&#45;&gt;303</title>\n<path fill=\"none\" stroke=\"#000000\" d=\"M5912.5,-783.7677C5912.5,-773.3338 5912.5,-762.0174 5912.5,-751.4215\"/>\n<polygon fill=\"#000000\" stroke=\"#000000\" points=\"5916.0001,-751.1252 5912.5,-741.1252 5909.0001,-751.1252 5916.0001,-751.1252\"/>\n</g>\n<!-- 304 -->\n<g id=\"node305\" class=\"node\">\n<title>304</title>\n<path fill=\"#399de5\" stroke=\"#000000\" d=\"M6067,-741C6067,-741 5992,-741 5992,-741 5986,-741 5980,-735 5980,-729 5980,-729 5980,-689 5980,-689 5980,-683 5986,-677 5992,-677 5992,-677 6067,-677 6067,-677 6073,-677 6079,-683 6079,-689 6079,-689 6079,-729 6079,-729 6079,-735 6073,-741 6067,-741\"/>\n<text text-anchor=\"start\" x=\"6000\" y=\"-726.8\" font-family=\"Helvetica,sans-Serif\" font-size=\"14.00\" fill=\"#000000\">gini = 0.0</text>\n<text text-anchor=\"start\" x=\"5990\" y=\"-712.8\" font-family=\"Helvetica,sans-Serif\" font-size=\"14.00\" fill=\"#000000\">samples = 1</text>\n<text text-anchor=\"start\" x=\"5988\" y=\"-698.8\" font-family=\"Helvetica,sans-Serif\" font-size=\"14.00\" fill=\"#000000\">value = [0, 1]</text>\n<text text-anchor=\"start\" x=\"5997\" y=\"-684.8\" font-family=\"Helvetica,sans-Serif\" font-size=\"14.00\" fill=\"#000000\">class = y</text>\n<text text-anchor=\"start\" x=\"6055\" y=\"-684.8\" font-family=\"Helvetica,sans-Serif\" baseline-shift=\"sub\" font-size=\"14.00\" fill=\"#000000\">1</text>\n</g>\n<!-- 302&#45;&gt;304 -->\n<g id=\"edge304\" class=\"edge\">\n<title>302&#45;&gt;304</title>\n<path fill=\"none\" stroke=\"#000000\" d=\"M5952.7648,-783.7677C5964.5887,-772.247 5977.5168,-759.6503 5989.3345,-748.1356\"/>\n<polygon fill=\"#000000\" stroke=\"#000000\" points=\"5991.8096,-750.6107 5996.5294,-741.1252 5986.9245,-745.5971 5991.8096,-750.6107\"/>\n</g>\n</g>\n</svg>\n"
          },
          "metadata": {
            "tags": []
          }
        }
      ]
    },
    {
      "cell_type": "markdown",
      "metadata": {
        "id": "2DkMsZsCRd9B",
        "colab_type": "text"
      },
      "source": [
        "# Desafio\n",
        "\n",
        "Compare o resultado da árvore de decisão com o KNN não normalizado. Aproveite e normalize o conjunto de dados, e depois rode o KNN novamente."
      ]
    },
    {
      "cell_type": "markdown",
      "metadata": {
        "id": "XIQ4vr0lHJ6P",
        "colab_type": "text"
      },
      "source": [
        "# Esse resultado faz sentido? Ele é bom?\n",
        "\n",
        "Quando estamos mexendo com classes binárias, qualquer resultado abaixo de 50% é horrível. Pense que você precise prever se uma moeda jogada vai cair em cara ou coroa. Se você sempre chutar que vai cair coroa, após suficientes lançamentos você vai acertar em média 50%\n",
        "\n",
        "No caso do Titanic, porém, há alguns truques. As classes não estão distribuídas uniformemente. A maioria das pessoas morreu no acidente, o que significa que se chutarmos que todas as pessoas morreram, teremos uma taxa de acerto maior que 50%!! Vamos ver quanto seria essa taxa:"
      ]
    },
    {
      "cell_type": "code",
      "metadata": {
        "id": "1jVUiWHvNh4l",
        "colab_type": "code",
        "outputId": "65b53c23-9660-434e-f450-1b6b04b7ae8f",
        "colab": {
          "base_uri": "https://localhost:8080/",
          "height": 34
        }
      },
      "source": [
        "# y é o nosso target. y.value_counts()[0] é o número de mortos e [1] o de sobreviventes\n",
        "y.value_counts()[0] / (y.value_counts()[0] + y.value_counts()[1])"
      ],
      "execution_count": 37,
      "outputs": [
        {
          "output_type": "execute_result",
          "data": {
            "text/plain": [
              "0.6161616161616161"
            ]
          },
          "metadata": {
            "tags": []
          },
          "execution_count": 37
        }
      ]
    },
    {
      "cell_type": "markdown",
      "metadata": {
        "id": "UoIxb1oYI5LO",
        "colab_type": "text"
      },
      "source": [
        "Isso mostra que se simplesmente prevermos que todos morreram, vamos acertar 61.6% das vezes. Por isso, qualquer resultado pior que 62% no nosso modelo é um péssimo modelo.\n",
        "\n",
        "Outro truque é dizer que se o sexo da pessoa é mulher, ela sobreviveu. Caso contrário, ela morreu. Vamos ver qual taxa de acerto isso nos dá"
      ]
    },
    {
      "cell_type": "code",
      "metadata": {
        "id": "5Qt0M-mQIeAW",
        "colab_type": "code",
        "colab": {}
      },
      "source": [
        "mulheres = df[df.Sex == 0]\n",
        "homens = df[df.Sex == 1]"
      ],
      "execution_count": 0,
      "outputs": []
    },
    {
      "cell_type": "code",
      "metadata": {
        "id": "UfesxQ5pJkqj",
        "colab_type": "code",
        "outputId": "117c1b4b-3c32-4c09-9bbb-882ee675b433",
        "colab": {
          "base_uri": "https://localhost:8080/",
          "height": 156
        }
      },
      "source": [
        "print(\"Mulheres: \\n\", mulheres.Survived.value_counts())\n",
        "print(\"Homens: \\n\", homens.Survived.value_counts())"
      ],
      "execution_count": 39,
      "outputs": [
        {
          "output_type": "stream",
          "text": [
            "Mulheres: \n",
            " 1    233\n",
            "0     81\n",
            "Name: Survived, dtype: int64\n",
            "Homens: \n",
            " 0    468\n",
            "1    109\n",
            "Name: Survived, dtype: int64\n"
          ],
          "name": "stdout"
        }
      ]
    },
    {
      "cell_type": "code",
      "metadata": {
        "id": "boz8xLlzKRj7",
        "colab_type": "code",
        "outputId": "f76d7c7b-a9c4-4a7d-f66d-b001a1ee6203",
        "colab": {
          "base_uri": "https://localhost:8080/",
          "height": 52
        }
      },
      "source": [
        "print(\"Mulheres: \", mulheres.Survived.value_counts()[1] / (mulheres.Survived.value_counts()[0] + mulheres.Survived.value_counts()[1]))\n",
        "print(\"Homens: \", homens.Survived.value_counts()[0] / (homens.Survived.value_counts()[1] + homens.Survived.value_counts()[0]))"
      ],
      "execution_count": 40,
      "outputs": [
        {
          "output_type": "stream",
          "text": [
            "Mulheres:  0.7420382165605095\n",
            "Homens:  0.8110918544194108\n"
          ],
          "name": "stdout"
        }
      ]
    },
    {
      "cell_type": "code",
      "metadata": {
        "id": "8Fm3Jc2iKxBx",
        "colab_type": "code",
        "outputId": "5c81d9b8-777f-4285-b412-b2e1b78c489b",
        "colab": {
          "base_uri": "https://localhost:8080/",
          "height": 34
        }
      },
      "source": [
        "resultado = df.apply(lambda x: 0 if x.Sex == 1 else 1, axis=1)\n",
        "accuracy_score(df['Survived'], resultado)"
      ],
      "execution_count": 41,
      "outputs": [
        {
          "output_type": "execute_result",
          "data": {
            "text/plain": [
              "0.7867564534231201"
            ]
          },
          "metadata": {
            "tags": []
          },
          "execution_count": 41
        }
      ]
    },
    {
      "cell_type": "markdown",
      "metadata": {
        "id": "jVSyBCreMcYi",
        "colab_type": "text"
      },
      "source": [
        "Isso significa que com uma simples verificação do sexo do passageiro, conseguimos prever com 78.6% de acurácia se ele sobreviveria ou não. Portanto, qualquer modelo que seja pior que isso não serve (lembre-se que estamos roubando um pouco aqui, pois estamos testando conjuntos diferentes da árvore de decisão que treinamos agora pouco)\n",
        "\n",
        "# Desafio\n",
        "\n",
        "Repita o processo que acabamos de fazer, mas usando o X_test e y_test para comparar com a árvore de decisão que treinamos com o Sklearn"
      ]
    },
    {
      "cell_type": "code",
      "metadata": {
        "id": "_sTV6sD6Lc5s",
        "colab_type": "code",
        "colab": {}
      },
      "source": [
        ""
      ],
      "execution_count": 0,
      "outputs": []
    },
    {
      "cell_type": "markdown",
      "metadata": {
        "id": "R1-tZORkOFKD",
        "colab_type": "text"
      },
      "source": [
        "# Como melhorar ainda mais?\n",
        "\n",
        "A primeira abordagem para melhorar nossa árvore é mexer nos parâmetros do nosso modelo. Olhe a documentação do [DecisionTreeClassifier](https://scikit-learn.org/stable/modules/generated/sklearn.tree.DecisionTreeClassifier.html#sklearn.tree.DecisionTreeClassifier)\n",
        "\n",
        "Veja quantas opções temos! Por onde sequer começar???\n",
        "\n",
        "Para nossa alegria, o Sklearn tem ferramentas para testarmos diversas configurações diferentes e escolhermos a melhor possível. Vamos ver como fazer:"
      ]
    },
    {
      "cell_type": "code",
      "metadata": {
        "id": "uVPzRCInZ4js",
        "colab_type": "code",
        "outputId": "1c3fcfe7-8603-482a-ee47-4b9ea8e29e62",
        "colab": {
          "base_uri": "https://localhost:8080/",
          "height": 419
        }
      },
      "source": [
        "# Cuidado isso pode demorar muito para rodar. Espere uns minutos para completar ou mude os valores dos parâmetros\n",
        "\n",
        "# Primeiro vamos escolher quais parâmetros testar\n",
        "parameters = {'max_depth': np.arange(1, 20, 1), \n",
        "              'min_samples_split': np.arange(2, 20, 1), \n",
        "              'min_samples_leaf': np.arange(1, 5, 1)}\n",
        "\n",
        "# Agora a mágica do GridSearch\n",
        "tree = DecisionTreeClassifier(random_state=42).fit(X_train, y_train)\n",
        "clf = GridSearchCV(tree, parameters, cv=10,scoring='balanced_accuracy')\n",
        "clf.fit(X_train, y_train)\n"
      ],
      "execution_count": 42,
      "outputs": [
        {
          "output_type": "stream",
          "text": [
            "/usr/local/lib/python3.6/dist-packages/sklearn/model_selection/_search.py:814: DeprecationWarning: The default of the `iid` parameter will change from True to False in version 0.22 and will be removed in 0.24. This will change numeric results when test-set sizes are unequal.\n",
            "  DeprecationWarning)\n"
          ],
          "name": "stderr"
        },
        {
          "output_type": "execute_result",
          "data": {
            "text/plain": [
              "GridSearchCV(cv=10, error_score='raise-deprecating',\n",
              "             estimator=DecisionTreeClassifier(class_weight=None,\n",
              "                                              criterion='gini', max_depth=None,\n",
              "                                              max_features=None,\n",
              "                                              max_leaf_nodes=None,\n",
              "                                              min_impurity_decrease=0.0,\n",
              "                                              min_impurity_split=None,\n",
              "                                              min_samples_leaf=1,\n",
              "                                              min_samples_split=2,\n",
              "                                              min_weight_fraction_leaf=0.0,\n",
              "                                              presort=False, random_state=42,\n",
              "                                              splitter='best'),\n",
              "             iid='warn', n_jobs=None,\n",
              "             param_grid={'max_depth': array([ 1,  2,  3,  4,  5,  6,  7,  8,  9, 10, 11, 12, 13, 14, 15, 16, 17,\n",
              "       18, 19]),\n",
              "                         'min_samples_leaf': array([1, 2, 3, 4]),\n",
              "                         'min_samples_split': array([ 2,  3,  4,  5,  6,  7,  8,  9, 10, 11, 12, 13, 14, 15, 16, 17, 18,\n",
              "       19])},\n",
              "             pre_dispatch='2*n_jobs', refit=True, return_train_score=False,\n",
              "             scoring='balanced_accuracy', verbose=0)"
            ]
          },
          "metadata": {
            "tags": []
          },
          "execution_count": 42
        }
      ]
    },
    {
      "cell_type": "code",
      "metadata": {
        "id": "JdbP6H1-afJy",
        "colab_type": "code",
        "outputId": "0ed29a90-8f68-4e4e-e779-1293716d94bd",
        "colab": {
          "base_uri": "https://localhost:8080/",
          "height": 52
        }
      },
      "source": [
        "print(clf.best_score_,clf.best_params_)\n",
        "print(\"Accuracy:\",accuracy_score(y_test, clf.predict(X_test)))"
      ],
      "execution_count": 43,
      "outputs": [
        {
          "output_type": "stream",
          "text": [
            "0.7877145378247742 {'max_depth': 7, 'min_samples_leaf': 1, 'min_samples_split': 5}\n",
            "Accuracy: 0.7877094972067039\n"
          ],
          "name": "stdout"
        }
      ]
    },
    {
      "cell_type": "code",
      "metadata": {
        "id": "nYXsTLERagQn",
        "colab_type": "code",
        "colab": {}
      },
      "source": [
        ""
      ],
      "execution_count": 0,
      "outputs": []
    }
  ]
}